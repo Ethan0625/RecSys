{
  "nbformat": 4,
  "nbformat_minor": 0,
  "metadata": {
    "colab": {
      "name": "9_Mult-VAE.ipynb",
      "provenance": [],
      "collapsed_sections": [],
      "authorship_tag": "ABX9TyN3KfL+UzzcNoXPSqfmxyDA",
      "include_colab_link": true
    },
    "kernelspec": {
      "name": "python3",
      "display_name": "Python 3"
    },
    "accelerator": "GPU",
    "widgets": {
      "application/vnd.jupyter.widget-state+json": {
        "ca23871c2a014b90af0ce28ffe091b68": {
          "model_module": "@jupyter-widgets/controls",
          "model_name": "HBoxModel",
          "state": {
            "_view_name": "HBoxView",
            "_dom_classes": [],
            "_model_name": "HBoxModel",
            "_view_module": "@jupyter-widgets/controls",
            "_model_module_version": "1.5.0",
            "_view_count": null,
            "_view_module_version": "1.5.0",
            "box_style": "",
            "layout": "IPY_MODEL_8611ca1639fa49e5a3327e91915c9d1a",
            "_model_module": "@jupyter-widgets/controls",
            "children": [
              "IPY_MODEL_68109c3e2de747acbd90b0d29599583f",
              "IPY_MODEL_a7cbd31015cd448ebdf1f6873abfa534"
            ]
          }
        },
        "8611ca1639fa49e5a3327e91915c9d1a": {
          "model_module": "@jupyter-widgets/base",
          "model_name": "LayoutModel",
          "state": {
            "_view_name": "LayoutView",
            "grid_template_rows": null,
            "right": null,
            "justify_content": null,
            "_view_module": "@jupyter-widgets/base",
            "overflow": null,
            "_model_module_version": "1.2.0",
            "_view_count": null,
            "flex_flow": null,
            "width": null,
            "min_width": null,
            "border": null,
            "align_items": null,
            "bottom": null,
            "_model_module": "@jupyter-widgets/base",
            "top": null,
            "grid_column": null,
            "overflow_y": null,
            "overflow_x": null,
            "grid_auto_flow": null,
            "grid_area": null,
            "grid_template_columns": null,
            "flex": null,
            "_model_name": "LayoutModel",
            "justify_items": null,
            "grid_row": null,
            "max_height": null,
            "align_content": null,
            "visibility": null,
            "align_self": null,
            "height": null,
            "min_height": null,
            "padding": null,
            "grid_auto_rows": null,
            "grid_gap": null,
            "max_width": null,
            "order": null,
            "_view_module_version": "1.2.0",
            "grid_template_areas": null,
            "object_position": null,
            "object_fit": null,
            "grid_auto_columns": null,
            "margin": null,
            "display": null,
            "left": null
          }
        },
        "68109c3e2de747acbd90b0d29599583f": {
          "model_module": "@jupyter-widgets/controls",
          "model_name": "FloatProgressModel",
          "state": {
            "_view_name": "ProgressView",
            "style": "IPY_MODEL_3dde720576e04e0fb12e75a5efb25e42",
            "_dom_classes": [],
            "description": "100%",
            "_model_name": "FloatProgressModel",
            "bar_style": "success",
            "max": 604,
            "_view_module": "@jupyter-widgets/controls",
            "_model_module_version": "1.5.0",
            "value": 604,
            "_view_count": null,
            "_view_module_version": "1.5.0",
            "orientation": "horizontal",
            "min": 0,
            "description_tooltip": null,
            "_model_module": "@jupyter-widgets/controls",
            "layout": "IPY_MODEL_46fcef68c03c4ac9bb77142f63b71c8a"
          }
        },
        "a7cbd31015cd448ebdf1f6873abfa534": {
          "model_module": "@jupyter-widgets/controls",
          "model_name": "HTMLModel",
          "state": {
            "_view_name": "HTMLView",
            "style": "IPY_MODEL_468fa0e1aa5346c587289772b25ad68e",
            "_dom_classes": [],
            "description": "",
            "_model_name": "HTMLModel",
            "placeholder": "​",
            "_view_module": "@jupyter-widgets/controls",
            "_model_module_version": "1.5.0",
            "value": " 604/604 [00:01&lt;00:00, 578.63it/s]",
            "_view_count": null,
            "_view_module_version": "1.5.0",
            "description_tooltip": null,
            "_model_module": "@jupyter-widgets/controls",
            "layout": "IPY_MODEL_932eaaf431164a99a4bf39ef67bc9d60"
          }
        },
        "3dde720576e04e0fb12e75a5efb25e42": {
          "model_module": "@jupyter-widgets/controls",
          "model_name": "ProgressStyleModel",
          "state": {
            "_view_name": "StyleView",
            "_model_name": "ProgressStyleModel",
            "description_width": "initial",
            "_view_module": "@jupyter-widgets/base",
            "_model_module_version": "1.5.0",
            "_view_count": null,
            "_view_module_version": "1.2.0",
            "bar_color": null,
            "_model_module": "@jupyter-widgets/controls"
          }
        },
        "46fcef68c03c4ac9bb77142f63b71c8a": {
          "model_module": "@jupyter-widgets/base",
          "model_name": "LayoutModel",
          "state": {
            "_view_name": "LayoutView",
            "grid_template_rows": null,
            "right": null,
            "justify_content": null,
            "_view_module": "@jupyter-widgets/base",
            "overflow": null,
            "_model_module_version": "1.2.0",
            "_view_count": null,
            "flex_flow": null,
            "width": null,
            "min_width": null,
            "border": null,
            "align_items": null,
            "bottom": null,
            "_model_module": "@jupyter-widgets/base",
            "top": null,
            "grid_column": null,
            "overflow_y": null,
            "overflow_x": null,
            "grid_auto_flow": null,
            "grid_area": null,
            "grid_template_columns": null,
            "flex": null,
            "_model_name": "LayoutModel",
            "justify_items": null,
            "grid_row": null,
            "max_height": null,
            "align_content": null,
            "visibility": null,
            "align_self": null,
            "height": null,
            "min_height": null,
            "padding": null,
            "grid_auto_rows": null,
            "grid_gap": null,
            "max_width": null,
            "order": null,
            "_view_module_version": "1.2.0",
            "grid_template_areas": null,
            "object_position": null,
            "object_fit": null,
            "grid_auto_columns": null,
            "margin": null,
            "display": null,
            "left": null
          }
        },
        "468fa0e1aa5346c587289772b25ad68e": {
          "model_module": "@jupyter-widgets/controls",
          "model_name": "DescriptionStyleModel",
          "state": {
            "_view_name": "StyleView",
            "_model_name": "DescriptionStyleModel",
            "description_width": "",
            "_view_module": "@jupyter-widgets/base",
            "_model_module_version": "1.5.0",
            "_view_count": null,
            "_view_module_version": "1.2.0",
            "_model_module": "@jupyter-widgets/controls"
          }
        },
        "932eaaf431164a99a4bf39ef67bc9d60": {
          "model_module": "@jupyter-widgets/base",
          "model_name": "LayoutModel",
          "state": {
            "_view_name": "LayoutView",
            "grid_template_rows": null,
            "right": null,
            "justify_content": null,
            "_view_module": "@jupyter-widgets/base",
            "overflow": null,
            "_model_module_version": "1.2.0",
            "_view_count": null,
            "flex_flow": null,
            "width": null,
            "min_width": null,
            "border": null,
            "align_items": null,
            "bottom": null,
            "_model_module": "@jupyter-widgets/base",
            "top": null,
            "grid_column": null,
            "overflow_y": null,
            "overflow_x": null,
            "grid_auto_flow": null,
            "grid_area": null,
            "grid_template_columns": null,
            "flex": null,
            "_model_name": "LayoutModel",
            "justify_items": null,
            "grid_row": null,
            "max_height": null,
            "align_content": null,
            "visibility": null,
            "align_self": null,
            "height": null,
            "min_height": null,
            "padding": null,
            "grid_auto_rows": null,
            "grid_gap": null,
            "max_width": null,
            "order": null,
            "_view_module_version": "1.2.0",
            "grid_template_areas": null,
            "object_position": null,
            "object_fit": null,
            "grid_auto_columns": null,
            "margin": null,
            "display": null,
            "left": null
          }
        },
        "2e9272bd654b4c28801c2372fa78a728": {
          "model_module": "@jupyter-widgets/controls",
          "model_name": "HBoxModel",
          "state": {
            "_view_name": "HBoxView",
            "_dom_classes": [],
            "_model_name": "HBoxModel",
            "_view_module": "@jupyter-widgets/controls",
            "_model_module_version": "1.5.0",
            "_view_count": null,
            "_view_module_version": "1.5.0",
            "box_style": "",
            "layout": "IPY_MODEL_476fc25914a74c38879fdc12911a283e",
            "_model_module": "@jupyter-widgets/controls",
            "children": [
              "IPY_MODEL_10ffdbe5f7c9439084b9118daa154f91",
              "IPY_MODEL_7bb59b398efc4b0eadc9b281f7eeef7d"
            ]
          }
        },
        "476fc25914a74c38879fdc12911a283e": {
          "model_module": "@jupyter-widgets/base",
          "model_name": "LayoutModel",
          "state": {
            "_view_name": "LayoutView",
            "grid_template_rows": null,
            "right": null,
            "justify_content": null,
            "_view_module": "@jupyter-widgets/base",
            "overflow": null,
            "_model_module_version": "1.2.0",
            "_view_count": null,
            "flex_flow": null,
            "width": null,
            "min_width": null,
            "border": null,
            "align_items": null,
            "bottom": null,
            "_model_module": "@jupyter-widgets/base",
            "top": null,
            "grid_column": null,
            "overflow_y": null,
            "overflow_x": null,
            "grid_auto_flow": null,
            "grid_area": null,
            "grid_template_columns": null,
            "flex": null,
            "_model_name": "LayoutModel",
            "justify_items": null,
            "grid_row": null,
            "max_height": null,
            "align_content": null,
            "visibility": null,
            "align_self": null,
            "height": null,
            "min_height": null,
            "padding": null,
            "grid_auto_rows": null,
            "grid_gap": null,
            "max_width": null,
            "order": null,
            "_view_module_version": "1.2.0",
            "grid_template_areas": null,
            "object_position": null,
            "object_fit": null,
            "grid_auto_columns": null,
            "margin": null,
            "display": null,
            "left": null
          }
        },
        "10ffdbe5f7c9439084b9118daa154f91": {
          "model_module": "@jupyter-widgets/controls",
          "model_name": "FloatProgressModel",
          "state": {
            "_view_name": "ProgressView",
            "style": "IPY_MODEL_2f9e7f56327c48ab87c27ddbe9f5acfc",
            "_dom_classes": [],
            "description": "100%",
            "_model_name": "FloatProgressModel",
            "bar_style": "success",
            "max": 604,
            "_view_module": "@jupyter-widgets/controls",
            "_model_module_version": "1.5.0",
            "value": 604,
            "_view_count": null,
            "_view_module_version": "1.5.0",
            "orientation": "horizontal",
            "min": 0,
            "description_tooltip": null,
            "_model_module": "@jupyter-widgets/controls",
            "layout": "IPY_MODEL_2e443ced276f4f13b8bcff3d2e636769"
          }
        },
        "7bb59b398efc4b0eadc9b281f7eeef7d": {
          "model_module": "@jupyter-widgets/controls",
          "model_name": "HTMLModel",
          "state": {
            "_view_name": "HTMLView",
            "style": "IPY_MODEL_916d38f7b18a4e0fbfc935e2efb8b40c",
            "_dom_classes": [],
            "description": "",
            "_model_name": "HTMLModel",
            "placeholder": "​",
            "_view_module": "@jupyter-widgets/controls",
            "_model_module_version": "1.5.0",
            "value": " 604/604 [00:01&lt;00:00, 320.03it/s]",
            "_view_count": null,
            "_view_module_version": "1.5.0",
            "description_tooltip": null,
            "_model_module": "@jupyter-widgets/controls",
            "layout": "IPY_MODEL_544e0f6d39b34b1084b9227e769c9ce0"
          }
        },
        "2f9e7f56327c48ab87c27ddbe9f5acfc": {
          "model_module": "@jupyter-widgets/controls",
          "model_name": "ProgressStyleModel",
          "state": {
            "_view_name": "StyleView",
            "_model_name": "ProgressStyleModel",
            "description_width": "initial",
            "_view_module": "@jupyter-widgets/base",
            "_model_module_version": "1.5.0",
            "_view_count": null,
            "_view_module_version": "1.2.0",
            "bar_color": null,
            "_model_module": "@jupyter-widgets/controls"
          }
        },
        "2e443ced276f4f13b8bcff3d2e636769": {
          "model_module": "@jupyter-widgets/base",
          "model_name": "LayoutModel",
          "state": {
            "_view_name": "LayoutView",
            "grid_template_rows": null,
            "right": null,
            "justify_content": null,
            "_view_module": "@jupyter-widgets/base",
            "overflow": null,
            "_model_module_version": "1.2.0",
            "_view_count": null,
            "flex_flow": null,
            "width": null,
            "min_width": null,
            "border": null,
            "align_items": null,
            "bottom": null,
            "_model_module": "@jupyter-widgets/base",
            "top": null,
            "grid_column": null,
            "overflow_y": null,
            "overflow_x": null,
            "grid_auto_flow": null,
            "grid_area": null,
            "grid_template_columns": null,
            "flex": null,
            "_model_name": "LayoutModel",
            "justify_items": null,
            "grid_row": null,
            "max_height": null,
            "align_content": null,
            "visibility": null,
            "align_self": null,
            "height": null,
            "min_height": null,
            "padding": null,
            "grid_auto_rows": null,
            "grid_gap": null,
            "max_width": null,
            "order": null,
            "_view_module_version": "1.2.0",
            "grid_template_areas": null,
            "object_position": null,
            "object_fit": null,
            "grid_auto_columns": null,
            "margin": null,
            "display": null,
            "left": null
          }
        },
        "916d38f7b18a4e0fbfc935e2efb8b40c": {
          "model_module": "@jupyter-widgets/controls",
          "model_name": "DescriptionStyleModel",
          "state": {
            "_view_name": "StyleView",
            "_model_name": "DescriptionStyleModel",
            "description_width": "",
            "_view_module": "@jupyter-widgets/base",
            "_model_module_version": "1.5.0",
            "_view_count": null,
            "_view_module_version": "1.2.0",
            "_model_module": "@jupyter-widgets/controls"
          }
        },
        "544e0f6d39b34b1084b9227e769c9ce0": {
          "model_module": "@jupyter-widgets/base",
          "model_name": "LayoutModel",
          "state": {
            "_view_name": "LayoutView",
            "grid_template_rows": null,
            "right": null,
            "justify_content": null,
            "_view_module": "@jupyter-widgets/base",
            "overflow": null,
            "_model_module_version": "1.2.0",
            "_view_count": null,
            "flex_flow": null,
            "width": null,
            "min_width": null,
            "border": null,
            "align_items": null,
            "bottom": null,
            "_model_module": "@jupyter-widgets/base",
            "top": null,
            "grid_column": null,
            "overflow_y": null,
            "overflow_x": null,
            "grid_auto_flow": null,
            "grid_area": null,
            "grid_template_columns": null,
            "flex": null,
            "_model_name": "LayoutModel",
            "justify_items": null,
            "grid_row": null,
            "max_height": null,
            "align_content": null,
            "visibility": null,
            "align_self": null,
            "height": null,
            "min_height": null,
            "padding": null,
            "grid_auto_rows": null,
            "grid_gap": null,
            "max_width": null,
            "order": null,
            "_view_module_version": "1.2.0",
            "grid_template_areas": null,
            "object_position": null,
            "object_fit": null,
            "grid_auto_columns": null,
            "margin": null,
            "display": null,
            "left": null
          }
        },
        "297d8422d55b465ab08e2dbf868371f2": {
          "model_module": "@jupyter-widgets/controls",
          "model_name": "HBoxModel",
          "state": {
            "_view_name": "HBoxView",
            "_dom_classes": [],
            "_model_name": "HBoxModel",
            "_view_module": "@jupyter-widgets/controls",
            "_model_module_version": "1.5.0",
            "_view_count": null,
            "_view_module_version": "1.5.0",
            "box_style": "",
            "layout": "IPY_MODEL_93a20313ae8e4c9a8e990fe114029fe7",
            "_model_module": "@jupyter-widgets/controls",
            "children": [
              "IPY_MODEL_8b2a241c604b480b8ad0801c0bd9b30c",
              "IPY_MODEL_f658d25976d048fe8170652b2285c7e0"
            ]
          }
        },
        "93a20313ae8e4c9a8e990fe114029fe7": {
          "model_module": "@jupyter-widgets/base",
          "model_name": "LayoutModel",
          "state": {
            "_view_name": "LayoutView",
            "grid_template_rows": null,
            "right": null,
            "justify_content": null,
            "_view_module": "@jupyter-widgets/base",
            "overflow": null,
            "_model_module_version": "1.2.0",
            "_view_count": null,
            "flex_flow": null,
            "width": null,
            "min_width": null,
            "border": null,
            "align_items": null,
            "bottom": null,
            "_model_module": "@jupyter-widgets/base",
            "top": null,
            "grid_column": null,
            "overflow_y": null,
            "overflow_x": null,
            "grid_auto_flow": null,
            "grid_area": null,
            "grid_template_columns": null,
            "flex": null,
            "_model_name": "LayoutModel",
            "justify_items": null,
            "grid_row": null,
            "max_height": null,
            "align_content": null,
            "visibility": null,
            "align_self": null,
            "height": null,
            "min_height": null,
            "padding": null,
            "grid_auto_rows": null,
            "grid_gap": null,
            "max_width": null,
            "order": null,
            "_view_module_version": "1.2.0",
            "grid_template_areas": null,
            "object_position": null,
            "object_fit": null,
            "grid_auto_columns": null,
            "margin": null,
            "display": null,
            "left": null
          }
        },
        "8b2a241c604b480b8ad0801c0bd9b30c": {
          "model_module": "@jupyter-widgets/controls",
          "model_name": "FloatProgressModel",
          "state": {
            "_view_name": "ProgressView",
            "style": "IPY_MODEL_3ab229355d4f432a8f1ff63f00e98465",
            "_dom_classes": [],
            "description": "100%",
            "_model_name": "FloatProgressModel",
            "bar_style": "success",
            "max": 604,
            "_view_module": "@jupyter-widgets/controls",
            "_model_module_version": "1.5.0",
            "value": 604,
            "_view_count": null,
            "_view_module_version": "1.5.0",
            "orientation": "horizontal",
            "min": 0,
            "description_tooltip": null,
            "_model_module": "@jupyter-widgets/controls",
            "layout": "IPY_MODEL_870ac261693c4dbf8d30898910ff5bb7"
          }
        },
        "f658d25976d048fe8170652b2285c7e0": {
          "model_module": "@jupyter-widgets/controls",
          "model_name": "HTMLModel",
          "state": {
            "_view_name": "HTMLView",
            "style": "IPY_MODEL_7ac2e5298a474f91bf85aeb72795c6e5",
            "_dom_classes": [],
            "description": "",
            "_model_name": "HTMLModel",
            "placeholder": "​",
            "_view_module": "@jupyter-widgets/controls",
            "_model_module_version": "1.5.0",
            "value": " 604/604 [00:01&lt;00:00, 332.21it/s]",
            "_view_count": null,
            "_view_module_version": "1.5.0",
            "description_tooltip": null,
            "_model_module": "@jupyter-widgets/controls",
            "layout": "IPY_MODEL_a1333214a6154ffc92f4bb5d26a23402"
          }
        },
        "3ab229355d4f432a8f1ff63f00e98465": {
          "model_module": "@jupyter-widgets/controls",
          "model_name": "ProgressStyleModel",
          "state": {
            "_view_name": "StyleView",
            "_model_name": "ProgressStyleModel",
            "description_width": "initial",
            "_view_module": "@jupyter-widgets/base",
            "_model_module_version": "1.5.0",
            "_view_count": null,
            "_view_module_version": "1.2.0",
            "bar_color": null,
            "_model_module": "@jupyter-widgets/controls"
          }
        },
        "870ac261693c4dbf8d30898910ff5bb7": {
          "model_module": "@jupyter-widgets/base",
          "model_name": "LayoutModel",
          "state": {
            "_view_name": "LayoutView",
            "grid_template_rows": null,
            "right": null,
            "justify_content": null,
            "_view_module": "@jupyter-widgets/base",
            "overflow": null,
            "_model_module_version": "1.2.0",
            "_view_count": null,
            "flex_flow": null,
            "width": null,
            "min_width": null,
            "border": null,
            "align_items": null,
            "bottom": null,
            "_model_module": "@jupyter-widgets/base",
            "top": null,
            "grid_column": null,
            "overflow_y": null,
            "overflow_x": null,
            "grid_auto_flow": null,
            "grid_area": null,
            "grid_template_columns": null,
            "flex": null,
            "_model_name": "LayoutModel",
            "justify_items": null,
            "grid_row": null,
            "max_height": null,
            "align_content": null,
            "visibility": null,
            "align_self": null,
            "height": null,
            "min_height": null,
            "padding": null,
            "grid_auto_rows": null,
            "grid_gap": null,
            "max_width": null,
            "order": null,
            "_view_module_version": "1.2.0",
            "grid_template_areas": null,
            "object_position": null,
            "object_fit": null,
            "grid_auto_columns": null,
            "margin": null,
            "display": null,
            "left": null
          }
        },
        "7ac2e5298a474f91bf85aeb72795c6e5": {
          "model_module": "@jupyter-widgets/controls",
          "model_name": "DescriptionStyleModel",
          "state": {
            "_view_name": "StyleView",
            "_model_name": "DescriptionStyleModel",
            "description_width": "",
            "_view_module": "@jupyter-widgets/base",
            "_model_module_version": "1.5.0",
            "_view_count": null,
            "_view_module_version": "1.2.0",
            "_model_module": "@jupyter-widgets/controls"
          }
        },
        "a1333214a6154ffc92f4bb5d26a23402": {
          "model_module": "@jupyter-widgets/base",
          "model_name": "LayoutModel",
          "state": {
            "_view_name": "LayoutView",
            "grid_template_rows": null,
            "right": null,
            "justify_content": null,
            "_view_module": "@jupyter-widgets/base",
            "overflow": null,
            "_model_module_version": "1.2.0",
            "_view_count": null,
            "flex_flow": null,
            "width": null,
            "min_width": null,
            "border": null,
            "align_items": null,
            "bottom": null,
            "_model_module": "@jupyter-widgets/base",
            "top": null,
            "grid_column": null,
            "overflow_y": null,
            "overflow_x": null,
            "grid_auto_flow": null,
            "grid_area": null,
            "grid_template_columns": null,
            "flex": null,
            "_model_name": "LayoutModel",
            "justify_items": null,
            "grid_row": null,
            "max_height": null,
            "align_content": null,
            "visibility": null,
            "align_self": null,
            "height": null,
            "min_height": null,
            "padding": null,
            "grid_auto_rows": null,
            "grid_gap": null,
            "max_width": null,
            "order": null,
            "_view_module_version": "1.2.0",
            "grid_template_areas": null,
            "object_position": null,
            "object_fit": null,
            "grid_auto_columns": null,
            "margin": null,
            "display": null,
            "left": null
          }
        },
        "b88f9669289f45c5a9578182a85ad58a": {
          "model_module": "@jupyter-widgets/controls",
          "model_name": "HBoxModel",
          "state": {
            "_view_name": "HBoxView",
            "_dom_classes": [],
            "_model_name": "HBoxModel",
            "_view_module": "@jupyter-widgets/controls",
            "_model_module_version": "1.5.0",
            "_view_count": null,
            "_view_module_version": "1.5.0",
            "box_style": "",
            "layout": "IPY_MODEL_64bd0c8f1a0346199eb71a5994d77fc8",
            "_model_module": "@jupyter-widgets/controls",
            "children": [
              "IPY_MODEL_4583bd2759044ca2adfeb0c5bc5614a9",
              "IPY_MODEL_551ecacb918e4856afb9277e56146ede"
            ]
          }
        },
        "64bd0c8f1a0346199eb71a5994d77fc8": {
          "model_module": "@jupyter-widgets/base",
          "model_name": "LayoutModel",
          "state": {
            "_view_name": "LayoutView",
            "grid_template_rows": null,
            "right": null,
            "justify_content": null,
            "_view_module": "@jupyter-widgets/base",
            "overflow": null,
            "_model_module_version": "1.2.0",
            "_view_count": null,
            "flex_flow": null,
            "width": null,
            "min_width": null,
            "border": null,
            "align_items": null,
            "bottom": null,
            "_model_module": "@jupyter-widgets/base",
            "top": null,
            "grid_column": null,
            "overflow_y": null,
            "overflow_x": null,
            "grid_auto_flow": null,
            "grid_area": null,
            "grid_template_columns": null,
            "flex": null,
            "_model_name": "LayoutModel",
            "justify_items": null,
            "grid_row": null,
            "max_height": null,
            "align_content": null,
            "visibility": null,
            "align_self": null,
            "height": null,
            "min_height": null,
            "padding": null,
            "grid_auto_rows": null,
            "grid_gap": null,
            "max_width": null,
            "order": null,
            "_view_module_version": "1.2.0",
            "grid_template_areas": null,
            "object_position": null,
            "object_fit": null,
            "grid_auto_columns": null,
            "margin": null,
            "display": null,
            "left": null
          }
        },
        "4583bd2759044ca2adfeb0c5bc5614a9": {
          "model_module": "@jupyter-widgets/controls",
          "model_name": "FloatProgressModel",
          "state": {
            "_view_name": "ProgressView",
            "style": "IPY_MODEL_b46810ef39f140d0be91767d46d30bc4",
            "_dom_classes": [],
            "description": "100%",
            "_model_name": "FloatProgressModel",
            "bar_style": "success",
            "max": 604,
            "_view_module": "@jupyter-widgets/controls",
            "_model_module_version": "1.5.0",
            "value": 604,
            "_view_count": null,
            "_view_module_version": "1.5.0",
            "orientation": "horizontal",
            "min": 0,
            "description_tooltip": null,
            "_model_module": "@jupyter-widgets/controls",
            "layout": "IPY_MODEL_8a6ed954a8874d738d7c5f319c6bf0cb"
          }
        },
        "551ecacb918e4856afb9277e56146ede": {
          "model_module": "@jupyter-widgets/controls",
          "model_name": "HTMLModel",
          "state": {
            "_view_name": "HTMLView",
            "style": "IPY_MODEL_6048c9c95db54f59a29fb4a5fad64bea",
            "_dom_classes": [],
            "description": "",
            "_model_name": "HTMLModel",
            "placeholder": "​",
            "_view_module": "@jupyter-widgets/controls",
            "_model_module_version": "1.5.0",
            "value": " 604/604 [00:01&lt;00:00, 397.16it/s]",
            "_view_count": null,
            "_view_module_version": "1.5.0",
            "description_tooltip": null,
            "_model_module": "@jupyter-widgets/controls",
            "layout": "IPY_MODEL_e4e1818bd7e3430fb117e8dd56f53811"
          }
        },
        "b46810ef39f140d0be91767d46d30bc4": {
          "model_module": "@jupyter-widgets/controls",
          "model_name": "ProgressStyleModel",
          "state": {
            "_view_name": "StyleView",
            "_model_name": "ProgressStyleModel",
            "description_width": "initial",
            "_view_module": "@jupyter-widgets/base",
            "_model_module_version": "1.5.0",
            "_view_count": null,
            "_view_module_version": "1.2.0",
            "bar_color": null,
            "_model_module": "@jupyter-widgets/controls"
          }
        },
        "8a6ed954a8874d738d7c5f319c6bf0cb": {
          "model_module": "@jupyter-widgets/base",
          "model_name": "LayoutModel",
          "state": {
            "_view_name": "LayoutView",
            "grid_template_rows": null,
            "right": null,
            "justify_content": null,
            "_view_module": "@jupyter-widgets/base",
            "overflow": null,
            "_model_module_version": "1.2.0",
            "_view_count": null,
            "flex_flow": null,
            "width": null,
            "min_width": null,
            "border": null,
            "align_items": null,
            "bottom": null,
            "_model_module": "@jupyter-widgets/base",
            "top": null,
            "grid_column": null,
            "overflow_y": null,
            "overflow_x": null,
            "grid_auto_flow": null,
            "grid_area": null,
            "grid_template_columns": null,
            "flex": null,
            "_model_name": "LayoutModel",
            "justify_items": null,
            "grid_row": null,
            "max_height": null,
            "align_content": null,
            "visibility": null,
            "align_self": null,
            "height": null,
            "min_height": null,
            "padding": null,
            "grid_auto_rows": null,
            "grid_gap": null,
            "max_width": null,
            "order": null,
            "_view_module_version": "1.2.0",
            "grid_template_areas": null,
            "object_position": null,
            "object_fit": null,
            "grid_auto_columns": null,
            "margin": null,
            "display": null,
            "left": null
          }
        },
        "6048c9c95db54f59a29fb4a5fad64bea": {
          "model_module": "@jupyter-widgets/controls",
          "model_name": "DescriptionStyleModel",
          "state": {
            "_view_name": "StyleView",
            "_model_name": "DescriptionStyleModel",
            "description_width": "",
            "_view_module": "@jupyter-widgets/base",
            "_model_module_version": "1.5.0",
            "_view_count": null,
            "_view_module_version": "1.2.0",
            "_model_module": "@jupyter-widgets/controls"
          }
        },
        "e4e1818bd7e3430fb117e8dd56f53811": {
          "model_module": "@jupyter-widgets/base",
          "model_name": "LayoutModel",
          "state": {
            "_view_name": "LayoutView",
            "grid_template_rows": null,
            "right": null,
            "justify_content": null,
            "_view_module": "@jupyter-widgets/base",
            "overflow": null,
            "_model_module_version": "1.2.0",
            "_view_count": null,
            "flex_flow": null,
            "width": null,
            "min_width": null,
            "border": null,
            "align_items": null,
            "bottom": null,
            "_model_module": "@jupyter-widgets/base",
            "top": null,
            "grid_column": null,
            "overflow_y": null,
            "overflow_x": null,
            "grid_auto_flow": null,
            "grid_area": null,
            "grid_template_columns": null,
            "flex": null,
            "_model_name": "LayoutModel",
            "justify_items": null,
            "grid_row": null,
            "max_height": null,
            "align_content": null,
            "visibility": null,
            "align_self": null,
            "height": null,
            "min_height": null,
            "padding": null,
            "grid_auto_rows": null,
            "grid_gap": null,
            "max_width": null,
            "order": null,
            "_view_module_version": "1.2.0",
            "grid_template_areas": null,
            "object_position": null,
            "object_fit": null,
            "grid_auto_columns": null,
            "margin": null,
            "display": null,
            "left": null
          }
        },
        "8884c0a35bd04c2a9967df8a38a09af5": {
          "model_module": "@jupyter-widgets/controls",
          "model_name": "HBoxModel",
          "state": {
            "_view_name": "HBoxView",
            "_dom_classes": [],
            "_model_name": "HBoxModel",
            "_view_module": "@jupyter-widgets/controls",
            "_model_module_version": "1.5.0",
            "_view_count": null,
            "_view_module_version": "1.5.0",
            "box_style": "",
            "layout": "IPY_MODEL_462990ddb17d4dc5bf7ecd674cf357cf",
            "_model_module": "@jupyter-widgets/controls",
            "children": [
              "IPY_MODEL_c0c740d8130d44ee9e97693033ac7bc7",
              "IPY_MODEL_d0e98f49a2b040e2bdb479c8fee6c763"
            ]
          }
        },
        "462990ddb17d4dc5bf7ecd674cf357cf": {
          "model_module": "@jupyter-widgets/base",
          "model_name": "LayoutModel",
          "state": {
            "_view_name": "LayoutView",
            "grid_template_rows": null,
            "right": null,
            "justify_content": null,
            "_view_module": "@jupyter-widgets/base",
            "overflow": null,
            "_model_module_version": "1.2.0",
            "_view_count": null,
            "flex_flow": null,
            "width": null,
            "min_width": null,
            "border": null,
            "align_items": null,
            "bottom": null,
            "_model_module": "@jupyter-widgets/base",
            "top": null,
            "grid_column": null,
            "overflow_y": null,
            "overflow_x": null,
            "grid_auto_flow": null,
            "grid_area": null,
            "grid_template_columns": null,
            "flex": null,
            "_model_name": "LayoutModel",
            "justify_items": null,
            "grid_row": null,
            "max_height": null,
            "align_content": null,
            "visibility": null,
            "align_self": null,
            "height": null,
            "min_height": null,
            "padding": null,
            "grid_auto_rows": null,
            "grid_gap": null,
            "max_width": null,
            "order": null,
            "_view_module_version": "1.2.0",
            "grid_template_areas": null,
            "object_position": null,
            "object_fit": null,
            "grid_auto_columns": null,
            "margin": null,
            "display": null,
            "left": null
          }
        },
        "c0c740d8130d44ee9e97693033ac7bc7": {
          "model_module": "@jupyter-widgets/controls",
          "model_name": "FloatProgressModel",
          "state": {
            "_view_name": "ProgressView",
            "style": "IPY_MODEL_a87ab1f507dc41edbd6b3501b3600ca9",
            "_dom_classes": [],
            "description": "100%",
            "_model_name": "FloatProgressModel",
            "bar_style": "success",
            "max": 604,
            "_view_module": "@jupyter-widgets/controls",
            "_model_module_version": "1.5.0",
            "value": 604,
            "_view_count": null,
            "_view_module_version": "1.5.0",
            "orientation": "horizontal",
            "min": 0,
            "description_tooltip": null,
            "_model_module": "@jupyter-widgets/controls",
            "layout": "IPY_MODEL_20fb858674044312b9c5d2d3cdc99925"
          }
        },
        "d0e98f49a2b040e2bdb479c8fee6c763": {
          "model_module": "@jupyter-widgets/controls",
          "model_name": "HTMLModel",
          "state": {
            "_view_name": "HTMLView",
            "style": "IPY_MODEL_2140931047584f01a221cf6fe69be7b5",
            "_dom_classes": [],
            "description": "",
            "_model_name": "HTMLModel",
            "placeholder": "​",
            "_view_module": "@jupyter-widgets/controls",
            "_model_module_version": "1.5.0",
            "value": " 604/604 [00:00&lt;00:00, 2182.57it/s]",
            "_view_count": null,
            "_view_module_version": "1.5.0",
            "description_tooltip": null,
            "_model_module": "@jupyter-widgets/controls",
            "layout": "IPY_MODEL_873052c8ef3b4bd1a9a3bc9f55755f6b"
          }
        },
        "a87ab1f507dc41edbd6b3501b3600ca9": {
          "model_module": "@jupyter-widgets/controls",
          "model_name": "ProgressStyleModel",
          "state": {
            "_view_name": "StyleView",
            "_model_name": "ProgressStyleModel",
            "description_width": "initial",
            "_view_module": "@jupyter-widgets/base",
            "_model_module_version": "1.5.0",
            "_view_count": null,
            "_view_module_version": "1.2.0",
            "bar_color": null,
            "_model_module": "@jupyter-widgets/controls"
          }
        },
        "20fb858674044312b9c5d2d3cdc99925": {
          "model_module": "@jupyter-widgets/base",
          "model_name": "LayoutModel",
          "state": {
            "_view_name": "LayoutView",
            "grid_template_rows": null,
            "right": null,
            "justify_content": null,
            "_view_module": "@jupyter-widgets/base",
            "overflow": null,
            "_model_module_version": "1.2.0",
            "_view_count": null,
            "flex_flow": null,
            "width": null,
            "min_width": null,
            "border": null,
            "align_items": null,
            "bottom": null,
            "_model_module": "@jupyter-widgets/base",
            "top": null,
            "grid_column": null,
            "overflow_y": null,
            "overflow_x": null,
            "grid_auto_flow": null,
            "grid_area": null,
            "grid_template_columns": null,
            "flex": null,
            "_model_name": "LayoutModel",
            "justify_items": null,
            "grid_row": null,
            "max_height": null,
            "align_content": null,
            "visibility": null,
            "align_self": null,
            "height": null,
            "min_height": null,
            "padding": null,
            "grid_auto_rows": null,
            "grid_gap": null,
            "max_width": null,
            "order": null,
            "_view_module_version": "1.2.0",
            "grid_template_areas": null,
            "object_position": null,
            "object_fit": null,
            "grid_auto_columns": null,
            "margin": null,
            "display": null,
            "left": null
          }
        },
        "2140931047584f01a221cf6fe69be7b5": {
          "model_module": "@jupyter-widgets/controls",
          "model_name": "DescriptionStyleModel",
          "state": {
            "_view_name": "StyleView",
            "_model_name": "DescriptionStyleModel",
            "description_width": "",
            "_view_module": "@jupyter-widgets/base",
            "_model_module_version": "1.5.0",
            "_view_count": null,
            "_view_module_version": "1.2.0",
            "_model_module": "@jupyter-widgets/controls"
          }
        },
        "873052c8ef3b4bd1a9a3bc9f55755f6b": {
          "model_module": "@jupyter-widgets/base",
          "model_name": "LayoutModel",
          "state": {
            "_view_name": "LayoutView",
            "grid_template_rows": null,
            "right": null,
            "justify_content": null,
            "_view_module": "@jupyter-widgets/base",
            "overflow": null,
            "_model_module_version": "1.2.0",
            "_view_count": null,
            "flex_flow": null,
            "width": null,
            "min_width": null,
            "border": null,
            "align_items": null,
            "bottom": null,
            "_model_module": "@jupyter-widgets/base",
            "top": null,
            "grid_column": null,
            "overflow_y": null,
            "overflow_x": null,
            "grid_auto_flow": null,
            "grid_area": null,
            "grid_template_columns": null,
            "flex": null,
            "_model_name": "LayoutModel",
            "justify_items": null,
            "grid_row": null,
            "max_height": null,
            "align_content": null,
            "visibility": null,
            "align_self": null,
            "height": null,
            "min_height": null,
            "padding": null,
            "grid_auto_rows": null,
            "grid_gap": null,
            "max_width": null,
            "order": null,
            "_view_module_version": "1.2.0",
            "grid_template_areas": null,
            "object_position": null,
            "object_fit": null,
            "grid_auto_columns": null,
            "margin": null,
            "display": null,
            "left": null
          }
        },
        "769681b057dd407b9da653f4c83609d5": {
          "model_module": "@jupyter-widgets/controls",
          "model_name": "HBoxModel",
          "state": {
            "_view_name": "HBoxView",
            "_dom_classes": [],
            "_model_name": "HBoxModel",
            "_view_module": "@jupyter-widgets/controls",
            "_model_module_version": "1.5.0",
            "_view_count": null,
            "_view_module_version": "1.5.0",
            "box_style": "",
            "layout": "IPY_MODEL_c162444dd8aa4186b60a0b2dddc9102f",
            "_model_module": "@jupyter-widgets/controls",
            "children": [
              "IPY_MODEL_6543e3f38d2a4a0dbff7e35b687e0911",
              "IPY_MODEL_5e1e66d04afd4c4aa90fc2646e4eb6be"
            ]
          }
        },
        "c162444dd8aa4186b60a0b2dddc9102f": {
          "model_module": "@jupyter-widgets/base",
          "model_name": "LayoutModel",
          "state": {
            "_view_name": "LayoutView",
            "grid_template_rows": null,
            "right": null,
            "justify_content": null,
            "_view_module": "@jupyter-widgets/base",
            "overflow": null,
            "_model_module_version": "1.2.0",
            "_view_count": null,
            "flex_flow": null,
            "width": null,
            "min_width": null,
            "border": null,
            "align_items": null,
            "bottom": null,
            "_model_module": "@jupyter-widgets/base",
            "top": null,
            "grid_column": null,
            "overflow_y": null,
            "overflow_x": null,
            "grid_auto_flow": null,
            "grid_area": null,
            "grid_template_columns": null,
            "flex": null,
            "_model_name": "LayoutModel",
            "justify_items": null,
            "grid_row": null,
            "max_height": null,
            "align_content": null,
            "visibility": null,
            "align_self": null,
            "height": null,
            "min_height": null,
            "padding": null,
            "grid_auto_rows": null,
            "grid_gap": null,
            "max_width": null,
            "order": null,
            "_view_module_version": "1.2.0",
            "grid_template_areas": null,
            "object_position": null,
            "object_fit": null,
            "grid_auto_columns": null,
            "margin": null,
            "display": null,
            "left": null
          }
        },
        "6543e3f38d2a4a0dbff7e35b687e0911": {
          "model_module": "@jupyter-widgets/controls",
          "model_name": "FloatProgressModel",
          "state": {
            "_view_name": "ProgressView",
            "style": "IPY_MODEL_c4d051fba0eb4893927a86598852c812",
            "_dom_classes": [],
            "description": "100%",
            "_model_name": "FloatProgressModel",
            "bar_style": "success",
            "max": 604,
            "_view_module": "@jupyter-widgets/controls",
            "_model_module_version": "1.5.0",
            "value": 604,
            "_view_count": null,
            "_view_module_version": "1.5.0",
            "orientation": "horizontal",
            "min": 0,
            "description_tooltip": null,
            "_model_module": "@jupyter-widgets/controls",
            "layout": "IPY_MODEL_8d4cfe308db94dc494a22a70fb8089f7"
          }
        },
        "5e1e66d04afd4c4aa90fc2646e4eb6be": {
          "model_module": "@jupyter-widgets/controls",
          "model_name": "HTMLModel",
          "state": {
            "_view_name": "HTMLView",
            "style": "IPY_MODEL_defb16a32b72454c8eb894f0800dc77a",
            "_dom_classes": [],
            "description": "",
            "_model_name": "HTMLModel",
            "placeholder": "​",
            "_view_module": "@jupyter-widgets/controls",
            "_model_module_version": "1.5.0",
            "value": " 604/604 [00:01&lt;00:00, 398.87it/s]",
            "_view_count": null,
            "_view_module_version": "1.5.0",
            "description_tooltip": null,
            "_model_module": "@jupyter-widgets/controls",
            "layout": "IPY_MODEL_1c2d5ab8c7a04655b843a0ac3eaeb770"
          }
        },
        "c4d051fba0eb4893927a86598852c812": {
          "model_module": "@jupyter-widgets/controls",
          "model_name": "ProgressStyleModel",
          "state": {
            "_view_name": "StyleView",
            "_model_name": "ProgressStyleModel",
            "description_width": "initial",
            "_view_module": "@jupyter-widgets/base",
            "_model_module_version": "1.5.0",
            "_view_count": null,
            "_view_module_version": "1.2.0",
            "bar_color": null,
            "_model_module": "@jupyter-widgets/controls"
          }
        },
        "8d4cfe308db94dc494a22a70fb8089f7": {
          "model_module": "@jupyter-widgets/base",
          "model_name": "LayoutModel",
          "state": {
            "_view_name": "LayoutView",
            "grid_template_rows": null,
            "right": null,
            "justify_content": null,
            "_view_module": "@jupyter-widgets/base",
            "overflow": null,
            "_model_module_version": "1.2.0",
            "_view_count": null,
            "flex_flow": null,
            "width": null,
            "min_width": null,
            "border": null,
            "align_items": null,
            "bottom": null,
            "_model_module": "@jupyter-widgets/base",
            "top": null,
            "grid_column": null,
            "overflow_y": null,
            "overflow_x": null,
            "grid_auto_flow": null,
            "grid_area": null,
            "grid_template_columns": null,
            "flex": null,
            "_model_name": "LayoutModel",
            "justify_items": null,
            "grid_row": null,
            "max_height": null,
            "align_content": null,
            "visibility": null,
            "align_self": null,
            "height": null,
            "min_height": null,
            "padding": null,
            "grid_auto_rows": null,
            "grid_gap": null,
            "max_width": null,
            "order": null,
            "_view_module_version": "1.2.0",
            "grid_template_areas": null,
            "object_position": null,
            "object_fit": null,
            "grid_auto_columns": null,
            "margin": null,
            "display": null,
            "left": null
          }
        },
        "defb16a32b72454c8eb894f0800dc77a": {
          "model_module": "@jupyter-widgets/controls",
          "model_name": "DescriptionStyleModel",
          "state": {
            "_view_name": "StyleView",
            "_model_name": "DescriptionStyleModel",
            "description_width": "",
            "_view_module": "@jupyter-widgets/base",
            "_model_module_version": "1.5.0",
            "_view_count": null,
            "_view_module_version": "1.2.0",
            "_model_module": "@jupyter-widgets/controls"
          }
        },
        "1c2d5ab8c7a04655b843a0ac3eaeb770": {
          "model_module": "@jupyter-widgets/base",
          "model_name": "LayoutModel",
          "state": {
            "_view_name": "LayoutView",
            "grid_template_rows": null,
            "right": null,
            "justify_content": null,
            "_view_module": "@jupyter-widgets/base",
            "overflow": null,
            "_model_module_version": "1.2.0",
            "_view_count": null,
            "flex_flow": null,
            "width": null,
            "min_width": null,
            "border": null,
            "align_items": null,
            "bottom": null,
            "_model_module": "@jupyter-widgets/base",
            "top": null,
            "grid_column": null,
            "overflow_y": null,
            "overflow_x": null,
            "grid_auto_flow": null,
            "grid_area": null,
            "grid_template_columns": null,
            "flex": null,
            "_model_name": "LayoutModel",
            "justify_items": null,
            "grid_row": null,
            "max_height": null,
            "align_content": null,
            "visibility": null,
            "align_self": null,
            "height": null,
            "min_height": null,
            "padding": null,
            "grid_auto_rows": null,
            "grid_gap": null,
            "max_width": null,
            "order": null,
            "_view_module_version": "1.2.0",
            "grid_template_areas": null,
            "object_position": null,
            "object_fit": null,
            "grid_auto_columns": null,
            "margin": null,
            "display": null,
            "left": null
          }
        }
      }
    }
  },
  "cells": [
    {
      "cell_type": "markdown",
      "metadata": {
        "id": "view-in-github",
        "colab_type": "text"
      },
      "source": [
        "<a href=\"https://colab.research.google.com/github/ivoryRabbit/RecSys/blob/master/9_Mult_VAE.ipynb\" target=\"_parent\"><img src=\"https://colab.research.google.com/assets/colab-badge.svg\" alt=\"Open In Colab\"/></a>"
      ]
    },
    {
      "cell_type": "markdown",
      "metadata": {
        "id": "viikY8IQdVTY"
      },
      "source": [
        "# Mult-VAE\n",
        "\n",
        "- [Variational Autoencoders for Collaborative Filtering](https://arxiv.org/pdf/1802.05814.pdf)\n",
        "\n",
        "## Experiment"
      ]
    },
    {
      "cell_type": "code",
      "metadata": {
        "id": "M8FDcw4rVboe"
      },
      "source": [
        "import glob\n",
        "import numpy as np\n",
        "import pandas as pd\n",
        "from typing import Callable, Tuple, List\n",
        "from tqdm.notebook import tqdm\n",
        "\n",
        "import matplotlib.pyplot as plt\n",
        "%matplotlib inline\n",
        "plt.style.use('ggplot')\n",
        "\n",
        "from sklearn.model_selection import train_test_split\n",
        "\n",
        "import tensorflow as tf\n",
        "import tensorflow.keras.backend as K\n",
        "\n",
        "from tensorflow.keras.layers import Layer, Input, Dense, Dropout, Reshape\n",
        "from tensorflow.keras.models import Model, load_model\n",
        "from tensorflow.keras.callbacks import ModelCheckpoint, EarlyStopping\n",
        "from tensorflow.keras.optimizers import Adam\n",
        "from tensorflow.keras.regularizers import l2\n",
        "\n",
        "from tensorflow.keras.utils import get_file\n",
        "import zipfile\n",
        "\n",
        "np.random.seed(777)\n",
        "tf.random.set_seed(777)"
      ],
      "execution_count": 1,
      "outputs": []
    },
    {
      "cell_type": "code",
      "metadata": {
        "id": "sdjqodyYVf9I"
      },
      "source": [
        "def load_data(data_size : str) -> pd.DataFrame:\n",
        "    ''' load Movie Lens data '''\n",
        "\n",
        "    if data_size == '1m':\n",
        "        fname = 'ml-1m.zip'\n",
        "        data = 'ml-1m/ratings.dat'\n",
        "    elif data_size == '10m':\n",
        "        fname = 'ml-10m.zip'\n",
        "        data = 'ml-10M100K/ratings.dat'\n",
        "    elif data_size == '20m':\n",
        "        fname = 'ml-20m.zip'\n",
        "        data = 'ml-20m/ratings.csv'\n",
        "    elif data_size == '25m':\n",
        "        fname = 'ml-25m.zip'\n",
        "        data = 'ml-25m/ratings.csv'\n",
        "    if not glob.glob(data):\n",
        "        origin = f'http://files.grouplens.org/datasets/movielens/{fname}'\n",
        "        file = get_file(fname, origin)\n",
        "        zip_ref = zipfile.ZipFile(file, 'r')\n",
        "        zip_ref.extractall()\n",
        "\n",
        "    col_names = ['user_id', 'movie_id', 'rating', 'timestamp']\n",
        "    if data_size in ['20m', '25m']:\n",
        "        ratings = pd.read_csv(data, names = col_names, engine = 'python')\n",
        "    else:\n",
        "        ratings = pd.read_csv(data, sep = '|', delimiter = '::', names = col_names, engine = 'python')\n",
        "    print(ratings.shape)\n",
        "    return ratings"
      ],
      "execution_count": 2,
      "outputs": []
    },
    {
      "cell_type": "code",
      "metadata": {
        "id": "RZf8Gzf0VhYV",
        "colab": {
          "base_uri": "https://localhost:8080/",
          "height": 248
        },
        "outputId": "8342bf94-8865-4d24-e5f3-d98f521ecc18"
      },
      "source": [
        "ratings = load_data('1m')\n",
        "ratings.head()"
      ],
      "execution_count": 3,
      "outputs": [
        {
          "output_type": "stream",
          "text": [
            "Downloading data from http://files.grouplens.org/datasets/movielens/ml-1m.zip\n",
            "5922816/5917549 [==============================] - 0s 0us/step\n",
            "(1000209, 4)\n"
          ],
          "name": "stdout"
        },
        {
          "output_type": "execute_result",
          "data": {
            "text/html": [
              "<div>\n",
              "<style scoped>\n",
              "    .dataframe tbody tr th:only-of-type {\n",
              "        vertical-align: middle;\n",
              "    }\n",
              "\n",
              "    .dataframe tbody tr th {\n",
              "        vertical-align: top;\n",
              "    }\n",
              "\n",
              "    .dataframe thead th {\n",
              "        text-align: right;\n",
              "    }\n",
              "</style>\n",
              "<table border=\"1\" class=\"dataframe\">\n",
              "  <thead>\n",
              "    <tr style=\"text-align: right;\">\n",
              "      <th></th>\n",
              "      <th>user_id</th>\n",
              "      <th>movie_id</th>\n",
              "      <th>rating</th>\n",
              "      <th>timestamp</th>\n",
              "    </tr>\n",
              "  </thead>\n",
              "  <tbody>\n",
              "    <tr>\n",
              "      <th>0</th>\n",
              "      <td>1</td>\n",
              "      <td>1193</td>\n",
              "      <td>5</td>\n",
              "      <td>978300760</td>\n",
              "    </tr>\n",
              "    <tr>\n",
              "      <th>1</th>\n",
              "      <td>1</td>\n",
              "      <td>661</td>\n",
              "      <td>3</td>\n",
              "      <td>978302109</td>\n",
              "    </tr>\n",
              "    <tr>\n",
              "      <th>2</th>\n",
              "      <td>1</td>\n",
              "      <td>914</td>\n",
              "      <td>3</td>\n",
              "      <td>978301968</td>\n",
              "    </tr>\n",
              "    <tr>\n",
              "      <th>3</th>\n",
              "      <td>1</td>\n",
              "      <td>3408</td>\n",
              "      <td>4</td>\n",
              "      <td>978300275</td>\n",
              "    </tr>\n",
              "    <tr>\n",
              "      <th>4</th>\n",
              "      <td>1</td>\n",
              "      <td>2355</td>\n",
              "      <td>5</td>\n",
              "      <td>978824291</td>\n",
              "    </tr>\n",
              "  </tbody>\n",
              "</table>\n",
              "</div>"
            ],
            "text/plain": [
              "   user_id  movie_id  rating  timestamp\n",
              "0        1      1193       5  978300760\n",
              "1        1       661       3  978302109\n",
              "2        1       914       3  978301968\n",
              "3        1      3408       4  978300275\n",
              "4        1      2355       5  978824291"
            ]
          },
          "metadata": {
            "tags": []
          },
          "execution_count": 3
        }
      ]
    },
    {
      "cell_type": "code",
      "metadata": {
        "id": "KJ_TaXgGIZlL",
        "colab": {
          "base_uri": "https://localhost:8080/"
        },
        "outputId": "e5e878ca-cfad-4b4f-fca5-82176daf0a79"
      },
      "source": [
        "user_list = ratings.user_id.unique()\n",
        "user_idx_map = {e: i for i, e in enumerate(user_list)}\n",
        "n_user = len(user_list)\n",
        "print(f'# of user = {n_user}')\n",
        "\n",
        "item_list = ratings.movie_id.unique()\n",
        "item_idx_map = {e: i for i, e in enumerate(item_list)}\n",
        "n_item = len(item_list)\n",
        "print(f'# of item = {n_item}')"
      ],
      "execution_count": 4,
      "outputs": [
        {
          "output_type": "stream",
          "text": [
            "# of user = 6040\n",
            "# of item = 3706\n"
          ],
          "name": "stdout"
        }
      ]
    },
    {
      "cell_type": "code",
      "metadata": {
        "colab": {
          "base_uri": "https://localhost:8080/",
          "height": 195
        },
        "id": "OZBgXqzfz5_k",
        "outputId": "42b74ff4-fad8-4241-ec51-d049c21b6cc7"
      },
      "source": [
        "ratings = ratings.assign(\r\n",
        "    user_id = ratings.user_id.map(user_idx_map),\r\n",
        "    movie_id = ratings.movie_id.map(item_idx_map)\r\n",
        ")\r\n",
        "ratings.head()"
      ],
      "execution_count": 5,
      "outputs": [
        {
          "output_type": "execute_result",
          "data": {
            "text/html": [
              "<div>\n",
              "<style scoped>\n",
              "    .dataframe tbody tr th:only-of-type {\n",
              "        vertical-align: middle;\n",
              "    }\n",
              "\n",
              "    .dataframe tbody tr th {\n",
              "        vertical-align: top;\n",
              "    }\n",
              "\n",
              "    .dataframe thead th {\n",
              "        text-align: right;\n",
              "    }\n",
              "</style>\n",
              "<table border=\"1\" class=\"dataframe\">\n",
              "  <thead>\n",
              "    <tr style=\"text-align: right;\">\n",
              "      <th></th>\n",
              "      <th>user_id</th>\n",
              "      <th>movie_id</th>\n",
              "      <th>rating</th>\n",
              "      <th>timestamp</th>\n",
              "    </tr>\n",
              "  </thead>\n",
              "  <tbody>\n",
              "    <tr>\n",
              "      <th>0</th>\n",
              "      <td>0</td>\n",
              "      <td>0</td>\n",
              "      <td>5</td>\n",
              "      <td>978300760</td>\n",
              "    </tr>\n",
              "    <tr>\n",
              "      <th>1</th>\n",
              "      <td>0</td>\n",
              "      <td>1</td>\n",
              "      <td>3</td>\n",
              "      <td>978302109</td>\n",
              "    </tr>\n",
              "    <tr>\n",
              "      <th>2</th>\n",
              "      <td>0</td>\n",
              "      <td>2</td>\n",
              "      <td>3</td>\n",
              "      <td>978301968</td>\n",
              "    </tr>\n",
              "    <tr>\n",
              "      <th>3</th>\n",
              "      <td>0</td>\n",
              "      <td>3</td>\n",
              "      <td>4</td>\n",
              "      <td>978300275</td>\n",
              "    </tr>\n",
              "    <tr>\n",
              "      <th>4</th>\n",
              "      <td>0</td>\n",
              "      <td>4</td>\n",
              "      <td>5</td>\n",
              "      <td>978824291</td>\n",
              "    </tr>\n",
              "  </tbody>\n",
              "</table>\n",
              "</div>"
            ],
            "text/plain": [
              "   user_id  movie_id  rating  timestamp\n",
              "0        0         0       5  978300760\n",
              "1        0         1       3  978302109\n",
              "2        0         2       3  978301968\n",
              "3        0         3       4  978300275\n",
              "4        0         4       5  978824291"
            ]
          },
          "metadata": {
            "tags": []
          },
          "execution_count": 5
        }
      ]
    },
    {
      "cell_type": "code",
      "metadata": {
        "id": "dmXavvj5IbOY"
      },
      "source": [
        "def binarizer(df: pd.DataFrame, threshold = 4) -> pd.DataFrame:\n",
        "    df = df.assign(rating = np.where(df.rating >= threshold, 1, 0))\n",
        "    return df[df.rating > 0.0].reset_index(drop = True)\n",
        "\n",
        "def make_warm(df: pd.DataFrame, threshold = 5) -> pd.DataFrame: # remove cold starters\n",
        "    positive = df.groupby('user_id')['movie_id'].count()\n",
        "    positive = positive.index[positive >= threshold]\n",
        "    return df[df.user_id.isin(positive)].reset_index(drop = True)\n",
        "\n",
        "def train_valid_test_split(df: pd.DataFrame, size: float) -> pd.DataFrame:\n",
        "    train_user, test_user = train_test_split(df.user_id.unique(), test_size = 2 * size, random_state = 777)\n",
        "    valid_user, test_user = train_test_split(test_user, test_size = 0.5, random_state = 777)\n",
        "    train, valid, test = map(lambda x: df[df.user_id.isin(x)], (train_user, valid_user, test_user))\n",
        "    train, valid, test = map(lambda df: df.reset_index(drop = True), (train, valid, test))\n",
        "    return train, valid, test\n",
        "\n",
        "def query_relev_split(df: pd.DataFrame, size: float) -> pd.DataFrame:\n",
        "    timeorder = df.groupby('user_id')['timestamp'].rank(method = 'first', ascending = True)\n",
        "    seen_cnts = df.groupby('user_id')['movie_id'].transform('count')\n",
        "    df = df.assign(seen_cnts = seen_cnts, timeorder = timeorder)\n",
        "    query = df[df.timeorder < df.seen_cnts * (1-size)]\n",
        "    relev = df[df.timeorder >= df.seen_cnts * (1-size)]\n",
        "    relev = relev[relev.user_id.isin(query.user_id.unique())]\n",
        "    query, relev = map(lambda df: df.drop(columns = ['timeorder', 'seen_cnts']), (query, relev))\n",
        "    query, relev = map(lambda df: df.reset_index(drop = True), (query, relev))\n",
        "    return query, relev\n",
        "\n",
        "def list_agg(df: pd.DataFrame) -> pd.DataFrame:\n",
        "    return df.groupby('user_id', as_index = False)[['movie_id']].agg(list)"
      ],
      "execution_count": 6,
      "outputs": []
    },
    {
      "cell_type": "code",
      "metadata": {
        "id": "Q61otQWA3tFe",
        "colab": {
          "base_uri": "https://localhost:8080/",
          "height": 195
        },
        "outputId": "deb08fc7-0890-4745-a25f-1139d0e59ca9"
      },
      "source": [
        "data = binarizer(ratings)\n",
        "data = make_warm(data)\n",
        "data.head()"
      ],
      "execution_count": 7,
      "outputs": [
        {
          "output_type": "execute_result",
          "data": {
            "text/html": [
              "<div>\n",
              "<style scoped>\n",
              "    .dataframe tbody tr th:only-of-type {\n",
              "        vertical-align: middle;\n",
              "    }\n",
              "\n",
              "    .dataframe tbody tr th {\n",
              "        vertical-align: top;\n",
              "    }\n",
              "\n",
              "    .dataframe thead th {\n",
              "        text-align: right;\n",
              "    }\n",
              "</style>\n",
              "<table border=\"1\" class=\"dataframe\">\n",
              "  <thead>\n",
              "    <tr style=\"text-align: right;\">\n",
              "      <th></th>\n",
              "      <th>user_id</th>\n",
              "      <th>movie_id</th>\n",
              "      <th>rating</th>\n",
              "      <th>timestamp</th>\n",
              "    </tr>\n",
              "  </thead>\n",
              "  <tbody>\n",
              "    <tr>\n",
              "      <th>0</th>\n",
              "      <td>0</td>\n",
              "      <td>0</td>\n",
              "      <td>1</td>\n",
              "      <td>978300760</td>\n",
              "    </tr>\n",
              "    <tr>\n",
              "      <th>1</th>\n",
              "      <td>0</td>\n",
              "      <td>3</td>\n",
              "      <td>1</td>\n",
              "      <td>978300275</td>\n",
              "    </tr>\n",
              "    <tr>\n",
              "      <th>2</th>\n",
              "      <td>0</td>\n",
              "      <td>4</td>\n",
              "      <td>1</td>\n",
              "      <td>978824291</td>\n",
              "    </tr>\n",
              "    <tr>\n",
              "      <th>3</th>\n",
              "      <td>0</td>\n",
              "      <td>6</td>\n",
              "      <td>1</td>\n",
              "      <td>978302039</td>\n",
              "    </tr>\n",
              "    <tr>\n",
              "      <th>4</th>\n",
              "      <td>0</td>\n",
              "      <td>7</td>\n",
              "      <td>1</td>\n",
              "      <td>978300719</td>\n",
              "    </tr>\n",
              "  </tbody>\n",
              "</table>\n",
              "</div>"
            ],
            "text/plain": [
              "   user_id  movie_id  rating  timestamp\n",
              "0        0         0       1  978300760\n",
              "1        0         3       1  978300275\n",
              "2        0         4       1  978824291\n",
              "3        0         6       1  978302039\n",
              "4        0         7       1  978300719"
            ]
          },
          "metadata": {
            "tags": []
          },
          "execution_count": 7
        }
      ]
    },
    {
      "cell_type": "code",
      "metadata": {
        "id": "QJvVnvKX3uNv"
      },
      "source": [
        "train, valid, test = train_valid_test_split(data, size = 0.1)\n",
        "valid_q, valid_r = query_relev_split(valid, size = 0.2)\n",
        "test_q, test_r = query_relev_split(test, size = 0.2)"
      ],
      "execution_count": 8,
      "outputs": []
    },
    {
      "cell_type": "code",
      "metadata": {
        "id": "Sf7jGLD1bpQT"
      },
      "source": [
        "def train_generator(train: pd.DataFrame, \r\n",
        "                    n_item: int,\r\n",
        "                    batch_size: int) -> np.ndarray:\r\n",
        "\r\n",
        "    train = list_agg(train)\r\n",
        "    \r\n",
        "    n_data = train.index.size\r\n",
        "    ids = np.arange(n_data)\r\n",
        "    profile = train['movie_id']\r\n",
        "\r\n",
        "    n_batch = int(np.ceil(n_data / batch_size))\r\n",
        "    while True:\r\n",
        "        np.random.shuffle(ids)\r\n",
        "        for batch_step in range(n_batch):     \r\n",
        "            lower = batch_size * batch_step\r\n",
        "            upper = batch_size + lower\r\n",
        "            \r\n",
        "            batch_id = ids[lower: upper]\r\n",
        "            batch = np.zeros(shape = (batch_id.size, n_item), dtype = np.float32)\r\n",
        "            for i, idx in enumerate(batch_id):\r\n",
        "                batch[i, profile[idx]] = 1.0\r\n",
        "            \r\n",
        "            yield batch"
      ],
      "execution_count": 9,
      "outputs": []
    },
    {
      "cell_type": "code",
      "metadata": {
        "id": "Us8c86FLTv93"
      },
      "source": [
        "def valid_generator(query: pd.DataFrame,\n",
        "                    relev: pd.DataFrame,\n",
        "                    n_item: int,\n",
        "                    batch_size: int) -> Tuple[np.ndarray]:\n",
        "\n",
        "    query = list_agg(query)\n",
        "    relev = list_agg(relev)\n",
        "\n",
        "    n_data = query.index.size\n",
        "    ids = np.arange(n_data)\n",
        "    profile_q = query['movie_id']\n",
        "    profile_r = relev['movie_id']\n",
        "\n",
        "    n_batch = int(np.ceil(n_data / batch_size))\n",
        "    while True:\n",
        "        np.random.shuffle(ids)\n",
        "        for batch_step in range(n_batch):\n",
        "            lower = batch_size * batch_step\n",
        "            upper = batch_size + lower\n",
        "            \n",
        "            batch_id = ids[lower: upper]\n",
        "            batch_q = np.zeros(shape = (batch_id.size, n_item), dtype = np.float32)\n",
        "            batch_r = np.zeros(shape = (batch_id.size, n_item), dtype = np.float32)\n",
        "            for i, idx in enumerate(batch_id):\n",
        "                batch_q[i, profile_q[idx]] = 1.0 # seen\n",
        "                batch_r[i, profile_r[idx]] = 1.0 # unseen\n",
        "\n",
        "            yield batch_q, batch_r"
      ],
      "execution_count": 10,
      "outputs": []
    },
    {
      "cell_type": "code",
      "metadata": {
        "id": "rHgipqQH0UKF"
      },
      "source": [
        "def rmse(true: tf.Tensor, pred: tf.Tensor) -> tf.Tensor:\n",
        "    rmse = K.sqrt(K.mean(K.square(true - pred), axis = 1))\n",
        "    return K.mean(rmse, axis = 0)\n",
        "\n",
        "def binary_cross_entropy(true: tf.Tensor, pred: tf.Tensor) -> tf.Tensor:\n",
        "    ce = K.sum(K.binary_crossentropy(true, pred), axis = 1)\n",
        "    return K.mean(ce, axis = 0)\n",
        "\n",
        "def multinomial(true: tf.Tensor, pred: tf.Tensor) -> tf.Tensor:\n",
        "    ll = -K.sum(true * K.log(pred), axis = 1)\n",
        "    return K.mean(ll, axis = 0)\n",
        "\n",
        "def batch_ndcg(query: tf.Tensor, \n",
        "               relev: tf.Tensor,\n",
        "               pred: tf.Tensor, \n",
        "               weight: tf.Tensor,\n",
        "               k = 100) -> tf.Tensor: # only for validation\n",
        "\n",
        "    rec = tf.where(query == 1.0, -1.0, pred) # leave only unseen-data\n",
        "    rec = tf.argsort(rec, axis = 1, direction = 'DESCENDING')[:, :k]\n",
        "    shape = tf.shape(rec)\n",
        "\n",
        "    row = tf.repeat(tf.range(shape[0]), shape[1])\n",
        "    row = tf.expand_dims(row, axis = 1)\n",
        "    col = tf.reshape(rec, shape = [-1])\n",
        "    col = tf.expand_dims(col, axis = 1)\n",
        "    loc = tf.concat([row, col], axis = 1)\n",
        "\n",
        "    top_k = tf.reshape(tf.gather_nd(relev, loc), shape = shape)\n",
        "    ideal = tf.sort(relev, axis = 1, direction = 'DESCENDING')[:, :k]\n",
        "    weight = weight[:shape[1]]\n",
        "\n",
        "    dcg = tf.reduce_sum(top_k * weight, axis = 1)\n",
        "    idcg = tf.reduce_sum(ideal * weight, axis = 1)\n",
        "    return tf.reduce_mean(dcg / idcg, axis = 0)"
      ],
      "execution_count": 11,
      "outputs": []
    },
    {
      "cell_type": "code",
      "metadata": {
        "id": "VqB87z-wDm2E"
      },
      "source": [
        "class Encoder(tf.keras.layers.Layer):\r\n",
        "    def __init__(self, units):\r\n",
        "        super(Encoder, self).__init__()\r\n",
        "        self.units = units\r\n",
        "\r\n",
        "    def build(self, input_shape):\r\n",
        "        self.encoder_layer = Dense(2 * self.units,\r\n",
        "                                   activation = 'tanh',\r\n",
        "                                   kernel_initializer = 'glorot_uniform',\r\n",
        "                                   bias_initializer = 'zeros',\r\n",
        "                                   kernel_regularizer = l2(1e-3),\r\n",
        "                                   name = 'mean')\r\n",
        "        self.reshape_layer = Reshape((2, self.units))\r\n",
        "   \r\n",
        "    def call(self, inputs):\r\n",
        "        x = self.encoder_layer(inputs)\r\n",
        "        x = self.reshape_layer(x)\r\n",
        "        return x[:, 0], x[:, 1]"
      ],
      "execution_count": 12,
      "outputs": []
    },
    {
      "cell_type": "code",
      "metadata": {
        "id": "7WtWaOpiEPlz"
      },
      "source": [
        "class Sampling(tf.keras.layers.Layer):\r\n",
        "    def call(self, inputs, training = False):\r\n",
        "        mean, log_var = inputs\r\n",
        "        if training:\r\n",
        "            return mean + K.exp(0.5 * log_var) * K.random_normal(tf.shape(mean))\r\n",
        "        return mean"
      ],
      "execution_count": 13,
      "outputs": []
    },
    {
      "cell_type": "code",
      "metadata": {
        "id": "g5O9BLOKDoSB"
      },
      "source": [
        "class Decoder(tf.keras.layers.Layer):\r\n",
        "    def __init__(self, units, likelihood):\r\n",
        "        super(Decoder, self).__init__()\r\n",
        "        self.units = units\r\n",
        "        self.likelihood = likelihood\r\n",
        "        \r\n",
        "        dist_map = {'multinomial': 'softmax', 'logistic': 'sigmoid', 'gaussian': 'linear'}\r\n",
        "        self.last_activation = dist_map[self.likelihood]\r\n",
        "\r\n",
        "    def build(self, input_shape):\r\n",
        "        self.decoder_layer = Dense(self.units,\r\n",
        "                                   activation = self.last_activation, \r\n",
        "                                   kernel_initializer = 'glorot_uniform',\r\n",
        "                                   bias_initializer = 'zeros',\r\n",
        "                                   kernel_regularizer = l2(1e-3),\r\n",
        "                                   name = 'decoder')\r\n",
        "\r\n",
        "    def call(self, inputs):\r\n",
        "        return self.decoder_layer(inputs)"
      ],
      "execution_count": 14,
      "outputs": []
    },
    {
      "cell_type": "code",
      "metadata": {
        "id": "l20MXSwhqATy"
      },
      "source": [
        "class VAE(tf.keras.models.Model):\r\n",
        "    def __init__(self, input_dim, latent_dim, dropout_rate, anneal_rate, likelihood = 'multinomial'):\r\n",
        "        super(VAE, self).__init__()\r\n",
        "        self.input_dim = input_dim\r\n",
        "        self.latent_dim = latent_dim\r\n",
        "        self.dropout_rate = dropout_rate\r\n",
        "        self.anneal_rate = anneal_rate\r\n",
        "        self.likelihood = likelihood\r\n",
        "\r\n",
        "        self.dropout= Dropout(self.dropout_rate)\r\n",
        "        self.encoder = Encoder(self.latent_dim)\r\n",
        "        self.sampler = Sampling()\r\n",
        "        self.decoder = Decoder(self.input_dim, self.likelihood)\r\n",
        "\r\n",
        "        _ = self.call(Input(shape = (self.input_dim, )), training = True)\r\n",
        "        self.build(input_shape = (None, self.input_dim))\r\n",
        "\r\n",
        "    def call(self, inputs, training = False):\r\n",
        "        x = self.dropout(inputs) if training else inputs\r\n",
        "        mean, log_var = self.encoder(x)\r\n",
        "        z = self.sampler([mean, log_var], training)\r\n",
        "        if training:\r\n",
        "            return self.decoder(z), mean, log_var\r\n",
        "        return self.decoder(z)\r\n",
        "\r\n",
        "    def kld_loss(self, mean, log_var):\r\n",
        "        kl = -0.5 * K.sum(1 + log_var - K.exp(log_var) - K.square(mean), axis = 1)\r\n",
        "        return K.mean(kl, axis = 0)\r\n",
        "        \r\n",
        "    def train_step(self, inputs):\r\n",
        "        with tf.GradientTape() as tape:\r\n",
        "            outputs, mean, log_var = self(inputs, training = True)\r\n",
        "            ll_loss = self.loss(inputs, outputs)\r\n",
        "            kl_loss = self.anneal_rate * self.kld_loss(mean, log_var)\r\n",
        "            loss = ll_loss + kl_loss\r\n",
        "        grads = tape.gradient(loss, self.trainable_variables)\r\n",
        "        self.optimizer.apply_gradients(zip(grads, self.trainable_variables))\r\n",
        "        return {'loss': loss}\r\n",
        "\r\n",
        "    def test_step(self, data):\r\n",
        "        query, relev = data\r\n",
        "        pred = self(query)\r\n",
        "\r\n",
        "        weight = tf.range(2, self.input_dim, dtype = 'float32')\r\n",
        "        weight = tf.math.reciprocal(tf.math.log(weight))\r\n",
        "        ndcg = batch_ndcg(query, relev, pred, weight)\r\n",
        "        return {'ndcg': ndcg}"
      ],
      "execution_count": 15,
      "outputs": []
    },
    {
      "cell_type": "code",
      "metadata": {
        "id": "Vc70c_-V0PfB"
      },
      "source": [
        "def show_history(hist, loss: str, metric: str) -> None:\r\n",
        "    fig, (ax1, ax2) = plt.subplots(2, 1, figsize = (8, 6))\r\n",
        "\r\n",
        "    ax1.plot(hist.history[f'{loss}'])\r\n",
        "    ax1.set_title(loss, fontsize = 20)\r\n",
        "    ax1.set_ylabel(loss)\r\n",
        "    ax1.set_xlabel('epoch')\r\n",
        "\r\n",
        "    ax2.plot(hist.history[f'val_{metric}'])\r\n",
        "    ax2.set_title(metric, fontsize = 20)\r\n",
        "    ax2.set_ylabel(metric)\r\n",
        "    ax2.set_xlabel('epoch')\r\n",
        "    plt.tight_layout()"
      ],
      "execution_count": 16,
      "outputs": []
    },
    {
      "cell_type": "code",
      "metadata": {
        "id": "NHoctUBox1Z4"
      },
      "source": [
        "def test_predictor(query: pd.DataFrame, \n",
        "                   model: Callable,\n",
        "                   n_item: int, \n",
        "                   batch_size: int, \n",
        "                   N = 100) -> float:\n",
        "\n",
        "    query = list_agg(query)\n",
        "\n",
        "    n_data = query.index.size\n",
        "    ids = np.arange(n_data)\n",
        "    profile = query['movie_id']\n",
        "\n",
        "    pred = []\n",
        "    n_batch = int(np.ceil(n_data / batch_size))\n",
        "    for batch_step in range(n_batch):\n",
        "        lower = batch_size * batch_step\n",
        "        upper = batch_size + lower\n",
        "\n",
        "        batch_id = ids[lower: upper]\n",
        "        batch = np.zeros(shape = (batch_id.size, n_item))\n",
        "        for i, idx in enumerate(batch_id):\n",
        "            batch[i, profile[idx]] = 1.0\n",
        "\n",
        "        pred_batch = model.predict(batch, verbose = 0)\n",
        "        \n",
        "        rec = np.argsort(np.where(batch == 1.0, -1.0, pred_batch), axis = 1)[:, :-N-1:-1]\n",
        "        pred.append(rec)\n",
        "    pred = np.concatenate(pred)\n",
        "    pred = [{'user_id': query.at[i, 'user_id'], 'movie_id': pred[i]} for i in range(n_data)]\n",
        "    return pd.DataFrame(pred)"
      ],
      "execution_count": 17,
      "outputs": []
    },
    {
      "cell_type": "code",
      "metadata": {
        "id": "G05LGp9eAfE0"
      },
      "source": [
        "class evaluate:\n",
        "    def __init__(self, true: pd.DataFrame, pred: pd.DataFrame):\n",
        "        self.true = true\n",
        "        self.pred = pred\n",
        "        self.max_K = 10000\n",
        "        self.idcg = np.cumsum([1.0 / np.log(i+2) for i in range(self.max_K)])\n",
        "\n",
        "    def _recall(self, gt: List, rec: List, K = None) -> float:\n",
        "        K = K if K else self.max_K\n",
        "        res = [r for r in rec[:K] if r in gt]\n",
        "        return len(res) / np.min([K, len(gt)])\n",
        "    \n",
        "    def _precision(self, gt: List, rec: List, K = None) -> float:\n",
        "        K = K if K else self.max_K\n",
        "        res = [r for r in rec[:K] if r in gt]\n",
        "        return len(res) / len(rec[:K])\n",
        "\n",
        "    def _AP(self, gt: List, rec: List, K = None) -> float: # Average Precision\n",
        "        K = K if K else self.max_K\n",
        "        res = 0.0\n",
        "        for i, r in enumerate(rec[:K]):\n",
        "            if r in gt:\n",
        "                res += self._precision(gt, rec[:K], i+1)\n",
        "        return res / np.min([K, len(gt)])\n",
        "\n",
        "    def _RR(self, gt: List, rec: List, K = None) -> float: # Reciprocal Rank\n",
        "        K = K if K else self.max_K\n",
        "        for i, r in enumerate(rec[:K]):\n",
        "            if r in gt:\n",
        "                return  1.0 / (i+1)\n",
        "        return 0\n",
        "\n",
        "    def _nDCG(self, gt: List, rec: List, K = None) -> float: # normalized Discounted Cumulative Gain\n",
        "        K = K if K else self.max_K\n",
        "        dcg = 0.0\n",
        "        for i, r in enumerate(rec[:K]):\n",
        "            if r in gt:\n",
        "                dcg += 1.0 / np.log(i+2)\n",
        "        idcg = self.idcg[min([len(gt), K])-1]\n",
        "        return dcg / idcg\n",
        "    \n",
        "    def __call__(self, K = None):\n",
        "        self.K = K\n",
        "        self.recall = 0\n",
        "        self.precision = 0\n",
        "        self.MAP = 0\n",
        "        self.MRR = 0\n",
        "        self.nDCG = 0\n",
        "        n = self.true.index.size\n",
        "        for gt, rec in zip(tqdm(self.true.movie_id), self.pred.movie_id):\n",
        "            self.recall += self._recall(gt, rec, K) / n\n",
        "            self.precision += self._precision(gt, rec, K) / n\n",
        "            self.MAP += self._AP(gt, rec, K) / n\n",
        "            self.MRR += self._RR(gt, rec, K) / n\n",
        "            self.nDCG += self._nDCG(gt, rec, K) / n\n",
        "\n",
        "    def print_all(self):\n",
        "        K = '@' + str(self.K) if self.K else ''\n",
        "        print(f'{\"Recall\":>12}{K} : {self.recall:.5f}',\n",
        "              f'\\n{\"Precision\":>12}{K} : {self.precision:.5f}',\n",
        "              f'\\n{\"MAP\":>12}{K} : {self.MAP:.5f}',\n",
        "              f'\\n{\"MRR\":>12}{K} : {self.MRR:.5f}',\n",
        "              f'\\n{\"nDCG\":>12}{K} : {self.nDCG:.5f}')"
      ],
      "execution_count": 18,
      "outputs": []
    },
    {
      "cell_type": "code",
      "metadata": {
        "id": "FqV0G-jz0HbN"
      },
      "source": [
        "epochs = 100\r\n",
        "batch_size = 128\r\n",
        "\r\n",
        "train_gen = train_generator(train, n_item, batch_size)\r\n",
        "valid_gen = valid_generator(valid_q, valid_r, n_item, batch_size)\r\n",
        "\r\n",
        "steps_per_epoch = train.user_id.nunique() // batch_size + 1\r\n",
        "validation_steps = valid.user_id.nunique() // batch_size + 1"
      ],
      "execution_count": 19,
      "outputs": []
    },
    {
      "cell_type": "markdown",
      "metadata": {
        "id": "JiZzjtRaFhlg"
      },
      "source": [
        "## 1. Multinomial"
      ]
    },
    {
      "cell_type": "code",
      "metadata": {
        "colab": {
          "base_uri": "https://localhost:8080/"
        },
        "id": "EfDSYBod6ZuU",
        "outputId": "0f97ab73-f035-47e1-e816-26a55dad9c0e"
      },
      "source": [
        "model = VAE(n_item, latent_dim = 256, dropout_rate = 0.5, anneal_rate = 0.2)\r\n",
        "model.compile(optimizer = Adam(lr = 1e-4), loss = multinomial)\r\n",
        "\r\n",
        "model.summary()"
      ],
      "execution_count": 20,
      "outputs": [
        {
          "output_type": "stream",
          "text": [
            "Model: \"vae\"\n",
            "_________________________________________________________________\n",
            "Layer (type)                 Output Shape              Param #   \n",
            "=================================================================\n",
            "dropout (Dropout)            (None, 3706)              0         \n",
            "_________________________________________________________________\n",
            "encoder (Encoder)            ((None, 256), (None, 256) 1897984   \n",
            "_________________________________________________________________\n",
            "sampling (Sampling)          (None, 256)               0         \n",
            "_________________________________________________________________\n",
            "decoder (Decoder)            (None, 3706)              952442    \n",
            "=================================================================\n",
            "Total params: 2,850,426\n",
            "Trainable params: 2,850,426\n",
            "Non-trainable params: 0\n",
            "_________________________________________________________________\n"
          ],
          "name": "stdout"
        }
      ]
    },
    {
      "cell_type": "code",
      "metadata": {
        "colab": {
          "base_uri": "https://localhost:8080/",
          "height": 1000
        },
        "id": "aOSh_Etb0Ldx",
        "outputId": "9078b947-3f4d-4edd-c5f8-d59225817515"
      },
      "source": [
        "%%time\r\n",
        "early_stopping = EarlyStopping(monitor = 'val_ndcg', mode = 'max', verbose = 1, patience = epochs // 5)\r\n",
        "model_checkpoint = ModelCheckpoint('mult-VAE.h5', monitor = 'val_ndcg', mode = 'max', save_best_only = True)\r\n",
        "\r\n",
        "hist = model.fit(x = train_gen, validation_data = valid_gen, epochs = epochs,\r\n",
        "                 steps_per_epoch = steps_per_epoch, validation_steps = validation_steps, \r\n",
        "                 verbose = 1, callbacks = [early_stopping, model_checkpoint])\r\n",
        "show_history(hist, 'loss', 'ndcg')"
      ],
      "execution_count": 21,
      "outputs": [
        {
          "output_type": "stream",
          "text": [
            "Epoch 1/100\n",
            "38/38 [==============================] - 3s 20ms/step - loss: 790.2711 - val_ndcg: 0.0615\n",
            "Epoch 2/100\n",
            "38/38 [==============================] - 0s 8ms/step - loss: 764.9847 - val_ndcg: 0.1262\n",
            "Epoch 3/100\n",
            "38/38 [==============================] - 0s 8ms/step - loss: 734.9812 - val_ndcg: 0.1369\n",
            "Epoch 4/100\n",
            "38/38 [==============================] - 0s 8ms/step - loss: 720.2128 - val_ndcg: 0.1490\n",
            "Epoch 5/100\n",
            "38/38 [==============================] - 0s 8ms/step - loss: 717.7779 - val_ndcg: 0.1494\n",
            "Epoch 6/100\n",
            "38/38 [==============================] - 0s 8ms/step - loss: 711.3165 - val_ndcg: 0.1639\n",
            "Epoch 7/100\n",
            "38/38 [==============================] - 0s 8ms/step - loss: 715.9703 - val_ndcg: 0.1487\n",
            "Epoch 8/100\n",
            "38/38 [==============================] - 0s 8ms/step - loss: 710.7153 - val_ndcg: 0.1709\n",
            "Epoch 9/100\n",
            "38/38 [==============================] - 0s 8ms/step - loss: 705.2137 - val_ndcg: 0.1631\n",
            "Epoch 10/100\n",
            "38/38 [==============================] - 0s 8ms/step - loss: 704.1770 - val_ndcg: 0.1733\n",
            "Epoch 11/100\n",
            "38/38 [==============================] - 0s 8ms/step - loss: 705.8942 - val_ndcg: 0.1743\n",
            "Epoch 12/100\n",
            "38/38 [==============================] - 0s 8ms/step - loss: 698.1043 - val_ndcg: 0.1862\n",
            "Epoch 13/100\n",
            "38/38 [==============================] - 0s 9ms/step - loss: 695.4157 - val_ndcg: 0.1679\n",
            "Epoch 14/100\n",
            "38/38 [==============================] - 0s 8ms/step - loss: 696.7531 - val_ndcg: 0.1679\n",
            "Epoch 15/100\n",
            "38/38 [==============================] - 0s 8ms/step - loss: 696.6508 - val_ndcg: 0.1703\n",
            "Epoch 16/100\n",
            "38/38 [==============================] - 0s 9ms/step - loss: 692.6747 - val_ndcg: 0.1900\n",
            "Epoch 17/100\n",
            "38/38 [==============================] - 0s 8ms/step - loss: 687.8589 - val_ndcg: 0.1582\n",
            "Epoch 18/100\n",
            "38/38 [==============================] - 0s 8ms/step - loss: 689.5685 - val_ndcg: 0.2004\n",
            "Epoch 19/100\n",
            "38/38 [==============================] - 0s 8ms/step - loss: 685.3638 - val_ndcg: 0.1827\n",
            "Epoch 20/100\n",
            "38/38 [==============================] - 0s 8ms/step - loss: 683.7685 - val_ndcg: 0.1833\n",
            "Epoch 21/100\n",
            "38/38 [==============================] - 0s 8ms/step - loss: 684.4359 - val_ndcg: 0.1670\n",
            "Epoch 22/100\n",
            "38/38 [==============================] - 0s 8ms/step - loss: 682.3496 - val_ndcg: 0.2141\n",
            "Epoch 23/100\n",
            "38/38 [==============================] - 0s 8ms/step - loss: 682.9136 - val_ndcg: 0.1833\n",
            "Epoch 24/100\n",
            "38/38 [==============================] - 0s 8ms/step - loss: 682.1420 - val_ndcg: 0.2142\n",
            "Epoch 25/100\n",
            "38/38 [==============================] - 0s 8ms/step - loss: 677.0250 - val_ndcg: 0.2071\n",
            "Epoch 26/100\n",
            "38/38 [==============================] - 0s 8ms/step - loss: 676.5534 - val_ndcg: 0.2117\n",
            "Epoch 27/100\n",
            "38/38 [==============================] - 0s 8ms/step - loss: 674.1814 - val_ndcg: 0.2094\n",
            "Epoch 28/100\n",
            "38/38 [==============================] - 0s 8ms/step - loss: 677.0584 - val_ndcg: 0.2199\n",
            "Epoch 29/100\n",
            "38/38 [==============================] - 0s 8ms/step - loss: 671.2233 - val_ndcg: 0.1802\n",
            "Epoch 30/100\n",
            "38/38 [==============================] - 0s 8ms/step - loss: 672.5855 - val_ndcg: 0.2242\n",
            "Epoch 31/100\n",
            "38/38 [==============================] - 0s 8ms/step - loss: 674.9824 - val_ndcg: 0.2172\n",
            "Epoch 32/100\n",
            "38/38 [==============================] - 0s 8ms/step - loss: 672.1902 - val_ndcg: 0.1929\n",
            "Epoch 33/100\n",
            "38/38 [==============================] - 0s 8ms/step - loss: 668.4472 - val_ndcg: 0.1901\n",
            "Epoch 34/100\n",
            "38/38 [==============================] - 0s 8ms/step - loss: 667.5925 - val_ndcg: 0.2071\n",
            "Epoch 35/100\n",
            "38/38 [==============================] - 0s 8ms/step - loss: 665.7378 - val_ndcg: 0.2126\n",
            "Epoch 36/100\n",
            "38/38 [==============================] - 0s 8ms/step - loss: 669.2565 - val_ndcg: 0.1866\n",
            "Epoch 37/100\n",
            "38/38 [==============================] - 0s 7ms/step - loss: 666.4213 - val_ndcg: 0.2130\n",
            "Epoch 38/100\n",
            "38/38 [==============================] - 0s 8ms/step - loss: 664.7935 - val_ndcg: 0.2138\n",
            "Epoch 39/100\n",
            "38/38 [==============================] - 0s 8ms/step - loss: 666.0225 - val_ndcg: 0.2050\n",
            "Epoch 40/100\n",
            "38/38 [==============================] - 0s 8ms/step - loss: 662.4913 - val_ndcg: 0.1838\n",
            "Epoch 41/100\n",
            "38/38 [==============================] - 0s 8ms/step - loss: 665.4812 - val_ndcg: 0.1917\n",
            "Epoch 42/100\n",
            "38/38 [==============================] - 0s 8ms/step - loss: 666.1038 - val_ndcg: 0.2003\n",
            "Epoch 43/100\n",
            "38/38 [==============================] - 0s 8ms/step - loss: 664.0577 - val_ndcg: 0.2061\n",
            "Epoch 44/100\n",
            "38/38 [==============================] - 0s 8ms/step - loss: 661.5553 - val_ndcg: 0.2031\n",
            "Epoch 45/100\n",
            "38/38 [==============================] - 0s 8ms/step - loss: 663.5983 - val_ndcg: 0.2066\n",
            "Epoch 46/100\n",
            "38/38 [==============================] - 0s 8ms/step - loss: 666.5452 - val_ndcg: 0.2110\n",
            "Epoch 47/100\n",
            "38/38 [==============================] - 0s 8ms/step - loss: 666.3806 - val_ndcg: 0.2213\n",
            "Epoch 48/100\n",
            "38/38 [==============================] - 0s 8ms/step - loss: 661.1912 - val_ndcg: 0.2121\n",
            "Epoch 49/100\n",
            "38/38 [==============================] - 0s 8ms/step - loss: 658.4014 - val_ndcg: 0.2238\n",
            "Epoch 50/100\n",
            "38/38 [==============================] - 0s 8ms/step - loss: 659.8701 - val_ndcg: 0.1913\n",
            "Epoch 00050: early stopping\n",
            "CPU times: user 21.5 s, sys: 2.09 s, total: 23.6 s\n",
            "Wall time: 18.5 s\n"
          ],
          "name": "stdout"
        },
        {
          "output_type": "display_data",
          "data": {
            "image/png": "[encoded data removed]",
            "text/plain": [
              "<Figure size 576x432 with 2 Axes>"
            ]
          },
          "metadata": {
            "tags": [],
            "needs_background": "light"
          }
        }
      ]
    },
    {
      "cell_type": "code",
      "metadata": {
        "colab": {
          "base_uri": "https://localhost:8080/",
          "height": 195
        },
        "id": "-4tP0-a-zSxv",
        "outputId": "ae05a50d-b21c-4b89-a49e-b8ce14998a9c"
      },
      "source": [
        "true = list_agg(test_r)\r\n",
        "true.head(5)"
      ],
      "execution_count": 22,
      "outputs": [
        {
          "output_type": "execute_result",
          "data": {
            "text/html": [
              "<div>\n",
              "<style scoped>\n",
              "    .dataframe tbody tr th:only-of-type {\n",
              "        vertical-align: middle;\n",
              "    }\n",
              "\n",
              "    .dataframe tbody tr th {\n",
              "        vertical-align: top;\n",
              "    }\n",
              "\n",
              "    .dataframe thead th {\n",
              "        text-align: right;\n",
              "    }\n",
              "</style>\n",
              "<table border=\"1\" class=\"dataframe\">\n",
              "  <thead>\n",
              "    <tr style=\"text-align: right;\">\n",
              "      <th></th>\n",
              "      <th>user_id</th>\n",
              "      <th>movie_id</th>\n",
              "    </tr>\n",
              "  </thead>\n",
              "  <tbody>\n",
              "    <tr>\n",
              "      <th>0</th>\n",
              "      <td>2</td>\n",
              "      <td>[177, 179, 183, 84, 4, 198, 199, 207]</td>\n",
              "    </tr>\n",
              "    <tr>\n",
              "      <th>1</th>\n",
              "      <td>8</td>\n",
              "      <td>[59, 438, 93, 123, 463, 525, 30, 288, 534, 322...</td>\n",
              "    </tr>\n",
              "    <tr>\n",
              "      <th>2</th>\n",
              "      <td>41</td>\n",
              "      <td>[175, 182, 563, 184, 1176, 116, 128, 1037, 104...</td>\n",
              "    </tr>\n",
              "    <tr>\n",
              "      <th>3</th>\n",
              "      <td>78</td>\n",
              "      <td>[1258, 305, 500, 2230]</td>\n",
              "    </tr>\n",
              "    <tr>\n",
              "      <th>4</th>\n",
              "      <td>91</td>\n",
              "      <td>[558, 1176, 195, 587, 592, 74, 1904, 186, 647,...</td>\n",
              "    </tr>\n",
              "  </tbody>\n",
              "</table>\n",
              "</div>"
            ],
            "text/plain": [
              "   user_id                                           movie_id\n",
              "0        2              [177, 179, 183, 84, 4, 198, 199, 207]\n",
              "1        8  [59, 438, 93, 123, 463, 525, 30, 288, 534, 322...\n",
              "2       41  [175, 182, 563, 184, 1176, 116, 128, 1037, 104...\n",
              "3       78                             [1258, 305, 500, 2230]\n",
              "4       91  [558, 1176, 195, 587, 592, 74, 1904, 186, 647,..."
            ]
          },
          "metadata": {
            "tags": []
          },
          "execution_count": 22
        }
      ]
    },
    {
      "cell_type": "code",
      "metadata": {
        "id": "fgw83iYFysnj",
        "colab": {
          "base_uri": "https://localhost:8080/",
          "height": 195
        },
        "outputId": "7758b53a-b075-43b5-f234-00906a7daca4"
      },
      "source": [
        "pred = test_predictor(test_q, model, n_item, batch_size, N = 100)\n",
        "pred.head(5)"
      ],
      "execution_count": 23,
      "outputs": [
        {
          "output_type": "execute_result",
          "data": {
            "text/html": [
              "<div>\n",
              "<style scoped>\n",
              "    .dataframe tbody tr th:only-of-type {\n",
              "        vertical-align: middle;\n",
              "    }\n",
              "\n",
              "    .dataframe tbody tr th {\n",
              "        vertical-align: top;\n",
              "    }\n",
              "\n",
              "    .dataframe thead th {\n",
              "        text-align: right;\n",
              "    }\n",
              "</style>\n",
              "<table border=\"1\" class=\"dataframe\">\n",
              "  <thead>\n",
              "    <tr style=\"text-align: right;\">\n",
              "      <th></th>\n",
              "      <th>user_id</th>\n",
              "      <th>movie_id</th>\n",
              "    </tr>\n",
              "  </thead>\n",
              "  <tbody>\n",
              "    <tr>\n",
              "      <th>0</th>\n",
              "      <td>2</td>\n",
              "      <td>[48, 92, 22, 97, 132, 217, 210, 151, 171, 23, ...</td>\n",
              "    </tr>\n",
              "    <tr>\n",
              "      <th>1</th>\n",
              "      <td>8</td>\n",
              "      <td>[244, 184, 134, 92, 68, 171, 315, 44, 124, 97,...</td>\n",
              "    </tr>\n",
              "    <tr>\n",
              "      <th>2</th>\n",
              "      <td>41</td>\n",
              "      <td>[132, 62, 160, 189, 155, 856, 758, 775, 86, 72...</td>\n",
              "    </tr>\n",
              "    <tr>\n",
              "      <th>3</th>\n",
              "      <td>78</td>\n",
              "      <td>[104, 38, 68, 128, 48, 184, 44, 97, 132, 92, 5...</td>\n",
              "    </tr>\n",
              "    <tr>\n",
              "      <th>4</th>\n",
              "      <td>91</td>\n",
              "      <td>[44, 64, 124, 9, 8, 612, 741, 596, 733, 104, 6...</td>\n",
              "    </tr>\n",
              "  </tbody>\n",
              "</table>\n",
              "</div>"
            ],
            "text/plain": [
              "   user_id                                           movie_id\n",
              "0        2  [48, 92, 22, 97, 132, 217, 210, 151, 171, 23, ...\n",
              "1        8  [244, 184, 134, 92, 68, 171, 315, 44, 124, 97,...\n",
              "2       41  [132, 62, 160, 189, 155, 856, 758, 775, 86, 72...\n",
              "3       78  [104, 38, 68, 128, 48, 184, 44, 97, 132, 92, 5...\n",
              "4       91  [44, 64, 124, 9, 8, 612, 741, 596, 733, 104, 6..."
            ]
          },
          "metadata": {
            "tags": []
          },
          "execution_count": 23
        }
      ]
    },
    {
      "cell_type": "code",
      "metadata": {
        "id": "jKQgNhpY0Bjl",
        "colab": {
          "base_uri": "https://localhost:8080/",
          "height": 292,
          "referenced_widgets": [
            "ca23871c2a014b90af0ce28ffe091b68",
            "8611ca1639fa49e5a3327e91915c9d1a",
            "68109c3e2de747acbd90b0d29599583f",
            "a7cbd31015cd448ebdf1f6873abfa534",
            "3dde720576e04e0fb12e75a5efb25e42",
            "46fcef68c03c4ac9bb77142f63b71c8a",
            "468fa0e1aa5346c587289772b25ad68e",
            "932eaaf431164a99a4bf39ef67bc9d60",
            "2e9272bd654b4c28801c2372fa78a728",
            "476fc25914a74c38879fdc12911a283e",
            "10ffdbe5f7c9439084b9118daa154f91",
            "7bb59b398efc4b0eadc9b281f7eeef7d",
            "2f9e7f56327c48ab87c27ddbe9f5acfc",
            "2e443ced276f4f13b8bcff3d2e636769",
            "916d38f7b18a4e0fbfc935e2efb8b40c",
            "544e0f6d39b34b1084b9227e769c9ce0"
          ]
        },
        "outputId": "2de933a7-5c34-495d-b465-9485bfe9501e"
      },
      "source": [
        "scores = evaluate(true, pred)\n",
        "\n",
        "scores(K = 20)\n",
        "scores.print_all()\n",
        "\n",
        "scores(K = 100)\n",
        "scores.print_all()"
      ],
      "execution_count": 24,
      "outputs": [
        {
          "output_type": "display_data",
          "data": {
            "application/vnd.jupyter.widget-view+json": {
              "model_id": "ca23871c2a014b90af0ce28ffe091b68",
              "version_minor": 0,
              "version_major": 2
            },
            "text/plain": [
              "HBox(children=(FloatProgress(value=0.0, max=604.0), HTML(value='')))"
            ]
          },
          "metadata": {
            "tags": []
          }
        },
        {
          "output_type": "stream",
          "text": [
            "\n",
            "      Recall@20 : 0.13176 \n",
            "   Precision@20 : 0.07980 \n",
            "         MAP@20 : 0.04657 \n",
            "         MRR@20 : 0.23441 \n",
            "        nDCG@20 : 0.11709\n"
          ],
          "name": "stdout"
        },
        {
          "output_type": "display_data",
          "data": {
            "application/vnd.jupyter.widget-view+json": {
              "model_id": "2e9272bd654b4c28801c2372fa78a728",
              "version_minor": 0,
              "version_major": 2
            },
            "text/plain": [
              "HBox(children=(FloatProgress(value=0.0, max=604.0), HTML(value='')))"
            ]
          },
          "metadata": {
            "tags": []
          }
        },
        {
          "output_type": "stream",
          "text": [
            "\n",
            "      Recall@100 : 0.36462 \n",
            "   Precision@100 : 0.05621 \n",
            "         MAP@100 : 0.05923 \n",
            "         MRR@100 : 0.24296 \n",
            "        nDCG@100 : 0.20713\n"
          ],
          "name": "stdout"
        }
      ]
    },
    {
      "cell_type": "markdown",
      "metadata": {
        "id": "rGSWMi2K3_8s"
      },
      "source": [
        "## 2. Logistic"
      ]
    },
    {
      "cell_type": "code",
      "metadata": {
        "colab": {
          "base_uri": "https://localhost:8080/"
        },
        "id": "75Jaa7PCFo4h",
        "outputId": "653d30e0-e2b2-42aa-b6ac-1ae12fa8e11c"
      },
      "source": [
        "model = VAE(n_item, latent_dim = 256, dropout_rate = 0.5, anneal_rate = 0.2, likelihood = 'logistic')\r\n",
        "model.compile(optimizer = Adam(lr = 1e-4), loss = binary_cross_entropy)\r\n",
        "\r\n",
        "model.summary()"
      ],
      "execution_count": 25,
      "outputs": [
        {
          "output_type": "stream",
          "text": [
            "Model: \"vae_1\"\n",
            "_________________________________________________________________\n",
            "Layer (type)                 Output Shape              Param #   \n",
            "=================================================================\n",
            "dropout_1 (Dropout)          (None, 3706)              0         \n",
            "_________________________________________________________________\n",
            "encoder_1 (Encoder)          ((None, 256), (None, 256) 1897984   \n",
            "_________________________________________________________________\n",
            "sampling_1 (Sampling)        (None, 256)               0         \n",
            "_________________________________________________________________\n",
            "decoder_1 (Decoder)          (None, 3706)              952442    \n",
            "=================================================================\n",
            "Total params: 2,850,426\n",
            "Trainable params: 2,850,426\n",
            "Non-trainable params: 0\n",
            "_________________________________________________________________\n"
          ],
          "name": "stdout"
        }
      ]
    },
    {
      "cell_type": "code",
      "metadata": {
        "colab": {
          "base_uri": "https://localhost:8080/",
          "height": 1000
        },
        "id": "BZbS8YbmFo4i",
        "outputId": "ea93b1d9-2f75-4470-e459-1e535155804e"
      },
      "source": [
        "%%time\r\n",
        "early_stopping = EarlyStopping(monitor = 'val_ndcg', mode = 'max', verbose = 1, patience = epochs // 5)\r\n",
        "model_checkpoint = ModelCheckpoint('logi-VAE.h5', monitor = 'val_ndcg', mode = 'max', save_best_only = True)\r\n",
        "\r\n",
        "hist = model.fit(x = train_gen, validation_data = valid_gen, epochs = epochs,\r\n",
        "                 steps_per_epoch = steps_per_epoch, validation_steps = validation_steps, \r\n",
        "                 verbose = 1, callbacks = [early_stopping, model_checkpoint])\r\n",
        "show_history(hist, 'loss', 'ndcg')"
      ],
      "execution_count": 26,
      "outputs": [
        {
          "output_type": "stream",
          "text": [
            "Epoch 1/100\n",
            "38/38 [==============================] - 1s 12ms/step - loss: 2530.8128 - val_ndcg: 0.0475\n",
            "Epoch 2/100\n",
            "38/38 [==============================] - 0s 8ms/step - loss: 1972.0025 - val_ndcg: 0.1144\n",
            "Epoch 3/100\n",
            "38/38 [==============================] - 0s 9ms/step - loss: 1326.2715 - val_ndcg: 0.1343\n",
            "Epoch 4/100\n",
            "38/38 [==============================] - 0s 12ms/step - loss: 983.5166 - val_ndcg: 0.1625\n",
            "Epoch 5/100\n",
            "38/38 [==============================] - 0s 8ms/step - loss: 800.4059 - val_ndcg: 0.1572\n",
            "Epoch 6/100\n",
            "38/38 [==============================] - 0s 8ms/step - loss: 701.9360 - val_ndcg: 0.1473\n",
            "Epoch 7/100\n",
            "38/38 [==============================] - 0s 8ms/step - loss: 638.6970 - val_ndcg: 0.1465\n",
            "Epoch 8/100\n",
            "38/38 [==============================] - 0s 8ms/step - loss: 597.4224 - val_ndcg: 0.1437\n",
            "Epoch 9/100\n",
            "38/38 [==============================] - 0s 9ms/step - loss: 564.9872 - val_ndcg: 0.1531\n",
            "Epoch 10/100\n",
            "38/38 [==============================] - 0s 9ms/step - loss: 547.2012 - val_ndcg: 0.1455\n",
            "Epoch 11/100\n",
            "38/38 [==============================] - 0s 8ms/step - loss: 528.9292 - val_ndcg: 0.1309\n",
            "Epoch 12/100\n",
            "38/38 [==============================] - 0s 8ms/step - loss: 512.5093 - val_ndcg: 0.1281\n",
            "Epoch 13/100\n",
            "38/38 [==============================] - 0s 8ms/step - loss: 505.1934 - val_ndcg: 0.1512\n",
            "Epoch 14/100\n",
            "38/38 [==============================] - 0s 8ms/step - loss: 492.1157 - val_ndcg: 0.1376\n",
            "Epoch 15/100\n",
            "38/38 [==============================] - 0s 8ms/step - loss: 485.0523 - val_ndcg: 0.1593\n",
            "Epoch 16/100\n",
            "38/38 [==============================] - 0s 8ms/step - loss: 479.5702 - val_ndcg: 0.1375\n",
            "Epoch 17/100\n",
            "38/38 [==============================] - 0s 8ms/step - loss: 473.1795 - val_ndcg: 0.1606\n",
            "Epoch 18/100\n",
            "38/38 [==============================] - 0s 8ms/step - loss: 469.8881 - val_ndcg: 0.1474\n",
            "Epoch 19/100\n",
            "38/38 [==============================] - 0s 8ms/step - loss: 462.3114 - val_ndcg: 0.1462\n",
            "Epoch 20/100\n",
            "38/38 [==============================] - 0s 8ms/step - loss: 462.4916 - val_ndcg: 0.1508\n",
            "Epoch 21/100\n",
            "38/38 [==============================] - 0s 8ms/step - loss: 458.3724 - val_ndcg: 0.1533\n",
            "Epoch 22/100\n",
            "38/38 [==============================] - 0s 8ms/step - loss: 450.9294 - val_ndcg: 0.1525\n",
            "Epoch 23/100\n",
            "38/38 [==============================] - 0s 11ms/step - loss: 454.3284 - val_ndcg: 0.1574\n",
            "Epoch 24/100\n",
            "38/38 [==============================] - 0s 8ms/step - loss: 447.0410 - val_ndcg: 0.1495\n",
            "Epoch 00024: early stopping\n",
            "CPU times: user 10.9 s, sys: 878 ms, total: 11.8 s\n",
            "Wall time: 8.44 s\n"
          ],
          "name": "stdout"
        },
        {
          "output_type": "display_data",
          "data": {
            "image/png": "[encoded data removed]",
            "text/plain": [
              "<Figure size 576x432 with 2 Axes>"
            ]
          },
          "metadata": {
            "tags": [],
            "needs_background": "light"
          }
        }
      ]
    },
    {
      "cell_type": "code",
      "metadata": {
        "colab": {
          "base_uri": "https://localhost:8080/",
          "height": 195
        },
        "id": "IgoF0-JiFo4k",
        "outputId": "36c2bcf0-2369-4bef-9635-042c84ca7ed4"
      },
      "source": [
        "true = list_agg(test_r)\r\n",
        "true.head(5)"
      ],
      "execution_count": 27,
      "outputs": [
        {
          "output_type": "execute_result",
          "data": {
            "text/html": [
              "<div>\n",
              "<style scoped>\n",
              "    .dataframe tbody tr th:only-of-type {\n",
              "        vertical-align: middle;\n",
              "    }\n",
              "\n",
              "    .dataframe tbody tr th {\n",
              "        vertical-align: top;\n",
              "    }\n",
              "\n",
              "    .dataframe thead th {\n",
              "        text-align: right;\n",
              "    }\n",
              "</style>\n",
              "<table border=\"1\" class=\"dataframe\">\n",
              "  <thead>\n",
              "    <tr style=\"text-align: right;\">\n",
              "      <th></th>\n",
              "      <th>user_id</th>\n",
              "      <th>movie_id</th>\n",
              "    </tr>\n",
              "  </thead>\n",
              "  <tbody>\n",
              "    <tr>\n",
              "      <th>0</th>\n",
              "      <td>2</td>\n",
              "      <td>[177, 179, 183, 84, 4, 198, 199, 207]</td>\n",
              "    </tr>\n",
              "    <tr>\n",
              "      <th>1</th>\n",
              "      <td>8</td>\n",
              "      <td>[59, 438, 93, 123, 463, 525, 30, 288, 534, 322...</td>\n",
              "    </tr>\n",
              "    <tr>\n",
              "      <th>2</th>\n",
              "      <td>41</td>\n",
              "      <td>[175, 182, 563, 184, 1176, 116, 128, 1037, 104...</td>\n",
              "    </tr>\n",
              "    <tr>\n",
              "      <th>3</th>\n",
              "      <td>78</td>\n",
              "      <td>[1258, 305, 500, 2230]</td>\n",
              "    </tr>\n",
              "    <tr>\n",
              "      <th>4</th>\n",
              "      <td>91</td>\n",
              "      <td>[558, 1176, 195, 587, 592, 74, 1904, 186, 647,...</td>\n",
              "    </tr>\n",
              "  </tbody>\n",
              "</table>\n",
              "</div>"
            ],
            "text/plain": [
              "   user_id                                           movie_id\n",
              "0        2              [177, 179, 183, 84, 4, 198, 199, 207]\n",
              "1        8  [59, 438, 93, 123, 463, 525, 30, 288, 534, 322...\n",
              "2       41  [175, 182, 563, 184, 1176, 116, 128, 1037, 104...\n",
              "3       78                             [1258, 305, 500, 2230]\n",
              "4       91  [558, 1176, 195, 587, 592, 74, 1904, 186, 647,..."
            ]
          },
          "metadata": {
            "tags": []
          },
          "execution_count": 27
        }
      ]
    },
    {
      "cell_type": "code",
      "metadata": {
        "colab": {
          "base_uri": "https://localhost:8080/",
          "height": 195
        },
        "id": "SNvbNQ3KFo4k",
        "outputId": "ed98795b-3ba9-4e58-8e0a-c730418b00e4"
      },
      "source": [
        "pred = test_predictor(test_q, model, n_item, batch_size, N = 100)\n",
        "pred.head(5)"
      ],
      "execution_count": 28,
      "outputs": [
        {
          "output_type": "execute_result",
          "data": {
            "text/html": [
              "<div>\n",
              "<style scoped>\n",
              "    .dataframe tbody tr th:only-of-type {\n",
              "        vertical-align: middle;\n",
              "    }\n",
              "\n",
              "    .dataframe tbody tr th {\n",
              "        vertical-align: top;\n",
              "    }\n",
              "\n",
              "    .dataframe thead th {\n",
              "        text-align: right;\n",
              "    }\n",
              "</style>\n",
              "<table border=\"1\" class=\"dataframe\">\n",
              "  <thead>\n",
              "    <tr style=\"text-align: right;\">\n",
              "      <th></th>\n",
              "      <th>user_id</th>\n",
              "      <th>movie_id</th>\n",
              "    </tr>\n",
              "  </thead>\n",
              "  <tbody>\n",
              "    <tr>\n",
              "      <th>0</th>\n",
              "      <td>2</td>\n",
              "      <td>[48, 128, 38, 132, 23, 51, 167, 97, 669, 92, 2...</td>\n",
              "    </tr>\n",
              "    <tr>\n",
              "      <th>1</th>\n",
              "      <td>8</td>\n",
              "      <td>[44, 124, 127, 97, 669, 5, 22, 92, 134, 244, 1...</td>\n",
              "    </tr>\n",
              "    <tr>\n",
              "      <th>2</th>\n",
              "      <td>41</td>\n",
              "      <td>[104, 48, 128, 38, 132, 51, 23, 167, 669, 92, ...</td>\n",
              "    </tr>\n",
              "    <tr>\n",
              "      <th>3</th>\n",
              "      <td>78</td>\n",
              "      <td>[104, 44, 124, 127, 38, 48, 128, 132, 64, 51, ...</td>\n",
              "    </tr>\n",
              "    <tr>\n",
              "      <th>4</th>\n",
              "      <td>91</td>\n",
              "      <td>[104, 44, 124, 127, 48, 51, 64, 23, 97, 669, 2...</td>\n",
              "    </tr>\n",
              "  </tbody>\n",
              "</table>\n",
              "</div>"
            ],
            "text/plain": [
              "   user_id                                           movie_id\n",
              "0        2  [48, 128, 38, 132, 23, 51, 167, 97, 669, 92, 2...\n",
              "1        8  [44, 124, 127, 97, 669, 5, 22, 92, 134, 244, 1...\n",
              "2       41  [104, 48, 128, 38, 132, 51, 23, 167, 669, 92, ...\n",
              "3       78  [104, 44, 124, 127, 38, 48, 128, 132, 64, 51, ...\n",
              "4       91  [104, 44, 124, 127, 48, 51, 64, 23, 97, 669, 2..."
            ]
          },
          "metadata": {
            "tags": []
          },
          "execution_count": 28
        }
      ]
    },
    {
      "cell_type": "code",
      "metadata": {
        "colab": {
          "base_uri": "https://localhost:8080/",
          "height": 292,
          "referenced_widgets": [
            "297d8422d55b465ab08e2dbf868371f2",
            "93a20313ae8e4c9a8e990fe114029fe7",
            "8b2a241c604b480b8ad0801c0bd9b30c",
            "f658d25976d048fe8170652b2285c7e0",
            "3ab229355d4f432a8f1ff63f00e98465",
            "870ac261693c4dbf8d30898910ff5bb7",
            "7ac2e5298a474f91bf85aeb72795c6e5",
            "a1333214a6154ffc92f4bb5d26a23402",
            "b88f9669289f45c5a9578182a85ad58a",
            "64bd0c8f1a0346199eb71a5994d77fc8",
            "4583bd2759044ca2adfeb0c5bc5614a9",
            "551ecacb918e4856afb9277e56146ede",
            "b46810ef39f140d0be91767d46d30bc4",
            "8a6ed954a8874d738d7c5f319c6bf0cb",
            "6048c9c95db54f59a29fb4a5fad64bea",
            "e4e1818bd7e3430fb117e8dd56f53811"
          ]
        },
        "id": "xDwoXc5MFo4k",
        "outputId": "5b749a78-bb49-43b5-a834-9dc2df285e08"
      },
      "source": [
        "scores = evaluate(true, pred)\n",
        "\n",
        "scores(K = 20)\n",
        "scores.print_all()\n",
        "\n",
        "scores(K = 100)\n",
        "scores.print_all()"
      ],
      "execution_count": 29,
      "outputs": [
        {
          "output_type": "display_data",
          "data": {
            "application/vnd.jupyter.widget-view+json": {
              "model_id": "297d8422d55b465ab08e2dbf868371f2",
              "version_minor": 0,
              "version_major": 2
            },
            "text/plain": [
              "HBox(children=(FloatProgress(value=0.0, max=604.0), HTML(value='')))"
            ]
          },
          "metadata": {
            "tags": []
          }
        },
        {
          "output_type": "stream",
          "text": [
            "\n",
            "      Recall@20 : 0.10474 \n",
            "   Precision@20 : 0.06548 \n",
            "         MAP@20 : 0.03201 \n",
            "         MRR@20 : 0.17679 \n",
            "        nDCG@20 : 0.08946\n"
          ],
          "name": "stdout"
        },
        {
          "output_type": "display_data",
          "data": {
            "application/vnd.jupyter.widget-view+json": {
              "model_id": "b88f9669289f45c5a9578182a85ad58a",
              "version_minor": 0,
              "version_major": 2
            },
            "text/plain": [
              "HBox(children=(FloatProgress(value=0.0, max=604.0), HTML(value='')))"
            ]
          },
          "metadata": {
            "tags": []
          }
        },
        {
          "output_type": "stream",
          "text": [
            "\n",
            "      Recall@100 : 0.25740 \n",
            "   Precision@100 : 0.04270 \n",
            "         MAP@100 : 0.03874 \n",
            "         MRR@100 : 0.18404 \n",
            "        nDCG@100 : 0.14888\n"
          ],
          "name": "stdout"
        }
      ]
    },
    {
      "cell_type": "markdown",
      "metadata": {
        "id": "3RQJclIQcbyM"
      },
      "source": [
        "### 3. Mult-DAE"
      ]
    },
    {
      "cell_type": "code",
      "metadata": {
        "id": "9csYp1DyJ3uQ"
      },
      "source": [
        "class DAE(tf.keras.models.Model):\r\n",
        "    def __init__(self, input_dim, latent_dim, dropout_rate):\r\n",
        "        super(DAE, self).__init__()\r\n",
        "        self.input_dim = input_dim\r\n",
        "        self.latent_dim = latent_dim\r\n",
        "        self.dropout_rate = dropout_rate\r\n",
        "\r\n",
        "        self.dropout = Dropout(self.dropout_rate)\r\n",
        "        self.encoder = Dense(self.latent_dim, \r\n",
        "                             activation = 'selu',\r\n",
        "                             kernel_initializer = 'glorot_uniform',\r\n",
        "                             bias_initializer = 'zeros',\r\n",
        "                             kernel_regularizer = l2(1e-3),\r\n",
        "                             name = 'encoder')\r\n",
        "        self.decoder = Dense(self.input_dim,\r\n",
        "                             activation = 'softmax',\r\n",
        "                             kernel_initializer = 'glorot_uniform',\r\n",
        "                             bias_initializer = 'zeros',\r\n",
        "                             kernel_regularizer = l2(1e-3),\r\n",
        "                             name = 'decoder')\r\n",
        "\r\n",
        "        _ = self.call(Input(shape = (self.input_dim, )), training = True)\r\n",
        "        self.build(input_shape = (None, self.input_dim))\r\n",
        "\r\n",
        "    def call(self, inputs, training = False):\r\n",
        "        x = self.dropout(inputs) if training else inputs\r\n",
        "        h = self.encoder(x)\r\n",
        "        return self.decoder(h)\r\n",
        "\r\n",
        "    def train_step(self, inputs):\r\n",
        "        with tf.GradientTape() as tape:\r\n",
        "            outputs = self(inputs, training = True)\r\n",
        "            loss = self.loss(inputs, outputs)\r\n",
        "        grads = tape.gradient(loss, self.trainable_variables)\r\n",
        "        self.optimizer.apply_gradients(zip(grads, self.trainable_variables))\r\n",
        "        return {'loss': loss}\r\n",
        "\r\n",
        "    def test_step(self, data):\r\n",
        "        query, relev = data\r\n",
        "        pred = self(query)\r\n",
        "\r\n",
        "        weight = tf.range(2, self.input_dim, dtype = 'float32')\r\n",
        "        weight = tf.math.reciprocal(tf.math.log(weight))\r\n",
        "        ndcg = batch_ndcg(query, relev, pred, weight)\r\n",
        "        return {'ndcg': ndcg}"
      ],
      "execution_count": 30,
      "outputs": []
    },
    {
      "cell_type": "code",
      "metadata": {
        "colab": {
          "base_uri": "https://localhost:8080/"
        },
        "id": "N8ln-SLNGDc9",
        "outputId": "e6feed7e-e426-4e52-8fd2-84680c996a74"
      },
      "source": [
        "model = DAE(n_item, latent_dim = 256, dropout_rate = 0.5)\r\n",
        "model.compile(optimizer = Adam(lr = 1e-4), loss = multinomial)\r\n",
        "\r\n",
        "model.summary()"
      ],
      "execution_count": 31,
      "outputs": [
        {
          "output_type": "stream",
          "text": [
            "Model: \"dae\"\n",
            "_________________________________________________________________\n",
            "Layer (type)                 Output Shape              Param #   \n",
            "=================================================================\n",
            "dropout_2 (Dropout)          (None, 3706)              0         \n",
            "_________________________________________________________________\n",
            "encoder (Dense)              (None, 256)               948992    \n",
            "_________________________________________________________________\n",
            "decoder (Dense)              (None, 3706)              952442    \n",
            "=================================================================\n",
            "Total params: 1,901,434\n",
            "Trainable params: 1,901,434\n",
            "Non-trainable params: 0\n",
            "_________________________________________________________________\n"
          ],
          "name": "stdout"
        }
      ]
    },
    {
      "cell_type": "code",
      "metadata": {
        "colab": {
          "base_uri": "https://localhost:8080/",
          "height": 1000
        },
        "id": "mdtrxboMGDc-",
        "outputId": "17c9da8d-20c6-44f7-9c48-ff6a5161c8da"
      },
      "source": [
        "%%time\r\n",
        "early_stopping = EarlyStopping(monitor = 'val_ndcg', mode = 'max', verbose = 1, patience = epochs // 5)\r\n",
        "model_checkpoint = ModelCheckpoint('mult-DAE.h5', monitor = 'val_ndcg', mode = 'max', save_best_only = True)\r\n",
        "\r\n",
        "hist = model.fit(x = train_gen, validation_data = valid_gen, epochs = epochs,\r\n",
        "                 steps_per_epoch = steps_per_epoch, validation_steps = validation_steps, \r\n",
        "                 verbose = 1, callbacks = [early_stopping, model_checkpoint])\r\n",
        "show_history(hist, 'loss', 'ndcg')"
      ],
      "execution_count": 32,
      "outputs": [
        {
          "output_type": "stream",
          "text": [
            "Epoch 1/100\n",
            "38/38 [==============================] - 1s 12ms/step - loss: 772.4105 - val_ndcg: 0.1051\n",
            "Epoch 2/100\n",
            "38/38 [==============================] - 0s 8ms/step - loss: 730.0532 - val_ndcg: 0.1180\n",
            "Epoch 3/100\n",
            "38/38 [==============================] - 0s 8ms/step - loss: 714.9914 - val_ndcg: 0.1324\n",
            "Epoch 4/100\n",
            "38/38 [==============================] - 0s 8ms/step - loss: 703.2492 - val_ndcg: 0.1622\n",
            "Epoch 5/100\n",
            "38/38 [==============================] - 0s 8ms/step - loss: 697.0266 - val_ndcg: 0.1621\n",
            "Epoch 6/100\n",
            "38/38 [==============================] - 0s 8ms/step - loss: 701.2551 - val_ndcg: 0.1359\n",
            "Epoch 7/100\n",
            "38/38 [==============================] - 0s 8ms/step - loss: 686.6201 - val_ndcg: 0.1643\n",
            "Epoch 8/100\n",
            "38/38 [==============================] - 0s 8ms/step - loss: 685.6510 - val_ndcg: 0.1862\n",
            "Epoch 9/100\n",
            "38/38 [==============================] - 0s 8ms/step - loss: 674.1777 - val_ndcg: 0.1852\n",
            "Epoch 10/100\n",
            "38/38 [==============================] - 0s 7ms/step - loss: 681.4982 - val_ndcg: 0.1851\n",
            "Epoch 11/100\n",
            "38/38 [==============================] - 0s 8ms/step - loss: 674.6839 - val_ndcg: 0.1780\n",
            "Epoch 12/100\n",
            "38/38 [==============================] - 0s 8ms/step - loss: 665.8164 - val_ndcg: 0.2119\n",
            "Epoch 13/100\n",
            "38/38 [==============================] - 0s 11ms/step - loss: 673.7491 - val_ndcg: 0.2020\n",
            "Epoch 14/100\n",
            "38/38 [==============================] - 0s 8ms/step - loss: 659.8020 - val_ndcg: 0.1930\n",
            "Epoch 15/100\n",
            "38/38 [==============================] - 0s 8ms/step - loss: 665.3139 - val_ndcg: 0.2065\n",
            "Epoch 16/100\n",
            "38/38 [==============================] - 0s 7ms/step - loss: 657.3636 - val_ndcg: 0.1859\n",
            "Epoch 17/100\n",
            "38/38 [==============================] - 0s 7ms/step - loss: 660.3803 - val_ndcg: 0.2114\n",
            "Epoch 18/100\n",
            "38/38 [==============================] - 0s 8ms/step - loss: 659.1074 - val_ndcg: 0.2066\n",
            "Epoch 19/100\n",
            "38/38 [==============================] - 0s 7ms/step - loss: 663.1113 - val_ndcg: 0.1917\n",
            "Epoch 20/100\n",
            "38/38 [==============================] - 0s 9ms/step - loss: 660.4189 - val_ndcg: 0.1971\n",
            "Epoch 21/100\n",
            "38/38 [==============================] - 0s 8ms/step - loss: 644.9914 - val_ndcg: 0.2099\n",
            "Epoch 22/100\n",
            "38/38 [==============================] - 0s 7ms/step - loss: 655.0488 - val_ndcg: 0.2075\n",
            "Epoch 23/100\n",
            "38/38 [==============================] - 0s 7ms/step - loss: 651.2641 - val_ndcg: 0.1736\n",
            "Epoch 24/100\n",
            "38/38 [==============================] - 0s 8ms/step - loss: 654.9747 - val_ndcg: 0.1668\n",
            "Epoch 25/100\n",
            "38/38 [==============================] - 0s 8ms/step - loss: 644.7142 - val_ndcg: 0.1924\n",
            "Epoch 26/100\n",
            "38/38 [==============================] - 0s 7ms/step - loss: 649.7966 - val_ndcg: 0.2118\n",
            "Epoch 27/100\n",
            "38/38 [==============================] - 0s 7ms/step - loss: 651.6177 - val_ndcg: 0.1953\n",
            "Epoch 28/100\n",
            "38/38 [==============================] - 0s 8ms/step - loss: 644.4928 - val_ndcg: 0.2142\n",
            "Epoch 29/100\n",
            "38/38 [==============================] - 0s 8ms/step - loss: 641.9962 - val_ndcg: 0.2156\n",
            "Epoch 30/100\n",
            "38/38 [==============================] - 0s 7ms/step - loss: 648.3295 - val_ndcg: 0.1715\n",
            "Epoch 31/100\n",
            "38/38 [==============================] - 0s 8ms/step - loss: 639.9325 - val_ndcg: 0.2131\n",
            "Epoch 32/100\n",
            "38/38 [==============================] - 0s 8ms/step - loss: 642.8477 - val_ndcg: 0.2026\n",
            "Epoch 33/100\n",
            "38/38 [==============================] - 0s 11ms/step - loss: 647.4785 - val_ndcg: 0.1841\n",
            "Epoch 34/100\n",
            "38/38 [==============================] - 0s 7ms/step - loss: 639.5083 - val_ndcg: 0.2039\n",
            "Epoch 35/100\n",
            "38/38 [==============================] - 0s 8ms/step - loss: 651.0295 - val_ndcg: 0.2001\n",
            "Epoch 36/100\n",
            "38/38 [==============================] - 0s 8ms/step - loss: 628.0166 - val_ndcg: 0.2053\n",
            "Epoch 37/100\n",
            "38/38 [==============================] - 0s 8ms/step - loss: 643.5605 - val_ndcg: 0.2080\n",
            "Epoch 38/100\n",
            "38/38 [==============================] - 0s 8ms/step - loss: 638.7460 - val_ndcg: 0.2223\n",
            "Epoch 39/100\n",
            "38/38 [==============================] - 0s 8ms/step - loss: 643.0311 - val_ndcg: 0.2178\n",
            "Epoch 40/100\n",
            "38/38 [==============================] - 0s 8ms/step - loss: 634.4687 - val_ndcg: 0.2100\n",
            "Epoch 41/100\n",
            "38/38 [==============================] - 0s 7ms/step - loss: 643.0926 - val_ndcg: 0.2207\n",
            "Epoch 42/100\n",
            "38/38 [==============================] - 0s 8ms/step - loss: 634.7544 - val_ndcg: 0.2071\n",
            "Epoch 43/100\n",
            "38/38 [==============================] - 0s 8ms/step - loss: 636.2664 - val_ndcg: 0.2090\n",
            "Epoch 44/100\n",
            "38/38 [==============================] - 0s 8ms/step - loss: 636.7904 - val_ndcg: 0.2195\n",
            "Epoch 45/100\n",
            "38/38 [==============================] - 0s 8ms/step - loss: 631.1347 - val_ndcg: 0.2188\n",
            "Epoch 46/100\n",
            "38/38 [==============================] - 0s 8ms/step - loss: 636.4452 - val_ndcg: 0.2054\n",
            "Epoch 47/100\n",
            "38/38 [==============================] - 0s 7ms/step - loss: 636.1499 - val_ndcg: 0.2183\n",
            "Epoch 48/100\n",
            "38/38 [==============================] - 0s 8ms/step - loss: 634.7068 - val_ndcg: 0.2115\n",
            "Epoch 49/100\n",
            "38/38 [==============================] - 0s 7ms/step - loss: 635.7214 - val_ndcg: 0.2071\n",
            "Epoch 50/100\n",
            "38/38 [==============================] - 0s 8ms/step - loss: 622.4114 - val_ndcg: 0.2060\n",
            "Epoch 51/100\n",
            "38/38 [==============================] - 0s 8ms/step - loss: 632.0474 - val_ndcg: 0.2160\n",
            "Epoch 52/100\n",
            "38/38 [==============================] - 0s 10ms/step - loss: 625.9836 - val_ndcg: 0.2063\n",
            "Epoch 53/100\n",
            "38/38 [==============================] - 0s 7ms/step - loss: 631.3829 - val_ndcg: 0.2033\n",
            "Epoch 54/100\n",
            "38/38 [==============================] - 0s 7ms/step - loss: 630.0374 - val_ndcg: 0.2211\n",
            "Epoch 55/100\n",
            "38/38 [==============================] - 0s 8ms/step - loss: 621.6865 - val_ndcg: 0.2089\n",
            "Epoch 56/100\n",
            "38/38 [==============================] - 0s 8ms/step - loss: 637.0302 - val_ndcg: 0.2234\n",
            "Epoch 57/100\n",
            "38/38 [==============================] - 0s 8ms/step - loss: 629.5379 - val_ndcg: 0.2202\n",
            "Epoch 58/100\n",
            "38/38 [==============================] - 0s 7ms/step - loss: 632.0799 - val_ndcg: 0.2444\n",
            "Epoch 59/100\n",
            "38/38 [==============================] - 0s 8ms/step - loss: 621.8542 - val_ndcg: 0.2003\n",
            "Epoch 60/100\n",
            "38/38 [==============================] - 0s 7ms/step - loss: 623.8458 - val_ndcg: 0.2298\n",
            "Epoch 61/100\n",
            "38/38 [==============================] - 0s 7ms/step - loss: 630.7802 - val_ndcg: 0.2102\n",
            "Epoch 62/100\n",
            "38/38 [==============================] - 0s 7ms/step - loss: 624.2194 - val_ndcg: 0.2414\n",
            "Epoch 63/100\n",
            "38/38 [==============================] - 0s 7ms/step - loss: 625.0933 - val_ndcg: 0.2296\n",
            "Epoch 64/100\n",
            "38/38 [==============================] - 0s 8ms/step - loss: 623.8410 - val_ndcg: 0.2117\n",
            "Epoch 65/100\n",
            "38/38 [==============================] - 0s 7ms/step - loss: 626.2993 - val_ndcg: 0.2109\n",
            "Epoch 66/100\n",
            "38/38 [==============================] - 0s 8ms/step - loss: 618.1666 - val_ndcg: 0.2223\n",
            "Epoch 67/100\n",
            "38/38 [==============================] - 0s 8ms/step - loss: 624.4247 - val_ndcg: 0.2161\n",
            "Epoch 68/100\n",
            "38/38 [==============================] - 0s 7ms/step - loss: 629.7680 - val_ndcg: 0.2123\n",
            "Epoch 69/100\n",
            "38/38 [==============================] - 0s 8ms/step - loss: 614.5058 - val_ndcg: 0.2266\n",
            "Epoch 70/100\n",
            "38/38 [==============================] - 0s 7ms/step - loss: 623.0621 - val_ndcg: 0.2156\n",
            "Epoch 71/100\n",
            "38/38 [==============================] - 0s 10ms/step - loss: 620.1717 - val_ndcg: 0.2096\n",
            "Epoch 72/100\n",
            "38/38 [==============================] - 0s 7ms/step - loss: 618.7310 - val_ndcg: 0.1814\n",
            "Epoch 73/100\n",
            "38/38 [==============================] - 0s 8ms/step - loss: 626.3555 - val_ndcg: 0.2111\n",
            "Epoch 74/100\n",
            "38/38 [==============================] - 0s 8ms/step - loss: 616.7596 - val_ndcg: 0.2014\n",
            "Epoch 75/100\n",
            "38/38 [==============================] - 0s 8ms/step - loss: 619.4399 - val_ndcg: 0.2337\n",
            "Epoch 76/100\n",
            "38/38 [==============================] - 0s 8ms/step - loss: 620.5179 - val_ndcg: 0.2208\n",
            "Epoch 77/100\n",
            "38/38 [==============================] - 0s 7ms/step - loss: 608.2394 - val_ndcg: 0.2433\n",
            "Epoch 78/100\n",
            "38/38 [==============================] - 0s 8ms/step - loss: 623.8816 - val_ndcg: 0.2407\n",
            "Epoch 00078: early stopping\n",
            "CPU times: user 29.6 s, sys: 2.81 s, total: 32.4 s\n",
            "Wall time: 24 s\n"
          ],
          "name": "stdout"
        },
        {
          "output_type": "display_data",
          "data": {
            "image/png": "[encoded data removed]",
            "text/plain": [
              "<Figure size 576x432 with 2 Axes>"
            ]
          },
          "metadata": {
            "tags": [],
            "needs_background": "light"
          }
        }
      ]
    },
    {
      "cell_type": "code",
      "metadata": {
        "colab": {
          "base_uri": "https://localhost:8080/",
          "height": 195
        },
        "id": "ICJbY26XGDdC",
        "outputId": "e9ce24e3-fd16-4d17-c078-acd61820a265"
      },
      "source": [
        "true = list_agg(test_r)\r\n",
        "true.head(5)"
      ],
      "execution_count": 33,
      "outputs": [
        {
          "output_type": "execute_result",
          "data": {
            "text/html": [
              "<div>\n",
              "<style scoped>\n",
              "    .dataframe tbody tr th:only-of-type {\n",
              "        vertical-align: middle;\n",
              "    }\n",
              "\n",
              "    .dataframe tbody tr th {\n",
              "        vertical-align: top;\n",
              "    }\n",
              "\n",
              "    .dataframe thead th {\n",
              "        text-align: right;\n",
              "    }\n",
              "</style>\n",
              "<table border=\"1\" class=\"dataframe\">\n",
              "  <thead>\n",
              "    <tr style=\"text-align: right;\">\n",
              "      <th></th>\n",
              "      <th>user_id</th>\n",
              "      <th>movie_id</th>\n",
              "    </tr>\n",
              "  </thead>\n",
              "  <tbody>\n",
              "    <tr>\n",
              "      <th>0</th>\n",
              "      <td>2</td>\n",
              "      <td>[177, 179, 183, 84, 4, 198, 199, 207]</td>\n",
              "    </tr>\n",
              "    <tr>\n",
              "      <th>1</th>\n",
              "      <td>8</td>\n",
              "      <td>[59, 438, 93, 123, 463, 525, 30, 288, 534, 322...</td>\n",
              "    </tr>\n",
              "    <tr>\n",
              "      <th>2</th>\n",
              "      <td>41</td>\n",
              "      <td>[175, 182, 563, 184, 1176, 116, 128, 1037, 104...</td>\n",
              "    </tr>\n",
              "    <tr>\n",
              "      <th>3</th>\n",
              "      <td>78</td>\n",
              "      <td>[1258, 305, 500, 2230]</td>\n",
              "    </tr>\n",
              "    <tr>\n",
              "      <th>4</th>\n",
              "      <td>91</td>\n",
              "      <td>[558, 1176, 195, 587, 592, 74, 1904, 186, 647,...</td>\n",
              "    </tr>\n",
              "  </tbody>\n",
              "</table>\n",
              "</div>"
            ],
            "text/plain": [
              "   user_id                                           movie_id\n",
              "0        2              [177, 179, 183, 84, 4, 198, 199, 207]\n",
              "1        8  [59, 438, 93, 123, 463, 525, 30, 288, 534, 322...\n",
              "2       41  [175, 182, 563, 184, 1176, 116, 128, 1037, 104...\n",
              "3       78                             [1258, 305, 500, 2230]\n",
              "4       91  [558, 1176, 195, 587, 592, 74, 1904, 186, 647,..."
            ]
          },
          "metadata": {
            "tags": []
          },
          "execution_count": 33
        }
      ]
    },
    {
      "cell_type": "code",
      "metadata": {
        "colab": {
          "base_uri": "https://localhost:8080/",
          "height": 195
        },
        "id": "Kd8zN0U4GDdC",
        "outputId": "ae49c7b6-225f-4aef-d849-1b233f3c6e4f"
      },
      "source": [
        "pred = test_predictor(test_q, model, n_item, batch_size, N = 100)\n",
        "pred.head(5)"
      ],
      "execution_count": 34,
      "outputs": [
        {
          "output_type": "execute_result",
          "data": {
            "text/html": [
              "<div>\n",
              "<style scoped>\n",
              "    .dataframe tbody tr th:only-of-type {\n",
              "        vertical-align: middle;\n",
              "    }\n",
              "\n",
              "    .dataframe tbody tr th {\n",
              "        vertical-align: top;\n",
              "    }\n",
              "\n",
              "    .dataframe thead th {\n",
              "        text-align: right;\n",
              "    }\n",
              "</style>\n",
              "<table border=\"1\" class=\"dataframe\">\n",
              "  <thead>\n",
              "    <tr style=\"text-align: right;\">\n",
              "      <th></th>\n",
              "      <th>user_id</th>\n",
              "      <th>movie_id</th>\n",
              "    </tr>\n",
              "  </thead>\n",
              "  <tbody>\n",
              "    <tr>\n",
              "      <th>0</th>\n",
              "      <td>2</td>\n",
              "      <td>[92, 22, 48, 132, 60, 97, 171, 189, 23, 151, 2...</td>\n",
              "    </tr>\n",
              "    <tr>\n",
              "      <th>1</th>\n",
              "      <td>8</td>\n",
              "      <td>[244, 184, 134, 381, 315, 171, 5, 256, 92, 124...</td>\n",
              "    </tr>\n",
              "    <tr>\n",
              "      <th>2</th>\n",
              "      <td>41</td>\n",
              "      <td>[856, 62, 155, 132, 160, 112, 189, 775, 666, 2...</td>\n",
              "    </tr>\n",
              "    <tr>\n",
              "      <th>3</th>\n",
              "      <td>78</td>\n",
              "      <td>[104, 68, 406, 92, 531, 38, 1712, 97, 831, 113...</td>\n",
              "    </tr>\n",
              "    <tr>\n",
              "      <th>4</th>\n",
              "      <td>91</td>\n",
              "      <td>[9, 8, 612, 741, 596, 44, 64, 1523, 116, 682, ...</td>\n",
              "    </tr>\n",
              "  </tbody>\n",
              "</table>\n",
              "</div>"
            ],
            "text/plain": [
              "   user_id                                           movie_id\n",
              "0        2  [92, 22, 48, 132, 60, 97, 171, 189, 23, 151, 2...\n",
              "1        8  [244, 184, 134, 381, 315, 171, 5, 256, 92, 124...\n",
              "2       41  [856, 62, 155, 132, 160, 112, 189, 775, 666, 2...\n",
              "3       78  [104, 68, 406, 92, 531, 38, 1712, 97, 831, 113...\n",
              "4       91  [9, 8, 612, 741, 596, 44, 64, 1523, 116, 682, ..."
            ]
          },
          "metadata": {
            "tags": []
          },
          "execution_count": 34
        }
      ]
    },
    {
      "cell_type": "code",
      "metadata": {
        "colab": {
          "base_uri": "https://localhost:8080/",
          "height": 292,
          "referenced_widgets": [
            "8884c0a35bd04c2a9967df8a38a09af5",
            "462990ddb17d4dc5bf7ecd674cf357cf",
            "c0c740d8130d44ee9e97693033ac7bc7",
            "d0e98f49a2b040e2bdb479c8fee6c763",
            "a87ab1f507dc41edbd6b3501b3600ca9",
            "20fb858674044312b9c5d2d3cdc99925",
            "2140931047584f01a221cf6fe69be7b5",
            "873052c8ef3b4bd1a9a3bc9f55755f6b",
            "769681b057dd407b9da653f4c83609d5",
            "c162444dd8aa4186b60a0b2dddc9102f",
            "6543e3f38d2a4a0dbff7e35b687e0911",
            "5e1e66d04afd4c4aa90fc2646e4eb6be",
            "c4d051fba0eb4893927a86598852c812",
            "8d4cfe308db94dc494a22a70fb8089f7",
            "defb16a32b72454c8eb894f0800dc77a",
            "1c2d5ab8c7a04655b843a0ac3eaeb770"
          ]
        },
        "id": "bSd7eLpQGDdC",
        "outputId": "69f3bc9c-ba68-4c21-b67b-c3d4adb4c5b8"
      },
      "source": [
        "scores = evaluate(true, pred)\n",
        "\n",
        "scores(K = 20)\n",
        "scores.print_all()\n",
        "\n",
        "scores(K = 100)\n",
        "scores.print_all()"
      ],
      "execution_count": 35,
      "outputs": [
        {
          "output_type": "display_data",
          "data": {
            "application/vnd.jupyter.widget-view+json": {
              "model_id": "8884c0a35bd04c2a9967df8a38a09af5",
              "version_minor": 0,
              "version_major": 2
            },
            "text/plain": [
              "HBox(children=(FloatProgress(value=0.0, max=604.0), HTML(value='')))"
            ]
          },
          "metadata": {
            "tags": []
          }
        },
        {
          "output_type": "stream",
          "text": [
            "\n",
            "      Recall@20 : 0.14089 \n",
            "   Precision@20 : 0.08104 \n",
            "         MAP@20 : 0.04800 \n",
            "         MRR@20 : 0.23517 \n",
            "        nDCG@20 : 0.12145\n"
          ],
          "name": "stdout"
        },
        {
          "output_type": "display_data",
          "data": {
            "application/vnd.jupyter.widget-view+json": {
              "model_id": "769681b057dd407b9da653f4c83609d5",
              "version_minor": 0,
              "version_major": 2
            },
            "text/plain": [
              "HBox(children=(FloatProgress(value=0.0, max=604.0), HTML(value='')))"
            ]
          },
          "metadata": {
            "tags": []
          }
        },
        {
          "output_type": "stream",
          "text": [
            "\n",
            "      Recall@100 : 0.39001 \n",
            "   Precision@100 : 0.05684 \n",
            "         MAP@100 : 0.06267 \n",
            "         MRR@100 : 0.24279 \n",
            "        nDCG@100 : 0.21694\n"
          ],
          "name": "stdout"
        }
      ]
    }
  ]
}