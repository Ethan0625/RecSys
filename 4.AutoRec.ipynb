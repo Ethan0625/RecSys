{
  "nbformat": 4,
  "nbformat_minor": 0,
  "metadata": {
    "colab": {
      "name": "4.U-AutoRec.ipynb",
      "provenance": [],
      "collapsed_sections": [],
      "authorship_tag": "ABX9TyMZj1e/khf36+K8NwQ6P2BU",
      "include_colab_link": true
    },
    "kernelspec": {
      "name": "python3",
      "display_name": "Python 3"
    },
    "accelerator": "GPU",
    "widgets": {
      "application/vnd.jupyter.widget-state+json": {
        "2b2ec54b4ac940f7b151f7340de36f20": {
          "model_module": "@jupyter-widgets/controls",
          "model_name": "HBoxModel",
          "state": {
            "_view_name": "HBoxView",
            "_dom_classes": [],
            "_model_name": "HBoxModel",
            "_view_module": "@jupyter-widgets/controls",
            "_model_module_version": "1.5.0",
            "_view_count": null,
            "_view_module_version": "1.5.0",
            "box_style": "",
            "layout": "IPY_MODEL_40b3b55a2830453d978fc5b5ed6ff984",
            "_model_module": "@jupyter-widgets/controls",
            "children": [
              "IPY_MODEL_3aeba4cd375f41ee8dc9f961793fc453",
              "IPY_MODEL_a425e3afb6824e30ad970a86cb26482e"
            ]
          }
        },
        "40b3b55a2830453d978fc5b5ed6ff984": {
          "model_module": "@jupyter-widgets/base",
          "model_name": "LayoutModel",
          "state": {
            "_view_name": "LayoutView",
            "grid_template_rows": null,
            "right": null,
            "justify_content": null,
            "_view_module": "@jupyter-widgets/base",
            "overflow": null,
            "_model_module_version": "1.2.0",
            "_view_count": null,
            "flex_flow": null,
            "width": null,
            "min_width": null,
            "border": null,
            "align_items": null,
            "bottom": null,
            "_model_module": "@jupyter-widgets/base",
            "top": null,
            "grid_column": null,
            "overflow_y": null,
            "overflow_x": null,
            "grid_auto_flow": null,
            "grid_area": null,
            "grid_template_columns": null,
            "flex": null,
            "_model_name": "LayoutModel",
            "justify_items": null,
            "grid_row": null,
            "max_height": null,
            "align_content": null,
            "visibility": null,
            "align_self": null,
            "height": null,
            "min_height": null,
            "padding": null,
            "grid_auto_rows": null,
            "grid_gap": null,
            "max_width": null,
            "order": null,
            "_view_module_version": "1.2.0",
            "grid_template_areas": null,
            "object_position": null,
            "object_fit": null,
            "grid_auto_columns": null,
            "margin": null,
            "display": null,
            "left": null
          }
        },
        "3aeba4cd375f41ee8dc9f961793fc453": {
          "model_module": "@jupyter-widgets/controls",
          "model_name": "FloatProgressModel",
          "state": {
            "_view_name": "ProgressView",
            "style": "IPY_MODEL_881830e5da3c4217bd67b07bca1dcca5",
            "_dom_classes": [],
            "description": "100%",
            "_model_name": "FloatProgressModel",
            "bar_style": "success",
            "max": 604,
            "_view_module": "@jupyter-widgets/controls",
            "_model_module_version": "1.5.0",
            "value": 604,
            "_view_count": null,
            "_view_module_version": "1.5.0",
            "orientation": "horizontal",
            "min": 0,
            "description_tooltip": null,
            "_model_module": "@jupyter-widgets/controls",
            "layout": "IPY_MODEL_06f0c1c550fb4929a16686346bc9286e"
          }
        },
        "a425e3afb6824e30ad970a86cb26482e": {
          "model_module": "@jupyter-widgets/controls",
          "model_name": "HTMLModel",
          "state": {
            "_view_name": "HTMLView",
            "style": "IPY_MODEL_925b3e0d16694386a30d833846878fd0",
            "_dom_classes": [],
            "description": "",
            "_model_name": "HTMLModel",
            "placeholder": "​",
            "_view_module": "@jupyter-widgets/controls",
            "_model_module_version": "1.5.0",
            "value": " 604/604 [00:01&lt;00:00, 503.29it/s]",
            "_view_count": null,
            "_view_module_version": "1.5.0",
            "description_tooltip": null,
            "_model_module": "@jupyter-widgets/controls",
            "layout": "IPY_MODEL_85820567924b46228f7a0eeefd82be32"
          }
        },
        "881830e5da3c4217bd67b07bca1dcca5": {
          "model_module": "@jupyter-widgets/controls",
          "model_name": "ProgressStyleModel",
          "state": {
            "_view_name": "StyleView",
            "_model_name": "ProgressStyleModel",
            "description_width": "initial",
            "_view_module": "@jupyter-widgets/base",
            "_model_module_version": "1.5.0",
            "_view_count": null,
            "_view_module_version": "1.2.0",
            "bar_color": null,
            "_model_module": "@jupyter-widgets/controls"
          }
        },
        "06f0c1c550fb4929a16686346bc9286e": {
          "model_module": "@jupyter-widgets/base",
          "model_name": "LayoutModel",
          "state": {
            "_view_name": "LayoutView",
            "grid_template_rows": null,
            "right": null,
            "justify_content": null,
            "_view_module": "@jupyter-widgets/base",
            "overflow": null,
            "_model_module_version": "1.2.0",
            "_view_count": null,
            "flex_flow": null,
            "width": null,
            "min_width": null,
            "border": null,
            "align_items": null,
            "bottom": null,
            "_model_module": "@jupyter-widgets/base",
            "top": null,
            "grid_column": null,
            "overflow_y": null,
            "overflow_x": null,
            "grid_auto_flow": null,
            "grid_area": null,
            "grid_template_columns": null,
            "flex": null,
            "_model_name": "LayoutModel",
            "justify_items": null,
            "grid_row": null,
            "max_height": null,
            "align_content": null,
            "visibility": null,
            "align_self": null,
            "height": null,
            "min_height": null,
            "padding": null,
            "grid_auto_rows": null,
            "grid_gap": null,
            "max_width": null,
            "order": null,
            "_view_module_version": "1.2.0",
            "grid_template_areas": null,
            "object_position": null,
            "object_fit": null,
            "grid_auto_columns": null,
            "margin": null,
            "display": null,
            "left": null
          }
        },
        "925b3e0d16694386a30d833846878fd0": {
          "model_module": "@jupyter-widgets/controls",
          "model_name": "DescriptionStyleModel",
          "state": {
            "_view_name": "StyleView",
            "_model_name": "DescriptionStyleModel",
            "description_width": "",
            "_view_module": "@jupyter-widgets/base",
            "_model_module_version": "1.5.0",
            "_view_count": null,
            "_view_module_version": "1.2.0",
            "_model_module": "@jupyter-widgets/controls"
          }
        },
        "85820567924b46228f7a0eeefd82be32": {
          "model_module": "@jupyter-widgets/base",
          "model_name": "LayoutModel",
          "state": {
            "_view_name": "LayoutView",
            "grid_template_rows": null,
            "right": null,
            "justify_content": null,
            "_view_module": "@jupyter-widgets/base",
            "overflow": null,
            "_model_module_version": "1.2.0",
            "_view_count": null,
            "flex_flow": null,
            "width": null,
            "min_width": null,
            "border": null,
            "align_items": null,
            "bottom": null,
            "_model_module": "@jupyter-widgets/base",
            "top": null,
            "grid_column": null,
            "overflow_y": null,
            "overflow_x": null,
            "grid_auto_flow": null,
            "grid_area": null,
            "grid_template_columns": null,
            "flex": null,
            "_model_name": "LayoutModel",
            "justify_items": null,
            "grid_row": null,
            "max_height": null,
            "align_content": null,
            "visibility": null,
            "align_self": null,
            "height": null,
            "min_height": null,
            "padding": null,
            "grid_auto_rows": null,
            "grid_gap": null,
            "max_width": null,
            "order": null,
            "_view_module_version": "1.2.0",
            "grid_template_areas": null,
            "object_position": null,
            "object_fit": null,
            "grid_auto_columns": null,
            "margin": null,
            "display": null,
            "left": null
          }
        },
        "87d2db728bb24715b829331e296efd03": {
          "model_module": "@jupyter-widgets/controls",
          "model_name": "HBoxModel",
          "state": {
            "_view_name": "HBoxView",
            "_dom_classes": [],
            "_model_name": "HBoxModel",
            "_view_module": "@jupyter-widgets/controls",
            "_model_module_version": "1.5.0",
            "_view_count": null,
            "_view_module_version": "1.5.0",
            "box_style": "",
            "layout": "IPY_MODEL_7124550173754bb680d5a37cdb910c64",
            "_model_module": "@jupyter-widgets/controls",
            "children": [
              "IPY_MODEL_a8d00246c95c40fd979013002ead6027",
              "IPY_MODEL_3290e87120e44eee981484806146845e"
            ]
          }
        },
        "7124550173754bb680d5a37cdb910c64": {
          "model_module": "@jupyter-widgets/base",
          "model_name": "LayoutModel",
          "state": {
            "_view_name": "LayoutView",
            "grid_template_rows": null,
            "right": null,
            "justify_content": null,
            "_view_module": "@jupyter-widgets/base",
            "overflow": null,
            "_model_module_version": "1.2.0",
            "_view_count": null,
            "flex_flow": null,
            "width": null,
            "min_width": null,
            "border": null,
            "align_items": null,
            "bottom": null,
            "_model_module": "@jupyter-widgets/base",
            "top": null,
            "grid_column": null,
            "overflow_y": null,
            "overflow_x": null,
            "grid_auto_flow": null,
            "grid_area": null,
            "grid_template_columns": null,
            "flex": null,
            "_model_name": "LayoutModel",
            "justify_items": null,
            "grid_row": null,
            "max_height": null,
            "align_content": null,
            "visibility": null,
            "align_self": null,
            "height": null,
            "min_height": null,
            "padding": null,
            "grid_auto_rows": null,
            "grid_gap": null,
            "max_width": null,
            "order": null,
            "_view_module_version": "1.2.0",
            "grid_template_areas": null,
            "object_position": null,
            "object_fit": null,
            "grid_auto_columns": null,
            "margin": null,
            "display": null,
            "left": null
          }
        },
        "a8d00246c95c40fd979013002ead6027": {
          "model_module": "@jupyter-widgets/controls",
          "model_name": "FloatProgressModel",
          "state": {
            "_view_name": "ProgressView",
            "style": "IPY_MODEL_a53afad47e7c4ed189f4ae990ce8676a",
            "_dom_classes": [],
            "description": "100%",
            "_model_name": "FloatProgressModel",
            "bar_style": "success",
            "max": 604,
            "_view_module": "@jupyter-widgets/controls",
            "_model_module_version": "1.5.0",
            "value": 604,
            "_view_count": null,
            "_view_module_version": "1.5.0",
            "orientation": "horizontal",
            "min": 0,
            "description_tooltip": null,
            "_model_module": "@jupyter-widgets/controls",
            "layout": "IPY_MODEL_726db8e31c134d4aaa2f4789c484d33e"
          }
        },
        "3290e87120e44eee981484806146845e": {
          "model_module": "@jupyter-widgets/controls",
          "model_name": "HTMLModel",
          "state": {
            "_view_name": "HTMLView",
            "style": "IPY_MODEL_a927a7536cd24586a6afe432328caf40",
            "_dom_classes": [],
            "description": "",
            "_model_name": "HTMLModel",
            "placeholder": "​",
            "_view_module": "@jupyter-widgets/controls",
            "_model_module_version": "1.5.0",
            "value": " 604/604 [02:47&lt;00:00,  3.60it/s]",
            "_view_count": null,
            "_view_module_version": "1.5.0",
            "description_tooltip": null,
            "_model_module": "@jupyter-widgets/controls",
            "layout": "IPY_MODEL_b76ea2967d3d4ffc9e675e2585010a4f"
          }
        },
        "a53afad47e7c4ed189f4ae990ce8676a": {
          "model_module": "@jupyter-widgets/controls",
          "model_name": "ProgressStyleModel",
          "state": {
            "_view_name": "StyleView",
            "_model_name": "ProgressStyleModel",
            "description_width": "initial",
            "_view_module": "@jupyter-widgets/base",
            "_model_module_version": "1.5.0",
            "_view_count": null,
            "_view_module_version": "1.2.0",
            "bar_color": null,
            "_model_module": "@jupyter-widgets/controls"
          }
        },
        "726db8e31c134d4aaa2f4789c484d33e": {
          "model_module": "@jupyter-widgets/base",
          "model_name": "LayoutModel",
          "state": {
            "_view_name": "LayoutView",
            "grid_template_rows": null,
            "right": null,
            "justify_content": null,
            "_view_module": "@jupyter-widgets/base",
            "overflow": null,
            "_model_module_version": "1.2.0",
            "_view_count": null,
            "flex_flow": null,
            "width": null,
            "min_width": null,
            "border": null,
            "align_items": null,
            "bottom": null,
            "_model_module": "@jupyter-widgets/base",
            "top": null,
            "grid_column": null,
            "overflow_y": null,
            "overflow_x": null,
            "grid_auto_flow": null,
            "grid_area": null,
            "grid_template_columns": null,
            "flex": null,
            "_model_name": "LayoutModel",
            "justify_items": null,
            "grid_row": null,
            "max_height": null,
            "align_content": null,
            "visibility": null,
            "align_self": null,
            "height": null,
            "min_height": null,
            "padding": null,
            "grid_auto_rows": null,
            "grid_gap": null,
            "max_width": null,
            "order": null,
            "_view_module_version": "1.2.0",
            "grid_template_areas": null,
            "object_position": null,
            "object_fit": null,
            "grid_auto_columns": null,
            "margin": null,
            "display": null,
            "left": null
          }
        },
        "a927a7536cd24586a6afe432328caf40": {
          "model_module": "@jupyter-widgets/controls",
          "model_name": "DescriptionStyleModel",
          "state": {
            "_view_name": "StyleView",
            "_model_name": "DescriptionStyleModel",
            "description_width": "",
            "_view_module": "@jupyter-widgets/base",
            "_model_module_version": "1.5.0",
            "_view_count": null,
            "_view_module_version": "1.2.0",
            "_model_module": "@jupyter-widgets/controls"
          }
        },
        "b76ea2967d3d4ffc9e675e2585010a4f": {
          "model_module": "@jupyter-widgets/base",
          "model_name": "LayoutModel",
          "state": {
            "_view_name": "LayoutView",
            "grid_template_rows": null,
            "right": null,
            "justify_content": null,
            "_view_module": "@jupyter-widgets/base",
            "overflow": null,
            "_model_module_version": "1.2.0",
            "_view_count": null,
            "flex_flow": null,
            "width": null,
            "min_width": null,
            "border": null,
            "align_items": null,
            "bottom": null,
            "_model_module": "@jupyter-widgets/base",
            "top": null,
            "grid_column": null,
            "overflow_y": null,
            "overflow_x": null,
            "grid_auto_flow": null,
            "grid_area": null,
            "grid_template_columns": null,
            "flex": null,
            "_model_name": "LayoutModel",
            "justify_items": null,
            "grid_row": null,
            "max_height": null,
            "align_content": null,
            "visibility": null,
            "align_self": null,
            "height": null,
            "min_height": null,
            "padding": null,
            "grid_auto_rows": null,
            "grid_gap": null,
            "max_width": null,
            "order": null,
            "_view_module_version": "1.2.0",
            "grid_template_areas": null,
            "object_position": null,
            "object_fit": null,
            "grid_auto_columns": null,
            "margin": null,
            "display": null,
            "left": null
          }
        }
      }
    }
  },
  "cells": [
    {
      "cell_type": "markdown",
      "metadata": {
        "id": "view-in-github",
        "colab_type": "text"
      },
      "source": [
        "<a href=\"https://colab.research.google.com/github/ivoryRabbit/RecSys/blob/master/4.U-AutoRec.ipynb\" target=\"_parent\"><img src=\"https://colab.research.google.com/assets/colab-badge.svg\" alt=\"Open In Colab\"/></a>"
      ]
    },
    {
      "cell_type": "markdown",
      "metadata": {
        "id": "qshJl-mq6dgf"
      },
      "source": [
        "# U-AutoRec\n",
        "\n",
        "- [AutoRec: Autoencoders Meet Collaborative Filtering](http://users.cecs.anu.edu.au/~u5098633/papers/www15.pdf)\n",
        "\n",
        "## Experiment"
      ]
    },
    {
      "cell_type": "code",
      "metadata": {
        "id": "fXc-WZ-k2mlW"
      },
      "source": [
        "import glob\n",
        "import numpy as np\n",
        "import pandas as pd\n",
        "from typing import Callable, Tuple, List\n",
        "from tqdm.notebook import tqdm\n",
        "\n",
        "import seaborn as sns\n",
        "import matplotlib.pyplot as plt\n",
        "%matplotlib inline\n",
        "plt.style.use('bmh')\n",
        "\n",
        "from sklearn.model_selection import train_test_split\n",
        "from scipy.sparse import csr_matrix\n",
        "\n",
        "import tensorflow as tf\n",
        "import tensorflow.keras.backend as K\n",
        "from tensorflow.keras.layers import Input, Reshape, Dense\n",
        "from tensorflow.keras.models import Model, load_model\n",
        "from tensorflow.keras.callbacks import ModelCheckpoint, EarlyStopping\n",
        "from tensorflow.keras.optimizers import SGD, RMSprop, Adam\n",
        "from tensorflow.keras.optimizers.schedules import ExponentialDecay\n",
        "from tensorflow.keras.initializers import TruncatedNormal, RandomNormal\n",
        "from tensorflow.keras.regularizers import l2\n",
        "\n",
        "from tensorflow.keras.utils import get_file\n",
        "import zipfile"
      ],
      "execution_count": null,
      "outputs": []
    },
    {
      "cell_type": "code",
      "metadata": {
        "id": "cMJfOc0uALKr"
      },
      "source": [
        "def load_data(data_size : str) -> pd.DataFrame:\n",
        "    ''' load Movie Lens data '''\n",
        "\n",
        "    if data_size == '1m':\n",
        "        fname = 'ml-1m.zip'\n",
        "        data = 'ml-1m/ratings.dat'\n",
        "    elif data_size == '10m':\n",
        "        fname = 'ml-10m.zip'\n",
        "        data = 'ml-10M100K/ratings.dat'\n",
        "    elif data_size == '20m':\n",
        "        fname = 'ml-20m.zip'\n",
        "        data = 'ml-20m/ratings.csv'\n",
        "    elif data_size == '25m':\n",
        "        fname = 'ml-25m.zip'\n",
        "        data = 'ml-25m/ratings.csv'\n",
        "    if not glob.glob(data):\n",
        "        origin = f'http://files.grouplens.org/datasets/movielens/{fname}'\n",
        "        file = get_file(fname, origin)\n",
        "        zip_ref = zipfile.ZipFile(file, 'r')\n",
        "        zip_ref.extractall()\n",
        "\n",
        "    col_names = ['userId', 'movieId', 'rating', 'timestamp']\n",
        "    if data_size in ['20m', '25m']:\n",
        "        ratings = pd.read_csv(data, engine = 'python')\n",
        "    else:\n",
        "        ratings = pd.read_csv(data, sep = '|', delimiter = '::', names = col_names, engine = 'python')\n",
        "    print(ratings.shape)\n",
        "    return ratings"
      ],
      "execution_count": null,
      "outputs": []
    },
    {
      "cell_type": "code",
      "metadata": {
        "id": "MiogkUvOBrIm",
        "colab": {
          "base_uri": "https://localhost:8080/",
          "height": 258
        },
        "outputId": "81e921d8-72a7-471e-b72d-9184ae47eced"
      },
      "source": [
        "ratings = load_data('1m')\n",
        "ratings.head()"
      ],
      "execution_count": null,
      "outputs": [
        {
          "output_type": "stream",
          "text": [
            "Downloading data from http://files.grouplens.org/datasets/movielens/ml-1m.zip\n",
            "5922816/5917549 [==============================] - 1s 0us/step\n",
            "(1000209, 4)\n"
          ],
          "name": "stdout"
        },
        {
          "output_type": "execute_result",
          "data": {
            "text/html": [
              "<div>\n",
              "<style scoped>\n",
              "    .dataframe tbody tr th:only-of-type {\n",
              "        vertical-align: middle;\n",
              "    }\n",
              "\n",
              "    .dataframe tbody tr th {\n",
              "        vertical-align: top;\n",
              "    }\n",
              "\n",
              "    .dataframe thead th {\n",
              "        text-align: right;\n",
              "    }\n",
              "</style>\n",
              "<table border=\"1\" class=\"dataframe\">\n",
              "  <thead>\n",
              "    <tr style=\"text-align: right;\">\n",
              "      <th></th>\n",
              "      <th>userId</th>\n",
              "      <th>movieId</th>\n",
              "      <th>rating</th>\n",
              "      <th>timestamp</th>\n",
              "    </tr>\n",
              "  </thead>\n",
              "  <tbody>\n",
              "    <tr>\n",
              "      <th>0</th>\n",
              "      <td>1</td>\n",
              "      <td>1193</td>\n",
              "      <td>5</td>\n",
              "      <td>978300760</td>\n",
              "    </tr>\n",
              "    <tr>\n",
              "      <th>1</th>\n",
              "      <td>1</td>\n",
              "      <td>661</td>\n",
              "      <td>3</td>\n",
              "      <td>978302109</td>\n",
              "    </tr>\n",
              "    <tr>\n",
              "      <th>2</th>\n",
              "      <td>1</td>\n",
              "      <td>914</td>\n",
              "      <td>3</td>\n",
              "      <td>978301968</td>\n",
              "    </tr>\n",
              "    <tr>\n",
              "      <th>3</th>\n",
              "      <td>1</td>\n",
              "      <td>3408</td>\n",
              "      <td>4</td>\n",
              "      <td>978300275</td>\n",
              "    </tr>\n",
              "    <tr>\n",
              "      <th>4</th>\n",
              "      <td>1</td>\n",
              "      <td>2355</td>\n",
              "      <td>5</td>\n",
              "      <td>978824291</td>\n",
              "    </tr>\n",
              "  </tbody>\n",
              "</table>\n",
              "</div>"
            ],
            "text/plain": [
              "   userId  movieId  rating  timestamp\n",
              "0       1     1193       5  978300760\n",
              "1       1      661       3  978302109\n",
              "2       1      914       3  978301968\n",
              "3       1     3408       4  978300275\n",
              "4       1     2355       5  978824291"
            ]
          },
          "metadata": {
            "tags": []
          },
          "execution_count": 3
        }
      ]
    },
    {
      "cell_type": "code",
      "metadata": {
        "id": "Q61otQWA3tFe",
        "colab": {
          "base_uri": "https://localhost:8080/"
        },
        "outputId": "eb9ff0cf-a823-4a2b-99bf-14bda2957c74"
      },
      "source": [
        "n_user = ratings.userId.nunique()\n",
        "print(f'# of user = {n_user}')\n",
        "\n",
        "n_item = ratings.movieId.nunique()\n",
        "print(f'# of item = {n_item}')"
      ],
      "execution_count": null,
      "outputs": [
        {
          "output_type": "stream",
          "text": [
            "# of user = 6040\n",
            "# of item = 3706\n"
          ],
          "name": "stdout"
        }
      ]
    },
    {
      "cell_type": "code",
      "metadata": {
        "id": "_1qziMzbI_39"
      },
      "source": [
        "def train_valid_test_split(df: pd.DataFrame) -> pd.DataFrame:\n",
        "    train_user, test_user = train_test_split(df.userId.unique(), test_size = 0.2, random_state = 777)\n",
        "    valid_user, test_user = train_test_split(test_user, test_size = 0.5, random_state = 777)\n",
        "\n",
        "    train, valid, test = map(lambda x: df[df.userId.isin(x)], (train_user, valid_user, test_user))\n",
        "    train, valid, test = map(lambda df: df.reset_index(drop = True), (train, valid, test))\n",
        "    return train, valid, test\n",
        "\n",
        "def query_answer_split(df: pd.DataFrame) -> pd.DataFrame:\n",
        "    timeorder = df.groupby(by = 'userId')['timestamp'].rank(method = 'first', ascending = True)\n",
        "    seen_cnts = df.groupby(by = 'userId', as_index = False).agg(seen_cnts = ('movieId', 'count'))\n",
        "    df = df.merge(seen_cnts, how = 'left', on = 'userId')\n",
        "    df = df.assign(timeorder = timeorder)\n",
        "    df = df.assign(split_type = np.where(df.timeorder < df.seen_cnts * 0.8, 'query', 'answer'))\n",
        "    query = df[df.split_type == 'query']\n",
        "    answer = df[df.split_type == 'answer']\n",
        "    answer = answer[answer.userId.isin(query.userId.unique())]\n",
        "    query, answer = map(lambda df: df.drop(columns = ['timeorder', 'seen_cnts', 'split_type']), (query, answer))\n",
        "    query, answer = map(lambda df: df.reset_index(drop = True), (query, answer))\n",
        "    return query, answer\n",
        "\n",
        "def cut_off(df: pd.DataFrame, threshold = 4) -> pd.DataFrame:\n",
        "    return df[df.rating >= threshold].reset_index(drop = True)\n",
        "\n",
        "def make_warm(df: pd.DataFrame, threshold = 5) -> pd.DataFrame: # remove cold starters\n",
        "    positive = df.groupby('userId')['movieId'].nunique()\n",
        "    positive = positive.index[positive >= threshold]\n",
        "    return df[df.userId.isin(positive)].reset_index(drop = True)\n",
        "\n",
        "def list_aggregation(df: pd.DataFrame, user_based = True) -> pd.DataFrame:\n",
        "    if user_based:\n",
        "        return df.groupby('userId', as_index = False)[['movieId', 'rating']].agg(list)\n",
        "    else:\n",
        "        return df.groupby('movieId', as_index = False)[['userId', 'rating']].agg(list)"
      ],
      "execution_count": null,
      "outputs": []
    },
    {
      "cell_type": "code",
      "metadata": {
        "id": "2CinJQR9jJ2T"
      },
      "source": [
        "idx_user_map = ratings.userId.unique()\n",
        "user_idx_map = {e: i for i, e in enumerate(idx_user_map)}\n",
        "\n",
        "idx_item_map = ratings.movieId.unique()\n",
        "item_idx_map = {e: i for i, e in enumerate(idx_item_map)}"
      ],
      "execution_count": null,
      "outputs": []
    },
    {
      "cell_type": "code",
      "metadata": {
        "id": "nEfHNnsejLVF"
      },
      "source": [
        "def Id2idx(df: pd.DataFrame) -> pd.DataFrame:\n",
        "    return df.assign(userId = lambda x: x.userId.map(user_idx_map), \n",
        "                     movieId = lambda x: x.movieId.map(item_idx_map))\n",
        "\n",
        "def idx2Id(df: pd.DataFrame) -> pd.DataFrame:\n",
        "    return df.assign(userId = lambda x: x.userId.apply(lambda x: idx_user_map[x]), \n",
        "                     movieId = lambda x: x.movieId.apply(lambda x: idx_item_map[x]))"
      ],
      "execution_count": null,
      "outputs": []
    },
    {
      "cell_type": "code",
      "metadata": {
        "id": "oLuKQXUpjNcJ",
        "colab": {
          "base_uri": "https://localhost:8080/",
          "height": 222
        },
        "outputId": "87c55b26-f121-4df7-e19c-1781378026e8"
      },
      "source": [
        "ratings = Id2idx(ratings)\n",
        " \n",
        "print(ratings.shape)\n",
        "ratings.head(5)"
      ],
      "execution_count": null,
      "outputs": [
        {
          "output_type": "stream",
          "text": [
            "(1000209, 4)\n"
          ],
          "name": "stdout"
        },
        {
          "output_type": "execute_result",
          "data": {
            "text/html": [
              "<div>\n",
              "<style scoped>\n",
              "    .dataframe tbody tr th:only-of-type {\n",
              "        vertical-align: middle;\n",
              "    }\n",
              "\n",
              "    .dataframe tbody tr th {\n",
              "        vertical-align: top;\n",
              "    }\n",
              "\n",
              "    .dataframe thead th {\n",
              "        text-align: right;\n",
              "    }\n",
              "</style>\n",
              "<table border=\"1\" class=\"dataframe\">\n",
              "  <thead>\n",
              "    <tr style=\"text-align: right;\">\n",
              "      <th></th>\n",
              "      <th>userId</th>\n",
              "      <th>movieId</th>\n",
              "      <th>rating</th>\n",
              "      <th>timestamp</th>\n",
              "    </tr>\n",
              "  </thead>\n",
              "  <tbody>\n",
              "    <tr>\n",
              "      <th>0</th>\n",
              "      <td>0</td>\n",
              "      <td>0</td>\n",
              "      <td>5</td>\n",
              "      <td>978300760</td>\n",
              "    </tr>\n",
              "    <tr>\n",
              "      <th>1</th>\n",
              "      <td>0</td>\n",
              "      <td>1</td>\n",
              "      <td>3</td>\n",
              "      <td>978302109</td>\n",
              "    </tr>\n",
              "    <tr>\n",
              "      <th>2</th>\n",
              "      <td>0</td>\n",
              "      <td>2</td>\n",
              "      <td>3</td>\n",
              "      <td>978301968</td>\n",
              "    </tr>\n",
              "    <tr>\n",
              "      <th>3</th>\n",
              "      <td>0</td>\n",
              "      <td>3</td>\n",
              "      <td>4</td>\n",
              "      <td>978300275</td>\n",
              "    </tr>\n",
              "    <tr>\n",
              "      <th>4</th>\n",
              "      <td>0</td>\n",
              "      <td>4</td>\n",
              "      <td>5</td>\n",
              "      <td>978824291</td>\n",
              "    </tr>\n",
              "  </tbody>\n",
              "</table>\n",
              "</div>"
            ],
            "text/plain": [
              "   userId  movieId  rating  timestamp\n",
              "0       0        0       5  978300760\n",
              "1       0        1       3  978302109\n",
              "2       0        2       3  978301968\n",
              "3       0        3       4  978300275\n",
              "4       0        4       5  978824291"
            ]
          },
          "metadata": {
            "tags": []
          },
          "execution_count": 8
        }
      ]
    },
    {
      "cell_type": "code",
      "metadata": {
        "id": "MkLGRouPxvQ8"
      },
      "source": [
        "def train_generator(df: pd.DataFrame, \n",
        "                    n_user: int,\n",
        "                    n_item: int, \n",
        "                    batch_size: int, \n",
        "                    user_based = True) -> Tuple[np.array]:\n",
        "\n",
        "    n_row = df.index.size\n",
        "    n_col = n_item if user_based else n_user\n",
        "\n",
        "    Ids = np.arange(n_row)\n",
        "    profiles = df['movieId'] if user_based else df['userId']\n",
        "\n",
        "    n_batch = int(np.ceil(n_row / batch_size))\n",
        "    while True:\n",
        "        np.random.shuffle(Ids)\n",
        "        \n",
        "        for batch_step in range(n_batch):         \n",
        "            lower = batch_step * batch_size\n",
        "            upper = lower + batch_size\n",
        "            \n",
        "            batch_Id = Ids[lower: upper]\n",
        "            batch = np.zeros(shape = (batch_Id.size, n_col))\n",
        "            for i, idx in enumerate(batch_Id):\n",
        "                batch[i, profiles[idx]] = 1.0\n",
        "            \n",
        "            yield batch, batch"
      ],
      "execution_count": null,
      "outputs": []
    },
    {
      "cell_type": "code",
      "metadata": {
        "id": "pfKvNy9Ygix4"
      },
      "source": [
        "def valid_generator(query: pd.DataFrame,\n",
        "                    answer: pd.DataFrame,\n",
        "                    n_user: int,\n",
        "                    n_item: int,\n",
        "                    batch_size: int,\n",
        "                    user_based = True) -> Tuple[np.array]:\n",
        "\n",
        "    n_row = query.index.size\n",
        "    n_col = n_item\n",
        "\n",
        "    Ids = np.arange(n_row)\n",
        "    profile_q = query['movieId']\n",
        "    profile_a = answer['movieId']\n",
        "\n",
        "    n_batch = int(np.ceil(n_row / batch_size))\n",
        "    while True:\n",
        "        for batch_step in range(n_batch):\n",
        "            lower = batch_step * batch_size\n",
        "            upper = lower + batch_size\n",
        "            \n",
        "            batch_Id = Ids[lower: upper]\n",
        "            batch_q = np.zeros(shape = (batch_Id.size, n_col))\n",
        "            batch_a = np.zeros(shape = (batch_Id.size, n_col))\n",
        "\n",
        "            for i, idx in enumerate(batch_Id):\n",
        "                obs = np.array(profile_q[idx]) # seen\n",
        "                ubs = np.array(profile_a[idx]) # unseen\n",
        "\n",
        "                batch_q[i, obs] = 1.0\n",
        "                batch_a[i, ubs] = 1.0\n",
        "                batch_a[i, obs] = -1.0 # to mark seen-data\n",
        "\n",
        "            yield batch_q, batch_a"
      ],
      "execution_count": null,
      "outputs": []
    },
    {
      "cell_type": "code",
      "metadata": {
        "id": "k0U5vZc1jpYf"
      },
      "source": [
        "def masked_cross_entropy(y_true: np.array, y_pred: np.array, masked_value = 0) -> tf.Tensor:\n",
        "    mask_true = K.cast(K.not_equal(y_true, masked_value), dtype = 'float32')\n",
        "    masked_ce = mask_true * y_true * K.log(y_pred + K.epsilon())\n",
        "    return -K.sum(masked_ce, axis = -1) / K.sum(mask_true, axis = -1)\n",
        "\n",
        "def batch_ndcg(y_true: tf.Tensor, y_pred: tf.Tensor, k = 100) -> tf.Tensor: # only for validation\n",
        "    rec = tf.where(y_true == -1.0, -1.0, y_pred) # leave only unseen-data\n",
        "    rec = tf.argsort(rec, axis = -1, direction = 'DESCENDING')[:, :k]\n",
        "\n",
        "    row = tf.repeat(tf.range(tf.shape(y_true)[0]), k)\n",
        "    row = tf.expand_dims(row, axis = 1)\n",
        "    col = tf.reshape(rec, shape = [-1])\n",
        "    col = tf.expand_dims(col, axis = 1)\n",
        "    loc = tf.concat([row, col], axis = 1)\n",
        "\n",
        "    top_k = tf.reshape(tf.gather_nd(y_true, loc), shape = tf.shape(rec))\n",
        "    ideal = tf.sort(y_true, axis = 1, direction = 'DESCENDING')[:, :k]\n",
        "\n",
        "    weight = tf.range(2, 102, dtype = 'float32')\n",
        "    weight = tf.math.log(weight)\n",
        "    weight = tf.math.reciprocal(weight)\n",
        "    \n",
        "    dcg = tf.reduce_sum(top_k * weight, axis = 1)    \n",
        "    idcg = tf.reduce_sum(tf.where(ideal == -1.0, 0.0, ideal * weight), axis = 1)\n",
        "    return dcg / idcg"
      ],
      "execution_count": null,
      "outputs": []
    },
    {
      "cell_type": "code",
      "metadata": {
        "id": "9ZNuzFGpnO_z"
      },
      "source": [
        "def AutoRec(n_user: int, \n",
        "            n_item: int, \n",
        "            user_based = True, \n",
        "            latent_dim = 500) -> Callable:\n",
        "\n",
        "    initializer = RandomNormal(mean = 0.0, stddev = 0.05, seed = None)\n",
        "    regularizer = l2(0.001)\n",
        "    \n",
        "    input_shape = n_item if user_based else n_user\n",
        "\n",
        "    inputs = Input(shape = (input_shape, ), name = 'input')\n",
        "    latents = Dense(latent_dim, activation = 'linear', kernel_initializer = initializer, kernel_regularizer = regularizer, name = 'encoder')(inputs)\n",
        "    outputs = Dense(input_shape, activation = 'sigmoid', kernel_initializer = initializer, kernel_regularizer = regularizer, name = 'decoder')(latents)\n",
        "\n",
        "    return Model(inputs = inputs, outputs = outputs)"
      ],
      "execution_count": null,
      "outputs": []
    },
    {
      "cell_type": "code",
      "metadata": {
        "id": "NHoctUBox1Z4"
      },
      "source": [
        "def test_predictor(df: pd.DataFrame, \n",
        "                   model: Callable, \n",
        "                   n_item: int, \n",
        "                   batch_size: int, \n",
        "                   N = 100) -> float:\n",
        "\n",
        "    n_row = df.index.size\n",
        "    n_col = n_item\n",
        "\n",
        "    Ids = np.arange(n_row)\n",
        "    profile = df['movieId']\n",
        "\n",
        "    pred = []\n",
        "    steps = int(np.ceil(n_row / batch_size))\n",
        "    for batch_step in range(steps):\n",
        "        lower = batch_step * batch_size\n",
        "        upper = lower + batch_size\n",
        "\n",
        "        batch_Id = Ids[lower: upper]\n",
        "        y_true = np.zeros(shape = (batch_Id.size, n_col))\n",
        "        for i, idx in enumerate(batch_Id):\n",
        "            y_true[i, profile[idx]] = 1.0\n",
        "\n",
        "        y_pred = model.predict(y_true, verbose = 0)\n",
        "        \n",
        "        cand = np.argsort(np.where(y_true == 1.0, -1.0, y_pred), axis = -1)[:, :-N-1:-1]\n",
        "        pred.append(cand)\n",
        "    pred = np.concatenate(pred)\n",
        "    pred = [{'userId': df.at[i, 'userId'], 'movieId': pred[i]} for i in range(n_row)]\n",
        "    return pd.DataFrame(pred)"
      ],
      "execution_count": null,
      "outputs": []
    },
    {
      "cell_type": "code",
      "metadata": {
        "id": "tYBxSQKIaioI"
      },
      "source": [
        "def show_history(history, loss: str, metric: str) -> None:\n",
        "    fig, (ax1, ax2) = plt.subplots(1, 2, figsize = (12, 4))\n",
        "\n",
        "    ax1.plot(history[f'{loss}'])\n",
        "    ax1.plot(history[f'val_{loss}'])\n",
        "    ax1.set_title(loss, fontsize = 20)\n",
        "    ax1.set_ylabel(loss)\n",
        "    ax1.set_xlabel('epoch')\n",
        "    ax1.legend([loss, f'val_{loss}'], loc = 'upper right')\n",
        "\n",
        "    ax2.plot(history[f'{metric}'])\n",
        "    ax2.plot(history[f'val_{metric}'])\n",
        "    ax2.set_title(metric, fontsize = 20)\n",
        "    ax2.set_ylabel(metric)\n",
        "    ax2.set_xlabel('epoch')\n",
        "    ax2.legend([metric, f'val_{metric}'], loc = 'upper right')\n",
        "    plt.show()"
      ],
      "execution_count": null,
      "outputs": []
    },
    {
      "cell_type": "code",
      "metadata": {
        "id": "G05LGp9eAfE0"
      },
      "source": [
        "class evaluate:\n",
        "    def __init__(self, true: pd.DataFrame, pred: pd.DataFrame):\n",
        "        self.true = true\n",
        "        self.pred = pred\n",
        "        self.max_K = 10000\n",
        "        self.idcg = np.cumsum([1.0 / np.log(i+2) for i in range(self.max_K)])\n",
        "\n",
        "    def _recall(self, gt: List, rec: List, K = None) -> float:\n",
        "        K = K if K else self.max_K\n",
        "        res = [r for r in rec[:K] if r in gt]\n",
        "        return len(res) / np.min([K, len(gt)])\n",
        "    \n",
        "    def _precision(self, gt: List, rec: List, K = None) -> float:\n",
        "        K = K if K else self.max_K\n",
        "        res = [r for r in rec[:K] if r in gt]\n",
        "        return len(res) / len(rec[:K])\n",
        "\n",
        "    def _AP(self, gt: List, rec: List, K = None) -> float: # Average Precision\n",
        "        K = K if K else self.max_K\n",
        "        res = 0\n",
        "        for i, r in enumerate(rec[:K]):\n",
        "            if r in gt:\n",
        "                res += self._precision(gt, rec[:K], i+1)\n",
        "        return res / np.min([K, len(gt)])\n",
        "\n",
        "    def _RR(self, gt: List, rec: List, K = None) -> float: # Reciprocal Rank\n",
        "        K = K if K else self.max_K\n",
        "        for i, r in enumerate(rec[:K]):\n",
        "            if r in gt:\n",
        "                return  1.0 / (i+1)\n",
        "        return 0\n",
        "\n",
        "    def _nDCG(self, gt: List, rec: List, K = None) -> float: # normalized Discounted Cumulative Gain\n",
        "        K = K if K else self.max_K\n",
        "        dcg = 0.0\n",
        "        for i, r in enumerate(rec[:K]):\n",
        "            if r in gt:\n",
        "                dcg += 1.0 / np.log(i+2)\n",
        "        idcg = self.idcg[min([len(gt), K])-1]\n",
        "        return dcg / idcg\n",
        "    \n",
        "    def __call__(self, K = None):\n",
        "        self.K = K\n",
        "        self.recall = 0\n",
        "        self.precision = 0\n",
        "        self.MAP = 0\n",
        "        self.MRR = 0\n",
        "        self.nDCG = 0\n",
        "        n = self.true.index.size\n",
        "        for gt, rec in zip(tqdm(self.true.movieId), self.pred.movieId):\n",
        "            self.recall += self._recall(gt, rec, K) / n\n",
        "            self.precision += self._precision(gt, rec, K) / n\n",
        "            self.MAP += self._AP(gt, rec, K) / n\n",
        "            self.MRR += self._RR(gt, rec, K) / n\n",
        "            self.nDCG += self._nDCG(gt, rec, K) / n\n",
        "\n",
        "    def print_all(self):\n",
        "        K = '@' + str(self.K) if self.K else ''\n",
        "        print(f'{\"Recall\":>12}{K} : {self.recall:.5f}',\n",
        "              f'\\n{\"Precision\":>12}{K} : {self.precision:.5f}',\n",
        "              f'\\n{\"MAP\":>12}{K} : {self.MAP:.5f}',\n",
        "              f'\\n{\"nRR\":>12}{K} : {self.MRR:.5f}',\n",
        "              f'\\n{\"nDCG\":>12}{K} : {self.nDCG:.5f}')"
      ],
      "execution_count": null,
      "outputs": []
    },
    {
      "cell_type": "markdown",
      "metadata": {
        "id": "lDZc_fV0DmRA"
      },
      "source": [
        "## 1. U-AutoRec"
      ]
    },
    {
      "cell_type": "code",
      "metadata": {
        "id": "yllQGsgruza0"
      },
      "source": [
        "ratings = cut_off(ratings)\n",
        "\n",
        "train, valid, test = train_valid_test_split(ratings)\n",
        "train = list_aggregation(train)\n",
        "\n",
        "(valid_q, valid_a), (test_q, test_a) = map(query_answer_split, (valid, test))\n",
        "valid_q, valid_a, test_q, test_a = map(list_aggregation, (valid_q, valid_a, test_q, test_a))"
      ],
      "execution_count": null,
      "outputs": []
    },
    {
      "cell_type": "code",
      "metadata": {
        "id": "aO6Unw5hyOGg"
      },
      "source": [
        "epochs = 200\n",
        "batch_size = 128\n",
        "\n",
        "train_gen = train_generator(train, n_user, n_item, batch_size)\n",
        "valid_gen = valid_generator(valid_q, valid_a, n_user, n_item, batch_size)\n",
        "\n",
        "steps_per_epoch = train.index.size // batch_size + 1\n",
        "validation_steps = valid.index.size // batch_size + 1"
      ],
      "execution_count": null,
      "outputs": []
    },
    {
      "cell_type": "code",
      "metadata": {
        "id": "l-lVPKELTIax",
        "colab": {
          "base_uri": "https://localhost:8080/"
        },
        "outputId": "2824c0ba-2c5f-421b-88e6-f86c7890410a"
      },
      "source": [
        "model = AutoRec(n_user, n_item, user_based = True, latent_dim = 500)\n",
        "model.compile(optimizer = 'adamax', loss = masked_cross_entropy, metrics = batch_ndcg)\n",
        "model.summary()"
      ],
      "execution_count": null,
      "outputs": [
        {
          "output_type": "stream",
          "text": [
            "Model: \"functional_1\"\n",
            "_________________________________________________________________\n",
            "Layer (type)                 Output Shape              Param #   \n",
            "=================================================================\n",
            "input (InputLayer)           [(None, 3706)]            0         \n",
            "_________________________________________________________________\n",
            "encoder (Dense)              (None, 500)               1853500   \n",
            "_________________________________________________________________\n",
            "decoder (Dense)              (None, 3706)              1856706   \n",
            "=================================================================\n",
            "Total params: 3,710,206\n",
            "Trainable params: 3,710,206\n",
            "Non-trainable params: 0\n",
            "_________________________________________________________________\n"
          ],
          "name": "stdout"
        }
      ]
    },
    {
      "cell_type": "code",
      "metadata": {
        "id": "R4MVxtBmDtlM",
        "colab": {
          "base_uri": "https://localhost:8080/"
        },
        "outputId": "24fdf2c3-df6d-43c3-e515-16c9236ae09e"
      },
      "source": [
        "%%time\n",
        "early_stopping = EarlyStopping(monitor = 'val_batch_ndcg', mode = 'max', verbose = 1, patience = epochs // 10)\n",
        "model_checkpoint = ModelCheckpoint('U-AutoRec.h5', monitor = 'val_batch_ndcg', mode = 'max', save_best_only = True)\n",
        "\n",
        "hist = model.fit(x = train_gen, validation_data = valid_gen, epochs = epochs,\n",
        "                 steps_per_epoch = steps_per_epoch, validation_steps = validation_steps, \n",
        "                 verbose = 1, callbacks = [early_stopping, model_checkpoint])"
      ],
      "execution_count": null,
      "outputs": [
        {
          "output_type": "stream",
          "text": [
            "Epoch 1/200\n",
            "38/38 [==============================] - 5s 131ms/step - loss: 6.4456 - batch_ndcg: 0.2910 - val_loss: 3.6361 - val_batch_ndcg: 0.1431\n",
            "Epoch 2/200\n",
            "38/38 [==============================] - 4s 118ms/step - loss: 2.7338 - batch_ndcg: 0.3804 - val_loss: 1.6230 - val_batch_ndcg: 0.1433\n",
            "Epoch 3/200\n",
            "38/38 [==============================] - 4s 117ms/step - loss: 1.3425 - batch_ndcg: 0.3629 - val_loss: 0.7853 - val_batch_ndcg: 0.1396\n",
            "Epoch 4/200\n",
            "38/38 [==============================] - 4s 114ms/step - loss: 0.7424 - batch_ndcg: 0.3551 - val_loss: 0.4106 - val_batch_ndcg: 0.1386\n",
            "Epoch 5/200\n",
            "38/38 [==============================] - 4s 115ms/step - loss: 0.4617 - batch_ndcg: 0.3515 - val_loss: 0.2326 - val_batch_ndcg: 0.1379\n",
            "Epoch 6/200\n",
            "38/38 [==============================] - 4s 111ms/step - loss: 0.3225 - batch_ndcg: 0.3487 - val_loss: 0.1452 - val_batch_ndcg: 0.1361\n",
            "Epoch 7/200\n",
            "38/38 [==============================] - 4s 114ms/step - loss: 0.2500 - batch_ndcg: 0.3460 - val_loss: 0.1003 - val_batch_ndcg: 0.1364\n",
            "Epoch 8/200\n",
            "38/38 [==============================] - 4s 113ms/step - loss: 0.2102 - batch_ndcg: 0.3451 - val_loss: 0.0762 - val_batch_ndcg: 0.1360\n",
            "Epoch 9/200\n",
            "38/38 [==============================] - 4s 115ms/step - loss: 0.1870 - batch_ndcg: 0.3443 - val_loss: 0.0637 - val_batch_ndcg: 0.1373\n",
            "Epoch 10/200\n",
            "38/38 [==============================] - 4s 114ms/step - loss: 0.1725 - batch_ndcg: 0.3431 - val_loss: 0.0561 - val_batch_ndcg: 0.1355\n",
            "Epoch 11/200\n",
            "38/38 [==============================] - 4s 113ms/step - loss: 0.1628 - batch_ndcg: 0.3425 - val_loss: 0.0525 - val_batch_ndcg: 0.1379\n",
            "Epoch 12/200\n",
            "38/38 [==============================] - 4s 118ms/step - loss: 0.1556 - batch_ndcg: 0.3440 - val_loss: 0.0495 - val_batch_ndcg: 0.1361\n",
            "Epoch 13/200\n",
            "38/38 [==============================] - 4s 118ms/step - loss: 0.1500 - batch_ndcg: 0.3427 - val_loss: 0.0474 - val_batch_ndcg: 0.1367\n",
            "Epoch 14/200\n",
            "38/38 [==============================] - 4s 113ms/step - loss: 0.1453 - batch_ndcg: 0.3432 - val_loss: 0.0462 - val_batch_ndcg: 0.1365\n",
            "Epoch 15/200\n",
            "38/38 [==============================] - 4s 114ms/step - loss: 0.1411 - batch_ndcg: 0.3438 - val_loss: 0.0452 - val_batch_ndcg: 0.1395\n",
            "Epoch 16/200\n",
            "38/38 [==============================] - 4s 112ms/step - loss: 0.1373 - batch_ndcg: 0.3433 - val_loss: 0.0441 - val_batch_ndcg: 0.1388\n",
            "Epoch 17/200\n",
            "38/38 [==============================] - 4s 117ms/step - loss: 0.1338 - batch_ndcg: 0.3434 - val_loss: 0.0436 - val_batch_ndcg: 0.1373\n",
            "Epoch 18/200\n",
            "38/38 [==============================] - 4s 115ms/step - loss: 0.1304 - batch_ndcg: 0.3433 - val_loss: 0.0430 - val_batch_ndcg: 0.1393\n",
            "Epoch 19/200\n",
            "38/38 [==============================] - 4s 116ms/step - loss: 0.1272 - batch_ndcg: 0.3423 - val_loss: 0.0421 - val_batch_ndcg: 0.1352\n",
            "Epoch 20/200\n",
            "38/38 [==============================] - 4s 112ms/step - loss: 0.1241 - batch_ndcg: 0.3445 - val_loss: 0.0414 - val_batch_ndcg: 0.1392\n",
            "Epoch 21/200\n",
            "38/38 [==============================] - 4s 115ms/step - loss: 0.1211 - batch_ndcg: 0.3439 - val_loss: 0.0400 - val_batch_ndcg: 0.1384\n",
            "Epoch 22/200\n",
            "38/38 [==============================] - 4s 113ms/step - loss: 0.1183 - batch_ndcg: 0.3439 - val_loss: 0.0402 - val_batch_ndcg: 0.1377\n",
            "Epoch 00022: early stopping\n",
            "CPU times: user 2min 8s, sys: 9.28 s, total: 2min 17s\n",
            "Wall time: 1min 39s\n"
          ],
          "name": "stdout"
        }
      ]
    },
    {
      "cell_type": "code",
      "metadata": {
        "id": "25rNsyqNr1qi",
        "colab": {
          "base_uri": "https://localhost:8080/",
          "height": 300
        },
        "outputId": "778f5c06-6d0a-4e09-b436-c8d4142a4fee"
      },
      "source": [
        "show_history(hist.history, 'loss', 'batch_ndcg')"
      ],
      "execution_count": null,
      "outputs": [
        {
          "output_type": "display_data",
          "data": {
            "image/png": "[encoded data removed]",
            "text/plain": [
              "<Figure size 864x288 with 2 Axes>"
            ]
          },
          "metadata": {
            "tags": [],
            "needs_background": "light"
          }
        }
      ]
    },
    {
      "cell_type": "code",
      "metadata": {
        "id": "fgw83iYFysnj",
        "colab": {
          "base_uri": "https://localhost:8080/",
          "height": 204
        },
        "outputId": "e6dd1d02-5255-4152-e4c2-39b77a78735e"
      },
      "source": [
        "pred = test_predictor(test_q, model, n_item, batch_size, N = 100)\n",
        "pred.head(5)"
      ],
      "execution_count": null,
      "outputs": [
        {
          "output_type": "execute_result",
          "data": {
            "text/html": [
              "<div>\n",
              "<style scoped>\n",
              "    .dataframe tbody tr th:only-of-type {\n",
              "        vertical-align: middle;\n",
              "    }\n",
              "\n",
              "    .dataframe tbody tr th {\n",
              "        vertical-align: top;\n",
              "    }\n",
              "\n",
              "    .dataframe thead th {\n",
              "        text-align: right;\n",
              "    }\n",
              "</style>\n",
              "<table border=\"1\" class=\"dataframe\">\n",
              "  <thead>\n",
              "    <tr style=\"text-align: right;\">\n",
              "      <th></th>\n",
              "      <th>userId</th>\n",
              "      <th>movieId</th>\n",
              "    </tr>\n",
              "  </thead>\n",
              "  <tbody>\n",
              "    <tr>\n",
              "      <th>0</th>\n",
              "      <td>4</td>\n",
              "      <td>[44, 48, 64, 38, 92, 68, 23, 669, 97, 127, 113...</td>\n",
              "    </tr>\n",
              "    <tr>\n",
              "      <th>1</th>\n",
              "      <td>9</td>\n",
              "      <td>[104, 44, 48, 128, 23, 68, 669, 0, 124, 246, 5...</td>\n",
              "    </tr>\n",
              "    <tr>\n",
              "      <th>2</th>\n",
              "      <td>14</td>\n",
              "      <td>[44, 64, 184, 128, 669, 97, 124, 246, 5, 22, 5...</td>\n",
              "    </tr>\n",
              "    <tr>\n",
              "      <th>3</th>\n",
              "      <td>44</td>\n",
              "      <td>[104, 44, 48, 38, 64, 184, 128, 92, 68, 23, 66...</td>\n",
              "    </tr>\n",
              "    <tr>\n",
              "      <th>4</th>\n",
              "      <td>59</td>\n",
              "      <td>[104, 44, 48, 38, 64, 184, 128, 68, 92, 23, 66...</td>\n",
              "    </tr>\n",
              "  </tbody>\n",
              "</table>\n",
              "</div>"
            ],
            "text/plain": [
              "   userId                                            movieId\n",
              "0       4  [44, 48, 64, 38, 92, 68, 23, 669, 97, 127, 113...\n",
              "1       9  [104, 44, 48, 128, 23, 68, 669, 0, 124, 246, 5...\n",
              "2      14  [44, 64, 184, 128, 669, 97, 124, 246, 5, 22, 5...\n",
              "3      44  [104, 44, 48, 38, 64, 184, 128, 92, 68, 23, 66...\n",
              "4      59  [104, 44, 48, 38, 64, 184, 128, 68, 92, 23, 66..."
            ]
          },
          "metadata": {
            "tags": []
          },
          "execution_count": 21
        }
      ]
    },
    {
      "cell_type": "code",
      "metadata": {
        "id": "jKQgNhpY0Bjl",
        "colab": {
          "base_uri": "https://localhost:8080/",
          "height": 297,
          "referenced_widgets": [
            "2b2ec54b4ac940f7b151f7340de36f20",
            "40b3b55a2830453d978fc5b5ed6ff984",
            "3aeba4cd375f41ee8dc9f961793fc453",
            "a425e3afb6824e30ad970a86cb26482e",
            "881830e5da3c4217bd67b07bca1dcca5",
            "06f0c1c550fb4929a16686346bc9286e",
            "925b3e0d16694386a30d833846878fd0",
            "85820567924b46228f7a0eeefd82be32",
            "87d2db728bb24715b829331e296efd03",
            "7124550173754bb680d5a37cdb910c64",
            "a8d00246c95c40fd979013002ead6027",
            "3290e87120e44eee981484806146845e",
            "a53afad47e7c4ed189f4ae990ce8676a",
            "726db8e31c134d4aaa2f4789c484d33e",
            "a927a7536cd24586a6afe432328caf40",
            "b76ea2967d3d4ffc9e675e2585010a4f"
          ]
        },
        "outputId": "4e00bf35-3636-473e-ea5e-40db41bfd7b1"
      },
      "source": [
        "eval = evaluate(test_a, pred)\n",
        "\n",
        "eval(K = 20)\n",
        "eval.print_all()\n",
        "\n",
        "eval(K = 100)\n",
        "eval.print_all()"
      ],
      "execution_count": null,
      "outputs": [
        {
          "output_type": "display_data",
          "data": {
            "application/vnd.jupyter.widget-view+json": {
              "model_id": "2b2ec54b4ac940f7b151f7340de36f20",
              "version_minor": 0,
              "version_major": 2
            },
            "text/plain": [
              "HBox(children=(FloatProgress(value=0.0, max=604.0), HTML(value='')))"
            ]
          },
          "metadata": {
            "tags": []
          }
        },
        {
          "output_type": "stream",
          "text": [
            "\n",
            "      Recall@20 : 0.10628 \n",
            "   Precision@20 : 0.06258 \n",
            "         MAP@20 : 0.03165 \n",
            "         nRR@20 : 0.19946 \n",
            "        nDCG@20 : 0.09204\n"
          ],
          "name": "stdout"
        },
        {
          "output_type": "display_data",
          "data": {
            "application/vnd.jupyter.widget-view+json": {
              "model_id": "87d2db728bb24715b829331e296efd03",
              "version_minor": 0,
              "version_major": 2
            },
            "text/plain": [
              "HBox(children=(FloatProgress(value=0.0, max=604.0), HTML(value='')))"
            ]
          },
          "metadata": {
            "tags": []
          }
        },
        {
          "output_type": "stream",
          "text": [
            "\n",
            "      Recall@100 : 0.25875 \n",
            "   Precision@100 : 0.04031 \n",
            "         MAP@100 : 0.03938 \n",
            "         nRR@100 : 0.20686 \n",
            "        nDCG@100 : 0.15268\n"
          ],
          "name": "stdout"
        }
      ]
    }
  ]
}
