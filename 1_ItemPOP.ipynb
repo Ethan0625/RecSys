{
  "nbformat": 4,
  "nbformat_minor": 0,
  "metadata": {
    "colab": {
      "name": "1_ItemPOP.ipynb",
      "provenance": [],
      "collapsed_sections": [],
      "authorship_tag": "ABX9TyN2TvONFy6TkXFOLKxq/b20",
      "include_colab_link": true
    },
    "kernelspec": {
      "name": "python3",
      "display_name": "Python 3"
    },
    "widgets": {
      "application/vnd.jupyter.widget-state+json": {
        "b6114e24954347d48943c1a55fc26e22": {
          "model_module": "@jupyter-widgets/controls",
          "model_name": "HBoxModel",
          "state": {
            "_view_name": "HBoxView",
            "_dom_classes": [],
            "_model_name": "HBoxModel",
            "_view_module": "@jupyter-widgets/controls",
            "_model_module_version": "1.5.0",
            "_view_count": null,
            "_view_module_version": "1.5.0",
            "box_style": "",
            "layout": "IPY_MODEL_38fd37a96b0e4d78af9966d395f3208a",
            "_model_module": "@jupyter-widgets/controls",
            "children": [
              "IPY_MODEL_a49e6335c9884f6ca7bc8d3614c3f987",
              "IPY_MODEL_20ae9580b9ae48c180147b03801af81a"
            ]
          }
        },
        "38fd37a96b0e4d78af9966d395f3208a": {
          "model_module": "@jupyter-widgets/base",
          "model_name": "LayoutModel",
          "state": {
            "_view_name": "LayoutView",
            "grid_template_rows": null,
            "right": null,
            "justify_content": null,
            "_view_module": "@jupyter-widgets/base",
            "overflow": null,
            "_model_module_version": "1.2.0",
            "_view_count": null,
            "flex_flow": null,
            "width": null,
            "min_width": null,
            "border": null,
            "align_items": null,
            "bottom": null,
            "_model_module": "@jupyter-widgets/base",
            "top": null,
            "grid_column": null,
            "overflow_y": null,
            "overflow_x": null,
            "grid_auto_flow": null,
            "grid_area": null,
            "grid_template_columns": null,
            "flex": null,
            "_model_name": "LayoutModel",
            "justify_items": null,
            "grid_row": null,
            "max_height": null,
            "align_content": null,
            "visibility": null,
            "align_self": null,
            "height": null,
            "min_height": null,
            "padding": null,
            "grid_auto_rows": null,
            "grid_gap": null,
            "max_width": null,
            "order": null,
            "_view_module_version": "1.2.0",
            "grid_template_areas": null,
            "object_position": null,
            "object_fit": null,
            "grid_auto_columns": null,
            "margin": null,
            "display": null,
            "left": null
          }
        },
        "a49e6335c9884f6ca7bc8d3614c3f987": {
          "model_module": "@jupyter-widgets/controls",
          "model_name": "FloatProgressModel",
          "state": {
            "_view_name": "ProgressView",
            "style": "IPY_MODEL_f364db9292de48f8a56ffd9ec35cf32e",
            "_dom_classes": [],
            "description": "100%",
            "_model_name": "FloatProgressModel",
            "bar_style": "success",
            "max": 604,
            "_view_module": "@jupyter-widgets/controls",
            "_model_module_version": "1.5.0",
            "value": 604,
            "_view_count": null,
            "_view_module_version": "1.5.0",
            "orientation": "horizontal",
            "min": 0,
            "description_tooltip": null,
            "_model_module": "@jupyter-widgets/controls",
            "layout": "IPY_MODEL_d8766b879ab949ca8953085174b7b49d"
          }
        },
        "20ae9580b9ae48c180147b03801af81a": {
          "model_module": "@jupyter-widgets/controls",
          "model_name": "HTMLModel",
          "state": {
            "_view_name": "HTMLView",
            "style": "IPY_MODEL_d3b6c0f2effe4054baa43cdb4dce3eb4",
            "_dom_classes": [],
            "description": "",
            "_model_name": "HTMLModel",
            "placeholder": "​",
            "_view_module": "@jupyter-widgets/controls",
            "_model_module_version": "1.5.0",
            "value": " 604/604 [00:00&lt;00:00, 11993.60it/s]",
            "_view_count": null,
            "_view_module_version": "1.5.0",
            "description_tooltip": null,
            "_model_module": "@jupyter-widgets/controls",
            "layout": "IPY_MODEL_887d406001dd4c638b3082561ff8e23a"
          }
        },
        "f364db9292de48f8a56ffd9ec35cf32e": {
          "model_module": "@jupyter-widgets/controls",
          "model_name": "ProgressStyleModel",
          "state": {
            "_view_name": "StyleView",
            "_model_name": "ProgressStyleModel",
            "description_width": "initial",
            "_view_module": "@jupyter-widgets/base",
            "_model_module_version": "1.5.0",
            "_view_count": null,
            "_view_module_version": "1.2.0",
            "bar_color": null,
            "_model_module": "@jupyter-widgets/controls"
          }
        },
        "d8766b879ab949ca8953085174b7b49d": {
          "model_module": "@jupyter-widgets/base",
          "model_name": "LayoutModel",
          "state": {
            "_view_name": "LayoutView",
            "grid_template_rows": null,
            "right": null,
            "justify_content": null,
            "_view_module": "@jupyter-widgets/base",
            "overflow": null,
            "_model_module_version": "1.2.0",
            "_view_count": null,
            "flex_flow": null,
            "width": null,
            "min_width": null,
            "border": null,
            "align_items": null,
            "bottom": null,
            "_model_module": "@jupyter-widgets/base",
            "top": null,
            "grid_column": null,
            "overflow_y": null,
            "overflow_x": null,
            "grid_auto_flow": null,
            "grid_area": null,
            "grid_template_columns": null,
            "flex": null,
            "_model_name": "LayoutModel",
            "justify_items": null,
            "grid_row": null,
            "max_height": null,
            "align_content": null,
            "visibility": null,
            "align_self": null,
            "height": null,
            "min_height": null,
            "padding": null,
            "grid_auto_rows": null,
            "grid_gap": null,
            "max_width": null,
            "order": null,
            "_view_module_version": "1.2.0",
            "grid_template_areas": null,
            "object_position": null,
            "object_fit": null,
            "grid_auto_columns": null,
            "margin": null,
            "display": null,
            "left": null
          }
        },
        "d3b6c0f2effe4054baa43cdb4dce3eb4": {
          "model_module": "@jupyter-widgets/controls",
          "model_name": "DescriptionStyleModel",
          "state": {
            "_view_name": "StyleView",
            "_model_name": "DescriptionStyleModel",
            "description_width": "",
            "_view_module": "@jupyter-widgets/base",
            "_model_module_version": "1.5.0",
            "_view_count": null,
            "_view_module_version": "1.2.0",
            "_model_module": "@jupyter-widgets/controls"
          }
        },
        "887d406001dd4c638b3082561ff8e23a": {
          "model_module": "@jupyter-widgets/base",
          "model_name": "LayoutModel",
          "state": {
            "_view_name": "LayoutView",
            "grid_template_rows": null,
            "right": null,
            "justify_content": null,
            "_view_module": "@jupyter-widgets/base",
            "overflow": null,
            "_model_module_version": "1.2.0",
            "_view_count": null,
            "flex_flow": null,
            "width": null,
            "min_width": null,
            "border": null,
            "align_items": null,
            "bottom": null,
            "_model_module": "@jupyter-widgets/base",
            "top": null,
            "grid_column": null,
            "overflow_y": null,
            "overflow_x": null,
            "grid_auto_flow": null,
            "grid_area": null,
            "grid_template_columns": null,
            "flex": null,
            "_model_name": "LayoutModel",
            "justify_items": null,
            "grid_row": null,
            "max_height": null,
            "align_content": null,
            "visibility": null,
            "align_self": null,
            "height": null,
            "min_height": null,
            "padding": null,
            "grid_auto_rows": null,
            "grid_gap": null,
            "max_width": null,
            "order": null,
            "_view_module_version": "1.2.0",
            "grid_template_areas": null,
            "object_position": null,
            "object_fit": null,
            "grid_auto_columns": null,
            "margin": null,
            "display": null,
            "left": null
          }
        },
        "9f755e8c641a4738ac34d2e76719a6c8": {
          "model_module": "@jupyter-widgets/controls",
          "model_name": "HBoxModel",
          "state": {
            "_view_name": "HBoxView",
            "_dom_classes": [],
            "_model_name": "HBoxModel",
            "_view_module": "@jupyter-widgets/controls",
            "_model_module_version": "1.5.0",
            "_view_count": null,
            "_view_module_version": "1.5.0",
            "box_style": "",
            "layout": "IPY_MODEL_ac29db04125b459d96f60f8cf6f29bd8",
            "_model_module": "@jupyter-widgets/controls",
            "children": [
              "IPY_MODEL_1de81b2b4d1848fc97b5fe948b263a6c",
              "IPY_MODEL_b0ae9616010248d0b87617ab6ae83688"
            ]
          }
        },
        "ac29db04125b459d96f60f8cf6f29bd8": {
          "model_module": "@jupyter-widgets/base",
          "model_name": "LayoutModel",
          "state": {
            "_view_name": "LayoutView",
            "grid_template_rows": null,
            "right": null,
            "justify_content": null,
            "_view_module": "@jupyter-widgets/base",
            "overflow": null,
            "_model_module_version": "1.2.0",
            "_view_count": null,
            "flex_flow": null,
            "width": null,
            "min_width": null,
            "border": null,
            "align_items": null,
            "bottom": null,
            "_model_module": "@jupyter-widgets/base",
            "top": null,
            "grid_column": null,
            "overflow_y": null,
            "overflow_x": null,
            "grid_auto_flow": null,
            "grid_area": null,
            "grid_template_columns": null,
            "flex": null,
            "_model_name": "LayoutModel",
            "justify_items": null,
            "grid_row": null,
            "max_height": null,
            "align_content": null,
            "visibility": null,
            "align_self": null,
            "height": null,
            "min_height": null,
            "padding": null,
            "grid_auto_rows": null,
            "grid_gap": null,
            "max_width": null,
            "order": null,
            "_view_module_version": "1.2.0",
            "grid_template_areas": null,
            "object_position": null,
            "object_fit": null,
            "grid_auto_columns": null,
            "margin": null,
            "display": null,
            "left": null
          }
        },
        "1de81b2b4d1848fc97b5fe948b263a6c": {
          "model_module": "@jupyter-widgets/controls",
          "model_name": "FloatProgressModel",
          "state": {
            "_view_name": "ProgressView",
            "style": "IPY_MODEL_8e72db348aed48f2b4003e5c8c8ce76b",
            "_dom_classes": [],
            "description": "100%",
            "_model_name": "FloatProgressModel",
            "bar_style": "success",
            "max": 604,
            "_view_module": "@jupyter-widgets/controls",
            "_model_module_version": "1.5.0",
            "value": 604,
            "_view_count": null,
            "_view_module_version": "1.5.0",
            "orientation": "horizontal",
            "min": 0,
            "description_tooltip": null,
            "_model_module": "@jupyter-widgets/controls",
            "layout": "IPY_MODEL_48a64cf7d5ff40f798c02ff50e952c0b"
          }
        },
        "b0ae9616010248d0b87617ab6ae83688": {
          "model_module": "@jupyter-widgets/controls",
          "model_name": "HTMLModel",
          "state": {
            "_view_name": "HTMLView",
            "style": "IPY_MODEL_509616fe8ee64bba9cad7ca0a448ef63",
            "_dom_classes": [],
            "description": "",
            "_model_name": "HTMLModel",
            "placeholder": "​",
            "_view_module": "@jupyter-widgets/controls",
            "_model_module_version": "1.5.0",
            "value": " 604/604 [00:00&lt;00:00, 1406.08it/s]",
            "_view_count": null,
            "_view_module_version": "1.5.0",
            "description_tooltip": null,
            "_model_module": "@jupyter-widgets/controls",
            "layout": "IPY_MODEL_f78e84bbbb82425e837f1f48e2b7eda6"
          }
        },
        "8e72db348aed48f2b4003e5c8c8ce76b": {
          "model_module": "@jupyter-widgets/controls",
          "model_name": "ProgressStyleModel",
          "state": {
            "_view_name": "StyleView",
            "_model_name": "ProgressStyleModel",
            "description_width": "initial",
            "_view_module": "@jupyter-widgets/base",
            "_model_module_version": "1.5.0",
            "_view_count": null,
            "_view_module_version": "1.2.0",
            "bar_color": null,
            "_model_module": "@jupyter-widgets/controls"
          }
        },
        "48a64cf7d5ff40f798c02ff50e952c0b": {
          "model_module": "@jupyter-widgets/base",
          "model_name": "LayoutModel",
          "state": {
            "_view_name": "LayoutView",
            "grid_template_rows": null,
            "right": null,
            "justify_content": null,
            "_view_module": "@jupyter-widgets/base",
            "overflow": null,
            "_model_module_version": "1.2.0",
            "_view_count": null,
            "flex_flow": null,
            "width": null,
            "min_width": null,
            "border": null,
            "align_items": null,
            "bottom": null,
            "_model_module": "@jupyter-widgets/base",
            "top": null,
            "grid_column": null,
            "overflow_y": null,
            "overflow_x": null,
            "grid_auto_flow": null,
            "grid_area": null,
            "grid_template_columns": null,
            "flex": null,
            "_model_name": "LayoutModel",
            "justify_items": null,
            "grid_row": null,
            "max_height": null,
            "align_content": null,
            "visibility": null,
            "align_self": null,
            "height": null,
            "min_height": null,
            "padding": null,
            "grid_auto_rows": null,
            "grid_gap": null,
            "max_width": null,
            "order": null,
            "_view_module_version": "1.2.0",
            "grid_template_areas": null,
            "object_position": null,
            "object_fit": null,
            "grid_auto_columns": null,
            "margin": null,
            "display": null,
            "left": null
          }
        },
        "509616fe8ee64bba9cad7ca0a448ef63": {
          "model_module": "@jupyter-widgets/controls",
          "model_name": "DescriptionStyleModel",
          "state": {
            "_view_name": "StyleView",
            "_model_name": "DescriptionStyleModel",
            "description_width": "",
            "_view_module": "@jupyter-widgets/base",
            "_model_module_version": "1.5.0",
            "_view_count": null,
            "_view_module_version": "1.2.0",
            "_model_module": "@jupyter-widgets/controls"
          }
        },
        "f78e84bbbb82425e837f1f48e2b7eda6": {
          "model_module": "@jupyter-widgets/base",
          "model_name": "LayoutModel",
          "state": {
            "_view_name": "LayoutView",
            "grid_template_rows": null,
            "right": null,
            "justify_content": null,
            "_view_module": "@jupyter-widgets/base",
            "overflow": null,
            "_model_module_version": "1.2.0",
            "_view_count": null,
            "flex_flow": null,
            "width": null,
            "min_width": null,
            "border": null,
            "align_items": null,
            "bottom": null,
            "_model_module": "@jupyter-widgets/base",
            "top": null,
            "grid_column": null,
            "overflow_y": null,
            "overflow_x": null,
            "grid_auto_flow": null,
            "grid_area": null,
            "grid_template_columns": null,
            "flex": null,
            "_model_name": "LayoutModel",
            "justify_items": null,
            "grid_row": null,
            "max_height": null,
            "align_content": null,
            "visibility": null,
            "align_self": null,
            "height": null,
            "min_height": null,
            "padding": null,
            "grid_auto_rows": null,
            "grid_gap": null,
            "max_width": null,
            "order": null,
            "_view_module_version": "1.2.0",
            "grid_template_areas": null,
            "object_position": null,
            "object_fit": null,
            "grid_auto_columns": null,
            "margin": null,
            "display": null,
            "left": null
          }
        },
        "e7c68d6fbd24493d948ea3e523fca8cb": {
          "model_module": "@jupyter-widgets/controls",
          "model_name": "HBoxModel",
          "state": {
            "_view_name": "HBoxView",
            "_dom_classes": [],
            "_model_name": "HBoxModel",
            "_view_module": "@jupyter-widgets/controls",
            "_model_module_version": "1.5.0",
            "_view_count": null,
            "_view_module_version": "1.5.0",
            "box_style": "",
            "layout": "IPY_MODEL_c803cfd4799441f396abdd388c398190",
            "_model_module": "@jupyter-widgets/controls",
            "children": [
              "IPY_MODEL_a950fdee8da042799532c5171d1cfb78",
              "IPY_MODEL_3e31da8c3085450daf2652723d2fdf0b"
            ]
          }
        },
        "c803cfd4799441f396abdd388c398190": {
          "model_module": "@jupyter-widgets/base",
          "model_name": "LayoutModel",
          "state": {
            "_view_name": "LayoutView",
            "grid_template_rows": null,
            "right": null,
            "justify_content": null,
            "_view_module": "@jupyter-widgets/base",
            "overflow": null,
            "_model_module_version": "1.2.0",
            "_view_count": null,
            "flex_flow": null,
            "width": null,
            "min_width": null,
            "border": null,
            "align_items": null,
            "bottom": null,
            "_model_module": "@jupyter-widgets/base",
            "top": null,
            "grid_column": null,
            "overflow_y": null,
            "overflow_x": null,
            "grid_auto_flow": null,
            "grid_area": null,
            "grid_template_columns": null,
            "flex": null,
            "_model_name": "LayoutModel",
            "justify_items": null,
            "grid_row": null,
            "max_height": null,
            "align_content": null,
            "visibility": null,
            "align_self": null,
            "height": null,
            "min_height": null,
            "padding": null,
            "grid_auto_rows": null,
            "grid_gap": null,
            "max_width": null,
            "order": null,
            "_view_module_version": "1.2.0",
            "grid_template_areas": null,
            "object_position": null,
            "object_fit": null,
            "grid_auto_columns": null,
            "margin": null,
            "display": null,
            "left": null
          }
        },
        "a950fdee8da042799532c5171d1cfb78": {
          "model_module": "@jupyter-widgets/controls",
          "model_name": "FloatProgressModel",
          "state": {
            "_view_name": "ProgressView",
            "style": "IPY_MODEL_0e6f6b9dc1b843789a83bff3f212f2fc",
            "_dom_classes": [],
            "description": "100%",
            "_model_name": "FloatProgressModel",
            "bar_style": "success",
            "max": 604,
            "_view_module": "@jupyter-widgets/controls",
            "_model_module_version": "1.5.0",
            "value": 604,
            "_view_count": null,
            "_view_module_version": "1.5.0",
            "orientation": "horizontal",
            "min": 0,
            "description_tooltip": null,
            "_model_module": "@jupyter-widgets/controls",
            "layout": "IPY_MODEL_df9b8deba4f840c9b6910002ffa007c9"
          }
        },
        "3e31da8c3085450daf2652723d2fdf0b": {
          "model_module": "@jupyter-widgets/controls",
          "model_name": "HTMLModel",
          "state": {
            "_view_name": "HTMLView",
            "style": "IPY_MODEL_5be5362ea03e4102bd3fbc79194def63",
            "_dom_classes": [],
            "description": "",
            "_model_name": "HTMLModel",
            "placeholder": "​",
            "_view_module": "@jupyter-widgets/controls",
            "_model_module_version": "1.5.0",
            "value": " 604/604 [00:00&lt;00:00, 1829.96it/s]",
            "_view_count": null,
            "_view_module_version": "1.5.0",
            "description_tooltip": null,
            "_model_module": "@jupyter-widgets/controls",
            "layout": "IPY_MODEL_9bcf3692258a48b3980e5da0bc6ac44b"
          }
        },
        "0e6f6b9dc1b843789a83bff3f212f2fc": {
          "model_module": "@jupyter-widgets/controls",
          "model_name": "ProgressStyleModel",
          "state": {
            "_view_name": "StyleView",
            "_model_name": "ProgressStyleModel",
            "description_width": "initial",
            "_view_module": "@jupyter-widgets/base",
            "_model_module_version": "1.5.0",
            "_view_count": null,
            "_view_module_version": "1.2.0",
            "bar_color": null,
            "_model_module": "@jupyter-widgets/controls"
          }
        },
        "df9b8deba4f840c9b6910002ffa007c9": {
          "model_module": "@jupyter-widgets/base",
          "model_name": "LayoutModel",
          "state": {
            "_view_name": "LayoutView",
            "grid_template_rows": null,
            "right": null,
            "justify_content": null,
            "_view_module": "@jupyter-widgets/base",
            "overflow": null,
            "_model_module_version": "1.2.0",
            "_view_count": null,
            "flex_flow": null,
            "width": null,
            "min_width": null,
            "border": null,
            "align_items": null,
            "bottom": null,
            "_model_module": "@jupyter-widgets/base",
            "top": null,
            "grid_column": null,
            "overflow_y": null,
            "overflow_x": null,
            "grid_auto_flow": null,
            "grid_area": null,
            "grid_template_columns": null,
            "flex": null,
            "_model_name": "LayoutModel",
            "justify_items": null,
            "grid_row": null,
            "max_height": null,
            "align_content": null,
            "visibility": null,
            "align_self": null,
            "height": null,
            "min_height": null,
            "padding": null,
            "grid_auto_rows": null,
            "grid_gap": null,
            "max_width": null,
            "order": null,
            "_view_module_version": "1.2.0",
            "grid_template_areas": null,
            "object_position": null,
            "object_fit": null,
            "grid_auto_columns": null,
            "margin": null,
            "display": null,
            "left": null
          }
        },
        "5be5362ea03e4102bd3fbc79194def63": {
          "model_module": "@jupyter-widgets/controls",
          "model_name": "DescriptionStyleModel",
          "state": {
            "_view_name": "StyleView",
            "_model_name": "DescriptionStyleModel",
            "description_width": "",
            "_view_module": "@jupyter-widgets/base",
            "_model_module_version": "1.5.0",
            "_view_count": null,
            "_view_module_version": "1.2.0",
            "_model_module": "@jupyter-widgets/controls"
          }
        },
        "9bcf3692258a48b3980e5da0bc6ac44b": {
          "model_module": "@jupyter-widgets/base",
          "model_name": "LayoutModel",
          "state": {
            "_view_name": "LayoutView",
            "grid_template_rows": null,
            "right": null,
            "justify_content": null,
            "_view_module": "@jupyter-widgets/base",
            "overflow": null,
            "_model_module_version": "1.2.0",
            "_view_count": null,
            "flex_flow": null,
            "width": null,
            "min_width": null,
            "border": null,
            "align_items": null,
            "bottom": null,
            "_model_module": "@jupyter-widgets/base",
            "top": null,
            "grid_column": null,
            "overflow_y": null,
            "overflow_x": null,
            "grid_auto_flow": null,
            "grid_area": null,
            "grid_template_columns": null,
            "flex": null,
            "_model_name": "LayoutModel",
            "justify_items": null,
            "grid_row": null,
            "max_height": null,
            "align_content": null,
            "visibility": null,
            "align_self": null,
            "height": null,
            "min_height": null,
            "padding": null,
            "grid_auto_rows": null,
            "grid_gap": null,
            "max_width": null,
            "order": null,
            "_view_module_version": "1.2.0",
            "grid_template_areas": null,
            "object_position": null,
            "object_fit": null,
            "grid_auto_columns": null,
            "margin": null,
            "display": null,
            "left": null
          }
        },
        "87888ed986d0439a9c44ef55e1205521": {
          "model_module": "@jupyter-widgets/controls",
          "model_name": "HBoxModel",
          "state": {
            "_view_name": "HBoxView",
            "_dom_classes": [],
            "_model_name": "HBoxModel",
            "_view_module": "@jupyter-widgets/controls",
            "_model_module_version": "1.5.0",
            "_view_count": null,
            "_view_module_version": "1.5.0",
            "box_style": "",
            "layout": "IPY_MODEL_f4a68db3bf244509bf8e36aeb074523e",
            "_model_module": "@jupyter-widgets/controls",
            "children": [
              "IPY_MODEL_ec640430312347f385f12adeb4048ecb",
              "IPY_MODEL_cc34e562e030437c9513cc99675f3c12"
            ]
          }
        },
        "f4a68db3bf244509bf8e36aeb074523e": {
          "model_module": "@jupyter-widgets/base",
          "model_name": "LayoutModel",
          "state": {
            "_view_name": "LayoutView",
            "grid_template_rows": null,
            "right": null,
            "justify_content": null,
            "_view_module": "@jupyter-widgets/base",
            "overflow": null,
            "_model_module_version": "1.2.0",
            "_view_count": null,
            "flex_flow": null,
            "width": null,
            "min_width": null,
            "border": null,
            "align_items": null,
            "bottom": null,
            "_model_module": "@jupyter-widgets/base",
            "top": null,
            "grid_column": null,
            "overflow_y": null,
            "overflow_x": null,
            "grid_auto_flow": null,
            "grid_area": null,
            "grid_template_columns": null,
            "flex": null,
            "_model_name": "LayoutModel",
            "justify_items": null,
            "grid_row": null,
            "max_height": null,
            "align_content": null,
            "visibility": null,
            "align_self": null,
            "height": null,
            "min_height": null,
            "padding": null,
            "grid_auto_rows": null,
            "grid_gap": null,
            "max_width": null,
            "order": null,
            "_view_module_version": "1.2.0",
            "grid_template_areas": null,
            "object_position": null,
            "object_fit": null,
            "grid_auto_columns": null,
            "margin": null,
            "display": null,
            "left": null
          }
        },
        "ec640430312347f385f12adeb4048ecb": {
          "model_module": "@jupyter-widgets/controls",
          "model_name": "FloatProgressModel",
          "state": {
            "_view_name": "ProgressView",
            "style": "IPY_MODEL_d93cecd4fd144372a016fe637a6c9bf8",
            "_dom_classes": [],
            "description": "100%",
            "_model_name": "FloatProgressModel",
            "bar_style": "success",
            "max": 604,
            "_view_module": "@jupyter-widgets/controls",
            "_model_module_version": "1.5.0",
            "value": 604,
            "_view_count": null,
            "_view_module_version": "1.5.0",
            "orientation": "horizontal",
            "min": 0,
            "description_tooltip": null,
            "_model_module": "@jupyter-widgets/controls",
            "layout": "IPY_MODEL_2a60a69efb04472e8a58a1860f4ead98"
          }
        },
        "cc34e562e030437c9513cc99675f3c12": {
          "model_module": "@jupyter-widgets/controls",
          "model_name": "HTMLModel",
          "state": {
            "_view_name": "HTMLView",
            "style": "IPY_MODEL_a3a9ef40410a41828fc20cc4be705534",
            "_dom_classes": [],
            "description": "",
            "_model_name": "HTMLModel",
            "placeholder": "​",
            "_view_module": "@jupyter-widgets/controls",
            "_model_module_version": "1.5.0",
            "value": " 604/604 [00:00&lt;00:00, 13433.16it/s]",
            "_view_count": null,
            "_view_module_version": "1.5.0",
            "description_tooltip": null,
            "_model_module": "@jupyter-widgets/controls",
            "layout": "IPY_MODEL_cf54dbb2842c4e50a0557e1b08c735d3"
          }
        },
        "d93cecd4fd144372a016fe637a6c9bf8": {
          "model_module": "@jupyter-widgets/controls",
          "model_name": "ProgressStyleModel",
          "state": {
            "_view_name": "StyleView",
            "_model_name": "ProgressStyleModel",
            "description_width": "initial",
            "_view_module": "@jupyter-widgets/base",
            "_model_module_version": "1.5.0",
            "_view_count": null,
            "_view_module_version": "1.2.0",
            "bar_color": null,
            "_model_module": "@jupyter-widgets/controls"
          }
        },
        "2a60a69efb04472e8a58a1860f4ead98": {
          "model_module": "@jupyter-widgets/base",
          "model_name": "LayoutModel",
          "state": {
            "_view_name": "LayoutView",
            "grid_template_rows": null,
            "right": null,
            "justify_content": null,
            "_view_module": "@jupyter-widgets/base",
            "overflow": null,
            "_model_module_version": "1.2.0",
            "_view_count": null,
            "flex_flow": null,
            "width": null,
            "min_width": null,
            "border": null,
            "align_items": null,
            "bottom": null,
            "_model_module": "@jupyter-widgets/base",
            "top": null,
            "grid_column": null,
            "overflow_y": null,
            "overflow_x": null,
            "grid_auto_flow": null,
            "grid_area": null,
            "grid_template_columns": null,
            "flex": null,
            "_model_name": "LayoutModel",
            "justify_items": null,
            "grid_row": null,
            "max_height": null,
            "align_content": null,
            "visibility": null,
            "align_self": null,
            "height": null,
            "min_height": null,
            "padding": null,
            "grid_auto_rows": null,
            "grid_gap": null,
            "max_width": null,
            "order": null,
            "_view_module_version": "1.2.0",
            "grid_template_areas": null,
            "object_position": null,
            "object_fit": null,
            "grid_auto_columns": null,
            "margin": null,
            "display": null,
            "left": null
          }
        },
        "a3a9ef40410a41828fc20cc4be705534": {
          "model_module": "@jupyter-widgets/controls",
          "model_name": "DescriptionStyleModel",
          "state": {
            "_view_name": "StyleView",
            "_model_name": "DescriptionStyleModel",
            "description_width": "",
            "_view_module": "@jupyter-widgets/base",
            "_model_module_version": "1.5.0",
            "_view_count": null,
            "_view_module_version": "1.2.0",
            "_model_module": "@jupyter-widgets/controls"
          }
        },
        "cf54dbb2842c4e50a0557e1b08c735d3": {
          "model_module": "@jupyter-widgets/base",
          "model_name": "LayoutModel",
          "state": {
            "_view_name": "LayoutView",
            "grid_template_rows": null,
            "right": null,
            "justify_content": null,
            "_view_module": "@jupyter-widgets/base",
            "overflow": null,
            "_model_module_version": "1.2.0",
            "_view_count": null,
            "flex_flow": null,
            "width": null,
            "min_width": null,
            "border": null,
            "align_items": null,
            "bottom": null,
            "_model_module": "@jupyter-widgets/base",
            "top": null,
            "grid_column": null,
            "overflow_y": null,
            "overflow_x": null,
            "grid_auto_flow": null,
            "grid_area": null,
            "grid_template_columns": null,
            "flex": null,
            "_model_name": "LayoutModel",
            "justify_items": null,
            "grid_row": null,
            "max_height": null,
            "align_content": null,
            "visibility": null,
            "align_self": null,
            "height": null,
            "min_height": null,
            "padding": null,
            "grid_auto_rows": null,
            "grid_gap": null,
            "max_width": null,
            "order": null,
            "_view_module_version": "1.2.0",
            "grid_template_areas": null,
            "object_position": null,
            "object_fit": null,
            "grid_auto_columns": null,
            "margin": null,
            "display": null,
            "left": null
          }
        },
        "36ef062e006746bbb0988701f6ad7375": {
          "model_module": "@jupyter-widgets/controls",
          "model_name": "HBoxModel",
          "state": {
            "_view_name": "HBoxView",
            "_dom_classes": [],
            "_model_name": "HBoxModel",
            "_view_module": "@jupyter-widgets/controls",
            "_model_module_version": "1.5.0",
            "_view_count": null,
            "_view_module_version": "1.5.0",
            "box_style": "",
            "layout": "IPY_MODEL_9a8243844b1d40ee9d37865ce7df4844",
            "_model_module": "@jupyter-widgets/controls",
            "children": [
              "IPY_MODEL_fcab6a4396104f54ac2fe035e21b947a",
              "IPY_MODEL_c84728bd0bc749c38f83e9d8994d223a"
            ]
          }
        },
        "9a8243844b1d40ee9d37865ce7df4844": {
          "model_module": "@jupyter-widgets/base",
          "model_name": "LayoutModel",
          "state": {
            "_view_name": "LayoutView",
            "grid_template_rows": null,
            "right": null,
            "justify_content": null,
            "_view_module": "@jupyter-widgets/base",
            "overflow": null,
            "_model_module_version": "1.2.0",
            "_view_count": null,
            "flex_flow": null,
            "width": null,
            "min_width": null,
            "border": null,
            "align_items": null,
            "bottom": null,
            "_model_module": "@jupyter-widgets/base",
            "top": null,
            "grid_column": null,
            "overflow_y": null,
            "overflow_x": null,
            "grid_auto_flow": null,
            "grid_area": null,
            "grid_template_columns": null,
            "flex": null,
            "_model_name": "LayoutModel",
            "justify_items": null,
            "grid_row": null,
            "max_height": null,
            "align_content": null,
            "visibility": null,
            "align_self": null,
            "height": null,
            "min_height": null,
            "padding": null,
            "grid_auto_rows": null,
            "grid_gap": null,
            "max_width": null,
            "order": null,
            "_view_module_version": "1.2.0",
            "grid_template_areas": null,
            "object_position": null,
            "object_fit": null,
            "grid_auto_columns": null,
            "margin": null,
            "display": null,
            "left": null
          }
        },
        "fcab6a4396104f54ac2fe035e21b947a": {
          "model_module": "@jupyter-widgets/controls",
          "model_name": "FloatProgressModel",
          "state": {
            "_view_name": "ProgressView",
            "style": "IPY_MODEL_90b13425785d4e27be6d95b29d41b4a1",
            "_dom_classes": [],
            "description": "100%",
            "_model_name": "FloatProgressModel",
            "bar_style": "success",
            "max": 604,
            "_view_module": "@jupyter-widgets/controls",
            "_model_module_version": "1.5.0",
            "value": 604,
            "_view_count": null,
            "_view_module_version": "1.5.0",
            "orientation": "horizontal",
            "min": 0,
            "description_tooltip": null,
            "_model_module": "@jupyter-widgets/controls",
            "layout": "IPY_MODEL_ed0ce07d2c674235b28574b7919bbbe4"
          }
        },
        "c84728bd0bc749c38f83e9d8994d223a": {
          "model_module": "@jupyter-widgets/controls",
          "model_name": "HTMLModel",
          "state": {
            "_view_name": "HTMLView",
            "style": "IPY_MODEL_1ee91d28b3eb4096aa7cb36c2e30cbe6",
            "_dom_classes": [],
            "description": "",
            "_model_name": "HTMLModel",
            "placeholder": "​",
            "_view_module": "@jupyter-widgets/controls",
            "_model_module_version": "1.5.0",
            "value": " 604/604 [00:00&lt;00:00, 4543.92it/s]",
            "_view_count": null,
            "_view_module_version": "1.5.0",
            "description_tooltip": null,
            "_model_module": "@jupyter-widgets/controls",
            "layout": "IPY_MODEL_abffebc049244dcb9efd054959f57d63"
          }
        },
        "90b13425785d4e27be6d95b29d41b4a1": {
          "model_module": "@jupyter-widgets/controls",
          "model_name": "ProgressStyleModel",
          "state": {
            "_view_name": "StyleView",
            "_model_name": "ProgressStyleModel",
            "description_width": "initial",
            "_view_module": "@jupyter-widgets/base",
            "_model_module_version": "1.5.0",
            "_view_count": null,
            "_view_module_version": "1.2.0",
            "bar_color": null,
            "_model_module": "@jupyter-widgets/controls"
          }
        },
        "ed0ce07d2c674235b28574b7919bbbe4": {
          "model_module": "@jupyter-widgets/base",
          "model_name": "LayoutModel",
          "state": {
            "_view_name": "LayoutView",
            "grid_template_rows": null,
            "right": null,
            "justify_content": null,
            "_view_module": "@jupyter-widgets/base",
            "overflow": null,
            "_model_module_version": "1.2.0",
            "_view_count": null,
            "flex_flow": null,
            "width": null,
            "min_width": null,
            "border": null,
            "align_items": null,
            "bottom": null,
            "_model_module": "@jupyter-widgets/base",
            "top": null,
            "grid_column": null,
            "overflow_y": null,
            "overflow_x": null,
            "grid_auto_flow": null,
            "grid_area": null,
            "grid_template_columns": null,
            "flex": null,
            "_model_name": "LayoutModel",
            "justify_items": null,
            "grid_row": null,
            "max_height": null,
            "align_content": null,
            "visibility": null,
            "align_self": null,
            "height": null,
            "min_height": null,
            "padding": null,
            "grid_auto_rows": null,
            "grid_gap": null,
            "max_width": null,
            "order": null,
            "_view_module_version": "1.2.0",
            "grid_template_areas": null,
            "object_position": null,
            "object_fit": null,
            "grid_auto_columns": null,
            "margin": null,
            "display": null,
            "left": null
          }
        },
        "1ee91d28b3eb4096aa7cb36c2e30cbe6": {
          "model_module": "@jupyter-widgets/controls",
          "model_name": "DescriptionStyleModel",
          "state": {
            "_view_name": "StyleView",
            "_model_name": "DescriptionStyleModel",
            "description_width": "",
            "_view_module": "@jupyter-widgets/base",
            "_model_module_version": "1.5.0",
            "_view_count": null,
            "_view_module_version": "1.2.0",
            "_model_module": "@jupyter-widgets/controls"
          }
        },
        "abffebc049244dcb9efd054959f57d63": {
          "model_module": "@jupyter-widgets/base",
          "model_name": "LayoutModel",
          "state": {
            "_view_name": "LayoutView",
            "grid_template_rows": null,
            "right": null,
            "justify_content": null,
            "_view_module": "@jupyter-widgets/base",
            "overflow": null,
            "_model_module_version": "1.2.0",
            "_view_count": null,
            "flex_flow": null,
            "width": null,
            "min_width": null,
            "border": null,
            "align_items": null,
            "bottom": null,
            "_model_module": "@jupyter-widgets/base",
            "top": null,
            "grid_column": null,
            "overflow_y": null,
            "overflow_x": null,
            "grid_auto_flow": null,
            "grid_area": null,
            "grid_template_columns": null,
            "flex": null,
            "_model_name": "LayoutModel",
            "justify_items": null,
            "grid_row": null,
            "max_height": null,
            "align_content": null,
            "visibility": null,
            "align_self": null,
            "height": null,
            "min_height": null,
            "padding": null,
            "grid_auto_rows": null,
            "grid_gap": null,
            "max_width": null,
            "order": null,
            "_view_module_version": "1.2.0",
            "grid_template_areas": null,
            "object_position": null,
            "object_fit": null,
            "grid_auto_columns": null,
            "margin": null,
            "display": null,
            "left": null
          }
        },
        "58f6cf6abf084589ac6a990d7cc4cf7b": {
          "model_module": "@jupyter-widgets/controls",
          "model_name": "HBoxModel",
          "state": {
            "_view_name": "HBoxView",
            "_dom_classes": [],
            "_model_name": "HBoxModel",
            "_view_module": "@jupyter-widgets/controls",
            "_model_module_version": "1.5.0",
            "_view_count": null,
            "_view_module_version": "1.5.0",
            "box_style": "",
            "layout": "IPY_MODEL_2b09e6a294bb4740b26fe6b95f84b141",
            "_model_module": "@jupyter-widgets/controls",
            "children": [
              "IPY_MODEL_54e2cf979fb94ca5a6ee68df7cd9449f",
              "IPY_MODEL_b47f3b587ca44866a09f967938ce856d"
            ]
          }
        },
        "2b09e6a294bb4740b26fe6b95f84b141": {
          "model_module": "@jupyter-widgets/base",
          "model_name": "LayoutModel",
          "state": {
            "_view_name": "LayoutView",
            "grid_template_rows": null,
            "right": null,
            "justify_content": null,
            "_view_module": "@jupyter-widgets/base",
            "overflow": null,
            "_model_module_version": "1.2.0",
            "_view_count": null,
            "flex_flow": null,
            "width": null,
            "min_width": null,
            "border": null,
            "align_items": null,
            "bottom": null,
            "_model_module": "@jupyter-widgets/base",
            "top": null,
            "grid_column": null,
            "overflow_y": null,
            "overflow_x": null,
            "grid_auto_flow": null,
            "grid_area": null,
            "grid_template_columns": null,
            "flex": null,
            "_model_name": "LayoutModel",
            "justify_items": null,
            "grid_row": null,
            "max_height": null,
            "align_content": null,
            "visibility": null,
            "align_self": null,
            "height": null,
            "min_height": null,
            "padding": null,
            "grid_auto_rows": null,
            "grid_gap": null,
            "max_width": null,
            "order": null,
            "_view_module_version": "1.2.0",
            "grid_template_areas": null,
            "object_position": null,
            "object_fit": null,
            "grid_auto_columns": null,
            "margin": null,
            "display": null,
            "left": null
          }
        },
        "54e2cf979fb94ca5a6ee68df7cd9449f": {
          "model_module": "@jupyter-widgets/controls",
          "model_name": "FloatProgressModel",
          "state": {
            "_view_name": "ProgressView",
            "style": "IPY_MODEL_39de5f739e534a68ab47c2ca924e8b4d",
            "_dom_classes": [],
            "description": "100%",
            "_model_name": "FloatProgressModel",
            "bar_style": "success",
            "max": 604,
            "_view_module": "@jupyter-widgets/controls",
            "_model_module_version": "1.5.0",
            "value": 604,
            "_view_count": null,
            "_view_module_version": "1.5.0",
            "orientation": "horizontal",
            "min": 0,
            "description_tooltip": null,
            "_model_module": "@jupyter-widgets/controls",
            "layout": "IPY_MODEL_09ee748e79b642d2aa505fb2ef7af9b9"
          }
        },
        "b47f3b587ca44866a09f967938ce856d": {
          "model_module": "@jupyter-widgets/controls",
          "model_name": "HTMLModel",
          "state": {
            "_view_name": "HTMLView",
            "style": "IPY_MODEL_9013310eb0084bc79397c94ac43830f7",
            "_dom_classes": [],
            "description": "",
            "_model_name": "HTMLModel",
            "placeholder": "​",
            "_view_module": "@jupyter-widgets/controls",
            "_model_module_version": "1.5.0",
            "value": " 604/604 [00:00&lt;00:00, 1774.46it/s]",
            "_view_count": null,
            "_view_module_version": "1.5.0",
            "description_tooltip": null,
            "_model_module": "@jupyter-widgets/controls",
            "layout": "IPY_MODEL_3155a61a019f45ad8ffba3621a5e807f"
          }
        },
        "39de5f739e534a68ab47c2ca924e8b4d": {
          "model_module": "@jupyter-widgets/controls",
          "model_name": "ProgressStyleModel",
          "state": {
            "_view_name": "StyleView",
            "_model_name": "ProgressStyleModel",
            "description_width": "initial",
            "_view_module": "@jupyter-widgets/base",
            "_model_module_version": "1.5.0",
            "_view_count": null,
            "_view_module_version": "1.2.0",
            "bar_color": null,
            "_model_module": "@jupyter-widgets/controls"
          }
        },
        "09ee748e79b642d2aa505fb2ef7af9b9": {
          "model_module": "@jupyter-widgets/base",
          "model_name": "LayoutModel",
          "state": {
            "_view_name": "LayoutView",
            "grid_template_rows": null,
            "right": null,
            "justify_content": null,
            "_view_module": "@jupyter-widgets/base",
            "overflow": null,
            "_model_module_version": "1.2.0",
            "_view_count": null,
            "flex_flow": null,
            "width": null,
            "min_width": null,
            "border": null,
            "align_items": null,
            "bottom": null,
            "_model_module": "@jupyter-widgets/base",
            "top": null,
            "grid_column": null,
            "overflow_y": null,
            "overflow_x": null,
            "grid_auto_flow": null,
            "grid_area": null,
            "grid_template_columns": null,
            "flex": null,
            "_model_name": "LayoutModel",
            "justify_items": null,
            "grid_row": null,
            "max_height": null,
            "align_content": null,
            "visibility": null,
            "align_self": null,
            "height": null,
            "min_height": null,
            "padding": null,
            "grid_auto_rows": null,
            "grid_gap": null,
            "max_width": null,
            "order": null,
            "_view_module_version": "1.2.0",
            "grid_template_areas": null,
            "object_position": null,
            "object_fit": null,
            "grid_auto_columns": null,
            "margin": null,
            "display": null,
            "left": null
          }
        },
        "9013310eb0084bc79397c94ac43830f7": {
          "model_module": "@jupyter-widgets/controls",
          "model_name": "DescriptionStyleModel",
          "state": {
            "_view_name": "StyleView",
            "_model_name": "DescriptionStyleModel",
            "description_width": "",
            "_view_module": "@jupyter-widgets/base",
            "_model_module_version": "1.5.0",
            "_view_count": null,
            "_view_module_version": "1.2.0",
            "_model_module": "@jupyter-widgets/controls"
          }
        },
        "3155a61a019f45ad8ffba3621a5e807f": {
          "model_module": "@jupyter-widgets/base",
          "model_name": "LayoutModel",
          "state": {
            "_view_name": "LayoutView",
            "grid_template_rows": null,
            "right": null,
            "justify_content": null,
            "_view_module": "@jupyter-widgets/base",
            "overflow": null,
            "_model_module_version": "1.2.0",
            "_view_count": null,
            "flex_flow": null,
            "width": null,
            "min_width": null,
            "border": null,
            "align_items": null,
            "bottom": null,
            "_model_module": "@jupyter-widgets/base",
            "top": null,
            "grid_column": null,
            "overflow_y": null,
            "overflow_x": null,
            "grid_auto_flow": null,
            "grid_area": null,
            "grid_template_columns": null,
            "flex": null,
            "_model_name": "LayoutModel",
            "justify_items": null,
            "grid_row": null,
            "max_height": null,
            "align_content": null,
            "visibility": null,
            "align_self": null,
            "height": null,
            "min_height": null,
            "padding": null,
            "grid_auto_rows": null,
            "grid_gap": null,
            "max_width": null,
            "order": null,
            "_view_module_version": "1.2.0",
            "grid_template_areas": null,
            "object_position": null,
            "object_fit": null,
            "grid_auto_columns": null,
            "margin": null,
            "display": null,
            "left": null
          }
        }
      }
    }
  },
  "cells": [
    {
      "cell_type": "markdown",
      "metadata": {
        "id": "view-in-github",
        "colab_type": "text"
      },
      "source": [
        "<a href=\"https://colab.research.google.com/github/ivoryRabbit/RecSys/blob/master/1_ItemPOP.ipynb\" target=\"_parent\"><img src=\"https://colab.research.google.com/assets/colab-badge.svg\" alt=\"Open In Colab\"/></a>"
      ]
    },
    {
      "cell_type": "markdown",
      "metadata": {
        "id": "viikY8IQdVTY"
      },
      "source": [
        "# Item Popularity\n",
        "\n",
        "## Experiment"
      ]
    },
    {
      "cell_type": "code",
      "metadata": {
        "id": "M8FDcw4rVboe"
      },
      "source": [
        "import glob\n",
        "import numpy as np\n",
        "import pandas as pd\n",
        "from tqdm.notebook import tqdm\n",
        "from typing import Callable, Tuple, List\n",
        "\n",
        "from sklearn.model_selection import train_test_split\n",
        "\n",
        "from tensorflow.keras.utils import get_file\n",
        "import zipfile\n",
        "\n",
        "np.random.seed(777)"
      ],
      "execution_count": 1,
      "outputs": []
    },
    {
      "cell_type": "code",
      "metadata": {
        "id": "sdjqodyYVf9I"
      },
      "source": [
        "def load_data(data_size : str) -> pd.DataFrame:\n",
        "    ''' load Movie Lens data '''\n",
        "\n",
        "    if data_size == '1m':\n",
        "        fname = 'ml-1m.zip'\n",
        "        data = 'ml-1m/ratings.dat'\n",
        "    elif data_size == '10m':\n",
        "        fname = 'ml-10m.zip'\n",
        "        data = 'ml-10M100K/ratings.dat'\n",
        "    elif data_size == '20m':\n",
        "        fname = 'ml-20m.zip'\n",
        "        data = 'ml-20m/ratings.csv'\n",
        "    elif data_size == '25m':\n",
        "        fname = 'ml-25m.zip'\n",
        "        data = 'ml-25m/ratings.csv'\n",
        "    if not glob.glob(data):\n",
        "        origin = f'http://files.grouplens.org/datasets/movielens/{fname}'\n",
        "        file = get_file(fname, origin)\n",
        "        zip_ref = zipfile.ZipFile(file, 'r')\n",
        "        zip_ref.extractall()\n",
        "\n",
        "    col_names = ['user_id', 'movie_id', 'rating', 'timestamp']\n",
        "    if data_size in ['20m', '25m']:\n",
        "        ratings = pd.read_csv(data, engine = 'python')\n",
        "    else:\n",
        "        ratings = pd.read_csv(data, sep = '|', delimiter = '::', names = col_names, engine = 'python')\n",
        "    print(ratings.shape)\n",
        "    return ratings"
      ],
      "execution_count": 2,
      "outputs": []
    },
    {
      "cell_type": "code",
      "metadata": {
        "id": "RZf8Gzf0VhYV",
        "colab": {
          "base_uri": "https://localhost:8080/",
          "height": 213
        },
        "outputId": "5637da0f-d9cc-4bce-9460-aa3062a6f9a9"
      },
      "source": [
        "ratings = load_data('1m')\n",
        "ratings.head()"
      ],
      "execution_count": 3,
      "outputs": [
        {
          "output_type": "stream",
          "text": [
            "(1000209, 4)\n"
          ],
          "name": "stdout"
        },
        {
          "output_type": "execute_result",
          "data": {
            "text/html": [
              "<div>\n",
              "<style scoped>\n",
              "    .dataframe tbody tr th:only-of-type {\n",
              "        vertical-align: middle;\n",
              "    }\n",
              "\n",
              "    .dataframe tbody tr th {\n",
              "        vertical-align: top;\n",
              "    }\n",
              "\n",
              "    .dataframe thead th {\n",
              "        text-align: right;\n",
              "    }\n",
              "</style>\n",
              "<table border=\"1\" class=\"dataframe\">\n",
              "  <thead>\n",
              "    <tr style=\"text-align: right;\">\n",
              "      <th></th>\n",
              "      <th>user_id</th>\n",
              "      <th>movie_id</th>\n",
              "      <th>rating</th>\n",
              "      <th>timestamp</th>\n",
              "    </tr>\n",
              "  </thead>\n",
              "  <tbody>\n",
              "    <tr>\n",
              "      <th>0</th>\n",
              "      <td>1</td>\n",
              "      <td>1193</td>\n",
              "      <td>5</td>\n",
              "      <td>978300760</td>\n",
              "    </tr>\n",
              "    <tr>\n",
              "      <th>1</th>\n",
              "      <td>1</td>\n",
              "      <td>661</td>\n",
              "      <td>3</td>\n",
              "      <td>978302109</td>\n",
              "    </tr>\n",
              "    <tr>\n",
              "      <th>2</th>\n",
              "      <td>1</td>\n",
              "      <td>914</td>\n",
              "      <td>3</td>\n",
              "      <td>978301968</td>\n",
              "    </tr>\n",
              "    <tr>\n",
              "      <th>3</th>\n",
              "      <td>1</td>\n",
              "      <td>3408</td>\n",
              "      <td>4</td>\n",
              "      <td>978300275</td>\n",
              "    </tr>\n",
              "    <tr>\n",
              "      <th>4</th>\n",
              "      <td>1</td>\n",
              "      <td>2355</td>\n",
              "      <td>5</td>\n",
              "      <td>978824291</td>\n",
              "    </tr>\n",
              "  </tbody>\n",
              "</table>\n",
              "</div>"
            ],
            "text/plain": [
              "   user_id  movie_id  rating  timestamp\n",
              "0        1      1193       5  978300760\n",
              "1        1       661       3  978302109\n",
              "2        1       914       3  978301968\n",
              "3        1      3408       4  978300275\n",
              "4        1      2355       5  978824291"
            ]
          },
          "metadata": {
            "tags": []
          },
          "execution_count": 3
        }
      ]
    },
    {
      "cell_type": "code",
      "metadata": {
        "id": "Q61otQWA3tFe",
        "colab": {
          "base_uri": "https://localhost:8080/"
        },
        "outputId": "197a8a9f-3ef2-42ea-ee9e-62b0a06325cd"
      },
      "source": [
        "user_list = ratings.user_id.unique()\n",
        "user_idx_map = {e: i for i, e in enumerate(user_list)}\n",
        "n_user = len(user_list)\n",
        "print(f'# of user = {n_user}')\n",
        "\n",
        "item_list = ratings.movie_id.unique()\n",
        "item_idx_map = {e: i for i, e in enumerate(item_list)}\n",
        "n_item = len(item_list)\n",
        "print(f'# of item = {n_item}')"
      ],
      "execution_count": 4,
      "outputs": [
        {
          "output_type": "stream",
          "text": [
            "# of user = 6040\n",
            "# of item = 3706\n"
          ],
          "name": "stdout"
        }
      ]
    },
    {
      "cell_type": "code",
      "metadata": {
        "id": "O9kecujeV2qP"
      },
      "source": [
        "def binarizer(df: pd.DataFrame, threshold = 4) -> pd.DataFrame:\n",
        "    df = df.assign(rating = np.where(df.rating >= threshold, 1, 0))\n",
        "    return df[df.rating > 0.0].reset_index(drop = True)\n",
        "\n",
        "def make_warm(df: pd.DataFrame, threshold = 5) -> pd.DataFrame: # remove cold starters\n",
        "    positive = df.groupby('user_id')['movie_id'].count()\n",
        "    positive = positive.index[positive >= threshold]\n",
        "    return df[df.user_id.isin(positive)].reset_index(drop = True)\n",
        "\n",
        "def train_valid_test_split(df: pd.DataFrame, size: float) -> pd.DataFrame:\n",
        "    train_user, test_user = train_test_split(df.user_id.unique(), test_size = 2 * size, random_state = 777)\n",
        "    valid_user, test_user = train_test_split(test_user, test_size = 0.5, random_state = 777)\n",
        "    train, valid, test = map(lambda x: df[df.user_id.isin(x)], (train_user, valid_user, test_user))\n",
        "    train, valid, test = map(lambda df: df.reset_index(drop = True), (train, valid, test))\n",
        "    return train, valid, test\n",
        "\n",
        "def query_relev_split(df: pd.DataFrame, size: float) -> pd.DataFrame:\n",
        "    timeorder = df.groupby('user_id')['timestamp'].rank(method = 'first', ascending = True)\n",
        "    seen_cnts = df.groupby('user_id')['movie_id'].transform('count')\n",
        "    df = df.assign(seen_cnts = seen_cnts, timeorder = timeorder)\n",
        "    query = df[df.timeorder < df.seen_cnts * (1-size)]\n",
        "    relev = df[df.timeorder >= df.seen_cnts * (1-size)]\n",
        "    relev = relev[relev.user_id.isin(query.user_id.unique())]\n",
        "    query, relev = map(lambda df: df.drop(columns = ['timeorder', 'seen_cnts']), (query, relev))\n",
        "    query, relev = map(lambda df: df.reset_index(drop = True), (query, relev))\n",
        "    return query, relev\n",
        "\n",
        "def list_agg(df: pd.DataFrame) -> pd.DataFrame:\n",
        "    return df.groupby('user_id', as_index = False)[['movie_id']].agg(list)"
      ],
      "execution_count": 5,
      "outputs": []
    },
    {
      "cell_type": "code",
      "metadata": {
        "colab": {
          "base_uri": "https://localhost:8080/",
          "height": 195
        },
        "id": "pNAF90tno0w4",
        "outputId": "bda70f75-3c32-4fdb-fdc4-6b4685e7bef6"
      },
      "source": [
        "data = make_warm(ratings)\r\n",
        "data.head()"
      ],
      "execution_count": 6,
      "outputs": [
        {
          "output_type": "execute_result",
          "data": {
            "text/html": [
              "<div>\n",
              "<style scoped>\n",
              "    .dataframe tbody tr th:only-of-type {\n",
              "        vertical-align: middle;\n",
              "    }\n",
              "\n",
              "    .dataframe tbody tr th {\n",
              "        vertical-align: top;\n",
              "    }\n",
              "\n",
              "    .dataframe thead th {\n",
              "        text-align: right;\n",
              "    }\n",
              "</style>\n",
              "<table border=\"1\" class=\"dataframe\">\n",
              "  <thead>\n",
              "    <tr style=\"text-align: right;\">\n",
              "      <th></th>\n",
              "      <th>user_id</th>\n",
              "      <th>movie_id</th>\n",
              "      <th>rating</th>\n",
              "      <th>timestamp</th>\n",
              "    </tr>\n",
              "  </thead>\n",
              "  <tbody>\n",
              "    <tr>\n",
              "      <th>0</th>\n",
              "      <td>1</td>\n",
              "      <td>1193</td>\n",
              "      <td>5</td>\n",
              "      <td>978300760</td>\n",
              "    </tr>\n",
              "    <tr>\n",
              "      <th>1</th>\n",
              "      <td>1</td>\n",
              "      <td>661</td>\n",
              "      <td>3</td>\n",
              "      <td>978302109</td>\n",
              "    </tr>\n",
              "    <tr>\n",
              "      <th>2</th>\n",
              "      <td>1</td>\n",
              "      <td>914</td>\n",
              "      <td>3</td>\n",
              "      <td>978301968</td>\n",
              "    </tr>\n",
              "    <tr>\n",
              "      <th>3</th>\n",
              "      <td>1</td>\n",
              "      <td>3408</td>\n",
              "      <td>4</td>\n",
              "      <td>978300275</td>\n",
              "    </tr>\n",
              "    <tr>\n",
              "      <th>4</th>\n",
              "      <td>1</td>\n",
              "      <td>2355</td>\n",
              "      <td>5</td>\n",
              "      <td>978824291</td>\n",
              "    </tr>\n",
              "  </tbody>\n",
              "</table>\n",
              "</div>"
            ],
            "text/plain": [
              "   user_id  movie_id  rating  timestamp\n",
              "0        1      1193       5  978300760\n",
              "1        1       661       3  978302109\n",
              "2        1       914       3  978301968\n",
              "3        1      3408       4  978300275\n",
              "4        1      2355       5  978824291"
            ]
          },
          "metadata": {
            "tags": []
          },
          "execution_count": 6
        }
      ]
    },
    {
      "cell_type": "code",
      "metadata": {
        "id": "6px0uL8FoxvL"
      },
      "source": [
        "train, _, test = train_valid_test_split(data, size = 0.1)\r\n",
        "test_q, test_r = query_relev_split(test, size = 0.2)"
      ],
      "execution_count": 7,
      "outputs": []
    },
    {
      "cell_type": "markdown",
      "metadata": {
        "id": "E27DQJr9Lxes"
      },
      "source": [
        "### Weighted Rating \n",
        "$$\\text{(WR)} =  \\frac{v}{v+m} \\cdot R + \\frac{m}{v+m} \\cdot C$$\n",
        "\n",
        "- v is the number of vote for the movie\n",
        "- m is the minimum vote required to be listed in the data\n",
        "    - hyperparamter\n",
        "- R is the average rating of the movie\n",
        "- C is the average rating across the whole data"
      ]
    },
    {
      "cell_type": "code",
      "metadata": {
        "id": "sbOmPzPCsomZ"
      },
      "source": [
        "class POP:\n",
        "    def __init__(self, pop = True):\n",
        "        self.pop = pop\n",
        "    \n",
        "    def fit(self, df: pd.DataFrame):\n",
        "        if self.pop:\n",
        "            item_rank = df.groupby('movie_id')['rating'].count().sort_values(ascending = False)\n",
        "        else:\n",
        "            m = train.groupby('movie_id')['rating'].count().agg(['mean', 'std']).sum()\n",
        "            C = df.rating.mean()\n",
        "            item_rank = df.groupby('movie_id').agg(R = ('rating', 'mean'), v = ('rating', 'count'))\n",
        "            item_rank = item_rank.assign(weighted_rating = lambda df: (df.v * df.R + m * C) / (df.v + m))\n",
        "            item_rank = item_rank.weighted_rating.sort_values(ascending = False)\n",
        "        self.res = item_rank\n",
        "    \n",
        "    def predict(self, df: pd.DataFrame, N: int) -> pd.DataFrame:\n",
        "        df = list_agg(df)\n",
        "        rec = self.res[:N].index.tolist()\n",
        "        pred = []\n",
        "        for idx in tqdm(df.index):\n",
        "            pred.append({'user_id': df.at[idx, 'user_id'],\n",
        "                         'movie_id': rec})\n",
        "        return pd.DataFrame(pred)"
      ],
      "execution_count": 8,
      "outputs": []
    },
    {
      "cell_type": "code",
      "metadata": {
        "id": "RrOVYuTmE0qp"
      },
      "source": [
        "class evaluate:\n",
        "    def __init__(self, true: pd.DataFrame, pred: pd.DataFrame):\n",
        "        self.true = true\n",
        "        self.pred = pred\n",
        "        self.max_K = 10000\n",
        "        self.idcg = np.cumsum([1.0 / np.log(i+2) for i in range(self.max_K)])\n",
        "\n",
        "    def _recall(self, gt: List, rec: List, K = None) -> float:\n",
        "        K = K if K else self.max_K\n",
        "        res = [r for r in rec[:K] if r in gt]\n",
        "        return len(res) / np.min([K, len(gt)])\n",
        "    \n",
        "    def _precision(self, gt: List, rec: List, K = None) -> float:\n",
        "        K = K if K else self.max_K\n",
        "        res = [r for r in rec[:K] if r in gt]\n",
        "        return len(res) / len(rec[:K])\n",
        "\n",
        "    def _AP(self, gt: List, rec: List, K = None) -> float: # Average Precision\n",
        "        K = K if K else self.max_K\n",
        "        res = 0\n",
        "        for i, r in enumerate(rec[:K]):\n",
        "            if r in gt:\n",
        "                res += self._precision(gt, rec[:K], i+1)\n",
        "        return res / np.min([K, len(gt)])\n",
        "\n",
        "    def _RR(self, gt: List, rec: List, K = None) -> float: # Reciprocal Rank\n",
        "        K = K if K else self.max_K\n",
        "        for i, r in enumerate(rec[:K]):\n",
        "            if r in gt:\n",
        "                return  1.0 / (i+1)\n",
        "        return 0\n",
        "\n",
        "    def _nDCG(self, gt: List, rec: List, K = None) -> float: # normalized Discounted Cumulative Gain\n",
        "        K = K if K else self.max_K\n",
        "        dcg = 0.0\n",
        "        for i, r in enumerate(rec[:K]):\n",
        "            if r in gt:\n",
        "                dcg += 1.0 / np.log(i+2)\n",
        "        idcg = self.idcg[min([len(gt), K])-1]\n",
        "        return dcg / idcg\n",
        "    \n",
        "    def __call__(self, K = None):\n",
        "        self.K = K\n",
        "        self.recall = 0.0\n",
        "        self.precision = 0.0\n",
        "        self.MAP = 0.0\n",
        "        self.MRR = 0.0\n",
        "        self.nDCG = 0.0\n",
        "        n = self.true.index.size\n",
        "        for gt, rec in zip(tqdm(self.true.movie_id), self.pred.movie_id):\n",
        "            self.recall += self._recall(gt, rec, K) / n\n",
        "            self.precision += self._precision(gt, rec, K) / n\n",
        "            self.MAP += self._AP(gt, rec, K) / n\n",
        "            self.MRR += self._RR(gt, rec, K) / n\n",
        "            self.nDCG += self._nDCG(gt, rec, K) / n\n",
        "\n",
        "    def print_all(self):\n",
        "        K = '@' + str(self.K) if self.K else ''\n",
        "        print(f'{\"Recall\":>12}{K} : {self.recall:.5f}',\n",
        "              f'\\n{\"Precision\":>12}{K} : {self.precision:.5f}',\n",
        "              f'\\n{\"MAP\":>12}{K} : {self.MAP:.5f}',\n",
        "              f'\\n{\"nRR\":>12}{K} : {self.MRR:.5f}',\n",
        "              f'\\n{\"nDCG\":>12}{K} : {self.nDCG:.5f}')"
      ],
      "execution_count": 9,
      "outputs": []
    },
    {
      "cell_type": "markdown",
      "metadata": {
        "id": "YaI5n7BcwLiL"
      },
      "source": [
        "## 1. Sorting by Rating"
      ]
    },
    {
      "cell_type": "code",
      "metadata": {
        "id": "bSW4EURlwLiM"
      },
      "source": [
        "model = POP(pop = False)\n",
        "model.fit(train)"
      ],
      "execution_count": 10,
      "outputs": []
    },
    {
      "cell_type": "code",
      "metadata": {
        "colab": {
          "base_uri": "https://localhost:8080/",
          "height": 195
        },
        "id": "jXsigIsX5Lrg",
        "outputId": "e948c0a4-77a3-4995-ea8f-1ebf057ecdda"
      },
      "source": [
        "true = list_agg(test_r)\r\n",
        "true.head(5)"
      ],
      "execution_count": 11,
      "outputs": [
        {
          "output_type": "execute_result",
          "data": {
            "text/html": [
              "<div>\n",
              "<style scoped>\n",
              "    .dataframe tbody tr th:only-of-type {\n",
              "        vertical-align: middle;\n",
              "    }\n",
              "\n",
              "    .dataframe tbody tr th {\n",
              "        vertical-align: top;\n",
              "    }\n",
              "\n",
              "    .dataframe thead th {\n",
              "        text-align: right;\n",
              "    }\n",
              "</style>\n",
              "<table border=\"1\" class=\"dataframe\">\n",
              "  <thead>\n",
              "    <tr style=\"text-align: right;\">\n",
              "      <th></th>\n",
              "      <th>user_id</th>\n",
              "      <th>movie_id</th>\n",
              "    </tr>\n",
              "  </thead>\n",
              "  <tbody>\n",
              "    <tr>\n",
              "      <th>0</th>\n",
              "      <td>5</td>\n",
              "      <td>[288, 2268, 1683, 506, 3079, 1909, 229, 6, 515...</td>\n",
              "    </tr>\n",
              "    <tr>\n",
              "      <th>1</th>\n",
              "      <td>10</td>\n",
              "      <td>[1252, 720, 1256, 1259, 1831, 3438, 2, 2498, 1...</td>\n",
              "    </tr>\n",
              "    <tr>\n",
              "      <th>2</th>\n",
              "      <td>15</td>\n",
              "      <td>[648, 2126, 653, 733, 3510, 1196, 2640, 160, 3...</td>\n",
              "    </tr>\n",
              "    <tr>\n",
              "      <th>3</th>\n",
              "      <td>38</td>\n",
              "      <td>[1688, 2059, 586, 588, 1, 3948, 2082, 2096, 13...</td>\n",
              "    </tr>\n",
              "    <tr>\n",
              "      <th>4</th>\n",
              "      <td>42</td>\n",
              "      <td>[3421, 3359, 3868, 1257, 2997, 3361, 2134, 206...</td>\n",
              "    </tr>\n",
              "  </tbody>\n",
              "</table>\n",
              "</div>"
            ],
            "text/plain": [
              "   user_id                                           movie_id\n",
              "0        5  [288, 2268, 1683, 506, 3079, 1909, 229, 6, 515...\n",
              "1       10  [1252, 720, 1256, 1259, 1831, 3438, 2, 2498, 1...\n",
              "2       15  [648, 2126, 653, 733, 3510, 1196, 2640, 160, 3...\n",
              "3       38  [1688, 2059, 586, 588, 1, 3948, 2082, 2096, 13...\n",
              "4       42  [3421, 3359, 3868, 1257, 2997, 3361, 2134, 206..."
            ]
          },
          "metadata": {
            "tags": []
          },
          "execution_count": 11
        }
      ]
    },
    {
      "cell_type": "code",
      "metadata": {
        "id": "Ac-ZGpi4wLiP",
        "colab": {
          "base_uri": "https://localhost:8080/",
          "height": 245,
          "referenced_widgets": [
            "b6114e24954347d48943c1a55fc26e22",
            "38fd37a96b0e4d78af9966d395f3208a",
            "a49e6335c9884f6ca7bc8d3614c3f987",
            "20ae9580b9ae48c180147b03801af81a",
            "f364db9292de48f8a56ffd9ec35cf32e",
            "d8766b879ab949ca8953085174b7b49d",
            "d3b6c0f2effe4054baa43cdb4dce3eb4",
            "887d406001dd4c638b3082561ff8e23a"
          ]
        },
        "outputId": "c920df96-9227-4a08-c168-ec07ac9c6e37"
      },
      "source": [
        "pred = model.predict(test_q, N = 100)\n",
        "pred.head(5)"
      ],
      "execution_count": 12,
      "outputs": [
        {
          "output_type": "display_data",
          "data": {
            "application/vnd.jupyter.widget-view+json": {
              "model_id": "b6114e24954347d48943c1a55fc26e22",
              "version_minor": 0,
              "version_major": 2
            },
            "text/plain": [
              "HBox(children=(FloatProgress(value=0.0, max=604.0), HTML(value='')))"
            ]
          },
          "metadata": {
            "tags": []
          }
        },
        {
          "output_type": "stream",
          "text": [
            "\n"
          ],
          "name": "stdout"
        },
        {
          "output_type": "execute_result",
          "data": {
            "text/html": [
              "<div>\n",
              "<style scoped>\n",
              "    .dataframe tbody tr th:only-of-type {\n",
              "        vertical-align: middle;\n",
              "    }\n",
              "\n",
              "    .dataframe tbody tr th {\n",
              "        vertical-align: top;\n",
              "    }\n",
              "\n",
              "    .dataframe thead th {\n",
              "        text-align: right;\n",
              "    }\n",
              "</style>\n",
              "<table border=\"1\" class=\"dataframe\">\n",
              "  <thead>\n",
              "    <tr style=\"text-align: right;\">\n",
              "      <th></th>\n",
              "      <th>user_id</th>\n",
              "      <th>movie_id</th>\n",
              "    </tr>\n",
              "  </thead>\n",
              "  <tbody>\n",
              "    <tr>\n",
              "      <th>0</th>\n",
              "      <td>5</td>\n",
              "      <td>[318, 858, 527, 260, 1198, 50, 2762, 2858, 202...</td>\n",
              "    </tr>\n",
              "    <tr>\n",
              "      <th>1</th>\n",
              "      <td>10</td>\n",
              "      <td>[318, 858, 527, 260, 1198, 50, 2762, 2858, 202...</td>\n",
              "    </tr>\n",
              "    <tr>\n",
              "      <th>2</th>\n",
              "      <td>15</td>\n",
              "      <td>[318, 858, 527, 260, 1198, 50, 2762, 2858, 202...</td>\n",
              "    </tr>\n",
              "    <tr>\n",
              "      <th>3</th>\n",
              "      <td>38</td>\n",
              "      <td>[318, 858, 527, 260, 1198, 50, 2762, 2858, 202...</td>\n",
              "    </tr>\n",
              "    <tr>\n",
              "      <th>4</th>\n",
              "      <td>42</td>\n",
              "      <td>[318, 858, 527, 260, 1198, 50, 2762, 2858, 202...</td>\n",
              "    </tr>\n",
              "  </tbody>\n",
              "</table>\n",
              "</div>"
            ],
            "text/plain": [
              "   user_id                                           movie_id\n",
              "0        5  [318, 858, 527, 260, 1198, 50, 2762, 2858, 202...\n",
              "1       10  [318, 858, 527, 260, 1198, 50, 2762, 2858, 202...\n",
              "2       15  [318, 858, 527, 260, 1198, 50, 2762, 2858, 202...\n",
              "3       38  [318, 858, 527, 260, 1198, 50, 2762, 2858, 202...\n",
              "4       42  [318, 858, 527, 260, 1198, 50, 2762, 2858, 202..."
            ]
          },
          "metadata": {
            "tags": []
          },
          "execution_count": 12
        }
      ]
    },
    {
      "cell_type": "code",
      "metadata": {
        "id": "orsTbtVkwLiR",
        "colab": {
          "base_uri": "https://localhost:8080/",
          "height": 292,
          "referenced_widgets": [
            "9f755e8c641a4738ac34d2e76719a6c8",
            "ac29db04125b459d96f60f8cf6f29bd8",
            "1de81b2b4d1848fc97b5fe948b263a6c",
            "b0ae9616010248d0b87617ab6ae83688",
            "8e72db348aed48f2b4003e5c8c8ce76b",
            "48a64cf7d5ff40f798c02ff50e952c0b",
            "509616fe8ee64bba9cad7ca0a448ef63",
            "f78e84bbbb82425e837f1f48e2b7eda6",
            "e7c68d6fbd24493d948ea3e523fca8cb",
            "c803cfd4799441f396abdd388c398190",
            "a950fdee8da042799532c5171d1cfb78",
            "3e31da8c3085450daf2652723d2fdf0b",
            "0e6f6b9dc1b843789a83bff3f212f2fc",
            "df9b8deba4f840c9b6910002ffa007c9",
            "5be5362ea03e4102bd3fbc79194def63",
            "9bcf3692258a48b3980e5da0bc6ac44b"
          ]
        },
        "outputId": "50f783a6-a456-4d11-e68f-8269c0812618"
      },
      "source": [
        "scores = evaluate(true, pred)\n",
        "\n",
        "scores(K = 20)\n",
        "scores.print_all()\n",
        "\n",
        "scores(K = 100)\n",
        "scores.print_all()"
      ],
      "execution_count": 13,
      "outputs": [
        {
          "output_type": "display_data",
          "data": {
            "application/vnd.jupyter.widget-view+json": {
              "model_id": "9f755e8c641a4738ac34d2e76719a6c8",
              "version_minor": 0,
              "version_major": 2
            },
            "text/plain": [
              "HBox(children=(FloatProgress(value=0.0, max=604.0), HTML(value='')))"
            ]
          },
          "metadata": {
            "tags": []
          }
        },
        {
          "output_type": "stream",
          "text": [
            "\n",
            "      Recall@20 : 0.04880 \n",
            "   Precision@20 : 0.03949 \n",
            "         MAP@20 : 0.01325 \n",
            "         nRR@20 : 0.10390 \n",
            "        nDCG@20 : 0.04529\n"
          ],
          "name": "stdout"
        },
        {
          "output_type": "display_data",
          "data": {
            "application/vnd.jupyter.widget-view+json": {
              "model_id": "e7c68d6fbd24493d948ea3e523fca8cb",
              "version_minor": 0,
              "version_major": 2
            },
            "text/plain": [
              "HBox(children=(FloatProgress(value=0.0, max=604.0), HTML(value='')))"
            ]
          },
          "metadata": {
            "tags": []
          }
        },
        {
          "output_type": "stream",
          "text": [
            "\n",
            "      Recall@100 : 0.13632 \n",
            "   Precision@100 : 0.03301 \n",
            "         MAP@100 : 0.01585 \n",
            "         nRR@100 : 0.11133 \n",
            "        nDCG@100 : 0.08249\n"
          ],
          "name": "stdout"
        }
      ]
    },
    {
      "cell_type": "markdown",
      "metadata": {
        "id": "B2MVO-fAxTTJ"
      },
      "source": [
        "## 2. Sorting by Popularity"
      ]
    },
    {
      "cell_type": "code",
      "metadata": {
        "id": "ksdlbjWPGW0-"
      },
      "source": [
        "model = POP()\n",
        "model.fit(train)"
      ],
      "execution_count": 14,
      "outputs": []
    },
    {
      "cell_type": "code",
      "metadata": {
        "id": "xOQ5o8yKGruw",
        "colab": {
          "base_uri": "https://localhost:8080/",
          "height": 245,
          "referenced_widgets": [
            "87888ed986d0439a9c44ef55e1205521",
            "f4a68db3bf244509bf8e36aeb074523e",
            "ec640430312347f385f12adeb4048ecb",
            "cc34e562e030437c9513cc99675f3c12",
            "d93cecd4fd144372a016fe637a6c9bf8",
            "2a60a69efb04472e8a58a1860f4ead98",
            "a3a9ef40410a41828fc20cc4be705534",
            "cf54dbb2842c4e50a0557e1b08c735d3"
          ]
        },
        "outputId": "3eb0a6d8-f16a-41d1-ce67-9362c7587631"
      },
      "source": [
        "pred = model.predict(test_q, N = 100)\n",
        "pred.head(5)"
      ],
      "execution_count": 15,
      "outputs": [
        {
          "output_type": "display_data",
          "data": {
            "application/vnd.jupyter.widget-view+json": {
              "model_id": "87888ed986d0439a9c44ef55e1205521",
              "version_minor": 0,
              "version_major": 2
            },
            "text/plain": [
              "HBox(children=(FloatProgress(value=0.0, max=604.0), HTML(value='')))"
            ]
          },
          "metadata": {
            "tags": []
          }
        },
        {
          "output_type": "stream",
          "text": [
            "\n"
          ],
          "name": "stdout"
        },
        {
          "output_type": "execute_result",
          "data": {
            "text/html": [
              "<div>\n",
              "<style scoped>\n",
              "    .dataframe tbody tr th:only-of-type {\n",
              "        vertical-align: middle;\n",
              "    }\n",
              "\n",
              "    .dataframe tbody tr th {\n",
              "        vertical-align: top;\n",
              "    }\n",
              "\n",
              "    .dataframe thead th {\n",
              "        text-align: right;\n",
              "    }\n",
              "</style>\n",
              "<table border=\"1\" class=\"dataframe\">\n",
              "  <thead>\n",
              "    <tr style=\"text-align: right;\">\n",
              "      <th></th>\n",
              "      <th>user_id</th>\n",
              "      <th>movie_id</th>\n",
              "    </tr>\n",
              "  </thead>\n",
              "  <tbody>\n",
              "    <tr>\n",
              "      <th>0</th>\n",
              "      <td>5</td>\n",
              "      <td>[2858, 1196, 260, 1210, 480, 589, 2028, 1270, ...</td>\n",
              "    </tr>\n",
              "    <tr>\n",
              "      <th>1</th>\n",
              "      <td>10</td>\n",
              "      <td>[2858, 1196, 260, 1210, 480, 589, 2028, 1270, ...</td>\n",
              "    </tr>\n",
              "    <tr>\n",
              "      <th>2</th>\n",
              "      <td>15</td>\n",
              "      <td>[2858, 1196, 260, 1210, 480, 589, 2028, 1270, ...</td>\n",
              "    </tr>\n",
              "    <tr>\n",
              "      <th>3</th>\n",
              "      <td>38</td>\n",
              "      <td>[2858, 1196, 260, 1210, 480, 589, 2028, 1270, ...</td>\n",
              "    </tr>\n",
              "    <tr>\n",
              "      <th>4</th>\n",
              "      <td>42</td>\n",
              "      <td>[2858, 1196, 260, 1210, 480, 589, 2028, 1270, ...</td>\n",
              "    </tr>\n",
              "  </tbody>\n",
              "</table>\n",
              "</div>"
            ],
            "text/plain": [
              "   user_id                                           movie_id\n",
              "0        5  [2858, 1196, 260, 1210, 480, 589, 2028, 1270, ...\n",
              "1       10  [2858, 1196, 260, 1210, 480, 589, 2028, 1270, ...\n",
              "2       15  [2858, 1196, 260, 1210, 480, 589, 2028, 1270, ...\n",
              "3       38  [2858, 1196, 260, 1210, 480, 589, 2028, 1270, ...\n",
              "4       42  [2858, 1196, 260, 1210, 480, 589, 2028, 1270, ..."
            ]
          },
          "metadata": {
            "tags": []
          },
          "execution_count": 15
        }
      ]
    },
    {
      "cell_type": "code",
      "metadata": {
        "id": "YjYVruliAyDj",
        "colab": {
          "base_uri": "https://localhost:8080/",
          "height": 292,
          "referenced_widgets": [
            "36ef062e006746bbb0988701f6ad7375",
            "9a8243844b1d40ee9d37865ce7df4844",
            "fcab6a4396104f54ac2fe035e21b947a",
            "c84728bd0bc749c38f83e9d8994d223a",
            "90b13425785d4e27be6d95b29d41b4a1",
            "ed0ce07d2c674235b28574b7919bbbe4",
            "1ee91d28b3eb4096aa7cb36c2e30cbe6",
            "abffebc049244dcb9efd054959f57d63",
            "58f6cf6abf084589ac6a990d7cc4cf7b",
            "2b09e6a294bb4740b26fe6b95f84b141",
            "54e2cf979fb94ca5a6ee68df7cd9449f",
            "b47f3b587ca44866a09f967938ce856d",
            "39de5f739e534a68ab47c2ca924e8b4d",
            "09ee748e79b642d2aa505fb2ef7af9b9",
            "9013310eb0084bc79397c94ac43830f7",
            "3155a61a019f45ad8ffba3621a5e807f"
          ]
        },
        "outputId": "eddfd94f-27df-475f-b76e-c08e928a59db"
      },
      "source": [
        "scores = evaluate(true, pred)\n",
        "\n",
        "scores(K = 20)\n",
        "scores.print_all()\n",
        "\n",
        "scores(K = 100)\n",
        "scores.print_all()"
      ],
      "execution_count": 16,
      "outputs": [
        {
          "output_type": "display_data",
          "data": {
            "application/vnd.jupyter.widget-view+json": {
              "model_id": "36ef062e006746bbb0988701f6ad7375",
              "version_minor": 0,
              "version_major": 2
            },
            "text/plain": [
              "HBox(children=(FloatProgress(value=0.0, max=604.0), HTML(value='')))"
            ]
          },
          "metadata": {
            "tags": []
          }
        },
        {
          "output_type": "stream",
          "text": [
            "\n",
            "      Recall@20 : 0.06116 \n",
            "   Precision@20 : 0.04644 \n",
            "         MAP@20 : 0.01390 \n",
            "         nRR@20 : 0.11086 \n",
            "        nDCG@20 : 0.05205\n"
          ],
          "name": "stdout"
        },
        {
          "output_type": "display_data",
          "data": {
            "application/vnd.jupyter.widget-view+json": {
              "model_id": "58f6cf6abf084589ac6a990d7cc4cf7b",
              "version_minor": 0,
              "version_major": 2
            },
            "text/plain": [
              "HBox(children=(FloatProgress(value=0.0, max=604.0), HTML(value='')))"
            ]
          },
          "metadata": {
            "tags": []
          }
        },
        {
          "output_type": "stream",
          "text": [
            "\n",
            "      Recall@100 : 0.18338 \n",
            "   Precision@100 : 0.04210 \n",
            "         MAP@100 : 0.01972 \n",
            "         nRR@100 : 0.12053 \n",
            "        nDCG@100 : 0.10635\n"
          ],
          "name": "stdout"
        }
      ]
    }
  ]
}