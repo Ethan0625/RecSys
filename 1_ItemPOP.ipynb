{
  "nbformat": 4,
  "nbformat_minor": 0,
  "metadata": {
    "colab": {
      "name": "1_ItemPOP.ipynb",
      "provenance": [],
      "collapsed_sections": [],
      "authorship_tag": "ABX9TyPFzhBlcrkm5G0MS7/VLDy9",
      "include_colab_link": true
    },
    "kernelspec": {
      "name": "python3",
      "display_name": "Python 3"
    },
    "widgets": {
      "application/vnd.jupyter.widget-state+json": {
        "5c18e5add67b4fd794b8ef1c4a8cc451": {
          "model_module": "@jupyter-widgets/controls",
          "model_name": "HBoxModel",
          "state": {
            "_view_name": "HBoxView",
            "_dom_classes": [],
            "_model_name": "HBoxModel",
            "_view_module": "@jupyter-widgets/controls",
            "_model_module_version": "1.5.0",
            "_view_count": null,
            "_view_module_version": "1.5.0",
            "box_style": "",
            "layout": "IPY_MODEL_903cde626fdf480a88723ebf8994b45d",
            "_model_module": "@jupyter-widgets/controls",
            "children": [
              "IPY_MODEL_36716a066c97442d8148ba8223115afa",
              "IPY_MODEL_dba451d28fe94d9680a243071cda7631"
            ]
          }
        },
        "903cde626fdf480a88723ebf8994b45d": {
          "model_module": "@jupyter-widgets/base",
          "model_name": "LayoutModel",
          "state": {
            "_view_name": "LayoutView",
            "grid_template_rows": null,
            "right": null,
            "justify_content": null,
            "_view_module": "@jupyter-widgets/base",
            "overflow": null,
            "_model_module_version": "1.2.0",
            "_view_count": null,
            "flex_flow": null,
            "width": null,
            "min_width": null,
            "border": null,
            "align_items": null,
            "bottom": null,
            "_model_module": "@jupyter-widgets/base",
            "top": null,
            "grid_column": null,
            "overflow_y": null,
            "overflow_x": null,
            "grid_auto_flow": null,
            "grid_area": null,
            "grid_template_columns": null,
            "flex": null,
            "_model_name": "LayoutModel",
            "justify_items": null,
            "grid_row": null,
            "max_height": null,
            "align_content": null,
            "visibility": null,
            "align_self": null,
            "height": null,
            "min_height": null,
            "padding": null,
            "grid_auto_rows": null,
            "grid_gap": null,
            "max_width": null,
            "order": null,
            "_view_module_version": "1.2.0",
            "grid_template_areas": null,
            "object_position": null,
            "object_fit": null,
            "grid_auto_columns": null,
            "margin": null,
            "display": null,
            "left": null
          }
        },
        "36716a066c97442d8148ba8223115afa": {
          "model_module": "@jupyter-widgets/controls",
          "model_name": "FloatProgressModel",
          "state": {
            "_view_name": "ProgressView",
            "style": "IPY_MODEL_d10733f867cb4203a87572b9b6cb7d8c",
            "_dom_classes": [],
            "description": "100%",
            "_model_name": "FloatProgressModel",
            "bar_style": "success",
            "max": 604,
            "_view_module": "@jupyter-widgets/controls",
            "_model_module_version": "1.5.0",
            "value": 604,
            "_view_count": null,
            "_view_module_version": "1.5.0",
            "orientation": "horizontal",
            "min": 0,
            "description_tooltip": null,
            "_model_module": "@jupyter-widgets/controls",
            "layout": "IPY_MODEL_352fc08bac4f4415aa2e5d372572fcc5"
          }
        },
        "dba451d28fe94d9680a243071cda7631": {
          "model_module": "@jupyter-widgets/controls",
          "model_name": "HTMLModel",
          "state": {
            "_view_name": "HTMLView",
            "style": "IPY_MODEL_cb38dc58f55b428f827727f1098fe69d",
            "_dom_classes": [],
            "description": "",
            "_model_name": "HTMLModel",
            "placeholder": "​",
            "_view_module": "@jupyter-widgets/controls",
            "_model_module_version": "1.5.0",
            "value": " 604/604 [00:00&lt;00:00, 3611.20it/s]",
            "_view_count": null,
            "_view_module_version": "1.5.0",
            "description_tooltip": null,
            "_model_module": "@jupyter-widgets/controls",
            "layout": "IPY_MODEL_92ea332ca3794bbfa7229060289b9102"
          }
        },
        "d10733f867cb4203a87572b9b6cb7d8c": {
          "model_module": "@jupyter-widgets/controls",
          "model_name": "ProgressStyleModel",
          "state": {
            "_view_name": "StyleView",
            "_model_name": "ProgressStyleModel",
            "description_width": "initial",
            "_view_module": "@jupyter-widgets/base",
            "_model_module_version": "1.5.0",
            "_view_count": null,
            "_view_module_version": "1.2.0",
            "bar_color": null,
            "_model_module": "@jupyter-widgets/controls"
          }
        },
        "352fc08bac4f4415aa2e5d372572fcc5": {
          "model_module": "@jupyter-widgets/base",
          "model_name": "LayoutModel",
          "state": {
            "_view_name": "LayoutView",
            "grid_template_rows": null,
            "right": null,
            "justify_content": null,
            "_view_module": "@jupyter-widgets/base",
            "overflow": null,
            "_model_module_version": "1.2.0",
            "_view_count": null,
            "flex_flow": null,
            "width": null,
            "min_width": null,
            "border": null,
            "align_items": null,
            "bottom": null,
            "_model_module": "@jupyter-widgets/base",
            "top": null,
            "grid_column": null,
            "overflow_y": null,
            "overflow_x": null,
            "grid_auto_flow": null,
            "grid_area": null,
            "grid_template_columns": null,
            "flex": null,
            "_model_name": "LayoutModel",
            "justify_items": null,
            "grid_row": null,
            "max_height": null,
            "align_content": null,
            "visibility": null,
            "align_self": null,
            "height": null,
            "min_height": null,
            "padding": null,
            "grid_auto_rows": null,
            "grid_gap": null,
            "max_width": null,
            "order": null,
            "_view_module_version": "1.2.0",
            "grid_template_areas": null,
            "object_position": null,
            "object_fit": null,
            "grid_auto_columns": null,
            "margin": null,
            "display": null,
            "left": null
          }
        },
        "cb38dc58f55b428f827727f1098fe69d": {
          "model_module": "@jupyter-widgets/controls",
          "model_name": "DescriptionStyleModel",
          "state": {
            "_view_name": "StyleView",
            "_model_name": "DescriptionStyleModel",
            "description_width": "",
            "_view_module": "@jupyter-widgets/base",
            "_model_module_version": "1.5.0",
            "_view_count": null,
            "_view_module_version": "1.2.0",
            "_model_module": "@jupyter-widgets/controls"
          }
        },
        "92ea332ca3794bbfa7229060289b9102": {
          "model_module": "@jupyter-widgets/base",
          "model_name": "LayoutModel",
          "state": {
            "_view_name": "LayoutView",
            "grid_template_rows": null,
            "right": null,
            "justify_content": null,
            "_view_module": "@jupyter-widgets/base",
            "overflow": null,
            "_model_module_version": "1.2.0",
            "_view_count": null,
            "flex_flow": null,
            "width": null,
            "min_width": null,
            "border": null,
            "align_items": null,
            "bottom": null,
            "_model_module": "@jupyter-widgets/base",
            "top": null,
            "grid_column": null,
            "overflow_y": null,
            "overflow_x": null,
            "grid_auto_flow": null,
            "grid_area": null,
            "grid_template_columns": null,
            "flex": null,
            "_model_name": "LayoutModel",
            "justify_items": null,
            "grid_row": null,
            "max_height": null,
            "align_content": null,
            "visibility": null,
            "align_self": null,
            "height": null,
            "min_height": null,
            "padding": null,
            "grid_auto_rows": null,
            "grid_gap": null,
            "max_width": null,
            "order": null,
            "_view_module_version": "1.2.0",
            "grid_template_areas": null,
            "object_position": null,
            "object_fit": null,
            "grid_auto_columns": null,
            "margin": null,
            "display": null,
            "left": null
          }
        },
        "dfe5e6fe66564abca1e707b6c5bd1afe": {
          "model_module": "@jupyter-widgets/controls",
          "model_name": "HBoxModel",
          "state": {
            "_view_name": "HBoxView",
            "_dom_classes": [],
            "_model_name": "HBoxModel",
            "_view_module": "@jupyter-widgets/controls",
            "_model_module_version": "1.5.0",
            "_view_count": null,
            "_view_module_version": "1.5.0",
            "box_style": "",
            "layout": "IPY_MODEL_eccabe869fb541579b721fe55f890504",
            "_model_module": "@jupyter-widgets/controls",
            "children": [
              "IPY_MODEL_de6924fcdee745e8bca00ed465c5f13a",
              "IPY_MODEL_4744768030914c7fb6fc757db99939e4"
            ]
          }
        },
        "eccabe869fb541579b721fe55f890504": {
          "model_module": "@jupyter-widgets/base",
          "model_name": "LayoutModel",
          "state": {
            "_view_name": "LayoutView",
            "grid_template_rows": null,
            "right": null,
            "justify_content": null,
            "_view_module": "@jupyter-widgets/base",
            "overflow": null,
            "_model_module_version": "1.2.0",
            "_view_count": null,
            "flex_flow": null,
            "width": null,
            "min_width": null,
            "border": null,
            "align_items": null,
            "bottom": null,
            "_model_module": "@jupyter-widgets/base",
            "top": null,
            "grid_column": null,
            "overflow_y": null,
            "overflow_x": null,
            "grid_auto_flow": null,
            "grid_area": null,
            "grid_template_columns": null,
            "flex": null,
            "_model_name": "LayoutModel",
            "justify_items": null,
            "grid_row": null,
            "max_height": null,
            "align_content": null,
            "visibility": null,
            "align_self": null,
            "height": null,
            "min_height": null,
            "padding": null,
            "grid_auto_rows": null,
            "grid_gap": null,
            "max_width": null,
            "order": null,
            "_view_module_version": "1.2.0",
            "grid_template_areas": null,
            "object_position": null,
            "object_fit": null,
            "grid_auto_columns": null,
            "margin": null,
            "display": null,
            "left": null
          }
        },
        "de6924fcdee745e8bca00ed465c5f13a": {
          "model_module": "@jupyter-widgets/controls",
          "model_name": "FloatProgressModel",
          "state": {
            "_view_name": "ProgressView",
            "style": "IPY_MODEL_89cd85f63ae54fe6b678e0e4efd464ff",
            "_dom_classes": [],
            "description": "100%",
            "_model_name": "FloatProgressModel",
            "bar_style": "success",
            "max": 604,
            "_view_module": "@jupyter-widgets/controls",
            "_model_module_version": "1.5.0",
            "value": 604,
            "_view_count": null,
            "_view_module_version": "1.5.0",
            "orientation": "horizontal",
            "min": 0,
            "description_tooltip": null,
            "_model_module": "@jupyter-widgets/controls",
            "layout": "IPY_MODEL_96aeb35b6e074201b3201bb0f2d700e8"
          }
        },
        "4744768030914c7fb6fc757db99939e4": {
          "model_module": "@jupyter-widgets/controls",
          "model_name": "HTMLModel",
          "state": {
            "_view_name": "HTMLView",
            "style": "IPY_MODEL_9a153084b0084607a260c000d0ffd3d1",
            "_dom_classes": [],
            "description": "",
            "_model_name": "HTMLModel",
            "placeholder": "​",
            "_view_module": "@jupyter-widgets/controls",
            "_model_module_version": "1.5.0",
            "value": " 604/604 [00:00&lt;00:00, 6615.78it/s]",
            "_view_count": null,
            "_view_module_version": "1.5.0",
            "description_tooltip": null,
            "_model_module": "@jupyter-widgets/controls",
            "layout": "IPY_MODEL_a298685f3b264329a53b931854220672"
          }
        },
        "89cd85f63ae54fe6b678e0e4efd464ff": {
          "model_module": "@jupyter-widgets/controls",
          "model_name": "ProgressStyleModel",
          "state": {
            "_view_name": "StyleView",
            "_model_name": "ProgressStyleModel",
            "description_width": "initial",
            "_view_module": "@jupyter-widgets/base",
            "_model_module_version": "1.5.0",
            "_view_count": null,
            "_view_module_version": "1.2.0",
            "bar_color": null,
            "_model_module": "@jupyter-widgets/controls"
          }
        },
        "96aeb35b6e074201b3201bb0f2d700e8": {
          "model_module": "@jupyter-widgets/base",
          "model_name": "LayoutModel",
          "state": {
            "_view_name": "LayoutView",
            "grid_template_rows": null,
            "right": null,
            "justify_content": null,
            "_view_module": "@jupyter-widgets/base",
            "overflow": null,
            "_model_module_version": "1.2.0",
            "_view_count": null,
            "flex_flow": null,
            "width": null,
            "min_width": null,
            "border": null,
            "align_items": null,
            "bottom": null,
            "_model_module": "@jupyter-widgets/base",
            "top": null,
            "grid_column": null,
            "overflow_y": null,
            "overflow_x": null,
            "grid_auto_flow": null,
            "grid_area": null,
            "grid_template_columns": null,
            "flex": null,
            "_model_name": "LayoutModel",
            "justify_items": null,
            "grid_row": null,
            "max_height": null,
            "align_content": null,
            "visibility": null,
            "align_self": null,
            "height": null,
            "min_height": null,
            "padding": null,
            "grid_auto_rows": null,
            "grid_gap": null,
            "max_width": null,
            "order": null,
            "_view_module_version": "1.2.0",
            "grid_template_areas": null,
            "object_position": null,
            "object_fit": null,
            "grid_auto_columns": null,
            "margin": null,
            "display": null,
            "left": null
          }
        },
        "9a153084b0084607a260c000d0ffd3d1": {
          "model_module": "@jupyter-widgets/controls",
          "model_name": "DescriptionStyleModel",
          "state": {
            "_view_name": "StyleView",
            "_model_name": "DescriptionStyleModel",
            "description_width": "",
            "_view_module": "@jupyter-widgets/base",
            "_model_module_version": "1.5.0",
            "_view_count": null,
            "_view_module_version": "1.2.0",
            "_model_module": "@jupyter-widgets/controls"
          }
        },
        "a298685f3b264329a53b931854220672": {
          "model_module": "@jupyter-widgets/base",
          "model_name": "LayoutModel",
          "state": {
            "_view_name": "LayoutView",
            "grid_template_rows": null,
            "right": null,
            "justify_content": null,
            "_view_module": "@jupyter-widgets/base",
            "overflow": null,
            "_model_module_version": "1.2.0",
            "_view_count": null,
            "flex_flow": null,
            "width": null,
            "min_width": null,
            "border": null,
            "align_items": null,
            "bottom": null,
            "_model_module": "@jupyter-widgets/base",
            "top": null,
            "grid_column": null,
            "overflow_y": null,
            "overflow_x": null,
            "grid_auto_flow": null,
            "grid_area": null,
            "grid_template_columns": null,
            "flex": null,
            "_model_name": "LayoutModel",
            "justify_items": null,
            "grid_row": null,
            "max_height": null,
            "align_content": null,
            "visibility": null,
            "align_self": null,
            "height": null,
            "min_height": null,
            "padding": null,
            "grid_auto_rows": null,
            "grid_gap": null,
            "max_width": null,
            "order": null,
            "_view_module_version": "1.2.0",
            "grid_template_areas": null,
            "object_position": null,
            "object_fit": null,
            "grid_auto_columns": null,
            "margin": null,
            "display": null,
            "left": null
          }
        },
        "dcf4b4f9aa1040f6aa79e4330c2c7c44": {
          "model_module": "@jupyter-widgets/controls",
          "model_name": "HBoxModel",
          "state": {
            "_view_name": "HBoxView",
            "_dom_classes": [],
            "_model_name": "HBoxModel",
            "_view_module": "@jupyter-widgets/controls",
            "_model_module_version": "1.5.0",
            "_view_count": null,
            "_view_module_version": "1.5.0",
            "box_style": "",
            "layout": "IPY_MODEL_8bfd90f66e4044d7abd20a78b40b521b",
            "_model_module": "@jupyter-widgets/controls",
            "children": [
              "IPY_MODEL_ff7c0d65d1014927b10e3047256517ea",
              "IPY_MODEL_1e3e9a969f6a4b50996511405cc1e072"
            ]
          }
        },
        "8bfd90f66e4044d7abd20a78b40b521b": {
          "model_module": "@jupyter-widgets/base",
          "model_name": "LayoutModel",
          "state": {
            "_view_name": "LayoutView",
            "grid_template_rows": null,
            "right": null,
            "justify_content": null,
            "_view_module": "@jupyter-widgets/base",
            "overflow": null,
            "_model_module_version": "1.2.0",
            "_view_count": null,
            "flex_flow": null,
            "width": null,
            "min_width": null,
            "border": null,
            "align_items": null,
            "bottom": null,
            "_model_module": "@jupyter-widgets/base",
            "top": null,
            "grid_column": null,
            "overflow_y": null,
            "overflow_x": null,
            "grid_auto_flow": null,
            "grid_area": null,
            "grid_template_columns": null,
            "flex": null,
            "_model_name": "LayoutModel",
            "justify_items": null,
            "grid_row": null,
            "max_height": null,
            "align_content": null,
            "visibility": null,
            "align_self": null,
            "height": null,
            "min_height": null,
            "padding": null,
            "grid_auto_rows": null,
            "grid_gap": null,
            "max_width": null,
            "order": null,
            "_view_module_version": "1.2.0",
            "grid_template_areas": null,
            "object_position": null,
            "object_fit": null,
            "grid_auto_columns": null,
            "margin": null,
            "display": null,
            "left": null
          }
        },
        "ff7c0d65d1014927b10e3047256517ea": {
          "model_module": "@jupyter-widgets/controls",
          "model_name": "FloatProgressModel",
          "state": {
            "_view_name": "ProgressView",
            "style": "IPY_MODEL_7d9729dad6304c64950f06ccff816de5",
            "_dom_classes": [],
            "description": "100%",
            "_model_name": "FloatProgressModel",
            "bar_style": "success",
            "max": 604,
            "_view_module": "@jupyter-widgets/controls",
            "_model_module_version": "1.5.0",
            "value": 604,
            "_view_count": null,
            "_view_module_version": "1.5.0",
            "orientation": "horizontal",
            "min": 0,
            "description_tooltip": null,
            "_model_module": "@jupyter-widgets/controls",
            "layout": "IPY_MODEL_fe17aaaaca70453d8a890f2c18194fae"
          }
        },
        "1e3e9a969f6a4b50996511405cc1e072": {
          "model_module": "@jupyter-widgets/controls",
          "model_name": "HTMLModel",
          "state": {
            "_view_name": "HTMLView",
            "style": "IPY_MODEL_459d2f9beddf484ca023c1b75ecc3490",
            "_dom_classes": [],
            "description": "",
            "_model_name": "HTMLModel",
            "placeholder": "​",
            "_view_module": "@jupyter-widgets/controls",
            "_model_module_version": "1.5.0",
            "value": " 604/604 [00:00&lt;00:00, 2724.72it/s]",
            "_view_count": null,
            "_view_module_version": "1.5.0",
            "description_tooltip": null,
            "_model_module": "@jupyter-widgets/controls",
            "layout": "IPY_MODEL_bb4abea81a464ce8a78412336340aee5"
          }
        },
        "7d9729dad6304c64950f06ccff816de5": {
          "model_module": "@jupyter-widgets/controls",
          "model_name": "ProgressStyleModel",
          "state": {
            "_view_name": "StyleView",
            "_model_name": "ProgressStyleModel",
            "description_width": "initial",
            "_view_module": "@jupyter-widgets/base",
            "_model_module_version": "1.5.0",
            "_view_count": null,
            "_view_module_version": "1.2.0",
            "bar_color": null,
            "_model_module": "@jupyter-widgets/controls"
          }
        },
        "fe17aaaaca70453d8a890f2c18194fae": {
          "model_module": "@jupyter-widgets/base",
          "model_name": "LayoutModel",
          "state": {
            "_view_name": "LayoutView",
            "grid_template_rows": null,
            "right": null,
            "justify_content": null,
            "_view_module": "@jupyter-widgets/base",
            "overflow": null,
            "_model_module_version": "1.2.0",
            "_view_count": null,
            "flex_flow": null,
            "width": null,
            "min_width": null,
            "border": null,
            "align_items": null,
            "bottom": null,
            "_model_module": "@jupyter-widgets/base",
            "top": null,
            "grid_column": null,
            "overflow_y": null,
            "overflow_x": null,
            "grid_auto_flow": null,
            "grid_area": null,
            "grid_template_columns": null,
            "flex": null,
            "_model_name": "LayoutModel",
            "justify_items": null,
            "grid_row": null,
            "max_height": null,
            "align_content": null,
            "visibility": null,
            "align_self": null,
            "height": null,
            "min_height": null,
            "padding": null,
            "grid_auto_rows": null,
            "grid_gap": null,
            "max_width": null,
            "order": null,
            "_view_module_version": "1.2.0",
            "grid_template_areas": null,
            "object_position": null,
            "object_fit": null,
            "grid_auto_columns": null,
            "margin": null,
            "display": null,
            "left": null
          }
        },
        "459d2f9beddf484ca023c1b75ecc3490": {
          "model_module": "@jupyter-widgets/controls",
          "model_name": "DescriptionStyleModel",
          "state": {
            "_view_name": "StyleView",
            "_model_name": "DescriptionStyleModel",
            "description_width": "",
            "_view_module": "@jupyter-widgets/base",
            "_model_module_version": "1.5.0",
            "_view_count": null,
            "_view_module_version": "1.2.0",
            "_model_module": "@jupyter-widgets/controls"
          }
        },
        "bb4abea81a464ce8a78412336340aee5": {
          "model_module": "@jupyter-widgets/base",
          "model_name": "LayoutModel",
          "state": {
            "_view_name": "LayoutView",
            "grid_template_rows": null,
            "right": null,
            "justify_content": null,
            "_view_module": "@jupyter-widgets/base",
            "overflow": null,
            "_model_module_version": "1.2.0",
            "_view_count": null,
            "flex_flow": null,
            "width": null,
            "min_width": null,
            "border": null,
            "align_items": null,
            "bottom": null,
            "_model_module": "@jupyter-widgets/base",
            "top": null,
            "grid_column": null,
            "overflow_y": null,
            "overflow_x": null,
            "grid_auto_flow": null,
            "grid_area": null,
            "grid_template_columns": null,
            "flex": null,
            "_model_name": "LayoutModel",
            "justify_items": null,
            "grid_row": null,
            "max_height": null,
            "align_content": null,
            "visibility": null,
            "align_self": null,
            "height": null,
            "min_height": null,
            "padding": null,
            "grid_auto_rows": null,
            "grid_gap": null,
            "max_width": null,
            "order": null,
            "_view_module_version": "1.2.0",
            "grid_template_areas": null,
            "object_position": null,
            "object_fit": null,
            "grid_auto_columns": null,
            "margin": null,
            "display": null,
            "left": null
          }
        }
      }
    }
  },
  "cells": [
    {
      "cell_type": "markdown",
      "metadata": {
        "id": "view-in-github",
        "colab_type": "text"
      },
      "source": [
        "<a href=\"https://colab.research.google.com/github/ivoryRabbit/RecSys/blob/master/1_ItemPOP.ipynb\" target=\"_parent\"><img src=\"https://colab.research.google.com/assets/colab-badge.svg\" alt=\"Open In Colab\"/></a>"
      ]
    },
    {
      "cell_type": "markdown",
      "metadata": {
        "id": "viikY8IQdVTY"
      },
      "source": [
        "# Item Popularity"
      ]
    },
    {
      "cell_type": "code",
      "metadata": {
        "id": "M8FDcw4rVboe"
      },
      "source": [
        "import glob\n",
        "import numpy as np\n",
        "import pandas as pd\n",
        "from tqdm.notebook import tqdm\n",
        "from typing import Callable, Tuple, List\n",
        "\n",
        "from sklearn.model_selection import train_test_split\n",
        "\n",
        "from tensorflow.keras.utils import get_file\n",
        "import zipfile\n",
        "\n",
        "np.random.seed(777)"
      ],
      "execution_count": 1,
      "outputs": []
    },
    {
      "cell_type": "code",
      "metadata": {
        "id": "sdjqodyYVf9I"
      },
      "source": [
        "def load_data(data_size : str) -> pd.DataFrame:\n",
        "    ''' load Movie Lens data '''\n",
        "\n",
        "    if data_size == '1m':\n",
        "        fname = 'ml-1m.zip'\n",
        "        data = 'ml-1m/ratings.dat'\n",
        "    elif data_size == '10m':\n",
        "        fname = 'ml-10m.zip'\n",
        "        data = 'ml-10M100K/ratings.dat'\n",
        "    elif data_size == '20m':\n",
        "        fname = 'ml-20m.zip'\n",
        "        data = 'ml-20m/ratings.csv'\n",
        "    elif data_size == '25m':\n",
        "        fname = 'ml-25m.zip'\n",
        "        data = 'ml-25m/ratings.csv'\n",
        "    if not glob.glob(data):\n",
        "        origin = f'http://files.grouplens.org/datasets/movielens/{fname}'\n",
        "        file = get_file(fname, origin)\n",
        "        zip_ref = zipfile.ZipFile(file, 'r')\n",
        "        zip_ref.extractall()\n",
        "\n",
        "    col_names = ['user_id', 'movie_id', 'rating', 'timestamp']\n",
        "    if data_size in ['20m', '25m']:\n",
        "        ratings = pd.read_csv(data, names = col_names, engine = 'python')\n",
        "    else:\n",
        "        ratings = pd.read_csv(data, sep = '|', delimiter = '::', names = col_names, engine = 'python')\n",
        "    print(ratings.shape)\n",
        "    return ratings"
      ],
      "execution_count": 2,
      "outputs": []
    },
    {
      "cell_type": "code",
      "metadata": {
        "id": "RZf8Gzf0VhYV",
        "colab": {
          "base_uri": "https://localhost:8080/",
          "height": 213
        },
        "outputId": "d9cbfd43-6c8b-4a10-f65d-691d9105c645"
      },
      "source": [
        "ratings = load_data('1m')\n",
        "ratings.head()"
      ],
      "execution_count": 3,
      "outputs": [
        {
          "output_type": "stream",
          "text": [
            "(1000209, 4)\n"
          ],
          "name": "stdout"
        },
        {
          "output_type": "execute_result",
          "data": {
            "text/html": [
              "<div>\n",
              "<style scoped>\n",
              "    .dataframe tbody tr th:only-of-type {\n",
              "        vertical-align: middle;\n",
              "    }\n",
              "\n",
              "    .dataframe tbody tr th {\n",
              "        vertical-align: top;\n",
              "    }\n",
              "\n",
              "    .dataframe thead th {\n",
              "        text-align: right;\n",
              "    }\n",
              "</style>\n",
              "<table border=\"1\" class=\"dataframe\">\n",
              "  <thead>\n",
              "    <tr style=\"text-align: right;\">\n",
              "      <th></th>\n",
              "      <th>user_id</th>\n",
              "      <th>movie_id</th>\n",
              "      <th>rating</th>\n",
              "      <th>timestamp</th>\n",
              "    </tr>\n",
              "  </thead>\n",
              "  <tbody>\n",
              "    <tr>\n",
              "      <th>0</th>\n",
              "      <td>1</td>\n",
              "      <td>1193</td>\n",
              "      <td>5</td>\n",
              "      <td>978300760</td>\n",
              "    </tr>\n",
              "    <tr>\n",
              "      <th>1</th>\n",
              "      <td>1</td>\n",
              "      <td>661</td>\n",
              "      <td>3</td>\n",
              "      <td>978302109</td>\n",
              "    </tr>\n",
              "    <tr>\n",
              "      <th>2</th>\n",
              "      <td>1</td>\n",
              "      <td>914</td>\n",
              "      <td>3</td>\n",
              "      <td>978301968</td>\n",
              "    </tr>\n",
              "    <tr>\n",
              "      <th>3</th>\n",
              "      <td>1</td>\n",
              "      <td>3408</td>\n",
              "      <td>4</td>\n",
              "      <td>978300275</td>\n",
              "    </tr>\n",
              "    <tr>\n",
              "      <th>4</th>\n",
              "      <td>1</td>\n",
              "      <td>2355</td>\n",
              "      <td>5</td>\n",
              "      <td>978824291</td>\n",
              "    </tr>\n",
              "  </tbody>\n",
              "</table>\n",
              "</div>"
            ],
            "text/plain": [
              "   user_id  movie_id  rating  timestamp\n",
              "0        1      1193       5  978300760\n",
              "1        1       661       3  978302109\n",
              "2        1       914       3  978301968\n",
              "3        1      3408       4  978300275\n",
              "4        1      2355       5  978824291"
            ]
          },
          "metadata": {
            "tags": []
          },
          "execution_count": 3
        }
      ]
    },
    {
      "cell_type": "code",
      "metadata": {
        "id": "Q61otQWA3tFe",
        "colab": {
          "base_uri": "https://localhost:8080/"
        },
        "outputId": "f22b0edd-0e5f-4311-e32a-b6ed2c1ed684"
      },
      "source": [
        "print(f'# of users = {ratings.user_id.nunique()}')\n",
        "print(f'# of items = {ratings.movie_id.nunique()}')"
      ],
      "execution_count": 4,
      "outputs": [
        {
          "output_type": "stream",
          "text": [
            "# of users = 6040\n",
            "# of items = 3706\n"
          ],
          "name": "stdout"
        }
      ]
    },
    {
      "cell_type": "code",
      "metadata": {
        "id": "O9kecujeV2qP"
      },
      "source": [
        "def binarizer(df: pd.DataFrame, threshold = 4) -> pd.DataFrame:\n",
        "    df = df.assign(rating = np.where(df.rating >= threshold, 1, 0))\n",
        "    return df[df.rating > 0.0].reset_index(drop = True)\n",
        "\n",
        "def make_warm(df: pd.DataFrame, threshold = 5) -> pd.DataFrame: # remove cold starters\n",
        "    positive = df.groupby('user_id')['movie_id'].count()\n",
        "    positive = positive.index[positive >= threshold]\n",
        "    return df[df.user_id.isin(positive)].reset_index(drop = True)\n",
        "\n",
        "def train_valid_test_split(df: pd.DataFrame, size: float) -> pd.DataFrame:\n",
        "    train_user, test_user = train_test_split(df.user_id.unique(), test_size = 2 * size, random_state = 777)\n",
        "    valid_user, test_user = train_test_split(test_user, test_size = 0.5, random_state = 777)\n",
        "    train, valid, test = map(lambda x: df[df.user_id.isin(x)], (train_user, valid_user, test_user))\n",
        "    train, valid, test = map(lambda df: df.reset_index(drop = True), (train, valid, test))\n",
        "    return train, valid, test\n",
        "\n",
        "def query_relev_split(df: pd.DataFrame, size: float) -> pd.DataFrame:\n",
        "    timeorder = df.groupby('user_id')['timestamp'].rank(method = 'first', ascending = True)\n",
        "    seen_cnts = df.groupby('user_id')['movie_id'].transform('count')\n",
        "    df = df.assign(seen_cnts = seen_cnts, timeorder = timeorder)\n",
        "    query = df[df.timeorder < df.seen_cnts * (1-size)]\n",
        "    relev = df[df.timeorder >= df.seen_cnts * (1-size)]\n",
        "    relev = relev[relev.user_id.isin(query.user_id.unique())]\n",
        "    query, relev = map(lambda df: df.drop(columns = ['timeorder', 'seen_cnts']), (query, relev))\n",
        "    query, relev = map(lambda df: df.reset_index(drop = True), (query, relev))\n",
        "    return query, relev\n",
        "\n",
        "def list_agg(df: pd.DataFrame) -> pd.DataFrame:\n",
        "    return df.groupby('user_id', as_index = False)[['movie_id']].agg(list)"
      ],
      "execution_count": 5,
      "outputs": []
    },
    {
      "cell_type": "code",
      "metadata": {
        "colab": {
          "base_uri": "https://localhost:8080/",
          "height": 195
        },
        "id": "pNAF90tno0w4",
        "outputId": "7fb453c1-547f-473b-dee3-9d319d60ea71"
      },
      "source": [
        "data = binarizer(ratings)\r\n",
        "data = make_warm(data)\r\n",
        "data.head()"
      ],
      "execution_count": 6,
      "outputs": [
        {
          "output_type": "execute_result",
          "data": {
            "text/html": [
              "<div>\n",
              "<style scoped>\n",
              "    .dataframe tbody tr th:only-of-type {\n",
              "        vertical-align: middle;\n",
              "    }\n",
              "\n",
              "    .dataframe tbody tr th {\n",
              "        vertical-align: top;\n",
              "    }\n",
              "\n",
              "    .dataframe thead th {\n",
              "        text-align: right;\n",
              "    }\n",
              "</style>\n",
              "<table border=\"1\" class=\"dataframe\">\n",
              "  <thead>\n",
              "    <tr style=\"text-align: right;\">\n",
              "      <th></th>\n",
              "      <th>user_id</th>\n",
              "      <th>movie_id</th>\n",
              "      <th>rating</th>\n",
              "      <th>timestamp</th>\n",
              "    </tr>\n",
              "  </thead>\n",
              "  <tbody>\n",
              "    <tr>\n",
              "      <th>0</th>\n",
              "      <td>1</td>\n",
              "      <td>1193</td>\n",
              "      <td>1</td>\n",
              "      <td>978300760</td>\n",
              "    </tr>\n",
              "    <tr>\n",
              "      <th>1</th>\n",
              "      <td>1</td>\n",
              "      <td>3408</td>\n",
              "      <td>1</td>\n",
              "      <td>978300275</td>\n",
              "    </tr>\n",
              "    <tr>\n",
              "      <th>2</th>\n",
              "      <td>1</td>\n",
              "      <td>2355</td>\n",
              "      <td>1</td>\n",
              "      <td>978824291</td>\n",
              "    </tr>\n",
              "    <tr>\n",
              "      <th>3</th>\n",
              "      <td>1</td>\n",
              "      <td>1287</td>\n",
              "      <td>1</td>\n",
              "      <td>978302039</td>\n",
              "    </tr>\n",
              "    <tr>\n",
              "      <th>4</th>\n",
              "      <td>1</td>\n",
              "      <td>2804</td>\n",
              "      <td>1</td>\n",
              "      <td>978300719</td>\n",
              "    </tr>\n",
              "  </tbody>\n",
              "</table>\n",
              "</div>"
            ],
            "text/plain": [
              "   user_id  movie_id  rating  timestamp\n",
              "0        1      1193       1  978300760\n",
              "1        1      3408       1  978300275\n",
              "2        1      2355       1  978824291\n",
              "3        1      1287       1  978302039\n",
              "4        1      2804       1  978300719"
            ]
          },
          "metadata": {
            "tags": []
          },
          "execution_count": 6
        }
      ]
    },
    {
      "cell_type": "code",
      "metadata": {
        "id": "6px0uL8FoxvL"
      },
      "source": [
        "train, _, test = train_valid_test_split(data, size = 0.1)\r\n",
        "test_q, test_r = query_relev_split(test, size = 0.2)"
      ],
      "execution_count": 7,
      "outputs": []
    },
    {
      "cell_type": "code",
      "metadata": {
        "id": "sbOmPzPCsomZ"
      },
      "source": [
        "class POP:\n",
        "\n",
        "    def fit(self, df: pd.DataFrame):\n",
        "        self.pop = df.groupby('movie_id')['rating'].count().sort_values(ascending = False)\n",
        "        \n",
        "    def predict(self, df: pd.DataFrame, N: int) -> pd.DataFrame:\n",
        "        df = list_agg(df)\n",
        "        pop = self.pop[:2*N].index.tolist()\n",
        "        pred = []\n",
        "        for idx in tqdm(df.index):\n",
        "            seen = df.at[idx, 'movie_id']\n",
        "            rec = [item for item in pop if item not in seen]\n",
        "            pred.append({'user_id': df.at[idx, 'user_id'],\n",
        "                         'movie_id': rec})\n",
        "        return pd.DataFrame(pred)"
      ],
      "execution_count": 8,
      "outputs": []
    },
    {
      "cell_type": "code",
      "metadata": {
        "id": "RrOVYuTmE0qp"
      },
      "source": [
        "class evaluate:\n",
        "    def __init__(self, true: pd.DataFrame, pred: pd.DataFrame):\n",
        "        self.true = true\n",
        "        self.pred = pred\n",
        "        self.max_K = 10000\n",
        "        self.idcg = np.cumsum([1.0 / np.log2(i+2) for i in range(self.max_K)])\n",
        "\n",
        "    def _recall(self, gt: List, rec: List, K = None) -> float: # Recall\n",
        "        res = [r for r in rec[:K] if r in gt]\n",
        "        return len(res) / np.min([K, len(gt)])\n",
        "    \n",
        "    def _precision(self, gt: List, rec: List, K = None) -> float: # Precision\n",
        "        res = [r for r in rec[:K] if r in gt]\n",
        "        return len(res) / len(rec[:K])\n",
        "\n",
        "    def _AP(self, gt: List, rec: List, K = None) -> float: # Average Precision\n",
        "        res = 0.0\n",
        "        for i, r in enumerate(rec[:K]):\n",
        "            if r in gt:\n",
        "                res += self._precision(gt, rec[:K], i+1)\n",
        "        return res / np.min([K, len(gt)])\n",
        "\n",
        "    def _HR(self, gt: List, rec: List, K = None) -> float: # Hit Rate\n",
        "        for i, r in enumerate(rec[:K]):\n",
        "            if r in gt:\n",
        "                return  1.0\n",
        "        return 0\n",
        "\n",
        "    def _RR(self, gt: List, rec: List, K = None) -> float: # Reciprocal Rank\n",
        "        for i, r in enumerate(rec[:K]):\n",
        "            if r in gt:\n",
        "                return  1.0 / (i+1)\n",
        "        return 0\n",
        "\n",
        "    def _nDCG(self, gt: List, rec: List, K = None) -> float: # normalized Discounted Cumulative Gain\n",
        "        dcg = 0.0\n",
        "        for i, r in enumerate(rec[:K]):\n",
        "            if r in gt:\n",
        "                dcg += 1.0 / np.log2(i+2)\n",
        "        idcg = self.idcg[min([len(gt), K])-1]\n",
        "        return dcg / idcg\n",
        "\n",
        "    def _get_item(self, rec: List, K = None) -> float:\n",
        "        for r in rec[:K]:\n",
        "            self.uniq_item[r] = self.uniq_item.get(r, 0) + 1\n",
        "\n",
        "    def __call__(self, K = None):\n",
        "        self.K = K if K else self.max_K\n",
        "        self.recall = 0.0\n",
        "        self.precision = 0.0\n",
        "        self.MAP = 0.0\n",
        "        self.HR = 0.0\n",
        "        self.MRR = 0.0\n",
        "        self.nDCG = 0.0\n",
        "        self.uniq_item = {}\n",
        "        n = self.true.index.size\n",
        "        for gt, rec in zip(tqdm(self.true.movie_id), self.pred.movie_id):\n",
        "            self.recall += self._recall(gt, rec, K) / n\n",
        "            self.precision += self._precision(gt, rec, K) / n\n",
        "            self.MAP += self._AP(gt, rec, K) / n\n",
        "            self.HR += self._HR(gt, rec, K) / n\n",
        "            self.MRR += self._RR(gt, rec, K) / n\n",
        "            self.nDCG += self._nDCG(gt, rec, K) / n\n",
        "            self._get_item(rec, K)\n",
        "        self.CO = len(self.uniq_item) / (n*K) # Coverage\n",
        "        self.ED = -np.sum([self.uniq_item[i] * np.log(self.uniq_item[i] / (n*K)) for i in self.uniq_item]) / (n*K) # Entropy-Diversity\n",
        "\n",
        "    def print_all(self):\n",
        "        K = '@' + str(self.K) if self.K else ''\n",
        "        print(f'{\"Recall\":>12}{K} : {self.recall:.5f}',\n",
        "              f'\\n{\"Precision\":>12}{K} : {self.precision:.5f}',\n",
        "              f'\\n{\"MAP\":>12}{K} : {self.MAP:.5f}',\n",
        "              f'\\n{\"HR\":>12}{K} : {self.HR:.5f}', \n",
        "              f'\\n{\"MRR\":>12}{K} : {self.MRR:.5f}',\n",
        "              f'\\n{\"nDCG\":>12}{K} : {self.nDCG:.5f}',\n",
        "              f'\\n{\"CO\":>12}{K} : {self.CO:.5f}',\n",
        "              f'\\n{\"ED\":>12}{K} : {self.ED:.5f}')"
      ],
      "execution_count": 9,
      "outputs": []
    },
    {
      "cell_type": "code",
      "metadata": {
        "id": "bSW4EURlwLiM"
      },
      "source": [
        "model = POP()\n",
        "model.fit(train)"
      ],
      "execution_count": 10,
      "outputs": []
    },
    {
      "cell_type": "code",
      "metadata": {
        "colab": {
          "base_uri": "https://localhost:8080/",
          "height": 195
        },
        "id": "jXsigIsX5Lrg",
        "outputId": "7319311b-35d8-4c78-b52b-1ee700659f11"
      },
      "source": [
        "true = list_agg(test_r)\r\n",
        "true.head(5)"
      ],
      "execution_count": 11,
      "outputs": [
        {
          "output_type": "execute_result",
          "data": {
            "text/html": [
              "<div>\n",
              "<style scoped>\n",
              "    .dataframe tbody tr th:only-of-type {\n",
              "        vertical-align: middle;\n",
              "    }\n",
              "\n",
              "    .dataframe tbody tr th {\n",
              "        vertical-align: top;\n",
              "    }\n",
              "\n",
              "    .dataframe thead th {\n",
              "        text-align: right;\n",
              "    }\n",
              "</style>\n",
              "<table border=\"1\" class=\"dataframe\">\n",
              "  <thead>\n",
              "    <tr style=\"text-align: right;\">\n",
              "      <th></th>\n",
              "      <th>user_id</th>\n",
              "      <th>movie_id</th>\n",
              "    </tr>\n",
              "  </thead>\n",
              "  <tbody>\n",
              "    <tr>\n",
              "      <th>0</th>\n",
              "      <td>3</td>\n",
              "      <td>[1394, 104, 1079, 1259, 2355, 3552, 1304, 2081]</td>\n",
              "    </tr>\n",
              "    <tr>\n",
              "      <th>1</th>\n",
              "      <td>9</td>\n",
              "      <td>[2268, 1682, 2278, 590, 524, 529, 2294, 1921, ...</td>\n",
              "    </tr>\n",
              "    <tr>\n",
              "      <th>2</th>\n",
              "      <td>42</td>\n",
              "      <td>[3421, 3868, 1257, 2997, 2134, 1265, 593, 2143...</td>\n",
              "    </tr>\n",
              "    <tr>\n",
              "      <th>3</th>\n",
              "      <td>79</td>\n",
              "      <td>[3044, 3176, 2686, 2024]</td>\n",
              "    </tr>\n",
              "    <tr>\n",
              "      <th>4</th>\n",
              "      <td>92</td>\n",
              "      <td>[2054, 2134, 733, 592, 2072, 3107, 2162, 1291,...</td>\n",
              "    </tr>\n",
              "  </tbody>\n",
              "</table>\n",
              "</div>"
            ],
            "text/plain": [
              "   user_id                                           movie_id\n",
              "0        3    [1394, 104, 1079, 1259, 2355, 3552, 1304, 2081]\n",
              "1        9  [2268, 1682, 2278, 590, 524, 529, 2294, 1921, ...\n",
              "2       42  [3421, 3868, 1257, 2997, 2134, 1265, 593, 2143...\n",
              "3       79                           [3044, 3176, 2686, 2024]\n",
              "4       92  [2054, 2134, 733, 592, 2072, 3107, 2162, 1291,..."
            ]
          },
          "metadata": {
            "tags": []
          },
          "execution_count": 11
        }
      ]
    },
    {
      "cell_type": "code",
      "metadata": {
        "id": "Ac-ZGpi4wLiP",
        "colab": {
          "base_uri": "https://localhost:8080/",
          "height": 245,
          "referenced_widgets": [
            "5c18e5add67b4fd794b8ef1c4a8cc451",
            "903cde626fdf480a88723ebf8994b45d",
            "36716a066c97442d8148ba8223115afa",
            "dba451d28fe94d9680a243071cda7631",
            "d10733f867cb4203a87572b9b6cb7d8c",
            "352fc08bac4f4415aa2e5d372572fcc5",
            "cb38dc58f55b428f827727f1098fe69d",
            "92ea332ca3794bbfa7229060289b9102"
          ]
        },
        "outputId": "203c761a-cd8d-436d-a0e8-2bd010035389"
      },
      "source": [
        "pred = model.predict(test_q, N = 100)\n",
        "pred.head(5)"
      ],
      "execution_count": 12,
      "outputs": [
        {
          "output_type": "display_data",
          "data": {
            "application/vnd.jupyter.widget-view+json": {
              "model_id": "5c18e5add67b4fd794b8ef1c4a8cc451",
              "version_minor": 0,
              "version_major": 2
            },
            "text/plain": [
              "HBox(children=(FloatProgress(value=0.0, max=604.0), HTML(value='')))"
            ]
          },
          "metadata": {
            "tags": []
          }
        },
        {
          "output_type": "stream",
          "text": [
            "\n"
          ],
          "name": "stdout"
        },
        {
          "output_type": "execute_result",
          "data": {
            "text/html": [
              "<div>\n",
              "<style scoped>\n",
              "    .dataframe tbody tr th:only-of-type {\n",
              "        vertical-align: middle;\n",
              "    }\n",
              "\n",
              "    .dataframe tbody tr th {\n",
              "        vertical-align: top;\n",
              "    }\n",
              "\n",
              "    .dataframe thead th {\n",
              "        text-align: right;\n",
              "    }\n",
              "</style>\n",
              "<table border=\"1\" class=\"dataframe\">\n",
              "  <thead>\n",
              "    <tr style=\"text-align: right;\">\n",
              "      <th></th>\n",
              "      <th>user_id</th>\n",
              "      <th>movie_id</th>\n",
              "    </tr>\n",
              "  </thead>\n",
              "  <tbody>\n",
              "    <tr>\n",
              "      <th>0</th>\n",
              "      <td>3</td>\n",
              "      <td>[2028, 593, 2762, 2571, 608, 527, 318, 589, 85...</td>\n",
              "    </tr>\n",
              "    <tr>\n",
              "      <th>1</th>\n",
              "      <td>9</td>\n",
              "      <td>[260, 1196, 1198, 589, 858, 110, 1270, 1197, 2...</td>\n",
              "    </tr>\n",
              "    <tr>\n",
              "      <th>2</th>\n",
              "      <td>42</td>\n",
              "      <td>[2858, 2028, 593, 2762, 2571, 608, 527, 318, 8...</td>\n",
              "    </tr>\n",
              "    <tr>\n",
              "      <th>3</th>\n",
              "      <td>79</td>\n",
              "      <td>[2858, 260, 1196, 2028, 1198, 593, 2762, 2571,...</td>\n",
              "    </tr>\n",
              "    <tr>\n",
              "      <th>4</th>\n",
              "      <td>92</td>\n",
              "      <td>[2858, 260, 1196, 2028, 1198, 1210, 608, 527, ...</td>\n",
              "    </tr>\n",
              "  </tbody>\n",
              "</table>\n",
              "</div>"
            ],
            "text/plain": [
              "   user_id                                           movie_id\n",
              "0        3  [2028, 593, 2762, 2571, 608, 527, 318, 589, 85...\n",
              "1        9  [260, 1196, 1198, 589, 858, 110, 1270, 1197, 2...\n",
              "2       42  [2858, 2028, 593, 2762, 2571, 608, 527, 318, 8...\n",
              "3       79  [2858, 260, 1196, 2028, 1198, 593, 2762, 2571,...\n",
              "4       92  [2858, 260, 1196, 2028, 1198, 1210, 608, 527, ..."
            ]
          },
          "metadata": {
            "tags": []
          },
          "execution_count": 12
        }
      ]
    },
    {
      "cell_type": "code",
      "metadata": {
        "id": "orsTbtVkwLiR",
        "colab": {
          "base_uri": "https://localhost:8080/",
          "height": 398,
          "referenced_widgets": [
            "dfe5e6fe66564abca1e707b6c5bd1afe",
            "eccabe869fb541579b721fe55f890504",
            "de6924fcdee745e8bca00ed465c5f13a",
            "4744768030914c7fb6fc757db99939e4",
            "89cd85f63ae54fe6b678e0e4efd464ff",
            "96aeb35b6e074201b3201bb0f2d700e8",
            "9a153084b0084607a260c000d0ffd3d1",
            "a298685f3b264329a53b931854220672",
            "dcf4b4f9aa1040f6aa79e4330c2c7c44",
            "8bfd90f66e4044d7abd20a78b40b521b",
            "ff7c0d65d1014927b10e3047256517ea",
            "1e3e9a969f6a4b50996511405cc1e072",
            "7d9729dad6304c64950f06ccff816de5",
            "fe17aaaaca70453d8a890f2c18194fae",
            "459d2f9beddf484ca023c1b75ecc3490",
            "bb4abea81a464ce8a78412336340aee5"
          ]
        },
        "outputId": "388eb005-0f36-4cb4-9b5d-6e5e0ebe82d0"
      },
      "source": [
        "scores = evaluate(true, pred)\n",
        "\n",
        "scores(K = 20)\n",
        "scores.print_all()\n",
        "\n",
        "scores(K = 100)\n",
        "scores.print_all()"
      ],
      "execution_count": 13,
      "outputs": [
        {
          "output_type": "display_data",
          "data": {
            "application/vnd.jupyter.widget-view+json": {
              "model_id": "dfe5e6fe66564abca1e707b6c5bd1afe",
              "version_minor": 0,
              "version_major": 2
            },
            "text/plain": [
              "HBox(children=(FloatProgress(value=0.0, max=604.0), HTML(value='')))"
            ]
          },
          "metadata": {
            "tags": []
          }
        },
        {
          "output_type": "stream",
          "text": [
            "\n",
            "      Recall@20 : 0.10447 \n",
            "   Precision@20 : 0.06507 \n",
            "         MAP@20 : 0.03153 \n",
            "          HR@20 : 0.53146 \n",
            "         MRR@20 : 0.17591 \n",
            "        nDCG@20 : 0.08894 \n",
            "          CO@20 : 0.00654 \n",
            "          ED@20 : 3.67953\n"
          ],
          "name": "stdout"
        },
        {
          "output_type": "display_data",
          "data": {
            "application/vnd.jupyter.widget-view+json": {
              "model_id": "dcf4b4f9aa1040f6aa79e4330c2c7c44",
              "version_minor": 0,
              "version_major": 2
            },
            "text/plain": [
              "HBox(children=(FloatProgress(value=0.0, max=604.0), HTML(value='')))"
            ]
          },
          "metadata": {
            "tags": []
          }
        },
        {
          "output_type": "stream",
          "text": [
            "\n",
            "      Recall@100 : 0.25752 \n",
            "   Precision@100 : 0.04263 \n",
            "         MAP@100 : 0.03831 \n",
            "          HR@100 : 0.80629 \n",
            "         MRR@100 : 0.18304 \n",
            "        nDCG@100 : 0.14827 \n",
            "          CO@100 : 0.00331 \n",
            "          ED@100 : 4.96683\n"
          ],
          "name": "stdout"
        }
      ]
    }
  ]
}