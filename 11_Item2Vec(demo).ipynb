{
  "nbformat": 4,
  "nbformat_minor": 0,
  "metadata": {
    "colab": {
      "name": "11_Item2Vec(demo).ipynb",
      "provenance": [],
      "collapsed_sections": [],
      "authorship_tag": "ABX9TyMnAxumUxNtkhKlQUIahtgW",
      "include_colab_link": true
    },
    "kernelspec": {
      "name": "python3",
      "display_name": "Python 3"
    },
    "accelerator": "GPU",
    "widgets": {
      "application/vnd.jupyter.widget-state+json": {
        "8674ce9564224bd9b21a1df75e963655": {
          "model_module": "@jupyter-widgets/controls",
          "model_name": "HBoxModel",
          "state": {
            "_view_name": "HBoxView",
            "_dom_classes": [],
            "_model_name": "HBoxModel",
            "_view_module": "@jupyter-widgets/controls",
            "_model_module_version": "1.5.0",
            "_view_count": null,
            "_view_module_version": "1.5.0",
            "box_style": "",
            "layout": "IPY_MODEL_b590dddb286b4d4186da44d9aae2875f",
            "_model_module": "@jupyter-widgets/controls",
            "children": [
              "IPY_MODEL_7639ba35ad4e4e85a23ced0228743af2",
              "IPY_MODEL_b176dcda2544402c9f8873da57693be3"
            ]
          }
        },
        "b590dddb286b4d4186da44d9aae2875f": {
          "model_module": "@jupyter-widgets/base",
          "model_name": "LayoutModel",
          "state": {
            "_view_name": "LayoutView",
            "grid_template_rows": null,
            "right": null,
            "justify_content": null,
            "_view_module": "@jupyter-widgets/base",
            "overflow": null,
            "_model_module_version": "1.2.0",
            "_view_count": null,
            "flex_flow": null,
            "width": null,
            "min_width": null,
            "border": null,
            "align_items": null,
            "bottom": null,
            "_model_module": "@jupyter-widgets/base",
            "top": null,
            "grid_column": null,
            "overflow_y": null,
            "overflow_x": null,
            "grid_auto_flow": null,
            "grid_area": null,
            "grid_template_columns": null,
            "flex": null,
            "_model_name": "LayoutModel",
            "justify_items": null,
            "grid_row": null,
            "max_height": null,
            "align_content": null,
            "visibility": null,
            "align_self": null,
            "height": null,
            "min_height": null,
            "padding": null,
            "grid_auto_rows": null,
            "grid_gap": null,
            "max_width": null,
            "order": null,
            "_view_module_version": "1.2.0",
            "grid_template_areas": null,
            "object_position": null,
            "object_fit": null,
            "grid_auto_columns": null,
            "margin": null,
            "display": null,
            "left": null
          }
        },
        "7639ba35ad4e4e85a23ced0228743af2": {
          "model_module": "@jupyter-widgets/controls",
          "model_name": "FloatProgressModel",
          "state": {
            "_view_name": "ProgressView",
            "style": "IPY_MODEL_3a12bb5b319a45d8873414c1b4c2ed02",
            "_dom_classes": [],
            "description": "100%",
            "_model_name": "FloatProgressModel",
            "bar_style": "success",
            "max": 604,
            "_view_module": "@jupyter-widgets/controls",
            "_model_module_version": "1.5.0",
            "value": 604,
            "_view_count": null,
            "_view_module_version": "1.5.0",
            "orientation": "horizontal",
            "min": 0,
            "description_tooltip": null,
            "_model_module": "@jupyter-widgets/controls",
            "layout": "IPY_MODEL_9f66d50cf90a4a56b2111fa7a8ff5f15"
          }
        },
        "b176dcda2544402c9f8873da57693be3": {
          "model_module": "@jupyter-widgets/controls",
          "model_name": "HTMLModel",
          "state": {
            "_view_name": "HTMLView",
            "style": "IPY_MODEL_741b850080b340e7b89f86404016f110",
            "_dom_classes": [],
            "description": "",
            "_model_name": "HTMLModel",
            "placeholder": "​",
            "_view_module": "@jupyter-widgets/controls",
            "_model_module_version": "1.5.0",
            "value": " 604/604 [00:11&lt;00:00, 50.67it/s]",
            "_view_count": null,
            "_view_module_version": "1.5.0",
            "description_tooltip": null,
            "_model_module": "@jupyter-widgets/controls",
            "layout": "IPY_MODEL_80214ef7767341e18be316d81b45fb7b"
          }
        },
        "3a12bb5b319a45d8873414c1b4c2ed02": {
          "model_module": "@jupyter-widgets/controls",
          "model_name": "ProgressStyleModel",
          "state": {
            "_view_name": "StyleView",
            "_model_name": "ProgressStyleModel",
            "description_width": "initial",
            "_view_module": "@jupyter-widgets/base",
            "_model_module_version": "1.5.0",
            "_view_count": null,
            "_view_module_version": "1.2.0",
            "bar_color": null,
            "_model_module": "@jupyter-widgets/controls"
          }
        },
        "9f66d50cf90a4a56b2111fa7a8ff5f15": {
          "model_module": "@jupyter-widgets/base",
          "model_name": "LayoutModel",
          "state": {
            "_view_name": "LayoutView",
            "grid_template_rows": null,
            "right": null,
            "justify_content": null,
            "_view_module": "@jupyter-widgets/base",
            "overflow": null,
            "_model_module_version": "1.2.0",
            "_view_count": null,
            "flex_flow": null,
            "width": null,
            "min_width": null,
            "border": null,
            "align_items": null,
            "bottom": null,
            "_model_module": "@jupyter-widgets/base",
            "top": null,
            "grid_column": null,
            "overflow_y": null,
            "overflow_x": null,
            "grid_auto_flow": null,
            "grid_area": null,
            "grid_template_columns": null,
            "flex": null,
            "_model_name": "LayoutModel",
            "justify_items": null,
            "grid_row": null,
            "max_height": null,
            "align_content": null,
            "visibility": null,
            "align_self": null,
            "height": null,
            "min_height": null,
            "padding": null,
            "grid_auto_rows": null,
            "grid_gap": null,
            "max_width": null,
            "order": null,
            "_view_module_version": "1.2.0",
            "grid_template_areas": null,
            "object_position": null,
            "object_fit": null,
            "grid_auto_columns": null,
            "margin": null,
            "display": null,
            "left": null
          }
        },
        "741b850080b340e7b89f86404016f110": {
          "model_module": "@jupyter-widgets/controls",
          "model_name": "DescriptionStyleModel",
          "state": {
            "_view_name": "StyleView",
            "_model_name": "DescriptionStyleModel",
            "description_width": "",
            "_view_module": "@jupyter-widgets/base",
            "_model_module_version": "1.5.0",
            "_view_count": null,
            "_view_module_version": "1.2.0",
            "_model_module": "@jupyter-widgets/controls"
          }
        },
        "80214ef7767341e18be316d81b45fb7b": {
          "model_module": "@jupyter-widgets/base",
          "model_name": "LayoutModel",
          "state": {
            "_view_name": "LayoutView",
            "grid_template_rows": null,
            "right": null,
            "justify_content": null,
            "_view_module": "@jupyter-widgets/base",
            "overflow": null,
            "_model_module_version": "1.2.0",
            "_view_count": null,
            "flex_flow": null,
            "width": null,
            "min_width": null,
            "border": null,
            "align_items": null,
            "bottom": null,
            "_model_module": "@jupyter-widgets/base",
            "top": null,
            "grid_column": null,
            "overflow_y": null,
            "overflow_x": null,
            "grid_auto_flow": null,
            "grid_area": null,
            "grid_template_columns": null,
            "flex": null,
            "_model_name": "LayoutModel",
            "justify_items": null,
            "grid_row": null,
            "max_height": null,
            "align_content": null,
            "visibility": null,
            "align_self": null,
            "height": null,
            "min_height": null,
            "padding": null,
            "grid_auto_rows": null,
            "grid_gap": null,
            "max_width": null,
            "order": null,
            "_view_module_version": "1.2.0",
            "grid_template_areas": null,
            "object_position": null,
            "object_fit": null,
            "grid_auto_columns": null,
            "margin": null,
            "display": null,
            "left": null
          }
        },
        "e34660bca5ff4220b786fe49a5f3ec4f": {
          "model_module": "@jupyter-widgets/controls",
          "model_name": "HBoxModel",
          "state": {
            "_view_name": "HBoxView",
            "_dom_classes": [],
            "_model_name": "HBoxModel",
            "_view_module": "@jupyter-widgets/controls",
            "_model_module_version": "1.5.0",
            "_view_count": null,
            "_view_module_version": "1.5.0",
            "box_style": "",
            "layout": "IPY_MODEL_9f1ef887a9bc497cb23afd4bb6d03127",
            "_model_module": "@jupyter-widgets/controls",
            "children": [
              "IPY_MODEL_eb07512e737f4d30a96f29f16086fdf5",
              "IPY_MODEL_a3d7c9577ead42699b56f14d0cd27081"
            ]
          }
        },
        "9f1ef887a9bc497cb23afd4bb6d03127": {
          "model_module": "@jupyter-widgets/base",
          "model_name": "LayoutModel",
          "state": {
            "_view_name": "LayoutView",
            "grid_template_rows": null,
            "right": null,
            "justify_content": null,
            "_view_module": "@jupyter-widgets/base",
            "overflow": null,
            "_model_module_version": "1.2.0",
            "_view_count": null,
            "flex_flow": null,
            "width": null,
            "min_width": null,
            "border": null,
            "align_items": null,
            "bottom": null,
            "_model_module": "@jupyter-widgets/base",
            "top": null,
            "grid_column": null,
            "overflow_y": null,
            "overflow_x": null,
            "grid_auto_flow": null,
            "grid_area": null,
            "grid_template_columns": null,
            "flex": null,
            "_model_name": "LayoutModel",
            "justify_items": null,
            "grid_row": null,
            "max_height": null,
            "align_content": null,
            "visibility": null,
            "align_self": null,
            "height": null,
            "min_height": null,
            "padding": null,
            "grid_auto_rows": null,
            "grid_gap": null,
            "max_width": null,
            "order": null,
            "_view_module_version": "1.2.0",
            "grid_template_areas": null,
            "object_position": null,
            "object_fit": null,
            "grid_auto_columns": null,
            "margin": null,
            "display": null,
            "left": null
          }
        },
        "eb07512e737f4d30a96f29f16086fdf5": {
          "model_module": "@jupyter-widgets/controls",
          "model_name": "FloatProgressModel",
          "state": {
            "_view_name": "ProgressView",
            "style": "IPY_MODEL_b44e461511fb45d8bda3197b3be60760",
            "_dom_classes": [],
            "description": "100%",
            "_model_name": "FloatProgressModel",
            "bar_style": "success",
            "max": 604,
            "_view_module": "@jupyter-widgets/controls",
            "_model_module_version": "1.5.0",
            "value": 604,
            "_view_count": null,
            "_view_module_version": "1.5.0",
            "orientation": "horizontal",
            "min": 0,
            "description_tooltip": null,
            "_model_module": "@jupyter-widgets/controls",
            "layout": "IPY_MODEL_445da19148d6452c8e9b6f79cb7bf375"
          }
        },
        "a3d7c9577ead42699b56f14d0cd27081": {
          "model_module": "@jupyter-widgets/controls",
          "model_name": "HTMLModel",
          "state": {
            "_view_name": "HTMLView",
            "style": "IPY_MODEL_c0ad40d5cfb84c4aaffd589cdd4d9b53",
            "_dom_classes": [],
            "description": "",
            "_model_name": "HTMLModel",
            "placeholder": "​",
            "_view_module": "@jupyter-widgets/controls",
            "_model_module_version": "1.5.0",
            "value": " 604/604 [00:11&lt;00:00, 54.86it/s]",
            "_view_count": null,
            "_view_module_version": "1.5.0",
            "description_tooltip": null,
            "_model_module": "@jupyter-widgets/controls",
            "layout": "IPY_MODEL_1cf9e59ad47041fd8789082cb12d6fdd"
          }
        },
        "b44e461511fb45d8bda3197b3be60760": {
          "model_module": "@jupyter-widgets/controls",
          "model_name": "ProgressStyleModel",
          "state": {
            "_view_name": "StyleView",
            "_model_name": "ProgressStyleModel",
            "description_width": "initial",
            "_view_module": "@jupyter-widgets/base",
            "_model_module_version": "1.5.0",
            "_view_count": null,
            "_view_module_version": "1.2.0",
            "bar_color": null,
            "_model_module": "@jupyter-widgets/controls"
          }
        },
        "445da19148d6452c8e9b6f79cb7bf375": {
          "model_module": "@jupyter-widgets/base",
          "model_name": "LayoutModel",
          "state": {
            "_view_name": "LayoutView",
            "grid_template_rows": null,
            "right": null,
            "justify_content": null,
            "_view_module": "@jupyter-widgets/base",
            "overflow": null,
            "_model_module_version": "1.2.0",
            "_view_count": null,
            "flex_flow": null,
            "width": null,
            "min_width": null,
            "border": null,
            "align_items": null,
            "bottom": null,
            "_model_module": "@jupyter-widgets/base",
            "top": null,
            "grid_column": null,
            "overflow_y": null,
            "overflow_x": null,
            "grid_auto_flow": null,
            "grid_area": null,
            "grid_template_columns": null,
            "flex": null,
            "_model_name": "LayoutModel",
            "justify_items": null,
            "grid_row": null,
            "max_height": null,
            "align_content": null,
            "visibility": null,
            "align_self": null,
            "height": null,
            "min_height": null,
            "padding": null,
            "grid_auto_rows": null,
            "grid_gap": null,
            "max_width": null,
            "order": null,
            "_view_module_version": "1.2.0",
            "grid_template_areas": null,
            "object_position": null,
            "object_fit": null,
            "grid_auto_columns": null,
            "margin": null,
            "display": null,
            "left": null
          }
        },
        "c0ad40d5cfb84c4aaffd589cdd4d9b53": {
          "model_module": "@jupyter-widgets/controls",
          "model_name": "DescriptionStyleModel",
          "state": {
            "_view_name": "StyleView",
            "_model_name": "DescriptionStyleModel",
            "description_width": "",
            "_view_module": "@jupyter-widgets/base",
            "_model_module_version": "1.5.0",
            "_view_count": null,
            "_view_module_version": "1.2.0",
            "_model_module": "@jupyter-widgets/controls"
          }
        },
        "1cf9e59ad47041fd8789082cb12d6fdd": {
          "model_module": "@jupyter-widgets/base",
          "model_name": "LayoutModel",
          "state": {
            "_view_name": "LayoutView",
            "grid_template_rows": null,
            "right": null,
            "justify_content": null,
            "_view_module": "@jupyter-widgets/base",
            "overflow": null,
            "_model_module_version": "1.2.0",
            "_view_count": null,
            "flex_flow": null,
            "width": null,
            "min_width": null,
            "border": null,
            "align_items": null,
            "bottom": null,
            "_model_module": "@jupyter-widgets/base",
            "top": null,
            "grid_column": null,
            "overflow_y": null,
            "overflow_x": null,
            "grid_auto_flow": null,
            "grid_area": null,
            "grid_template_columns": null,
            "flex": null,
            "_model_name": "LayoutModel",
            "justify_items": null,
            "grid_row": null,
            "max_height": null,
            "align_content": null,
            "visibility": null,
            "align_self": null,
            "height": null,
            "min_height": null,
            "padding": null,
            "grid_auto_rows": null,
            "grid_gap": null,
            "max_width": null,
            "order": null,
            "_view_module_version": "1.2.0",
            "grid_template_areas": null,
            "object_position": null,
            "object_fit": null,
            "grid_auto_columns": null,
            "margin": null,
            "display": null,
            "left": null
          }
        }
      }
    }
  },
  "cells": [
    {
      "cell_type": "markdown",
      "metadata": {
        "id": "view-in-github",
        "colab_type": "text"
      },
      "source": [
        "<a href=\"https://colab.research.google.com/github/ivoryRabbit/RecSys/blob/master/11_Item2Vec(demo).ipynb\" target=\"_parent\"><img src=\"https://colab.research.google.com/assets/colab-badge.svg\" alt=\"Open In Colab\"/></a>"
      ]
    },
    {
      "cell_type": "markdown",
      "metadata": {
        "id": "viikY8IQdVTY"
      },
      "source": [
        "# Item2Vec\n",
        "\n",
        "- [Item2Vec: Neural Item Embedding for Collaborative Filtering](https://arxiv.org/vc/arxiv/papers/1603/1603.04259v2.pdf)"
      ]
    },
    {
      "cell_type": "code",
      "metadata": {
        "id": "M8FDcw4rVboe"
      },
      "source": [
        "import glob\n",
        "import numpy as np\n",
        "import pandas as pd\n",
        "from typing import Callable, Tuple, List\n",
        "from tqdm.notebook import tqdm\n",
        "\n",
        "import matplotlib.pyplot as plt\n",
        "plt.style.use('ggplot')\n",
        "\n",
        "from sklearn.model_selection import train_test_split\n",
        "from scipy.sparse import csr_matrix\n",
        "\n",
        "import tensorflow as tf\n",
        "import tensorflow.keras.backend as K\n",
        "from tensorflow.keras.layers import Embedding, Dot, Flatten\n",
        "\n",
        "from tensorflow.keras.utils import get_file\n",
        "import zipfile"
      ],
      "execution_count": 301,
      "outputs": []
    },
    {
      "cell_type": "code",
      "metadata": {
        "id": "sdjqodyYVf9I"
      },
      "source": [
        "def load_data(data_size : str) -> pd.DataFrame:\n",
        "    ''' load Movie Lens data '''\n",
        "\n",
        "    if data_size == '1m':\n",
        "        fname = 'ml-1m.zip'\n",
        "        data = 'ml-1m/ratings.dat'\n",
        "    elif data_size == '10m':\n",
        "        fname = 'ml-10m.zip'\n",
        "        data = 'ml-10M100K/ratings.dat'\n",
        "    elif data_size == '20m':\n",
        "        fname = 'ml-20m.zip'\n",
        "        data = 'ml-20m/ratings.csv'\n",
        "    elif data_size == '25m':\n",
        "        fname = 'ml-25m.zip'\n",
        "        data = 'ml-25m/ratings.csv'\n",
        "    if not glob.glob(data):\n",
        "        origin = f'http://files.grouplens.org/datasets/movielens/{fname}'\n",
        "        file = get_file(fname, origin)\n",
        "        zip_ref = zipfile.ZipFile(file, 'r')\n",
        "        zip_ref.extractall()\n",
        "\n",
        "    col_dtypes = {'user_id': np.int32, 'movie_id': np.int32, \n",
        "                  'rating': np.uint8, 'timestamp': np.int32}\n",
        "    col_names = list(col_dtypes.keys())\n",
        "    if data_size in ['20m', '25m']:\n",
        "        ratings = pd.read_csv(\n",
        "            data, names = col_names, dtype = col_dtypes, engine = 'python',\n",
        "            chucksize = 10000\n",
        "        )\n",
        "        \n",
        "    else:\n",
        "        ratings = pd.read_csv(\n",
        "            data, names = col_names, dtype = col_dtypes, engine = 'python',\n",
        "            sep = '|', delimiter = '::'\n",
        "        )\n",
        "    print(ratings.shape)\n",
        "    return ratings"
      ],
      "execution_count": 302,
      "outputs": []
    },
    {
      "cell_type": "code",
      "metadata": {
        "id": "RZf8Gzf0VhYV",
        "colab": {
          "base_uri": "https://localhost:8080/",
          "height": 213
        },
        "outputId": "4a468926-41f6-4563-f98b-84eebdac855d"
      },
      "source": [
        "ratings = load_data('1m')\n",
        "ratings.head()"
      ],
      "execution_count": 303,
      "outputs": [
        {
          "output_type": "stream",
          "text": [
            "(1000209, 4)\n"
          ],
          "name": "stdout"
        },
        {
          "output_type": "execute_result",
          "data": {
            "text/html": [
              "<div>\n",
              "<style scoped>\n",
              "    .dataframe tbody tr th:only-of-type {\n",
              "        vertical-align: middle;\n",
              "    }\n",
              "\n",
              "    .dataframe tbody tr th {\n",
              "        vertical-align: top;\n",
              "    }\n",
              "\n",
              "    .dataframe thead th {\n",
              "        text-align: right;\n",
              "    }\n",
              "</style>\n",
              "<table border=\"1\" class=\"dataframe\">\n",
              "  <thead>\n",
              "    <tr style=\"text-align: right;\">\n",
              "      <th></th>\n",
              "      <th>user_id</th>\n",
              "      <th>movie_id</th>\n",
              "      <th>rating</th>\n",
              "      <th>timestamp</th>\n",
              "    </tr>\n",
              "  </thead>\n",
              "  <tbody>\n",
              "    <tr>\n",
              "      <th>0</th>\n",
              "      <td>1</td>\n",
              "      <td>1193</td>\n",
              "      <td>5</td>\n",
              "      <td>978300760</td>\n",
              "    </tr>\n",
              "    <tr>\n",
              "      <th>1</th>\n",
              "      <td>1</td>\n",
              "      <td>661</td>\n",
              "      <td>3</td>\n",
              "      <td>978302109</td>\n",
              "    </tr>\n",
              "    <tr>\n",
              "      <th>2</th>\n",
              "      <td>1</td>\n",
              "      <td>914</td>\n",
              "      <td>3</td>\n",
              "      <td>978301968</td>\n",
              "    </tr>\n",
              "    <tr>\n",
              "      <th>3</th>\n",
              "      <td>1</td>\n",
              "      <td>3408</td>\n",
              "      <td>4</td>\n",
              "      <td>978300275</td>\n",
              "    </tr>\n",
              "    <tr>\n",
              "      <th>4</th>\n",
              "      <td>1</td>\n",
              "      <td>2355</td>\n",
              "      <td>5</td>\n",
              "      <td>978824291</td>\n",
              "    </tr>\n",
              "  </tbody>\n",
              "</table>\n",
              "</div>"
            ],
            "text/plain": [
              "   user_id  movie_id  rating  timestamp\n",
              "0        1      1193       5  978300760\n",
              "1        1       661       3  978302109\n",
              "2        1       914       3  978301968\n",
              "3        1      3408       4  978300275\n",
              "4        1      2355       5  978824291"
            ]
          },
          "metadata": {
            "tags": []
          },
          "execution_count": 303
        }
      ]
    },
    {
      "cell_type": "code",
      "metadata": {
        "id": "KJ_TaXgGIZlL",
        "colab": {
          "base_uri": "https://localhost:8080/"
        },
        "outputId": "5a19ba14-5303-4cd4-e760-aff82e8c9adc"
      },
      "source": [
        "n_user = ratings.user_id.nunique()\n",
        "print(f'# of users = {n_user}')\n",
        "\n",
        "n_item = ratings.movie_id.nunique()\n",
        "print(f'# of items = {n_item}')"
      ],
      "execution_count": 304,
      "outputs": [
        {
          "output_type": "stream",
          "text": [
            "# of users = 6040\n",
            "# of items = 3706\n"
          ],
          "name": "stdout"
        }
      ]
    },
    {
      "cell_type": "code",
      "metadata": {
        "id": "dmXavvj5IbOY"
      },
      "source": [
        "def binarizer(df: pd.DataFrame, threshold = 4) -> pd.DataFrame:\n",
        "    df = df.assign(rating = np.where(df.rating >= threshold, 1, 0))\n",
        "    return df[df.rating > 0.0].reset_index(drop = True)\n",
        "\n",
        "def make_warm(df: pd.DataFrame, threshold = 5) -> pd.DataFrame: # remove cold starters\n",
        "    positive = df.groupby('user_id')['movie_id'].count()\n",
        "    positive = positive.index[positive >= threshold]\n",
        "    return df[df.user_id.isin(positive)].reset_index(drop = True)\n",
        "\n",
        "def train_valid_test_split(df: pd.DataFrame, size: float) -> pd.DataFrame:\n",
        "    train_user, test_user = train_test_split(df.user_id.unique(), test_size = 2 * size, random_state = 777)\n",
        "    valid_user, test_user = train_test_split(test_user, test_size = 0.5, random_state = 777)\n",
        "    train, valid, test = map(lambda x: df[df.user_id.isin(x)], (train_user, valid_user, test_user))\n",
        "    train, valid, test = map(lambda df: df.reset_index(drop = True), (train, valid, test))\n",
        "    return train, valid, test\n",
        "\n",
        "def query_relev_split(df: pd.DataFrame, size: float) -> pd.DataFrame:\n",
        "    timeorder = df.groupby('user_id')['timestamp'].rank(method = 'first', ascending = True)\n",
        "    seen_cnts = df.groupby('user_id')['movie_id'].transform('count')\n",
        "    df = df.assign(seen_cnts = seen_cnts, timeorder = timeorder)\n",
        "    query = df[df.timeorder < df.seen_cnts * (1-size)]\n",
        "    relev = df[df.timeorder >= df.seen_cnts * (1-size)]\n",
        "    relev = relev[relev.user_id.isin(query.user_id.unique())]\n",
        "    query, relev = map(lambda df: df.drop(columns = ['timeorder', 'seen_cnts']), (query, relev))\n",
        "    query, relev = map(lambda df: df.reset_index(drop = True), (query, relev))\n",
        "    return query, relev\n",
        "\n",
        "def list_agg(df: pd.DataFrame) -> pd.DataFrame:\n",
        "    return df.groupby('user_id', as_index = False)[['movie_id']].agg(list)"
      ],
      "execution_count": 305,
      "outputs": []
    },
    {
      "cell_type": "code",
      "metadata": {
        "colab": {
          "base_uri": "https://localhost:8080/",
          "height": 195
        },
        "id": "FsIgfS2t8Yvl",
        "outputId": "cdb5ea60-1fb2-4760-9af9-fa655f436504"
      },
      "source": [
        "data = binarizer(ratings)\r\n",
        "data = make_warm(data)\r\n",
        "data.head()"
      ],
      "execution_count": 306,
      "outputs": [
        {
          "output_type": "execute_result",
          "data": {
            "text/html": [
              "<div>\n",
              "<style scoped>\n",
              "    .dataframe tbody tr th:only-of-type {\n",
              "        vertical-align: middle;\n",
              "    }\n",
              "\n",
              "    .dataframe tbody tr th {\n",
              "        vertical-align: top;\n",
              "    }\n",
              "\n",
              "    .dataframe thead th {\n",
              "        text-align: right;\n",
              "    }\n",
              "</style>\n",
              "<table border=\"1\" class=\"dataframe\">\n",
              "  <thead>\n",
              "    <tr style=\"text-align: right;\">\n",
              "      <th></th>\n",
              "      <th>user_id</th>\n",
              "      <th>movie_id</th>\n",
              "      <th>rating</th>\n",
              "      <th>timestamp</th>\n",
              "    </tr>\n",
              "  </thead>\n",
              "  <tbody>\n",
              "    <tr>\n",
              "      <th>0</th>\n",
              "      <td>1</td>\n",
              "      <td>1193</td>\n",
              "      <td>1</td>\n",
              "      <td>978300760</td>\n",
              "    </tr>\n",
              "    <tr>\n",
              "      <th>1</th>\n",
              "      <td>1</td>\n",
              "      <td>3408</td>\n",
              "      <td>1</td>\n",
              "      <td>978300275</td>\n",
              "    </tr>\n",
              "    <tr>\n",
              "      <th>2</th>\n",
              "      <td>1</td>\n",
              "      <td>2355</td>\n",
              "      <td>1</td>\n",
              "      <td>978824291</td>\n",
              "    </tr>\n",
              "    <tr>\n",
              "      <th>3</th>\n",
              "      <td>1</td>\n",
              "      <td>1287</td>\n",
              "      <td>1</td>\n",
              "      <td>978302039</td>\n",
              "    </tr>\n",
              "    <tr>\n",
              "      <th>4</th>\n",
              "      <td>1</td>\n",
              "      <td>2804</td>\n",
              "      <td>1</td>\n",
              "      <td>978300719</td>\n",
              "    </tr>\n",
              "  </tbody>\n",
              "</table>\n",
              "</div>"
            ],
            "text/plain": [
              "   user_id  movie_id  rating  timestamp\n",
              "0        1      1193       1  978300760\n",
              "1        1      3408       1  978300275\n",
              "2        1      2355       1  978824291\n",
              "3        1      1287       1  978302039\n",
              "4        1      2804       1  978300719"
            ]
          },
          "metadata": {
            "tags": []
          },
          "execution_count": 306
        }
      ]
    },
    {
      "cell_type": "code",
      "metadata": {
        "id": "ibp0WJAt8bvV"
      },
      "source": [
        "train, _, test = train_valid_test_split(data, size = 0.1)\r\n",
        "test_q, test_r = query_relev_split(test, size = 0.2)"
      ],
      "execution_count": 307,
      "outputs": []
    },
    {
      "cell_type": "code",
      "metadata": {
        "id": "VJWOeCljmcbO"
      },
      "source": [
        "class train_generator:\r\n",
        "    def __init__(self, batch_size, ns):\r\n",
        "        '''\r\n",
        "        ns = the number of negative samples for each positive sample\r\n",
        "        '''\r\n",
        "        self.batch_size = batch_size\r\n",
        "        self.ns = ns\r\n",
        "\r\n",
        "    def __call__(self):\r\n",
        "        BUFFER_SIZE = 10000\r\n",
        "        AUTOTUNE = tf.data.AUTOTUNE\r\n",
        "        dataset = tf.data.Dataset.from_tensor_slices(((self.target, self.context), self.label))\r\n",
        "        dataset = dataset.shuffle(BUFFER_SIZE).batch(self.batch_size, drop_remainder = False)\r\n",
        "        dataset = dataset.cache().prefetch(buffer_size = AUTOTUNE)\r\n",
        "        return dataset\r\n",
        "\r\n",
        "    def encoding(self, df: pd.DataFrame) -> pd.DataFrame:\r\n",
        "        item_list = df.movie_id.unique()\r\n",
        "        self.item2idx_map = {Id: idx for idx, Id in enumerate(item_list)}\r\n",
        "        return df.assign(movie_id = lambda df: df.movie_id.map(self.item2idx_map))\r\n",
        "\r\n",
        "    def get_sampling_dist(self, train):\r\n",
        "        freq = train.movie_id.value_counts()\r\n",
        "        freq = freq.sort_index()\r\n",
        "        pos_dist = np.sqrt(1e-5 / freq).to_numpy()\r\n",
        "        neg_dist = np.power(freq, 3/4).to_numpy()\r\n",
        "        return pos_dist, neg_dist\r\n",
        "\r\n",
        "    def pos_sampling(self, seq, pos_dist):\r\n",
        "        prob = pos_dist[None, seq]\r\n",
        "        prob = np.repeat(prob, len(seq), axis = 0)\r\n",
        "        prob[np.diag_indices(len(seq))] = 0\r\n",
        "        prob = prob / prob.sum(axis = 1)\r\n",
        "        prob = np.cumsum(prob, axis = 1)\r\n",
        "        draw = np.random.rand(len(seq))\r\n",
        "        pos_sample = np.diag(np.apply_along_axis(np.searchsorted, 1, prob, draw))\r\n",
        "        return pos_sample\r\n",
        "\r\n",
        "    def neg_sampling(self, seq, neg_dist):\r\n",
        "        mask = np.ones(neg_dist.size, dtype = bool)\r\n",
        "        mask[seq] = False\r\n",
        "        prob = neg_dist[mask]\r\n",
        "        prob = prob / prob.sum(axis = 0)\r\n",
        "        prob = np.cumsum(prob, axis = 0)\r\n",
        "        draw = np.random.rand(len(seq), self.ns)\r\n",
        "        neg_sample = np.searchsorted(prob, draw)\r\n",
        "        return neg_sample\r\n",
        "\r\n",
        "    def fit(self, train):\r\n",
        "        self.train = self.encoding(train)\r\n",
        "        pos_dist, neg_dist = self.get_sampling_dist(self.train)\r\n",
        "        item_list = list_agg(self.train).movie_id\r\n",
        "        pos = item_list.apply(lambda x: self.pos_sampling(x, pos_dist)).explode()\r\n",
        "        neg = item_list.apply(lambda x: self.neg_sampling(x, neg_dist)).explode()\r\n",
        "        self.target = self.train.movie_id.to_numpy()\r\n",
        "        self.context = np.vstack(pos + neg).astype(int)\r\n",
        "        self.label = np.zeros(shape = self.context.shape, dtype = np.uint8)\r\n",
        "        self.label[:, 0] = 1"
      ],
      "execution_count": 308,
      "outputs": []
    },
    {
      "cell_type": "code",
      "metadata": {
        "id": "nl56IKtD0R9F"
      },
      "source": [
        "class Word2Vec(tf.keras.Model):\r\n",
        "    def __init__(self, n_item, latent_dim, ns):\r\n",
        "        super(Word2Vec, self).__init__()\r\n",
        "        self.embedding_layer = Embedding(n_item, latent_dim, name = 'item_embedding')\r\n",
        "        self.dot = Dot(axes = (2, 2))\r\n",
        "        self.flatten = Flatten()\r\n",
        "\r\n",
        "    def call(self, data):\r\n",
        "        targ, cont = data\r\n",
        "        e_t = self.embedding_layer(targ)\r\n",
        "        e_c = self.embedding_layer(cont)\r\n",
        "        s = self.dot([e_t, e_c])\r\n",
        "        return self.flatten(s)"
      ],
      "execution_count": 309,
      "outputs": []
    },
    {
      "cell_type": "code",
      "metadata": {
        "id": "Knp8JmylQENA"
      },
      "source": [
        "def custom_loss(y_true, x_logit):\r\n",
        "    ce_logit = tf.nn.softmax_cross_entropy_with_logits(logits = x_logit, labels = y_true)\r\n",
        "    return tf.reduce_sum(ce_logit)"
      ],
      "execution_count": 310,
      "outputs": []
    },
    {
      "cell_type": "code",
      "metadata": {
        "id": "02pf8YNZuI2z"
      },
      "source": [
        "ns = 5\r\n",
        "batch_size = 512\r\n",
        "\r\n",
        "train_gen = train_generator(batch_size, ns)\r\n",
        "train_gen.fit(train)\r\n",
        "\r\n",
        "train_data = train_gen()"
      ],
      "execution_count": 311,
      "outputs": []
    },
    {
      "cell_type": "code",
      "metadata": {
        "id": "m7mFHt0y0R5L"
      },
      "source": [
        "latent_dim = 500\r\n",
        "\r\n",
        "model = Word2Vec(n_item, latent_dim, ns)\r\n",
        "model.compile(optimizer = 'adam', loss = custom_loss, metrics = ['accuracy'])"
      ],
      "execution_count": 312,
      "outputs": []
    },
    {
      "cell_type": "code",
      "metadata": {
        "colab": {
          "base_uri": "https://localhost:8080/"
        },
        "id": "9juV1mceRBNf",
        "outputId": "5c68bc9f-0a53-4944-faad-652d5105f688"
      },
      "source": [
        "model.fit(train_data, epochs = 50)"
      ],
      "execution_count": 313,
      "outputs": [
        {
          "output_type": "stream",
          "text": [
            "Epoch 1/50\n",
            "904/904 [==============================] - 21s 22ms/step - loss: 824.2238 - accuracy: 0.2010\n",
            "Epoch 2/50\n",
            "904/904 [==============================] - 19s 21ms/step - loss: 796.6110 - accuracy: 0.4346\n",
            "Epoch 3/50\n",
            "904/904 [==============================] - 19s 22ms/step - loss: 729.1212 - accuracy: 0.4989\n",
            "Epoch 4/50\n",
            "904/904 [==============================] - 19s 21ms/step - loss: 652.7941 - accuracy: 0.5540\n",
            "Epoch 5/50\n",
            "904/904 [==============================] - 19s 21ms/step - loss: 592.6048 - accuracy: 0.5953\n",
            "Epoch 6/50\n",
            "904/904 [==============================] - 19s 21ms/step - loss: 546.9711 - accuracy: 0.6271\n",
            "Epoch 7/50\n",
            "904/904 [==============================] - 19s 21ms/step - loss: 511.1798 - accuracy: 0.6521\n",
            "Epoch 8/50\n",
            "904/904 [==============================] - 19s 21ms/step - loss: 482.0887 - accuracy: 0.6733\n",
            "Epoch 9/50\n",
            "904/904 [==============================] - 19s 21ms/step - loss: 457.8006 - accuracy: 0.6910\n",
            "Epoch 10/50\n",
            "904/904 [==============================] - 19s 22ms/step - loss: 437.1258 - accuracy: 0.7061\n",
            "Epoch 11/50\n",
            "904/904 [==============================] - 20s 22ms/step - loss: 419.2758 - accuracy: 0.7187\n",
            "Epoch 12/50\n",
            "904/904 [==============================] - 20s 22ms/step - loss: 403.6997 - accuracy: 0.7299\n",
            "Epoch 13/50\n",
            "904/904 [==============================] - 19s 21ms/step - loss: 389.9970 - accuracy: 0.7399\n",
            "Epoch 14/50\n",
            "904/904 [==============================] - 19s 21ms/step - loss: 377.8648 - accuracy: 0.7482\n",
            "Epoch 15/50\n",
            "904/904 [==============================] - 19s 21ms/step - loss: 367.0667 - accuracy: 0.7559\n",
            "Epoch 16/50\n",
            "904/904 [==============================] - 19s 21ms/step - loss: 357.4127 - accuracy: 0.7625\n",
            "Epoch 17/50\n",
            "904/904 [==============================] - 19s 22ms/step - loss: 348.7472 - accuracy: 0.7683\n",
            "Epoch 18/50\n",
            "904/904 [==============================] - 19s 21ms/step - loss: 340.9403 - accuracy: 0.7741\n",
            "Epoch 19/50\n",
            "904/904 [==============================] - 19s 21ms/step - loss: 333.8828 - accuracy: 0.7786\n",
            "Epoch 20/50\n",
            "904/904 [==============================] - 19s 21ms/step - loss: 327.4829 - accuracy: 0.7829\n",
            "Epoch 21/50\n",
            "904/904 [==============================] - 19s 21ms/step - loss: 321.6630 - accuracy: 0.7866\n",
            "Epoch 22/50\n",
            "904/904 [==============================] - 19s 21ms/step - loss: 316.3547 - accuracy: 0.7898\n",
            "Epoch 23/50\n",
            "904/904 [==============================] - 19s 21ms/step - loss: 311.4980 - accuracy: 0.7930\n",
            "Epoch 24/50\n",
            "904/904 [==============================] - 19s 21ms/step - loss: 307.0414 - accuracy: 0.7957\n",
            "Epoch 25/50\n",
            "904/904 [==============================] - 19s 21ms/step - loss: 302.9409 - accuracy: 0.7982\n",
            "Epoch 26/50\n",
            "904/904 [==============================] - 19s 21ms/step - loss: 299.1567 - accuracy: 0.8003\n",
            "Epoch 27/50\n",
            "904/904 [==============================] - 19s 21ms/step - loss: 295.6561 - accuracy: 0.8025\n",
            "Epoch 28/50\n",
            "904/904 [==============================] - 19s 21ms/step - loss: 292.4105 - accuracy: 0.8044\n",
            "Epoch 29/50\n",
            "904/904 [==============================] - 19s 21ms/step - loss: 289.3963 - accuracy: 0.8062\n",
            "Epoch 30/50\n",
            "904/904 [==============================] - 19s 21ms/step - loss: 286.5919 - accuracy: 0.8077\n",
            "Epoch 31/50\n",
            "904/904 [==============================] - 19s 21ms/step - loss: 283.9758 - accuracy: 0.8090\n",
            "Epoch 32/50\n",
            "904/904 [==============================] - 19s 20ms/step - loss: 281.5282 - accuracy: 0.8105\n",
            "Epoch 33/50\n",
            "904/904 [==============================] - 19s 21ms/step - loss: 279.2324 - accuracy: 0.8118\n",
            "Epoch 34/50\n",
            "904/904 [==============================] - 19s 21ms/step - loss: 277.0753 - accuracy: 0.8128\n",
            "Epoch 35/50\n",
            "904/904 [==============================] - 19s 21ms/step - loss: 275.0460 - accuracy: 0.8139\n",
            "Epoch 36/50\n",
            "904/904 [==============================] - 19s 21ms/step - loss: 273.1356 - accuracy: 0.8150\n",
            "Epoch 37/50\n",
            "904/904 [==============================] - 19s 21ms/step - loss: 271.3352 - accuracy: 0.8158\n",
            "Epoch 38/50\n",
            "904/904 [==============================] - 19s 21ms/step - loss: 269.6349 - accuracy: 0.8166\n",
            "Epoch 39/50\n",
            "904/904 [==============================] - 19s 21ms/step - loss: 268.0267 - accuracy: 0.8174\n",
            "Epoch 40/50\n",
            "904/904 [==============================] - 19s 21ms/step - loss: 266.5032 - accuracy: 0.8182\n",
            "Epoch 41/50\n",
            "904/904 [==============================] - 19s 21ms/step - loss: 265.0580 - accuracy: 0.8188\n",
            "Epoch 42/50\n",
            "904/904 [==============================] - 19s 21ms/step - loss: 263.6846 - accuracy: 0.8196\n",
            "Epoch 43/50\n",
            "904/904 [==============================] - 19s 21ms/step - loss: 262.3783 - accuracy: 0.8203\n",
            "Epoch 44/50\n",
            "904/904 [==============================] - 19s 21ms/step - loss: 261.1343 - accuracy: 0.8211\n",
            "Epoch 45/50\n",
            "904/904 [==============================] - 19s 21ms/step - loss: 259.9490 - accuracy: 0.8217\n",
            "Epoch 46/50\n",
            "904/904 [==============================] - 19s 21ms/step - loss: 258.8190 - accuracy: 0.8223\n",
            "Epoch 47/50\n",
            "904/904 [==============================] - 19s 21ms/step - loss: 257.7399 - accuracy: 0.8229\n",
            "Epoch 48/50\n",
            "904/904 [==============================] - 19s 21ms/step - loss: 256.7081 - accuracy: 0.8233\n",
            "Epoch 49/50\n",
            "904/904 [==============================] - 19s 21ms/step - loss: 255.7210 - accuracy: 0.8237\n",
            "Epoch 50/50\n",
            "904/904 [==============================] - 19s 20ms/step - loss: 254.7760 - accuracy: 0.8242\n"
          ],
          "name": "stdout"
        },
        {
          "output_type": "execute_result",
          "data": {
            "text/plain": [
              "<tensorflow.python.keras.callbacks.History at 0x7fd6d70d3198>"
            ]
          },
          "metadata": {
            "tags": []
          },
          "execution_count": 313
        }
      ]
    },
    {
      "cell_type": "code",
      "metadata": {
        "id": "i1z8ec170Pef"
      },
      "source": [
        "weight = model.get_layer(name = 'item_embedding').get_weights()[0]"
      ],
      "execution_count": 314,
      "outputs": []
    },
    {
      "cell_type": "code",
      "metadata": {
        "colab": {
          "base_uri": "https://localhost:8080/",
          "height": 195
        },
        "id": "d82NVGVfw3-F",
        "outputId": "e234b4f7-e3c0-4577-f33e-5d0e12dece0b"
      },
      "source": [
        "t = train_gen.train\r\n",
        "t = list_agg(t)\r\n",
        "t.head(5)"
      ],
      "execution_count": 315,
      "outputs": [
        {
          "output_type": "execute_result",
          "data": {
            "text/html": [
              "<div>\n",
              "<style scoped>\n",
              "    .dataframe tbody tr th:only-of-type {\n",
              "        vertical-align: middle;\n",
              "    }\n",
              "\n",
              "    .dataframe tbody tr th {\n",
              "        vertical-align: top;\n",
              "    }\n",
              "\n",
              "    .dataframe thead th {\n",
              "        text-align: right;\n",
              "    }\n",
              "</style>\n",
              "<table border=\"1\" class=\"dataframe\">\n",
              "  <thead>\n",
              "    <tr style=\"text-align: right;\">\n",
              "      <th></th>\n",
              "      <th>user_id</th>\n",
              "      <th>movie_id</th>\n",
              "    </tr>\n",
              "  </thead>\n",
              "  <tbody>\n",
              "    <tr>\n",
              "      <th>0</th>\n",
              "      <td>1</td>\n",
              "      <td>[0, 1, 2, 3, 4, 5, 6, 7, 8, 9, 10, 11, 12, 13,...</td>\n",
              "    </tr>\n",
              "    <tr>\n",
              "      <th>1</th>\n",
              "      <td>2</td>\n",
              "      <td>[45, 46, 47, 48, 49, 50, 51, 52, 53, 54, 14, 5...</td>\n",
              "    </tr>\n",
              "    <tr>\n",
              "      <th>2</th>\n",
              "      <td>4</td>\n",
              "      <td>[51, 112, 113, 114, 36, 40, 77, 86, 91, 19, 10...</td>\n",
              "    </tr>\n",
              "    <tr>\n",
              "      <th>3</th>\n",
              "      <td>6</td>\n",
              "      <td>[121, 122, 123, 124, 125, 11, 53, 126, 127, 12...</td>\n",
              "    </tr>\n",
              "    <tr>\n",
              "      <th>4</th>\n",
              "      <td>7</td>\n",
              "      <td>[49, 158, 159, 56, 69, 160, 161, 162, 81, 84, ...</td>\n",
              "    </tr>\n",
              "  </tbody>\n",
              "</table>\n",
              "</div>"
            ],
            "text/plain": [
              "   user_id                                           movie_id\n",
              "0        1  [0, 1, 2, 3, 4, 5, 6, 7, 8, 9, 10, 11, 12, 13,...\n",
              "1        2  [45, 46, 47, 48, 49, 50, 51, 52, 53, 54, 14, 5...\n",
              "2        4  [51, 112, 113, 114, 36, 40, 77, 86, 91, 19, 10...\n",
              "3        6  [121, 122, 123, 124, 125, 11, 53, 126, 127, 12...\n",
              "4        7  [49, 158, 159, 56, 69, 160, 161, 162, 81, 84, ..."
            ]
          },
          "metadata": {
            "tags": []
          },
          "execution_count": 315
        }
      ]
    },
    {
      "cell_type": "code",
      "metadata": {
        "colab": {
          "base_uri": "https://localhost:8080/",
          "height": 195
        },
        "id": "P4tM8fNmkaU_",
        "outputId": "01ff1902-b5dd-4517-9f3b-e5cb3e95f8b1"
      },
      "source": [
        "q = test_q[['user_id', 'movie_id']]\r\n",
        "q = q.assign(movie_id = test_q.movie_id.map(train_gen.item2idx_map))\r\n",
        "q = q.dropna().astype(int)\r\n",
        "q = list_agg(q)\r\n",
        "q.head(5)"
      ],
      "execution_count": 316,
      "outputs": [
        {
          "output_type": "execute_result",
          "data": {
            "text/html": [
              "<div>\n",
              "<style scoped>\n",
              "    .dataframe tbody tr th:only-of-type {\n",
              "        vertical-align: middle;\n",
              "    }\n",
              "\n",
              "    .dataframe tbody tr th {\n",
              "        vertical-align: top;\n",
              "    }\n",
              "\n",
              "    .dataframe thead th {\n",
              "        text-align: right;\n",
              "    }\n",
              "</style>\n",
              "<table border=\"1\" class=\"dataframe\">\n",
              "  <thead>\n",
              "    <tr style=\"text-align: right;\">\n",
              "      <th></th>\n",
              "      <th>user_id</th>\n",
              "      <th>movie_id</th>\n",
              "    </tr>\n",
              "  </thead>\n",
              "  <tbody>\n",
              "    <tr>\n",
              "      <th>0</th>\n",
              "      <td>3</td>\n",
              "      <td>[1303, 1610, 52, 1737, 286, 1027, 453, 36, 73,...</td>\n",
              "    </tr>\n",
              "    <tr>\n",
              "      <th>1</th>\n",
              "      <td>9</td>\n",
              "      <td>[171, 312, 314, 547, 61, 369, 318, 952, 32, 73...</td>\n",
              "    </tr>\n",
              "    <tr>\n",
              "      <th>2</th>\n",
              "      <td>42</td>\n",
              "      <td>[49, 417, 312, 313, 419, 69, 160, 84, 231, 86,...</td>\n",
              "    </tr>\n",
              "    <tr>\n",
              "      <th>3</th>\n",
              "      <td>79</td>\n",
              "      <td>[312, 902, 369, 1107, 1108, 833, 322, 328, 122...</td>\n",
              "    </tr>\n",
              "    <tr>\n",
              "      <th>4</th>\n",
              "      <td>92</td>\n",
              "      <td>[414, 1721, 1462, 25, 32, 423, 231, 87, 7, 429...</td>\n",
              "    </tr>\n",
              "  </tbody>\n",
              "</table>\n",
              "</div>"
            ],
            "text/plain": [
              "   user_id                                           movie_id\n",
              "0        3  [1303, 1610, 52, 1737, 286, 1027, 453, 36, 73,...\n",
              "1        9  [171, 312, 314, 547, 61, 369, 318, 952, 32, 73...\n",
              "2       42  [49, 417, 312, 313, 419, 69, 160, 84, 231, 86,...\n",
              "3       79  [312, 902, 369, 1107, 1108, 833, 322, 328, 122...\n",
              "4       92  [414, 1721, 1462, 25, 32, 423, 231, 87, 7, 429..."
            ]
          },
          "metadata": {
            "tags": []
          },
          "execution_count": 316
        }
      ]
    },
    {
      "cell_type": "code",
      "metadata": {
        "id": "cE1Ea1culD9b"
      },
      "source": [
        "def get_user_embedding(movie_list, weight):\r\n",
        "    return np.mean(weight[movie_list], axis = 0)"
      ],
      "execution_count": 317,
      "outputs": []
    },
    {
      "cell_type": "code",
      "metadata": {
        "id": "7WinQKuZlgYl"
      },
      "source": [
        "train_user_embedding = np.vstack(t.movie_id.apply(lambda x: get_user_embedding(x, weight)))\r\n",
        "test_user_embedding = np.vstack(q.movie_id.apply(lambda x: get_user_embedding(x, weight)))"
      ],
      "execution_count": 318,
      "outputs": []
    },
    {
      "cell_type": "code",
      "metadata": {
        "id": "lSJAUipP0_FH"
      },
      "source": [
        "sim = np.matmul(test_user_embedding, train_user_embedding.T)\r\n",
        "nn = np.argsort(sim, axis = 1)[:, ::-1][:, :200]"
      ],
      "execution_count": 319,
      "outputs": []
    },
    {
      "cell_type": "code",
      "metadata": {
        "id": "WdBZyUq-5iYd"
      },
      "source": [
        "f = lambda x: pd.value_counts(np.hstack(t.movie_id[x])).index[:200]\r\n",
        "cands = np.apply_along_axis(f, 1, nn)"
      ],
      "execution_count": 320,
      "outputs": []
    },
    {
      "cell_type": "code",
      "metadata": {
        "id": "-8kAYLBF9EKO"
      },
      "source": [
        "top_k = lambda cand, seen: cand[~np.isin(cand, seen)][:100]\r\n",
        "pred = [top_k(cand, seen) for cand, seen in zip(cands, q.movie_id)]"
      ],
      "execution_count": 321,
      "outputs": []
    },
    {
      "cell_type": "code",
      "metadata": {
        "id": "NPQ58owJ_yVx"
      },
      "source": [
        "idx2item_map = {idx: Id for idx, Id in enumerate(train_gen.item2idx_map)}\r\n",
        "pred = pd.DataFrame({'user_id': q.user_id, 'movie_id': pred})\r\n",
        "pred = pred.assign(movie_id = pred.movie_id.apply(lambda x: [idx2item_map[y] for y in x]))"
      ],
      "execution_count": 322,
      "outputs": []
    },
    {
      "cell_type": "code",
      "metadata": {
        "id": "RzFy7tn4LUN4"
      },
      "source": [
        "class evaluate:\r\n",
        "    def __init__(self, true: pd.DataFrame, pred: pd.DataFrame):\r\n",
        "        self.true = true\r\n",
        "        self.pred = pred\r\n",
        "        self.max_K = 10000\r\n",
        "        self.idcg = np.cumsum([1.0 / np.log2(i+2) for i in range(self.max_K)])\r\n",
        "\r\n",
        "    def _recall(self, gt: List, rec: List, K = None) -> float: # Recall\r\n",
        "        res = [r for r in rec[:K] if r in gt]\r\n",
        "        return len(res) / np.min([K, len(gt)])\r\n",
        "    \r\n",
        "    def _precision(self, gt: List, rec: List, K = None) -> float: # Precision\r\n",
        "        res = [r for r in rec[:K] if r in gt]\r\n",
        "        return len(res) / len(rec[:K])\r\n",
        "\r\n",
        "    def _AP(self, gt: List, rec: List, K = None) -> float: # Average Precision\r\n",
        "        res = 0.0\r\n",
        "        for i, r in enumerate(rec[:K]):\r\n",
        "            if r in gt:\r\n",
        "                res += self._precision(gt, rec[:K], i+1)\r\n",
        "        return res / np.min([K, len(gt)])\r\n",
        "\r\n",
        "    def _HR(self, gt: List, rec: List, K = None) -> float: # Hit Rate\r\n",
        "        for i, r in enumerate(rec[:K]):\r\n",
        "            if r in gt:\r\n",
        "                return  1.0\r\n",
        "        return 0\r\n",
        "\r\n",
        "    def _RR(self, gt: List, rec: List, K = None) -> float: # Reciprocal Rank\r\n",
        "        for i, r in enumerate(rec[:K]):\r\n",
        "            if r in gt:\r\n",
        "                return  1.0 / (i+1)\r\n",
        "        return 0\r\n",
        "\r\n",
        "    def _nDCG(self, gt: List, rec: List, K = None) -> float: # normalized Discounted Cumulative Gain\r\n",
        "        dcg = 0.0\r\n",
        "        for i, r in enumerate(rec[:K]):\r\n",
        "            if r in gt:\r\n",
        "                dcg += 1.0 / np.log2(i+2)\r\n",
        "        idcg = self.idcg[min([len(gt), K])-1]\r\n",
        "        return dcg / idcg\r\n",
        "\r\n",
        "    def _get_item(self, rec: List, K = None) -> float:\r\n",
        "        for r in rec[:K]:\r\n",
        "            self.uniq_item[r] = self.uniq_item.get(r, 0) + 1\r\n",
        "\r\n",
        "    def __call__(self, K = None):\r\n",
        "        self.K = K if K else self.max_K\r\n",
        "        self.recall = 0.0\r\n",
        "        self.precision = 0.0\r\n",
        "        self.MAP = 0.0\r\n",
        "        self.HR = 0.0\r\n",
        "        self.MRR = 0.0\r\n",
        "        self.nDCG = 0.0\r\n",
        "        self.uniq_item = {}\r\n",
        "        n = self.true.index.size\r\n",
        "        for gt, rec in zip(tqdm(self.true.movie_id), self.pred.movie_id):\r\n",
        "            self.recall += self._recall(gt, rec, K) / n\r\n",
        "            self.precision += self._precision(gt, rec, K) / n\r\n",
        "            self.MAP += self._AP(gt, rec, K) / n\r\n",
        "            self.HR += self._HR(gt, rec, K) / n\r\n",
        "            self.MRR += self._RR(gt, rec, K) / n\r\n",
        "            self.nDCG += self._nDCG(gt, rec, K) / n\r\n",
        "            self._get_item(rec, K)\r\n",
        "        self.CO = len(self.uniq_item) / (n*K) # Coverage\r\n",
        "        self.ED = -np.sum([self.uniq_item[i] * np.log(self.uniq_item[i] / (n*K)) for i in self.uniq_item]) / (n*K) # Entropy-Diversity\r\n",
        "\r\n",
        "    def print_all(self):\r\n",
        "        K = '@' + str(self.K) if self.K else ''\r\n",
        "        print(f'{\"Recall\":>12}{K} : {self.recall:.5f}',\r\n",
        "              f'\\n{\"Precision\":>12}{K} : {self.precision:.5f}',\r\n",
        "              f'\\n{\"MAP\":>12}{K} : {self.MAP:.5f}',\r\n",
        "              f'\\n{\"HR\":>12}{K} : {self.HR:.5f}', \r\n",
        "              f'\\n{\"MRR\":>12}{K} : {self.MRR:.5f}',\r\n",
        "              f'\\n{\"nDCG\":>12}{K} : {self.nDCG:.5f}',\r\n",
        "              f'\\n{\"CO\":>12}{K} : {self.CO:.5f}',\r\n",
        "              f'\\n{\"ED\":>12}{K} : {self.ED:.5f}')"
      ],
      "execution_count": 323,
      "outputs": []
    },
    {
      "cell_type": "code",
      "metadata": {
        "colab": {
          "base_uri": "https://localhost:8080/",
          "height": 195
        },
        "id": "X383iC_a999N",
        "outputId": "4d81e5f4-3ef2-4194-c9b3-23363f9553a6"
      },
      "source": [
        "true = list_agg(test_r)\r\n",
        "true.head(5)"
      ],
      "execution_count": 324,
      "outputs": [
        {
          "output_type": "execute_result",
          "data": {
            "text/html": [
              "<div>\n",
              "<style scoped>\n",
              "    .dataframe tbody tr th:only-of-type {\n",
              "        vertical-align: middle;\n",
              "    }\n",
              "\n",
              "    .dataframe tbody tr th {\n",
              "        vertical-align: top;\n",
              "    }\n",
              "\n",
              "    .dataframe thead th {\n",
              "        text-align: right;\n",
              "    }\n",
              "</style>\n",
              "<table border=\"1\" class=\"dataframe\">\n",
              "  <thead>\n",
              "    <tr style=\"text-align: right;\">\n",
              "      <th></th>\n",
              "      <th>user_id</th>\n",
              "      <th>movie_id</th>\n",
              "    </tr>\n",
              "  </thead>\n",
              "  <tbody>\n",
              "    <tr>\n",
              "      <th>0</th>\n",
              "      <td>3</td>\n",
              "      <td>[1394, 104, 1079, 1259, 2355, 3552, 1304, 2081]</td>\n",
              "    </tr>\n",
              "    <tr>\n",
              "      <th>1</th>\n",
              "      <td>9</td>\n",
              "      <td>[2268, 1682, 2278, 590, 524, 529, 2294, 1921, ...</td>\n",
              "    </tr>\n",
              "    <tr>\n",
              "      <th>2</th>\n",
              "      <td>42</td>\n",
              "      <td>[3421, 3868, 1257, 2997, 2134, 1265, 593, 2143...</td>\n",
              "    </tr>\n",
              "    <tr>\n",
              "      <th>3</th>\n",
              "      <td>79</td>\n",
              "      <td>[3044, 3176, 2686, 2024]</td>\n",
              "    </tr>\n",
              "    <tr>\n",
              "      <th>4</th>\n",
              "      <td>92</td>\n",
              "      <td>[2054, 2134, 733, 592, 2072, 3107, 2162, 1291,...</td>\n",
              "    </tr>\n",
              "  </tbody>\n",
              "</table>\n",
              "</div>"
            ],
            "text/plain": [
              "   user_id                                           movie_id\n",
              "0        3    [1394, 104, 1079, 1259, 2355, 3552, 1304, 2081]\n",
              "1        9  [2268, 1682, 2278, 590, 524, 529, 2294, 1921, ...\n",
              "2       42  [3421, 3868, 1257, 2997, 2134, 1265, 593, 2143...\n",
              "3       79                           [3044, 3176, 2686, 2024]\n",
              "4       92  [2054, 2134, 733, 592, 2072, 3107, 2162, 1291,..."
            ]
          },
          "metadata": {
            "tags": []
          },
          "execution_count": 324
        }
      ]
    },
    {
      "cell_type": "code",
      "metadata": {
        "colab": {
          "base_uri": "https://localhost:8080/",
          "height": 195
        },
        "id": "RRx4dF1P0c5L",
        "outputId": "532e0f52-d620-4d50-8596-908f0c083275"
      },
      "source": [
        "pred.head(5)"
      ],
      "execution_count": 325,
      "outputs": [
        {
          "output_type": "execute_result",
          "data": {
            "text/html": [
              "<div>\n",
              "<style scoped>\n",
              "    .dataframe tbody tr th:only-of-type {\n",
              "        vertical-align: middle;\n",
              "    }\n",
              "\n",
              "    .dataframe tbody tr th {\n",
              "        vertical-align: top;\n",
              "    }\n",
              "\n",
              "    .dataframe thead th {\n",
              "        text-align: right;\n",
              "    }\n",
              "</style>\n",
              "<table border=\"1\" class=\"dataframe\">\n",
              "  <thead>\n",
              "    <tr style=\"text-align: right;\">\n",
              "      <th></th>\n",
              "      <th>user_id</th>\n",
              "      <th>movie_id</th>\n",
              "    </tr>\n",
              "  </thead>\n",
              "  <tbody>\n",
              "    <tr>\n",
              "      <th>0</th>\n",
              "      <td>3</td>\n",
              "      <td>[110, 2571, 2028, 858, 589, 593, 1240, 318, 12...</td>\n",
              "    </tr>\n",
              "    <tr>\n",
              "      <th>1</th>\n",
              "      <td>9</td>\n",
              "      <td>[2997, 296, 2396, 110, 1196, 589, 260, 1198, 3...</td>\n",
              "    </tr>\n",
              "    <tr>\n",
              "      <th>2</th>\n",
              "      <td>42</td>\n",
              "      <td>[2571, 1580, 2916, 2028, 110, 858, 2858, 32, 1...</td>\n",
              "    </tr>\n",
              "    <tr>\n",
              "      <th>3</th>\n",
              "      <td>79</td>\n",
              "      <td>[2858, 3578, 260, 2762, 2997, 1196, 589, 480, ...</td>\n",
              "    </tr>\n",
              "    <tr>\n",
              "      <th>4</th>\n",
              "      <td>92</td>\n",
              "      <td>[2858, 1210, 2997, 2028, 1196, 260, 589, 1198,...</td>\n",
              "    </tr>\n",
              "  </tbody>\n",
              "</table>\n",
              "</div>"
            ],
            "text/plain": [
              "   user_id                                           movie_id\n",
              "0        3  [110, 2571, 2028, 858, 589, 593, 1240, 318, 12...\n",
              "1        9  [2997, 296, 2396, 110, 1196, 589, 260, 1198, 3...\n",
              "2       42  [2571, 1580, 2916, 2028, 110, 858, 2858, 32, 1...\n",
              "3       79  [2858, 3578, 260, 2762, 2997, 1196, 589, 480, ...\n",
              "4       92  [2858, 1210, 2997, 2028, 1196, 260, 589, 1198,..."
            ]
          },
          "metadata": {
            "tags": []
          },
          "execution_count": 325
        }
      ]
    },
    {
      "cell_type": "code",
      "metadata": {
        "id": "y-4jhJNTeDVw",
        "colab": {
          "base_uri": "https://localhost:8080/",
          "height": 398,
          "referenced_widgets": [
            "8674ce9564224bd9b21a1df75e963655",
            "b590dddb286b4d4186da44d9aae2875f",
            "7639ba35ad4e4e85a23ced0228743af2",
            "b176dcda2544402c9f8873da57693be3",
            "3a12bb5b319a45d8873414c1b4c2ed02",
            "9f66d50cf90a4a56b2111fa7a8ff5f15",
            "741b850080b340e7b89f86404016f110",
            "80214ef7767341e18be316d81b45fb7b",
            "e34660bca5ff4220b786fe49a5f3ec4f",
            "9f1ef887a9bc497cb23afd4bb6d03127",
            "eb07512e737f4d30a96f29f16086fdf5",
            "a3d7c9577ead42699b56f14d0cd27081",
            "b44e461511fb45d8bda3197b3be60760",
            "445da19148d6452c8e9b6f79cb7bf375",
            "c0ad40d5cfb84c4aaffd589cdd4d9b53",
            "1cf9e59ad47041fd8789082cb12d6fdd"
          ]
        },
        "outputId": "f1950063-c7f2-420a-b32f-165f1cd925f3"
      },
      "source": [
        "scores = evaluate(true, pred)\n",
        "\n",
        "scores(K = 10)\n",
        "scores.print_all()\n",
        "\n",
        "scores(K = 100)\n",
        "scores.print_all()"
      ],
      "execution_count": 326,
      "outputs": [
        {
          "output_type": "display_data",
          "data": {
            "application/vnd.jupyter.widget-view+json": {
              "model_id": "8674ce9564224bd9b21a1df75e963655",
              "version_minor": 0,
              "version_major": 2
            },
            "text/plain": [
              "HBox(children=(FloatProgress(value=0.0, max=604.0), HTML(value='')))"
            ]
          },
          "metadata": {
            "tags": []
          }
        },
        {
          "output_type": "stream",
          "text": [
            "\n",
            "      Recall@10 : 0.09622 \n",
            "   Precision@10 : 0.07864 \n",
            "         MAP@10 : 0.04080 \n",
            "          HR@10 : 0.46026 \n",
            "         MRR@10 : 0.18688 \n",
            "        nDCG@10 : 0.09214 \n",
            "          CO@10 : 0.02086 \n",
            "          ED@10 : 3.87926\n"
          ],
          "name": "stdout"
        },
        {
          "output_type": "display_data",
          "data": {
            "application/vnd.jupyter.widget-view+json": {
              "model_id": "e34660bca5ff4220b786fe49a5f3ec4f",
              "version_minor": 0,
              "version_major": 2
            },
            "text/plain": [
              "HBox(children=(FloatProgress(value=0.0, max=604.0), HTML(value='')))"
            ]
          },
          "metadata": {
            "tags": []
          }
        },
        {
          "output_type": "stream",
          "text": [
            "\n",
            "      Recall@100 : 0.32565 \n",
            "   Precision@100 : 0.04744 \n",
            "         MAP@100 : 0.04858 \n",
            "          HR@100 : 0.90232 \n",
            "         MRR@100 : 0.20545 \n",
            "        nDCG@100 : 0.17948 \n",
            "          CO@100 : 0.01119 \n",
            "          ED@100 : 5.57329\n"
          ],
          "name": "stdout"
        }
      ]
    }
  ]
}