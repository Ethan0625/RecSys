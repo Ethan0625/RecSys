{
  "nbformat": 4,
  "nbformat_minor": 0,
  "metadata": {
    "colab": {
      "name": "12_item2vec.ipynb",
      "provenance": [],
      "collapsed_sections": [],
      "authorship_tag": "ABX9TyMQFOvHW6gf58lwh6xTwuYe",
      "include_colab_link": true
    },
    "kernelspec": {
      "name": "python3",
      "display_name": "Python 3"
    },
    "accelerator": "GPU",
    "widgets": {
      "application/vnd.jupyter.widget-state+json": {
        "d0945d241fed4f6b83b2a281093947c1": {
          "model_module": "@jupyter-widgets/controls",
          "model_name": "HBoxModel",
          "state": {
            "_view_name": "HBoxView",
            "_dom_classes": [],
            "_model_name": "HBoxModel",
            "_view_module": "@jupyter-widgets/controls",
            "_model_module_version": "1.5.0",
            "_view_count": null,
            "_view_module_version": "1.5.0",
            "box_style": "",
            "layout": "IPY_MODEL_bcf28a119bed4ef38371392f078f9d8d",
            "_model_module": "@jupyter-widgets/controls",
            "children": [
              "IPY_MODEL_f3e60ae1672149909905d554cb2fd527",
              "IPY_MODEL_9782043f61e94ea185e6a26327ea1482"
            ]
          }
        },
        "bcf28a119bed4ef38371392f078f9d8d": {
          "model_module": "@jupyter-widgets/base",
          "model_name": "LayoutModel",
          "state": {
            "_view_name": "LayoutView",
            "grid_template_rows": null,
            "right": null,
            "justify_content": null,
            "_view_module": "@jupyter-widgets/base",
            "overflow": null,
            "_model_module_version": "1.2.0",
            "_view_count": null,
            "flex_flow": null,
            "width": null,
            "min_width": null,
            "border": null,
            "align_items": null,
            "bottom": null,
            "_model_module": "@jupyter-widgets/base",
            "top": null,
            "grid_column": null,
            "overflow_y": null,
            "overflow_x": null,
            "grid_auto_flow": null,
            "grid_area": null,
            "grid_template_columns": null,
            "flex": null,
            "_model_name": "LayoutModel",
            "justify_items": null,
            "grid_row": null,
            "max_height": null,
            "align_content": null,
            "visibility": null,
            "align_self": null,
            "height": null,
            "min_height": null,
            "padding": null,
            "grid_auto_rows": null,
            "grid_gap": null,
            "max_width": null,
            "order": null,
            "_view_module_version": "1.2.0",
            "grid_template_areas": null,
            "object_position": null,
            "object_fit": null,
            "grid_auto_columns": null,
            "margin": null,
            "display": null,
            "left": null
          }
        },
        "f3e60ae1672149909905d554cb2fd527": {
          "model_module": "@jupyter-widgets/controls",
          "model_name": "FloatProgressModel",
          "state": {
            "_view_name": "ProgressView",
            "style": "IPY_MODEL_ed951500ba8a44f1b7a86c3dc2b24b52",
            "_dom_classes": [],
            "description": "100%",
            "_model_name": "FloatProgressModel",
            "bar_style": "success",
            "max": 604,
            "_view_module": "@jupyter-widgets/controls",
            "_model_module_version": "1.5.0",
            "value": 604,
            "_view_count": null,
            "_view_module_version": "1.5.0",
            "orientation": "horizontal",
            "min": 0,
            "description_tooltip": null,
            "_model_module": "@jupyter-widgets/controls",
            "layout": "IPY_MODEL_c5cf3c12560946bab3ec530a2e2ca542"
          }
        },
        "9782043f61e94ea185e6a26327ea1482": {
          "model_module": "@jupyter-widgets/controls",
          "model_name": "HTMLModel",
          "state": {
            "_view_name": "HTMLView",
            "style": "IPY_MODEL_47a15b0b5c14474db50dcbcfb7c61e14",
            "_dom_classes": [],
            "description": "",
            "_model_name": "HTMLModel",
            "placeholder": "​",
            "_view_module": "@jupyter-widgets/controls",
            "_model_module_version": "1.5.0",
            "value": " 604/604 [00:00&lt;00:00, 674.15it/s]",
            "_view_count": null,
            "_view_module_version": "1.5.0",
            "description_tooltip": null,
            "_model_module": "@jupyter-widgets/controls",
            "layout": "IPY_MODEL_317b9c8f67bb4583bfd95fd9c33a8511"
          }
        },
        "ed951500ba8a44f1b7a86c3dc2b24b52": {
          "model_module": "@jupyter-widgets/controls",
          "model_name": "ProgressStyleModel",
          "state": {
            "_view_name": "StyleView",
            "_model_name": "ProgressStyleModel",
            "description_width": "initial",
            "_view_module": "@jupyter-widgets/base",
            "_model_module_version": "1.5.0",
            "_view_count": null,
            "_view_module_version": "1.2.0",
            "bar_color": null,
            "_model_module": "@jupyter-widgets/controls"
          }
        },
        "c5cf3c12560946bab3ec530a2e2ca542": {
          "model_module": "@jupyter-widgets/base",
          "model_name": "LayoutModel",
          "state": {
            "_view_name": "LayoutView",
            "grid_template_rows": null,
            "right": null,
            "justify_content": null,
            "_view_module": "@jupyter-widgets/base",
            "overflow": null,
            "_model_module_version": "1.2.0",
            "_view_count": null,
            "flex_flow": null,
            "width": null,
            "min_width": null,
            "border": null,
            "align_items": null,
            "bottom": null,
            "_model_module": "@jupyter-widgets/base",
            "top": null,
            "grid_column": null,
            "overflow_y": null,
            "overflow_x": null,
            "grid_auto_flow": null,
            "grid_area": null,
            "grid_template_columns": null,
            "flex": null,
            "_model_name": "LayoutModel",
            "justify_items": null,
            "grid_row": null,
            "max_height": null,
            "align_content": null,
            "visibility": null,
            "align_self": null,
            "height": null,
            "min_height": null,
            "padding": null,
            "grid_auto_rows": null,
            "grid_gap": null,
            "max_width": null,
            "order": null,
            "_view_module_version": "1.2.0",
            "grid_template_areas": null,
            "object_position": null,
            "object_fit": null,
            "grid_auto_columns": null,
            "margin": null,
            "display": null,
            "left": null
          }
        },
        "47a15b0b5c14474db50dcbcfb7c61e14": {
          "model_module": "@jupyter-widgets/controls",
          "model_name": "DescriptionStyleModel",
          "state": {
            "_view_name": "StyleView",
            "_model_name": "DescriptionStyleModel",
            "description_width": "",
            "_view_module": "@jupyter-widgets/base",
            "_model_module_version": "1.5.0",
            "_view_count": null,
            "_view_module_version": "1.2.0",
            "_model_module": "@jupyter-widgets/controls"
          }
        },
        "317b9c8f67bb4583bfd95fd9c33a8511": {
          "model_module": "@jupyter-widgets/base",
          "model_name": "LayoutModel",
          "state": {
            "_view_name": "LayoutView",
            "grid_template_rows": null,
            "right": null,
            "justify_content": null,
            "_view_module": "@jupyter-widgets/base",
            "overflow": null,
            "_model_module_version": "1.2.0",
            "_view_count": null,
            "flex_flow": null,
            "width": null,
            "min_width": null,
            "border": null,
            "align_items": null,
            "bottom": null,
            "_model_module": "@jupyter-widgets/base",
            "top": null,
            "grid_column": null,
            "overflow_y": null,
            "overflow_x": null,
            "grid_auto_flow": null,
            "grid_area": null,
            "grid_template_columns": null,
            "flex": null,
            "_model_name": "LayoutModel",
            "justify_items": null,
            "grid_row": null,
            "max_height": null,
            "align_content": null,
            "visibility": null,
            "align_self": null,
            "height": null,
            "min_height": null,
            "padding": null,
            "grid_auto_rows": null,
            "grid_gap": null,
            "max_width": null,
            "order": null,
            "_view_module_version": "1.2.0",
            "grid_template_areas": null,
            "object_position": null,
            "object_fit": null,
            "grid_auto_columns": null,
            "margin": null,
            "display": null,
            "left": null
          }
        },
        "a8c9ab9f558b4dac81e1fdf57b7437e2": {
          "model_module": "@jupyter-widgets/controls",
          "model_name": "HBoxModel",
          "state": {
            "_view_name": "HBoxView",
            "_dom_classes": [],
            "_model_name": "HBoxModel",
            "_view_module": "@jupyter-widgets/controls",
            "_model_module_version": "1.5.0",
            "_view_count": null,
            "_view_module_version": "1.5.0",
            "box_style": "",
            "layout": "IPY_MODEL_bdac3b93ca1b46b89cdedc02c3a0d3b1",
            "_model_module": "@jupyter-widgets/controls",
            "children": [
              "IPY_MODEL_f694ca37afc044d58bdfb8a53c43d1f2",
              "IPY_MODEL_ffc3ca5449764cb8a138c0a1a8314831"
            ]
          }
        },
        "bdac3b93ca1b46b89cdedc02c3a0d3b1": {
          "model_module": "@jupyter-widgets/base",
          "model_name": "LayoutModel",
          "state": {
            "_view_name": "LayoutView",
            "grid_template_rows": null,
            "right": null,
            "justify_content": null,
            "_view_module": "@jupyter-widgets/base",
            "overflow": null,
            "_model_module_version": "1.2.0",
            "_view_count": null,
            "flex_flow": null,
            "width": null,
            "min_width": null,
            "border": null,
            "align_items": null,
            "bottom": null,
            "_model_module": "@jupyter-widgets/base",
            "top": null,
            "grid_column": null,
            "overflow_y": null,
            "overflow_x": null,
            "grid_auto_flow": null,
            "grid_area": null,
            "grid_template_columns": null,
            "flex": null,
            "_model_name": "LayoutModel",
            "justify_items": null,
            "grid_row": null,
            "max_height": null,
            "align_content": null,
            "visibility": null,
            "align_self": null,
            "height": null,
            "min_height": null,
            "padding": null,
            "grid_auto_rows": null,
            "grid_gap": null,
            "max_width": null,
            "order": null,
            "_view_module_version": "1.2.0",
            "grid_template_areas": null,
            "object_position": null,
            "object_fit": null,
            "grid_auto_columns": null,
            "margin": null,
            "display": null,
            "left": null
          }
        },
        "f694ca37afc044d58bdfb8a53c43d1f2": {
          "model_module": "@jupyter-widgets/controls",
          "model_name": "FloatProgressModel",
          "state": {
            "_view_name": "ProgressView",
            "style": "IPY_MODEL_3cb1b5e5c3a448618d5926a688f23f4c",
            "_dom_classes": [],
            "description": "100%",
            "_model_name": "FloatProgressModel",
            "bar_style": "success",
            "max": 604,
            "_view_module": "@jupyter-widgets/controls",
            "_model_module_version": "1.5.0",
            "value": 604,
            "_view_count": null,
            "_view_module_version": "1.5.0",
            "orientation": "horizontal",
            "min": 0,
            "description_tooltip": null,
            "_model_module": "@jupyter-widgets/controls",
            "layout": "IPY_MODEL_b73ccedf1548451588dfec93dc46c43c"
          }
        },
        "ffc3ca5449764cb8a138c0a1a8314831": {
          "model_module": "@jupyter-widgets/controls",
          "model_name": "HTMLModel",
          "state": {
            "_view_name": "HTMLView",
            "style": "IPY_MODEL_eb2d0e456a994103bcf5eb42467e3b85",
            "_dom_classes": [],
            "description": "",
            "_model_name": "HTMLModel",
            "placeholder": "​",
            "_view_module": "@jupyter-widgets/controls",
            "_model_module_version": "1.5.0",
            "value": " 604/604 [00:10&lt;00:00, 56.63it/s]",
            "_view_count": null,
            "_view_module_version": "1.5.0",
            "description_tooltip": null,
            "_model_module": "@jupyter-widgets/controls",
            "layout": "IPY_MODEL_d047b53064fd467a8e1dc483b12000aa"
          }
        },
        "3cb1b5e5c3a448618d5926a688f23f4c": {
          "model_module": "@jupyter-widgets/controls",
          "model_name": "ProgressStyleModel",
          "state": {
            "_view_name": "StyleView",
            "_model_name": "ProgressStyleModel",
            "description_width": "initial",
            "_view_module": "@jupyter-widgets/base",
            "_model_module_version": "1.5.0",
            "_view_count": null,
            "_view_module_version": "1.2.0",
            "bar_color": null,
            "_model_module": "@jupyter-widgets/controls"
          }
        },
        "b73ccedf1548451588dfec93dc46c43c": {
          "model_module": "@jupyter-widgets/base",
          "model_name": "LayoutModel",
          "state": {
            "_view_name": "LayoutView",
            "grid_template_rows": null,
            "right": null,
            "justify_content": null,
            "_view_module": "@jupyter-widgets/base",
            "overflow": null,
            "_model_module_version": "1.2.0",
            "_view_count": null,
            "flex_flow": null,
            "width": null,
            "min_width": null,
            "border": null,
            "align_items": null,
            "bottom": null,
            "_model_module": "@jupyter-widgets/base",
            "top": null,
            "grid_column": null,
            "overflow_y": null,
            "overflow_x": null,
            "grid_auto_flow": null,
            "grid_area": null,
            "grid_template_columns": null,
            "flex": null,
            "_model_name": "LayoutModel",
            "justify_items": null,
            "grid_row": null,
            "max_height": null,
            "align_content": null,
            "visibility": null,
            "align_self": null,
            "height": null,
            "min_height": null,
            "padding": null,
            "grid_auto_rows": null,
            "grid_gap": null,
            "max_width": null,
            "order": null,
            "_view_module_version": "1.2.0",
            "grid_template_areas": null,
            "object_position": null,
            "object_fit": null,
            "grid_auto_columns": null,
            "margin": null,
            "display": null,
            "left": null
          }
        },
        "eb2d0e456a994103bcf5eb42467e3b85": {
          "model_module": "@jupyter-widgets/controls",
          "model_name": "DescriptionStyleModel",
          "state": {
            "_view_name": "StyleView",
            "_model_name": "DescriptionStyleModel",
            "description_width": "",
            "_view_module": "@jupyter-widgets/base",
            "_model_module_version": "1.5.0",
            "_view_count": null,
            "_view_module_version": "1.2.0",
            "_model_module": "@jupyter-widgets/controls"
          }
        },
        "d047b53064fd467a8e1dc483b12000aa": {
          "model_module": "@jupyter-widgets/base",
          "model_name": "LayoutModel",
          "state": {
            "_view_name": "LayoutView",
            "grid_template_rows": null,
            "right": null,
            "justify_content": null,
            "_view_module": "@jupyter-widgets/base",
            "overflow": null,
            "_model_module_version": "1.2.0",
            "_view_count": null,
            "flex_flow": null,
            "width": null,
            "min_width": null,
            "border": null,
            "align_items": null,
            "bottom": null,
            "_model_module": "@jupyter-widgets/base",
            "top": null,
            "grid_column": null,
            "overflow_y": null,
            "overflow_x": null,
            "grid_auto_flow": null,
            "grid_area": null,
            "grid_template_columns": null,
            "flex": null,
            "_model_name": "LayoutModel",
            "justify_items": null,
            "grid_row": null,
            "max_height": null,
            "align_content": null,
            "visibility": null,
            "align_self": null,
            "height": null,
            "min_height": null,
            "padding": null,
            "grid_auto_rows": null,
            "grid_gap": null,
            "max_width": null,
            "order": null,
            "_view_module_version": "1.2.0",
            "grid_template_areas": null,
            "object_position": null,
            "object_fit": null,
            "grid_auto_columns": null,
            "margin": null,
            "display": null,
            "left": null
          }
        }
      }
    }
  },
  "cells": [
    {
      "cell_type": "markdown",
      "metadata": {
        "id": "view-in-github",
        "colab_type": "text"
      },
      "source": [
        "<a href=\"https://colab.research.google.com/github/ivoryRabbit/RecSys/blob/master/12_item2vec.ipynb\" target=\"_parent\"><img src=\"https://colab.research.google.com/assets/colab-badge.svg\" alt=\"Open In Colab\"/></a>"
      ]
    },
    {
      "cell_type": "markdown",
      "metadata": {
        "id": "viikY8IQdVTY"
      },
      "source": [
        "# Item2Vec\n",
        "\n",
        "- [Item2Vec: Neural Item Embedding for Collaborative Filtering](https://arxiv.org/vc/arxiv/papers/1603/1603.04259v2.pdf)"
      ]
    },
    {
      "cell_type": "code",
      "metadata": {
        "id": "M8FDcw4rVboe"
      },
      "source": [
        "import glob\n",
        "import numpy as np\n",
        "import pandas as pd\n",
        "from typing import Callable, Tuple, List\n",
        "from tqdm.notebook import tqdm\n",
        "\n",
        "from sklearn.model_selection import train_test_split\n",
        "from scipy.sparse import csr_matrix\n",
        "\n",
        "import tensorflow as tf\n",
        "import tensorflow.keras.backend as K\n",
        "from tensorflow.keras.layers import Embedding, Dot, Flatten\n",
        "\n",
        "from tensorflow.keras.utils import get_file\n",
        "import zipfile"
      ],
      "execution_count": 1,
      "outputs": []
    },
    {
      "cell_type": "code",
      "metadata": {
        "id": "sdjqodyYVf9I"
      },
      "source": [
        "def load_data(data_size : str) -> pd.DataFrame:\n",
        "    ''' load Movie Lens data '''\n",
        "\n",
        "    if data_size == '1m':\n",
        "        fname = 'ml-1m.zip'\n",
        "        data = 'ml-1m/ratings.dat'\n",
        "    elif data_size == '10m':\n",
        "        fname = 'ml-10m.zip'\n",
        "        data = 'ml-10M100K/ratings.dat'\n",
        "    elif data_size == '20m':\n",
        "        fname = 'ml-20m.zip'\n",
        "        data = 'ml-20m/ratings.csv'\n",
        "    elif data_size == '25m':\n",
        "        fname = 'ml-25m.zip'\n",
        "        data = 'ml-25m/ratings.csv'\n",
        "    if not glob.glob(data):\n",
        "        origin = f'http://files.grouplens.org/datasets/movielens/{fname}'\n",
        "        file = get_file(fname, origin)\n",
        "        zip_ref = zipfile.ZipFile(file, 'r')\n",
        "        zip_ref.extractall()\n",
        "\n",
        "    col_dtypes = {'user_id': np.uint32, 'movie_id': np.uint32, \n",
        "                  'rating': np.uint8, 'timestamp': np.uint32}\n",
        "    col_names = list(col_dtypes.keys())\n",
        "    if data_size in ['20m', '25m']:\n",
        "        ratings = pd.read_csv(\n",
        "            data, names = col_names, dtype = col_dtypes, engine = 'python',\n",
        "            chucksize = 10000\n",
        "        )\n",
        "        \n",
        "    else:\n",
        "        ratings = pd.read_csv(\n",
        "            data, names = col_names, dtype = col_dtypes, engine = 'python',\n",
        "            sep = '|', delimiter = '::'\n",
        "        )\n",
        "    print(ratings.shape)\n",
        "    return ratings"
      ],
      "execution_count": 2,
      "outputs": []
    },
    {
      "cell_type": "code",
      "metadata": {
        "id": "RZf8Gzf0VhYV",
        "colab": {
          "base_uri": "https://localhost:8080/",
          "height": 213
        },
        "outputId": "93c43cff-36bb-4714-ca1a-e9d5526aad95"
      },
      "source": [
        "ratings = load_data('1m')\n",
        "ratings.head()"
      ],
      "execution_count": 3,
      "outputs": [
        {
          "output_type": "stream",
          "text": [
            "(1000209, 4)\n"
          ],
          "name": "stdout"
        },
        {
          "output_type": "execute_result",
          "data": {
            "text/html": [
              "<div>\n",
              "<style scoped>\n",
              "    .dataframe tbody tr th:only-of-type {\n",
              "        vertical-align: middle;\n",
              "    }\n",
              "\n",
              "    .dataframe tbody tr th {\n",
              "        vertical-align: top;\n",
              "    }\n",
              "\n",
              "    .dataframe thead th {\n",
              "        text-align: right;\n",
              "    }\n",
              "</style>\n",
              "<table border=\"1\" class=\"dataframe\">\n",
              "  <thead>\n",
              "    <tr style=\"text-align: right;\">\n",
              "      <th></th>\n",
              "      <th>user_id</th>\n",
              "      <th>movie_id</th>\n",
              "      <th>rating</th>\n",
              "      <th>timestamp</th>\n",
              "    </tr>\n",
              "  </thead>\n",
              "  <tbody>\n",
              "    <tr>\n",
              "      <th>0</th>\n",
              "      <td>1</td>\n",
              "      <td>1193</td>\n",
              "      <td>5</td>\n",
              "      <td>978300760</td>\n",
              "    </tr>\n",
              "    <tr>\n",
              "      <th>1</th>\n",
              "      <td>1</td>\n",
              "      <td>661</td>\n",
              "      <td>3</td>\n",
              "      <td>978302109</td>\n",
              "    </tr>\n",
              "    <tr>\n",
              "      <th>2</th>\n",
              "      <td>1</td>\n",
              "      <td>914</td>\n",
              "      <td>3</td>\n",
              "      <td>978301968</td>\n",
              "    </tr>\n",
              "    <tr>\n",
              "      <th>3</th>\n",
              "      <td>1</td>\n",
              "      <td>3408</td>\n",
              "      <td>4</td>\n",
              "      <td>978300275</td>\n",
              "    </tr>\n",
              "    <tr>\n",
              "      <th>4</th>\n",
              "      <td>1</td>\n",
              "      <td>2355</td>\n",
              "      <td>5</td>\n",
              "      <td>978824291</td>\n",
              "    </tr>\n",
              "  </tbody>\n",
              "</table>\n",
              "</div>"
            ],
            "text/plain": [
              "   user_id  movie_id  rating  timestamp\n",
              "0        1      1193       5  978300760\n",
              "1        1       661       3  978302109\n",
              "2        1       914       3  978301968\n",
              "3        1      3408       4  978300275\n",
              "4        1      2355       5  978824291"
            ]
          },
          "metadata": {
            "tags": []
          },
          "execution_count": 3
        }
      ]
    },
    {
      "cell_type": "code",
      "metadata": {
        "id": "KJ_TaXgGIZlL",
        "colab": {
          "base_uri": "https://localhost:8080/"
        },
        "outputId": "fbb87498-049b-4b8d-f876-614a4c2a7edb"
      },
      "source": [
        "n_user = ratings.user_id.nunique()\n",
        "print(f'# of users = {n_user}')\n",
        "\n",
        "n_item = ratings.movie_id.nunique()\n",
        "print(f'# of items = {n_item}')"
      ],
      "execution_count": 4,
      "outputs": [
        {
          "output_type": "stream",
          "text": [
            "# of users = 6040\n",
            "# of items = 3706\n"
          ],
          "name": "stdout"
        }
      ]
    },
    {
      "cell_type": "code",
      "metadata": {
        "id": "dmXavvj5IbOY"
      },
      "source": [
        "def binarizer(df: pd.DataFrame, threshold = 4) -> pd.DataFrame:\n",
        "    df = df.assign(rating = np.where(df.rating >= threshold, 1, 0))\n",
        "    return df[df.rating > 0.0].reset_index(drop = True)\n",
        "\n",
        "def make_warm(df: pd.DataFrame, threshold = 5) -> pd.DataFrame: # remove cold starters\n",
        "    positive = df.groupby('user_id')['movie_id'].count()\n",
        "    positive = positive.index[positive >= threshold]\n",
        "    return df[df.user_id.isin(positive)].reset_index(drop = True)\n",
        "\n",
        "def train_valid_test_split(df: pd.DataFrame, size: float) -> pd.DataFrame:\n",
        "    train_user, test_user = train_test_split(df.user_id.unique(), test_size = 2 * size, random_state = 777)\n",
        "    valid_user, test_user = train_test_split(test_user, test_size = 0.5, random_state = 777)\n",
        "    train, valid, test = map(lambda x: df[df.user_id.isin(x)], (train_user, valid_user, test_user))\n",
        "    train, valid, test = map(lambda df: df.reset_index(drop = True), (train, valid, test))\n",
        "    return train, valid, test\n",
        "\n",
        "def query_relev_split(df: pd.DataFrame, size: float) -> pd.DataFrame:\n",
        "    timeorder = df.groupby('user_id')['timestamp'].rank(method = 'first', ascending = True)\n",
        "    seen_cnts = df.groupby('user_id')['movie_id'].transform('count')\n",
        "    df = df.assign(seen_cnts = seen_cnts, timeorder = timeorder)\n",
        "    query = df[df.timeorder < df.seen_cnts * (1-size)]\n",
        "    relev = df[df.timeorder >= df.seen_cnts * (1-size)]\n",
        "    relev = relev[relev.user_id.isin(query.user_id.unique())]\n",
        "    query, relev = map(lambda df: df.drop(columns = ['timeorder', 'seen_cnts']), (query, relev))\n",
        "    query, relev = map(lambda df: df.reset_index(drop = True), (query, relev))\n",
        "    return query, relev\n",
        "\n",
        "def list_agg(df: pd.DataFrame) -> pd.DataFrame:\n",
        "    return df.groupby('user_id', as_index = False)[['movie_id']].agg(list)"
      ],
      "execution_count": 5,
      "outputs": []
    },
    {
      "cell_type": "code",
      "metadata": {
        "colab": {
          "base_uri": "https://localhost:8080/",
          "height": 195
        },
        "id": "FsIgfS2t8Yvl",
        "outputId": "ebead9e7-ddd0-4302-94f2-69ba890bd80b"
      },
      "source": [
        "data = binarizer(ratings)\r\n",
        "data = make_warm(data)\r\n",
        "data.head()"
      ],
      "execution_count": 6,
      "outputs": [
        {
          "output_type": "execute_result",
          "data": {
            "text/html": [
              "<div>\n",
              "<style scoped>\n",
              "    .dataframe tbody tr th:only-of-type {\n",
              "        vertical-align: middle;\n",
              "    }\n",
              "\n",
              "    .dataframe tbody tr th {\n",
              "        vertical-align: top;\n",
              "    }\n",
              "\n",
              "    .dataframe thead th {\n",
              "        text-align: right;\n",
              "    }\n",
              "</style>\n",
              "<table border=\"1\" class=\"dataframe\">\n",
              "  <thead>\n",
              "    <tr style=\"text-align: right;\">\n",
              "      <th></th>\n",
              "      <th>user_id</th>\n",
              "      <th>movie_id</th>\n",
              "      <th>rating</th>\n",
              "      <th>timestamp</th>\n",
              "    </tr>\n",
              "  </thead>\n",
              "  <tbody>\n",
              "    <tr>\n",
              "      <th>0</th>\n",
              "      <td>1</td>\n",
              "      <td>1193</td>\n",
              "      <td>1</td>\n",
              "      <td>978300760</td>\n",
              "    </tr>\n",
              "    <tr>\n",
              "      <th>1</th>\n",
              "      <td>1</td>\n",
              "      <td>3408</td>\n",
              "      <td>1</td>\n",
              "      <td>978300275</td>\n",
              "    </tr>\n",
              "    <tr>\n",
              "      <th>2</th>\n",
              "      <td>1</td>\n",
              "      <td>2355</td>\n",
              "      <td>1</td>\n",
              "      <td>978824291</td>\n",
              "    </tr>\n",
              "    <tr>\n",
              "      <th>3</th>\n",
              "      <td>1</td>\n",
              "      <td>1287</td>\n",
              "      <td>1</td>\n",
              "      <td>978302039</td>\n",
              "    </tr>\n",
              "    <tr>\n",
              "      <th>4</th>\n",
              "      <td>1</td>\n",
              "      <td>2804</td>\n",
              "      <td>1</td>\n",
              "      <td>978300719</td>\n",
              "    </tr>\n",
              "  </tbody>\n",
              "</table>\n",
              "</div>"
            ],
            "text/plain": [
              "   user_id  movie_id  rating  timestamp\n",
              "0        1      1193       1  978300760\n",
              "1        1      3408       1  978300275\n",
              "2        1      2355       1  978824291\n",
              "3        1      1287       1  978302039\n",
              "4        1      2804       1  978300719"
            ]
          },
          "metadata": {
            "tags": []
          },
          "execution_count": 6
        }
      ]
    },
    {
      "cell_type": "code",
      "metadata": {
        "id": "ibp0WJAt8bvV"
      },
      "source": [
        "train, _, test = train_valid_test_split(data, size = 0.1)\r\n",
        "test_q, test_r = query_relev_split(test, size = 0.2)"
      ],
      "execution_count": 7,
      "outputs": []
    },
    {
      "cell_type": "code",
      "metadata": {
        "id": "hkL0wV7SGV87"
      },
      "source": [
        "class train_generator:\r\n",
        "    def __init__(self, batch_size, ns):\r\n",
        "        self.batch_size = batch_size\r\n",
        "        self.ns = ns\r\n",
        "        self.buffer_size = 10000\r\n",
        "        \r\n",
        "    def encoding(self, df: pd.DataFrame) -> pd.DataFrame:\r\n",
        "        self.idx2item_map = df.movie_id.unique()\r\n",
        "        self.item2idx_map = {Id: idx for idx, Id in enumerate(self.idx2item_map)}\r\n",
        "        return df.assign(movie_id = lambda df: df.movie_id.map(self.item2idx_map))\r\n",
        "\r\n",
        "    def get_sampling_dist(self):\r\n",
        "        freq = self.train.movie_id.value_counts()\r\n",
        "        freq = freq.sort_index()\r\n",
        "        self.pos_dist = np.sqrt(1e-5 / freq).to_numpy()\r\n",
        "        self.neg_dist = np.power(freq, 3/4).to_numpy()\r\n",
        "\r\n",
        "    def pos_sampling(self, seq):\r\n",
        "        prob = self.pos_dist[None, seq]\r\n",
        "        prob = np.repeat(prob, len(seq), axis = 0)\r\n",
        "        prob[np.diag_indices(len(seq))] = 0\r\n",
        "        prob = prob / prob.sum(axis = 1)\r\n",
        "        prob = np.cumsum(prob, axis = 1)\r\n",
        "        draw = np.random.rand(len(seq))\r\n",
        "        pos_sample = np.diag(np.apply_along_axis(np.searchsorted, 1, prob, draw))\r\n",
        "        return pos_sample\r\n",
        "\r\n",
        "    def neg_sampling(self, seq):\r\n",
        "        mask = np.ones(self.neg_dist.size, dtype = bool)\r\n",
        "        mask[seq] = False\r\n",
        "        prob = self.neg_dist[mask]\r\n",
        "        prob = prob / prob.sum(axis = 0)\r\n",
        "        prob = np.cumsum(prob, axis = 0)\r\n",
        "        draw = np.random.rand(len(seq), self.ns)\r\n",
        "        neg_sample = np.searchsorted(prob, draw)\r\n",
        "        return neg_sample\r\n",
        "\r\n",
        "    def fit(self, train):\r\n",
        "        self.train = self.encoding(train)\r\n",
        "        self.get_sampling_dist()\r\n",
        "\r\n",
        "        item_list = list_agg(self.train).movie_id\r\n",
        "        pos = item_list.apply(self.pos_sampling).explode()\r\n",
        "        neg = item_list.apply(self.neg_sampling).explode()\r\n",
        "\r\n",
        "        self.targ = self.train.movie_id.to_numpy()[:, None]\r\n",
        "        self.cont = np.vstack(pos + neg).astype(int)\r\n",
        "        self.label = np.zeros(shape = self.cont.shape, dtype = np.uint8)\r\n",
        "        self.label[:, 0] = 1\r\n",
        "\r\n",
        "        dataset = tf.data.Dataset.from_tensor_slices(((self.targ, self.cont), self.label))\r\n",
        "        dataset = dataset.shuffle(self.buffer_size).batch(self.batch_size, drop_remainder = False)\r\n",
        "        self.dataset = dataset.cache().prefetch(buffer_size = tf.data.AUTOTUNE)"
      ],
      "execution_count": 8,
      "outputs": []
    },
    {
      "cell_type": "code",
      "metadata": {
        "id": "xRPNKS0k_cqz"
      },
      "source": [
        "# 학습 시 tf.data.Dataset를 사용하는 것이 tf.keras.utils.Sequence를 사용하는 것보다 약 4배 이상 빠릅니다.\r\n",
        "\r\n",
        "# class train_generator(tf.keras.utils.Sequence):\r\n",
        "\r\n",
        "#     def __init__(self, df, n_item, batch_size, ns, shuffle = False, refresh = False):\r\n",
        "#         self.df = self.encoding(df)\r\n",
        "#         self.n_item = n_item\r\n",
        "#         self.batch_size = batch_size\r\n",
        "#         self.ns = ns\r\n",
        "#         self.shuffle = shuffle\r\n",
        "#         self.refresh = refresh\r\n",
        "\r\n",
        "#         self.agg_df = self.df.groupby('user_id')['movie_id'].agg(list)\r\n",
        "\r\n",
        "#         self.get_sampling_dist()\r\n",
        "#         self.sampling()\r\n",
        "#         self.on_epoch_end()\r\n",
        "\r\n",
        "#     def encoding(self, df: pd.DataFrame) -> pd.DataFrame:\r\n",
        "#         self.idx2item_map = df.movie_id.unique()\r\n",
        "#         self.item2idx_map = {Id: idx for idx, Id in enumerate(self.idx2item_map)}\r\n",
        "#         return df.assign(movie_id = lambda df: df.movie_id.map(self.item2idx_map))\r\n",
        "\r\n",
        "#     def get_sampling_dist(self):\r\n",
        "#         freq = self.df.movie_id.value_counts()\r\n",
        "#         freq = freq.sort_index()\r\n",
        "#         self.pos_dist = np.sqrt(1e-5 / freq).to_numpy()\r\n",
        "#         self.neg_dist = np.power(freq, 3/4).to_numpy()\r\n",
        "\r\n",
        "#     def sampling(self):\r\n",
        "#         pos = self.agg_df.apply(self.pos_sampling).explode()\r\n",
        "#         neg = self.agg_df.apply(self.neg_sampling).explode()\r\n",
        "#         self.targ = self.df.movie_id.to_numpy()[:, None]\r\n",
        "#         self.cont = np.vstack(pos + neg).astype(np.uint32)\r\n",
        "\r\n",
        "#     def on_epoch_end(self):\r\n",
        "#         self.indices = np.arange(self.df.shape[0])\r\n",
        "#         if self.shuffle:\r\n",
        "#             np.random.shuffle(self.indices)\r\n",
        "\r\n",
        "#         if self.refresh:\r\n",
        "#             self.sampling()\r\n",
        "\r\n",
        "#     def pos_sampling(self, seq):\r\n",
        "#         prob = self.pos_dist[None, seq]\r\n",
        "#         prob = np.repeat(prob, len(seq), axis = 0)\r\n",
        "#         prob[np.diag_indices(len(seq))] = 0\r\n",
        "#         prob = prob / prob.sum(axis = 1)\r\n",
        "#         prob = np.cumsum(prob, axis = 1)\r\n",
        "#         draw = np.random.rand(len(seq))\r\n",
        "#         pos_sample = np.diag(np.apply_along_axis(np.searchsorted, 1, prob, draw))\r\n",
        "#         return pos_sample\r\n",
        "\r\n",
        "#     def neg_sampling(self, seq):\r\n",
        "#         mask = np.ones(self.neg_dist.size, dtype = bool)\r\n",
        "#         mask[seq] = False\r\n",
        "#         prob = self.neg_dist[mask]\r\n",
        "#         prob = prob / prob.sum(axis = 0)\r\n",
        "#         prob = np.cumsum(prob, axis = 0)\r\n",
        "#         draw = np.random.rand(len(seq), self.ns)\r\n",
        "#         neg_sample = np.searchsorted(prob, draw)\r\n",
        "#         return neg_sample\r\n",
        "\r\n",
        "#     def __len__(self):\r\n",
        "#         return int(np.ceil(self.df.shape[0] / batch_size))\r\n",
        "\r\n",
        "#     def __getitem__(self, step):\r\n",
        "#         lower = self.batch_size * step\r\n",
        "#         upper = self.batch_size + lower\r\n",
        "\r\n",
        "#         batch_idx = self.indices[lower: upper]\r\n",
        "#         targ_batch = self.targ[batch_idx]\r\n",
        "#         cont_batch = self.cont[batch_idx]\r\n",
        "#         label = np.zeros(shape = cont_batch.shape, dtype = np.uint8)\r\n",
        "#         label[:, 0] = 1\r\n",
        "\r\n",
        "#         return (targ_batch, cont_batch), label"
      ],
      "execution_count": 9,
      "outputs": []
    },
    {
      "cell_type": "code",
      "metadata": {
        "id": "UGE5dH88MS71"
      },
      "source": [
        "# ns = 5\r\n",
        "# batch_size = 256\r\n",
        "# epochs = 100\r\n",
        "\r\n",
        "# train_gen = train_generator(data, n_item, batch_size, ns, shuffle = True)\r\n",
        "# model.fit(train_gen, epochs = 100)"
      ],
      "execution_count": 10,
      "outputs": []
    },
    {
      "cell_type": "code",
      "metadata": {
        "id": "nl56IKtD0R9F"
      },
      "source": [
        "class Word2Vec(tf.keras.Model):\r\n",
        "    def __init__(self, n_item, latent_dim, ns):\r\n",
        "        super(Word2Vec, self).__init__()\r\n",
        "        self.embedding_layer = Embedding(n_item, latent_dim, name = 'item_embedding')\r\n",
        "        self.dot = Dot(axes = (2, 2))\r\n",
        "        self.flatten = Flatten()\r\n",
        "\r\n",
        "    def call(self, data):\r\n",
        "        targ, cont = data\r\n",
        "        e_t = self.embedding_layer(targ)\r\n",
        "        e_c = self.embedding_layer(cont)\r\n",
        "        s = self.dot([e_t, e_c])\r\n",
        "        return self.flatten(s)"
      ],
      "execution_count": 11,
      "outputs": []
    },
    {
      "cell_type": "code",
      "metadata": {
        "id": "Knp8JmylQENA"
      },
      "source": [
        "def custom_loss(y_true, x_logit):\r\n",
        "    ce_logit = tf.nn.softmax_cross_entropy_with_logits(logits = x_logit, labels = y_true)\r\n",
        "    return tf.reduce_sum(ce_logit)"
      ],
      "execution_count": 12,
      "outputs": []
    },
    {
      "cell_type": "code",
      "metadata": {
        "id": "saDrAH4_PZnv"
      },
      "source": [
        "ns = 5\r\n",
        "batch_size = 512\r\n",
        "\r\n",
        "train_gen = train_generator(batch_size, ns)\r\n",
        "train_gen.fit(train)\r\n",
        "\r\n",
        "train_data = train_gen.dataset"
      ],
      "execution_count": 13,
      "outputs": []
    },
    {
      "cell_type": "code",
      "metadata": {
        "id": "m7mFHt0y0R5L"
      },
      "source": [
        "latent_dim = 512\r\n",
        "\r\n",
        "model = Word2Vec(n_item, latent_dim, ns)\r\n",
        "model.compile(optimizer = 'adam', loss = custom_loss, metrics = ['accuracy'])"
      ],
      "execution_count": 14,
      "outputs": []
    },
    {
      "cell_type": "code",
      "metadata": {
        "colab": {
          "base_uri": "https://localhost:8080/"
        },
        "id": "9juV1mceRBNf",
        "outputId": "8a9ba2cb-e421-44b6-90e5-c28b4eaf7daa"
      },
      "source": [
        "model.fit(train_data, epochs = 50)"
      ],
      "execution_count": 15,
      "outputs": [
        {
          "output_type": "stream",
          "text": [
            "Epoch 1/50\n",
            "904/904 [==============================] - 21s 22ms/step - loss: 824.1976 - accuracy: 0.2016\n",
            "Epoch 2/50\n",
            "904/904 [==============================] - 19s 21ms/step - loss: 796.0404 - accuracy: 0.4352\n",
            "Epoch 3/50\n",
            "904/904 [==============================] - 19s 21ms/step - loss: 727.6719 - accuracy: 0.4998\n",
            "Epoch 4/50\n",
            "904/904 [==============================] - 19s 21ms/step - loss: 650.5384 - accuracy: 0.5559\n",
            "Epoch 5/50\n",
            "904/904 [==============================] - 19s 21ms/step - loss: 589.8036 - accuracy: 0.5973\n",
            "Epoch 6/50\n",
            "904/904 [==============================] - 19s 21ms/step - loss: 543.7278 - accuracy: 0.6290\n",
            "Epoch 7/50\n",
            "904/904 [==============================] - 19s 21ms/step - loss: 507.5478 - accuracy: 0.6542\n",
            "Epoch 8/50\n",
            "904/904 [==============================] - 19s 21ms/step - loss: 478.1140 - accuracy: 0.6753\n",
            "Epoch 9/50\n",
            "904/904 [==============================] - 19s 21ms/step - loss: 453.5261 - accuracy: 0.6925\n",
            "Epoch 10/50\n",
            "904/904 [==============================] - 19s 21ms/step - loss: 432.5949 - accuracy: 0.7081\n",
            "Epoch 11/50\n",
            "904/904 [==============================] - 19s 21ms/step - loss: 414.5335 - accuracy: 0.7213\n",
            "Epoch 12/50\n",
            "904/904 [==============================] - 19s 21ms/step - loss: 398.7914 - accuracy: 0.7328\n",
            "Epoch 13/50\n",
            "904/904 [==============================] - 19s 21ms/step - loss: 384.9641 - accuracy: 0.7426\n",
            "Epoch 14/50\n",
            "904/904 [==============================] - 19s 21ms/step - loss: 372.7436 - accuracy: 0.7509\n",
            "Epoch 15/50\n",
            "904/904 [==============================] - 19s 21ms/step - loss: 361.8868 - accuracy: 0.7585\n",
            "Epoch 16/50\n",
            "904/904 [==============================] - 19s 21ms/step - loss: 352.1977 - accuracy: 0.7654\n",
            "Epoch 17/50\n",
            "904/904 [==============================] - 19s 21ms/step - loss: 343.5152 - accuracy: 0.7709\n",
            "Epoch 18/50\n",
            "904/904 [==============================] - 19s 21ms/step - loss: 335.7049 - accuracy: 0.7758\n",
            "Epoch 19/50\n",
            "904/904 [==============================] - 19s 21ms/step - loss: 328.6544 - accuracy: 0.7802\n",
            "Epoch 20/50\n",
            "904/904 [==============================] - 18s 20ms/step - loss: 322.2698 - accuracy: 0.7843\n",
            "Epoch 21/50\n",
            "904/904 [==============================] - 19s 21ms/step - loss: 316.4709 - accuracy: 0.7879\n",
            "Epoch 22/50\n",
            "904/904 [==============================] - 19s 21ms/step - loss: 311.1872 - accuracy: 0.7912\n",
            "Epoch 23/50\n",
            "904/904 [==============================] - 19s 21ms/step - loss: 306.3596 - accuracy: 0.7941\n",
            "Epoch 24/50\n",
            "904/904 [==============================] - 19s 21ms/step - loss: 301.9373 - accuracy: 0.7969\n",
            "Epoch 25/50\n",
            "904/904 [==============================] - 19s 21ms/step - loss: 297.8763 - accuracy: 0.7994\n",
            "Epoch 26/50\n",
            "904/904 [==============================] - 19s 21ms/step - loss: 294.1349 - accuracy: 0.8015\n",
            "Epoch 27/50\n",
            "904/904 [==============================] - 19s 21ms/step - loss: 290.6776 - accuracy: 0.8035\n",
            "Epoch 28/50\n",
            "904/904 [==============================] - 19s 21ms/step - loss: 287.4750 - accuracy: 0.8053\n",
            "Epoch 29/50\n",
            "904/904 [==============================] - 19s 21ms/step - loss: 284.5011 - accuracy: 0.8071\n",
            "Epoch 30/50\n",
            "904/904 [==============================] - 19s 21ms/step - loss: 281.7347 - accuracy: 0.8085\n",
            "Epoch 31/50\n",
            "904/904 [==============================] - 19s 21ms/step - loss: 279.1556 - accuracy: 0.8100\n",
            "Epoch 32/50\n",
            "904/904 [==============================] - 19s 21ms/step - loss: 276.7464 - accuracy: 0.8114\n",
            "Epoch 33/50\n",
            "904/904 [==============================] - 20s 22ms/step - loss: 274.4919 - accuracy: 0.8127\n",
            "Epoch 34/50\n",
            "904/904 [==============================] - 19s 21ms/step - loss: 272.3798 - accuracy: 0.8141\n",
            "Epoch 35/50\n",
            "904/904 [==============================] - 19s 22ms/step - loss: 270.3973 - accuracy: 0.8152\n",
            "Epoch 36/50\n",
            "904/904 [==============================] - 19s 21ms/step - loss: 268.5303 - accuracy: 0.8162\n",
            "Epoch 37/50\n",
            "904/904 [==============================] - 19s 21ms/step - loss: 266.7692 - accuracy: 0.8171\n",
            "Epoch 38/50\n",
            "904/904 [==============================] - 19s 21ms/step - loss: 265.1054 - accuracy: 0.8179\n",
            "Epoch 39/50\n",
            "904/904 [==============================] - 19s 21ms/step - loss: 263.5314 - accuracy: 0.8187\n",
            "Epoch 40/50\n",
            "904/904 [==============================] - 19s 21ms/step - loss: 262.0400 - accuracy: 0.8194\n",
            "Epoch 41/50\n",
            "904/904 [==============================] - 19s 21ms/step - loss: 260.6253 - accuracy: 0.8202\n",
            "Epoch 42/50\n",
            "904/904 [==============================] - 19s 21ms/step - loss: 259.2822 - accuracy: 0.8207\n",
            "Epoch 43/50\n",
            "904/904 [==============================] - 19s 21ms/step - loss: 258.0056 - accuracy: 0.8213\n",
            "Epoch 44/50\n",
            "904/904 [==============================] - 19s 21ms/step - loss: 256.7902 - accuracy: 0.8218\n",
            "Epoch 45/50\n",
            "904/904 [==============================] - 19s 21ms/step - loss: 255.6312 - accuracy: 0.8223\n",
            "Epoch 46/50\n",
            "904/904 [==============================] - 19s 21ms/step - loss: 254.5232 - accuracy: 0.8228\n",
            "Epoch 47/50\n",
            "904/904 [==============================] - 19s 21ms/step - loss: 253.4648 - accuracy: 0.8232\n",
            "Epoch 48/50\n",
            "904/904 [==============================] - 19s 21ms/step - loss: 252.4512 - accuracy: 0.8236\n",
            "Epoch 49/50\n",
            "904/904 [==============================] - 19s 22ms/step - loss: 251.4791 - accuracy: 0.8241\n",
            "Epoch 50/50\n",
            "904/904 [==============================] - 20s 22ms/step - loss: 250.5456 - accuracy: 0.8245\n"
          ],
          "name": "stdout"
        },
        {
          "output_type": "execute_result",
          "data": {
            "text/plain": [
              "<tensorflow.python.keras.callbacks.History at 0x7fe1d8212e80>"
            ]
          },
          "metadata": {
            "tags": []
          },
          "execution_count": 15
        }
      ]
    },
    {
      "cell_type": "code",
      "metadata": {
        "id": "i1z8ec170Pef"
      },
      "source": [
        "weight = model.get_layer(name = 'item_embedding').get_weights()[0]"
      ],
      "execution_count": 16,
      "outputs": []
    },
    {
      "cell_type": "code",
      "metadata": {
        "id": "yGU1WpJGBuYW"
      },
      "source": [
        "def get_user_embedding(movie_list, weight):\r\n",
        "    return np.mean(weight[movie_list], axis = 0)"
      ],
      "execution_count": 17,
      "outputs": []
    },
    {
      "cell_type": "code",
      "metadata": {
        "id": "2ph6MstGBcjL"
      },
      "source": [
        "def test_predictor(query, train_gen):\r\n",
        "    test = query[['user_id', 'movie_id']]\r\n",
        "    test = test.assign(movie_id = test_q.movie_id.map(train_gen.item2idx_map))\r\n",
        "    test = test.dropna().astype(int)\r\n",
        "    test = list_agg(test)\r\n",
        "\r\n",
        "    train = list_agg(train_gen.train)\r\n",
        "    train_user_embedding = np.vstack(train.movie_id.apply(lambda x: get_user_embedding(x, weight)))\r\n",
        "    test_user_embedding = np.vstack(test.movie_id.apply(lambda x: get_user_embedding(x, weight)))\r\n",
        "\r\n",
        "    sim = np.matmul(test_user_embedding, train_user_embedding.T)\r\n",
        "    nn = np.argsort(sim, axis = 1)[:, ::-1][:, :200]\r\n",
        "\r\n",
        "    ranking = lambda x: pd.value_counts(np.hstack(train.movie_id[x])).index[:200]\r\n",
        "    cands = np.apply_along_axis(ranking, 1, nn)\r\n",
        "\r\n",
        "    top_k = lambda cand, seen: cand[~np.isin(cand, seen)][:100]\r\n",
        "    pred = [top_k(cand, seen) for cand, seen in zip(cands, test.movie_id)]\r\n",
        "    \r\n",
        "    pred = pd.DataFrame({'user_id': test.user_id, 'movie_id': pred})\r\n",
        "    pred = pred.assign(movie_id = pred.movie_id.apply(lambda x: [train_gen.idx2item_map[y] for y in x]))\r\n",
        "    return pred"
      ],
      "execution_count": 18,
      "outputs": []
    },
    {
      "cell_type": "code",
      "metadata": {
        "id": "RzFy7tn4LUN4"
      },
      "source": [
        "class evaluate:\r\n",
        "    def __init__(self, true: pd.DataFrame, pred: pd.DataFrame):\r\n",
        "        self.true = true\r\n",
        "        self.pred = pred\r\n",
        "        self.max_K = 10000\r\n",
        "        self.idcg = np.cumsum([1.0 / np.log2(i+2) for i in range(self.max_K)])\r\n",
        "\r\n",
        "    def _recall(self, gt: List, rec: List, K = None) -> float: # Recall\r\n",
        "        res = [r for r in rec[:K] if r in gt]\r\n",
        "        return len(res) / np.min([K, len(gt)])\r\n",
        "    \r\n",
        "    def _precision(self, gt: List, rec: List, K = None) -> float: # Precision\r\n",
        "        res = [r for r in rec[:K] if r in gt]\r\n",
        "        return len(res) / len(rec[:K])\r\n",
        "\r\n",
        "    def _AP(self, gt: List, rec: List, K = None) -> float: # Average Precision\r\n",
        "        res = 0.0\r\n",
        "        for i, r in enumerate(rec[:K]):\r\n",
        "            if r in gt:\r\n",
        "                res += self._precision(gt, rec[:K], i+1)\r\n",
        "        return res / np.min([K, len(gt)])\r\n",
        "\r\n",
        "    def _HR(self, gt: List, rec: List, K = None) -> float: # Hit Rate\r\n",
        "        for i, r in enumerate(rec[:K]):\r\n",
        "            if r in gt:\r\n",
        "                return  1.0\r\n",
        "        return 0\r\n",
        "\r\n",
        "    def _RR(self, gt: List, rec: List, K = None) -> float: # Reciprocal Rank\r\n",
        "        for i, r in enumerate(rec[:K]):\r\n",
        "            if r in gt:\r\n",
        "                return  1.0 / (i+1)\r\n",
        "        return 0\r\n",
        "\r\n",
        "    def _nDCG(self, gt: List, rec: List, K = None) -> float: # normalized Discounted Cumulative Gain\r\n",
        "        dcg = 0.0\r\n",
        "        for i, r in enumerate(rec[:K]):\r\n",
        "            if r in gt:\r\n",
        "                dcg += 1.0 / np.log2(i+2)\r\n",
        "        idcg = self.idcg[min([len(gt), K])-1]\r\n",
        "        return dcg / idcg\r\n",
        "\r\n",
        "    def _get_item(self, rec: List, K = None) -> float:\r\n",
        "        for r in rec[:K]:\r\n",
        "            self.uniq_item[r] = self.uniq_item.get(r, 0) + 1\r\n",
        "\r\n",
        "    def __call__(self, K = None):\r\n",
        "        self.K = K if K else self.max_K\r\n",
        "        self.recall = 0.0\r\n",
        "        self.precision = 0.0\r\n",
        "        self.MAP = 0.0\r\n",
        "        self.HR = 0.0\r\n",
        "        self.MRR = 0.0\r\n",
        "        self.nDCG = 0.0\r\n",
        "        self.uniq_item = {}\r\n",
        "        n = self.true.index.size\r\n",
        "        for gt, rec in zip(tqdm(self.true.movie_id), self.pred.movie_id):\r\n",
        "            self.recall += self._recall(gt, rec, K) / n\r\n",
        "            self.precision += self._precision(gt, rec, K) / n\r\n",
        "            self.MAP += self._AP(gt, rec, K) / n\r\n",
        "            self.HR += self._HR(gt, rec, K) / n\r\n",
        "            self.MRR += self._RR(gt, rec, K) / n\r\n",
        "            self.nDCG += self._nDCG(gt, rec, K) / n\r\n",
        "            self._get_item(rec, K)\r\n",
        "        self.CO = len(self.uniq_item) / (n*K) # Coverage\r\n",
        "        self.ED = -np.sum([self.uniq_item[i] * np.log(self.uniq_item[i] / (n*K)) for i in self.uniq_item]) / (n*K) # Entropy-Diversity\r\n",
        "\r\n",
        "    def print_all(self):\r\n",
        "        K = '@' + str(self.K) if self.K else ''\r\n",
        "        print(f'{\"Recall\":>12}{K} : {self.recall:.5f}',\r\n",
        "              f'\\n{\"Precision\":>12}{K} : {self.precision:.5f}',\r\n",
        "              f'\\n{\"MAP\":>12}{K} : {self.MAP:.5f}',\r\n",
        "              f'\\n{\"HR\":>12}{K} : {self.HR:.5f}', \r\n",
        "              f'\\n{\"MRR\":>12}{K} : {self.MRR:.5f}',\r\n",
        "              f'\\n{\"nDCG\":>12}{K} : {self.nDCG:.5f}',\r\n",
        "              f'\\n{\"CO\":>12}{K} : {self.CO:.5f}',\r\n",
        "              f'\\n{\"ED\":>12}{K} : {self.ED:.5f}')"
      ],
      "execution_count": 19,
      "outputs": []
    },
    {
      "cell_type": "code",
      "metadata": {
        "colab": {
          "base_uri": "https://localhost:8080/",
          "height": 195
        },
        "id": "X383iC_a999N",
        "outputId": "ef372647-7e6a-4700-f15e-bc27f6134736"
      },
      "source": [
        "true = list_agg(test_r)\r\n",
        "true.head(5)"
      ],
      "execution_count": 20,
      "outputs": [
        {
          "output_type": "execute_result",
          "data": {
            "text/html": [
              "<div>\n",
              "<style scoped>\n",
              "    .dataframe tbody tr th:only-of-type {\n",
              "        vertical-align: middle;\n",
              "    }\n",
              "\n",
              "    .dataframe tbody tr th {\n",
              "        vertical-align: top;\n",
              "    }\n",
              "\n",
              "    .dataframe thead th {\n",
              "        text-align: right;\n",
              "    }\n",
              "</style>\n",
              "<table border=\"1\" class=\"dataframe\">\n",
              "  <thead>\n",
              "    <tr style=\"text-align: right;\">\n",
              "      <th></th>\n",
              "      <th>user_id</th>\n",
              "      <th>movie_id</th>\n",
              "    </tr>\n",
              "  </thead>\n",
              "  <tbody>\n",
              "    <tr>\n",
              "      <th>0</th>\n",
              "      <td>3</td>\n",
              "      <td>[1394, 104, 1079, 1259, 2355, 3552, 1304, 2081]</td>\n",
              "    </tr>\n",
              "    <tr>\n",
              "      <th>1</th>\n",
              "      <td>9</td>\n",
              "      <td>[2268, 1682, 2278, 590, 524, 529, 2294, 1921, ...</td>\n",
              "    </tr>\n",
              "    <tr>\n",
              "      <th>2</th>\n",
              "      <td>42</td>\n",
              "      <td>[3421, 3868, 1257, 2997, 2134, 1265, 593, 2143...</td>\n",
              "    </tr>\n",
              "    <tr>\n",
              "      <th>3</th>\n",
              "      <td>79</td>\n",
              "      <td>[3044, 3176, 2686, 2024]</td>\n",
              "    </tr>\n",
              "    <tr>\n",
              "      <th>4</th>\n",
              "      <td>92</td>\n",
              "      <td>[2054, 2134, 733, 592, 2072, 3107, 2162, 1291,...</td>\n",
              "    </tr>\n",
              "  </tbody>\n",
              "</table>\n",
              "</div>"
            ],
            "text/plain": [
              "   user_id                                           movie_id\n",
              "0        3    [1394, 104, 1079, 1259, 2355, 3552, 1304, 2081]\n",
              "1        9  [2268, 1682, 2278, 590, 524, 529, 2294, 1921, ...\n",
              "2       42  [3421, 3868, 1257, 2997, 2134, 1265, 593, 2143...\n",
              "3       79                           [3044, 3176, 2686, 2024]\n",
              "4       92  [2054, 2134, 733, 592, 2072, 3107, 2162, 1291,..."
            ]
          },
          "metadata": {
            "tags": []
          },
          "execution_count": 20
        }
      ]
    },
    {
      "cell_type": "code",
      "metadata": {
        "colab": {
          "base_uri": "https://localhost:8080/",
          "height": 195
        },
        "id": "RRx4dF1P0c5L",
        "outputId": "47a4a1dc-ce0d-42d7-b4d5-6437a073eb3e"
      },
      "source": [
        "pred = test_predictor(test_q, train_gen)\r\n",
        "pred.head(5)"
      ],
      "execution_count": 21,
      "outputs": [
        {
          "output_type": "execute_result",
          "data": {
            "text/html": [
              "<div>\n",
              "<style scoped>\n",
              "    .dataframe tbody tr th:only-of-type {\n",
              "        vertical-align: middle;\n",
              "    }\n",
              "\n",
              "    .dataframe tbody tr th {\n",
              "        vertical-align: top;\n",
              "    }\n",
              "\n",
              "    .dataframe thead th {\n",
              "        text-align: right;\n",
              "    }\n",
              "</style>\n",
              "<table border=\"1\" class=\"dataframe\">\n",
              "  <thead>\n",
              "    <tr style=\"text-align: right;\">\n",
              "      <th></th>\n",
              "      <th>user_id</th>\n",
              "      <th>movie_id</th>\n",
              "    </tr>\n",
              "  </thead>\n",
              "  <tbody>\n",
              "    <tr>\n",
              "      <th>0</th>\n",
              "      <td>3</td>\n",
              "      <td>[2571, 1270, 589, 2028, 1240, 110, 1259, 1580,...</td>\n",
              "    </tr>\n",
              "    <tr>\n",
              "      <th>1</th>\n",
              "      <td>9</td>\n",
              "      <td>[2997, 296, 2396, 110, 2599, 1196, 260, 3578, ...</td>\n",
              "    </tr>\n",
              "    <tr>\n",
              "      <th>2</th>\n",
              "      <td>42</td>\n",
              "      <td>[2571, 2916, 1580, 2028, 32, 110, 1206, 858, 1...</td>\n",
              "    </tr>\n",
              "    <tr>\n",
              "      <th>3</th>\n",
              "      <td>79</td>\n",
              "      <td>[2858, 3578, 260, 1210, 3753, 3481, 2762, 2028...</td>\n",
              "    </tr>\n",
              "    <tr>\n",
              "      <th>4</th>\n",
              "      <td>92</td>\n",
              "      <td>[2858, 260, 1196, 1198, 2028, 1210, 589, 2997,...</td>\n",
              "    </tr>\n",
              "  </tbody>\n",
              "</table>\n",
              "</div>"
            ],
            "text/plain": [
              "   user_id                                           movie_id\n",
              "0        3  [2571, 1270, 589, 2028, 1240, 110, 1259, 1580,...\n",
              "1        9  [2997, 296, 2396, 110, 2599, 1196, 260, 3578, ...\n",
              "2       42  [2571, 2916, 1580, 2028, 32, 110, 1206, 858, 1...\n",
              "3       79  [2858, 3578, 260, 1210, 3753, 3481, 2762, 2028...\n",
              "4       92  [2858, 260, 1196, 1198, 2028, 1210, 589, 2997,..."
            ]
          },
          "metadata": {
            "tags": []
          },
          "execution_count": 21
        }
      ]
    },
    {
      "cell_type": "code",
      "metadata": {
        "id": "y-4jhJNTeDVw",
        "colab": {
          "base_uri": "https://localhost:8080/",
          "height": 398,
          "referenced_widgets": [
            "d0945d241fed4f6b83b2a281093947c1",
            "bcf28a119bed4ef38371392f078f9d8d",
            "f3e60ae1672149909905d554cb2fd527",
            "9782043f61e94ea185e6a26327ea1482",
            "ed951500ba8a44f1b7a86c3dc2b24b52",
            "c5cf3c12560946bab3ec530a2e2ca542",
            "47a15b0b5c14474db50dcbcfb7c61e14",
            "317b9c8f67bb4583bfd95fd9c33a8511",
            "a8c9ab9f558b4dac81e1fdf57b7437e2",
            "bdac3b93ca1b46b89cdedc02c3a0d3b1",
            "f694ca37afc044d58bdfb8a53c43d1f2",
            "ffc3ca5449764cb8a138c0a1a8314831",
            "3cb1b5e5c3a448618d5926a688f23f4c",
            "b73ccedf1548451588dfec93dc46c43c",
            "eb2d0e456a994103bcf5eb42467e3b85",
            "d047b53064fd467a8e1dc483b12000aa"
          ]
        },
        "outputId": "3eccc54d-8bb7-4284-e348-ceb808c4ce09"
      },
      "source": [
        "scores = evaluate(true, pred)\n",
        "\n",
        "scores(K = 10)\n",
        "scores.print_all()\n",
        "\n",
        "scores(K = 100)\n",
        "scores.print_all()"
      ],
      "execution_count": 22,
      "outputs": [
        {
          "output_type": "display_data",
          "data": {
            "application/vnd.jupyter.widget-view+json": {
              "model_id": "d0945d241fed4f6b83b2a281093947c1",
              "version_minor": 0,
              "version_major": 2
            },
            "text/plain": [
              "HBox(children=(FloatProgress(value=0.0, max=604.0), HTML(value='')))"
            ]
          },
          "metadata": {
            "tags": []
          }
        },
        {
          "output_type": "stream",
          "text": [
            "\n",
            "      Recall@10 : 0.09670 \n",
            "   Precision@10 : 0.07930 \n",
            "         MAP@10 : 0.04273 \n",
            "          HR@10 : 0.44205 \n",
            "         MRR@10 : 0.19304 \n",
            "        nDCG@10 : 0.09377 \n",
            "          CO@10 : 0.02152 \n",
            "          ED@10 : 3.91244\n"
          ],
          "name": "stdout"
        },
        {
          "output_type": "display_data",
          "data": {
            "application/vnd.jupyter.widget-view+json": {
              "model_id": "a8c9ab9f558b4dac81e1fdf57b7437e2",
              "version_minor": 0,
              "version_major": 2
            },
            "text/plain": [
              "HBox(children=(FloatProgress(value=0.0, max=604.0), HTML(value='')))"
            ]
          },
          "metadata": {
            "tags": []
          }
        },
        {
          "output_type": "stream",
          "text": [
            "\n",
            "      Recall@100 : 0.33168 \n",
            "   Precision@100 : 0.04824 \n",
            "         MAP@100 : 0.04893 \n",
            "          HR@100 : 0.90894 \n",
            "         MRR@100 : 0.21235 \n",
            "        nDCG@100 : 0.18186 \n",
            "          CO@100 : 0.01113 \n",
            "          ED@100 : 5.58269\n"
          ],
          "name": "stdout"
        }
      ]
    }
  ]
}