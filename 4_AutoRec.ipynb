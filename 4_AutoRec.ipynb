{
  "nbformat": 4,
  "nbformat_minor": 0,
  "metadata": {
    "colab": {
      "name": "4.AutoRec.ipynb",
      "provenance": [],
      "collapsed_sections": [],
      "authorship_tag": "ABX9TyOc0pSyRbhNLpwzsbDBZx2B",
      "include_colab_link": true
    },
    "kernelspec": {
      "name": "python3",
      "display_name": "Python 3"
    },
    "accelerator": "GPU",
    "widgets": {
      "application/vnd.jupyter.widget-state+json": {
        "2743c9641bc444658b80033b5df7be71": {
          "model_module": "@jupyter-widgets/controls",
          "model_name": "HBoxModel",
          "state": {
            "_view_name": "HBoxView",
            "_dom_classes": [],
            "_model_name": "HBoxModel",
            "_view_module": "@jupyter-widgets/controls",
            "_model_module_version": "1.5.0",
            "_view_count": null,
            "_view_module_version": "1.5.0",
            "box_style": "",
            "layout": "IPY_MODEL_5ee84337f3cc466bb5882687007685a6",
            "_model_module": "@jupyter-widgets/controls",
            "children": [
              "IPY_MODEL_de4b91f556d14727890d3dad57117bb0",
              "IPY_MODEL_76f5a50853184319b145daa8fbdfc406"
            ]
          }
        },
        "5ee84337f3cc466bb5882687007685a6": {
          "model_module": "@jupyter-widgets/base",
          "model_name": "LayoutModel",
          "state": {
            "_view_name": "LayoutView",
            "grid_template_rows": null,
            "right": null,
            "justify_content": null,
            "_view_module": "@jupyter-widgets/base",
            "overflow": null,
            "_model_module_version": "1.2.0",
            "_view_count": null,
            "flex_flow": null,
            "width": null,
            "min_width": null,
            "border": null,
            "align_items": null,
            "bottom": null,
            "_model_module": "@jupyter-widgets/base",
            "top": null,
            "grid_column": null,
            "overflow_y": null,
            "overflow_x": null,
            "grid_auto_flow": null,
            "grid_area": null,
            "grid_template_columns": null,
            "flex": null,
            "_model_name": "LayoutModel",
            "justify_items": null,
            "grid_row": null,
            "max_height": null,
            "align_content": null,
            "visibility": null,
            "align_self": null,
            "height": null,
            "min_height": null,
            "padding": null,
            "grid_auto_rows": null,
            "grid_gap": null,
            "max_width": null,
            "order": null,
            "_view_module_version": "1.2.0",
            "grid_template_areas": null,
            "object_position": null,
            "object_fit": null,
            "grid_auto_columns": null,
            "margin": null,
            "display": null,
            "left": null
          }
        },
        "de4b91f556d14727890d3dad57117bb0": {
          "model_module": "@jupyter-widgets/controls",
          "model_name": "FloatProgressModel",
          "state": {
            "_view_name": "ProgressView",
            "style": "IPY_MODEL_7142616712484c9cbf7971648b27bcf2",
            "_dom_classes": [],
            "description": "100%",
            "_model_name": "FloatProgressModel",
            "bar_style": "success",
            "max": 604,
            "_view_module": "@jupyter-widgets/controls",
            "_model_module_version": "1.5.0",
            "value": 604,
            "_view_count": null,
            "_view_module_version": "1.5.0",
            "orientation": "horizontal",
            "min": 0,
            "description_tooltip": null,
            "_model_module": "@jupyter-widgets/controls",
            "layout": "IPY_MODEL_d0033927243042f8a5608fa8d04b28ae"
          }
        },
        "76f5a50853184319b145daa8fbdfc406": {
          "model_module": "@jupyter-widgets/controls",
          "model_name": "HTMLModel",
          "state": {
            "_view_name": "HTMLView",
            "style": "IPY_MODEL_d48ee3a73acc4b4192460d138586eb89",
            "_dom_classes": [],
            "description": "",
            "_model_name": "HTMLModel",
            "placeholder": "​",
            "_view_module": "@jupyter-widgets/controls",
            "_model_module_version": "1.5.0",
            "value": " 604/604 [00:01&lt;00:00, 557.98it/s]",
            "_view_count": null,
            "_view_module_version": "1.5.0",
            "description_tooltip": null,
            "_model_module": "@jupyter-widgets/controls",
            "layout": "IPY_MODEL_0e35d5181b164290a0dfa90d8a068cb8"
          }
        },
        "7142616712484c9cbf7971648b27bcf2": {
          "model_module": "@jupyter-widgets/controls",
          "model_name": "ProgressStyleModel",
          "state": {
            "_view_name": "StyleView",
            "_model_name": "ProgressStyleModel",
            "description_width": "initial",
            "_view_module": "@jupyter-widgets/base",
            "_model_module_version": "1.5.0",
            "_view_count": null,
            "_view_module_version": "1.2.0",
            "bar_color": null,
            "_model_module": "@jupyter-widgets/controls"
          }
        },
        "d0033927243042f8a5608fa8d04b28ae": {
          "model_module": "@jupyter-widgets/base",
          "model_name": "LayoutModel",
          "state": {
            "_view_name": "LayoutView",
            "grid_template_rows": null,
            "right": null,
            "justify_content": null,
            "_view_module": "@jupyter-widgets/base",
            "overflow": null,
            "_model_module_version": "1.2.0",
            "_view_count": null,
            "flex_flow": null,
            "width": null,
            "min_width": null,
            "border": null,
            "align_items": null,
            "bottom": null,
            "_model_module": "@jupyter-widgets/base",
            "top": null,
            "grid_column": null,
            "overflow_y": null,
            "overflow_x": null,
            "grid_auto_flow": null,
            "grid_area": null,
            "grid_template_columns": null,
            "flex": null,
            "_model_name": "LayoutModel",
            "justify_items": null,
            "grid_row": null,
            "max_height": null,
            "align_content": null,
            "visibility": null,
            "align_self": null,
            "height": null,
            "min_height": null,
            "padding": null,
            "grid_auto_rows": null,
            "grid_gap": null,
            "max_width": null,
            "order": null,
            "_view_module_version": "1.2.0",
            "grid_template_areas": null,
            "object_position": null,
            "object_fit": null,
            "grid_auto_columns": null,
            "margin": null,
            "display": null,
            "left": null
          }
        },
        "d48ee3a73acc4b4192460d138586eb89": {
          "model_module": "@jupyter-widgets/controls",
          "model_name": "DescriptionStyleModel",
          "state": {
            "_view_name": "StyleView",
            "_model_name": "DescriptionStyleModel",
            "description_width": "",
            "_view_module": "@jupyter-widgets/base",
            "_model_module_version": "1.5.0",
            "_view_count": null,
            "_view_module_version": "1.2.0",
            "_model_module": "@jupyter-widgets/controls"
          }
        },
        "0e35d5181b164290a0dfa90d8a068cb8": {
          "model_module": "@jupyter-widgets/base",
          "model_name": "LayoutModel",
          "state": {
            "_view_name": "LayoutView",
            "grid_template_rows": null,
            "right": null,
            "justify_content": null,
            "_view_module": "@jupyter-widgets/base",
            "overflow": null,
            "_model_module_version": "1.2.0",
            "_view_count": null,
            "flex_flow": null,
            "width": null,
            "min_width": null,
            "border": null,
            "align_items": null,
            "bottom": null,
            "_model_module": "@jupyter-widgets/base",
            "top": null,
            "grid_column": null,
            "overflow_y": null,
            "overflow_x": null,
            "grid_auto_flow": null,
            "grid_area": null,
            "grid_template_columns": null,
            "flex": null,
            "_model_name": "LayoutModel",
            "justify_items": null,
            "grid_row": null,
            "max_height": null,
            "align_content": null,
            "visibility": null,
            "align_self": null,
            "height": null,
            "min_height": null,
            "padding": null,
            "grid_auto_rows": null,
            "grid_gap": null,
            "max_width": null,
            "order": null,
            "_view_module_version": "1.2.0",
            "grid_template_areas": null,
            "object_position": null,
            "object_fit": null,
            "grid_auto_columns": null,
            "margin": null,
            "display": null,
            "left": null
          }
        },
        "1e84884648e146cd8ab4f04d97067bd1": {
          "model_module": "@jupyter-widgets/controls",
          "model_name": "HBoxModel",
          "state": {
            "_view_name": "HBoxView",
            "_dom_classes": [],
            "_model_name": "HBoxModel",
            "_view_module": "@jupyter-widgets/controls",
            "_model_module_version": "1.5.0",
            "_view_count": null,
            "_view_module_version": "1.5.0",
            "box_style": "",
            "layout": "IPY_MODEL_fb5e8ae586b14fda9f027ce0c313eaee",
            "_model_module": "@jupyter-widgets/controls",
            "children": [
              "IPY_MODEL_3e18c92fb3d841a3a1b91bbe57891e44",
              "IPY_MODEL_46dc8e048eb345ea9d1d81873929e5e0"
            ]
          }
        },
        "fb5e8ae586b14fda9f027ce0c313eaee": {
          "model_module": "@jupyter-widgets/base",
          "model_name": "LayoutModel",
          "state": {
            "_view_name": "LayoutView",
            "grid_template_rows": null,
            "right": null,
            "justify_content": null,
            "_view_module": "@jupyter-widgets/base",
            "overflow": null,
            "_model_module_version": "1.2.0",
            "_view_count": null,
            "flex_flow": null,
            "width": null,
            "min_width": null,
            "border": null,
            "align_items": null,
            "bottom": null,
            "_model_module": "@jupyter-widgets/base",
            "top": null,
            "grid_column": null,
            "overflow_y": null,
            "overflow_x": null,
            "grid_auto_flow": null,
            "grid_area": null,
            "grid_template_columns": null,
            "flex": null,
            "_model_name": "LayoutModel",
            "justify_items": null,
            "grid_row": null,
            "max_height": null,
            "align_content": null,
            "visibility": null,
            "align_self": null,
            "height": null,
            "min_height": null,
            "padding": null,
            "grid_auto_rows": null,
            "grid_gap": null,
            "max_width": null,
            "order": null,
            "_view_module_version": "1.2.0",
            "grid_template_areas": null,
            "object_position": null,
            "object_fit": null,
            "grid_auto_columns": null,
            "margin": null,
            "display": null,
            "left": null
          }
        },
        "3e18c92fb3d841a3a1b91bbe57891e44": {
          "model_module": "@jupyter-widgets/controls",
          "model_name": "FloatProgressModel",
          "state": {
            "_view_name": "ProgressView",
            "style": "IPY_MODEL_424d753a64d04c22809fcbdbfdd0fbd5",
            "_dom_classes": [],
            "description": "100%",
            "_model_name": "FloatProgressModel",
            "bar_style": "success",
            "max": 604,
            "_view_module": "@jupyter-widgets/controls",
            "_model_module_version": "1.5.0",
            "value": 604,
            "_view_count": null,
            "_view_module_version": "1.5.0",
            "orientation": "horizontal",
            "min": 0,
            "description_tooltip": null,
            "_model_module": "@jupyter-widgets/controls",
            "layout": "IPY_MODEL_f8d4011b49c847098b5cd8de3925f334"
          }
        },
        "46dc8e048eb345ea9d1d81873929e5e0": {
          "model_module": "@jupyter-widgets/controls",
          "model_name": "HTMLModel",
          "state": {
            "_view_name": "HTMLView",
            "style": "IPY_MODEL_99c76f6409ba4cdea69e63f4b55a7e99",
            "_dom_classes": [],
            "description": "",
            "_model_name": "HTMLModel",
            "placeholder": "​",
            "_view_module": "@jupyter-widgets/controls",
            "_model_module_version": "1.5.0",
            "value": " 604/604 [00:01&lt;00:00, 394.44it/s]",
            "_view_count": null,
            "_view_module_version": "1.5.0",
            "description_tooltip": null,
            "_model_module": "@jupyter-widgets/controls",
            "layout": "IPY_MODEL_41f2d1a223b449bbb4f79b6d8fde7117"
          }
        },
        "424d753a64d04c22809fcbdbfdd0fbd5": {
          "model_module": "@jupyter-widgets/controls",
          "model_name": "ProgressStyleModel",
          "state": {
            "_view_name": "StyleView",
            "_model_name": "ProgressStyleModel",
            "description_width": "initial",
            "_view_module": "@jupyter-widgets/base",
            "_model_module_version": "1.5.0",
            "_view_count": null,
            "_view_module_version": "1.2.0",
            "bar_color": null,
            "_model_module": "@jupyter-widgets/controls"
          }
        },
        "f8d4011b49c847098b5cd8de3925f334": {
          "model_module": "@jupyter-widgets/base",
          "model_name": "LayoutModel",
          "state": {
            "_view_name": "LayoutView",
            "grid_template_rows": null,
            "right": null,
            "justify_content": null,
            "_view_module": "@jupyter-widgets/base",
            "overflow": null,
            "_model_module_version": "1.2.0",
            "_view_count": null,
            "flex_flow": null,
            "width": null,
            "min_width": null,
            "border": null,
            "align_items": null,
            "bottom": null,
            "_model_module": "@jupyter-widgets/base",
            "top": null,
            "grid_column": null,
            "overflow_y": null,
            "overflow_x": null,
            "grid_auto_flow": null,
            "grid_area": null,
            "grid_template_columns": null,
            "flex": null,
            "_model_name": "LayoutModel",
            "justify_items": null,
            "grid_row": null,
            "max_height": null,
            "align_content": null,
            "visibility": null,
            "align_self": null,
            "height": null,
            "min_height": null,
            "padding": null,
            "grid_auto_rows": null,
            "grid_gap": null,
            "max_width": null,
            "order": null,
            "_view_module_version": "1.2.0",
            "grid_template_areas": null,
            "object_position": null,
            "object_fit": null,
            "grid_auto_columns": null,
            "margin": null,
            "display": null,
            "left": null
          }
        },
        "99c76f6409ba4cdea69e63f4b55a7e99": {
          "model_module": "@jupyter-widgets/controls",
          "model_name": "DescriptionStyleModel",
          "state": {
            "_view_name": "StyleView",
            "_model_name": "DescriptionStyleModel",
            "description_width": "",
            "_view_module": "@jupyter-widgets/base",
            "_model_module_version": "1.5.0",
            "_view_count": null,
            "_view_module_version": "1.2.0",
            "_model_module": "@jupyter-widgets/controls"
          }
        },
        "41f2d1a223b449bbb4f79b6d8fde7117": {
          "model_module": "@jupyter-widgets/base",
          "model_name": "LayoutModel",
          "state": {
            "_view_name": "LayoutView",
            "grid_template_rows": null,
            "right": null,
            "justify_content": null,
            "_view_module": "@jupyter-widgets/base",
            "overflow": null,
            "_model_module_version": "1.2.0",
            "_view_count": null,
            "flex_flow": null,
            "width": null,
            "min_width": null,
            "border": null,
            "align_items": null,
            "bottom": null,
            "_model_module": "@jupyter-widgets/base",
            "top": null,
            "grid_column": null,
            "overflow_y": null,
            "overflow_x": null,
            "grid_auto_flow": null,
            "grid_area": null,
            "grid_template_columns": null,
            "flex": null,
            "_model_name": "LayoutModel",
            "justify_items": null,
            "grid_row": null,
            "max_height": null,
            "align_content": null,
            "visibility": null,
            "align_self": null,
            "height": null,
            "min_height": null,
            "padding": null,
            "grid_auto_rows": null,
            "grid_gap": null,
            "max_width": null,
            "order": null,
            "_view_module_version": "1.2.0",
            "grid_template_areas": null,
            "object_position": null,
            "object_fit": null,
            "grid_auto_columns": null,
            "margin": null,
            "display": null,
            "left": null
          }
        }
      }
    }
  },
  "cells": [
    {
      "cell_type": "markdown",
      "metadata": {
        "id": "view-in-github",
        "colab_type": "text"
      },
      "source": [
        "<a href=\"https://colab.research.google.com/github/ivoryRabbit/RecSys/blob/master/4_AutoRec.ipynb\" target=\"_parent\"><img src=\"https://colab.research.google.com/assets/colab-badge.svg\" alt=\"Open In Colab\"/></a>"
      ]
    },
    {
      "cell_type": "markdown",
      "metadata": {
        "id": "qshJl-mq6dgf"
      },
      "source": [
        "# AutoRec\n",
        "\n",
        "- [AutoRec: Autoencoders Meet Collaborative Filtering](http://users.cecs.anu.edu.au/~u5098633/papers/www15.pdf)\n",
        "\n",
        "## Experiment"
      ]
    },
    {
      "cell_type": "code",
      "metadata": {
        "id": "fXc-WZ-k2mlW"
      },
      "source": [
        "import glob\n",
        "import numpy as np\n",
        "import pandas as pd\n",
        "from typing import Callable, Tuple, List\n",
        "from tqdm.notebook import tqdm\n",
        "\n",
        "import seaborn as sns\n",
        "import matplotlib.pyplot as plt\n",
        "%matplotlib inline\n",
        "plt.style.use('bmh')\n",
        "\n",
        "from sklearn.model_selection import train_test_split\n",
        "\n",
        "import tensorflow as tf\n",
        "import tensorflow.keras.backend as K\n",
        "\n",
        "from tensorflow.keras.layers import Input, Dense\n",
        "from tensorflow.keras.models import Model, load_model\n",
        "from tensorflow.keras.callbacks import ModelCheckpoint, EarlyStopping\n",
        "from tensorflow.keras.optimizers import Adam\n",
        "from tensorflow.keras.initializers import TruncatedNormal\n",
        "from tensorflow.keras.regularizers import l2\n",
        "\n",
        "from tensorflow.keras.utils import get_file\n",
        "import zipfile\n",
        "\n",
        "np.random.seed(777)\n",
        "tf.random.set_seed(777)"
      ],
      "execution_count": 1,
      "outputs": []
    },
    {
      "cell_type": "code",
      "metadata": {
        "id": "cMJfOc0uALKr"
      },
      "source": [
        "def load_data(data_size : str) -> pd.DataFrame:\n",
        "    ''' load Movie Lens data '''\n",
        "\n",
        "    if data_size == '1m':\n",
        "        fname = 'ml-1m.zip'\n",
        "        data = 'ml-1m/ratings.dat'\n",
        "    elif data_size == '10m':\n",
        "        fname = 'ml-10m.zip'\n",
        "        data = 'ml-10M100K/ratings.dat'\n",
        "    elif data_size == '20m':\n",
        "        fname = 'ml-20m.zip'\n",
        "        data = 'ml-20m/ratings.csv'\n",
        "    elif data_size == '25m':\n",
        "        fname = 'ml-25m.zip'\n",
        "        data = 'ml-25m/ratings.csv'\n",
        "    if not glob.glob(data):\n",
        "        origin = f'http://files.grouplens.org/datasets/movielens/{fname}'\n",
        "        file = get_file(fname, origin)\n",
        "        zip_ref = zipfile.ZipFile(file, 'r')\n",
        "        zip_ref.extractall()\n",
        "\n",
        "    col_names = ['user_id', 'movie_id', 'rating', 'timestamp']\n",
        "    if data_size in ['20m', '25m']:\n",
        "        ratings = pd.read_csv(data, engine = 'python')\n",
        "    else:\n",
        "        ratings = pd.read_csv(data, sep = '|', delimiter = '::', names = col_names, engine = 'python')\n",
        "    print(ratings.shape)\n",
        "    return ratings"
      ],
      "execution_count": 2,
      "outputs": []
    },
    {
      "cell_type": "code",
      "metadata": {
        "id": "MiogkUvOBrIm",
        "colab": {
          "base_uri": "https://localhost:8080/",
          "height": 213
        },
        "outputId": "2dd0b486-d169-4aa8-dc80-0dc0f7cefdb8"
      },
      "source": [
        "ratings = load_data('1m')\n",
        "ratings.head()"
      ],
      "execution_count": 3,
      "outputs": [
        {
          "output_type": "stream",
          "text": [
            "(1000209, 4)\n"
          ],
          "name": "stdout"
        },
        {
          "output_type": "execute_result",
          "data": {
            "text/html": [
              "<div>\n",
              "<style scoped>\n",
              "    .dataframe tbody tr th:only-of-type {\n",
              "        vertical-align: middle;\n",
              "    }\n",
              "\n",
              "    .dataframe tbody tr th {\n",
              "        vertical-align: top;\n",
              "    }\n",
              "\n",
              "    .dataframe thead th {\n",
              "        text-align: right;\n",
              "    }\n",
              "</style>\n",
              "<table border=\"1\" class=\"dataframe\">\n",
              "  <thead>\n",
              "    <tr style=\"text-align: right;\">\n",
              "      <th></th>\n",
              "      <th>user_id</th>\n",
              "      <th>movie_id</th>\n",
              "      <th>rating</th>\n",
              "      <th>timestamp</th>\n",
              "    </tr>\n",
              "  </thead>\n",
              "  <tbody>\n",
              "    <tr>\n",
              "      <th>0</th>\n",
              "      <td>1</td>\n",
              "      <td>1193</td>\n",
              "      <td>5</td>\n",
              "      <td>978300760</td>\n",
              "    </tr>\n",
              "    <tr>\n",
              "      <th>1</th>\n",
              "      <td>1</td>\n",
              "      <td>661</td>\n",
              "      <td>3</td>\n",
              "      <td>978302109</td>\n",
              "    </tr>\n",
              "    <tr>\n",
              "      <th>2</th>\n",
              "      <td>1</td>\n",
              "      <td>914</td>\n",
              "      <td>3</td>\n",
              "      <td>978301968</td>\n",
              "    </tr>\n",
              "    <tr>\n",
              "      <th>3</th>\n",
              "      <td>1</td>\n",
              "      <td>3408</td>\n",
              "      <td>4</td>\n",
              "      <td>978300275</td>\n",
              "    </tr>\n",
              "    <tr>\n",
              "      <th>4</th>\n",
              "      <td>1</td>\n",
              "      <td>2355</td>\n",
              "      <td>5</td>\n",
              "      <td>978824291</td>\n",
              "    </tr>\n",
              "  </tbody>\n",
              "</table>\n",
              "</div>"
            ],
            "text/plain": [
              "   user_id  movie_id  rating  timestamp\n",
              "0        1      1193       5  978300760\n",
              "1        1       661       3  978302109\n",
              "2        1       914       3  978301968\n",
              "3        1      3408       4  978300275\n",
              "4        1      2355       5  978824291"
            ]
          },
          "metadata": {
            "tags": []
          },
          "execution_count": 3
        }
      ]
    },
    {
      "cell_type": "code",
      "metadata": {
        "colab": {
          "base_uri": "https://localhost:8080/"
        },
        "id": "O6DZEVacUnoP",
        "outputId": "850a2f5f-c7c0-4566-b2d6-ac9be1a84c30"
      },
      "source": [
        "user_list = ratings.user_id.unique()\r\n",
        "user_idx_map = {e: i for i, e in enumerate(user_list)}\r\n",
        "n_user = len(user_list)\r\n",
        "print(f'# of user = {n_user}')\r\n",
        "\r\n",
        "item_list = ratings.movie_id.unique()\r\n",
        "item_idx_map = {e: i for i, e in enumerate(item_list)}\r\n",
        "n_item = len(item_list)\r\n",
        "print(f'# of item = {n_item}')"
      ],
      "execution_count": 4,
      "outputs": [
        {
          "output_type": "stream",
          "text": [
            "# of user = 6040\n",
            "# of item = 3706\n"
          ],
          "name": "stdout"
        }
      ]
    },
    {
      "cell_type": "code",
      "metadata": {
        "colab": {
          "base_uri": "https://localhost:8080/",
          "height": 195
        },
        "id": "moR2c_tbkd8I",
        "outputId": "2aeaed77-d21f-47aa-b11a-69d7d0fb61a5"
      },
      "source": [
        "ratings = ratings.assign(\r\n",
        "    user_id = ratings.user_id.map(user_idx_map),\r\n",
        "    movie_id = ratings.movie_id.map(item_idx_map)\r\n",
        ")\r\n",
        "ratings.head()"
      ],
      "execution_count": 5,
      "outputs": [
        {
          "output_type": "execute_result",
          "data": {
            "text/html": [
              "<div>\n",
              "<style scoped>\n",
              "    .dataframe tbody tr th:only-of-type {\n",
              "        vertical-align: middle;\n",
              "    }\n",
              "\n",
              "    .dataframe tbody tr th {\n",
              "        vertical-align: top;\n",
              "    }\n",
              "\n",
              "    .dataframe thead th {\n",
              "        text-align: right;\n",
              "    }\n",
              "</style>\n",
              "<table border=\"1\" class=\"dataframe\">\n",
              "  <thead>\n",
              "    <tr style=\"text-align: right;\">\n",
              "      <th></th>\n",
              "      <th>user_id</th>\n",
              "      <th>movie_id</th>\n",
              "      <th>rating</th>\n",
              "      <th>timestamp</th>\n",
              "    </tr>\n",
              "  </thead>\n",
              "  <tbody>\n",
              "    <tr>\n",
              "      <th>0</th>\n",
              "      <td>0</td>\n",
              "      <td>0</td>\n",
              "      <td>5</td>\n",
              "      <td>978300760</td>\n",
              "    </tr>\n",
              "    <tr>\n",
              "      <th>1</th>\n",
              "      <td>0</td>\n",
              "      <td>1</td>\n",
              "      <td>3</td>\n",
              "      <td>978302109</td>\n",
              "    </tr>\n",
              "    <tr>\n",
              "      <th>2</th>\n",
              "      <td>0</td>\n",
              "      <td>2</td>\n",
              "      <td>3</td>\n",
              "      <td>978301968</td>\n",
              "    </tr>\n",
              "    <tr>\n",
              "      <th>3</th>\n",
              "      <td>0</td>\n",
              "      <td>3</td>\n",
              "      <td>4</td>\n",
              "      <td>978300275</td>\n",
              "    </tr>\n",
              "    <tr>\n",
              "      <th>4</th>\n",
              "      <td>0</td>\n",
              "      <td>4</td>\n",
              "      <td>5</td>\n",
              "      <td>978824291</td>\n",
              "    </tr>\n",
              "  </tbody>\n",
              "</table>\n",
              "</div>"
            ],
            "text/plain": [
              "   user_id  movie_id  rating  timestamp\n",
              "0        0         0       5  978300760\n",
              "1        0         1       3  978302109\n",
              "2        0         2       3  978301968\n",
              "3        0         3       4  978300275\n",
              "4        0         4       5  978824291"
            ]
          },
          "metadata": {
            "tags": []
          },
          "execution_count": 5
        }
      ]
    },
    {
      "cell_type": "code",
      "metadata": {
        "id": "_1qziMzbI_39"
      },
      "source": [
        "def binarizer(df: pd.DataFrame, threshold = 4) -> pd.DataFrame:\n",
        "    df = df.assign(rating = np.where(df.rating >= threshold, 1, 0))\n",
        "    return df[df.rating > 0.0].reset_index(drop = True)\n",
        "\n",
        "def make_warm(df: pd.DataFrame, threshold = 5) -> pd.DataFrame: # remove cold starters\n",
        "    positive = df.groupby('user_id')['movie_id'].count()\n",
        "    positive = positive.index[positive >= threshold]\n",
        "    return df[df.user_id.isin(positive)].reset_index(drop = True)\n",
        "\n",
        "def train_valid_test_split(df: pd.DataFrame, size: float) -> pd.DataFrame:\n",
        "    train_user, test_user = train_test_split(df.user_id.unique(), test_size = 2 * size, random_state = 777)\n",
        "    valid_user, test_user = train_test_split(test_user, test_size = 0.5, random_state = 777)\n",
        "    train, valid, test = map(lambda x: df[df.user_id.isin(x)], (train_user, valid_user, test_user))\n",
        "    train, valid, test = map(lambda df: df.reset_index(drop = True), (train, valid, test))\n",
        "    return train, valid, test\n",
        "\n",
        "def query_relev_split(df: pd.DataFrame, size: float) -> pd.DataFrame:\n",
        "    timeorder = df.groupby('user_id')['timestamp'].rank(method = 'first', ascending = True)\n",
        "    seen_cnts = df.groupby('user_id')['movie_id'].transform('count')\n",
        "    df = df.assign(seen_cnts = seen_cnts, timeorder = timeorder)\n",
        "    query = df[df.timeorder < df.seen_cnts * (1-size)]\n",
        "    relev = df[df.timeorder >= df.seen_cnts * (1-size)]\n",
        "    relev = relev[relev.user_id.isin(query.user_id.unique())]\n",
        "    query, relev = map(lambda df: df.drop(columns = ['timeorder', 'seen_cnts']), (query, relev))\n",
        "    query, relev = map(lambda df: df.reset_index(drop = True), (query, relev))\n",
        "    return query, relev\n",
        "\n",
        "def list_agg(df: pd.DataFrame) -> pd.DataFrame:\n",
        "    return df.groupby('user_id', as_index = False)[['movie_id']].agg(list)"
      ],
      "execution_count": 6,
      "outputs": []
    },
    {
      "cell_type": "code",
      "metadata": {
        "colab": {
          "base_uri": "https://localhost:8080/",
          "height": 195
        },
        "id": "NEmDF0bfpXl7",
        "outputId": "6b9692a1-4afd-4eb9-97c0-f54078c336b8"
      },
      "source": [
        "data = binarizer(ratings)\r\n",
        "data = make_warm(data)\r\n",
        "data.head()"
      ],
      "execution_count": 7,
      "outputs": [
        {
          "output_type": "execute_result",
          "data": {
            "text/html": [
              "<div>\n",
              "<style scoped>\n",
              "    .dataframe tbody tr th:only-of-type {\n",
              "        vertical-align: middle;\n",
              "    }\n",
              "\n",
              "    .dataframe tbody tr th {\n",
              "        vertical-align: top;\n",
              "    }\n",
              "\n",
              "    .dataframe thead th {\n",
              "        text-align: right;\n",
              "    }\n",
              "</style>\n",
              "<table border=\"1\" class=\"dataframe\">\n",
              "  <thead>\n",
              "    <tr style=\"text-align: right;\">\n",
              "      <th></th>\n",
              "      <th>user_id</th>\n",
              "      <th>movie_id</th>\n",
              "      <th>rating</th>\n",
              "      <th>timestamp</th>\n",
              "    </tr>\n",
              "  </thead>\n",
              "  <tbody>\n",
              "    <tr>\n",
              "      <th>0</th>\n",
              "      <td>0</td>\n",
              "      <td>0</td>\n",
              "      <td>1</td>\n",
              "      <td>978300760</td>\n",
              "    </tr>\n",
              "    <tr>\n",
              "      <th>1</th>\n",
              "      <td>0</td>\n",
              "      <td>3</td>\n",
              "      <td>1</td>\n",
              "      <td>978300275</td>\n",
              "    </tr>\n",
              "    <tr>\n",
              "      <th>2</th>\n",
              "      <td>0</td>\n",
              "      <td>4</td>\n",
              "      <td>1</td>\n",
              "      <td>978824291</td>\n",
              "    </tr>\n",
              "    <tr>\n",
              "      <th>3</th>\n",
              "      <td>0</td>\n",
              "      <td>6</td>\n",
              "      <td>1</td>\n",
              "      <td>978302039</td>\n",
              "    </tr>\n",
              "    <tr>\n",
              "      <th>4</th>\n",
              "      <td>0</td>\n",
              "      <td>7</td>\n",
              "      <td>1</td>\n",
              "      <td>978300719</td>\n",
              "    </tr>\n",
              "  </tbody>\n",
              "</table>\n",
              "</div>"
            ],
            "text/plain": [
              "   user_id  movie_id  rating  timestamp\n",
              "0        0         0       1  978300760\n",
              "1        0         3       1  978300275\n",
              "2        0         4       1  978824291\n",
              "3        0         6       1  978302039\n",
              "4        0         7       1  978300719"
            ]
          },
          "metadata": {
            "tags": []
          },
          "execution_count": 7
        }
      ]
    },
    {
      "cell_type": "code",
      "metadata": {
        "id": "CwE4nLcKvCVh"
      },
      "source": [
        "train, valid, test = train_valid_test_split(data, size = 0.1)\r\n",
        "valid_q, valid_r = query_relev_split(valid, size = 0.2)\r\n",
        "test_q, test_r = query_relev_split(test, size = 0.2)"
      ],
      "execution_count": 8,
      "outputs": []
    },
    {
      "cell_type": "code",
      "metadata": {
        "id": "MkLGRouPxvQ8"
      },
      "source": [
        "def train_generator(train: pd.DataFrame, \n",
        "                    n_item: int, \n",
        "                    batch_size: int) -> np.ndarray:\n",
        "\n",
        "    train = list_agg(train)\n",
        "    \n",
        "    n_data = train.index.size\n",
        "    ids = np.arange(n_data)\n",
        "    profile = train['movie_id']\n",
        "\n",
        "    n_batch = int(np.ceil(n_data / batch_size))\n",
        "    while True:\n",
        "        np.random.shuffle(ids)\n",
        "        for batch_step in range(n_batch):     \n",
        "            lower = batch_size * batch_step\n",
        "            upper = batch_size + lower\n",
        "            \n",
        "            batch_id = ids[lower: upper]\n",
        "            batch = np.zeros(shape = (batch_id.size, n_item), dtype = np.float32)\n",
        "            for i, idx in enumerate(batch_id):\n",
        "                batch[i, profile[idx]] = 1.0\n",
        "            \n",
        "            yield batch"
      ],
      "execution_count": 9,
      "outputs": []
    },
    {
      "cell_type": "code",
      "metadata": {
        "id": "pfKvNy9Ygix4"
      },
      "source": [
        "def valid_generator(query: pd.DataFrame,\n",
        "                    relev: pd.DataFrame,\n",
        "                    n_item: int,\n",
        "                    batch_size: int) -> Tuple[np.ndarray]:\n",
        "\n",
        "    query = list_agg(query)\n",
        "    relev = list_agg(relev)\n",
        "\n",
        "    n_data = query.index.size\n",
        "    ids = np.arange(n_data)\n",
        "    profile_q = query['movie_id']\n",
        "    profile_r = relev['movie_id']\n",
        "\n",
        "    n_batch = int(np.ceil(n_data / batch_size))\n",
        "    while True:\n",
        "        np.random.shuffle(ids)\n",
        "        for batch_step in range(n_batch):\n",
        "            lower = batch_size * batch_step\n",
        "            upper = batch_size + lower\n",
        "            \n",
        "            batch_id = ids[lower: upper]\n",
        "            batch_q = np.zeros(shape = (batch_id.size, n_item), dtype = np.float32)\n",
        "            batch_r = np.zeros(shape = (batch_id.size, n_item), dtype = np.float32)\n",
        "            for i, idx in enumerate(batch_id):\n",
        "                batch_q[i, profile_q[idx]] = 1.0 # seen\n",
        "                batch_r[i, profile_r[idx]] = 1.0 # unseen\n",
        "\n",
        "            yield batch_q, batch_r"
      ],
      "execution_count": 10,
      "outputs": []
    },
    {
      "cell_type": "code",
      "metadata": {
        "id": "k0U5vZc1jpYf"
      },
      "source": [
        "def binary_cross_entropy(true: tf.Tensor, pred: tf.Tensor) -> tf.Tensor:\n",
        "    ce = tf.math.reduce_sum(K.binary_crossentropy(true, pred), axis = 1)\n",
        "    return tf.math.reduce_mean(ce, axis = 0)\n",
        "    \n",
        "def batch_ndcg(query: tf.Tensor, \n",
        "               relev: tf.Tensor,\n",
        "               pred: tf.Tensor, \n",
        "               weight: tf.Tensor,\n",
        "               k = 100) -> tf.Tensor: # only for validation\n",
        "\n",
        "    rec = tf.where(query == 1.0, -1.0, pred) # leave only unseen-data\n",
        "    rec = tf.argsort(rec, axis = 1, direction = 'DESCENDING')[:, :k]\n",
        "    shape = tf.shape(rec)\n",
        "\n",
        "    row = tf.repeat(tf.range(shape[0]), shape[1])\n",
        "    row = tf.expand_dims(row, axis = 1)\n",
        "    col = tf.reshape(rec, shape = [-1])\n",
        "    col = tf.expand_dims(col, axis = 1)\n",
        "    loc = tf.concat([row, col], axis = 1)\n",
        "\n",
        "    top_k = tf.reshape(tf.gather_nd(relev, loc), shape = shape)\n",
        "    ideal = tf.sort(relev, axis = 1, direction = 'DESCENDING')[:, :k]\n",
        "    weight = weight[:shape[1]]\n",
        "\n",
        "    dcg = tf.reduce_sum(top_k * weight, axis = 1)\n",
        "    idcg = tf.reduce_sum(ideal * weight, axis = 1)\n",
        "    return tf.reduce_mean(dcg / idcg, axis = 0)"
      ],
      "execution_count": 11,
      "outputs": []
    },
    {
      "cell_type": "code",
      "metadata": {
        "id": "Duyx8XbFxK6v"
      },
      "source": [
        "class AutoRec(tf.keras.models.Model):\r\n",
        "    def __init__(self, input_dim, latent_dim):\r\n",
        "        super(AutoRec, self).__init__()\r\n",
        "        self.input_dim = input_dim\r\n",
        "        self.latent_dim = latent_dim\r\n",
        "        self.hidden_layer = Dense(self.latent_dim, \r\n",
        "                                  activation = 'linear',\r\n",
        "                                  kernel_initializer = 'glorot_uniform',\r\n",
        "                                  bias_initializer = 'zeros',\r\n",
        "                                  kernel_regularizer = l2,\r\n",
        "                                  name = 'encoder')\r\n",
        "        self.output_layer = Dense(self.input_dim,\r\n",
        "                                  activation = 'sigmoid',\r\n",
        "                                  kernel_initializer = 'glorot_uniform',\r\n",
        "                                  bias_initializer = 'zeros',\r\n",
        "                                  kernel_regularizer = l2,\r\n",
        "                                  name = 'decoder')\r\n",
        "        \r\n",
        "        _ = self.call(Input(shape = (self.input_dim, )))\r\n",
        "        self.build(input_shape = (None, self.input_dim))\r\n",
        "\r\n",
        "    def call(self, inputs):\r\n",
        "        h = self.hidden_layer(inputs)\r\n",
        "        return self.output_layer(h)\r\n",
        "\r\n",
        "    def train_step(self, inputs):\r\n",
        "        with tf.GradientTape() as tape:\r\n",
        "            outputs = self(inputs)\r\n",
        "            loss = self.loss(inputs, outputs)\r\n",
        "        gradients = tape.gradient(loss, self.trainable_variables)\r\n",
        "        self.optimizer.apply_gradients(zip(gradients, self.trainable_variables))\r\n",
        "        return {'loss': loss}\r\n",
        "\r\n",
        "    def test_step(self, data):\r\n",
        "        query, relev = data\r\n",
        "        pred = self(query)\r\n",
        "\r\n",
        "        weight = tf.range(2, self.input_dim, dtype = 'float32')\r\n",
        "        weight = tf.math.reciprocal(tf.math.log(weight))\r\n",
        "        ndcg = batch_ndcg(query, relev, pred, weight)\r\n",
        "        return {'ndcg': ndcg}"
      ],
      "execution_count": 12,
      "outputs": []
    },
    {
      "cell_type": "code",
      "metadata": {
        "id": "Vc70c_-V0PfB"
      },
      "source": [
        "def show_history(hist, loss: str, metric: str) -> None:\r\n",
        "    fig, (ax1, ax2) = plt.subplots(2, 1, figsize = (8, 6))\r\n",
        "\r\n",
        "    ax1.plot(hist.history[f'{loss}'])\r\n",
        "    ax1.set_title(loss, fontsize = 20)\r\n",
        "    ax1.set_ylabel(loss)\r\n",
        "    ax1.set_xlabel('epoch')\r\n",
        "\r\n",
        "    ax2.plot(hist.history[f'val_{metric}'])\r\n",
        "    ax2.set_title(metric, fontsize = 20)\r\n",
        "    ax2.set_ylabel(metric)\r\n",
        "    ax2.set_xlabel('epoch')\r\n",
        "    plt.tight_layout()"
      ],
      "execution_count": 13,
      "outputs": []
    },
    {
      "cell_type": "code",
      "metadata": {
        "id": "FqV0G-jz0HbN"
      },
      "source": [
        "epochs = 100\r\n",
        "batch_size = 128\r\n",
        "\r\n",
        "train_gen = train_generator(train, n_item, batch_size)\r\n",
        "valid_gen = valid_generator(valid_q, valid_r, n_item, batch_size)\r\n",
        "\r\n",
        "steps_per_epoch = train.user_id.nunique() // batch_size + 1\r\n",
        "validation_steps = valid.user_id.nunique() // batch_size + 1"
      ],
      "execution_count": 14,
      "outputs": []
    },
    {
      "cell_type": "code",
      "metadata": {
        "colab": {
          "base_uri": "https://localhost:8080/"
        },
        "id": "EfDSYBod6ZuU",
        "outputId": "7a7a032d-39ec-49e5-ab1d-927966ab392c"
      },
      "source": [
        "model = AutoRec(n_item, 500)\r\n",
        "model.compile(optimizer = 'adam', loss = binary_cross_entropy)\r\n",
        "\r\n",
        "model.summary()"
      ],
      "execution_count": 15,
      "outputs": [
        {
          "output_type": "stream",
          "text": [
            "Model: \"auto_rec\"\n",
            "_________________________________________________________________\n",
            "Layer (type)                 Output Shape              Param #   \n",
            "=================================================================\n",
            "encoder (Dense)              (None, 500)               1853500   \n",
            "_________________________________________________________________\n",
            "decoder (Dense)              (None, 3706)              1856706   \n",
            "=================================================================\n",
            "Total params: 3,710,206\n",
            "Trainable params: 3,710,206\n",
            "Non-trainable params: 0\n",
            "_________________________________________________________________\n"
          ],
          "name": "stdout"
        }
      ]
    },
    {
      "cell_type": "code",
      "metadata": {
        "colab": {
          "base_uri": "https://localhost:8080/",
          "height": 1000
        },
        "id": "aOSh_Etb0Ldx",
        "outputId": "42c64a79-6054-4b66-c6bf-a12044fe285f"
      },
      "source": [
        "%%time\r\n",
        "early_stopping = EarlyStopping(monitor = 'val_ndcg', mode = 'max', verbose = 1, patience = epochs // 10)\r\n",
        "model_checkpoint = ModelCheckpoint('U-AutoRec.h5', monitor = 'val_ndcg', mode = 'max', save_best_only = True)\r\n",
        "\r\n",
        "hist = model.fit(x = train_gen, validation_data = valid_gen, epochs = epochs,\r\n",
        "                 steps_per_epoch = steps_per_epoch, validation_steps = validation_steps, \r\n",
        "                 verbose = 1, callbacks = [early_stopping, model_checkpoint])\r\n",
        "show_history(hist, 'loss', 'ndcg')"
      ],
      "execution_count": 16,
      "outputs": [
        {
          "output_type": "stream",
          "text": [
            "Epoch 1/100\n",
            "38/38 [==============================] - 1s 22ms/step - loss: 1166.9846 - val_ndcg: 0.1362\n",
            "Epoch 2/100\n",
            "38/38 [==============================] - 0s 11ms/step - loss: 563.3077 - val_ndcg: 0.1894\n",
            "Epoch 3/100\n",
            "38/38 [==============================] - 0s 11ms/step - loss: 447.5740 - val_ndcg: 0.1851\n",
            "Epoch 4/100\n",
            "38/38 [==============================] - 0s 10ms/step - loss: 384.7777 - val_ndcg: 0.2041\n",
            "Epoch 5/100\n",
            "38/38 [==============================] - 0s 10ms/step - loss: 354.8757 - val_ndcg: 0.1981\n",
            "Epoch 6/100\n",
            "38/38 [==============================] - 0s 10ms/step - loss: 328.8925 - val_ndcg: 0.2192\n",
            "Epoch 7/100\n",
            "38/38 [==============================] - 0s 10ms/step - loss: 305.9357 - val_ndcg: 0.1864\n",
            "Epoch 8/100\n",
            "38/38 [==============================] - 0s 11ms/step - loss: 290.2213 - val_ndcg: 0.2154\n",
            "Epoch 9/100\n",
            "38/38 [==============================] - 0s 10ms/step - loss: 274.2660 - val_ndcg: 0.2073\n",
            "Epoch 10/100\n",
            "38/38 [==============================] - 0s 9ms/step - loss: 269.2154 - val_ndcg: 0.1948\n",
            "Epoch 11/100\n",
            "38/38 [==============================] - 0s 11ms/step - loss: 255.3689 - val_ndcg: 0.2202\n",
            "Epoch 12/100\n",
            "38/38 [==============================] - 0s 10ms/step - loss: 247.0566 - val_ndcg: 0.2225\n",
            "Epoch 13/100\n",
            "38/38 [==============================] - 0s 10ms/step - loss: 231.8859 - val_ndcg: 0.2097\n",
            "Epoch 14/100\n",
            "38/38 [==============================] - 0s 10ms/step - loss: 221.3302 - val_ndcg: 0.2071\n",
            "Epoch 15/100\n",
            "38/38 [==============================] - 0s 10ms/step - loss: 211.8337 - val_ndcg: 0.2088\n",
            "Epoch 16/100\n",
            "38/38 [==============================] - 0s 10ms/step - loss: 210.9120 - val_ndcg: 0.2323\n",
            "Epoch 17/100\n",
            "38/38 [==============================] - 0s 11ms/step - loss: 202.3148 - val_ndcg: 0.1920\n",
            "Epoch 18/100\n",
            "38/38 [==============================] - 0s 11ms/step - loss: 189.4694 - val_ndcg: 0.2358\n",
            "Epoch 19/100\n",
            "38/38 [==============================] - 0s 10ms/step - loss: 182.5788 - val_ndcg: 0.2014\n",
            "Epoch 20/100\n",
            "38/38 [==============================] - 0s 10ms/step - loss: 178.0929 - val_ndcg: 0.2288\n",
            "Epoch 21/100\n",
            "38/38 [==============================] - 0s 10ms/step - loss: 171.5498 - val_ndcg: 0.2151\n",
            "Epoch 22/100\n",
            "38/38 [==============================] - 0s 10ms/step - loss: 160.3120 - val_ndcg: 0.2246\n",
            "Epoch 23/100\n",
            "38/38 [==============================] - 0s 10ms/step - loss: 151.7669 - val_ndcg: 0.1956\n",
            "Epoch 24/100\n",
            "38/38 [==============================] - 0s 9ms/step - loss: 144.6370 - val_ndcg: 0.2213\n",
            "Epoch 25/100\n",
            "38/38 [==============================] - 0s 9ms/step - loss: 137.2532 - val_ndcg: 0.2225\n",
            "Epoch 26/100\n",
            "38/38 [==============================] - 0s 9ms/step - loss: 130.4924 - val_ndcg: 0.2148\n",
            "Epoch 27/100\n",
            "38/38 [==============================] - 0s 10ms/step - loss: 124.3532 - val_ndcg: 0.2309\n",
            "Epoch 28/100\n",
            "38/38 [==============================] - 0s 10ms/step - loss: 118.6347 - val_ndcg: 0.2198\n",
            "Epoch 00028: early stopping\n",
            "CPU times: user 13.6 s, sys: 2.18 s, total: 15.8 s\n",
            "Wall time: 12.2 s\n"
          ],
          "name": "stdout"
        },
        {
          "output_type": "display_data",
          "data": {
            "image/png": "[encoded data removed]",
            "text/plain": [
              "<Figure size 576x432 with 2 Axes>"
            ]
          },
          "metadata": {
            "tags": [],
            "needs_background": "light"
          }
        }
      ]
    },
    {
      "cell_type": "code",
      "metadata": {
        "id": "NHoctUBox1Z4"
      },
      "source": [
        "def test_predictor(query: pd.DataFrame, \n",
        "                   model: Callable,\n",
        "                   n_item: int, \n",
        "                   batch_size: int, \n",
        "                   N = 100) -> float:\n",
        "\n",
        "    query = list_agg(query)\n",
        "\n",
        "    n_data = query.index.size\n",
        "    ids = np.arange(n_data)\n",
        "    profile = query['movie_id']\n",
        "\n",
        "    pred = []\n",
        "    n_batch = int(np.ceil(n_data / batch_size))\n",
        "    for batch_step in range(n_batch):\n",
        "        lower = batch_size * batch_step\n",
        "        upper = batch_size + lower\n",
        "\n",
        "        batch_id = ids[lower: upper]\n",
        "        batch = np.zeros(shape = (batch_id.size, n_item))\n",
        "        for i, idx in enumerate(batch_id):\n",
        "            batch[i, profile[idx]] = 1.0\n",
        "\n",
        "        pred_batch = model.predict(batch, verbose = 0)\n",
        "        \n",
        "        rec = np.argsort(np.where(batch == 1.0, -1.0, pred_batch), axis = 1)[:, :-N-1:-1]\n",
        "        pred.append(rec)\n",
        "    pred = np.concatenate(pred)\n",
        "    pred = [{'user_id': query.at[i, 'user_id'], 'movie_id': pred[i]} for i in range(n_data)]\n",
        "    return pd.DataFrame(pred)"
      ],
      "execution_count": 17,
      "outputs": []
    },
    {
      "cell_type": "code",
      "metadata": {
        "id": "G05LGp9eAfE0"
      },
      "source": [
        "class evaluate:\n",
        "    def __init__(self, true: pd.DataFrame, pred: pd.DataFrame):\n",
        "        self.true = true\n",
        "        self.pred = pred\n",
        "        self.max_K = 10000\n",
        "        self.idcg = np.cumsum([1.0 / np.log(i+2) for i in range(self.max_K)])\n",
        "\n",
        "    def _recall(self, gt: List, rec: List, K = None) -> float:\n",
        "        K = K if K else self.max_K\n",
        "        res = [r for r in rec[:K] if r in gt]\n",
        "        return len(res) / np.min([K, len(gt)])\n",
        "    \n",
        "    def _precision(self, gt: List, rec: List, K = None) -> float:\n",
        "        K = K if K else self.max_K\n",
        "        res = [r for r in rec[:K] if r in gt]\n",
        "        return len(res) / len(rec[:K])\n",
        "\n",
        "    def _AP(self, gt: List, rec: List, K = None) -> float: # Average Precision\n",
        "        K = K if K else self.max_K\n",
        "        res = 0\n",
        "        for i, r in enumerate(rec[:K]):\n",
        "            if r in gt:\n",
        "                res += self._precision(gt, rec[:K], i+1)\n",
        "        return res / np.min([K, len(gt)])\n",
        "\n",
        "    def _RR(self, gt: List, rec: List, K = None) -> float: # Reciprocal Rank\n",
        "        K = K if K else self.max_K\n",
        "        for i, r in enumerate(rec[:K]):\n",
        "            if r in gt:\n",
        "                return  1.0 / (i+1)\n",
        "        return 0\n",
        "\n",
        "    def _nDCG(self, gt: List, rec: List, K = None) -> float: # normalized Discounted Cumulative Gain\n",
        "        K = K if K else self.max_K\n",
        "        dcg = 0.0\n",
        "        for i, r in enumerate(rec[:K]):\n",
        "            if r in gt:\n",
        "                dcg += 1.0 / np.log(i+2)\n",
        "        idcg = self.idcg[min([len(gt), K])-1]\n",
        "        return dcg / idcg\n",
        "    \n",
        "    def __call__(self, K = None):\n",
        "        self.K = K\n",
        "        self.recall = 0\n",
        "        self.precision = 0\n",
        "        self.MAP = 0\n",
        "        self.MRR = 0\n",
        "        self.nDCG = 0\n",
        "        n = self.true.index.size\n",
        "        for gt, rec in zip(tqdm(self.true.movie_id), self.pred.movie_id):\n",
        "            self.recall += self._recall(gt, rec, K) / n\n",
        "            self.precision += self._precision(gt, rec, K) / n\n",
        "            self.MAP += self._AP(gt, rec, K) / n\n",
        "            self.MRR += self._RR(gt, rec, K) / n\n",
        "            self.nDCG += self._nDCG(gt, rec, K) / n\n",
        "\n",
        "    def print_all(self):\n",
        "        K = '@' + str(self.K) if self.K else ''\n",
        "        print(f'{\"Recall\":>12}{K} : {self.recall:.5f}',\n",
        "              f'\\n{\"Precision\":>12}{K} : {self.precision:.5f}',\n",
        "              f'\\n{\"MAP\":>12}{K} : {self.MAP:.5f}',\n",
        "              f'\\n{\"MRR\":>12}{K} : {self.MRR:.5f}',\n",
        "              f'\\n{\"nDCG\":>12}{K} : {self.nDCG:.5f}')"
      ],
      "execution_count": 18,
      "outputs": []
    },
    {
      "cell_type": "code",
      "metadata": {
        "colab": {
          "base_uri": "https://localhost:8080/",
          "height": 195
        },
        "id": "-4tP0-a-zSxv",
        "outputId": "1b876a02-b07b-4bd8-8251-4206b93f9939"
      },
      "source": [
        "true = list_agg(test_r)\r\n",
        "true.head(5)"
      ],
      "execution_count": 19,
      "outputs": [
        {
          "output_type": "execute_result",
          "data": {
            "text/html": [
              "<div>\n",
              "<style scoped>\n",
              "    .dataframe tbody tr th:only-of-type {\n",
              "        vertical-align: middle;\n",
              "    }\n",
              "\n",
              "    .dataframe tbody tr th {\n",
              "        vertical-align: top;\n",
              "    }\n",
              "\n",
              "    .dataframe thead th {\n",
              "        text-align: right;\n",
              "    }\n",
              "</style>\n",
              "<table border=\"1\" class=\"dataframe\">\n",
              "  <thead>\n",
              "    <tr style=\"text-align: right;\">\n",
              "      <th></th>\n",
              "      <th>user_id</th>\n",
              "      <th>movie_id</th>\n",
              "    </tr>\n",
              "  </thead>\n",
              "  <tbody>\n",
              "    <tr>\n",
              "      <th>0</th>\n",
              "      <td>2</td>\n",
              "      <td>[177, 179, 183, 84, 4, 198, 199, 207]</td>\n",
              "    </tr>\n",
              "    <tr>\n",
              "      <th>1</th>\n",
              "      <td>8</td>\n",
              "      <td>[59, 438, 93, 123, 463, 525, 30, 288, 534, 322...</td>\n",
              "    </tr>\n",
              "    <tr>\n",
              "      <th>2</th>\n",
              "      <td>41</td>\n",
              "      <td>[175, 182, 563, 184, 1176, 116, 128, 1037, 104...</td>\n",
              "    </tr>\n",
              "    <tr>\n",
              "      <th>3</th>\n",
              "      <td>78</td>\n",
              "      <td>[1258, 305, 500, 2230]</td>\n",
              "    </tr>\n",
              "    <tr>\n",
              "      <th>4</th>\n",
              "      <td>91</td>\n",
              "      <td>[558, 1176, 195, 587, 592, 74, 1904, 186, 647,...</td>\n",
              "    </tr>\n",
              "  </tbody>\n",
              "</table>\n",
              "</div>"
            ],
            "text/plain": [
              "   user_id                                           movie_id\n",
              "0        2              [177, 179, 183, 84, 4, 198, 199, 207]\n",
              "1        8  [59, 438, 93, 123, 463, 525, 30, 288, 534, 322...\n",
              "2       41  [175, 182, 563, 184, 1176, 116, 128, 1037, 104...\n",
              "3       78                             [1258, 305, 500, 2230]\n",
              "4       91  [558, 1176, 195, 587, 592, 74, 1904, 186, 647,..."
            ]
          },
          "metadata": {
            "tags": []
          },
          "execution_count": 19
        }
      ]
    },
    {
      "cell_type": "code",
      "metadata": {
        "id": "fgw83iYFysnj",
        "colab": {
          "base_uri": "https://localhost:8080/",
          "height": 195
        },
        "outputId": "f9ccae74-60c5-4ef1-dd62-eafe8f0dc914"
      },
      "source": [
        "pred = test_predictor(test_q, model, n_item, batch_size, N = 100)\n",
        "pred.head(5)"
      ],
      "execution_count": 20,
      "outputs": [
        {
          "output_type": "execute_result",
          "data": {
            "text/html": [
              "<div>\n",
              "<style scoped>\n",
              "    .dataframe tbody tr th:only-of-type {\n",
              "        vertical-align: middle;\n",
              "    }\n",
              "\n",
              "    .dataframe tbody tr th {\n",
              "        vertical-align: top;\n",
              "    }\n",
              "\n",
              "    .dataframe thead th {\n",
              "        text-align: right;\n",
              "    }\n",
              "</style>\n",
              "<table border=\"1\" class=\"dataframe\">\n",
              "  <thead>\n",
              "    <tr style=\"text-align: right;\">\n",
              "      <th></th>\n",
              "      <th>user_id</th>\n",
              "      <th>movie_id</th>\n",
              "    </tr>\n",
              "  </thead>\n",
              "  <tbody>\n",
              "    <tr>\n",
              "      <th>0</th>\n",
              "      <td>2</td>\n",
              "      <td>[84, 23, 60, 587, 600, 13, 385, 22, 9, 741, 0,...</td>\n",
              "    </tr>\n",
              "    <tr>\n",
              "      <th>1</th>\n",
              "      <td>8</td>\n",
              "      <td>[244, 184, 171, 134, 376, 68, 506, 59, 315, 25...</td>\n",
              "    </tr>\n",
              "    <tr>\n",
              "      <th>2</th>\n",
              "      <td>41</td>\n",
              "      <td>[856, 112, 160, 62, 132, 758, 322, 980, 847, 7...</td>\n",
              "    </tr>\n",
              "    <tr>\n",
              "      <th>3</th>\n",
              "      <td>78</td>\n",
              "      <td>[531, 104, 853, 499, 68, 541, 406, 259, 1105, ...</td>\n",
              "    </tr>\n",
              "    <tr>\n",
              "      <th>4</th>\n",
              "      <td>91</td>\n",
              "      <td>[8, 9, 13, 104, 3, 116, 612, 48, 733, 866, 335...</td>\n",
              "    </tr>\n",
              "  </tbody>\n",
              "</table>\n",
              "</div>"
            ],
            "text/plain": [
              "   user_id                                           movie_id\n",
              "0        2  [84, 23, 60, 587, 600, 13, 385, 22, 9, 741, 0,...\n",
              "1        8  [244, 184, 171, 134, 376, 68, 506, 59, 315, 25...\n",
              "2       41  [856, 112, 160, 62, 132, 758, 322, 980, 847, 7...\n",
              "3       78  [531, 104, 853, 499, 68, 541, 406, 259, 1105, ...\n",
              "4       91  [8, 9, 13, 104, 3, 116, 612, 48, 733, 866, 335..."
            ]
          },
          "metadata": {
            "tags": []
          },
          "execution_count": 20
        }
      ]
    },
    {
      "cell_type": "code",
      "metadata": {
        "id": "jKQgNhpY0Bjl",
        "colab": {
          "base_uri": "https://localhost:8080/",
          "height": 292,
          "referenced_widgets": [
            "2743c9641bc444658b80033b5df7be71",
            "5ee84337f3cc466bb5882687007685a6",
            "de4b91f556d14727890d3dad57117bb0",
            "76f5a50853184319b145daa8fbdfc406",
            "7142616712484c9cbf7971648b27bcf2",
            "d0033927243042f8a5608fa8d04b28ae",
            "d48ee3a73acc4b4192460d138586eb89",
            "0e35d5181b164290a0dfa90d8a068cb8",
            "1e84884648e146cd8ab4f04d97067bd1",
            "fb5e8ae586b14fda9f027ce0c313eaee",
            "3e18c92fb3d841a3a1b91bbe57891e44",
            "46dc8e048eb345ea9d1d81873929e5e0",
            "424d753a64d04c22809fcbdbfdd0fbd5",
            "f8d4011b49c847098b5cd8de3925f334",
            "99c76f6409ba4cdea69e63f4b55a7e99",
            "41f2d1a223b449bbb4f79b6d8fde7117"
          ]
        },
        "outputId": "3a00c755-5914-4d49-a514-cfafeef1a58d"
      },
      "source": [
        "scores = evaluate(true, pred)\n",
        "\n",
        "scores(K = 20)\n",
        "scores.print_all()\n",
        "\n",
        "scores(K = 100)\n",
        "scores.print_all()"
      ],
      "execution_count": 21,
      "outputs": [
        {
          "output_type": "display_data",
          "data": {
            "application/vnd.jupyter.widget-view+json": {
              "model_id": "2743c9641bc444658b80033b5df7be71",
              "version_minor": 0,
              "version_major": 2
            },
            "text/plain": [
              "HBox(children=(FloatProgress(value=0.0, max=604.0), HTML(value='')))"
            ]
          },
          "metadata": {
            "tags": []
          }
        },
        {
          "output_type": "stream",
          "text": [
            "\n",
            "      Recall@20 : 0.15247 \n",
            "   Precision@20 : 0.08046 \n",
            "         MAP@20 : 0.04578 \n",
            "         MRR@20 : 0.22721 \n",
            "        nDCG@20 : 0.12202\n"
          ],
          "name": "stdout"
        },
        {
          "output_type": "display_data",
          "data": {
            "application/vnd.jupyter.widget-view+json": {
              "model_id": "1e84884648e146cd8ab4f04d97067bd1",
              "version_minor": 0,
              "version_major": 2
            },
            "text/plain": [
              "HBox(children=(FloatProgress(value=0.0, max=604.0), HTML(value='')))"
            ]
          },
          "metadata": {
            "tags": []
          }
        },
        {
          "output_type": "stream",
          "text": [
            "\n",
            "      Recall@100 : 0.40217 \n",
            "   Precision@100 : 0.05475 \n",
            "         MAP@100 : 0.06056 \n",
            "         MRR@100 : 0.23459 \n",
            "        nDCG@100 : 0.21681\n"
          ],
          "name": "stdout"
        }
      ]
    }
  ]
}