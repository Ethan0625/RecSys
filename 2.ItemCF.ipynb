{
  "nbformat": 4,
  "nbformat_minor": 0,
  "metadata": {
    "colab": {
      "name": "ItemCF.ipynb",
      "provenance": [],
      "collapsed_sections": []
    },
    "kernelspec": {
      "name": "python3",
      "display_name": "Python 3"
    },
    "widgets": {
      "application/vnd.jupyter.widget-state+json": {
        "d8de4b720f82451a8a54f9d7db378322": {
          "model_module": "@jupyter-widgets/controls",
          "model_name": "HBoxModel",
          "state": {
            "_view_name": "HBoxView",
            "_dom_classes": [],
            "_model_name": "HBoxModel",
            "_view_module": "@jupyter-widgets/controls",
            "_model_module_version": "1.5.0",
            "_view_count": null,
            "_view_module_version": "1.5.0",
            "box_style": "",
            "layout": "IPY_MODEL_d5dafe5d4ac9486baa340ff296914ebd",
            "_model_module": "@jupyter-widgets/controls",
            "children": [
              "IPY_MODEL_4a52abe6a1fc4d21b9578158cfe14859",
              "IPY_MODEL_a5d31fdecf5d4773a7b2478a8bffcaf0"
            ]
          }
        },
        "d5dafe5d4ac9486baa340ff296914ebd": {
          "model_module": "@jupyter-widgets/base",
          "model_name": "LayoutModel",
          "state": {
            "_view_name": "LayoutView",
            "grid_template_rows": null,
            "right": null,
            "justify_content": null,
            "_view_module": "@jupyter-widgets/base",
            "overflow": null,
            "_model_module_version": "1.2.0",
            "_view_count": null,
            "flex_flow": null,
            "width": null,
            "min_width": null,
            "border": null,
            "align_items": null,
            "bottom": null,
            "_model_module": "@jupyter-widgets/base",
            "top": null,
            "grid_column": null,
            "overflow_y": null,
            "overflow_x": null,
            "grid_auto_flow": null,
            "grid_area": null,
            "grid_template_columns": null,
            "flex": null,
            "_model_name": "LayoutModel",
            "justify_items": null,
            "grid_row": null,
            "max_height": null,
            "align_content": null,
            "visibility": null,
            "align_self": null,
            "height": null,
            "min_height": null,
            "padding": null,
            "grid_auto_rows": null,
            "grid_gap": null,
            "max_width": null,
            "order": null,
            "_view_module_version": "1.2.0",
            "grid_template_areas": null,
            "object_position": null,
            "object_fit": null,
            "grid_auto_columns": null,
            "margin": null,
            "display": null,
            "left": null
          }
        },
        "4a52abe6a1fc4d21b9578158cfe14859": {
          "model_module": "@jupyter-widgets/controls",
          "model_name": "FloatProgressModel",
          "state": {
            "_view_name": "ProgressView",
            "style": "IPY_MODEL_3474ccd2e889480695a1766557a69421",
            "_dom_classes": [],
            "description": "100%",
            "_model_name": "FloatProgressModel",
            "bar_style": "success",
            "max": 6917,
            "_view_module": "@jupyter-widgets/controls",
            "_model_module_version": "1.5.0",
            "value": 6917,
            "_view_count": null,
            "_view_module_version": "1.5.0",
            "orientation": "horizontal",
            "min": 0,
            "description_tooltip": null,
            "_model_module": "@jupyter-widgets/controls",
            "layout": "IPY_MODEL_a28aced4f53f43d9a2140a1c5dda880c"
          }
        },
        "a5d31fdecf5d4773a7b2478a8bffcaf0": {
          "model_module": "@jupyter-widgets/controls",
          "model_name": "HTMLModel",
          "state": {
            "_view_name": "HTMLView",
            "style": "IPY_MODEL_02ba2c4d4b404e319ed39782a3e11d29",
            "_dom_classes": [],
            "description": "",
            "_model_name": "HTMLModel",
            "placeholder": "​",
            "_view_module": "@jupyter-widgets/controls",
            "_model_module_version": "1.5.0",
            "value": " 6917/6917 [02:02&lt;00:00, 56.49it/s]",
            "_view_count": null,
            "_view_module_version": "1.5.0",
            "description_tooltip": null,
            "_model_module": "@jupyter-widgets/controls",
            "layout": "IPY_MODEL_f7f37217e36b4045b670ef2e3f6ea8f1"
          }
        },
        "3474ccd2e889480695a1766557a69421": {
          "model_module": "@jupyter-widgets/controls",
          "model_name": "ProgressStyleModel",
          "state": {
            "_view_name": "StyleView",
            "_model_name": "ProgressStyleModel",
            "description_width": "initial",
            "_view_module": "@jupyter-widgets/base",
            "_model_module_version": "1.5.0",
            "_view_count": null,
            "_view_module_version": "1.2.0",
            "bar_color": null,
            "_model_module": "@jupyter-widgets/controls"
          }
        },
        "a28aced4f53f43d9a2140a1c5dda880c": {
          "model_module": "@jupyter-widgets/base",
          "model_name": "LayoutModel",
          "state": {
            "_view_name": "LayoutView",
            "grid_template_rows": null,
            "right": null,
            "justify_content": null,
            "_view_module": "@jupyter-widgets/base",
            "overflow": null,
            "_model_module_version": "1.2.0",
            "_view_count": null,
            "flex_flow": null,
            "width": null,
            "min_width": null,
            "border": null,
            "align_items": null,
            "bottom": null,
            "_model_module": "@jupyter-widgets/base",
            "top": null,
            "grid_column": null,
            "overflow_y": null,
            "overflow_x": null,
            "grid_auto_flow": null,
            "grid_area": null,
            "grid_template_columns": null,
            "flex": null,
            "_model_name": "LayoutModel",
            "justify_items": null,
            "grid_row": null,
            "max_height": null,
            "align_content": null,
            "visibility": null,
            "align_self": null,
            "height": null,
            "min_height": null,
            "padding": null,
            "grid_auto_rows": null,
            "grid_gap": null,
            "max_width": null,
            "order": null,
            "_view_module_version": "1.2.0",
            "grid_template_areas": null,
            "object_position": null,
            "object_fit": null,
            "grid_auto_columns": null,
            "margin": null,
            "display": null,
            "left": null
          }
        },
        "02ba2c4d4b404e319ed39782a3e11d29": {
          "model_module": "@jupyter-widgets/controls",
          "model_name": "DescriptionStyleModel",
          "state": {
            "_view_name": "StyleView",
            "_model_name": "DescriptionStyleModel",
            "description_width": "",
            "_view_module": "@jupyter-widgets/base",
            "_model_module_version": "1.5.0",
            "_view_count": null,
            "_view_module_version": "1.2.0",
            "_model_module": "@jupyter-widgets/controls"
          }
        },
        "f7f37217e36b4045b670ef2e3f6ea8f1": {
          "model_module": "@jupyter-widgets/base",
          "model_name": "LayoutModel",
          "state": {
            "_view_name": "LayoutView",
            "grid_template_rows": null,
            "right": null,
            "justify_content": null,
            "_view_module": "@jupyter-widgets/base",
            "overflow": null,
            "_model_module_version": "1.2.0",
            "_view_count": null,
            "flex_flow": null,
            "width": null,
            "min_width": null,
            "border": null,
            "align_items": null,
            "bottom": null,
            "_model_module": "@jupyter-widgets/base",
            "top": null,
            "grid_column": null,
            "overflow_y": null,
            "overflow_x": null,
            "grid_auto_flow": null,
            "grid_area": null,
            "grid_template_columns": null,
            "flex": null,
            "_model_name": "LayoutModel",
            "justify_items": null,
            "grid_row": null,
            "max_height": null,
            "align_content": null,
            "visibility": null,
            "align_self": null,
            "height": null,
            "min_height": null,
            "padding": null,
            "grid_auto_rows": null,
            "grid_gap": null,
            "max_width": null,
            "order": null,
            "_view_module_version": "1.2.0",
            "grid_template_areas": null,
            "object_position": null,
            "object_fit": null,
            "grid_auto_columns": null,
            "margin": null,
            "display": null,
            "left": null
          }
        },
        "56031c0971924a79a8a79d57f9af3c83": {
          "model_module": "@jupyter-widgets/controls",
          "model_name": "HBoxModel",
          "state": {
            "_view_name": "HBoxView",
            "_dom_classes": [],
            "_model_name": "HBoxModel",
            "_view_module": "@jupyter-widgets/controls",
            "_model_module_version": "1.5.0",
            "_view_count": null,
            "_view_module_version": "1.5.0",
            "box_style": "",
            "layout": "IPY_MODEL_6f06b7da5e3c43149fb338d37104c816",
            "_model_module": "@jupyter-widgets/controls",
            "children": [
              "IPY_MODEL_2f365e5067e540db90b12213412e0dc7",
              "IPY_MODEL_ced21e1e1c0742e1974dc009c332601f"
            ]
          }
        },
        "6f06b7da5e3c43149fb338d37104c816": {
          "model_module": "@jupyter-widgets/base",
          "model_name": "LayoutModel",
          "state": {
            "_view_name": "LayoutView",
            "grid_template_rows": null,
            "right": null,
            "justify_content": null,
            "_view_module": "@jupyter-widgets/base",
            "overflow": null,
            "_model_module_version": "1.2.0",
            "_view_count": null,
            "flex_flow": null,
            "width": null,
            "min_width": null,
            "border": null,
            "align_items": null,
            "bottom": null,
            "_model_module": "@jupyter-widgets/base",
            "top": null,
            "grid_column": null,
            "overflow_y": null,
            "overflow_x": null,
            "grid_auto_flow": null,
            "grid_area": null,
            "grid_template_columns": null,
            "flex": null,
            "_model_name": "LayoutModel",
            "justify_items": null,
            "grid_row": null,
            "max_height": null,
            "align_content": null,
            "visibility": null,
            "align_self": null,
            "height": null,
            "min_height": null,
            "padding": null,
            "grid_auto_rows": null,
            "grid_gap": null,
            "max_width": null,
            "order": null,
            "_view_module_version": "1.2.0",
            "grid_template_areas": null,
            "object_position": null,
            "object_fit": null,
            "grid_auto_columns": null,
            "margin": null,
            "display": null,
            "left": null
          }
        },
        "2f365e5067e540db90b12213412e0dc7": {
          "model_module": "@jupyter-widgets/controls",
          "model_name": "FloatProgressModel",
          "state": {
            "_view_name": "ProgressView",
            "style": "IPY_MODEL_5061e941d31c4ede862e0ef7e6b3825f",
            "_dom_classes": [],
            "description": "100%",
            "_model_name": "FloatProgressModel",
            "bar_style": "success",
            "max": 6917,
            "_view_module": "@jupyter-widgets/controls",
            "_model_module_version": "1.5.0",
            "value": 6917,
            "_view_count": null,
            "_view_module_version": "1.5.0",
            "orientation": "horizontal",
            "min": 0,
            "description_tooltip": null,
            "_model_module": "@jupyter-widgets/controls",
            "layout": "IPY_MODEL_1dd0a60f48114da08f2dad829b7cd22b"
          }
        },
        "ced21e1e1c0742e1974dc009c332601f": {
          "model_module": "@jupyter-widgets/controls",
          "model_name": "HTMLModel",
          "state": {
            "_view_name": "HTMLView",
            "style": "IPY_MODEL_7e38be0f36954b63a0342bab2bb84857",
            "_dom_classes": [],
            "description": "",
            "_model_name": "HTMLModel",
            "placeholder": "​",
            "_view_module": "@jupyter-widgets/controls",
            "_model_module_version": "1.5.0",
            "value": " 6917/6917 [03:00&lt;00:00, 38.36it/s]",
            "_view_count": null,
            "_view_module_version": "1.5.0",
            "description_tooltip": null,
            "_model_module": "@jupyter-widgets/controls",
            "layout": "IPY_MODEL_16124362f70e4668911e9805eac1e539"
          }
        },
        "5061e941d31c4ede862e0ef7e6b3825f": {
          "model_module": "@jupyter-widgets/controls",
          "model_name": "ProgressStyleModel",
          "state": {
            "_view_name": "StyleView",
            "_model_name": "ProgressStyleModel",
            "description_width": "initial",
            "_view_module": "@jupyter-widgets/base",
            "_model_module_version": "1.5.0",
            "_view_count": null,
            "_view_module_version": "1.2.0",
            "bar_color": null,
            "_model_module": "@jupyter-widgets/controls"
          }
        },
        "1dd0a60f48114da08f2dad829b7cd22b": {
          "model_module": "@jupyter-widgets/base",
          "model_name": "LayoutModel",
          "state": {
            "_view_name": "LayoutView",
            "grid_template_rows": null,
            "right": null,
            "justify_content": null,
            "_view_module": "@jupyter-widgets/base",
            "overflow": null,
            "_model_module_version": "1.2.0",
            "_view_count": null,
            "flex_flow": null,
            "width": null,
            "min_width": null,
            "border": null,
            "align_items": null,
            "bottom": null,
            "_model_module": "@jupyter-widgets/base",
            "top": null,
            "grid_column": null,
            "overflow_y": null,
            "overflow_x": null,
            "grid_auto_flow": null,
            "grid_area": null,
            "grid_template_columns": null,
            "flex": null,
            "_model_name": "LayoutModel",
            "justify_items": null,
            "grid_row": null,
            "max_height": null,
            "align_content": null,
            "visibility": null,
            "align_self": null,
            "height": null,
            "min_height": null,
            "padding": null,
            "grid_auto_rows": null,
            "grid_gap": null,
            "max_width": null,
            "order": null,
            "_view_module_version": "1.2.0",
            "grid_template_areas": null,
            "object_position": null,
            "object_fit": null,
            "grid_auto_columns": null,
            "margin": null,
            "display": null,
            "left": null
          }
        },
        "7e38be0f36954b63a0342bab2bb84857": {
          "model_module": "@jupyter-widgets/controls",
          "model_name": "DescriptionStyleModel",
          "state": {
            "_view_name": "StyleView",
            "_model_name": "DescriptionStyleModel",
            "description_width": "",
            "_view_module": "@jupyter-widgets/base",
            "_model_module_version": "1.5.0",
            "_view_count": null,
            "_view_module_version": "1.2.0",
            "_model_module": "@jupyter-widgets/controls"
          }
        },
        "16124362f70e4668911e9805eac1e539": {
          "model_module": "@jupyter-widgets/base",
          "model_name": "LayoutModel",
          "state": {
            "_view_name": "LayoutView",
            "grid_template_rows": null,
            "right": null,
            "justify_content": null,
            "_view_module": "@jupyter-widgets/base",
            "overflow": null,
            "_model_module_version": "1.2.0",
            "_view_count": null,
            "flex_flow": null,
            "width": null,
            "min_width": null,
            "border": null,
            "align_items": null,
            "bottom": null,
            "_model_module": "@jupyter-widgets/base",
            "top": null,
            "grid_column": null,
            "overflow_y": null,
            "overflow_x": null,
            "grid_auto_flow": null,
            "grid_area": null,
            "grid_template_columns": null,
            "flex": null,
            "_model_name": "LayoutModel",
            "justify_items": null,
            "grid_row": null,
            "max_height": null,
            "align_content": null,
            "visibility": null,
            "align_self": null,
            "height": null,
            "min_height": null,
            "padding": null,
            "grid_auto_rows": null,
            "grid_gap": null,
            "max_width": null,
            "order": null,
            "_view_module_version": "1.2.0",
            "grid_template_areas": null,
            "object_position": null,
            "object_fit": null,
            "grid_auto_columns": null,
            "margin": null,
            "display": null,
            "left": null
          }
        },
        "6dd1289259de465e95db27d0ecb05979": {
          "model_module": "@jupyter-widgets/controls",
          "model_name": "HBoxModel",
          "state": {
            "_view_name": "HBoxView",
            "_dom_classes": [],
            "_model_name": "HBoxModel",
            "_view_module": "@jupyter-widgets/controls",
            "_model_module_version": "1.5.0",
            "_view_count": null,
            "_view_module_version": "1.5.0",
            "box_style": "",
            "layout": "IPY_MODEL_ea695b610efa465285882b1403eb3694",
            "_model_module": "@jupyter-widgets/controls",
            "children": [
              "IPY_MODEL_95badf79c7ab4dc89c57a4df40169e64",
              "IPY_MODEL_abcdfaa68e0c443d910c9d6d001f0769"
            ]
          }
        },
        "ea695b610efa465285882b1403eb3694": {
          "model_module": "@jupyter-widgets/base",
          "model_name": "LayoutModel",
          "state": {
            "_view_name": "LayoutView",
            "grid_template_rows": null,
            "right": null,
            "justify_content": null,
            "_view_module": "@jupyter-widgets/base",
            "overflow": null,
            "_model_module_version": "1.2.0",
            "_view_count": null,
            "flex_flow": null,
            "width": null,
            "min_width": null,
            "border": null,
            "align_items": null,
            "bottom": null,
            "_model_module": "@jupyter-widgets/base",
            "top": null,
            "grid_column": null,
            "overflow_y": null,
            "overflow_x": null,
            "grid_auto_flow": null,
            "grid_area": null,
            "grid_template_columns": null,
            "flex": null,
            "_model_name": "LayoutModel",
            "justify_items": null,
            "grid_row": null,
            "max_height": null,
            "align_content": null,
            "visibility": null,
            "align_self": null,
            "height": null,
            "min_height": null,
            "padding": null,
            "grid_auto_rows": null,
            "grid_gap": null,
            "max_width": null,
            "order": null,
            "_view_module_version": "1.2.0",
            "grid_template_areas": null,
            "object_position": null,
            "object_fit": null,
            "grid_auto_columns": null,
            "margin": null,
            "display": null,
            "left": null
          }
        },
        "95badf79c7ab4dc89c57a4df40169e64": {
          "model_module": "@jupyter-widgets/controls",
          "model_name": "FloatProgressModel",
          "state": {
            "_view_name": "ProgressView",
            "style": "IPY_MODEL_9f56c222978d41fe9120f5c6714ebde2",
            "_dom_classes": [],
            "description": "100%",
            "_model_name": "FloatProgressModel",
            "bar_style": "success",
            "max": 6917,
            "_view_module": "@jupyter-widgets/controls",
            "_model_module_version": "1.5.0",
            "value": 6917,
            "_view_count": null,
            "_view_module_version": "1.5.0",
            "orientation": "horizontal",
            "min": 0,
            "description_tooltip": null,
            "_model_module": "@jupyter-widgets/controls",
            "layout": "IPY_MODEL_6366b6b875304ebf955a0153b94ea835"
          }
        },
        "abcdfaa68e0c443d910c9d6d001f0769": {
          "model_module": "@jupyter-widgets/controls",
          "model_name": "HTMLModel",
          "state": {
            "_view_name": "HTMLView",
            "style": "IPY_MODEL_6cbcf02bc4a44cf2ae086fe691bd3458",
            "_dom_classes": [],
            "description": "",
            "_model_name": "HTMLModel",
            "placeholder": "​",
            "_view_module": "@jupyter-widgets/controls",
            "_model_module_version": "1.5.0",
            "value": " 6917/6917 [02:54&lt;00:00, 39.60it/s]",
            "_view_count": null,
            "_view_module_version": "1.5.0",
            "description_tooltip": null,
            "_model_module": "@jupyter-widgets/controls",
            "layout": "IPY_MODEL_0b57405115004810bf7d01522264cfce"
          }
        },
        "9f56c222978d41fe9120f5c6714ebde2": {
          "model_module": "@jupyter-widgets/controls",
          "model_name": "ProgressStyleModel",
          "state": {
            "_view_name": "StyleView",
            "_model_name": "ProgressStyleModel",
            "description_width": "initial",
            "_view_module": "@jupyter-widgets/base",
            "_model_module_version": "1.5.0",
            "_view_count": null,
            "_view_module_version": "1.2.0",
            "bar_color": null,
            "_model_module": "@jupyter-widgets/controls"
          }
        },
        "6366b6b875304ebf955a0153b94ea835": {
          "model_module": "@jupyter-widgets/base",
          "model_name": "LayoutModel",
          "state": {
            "_view_name": "LayoutView",
            "grid_template_rows": null,
            "right": null,
            "justify_content": null,
            "_view_module": "@jupyter-widgets/base",
            "overflow": null,
            "_model_module_version": "1.2.0",
            "_view_count": null,
            "flex_flow": null,
            "width": null,
            "min_width": null,
            "border": null,
            "align_items": null,
            "bottom": null,
            "_model_module": "@jupyter-widgets/base",
            "top": null,
            "grid_column": null,
            "overflow_y": null,
            "overflow_x": null,
            "grid_auto_flow": null,
            "grid_area": null,
            "grid_template_columns": null,
            "flex": null,
            "_model_name": "LayoutModel",
            "justify_items": null,
            "grid_row": null,
            "max_height": null,
            "align_content": null,
            "visibility": null,
            "align_self": null,
            "height": null,
            "min_height": null,
            "padding": null,
            "grid_auto_rows": null,
            "grid_gap": null,
            "max_width": null,
            "order": null,
            "_view_module_version": "1.2.0",
            "grid_template_areas": null,
            "object_position": null,
            "object_fit": null,
            "grid_auto_columns": null,
            "margin": null,
            "display": null,
            "left": null
          }
        },
        "6cbcf02bc4a44cf2ae086fe691bd3458": {
          "model_module": "@jupyter-widgets/controls",
          "model_name": "DescriptionStyleModel",
          "state": {
            "_view_name": "StyleView",
            "_model_name": "DescriptionStyleModel",
            "description_width": "",
            "_view_module": "@jupyter-widgets/base",
            "_model_module_version": "1.5.0",
            "_view_count": null,
            "_view_module_version": "1.2.0",
            "_model_module": "@jupyter-widgets/controls"
          }
        },
        "0b57405115004810bf7d01522264cfce": {
          "model_module": "@jupyter-widgets/base",
          "model_name": "LayoutModel",
          "state": {
            "_view_name": "LayoutView",
            "grid_template_rows": null,
            "right": null,
            "justify_content": null,
            "_view_module": "@jupyter-widgets/base",
            "overflow": null,
            "_model_module_version": "1.2.0",
            "_view_count": null,
            "flex_flow": null,
            "width": null,
            "min_width": null,
            "border": null,
            "align_items": null,
            "bottom": null,
            "_model_module": "@jupyter-widgets/base",
            "top": null,
            "grid_column": null,
            "overflow_y": null,
            "overflow_x": null,
            "grid_auto_flow": null,
            "grid_area": null,
            "grid_template_columns": null,
            "flex": null,
            "_model_name": "LayoutModel",
            "justify_items": null,
            "grid_row": null,
            "max_height": null,
            "align_content": null,
            "visibility": null,
            "align_self": null,
            "height": null,
            "min_height": null,
            "padding": null,
            "grid_auto_rows": null,
            "grid_gap": null,
            "max_width": null,
            "order": null,
            "_view_module_version": "1.2.0",
            "grid_template_areas": null,
            "object_position": null,
            "object_fit": null,
            "grid_auto_columns": null,
            "margin": null,
            "display": null,
            "left": null
          }
        },
        "9b689c6378ad417993649a01fe5f667d": {
          "model_module": "@jupyter-widgets/controls",
          "model_name": "HBoxModel",
          "state": {
            "_view_name": "HBoxView",
            "_dom_classes": [],
            "_model_name": "HBoxModel",
            "_view_module": "@jupyter-widgets/controls",
            "_model_module_version": "1.5.0",
            "_view_count": null,
            "_view_module_version": "1.5.0",
            "box_style": "",
            "layout": "IPY_MODEL_a845d1937079450bb71ba92358911b9b",
            "_model_module": "@jupyter-widgets/controls",
            "children": [
              "IPY_MODEL_fe2c0ba10dbb432ea989eb303f698545",
              "IPY_MODEL_0b4fe1183e6d4f84bfa761a6a2d61601"
            ]
          }
        },
        "a845d1937079450bb71ba92358911b9b": {
          "model_module": "@jupyter-widgets/base",
          "model_name": "LayoutModel",
          "state": {
            "_view_name": "LayoutView",
            "grid_template_rows": null,
            "right": null,
            "justify_content": null,
            "_view_module": "@jupyter-widgets/base",
            "overflow": null,
            "_model_module_version": "1.2.0",
            "_view_count": null,
            "flex_flow": null,
            "width": null,
            "min_width": null,
            "border": null,
            "align_items": null,
            "bottom": null,
            "_model_module": "@jupyter-widgets/base",
            "top": null,
            "grid_column": null,
            "overflow_y": null,
            "overflow_x": null,
            "grid_auto_flow": null,
            "grid_area": null,
            "grid_template_columns": null,
            "flex": null,
            "_model_name": "LayoutModel",
            "justify_items": null,
            "grid_row": null,
            "max_height": null,
            "align_content": null,
            "visibility": null,
            "align_self": null,
            "height": null,
            "min_height": null,
            "padding": null,
            "grid_auto_rows": null,
            "grid_gap": null,
            "max_width": null,
            "order": null,
            "_view_module_version": "1.2.0",
            "grid_template_areas": null,
            "object_position": null,
            "object_fit": null,
            "grid_auto_columns": null,
            "margin": null,
            "display": null,
            "left": null
          }
        },
        "fe2c0ba10dbb432ea989eb303f698545": {
          "model_module": "@jupyter-widgets/controls",
          "model_name": "FloatProgressModel",
          "state": {
            "_view_name": "ProgressView",
            "style": "IPY_MODEL_450ff0c7b8e14825a232f6bf73f1b2d4",
            "_dom_classes": [],
            "description": "100%",
            "_model_name": "FloatProgressModel",
            "bar_style": "success",
            "max": 6917,
            "_view_module": "@jupyter-widgets/controls",
            "_model_module_version": "1.5.0",
            "value": 6917,
            "_view_count": null,
            "_view_module_version": "1.5.0",
            "orientation": "horizontal",
            "min": 0,
            "description_tooltip": null,
            "_model_module": "@jupyter-widgets/controls",
            "layout": "IPY_MODEL_a873783e10204b9a93e33bbb792077cc"
          }
        },
        "0b4fe1183e6d4f84bfa761a6a2d61601": {
          "model_module": "@jupyter-widgets/controls",
          "model_name": "HTMLModel",
          "state": {
            "_view_name": "HTMLView",
            "style": "IPY_MODEL_13a75eec7bf042fd91124cabbb110897",
            "_dom_classes": [],
            "description": "",
            "_model_name": "HTMLModel",
            "placeholder": "​",
            "_view_module": "@jupyter-widgets/controls",
            "_model_module_version": "1.5.0",
            "value": " 6917/6917 [02:56&lt;00:00, 39.21it/s]",
            "_view_count": null,
            "_view_module_version": "1.5.0",
            "description_tooltip": null,
            "_model_module": "@jupyter-widgets/controls",
            "layout": "IPY_MODEL_b7bd75a34ff44efb9d869f5cd53e1931"
          }
        },
        "450ff0c7b8e14825a232f6bf73f1b2d4": {
          "model_module": "@jupyter-widgets/controls",
          "model_name": "ProgressStyleModel",
          "state": {
            "_view_name": "StyleView",
            "_model_name": "ProgressStyleModel",
            "description_width": "initial",
            "_view_module": "@jupyter-widgets/base",
            "_model_module_version": "1.5.0",
            "_view_count": null,
            "_view_module_version": "1.2.0",
            "bar_color": null,
            "_model_module": "@jupyter-widgets/controls"
          }
        },
        "a873783e10204b9a93e33bbb792077cc": {
          "model_module": "@jupyter-widgets/base",
          "model_name": "LayoutModel",
          "state": {
            "_view_name": "LayoutView",
            "grid_template_rows": null,
            "right": null,
            "justify_content": null,
            "_view_module": "@jupyter-widgets/base",
            "overflow": null,
            "_model_module_version": "1.2.0",
            "_view_count": null,
            "flex_flow": null,
            "width": null,
            "min_width": null,
            "border": null,
            "align_items": null,
            "bottom": null,
            "_model_module": "@jupyter-widgets/base",
            "top": null,
            "grid_column": null,
            "overflow_y": null,
            "overflow_x": null,
            "grid_auto_flow": null,
            "grid_area": null,
            "grid_template_columns": null,
            "flex": null,
            "_model_name": "LayoutModel",
            "justify_items": null,
            "grid_row": null,
            "max_height": null,
            "align_content": null,
            "visibility": null,
            "align_self": null,
            "height": null,
            "min_height": null,
            "padding": null,
            "grid_auto_rows": null,
            "grid_gap": null,
            "max_width": null,
            "order": null,
            "_view_module_version": "1.2.0",
            "grid_template_areas": null,
            "object_position": null,
            "object_fit": null,
            "grid_auto_columns": null,
            "margin": null,
            "display": null,
            "left": null
          }
        },
        "13a75eec7bf042fd91124cabbb110897": {
          "model_module": "@jupyter-widgets/controls",
          "model_name": "DescriptionStyleModel",
          "state": {
            "_view_name": "StyleView",
            "_model_name": "DescriptionStyleModel",
            "description_width": "",
            "_view_module": "@jupyter-widgets/base",
            "_model_module_version": "1.5.0",
            "_view_count": null,
            "_view_module_version": "1.2.0",
            "_model_module": "@jupyter-widgets/controls"
          }
        },
        "b7bd75a34ff44efb9d869f5cd53e1931": {
          "model_module": "@jupyter-widgets/base",
          "model_name": "LayoutModel",
          "state": {
            "_view_name": "LayoutView",
            "grid_template_rows": null,
            "right": null,
            "justify_content": null,
            "_view_module": "@jupyter-widgets/base",
            "overflow": null,
            "_model_module_version": "1.2.0",
            "_view_count": null,
            "flex_flow": null,
            "width": null,
            "min_width": null,
            "border": null,
            "align_items": null,
            "bottom": null,
            "_model_module": "@jupyter-widgets/base",
            "top": null,
            "grid_column": null,
            "overflow_y": null,
            "overflow_x": null,
            "grid_auto_flow": null,
            "grid_area": null,
            "grid_template_columns": null,
            "flex": null,
            "_model_name": "LayoutModel",
            "justify_items": null,
            "grid_row": null,
            "max_height": null,
            "align_content": null,
            "visibility": null,
            "align_self": null,
            "height": null,
            "min_height": null,
            "padding": null,
            "grid_auto_rows": null,
            "grid_gap": null,
            "max_width": null,
            "order": null,
            "_view_module_version": "1.2.0",
            "grid_template_areas": null,
            "object_position": null,
            "object_fit": null,
            "grid_auto_columns": null,
            "margin": null,
            "display": null,
            "left": null
          }
        }
      }
    }
  },
  "cells": [
    {
      "cell_type": "markdown",
      "metadata": {
        "id": "viikY8IQdVTY"
      },
      "source": [
        "# Popularity\n",
        "\n",
        "## Experiment\n",
        "\n",
        "- Using Jaccard Similarity has the best performance"
      ]
    },
    {
      "cell_type": "code",
      "metadata": {
        "id": "M8FDcw4rVboe"
      },
      "source": [
        "import glob\n",
        "import numpy as np\n",
        "import pandas as pd\n",
        "from typing import Callable, Tuple\n",
        "from collections import Counter\n",
        "from tqdm.notebook import tqdm\n",
        "\n",
        "from sklearn.model_selection import train_test_split\n",
        "from scipy.sparse import csr_matrix\n",
        "\n",
        "from tensorflow.keras.utils import get_file\n",
        "import zipfile"
      ],
      "execution_count": 1,
      "outputs": []
    },
    {
      "cell_type": "code",
      "metadata": {
        "id": "sdjqodyYVf9I"
      },
      "source": [
        "def load_data(data_size : str) -> pd.DataFrame:\n",
        "    ''' load Movie Lens data '''\n",
        "\n",
        "    if data_size == '100k':\n",
        "        file = get_file('ml-100k.zip', 'http://files.grouplens.org/datasets/movielens/ml-100k.zip')\n",
        "        file_name = 'ml-100k/*'\n",
        "    elif data_size == '1m':\n",
        "        file = get_file('ml-1m.zip', 'http://files.grouplens.org/datasets/movielens/ml-1m.zip')\n",
        "        file_name = 'ml-1m/ratings.dat'\n",
        "    elif data_size == '10m':\n",
        "        file = get_file('ml-10m.zip', 'http://files.grouplens.org/datasets/movielens/ml-10m.zip')\n",
        "        file_name = 'ml-10M100K/ratings.dat'\n",
        "    elif data_size == '20m':\n",
        "        file = get_file('ml-20m.zip', 'http://files.grouplens.org/datasets/movielens/ml-20m.zip')\n",
        "        file_name = 'ml-20m/ratings.csv'\n",
        "    elif data_size == '25m':\n",
        "        file = get_file('ml-25m.zip', 'http://files.grouplens.org/datasets/movielens/ml-25m.zip')\n",
        "        file_name = 'ml-25m/ratings.csv'\n",
        "    zip_ref = zipfile.ZipFile(file, 'r')\n",
        "    zip_ref.extractall()\n",
        "\n",
        "    col_names = ['userId', 'movieId', 'rating', 'timestamp']\n",
        "    if data_size in ['20m', '25m']:\n",
        "        ratings = pd.read_csv(file_name, engine = 'python')\n",
        "    else:\n",
        "        ratings = pd.read_csv(file_name, sep = '|', delimiter = '::', names = col_names, engine = 'python')\n",
        "    print(ratings.shape)\n",
        "    return ratings"
      ],
      "execution_count": 2,
      "outputs": []
    },
    {
      "cell_type": "code",
      "metadata": {
        "id": "RZf8Gzf0VhYV",
        "outputId": "e18e5d7f-14ac-415f-e557-8618547868bf",
        "colab": {
          "base_uri": "https://localhost:8080/",
          "height": 258
        }
      },
      "source": [
        "ratings = load_data('10m')\n",
        "ratings.head()"
      ],
      "execution_count": 3,
      "outputs": [
        {
          "output_type": "stream",
          "text": [
            "Downloading data from http://files.grouplens.org/datasets/movielens/ml-10m.zip\n",
            "65568768/65566137 [==============================] - 1s 0us/step\n",
            "(10000054, 4)\n"
          ],
          "name": "stdout"
        },
        {
          "output_type": "execute_result",
          "data": {
            "text/html": [
              "<div>\n",
              "<style scoped>\n",
              "    .dataframe tbody tr th:only-of-type {\n",
              "        vertical-align: middle;\n",
              "    }\n",
              "\n",
              "    .dataframe tbody tr th {\n",
              "        vertical-align: top;\n",
              "    }\n",
              "\n",
              "    .dataframe thead th {\n",
              "        text-align: right;\n",
              "    }\n",
              "</style>\n",
              "<table border=\"1\" class=\"dataframe\">\n",
              "  <thead>\n",
              "    <tr style=\"text-align: right;\">\n",
              "      <th></th>\n",
              "      <th>userId</th>\n",
              "      <th>movieId</th>\n",
              "      <th>rating</th>\n",
              "      <th>timestamp</th>\n",
              "    </tr>\n",
              "  </thead>\n",
              "  <tbody>\n",
              "    <tr>\n",
              "      <th>0</th>\n",
              "      <td>1</td>\n",
              "      <td>122</td>\n",
              "      <td>5.0</td>\n",
              "      <td>838985046</td>\n",
              "    </tr>\n",
              "    <tr>\n",
              "      <th>1</th>\n",
              "      <td>1</td>\n",
              "      <td>185</td>\n",
              "      <td>5.0</td>\n",
              "      <td>838983525</td>\n",
              "    </tr>\n",
              "    <tr>\n",
              "      <th>2</th>\n",
              "      <td>1</td>\n",
              "      <td>231</td>\n",
              "      <td>5.0</td>\n",
              "      <td>838983392</td>\n",
              "    </tr>\n",
              "    <tr>\n",
              "      <th>3</th>\n",
              "      <td>1</td>\n",
              "      <td>292</td>\n",
              "      <td>5.0</td>\n",
              "      <td>838983421</td>\n",
              "    </tr>\n",
              "    <tr>\n",
              "      <th>4</th>\n",
              "      <td>1</td>\n",
              "      <td>316</td>\n",
              "      <td>5.0</td>\n",
              "      <td>838983392</td>\n",
              "    </tr>\n",
              "  </tbody>\n",
              "</table>\n",
              "</div>"
            ],
            "text/plain": [
              "   userId  movieId  rating  timestamp\n",
              "0       1      122     5.0  838985046\n",
              "1       1      185     5.0  838983525\n",
              "2       1      231     5.0  838983392\n",
              "3       1      292     5.0  838983421\n",
              "4       1      316     5.0  838983392"
            ]
          },
          "metadata": {
            "tags": []
          },
          "execution_count": 3
        }
      ]
    },
    {
      "cell_type": "markdown",
      "metadata": {
        "id": "tGuhgUB67uKF"
      },
      "source": [
        "## 1. Data Preprocessing"
      ]
    },
    {
      "cell_type": "code",
      "metadata": {
        "id": "oU_B2Cc6MYyt"
      },
      "source": [
        "def preprocessing(df: pd.DataFrame, threshold = 4) -> pd.DataFrame:\n",
        "    df = df[df.rating >= threshold]\n",
        "    positive = df.groupby('userId')['movieId'].nunique()\n",
        "    positive = positive.index[positive >= 5]\n",
        "    df = df[df.userId.isin(positive)]\n",
        "    return df.reset_index(drop = True)"
      ],
      "execution_count": 4,
      "outputs": []
    },
    {
      "cell_type": "code",
      "metadata": {
        "id": "Q61otQWA3tFe",
        "outputId": "7431d637-becc-4b76-cbcf-ec48dd6c644d",
        "colab": {
          "base_uri": "https://localhost:8080/",
          "height": 53
        }
      },
      "source": [
        "idx_user_map = ratings.userId.unique()\n",
        "user_idx_map = {e: i for i, e in enumerate(idx_user_map)}\n",
        "n_user = idx_user_map.shape[0]\n",
        "print(f'# of user = {n_user}')\n",
        "\n",
        "idx_item_map = ratings.movieId.unique()\n",
        "item_idx_map = {e: i for i, e in enumerate(idx_item_map)}\n",
        "n_item = idx_item_map.shape[0]\n",
        "print(f'# of item = {n_item}')"
      ],
      "execution_count": 5,
      "outputs": [
        {
          "output_type": "stream",
          "text": [
            "# of user = 69878\n",
            "# of item = 10677\n"
          ],
          "name": "stdout"
        }
      ]
    },
    {
      "cell_type": "code",
      "metadata": {
        "id": "QJvVnvKX3uNv"
      },
      "source": [
        "def Id2idx(df: pd.DataFrame) -> pd.DataFrame:\n",
        "    return df.assign(userId = lambda x: x.userId.map(user_idx_map), \n",
        "                     movieId = lambda x: x.movieId.map(item_idx_map))\n",
        "\n",
        "def idx2Id(df: pd.DataFrame) -> pd.DataFrame:\n",
        "    return df.assign(userId = lambda x: x.userId.apply(lambda x: idx_user_map[x]), \n",
        "                     movieId = lambda x: x.movieId.apply(lambda x: idx_item_map[x]))"
      ],
      "execution_count": 6,
      "outputs": []
    },
    {
      "cell_type": "code",
      "metadata": {
        "id": "bS1B1fPw3whx",
        "outputId": "20c4e179-9a8b-4b05-cd59-7518a1f5bad5",
        "colab": {
          "base_uri": "https://localhost:8080/",
          "height": 222
        }
      },
      "source": [
        "ratings = preprocessing(ratings)\n",
        "ratings = Id2idx(ratings)\n",
        "\n",
        "print(ratings.shape)\n",
        "ratings.head(5)"
      ],
      "execution_count": 7,
      "outputs": [
        {
          "output_type": "stream",
          "text": [
            "(5003786, 4)\n"
          ],
          "name": "stdout"
        },
        {
          "output_type": "execute_result",
          "data": {
            "text/html": [
              "<div>\n",
              "<style scoped>\n",
              "    .dataframe tbody tr th:only-of-type {\n",
              "        vertical-align: middle;\n",
              "    }\n",
              "\n",
              "    .dataframe tbody tr th {\n",
              "        vertical-align: top;\n",
              "    }\n",
              "\n",
              "    .dataframe thead th {\n",
              "        text-align: right;\n",
              "    }\n",
              "</style>\n",
              "<table border=\"1\" class=\"dataframe\">\n",
              "  <thead>\n",
              "    <tr style=\"text-align: right;\">\n",
              "      <th></th>\n",
              "      <th>userId</th>\n",
              "      <th>movieId</th>\n",
              "      <th>rating</th>\n",
              "      <th>timestamp</th>\n",
              "    </tr>\n",
              "  </thead>\n",
              "  <tbody>\n",
              "    <tr>\n",
              "      <th>0</th>\n",
              "      <td>0</td>\n",
              "      <td>0</td>\n",
              "      <td>5.0</td>\n",
              "      <td>838985046</td>\n",
              "    </tr>\n",
              "    <tr>\n",
              "      <th>1</th>\n",
              "      <td>0</td>\n",
              "      <td>1</td>\n",
              "      <td>5.0</td>\n",
              "      <td>838983525</td>\n",
              "    </tr>\n",
              "    <tr>\n",
              "      <th>2</th>\n",
              "      <td>0</td>\n",
              "      <td>2</td>\n",
              "      <td>5.0</td>\n",
              "      <td>838983392</td>\n",
              "    </tr>\n",
              "    <tr>\n",
              "      <th>3</th>\n",
              "      <td>0</td>\n",
              "      <td>3</td>\n",
              "      <td>5.0</td>\n",
              "      <td>838983421</td>\n",
              "    </tr>\n",
              "    <tr>\n",
              "      <th>4</th>\n",
              "      <td>0</td>\n",
              "      <td>4</td>\n",
              "      <td>5.0</td>\n",
              "      <td>838983392</td>\n",
              "    </tr>\n",
              "  </tbody>\n",
              "</table>\n",
              "</div>"
            ],
            "text/plain": [
              "   userId  movieId  rating  timestamp\n",
              "0       0        0     5.0  838985046\n",
              "1       0        1     5.0  838983525\n",
              "2       0        2     5.0  838983392\n",
              "3       0        3     5.0  838983421\n",
              "4       0        4     5.0  838983392"
            ]
          },
          "metadata": {
            "tags": []
          },
          "execution_count": 7
        }
      ]
    },
    {
      "cell_type": "code",
      "metadata": {
        "id": "EO0a_3NEFstw"
      },
      "source": [
        "def train_valid_test_split(df: pd.DataFrame) -> pd.DataFrame:\n",
        "    train_user, test_user = train_test_split(df.userId.unique(), test_size = 0.1, random_state = 7777)\n",
        "    train, test = map(lambda x: df[df.userId.isin(x)], (train_user, test_user))\n",
        "    train, test = map(lambda df: df.reset_index(drop = True), (train, test))\n",
        "    return train, test\n",
        "\n",
        "def query_answer_split(df: pd.DataFrame) -> pd.DataFrame:\n",
        "    query, answer = train_test_split(df, test_size = 0.2, stratify = df.userId, random_state = 7777)\n",
        "    query, answer = map(lambda df: df.sort_values(['userId', 'timestamp']), (query, answer))\n",
        "    query, answer = map(lambda df: df.reset_index(drop = True), (query, answer))\n",
        "    return query, answer\n",
        "\n",
        "def list_aggregation(df: pd.DataFrame) -> pd.DataFrame:\n",
        "    return df.groupby('userId', as_index = False)[['movieId', 'rating']].agg(list)"
      ],
      "execution_count": 8,
      "outputs": []
    },
    {
      "cell_type": "code",
      "metadata": {
        "id": "0PdHBVgc4s4P"
      },
      "source": [
        "class ItemCF:\n",
        "    def __init__(self, N: int):\n",
        "        self.N = N       \n",
        "    \n",
        "    def fit(self, df: pd.DataFrame):\n",
        "        self.df = df\n",
        "        row = df.userId\n",
        "        col = df.movieId\n",
        "        data = np.ones(shape = df.index.size)\n",
        "        self.mat = csr_matrix((data, (row, col)), shape = (n_user, n_item))\n",
        "        self.mat_T = self.mat.T.tocsr()\n",
        "    \n",
        "    def predict(self, df:pd.DataFrame, similarity = 'dot') -> list:\n",
        "        res = []\n",
        "        top_N = 20\n",
        "        profile = df['movieId']\n",
        "        for idx in tqdm(df.index):\n",
        "            y_true = np.zeros(shape = (n_item, ))\n",
        "            pos = profile[idx]\n",
        "            y_true[pos] = 1\n",
        "\n",
        "            sim = self.mat.dot(y_true)\n",
        "            if similarity == 'cosine':\n",
        "                a = self.mat.dot(np.ones(n_item))\n",
        "                b = np.sum(y_true)\n",
        "                sim /= np.clip(np.sqrt(a * b), a_min = 1, a_max = np.inf)\n",
        "            elif similarity == 'jaccard':\n",
        "                a = self.mat.dot(np.ones(n_item))\n",
        "                b = np.sum(y_true)\n",
        "                sim /= (a + b - sim)\n",
        "            elif similarity == 'euclidean':\n",
        "                a = self.mat.dot(np.ones(n_item))\n",
        "                b = np.sum(y_true)\n",
        "                sim = np.sqrt(a + b - 2 * sim)\n",
        "            y_pred = self.mat_T.dot(sim)\n",
        "            cand = np.argsort(np.where(y_true == 1, -10, 1) * y_pred)[:-top_N-1:-1]\n",
        "            res.append(cand)\n",
        "        return res"
      ],
      "execution_count": 9,
      "outputs": []
    },
    {
      "cell_type": "code",
      "metadata": {
        "id": "pP6v4dXR50fT"
      },
      "source": [
        "def ndcg(gt, rec):\n",
        "    dcg, idcg = 0.0, 0.0\n",
        "    k = 0\n",
        "    for i, r in enumerate(rec):\n",
        "        if r in gt:\n",
        "            dcg += 1.0 / np.log(i + 2)\n",
        "            idcg += 1.0 / np.log(k + 2)\n",
        "            k += 1\n",
        "    return dcg / np.max([1, idcg])\n",
        "\n",
        "def recall(gt, rec):\n",
        "    res = [r for r in rec if r in gt]\n",
        "    return len(res) / len(gt)\n",
        "\n",
        "def precision(gt, rec):\n",
        "    res = [r for r in rec if r in gt]\n",
        "    return len(res) / len(rec)\n",
        "\n",
        "def precision_k(gt, rec, k):\n",
        "    rec_k = rec[:k+1]\n",
        "    res = [r for r in rec_k if r in gt]\n",
        "    return len(res) / k\n",
        "\n",
        "def AP_k(gt, rec, k = 20):\n",
        "    res = 0\n",
        "    for i in range(k):\n",
        "        if rec[i] in gt:\n",
        "            res += precision_k(gt, rec, i+1)\n",
        "    return res / min(k, len(gt))"
      ],
      "execution_count": 18,
      "outputs": []
    },
    {
      "cell_type": "code",
      "metadata": {
        "id": "o3U6s6M1Rqxx"
      },
      "source": [
        "def evaluation(true: pd.DataFrame, pred):\n",
        "    m_ndcg = 0\n",
        "    m_recall = 0\n",
        "    m_precision = 0\n",
        "    map_k = 0\n",
        "    for i in range(len(pred)):\n",
        "        rec = pred[i]\n",
        "        gt = true.at[i, 'movieId']\n",
        "        m_ndcg += ndcg(gt, rec)\n",
        "        m_recall += recall(gt, rec)\n",
        "        m_precision += precision(gt, rec)\n",
        "        map_k += AP_k(gt, rec)\n",
        "    m_ndcg /= len(pred)\n",
        "    m_recall /= len(pred)\n",
        "    m_precision /= len(pred)\n",
        "    map_k /= len(pred)\n",
        "    return m_ndcg, m_recall, m_precision, map_k"
      ],
      "execution_count": 19,
      "outputs": []
    },
    {
      "cell_type": "code",
      "metadata": {
        "id": "aNIUqK7qKHZR"
      },
      "source": [
        "train, test = train_valid_test_split(ratings)\n",
        "test_q, test_a = query_answer_split(test)\n",
        "test_q, test_a = map(list_aggregation, (test_q, test_a))"
      ],
      "execution_count": 20,
      "outputs": []
    },
    {
      "cell_type": "code",
      "metadata": {
        "id": "REU7w8hNKL5I"
      },
      "source": [
        "model = ItemCF(N = 20)\n",
        "model.fit(train)"
      ],
      "execution_count": 21,
      "outputs": []
    },
    {
      "cell_type": "markdown",
      "metadata": {
        "id": "ojf93cdxVhe2"
      },
      "source": [
        "### 0. Remark\n",
        "\n",
        "- Since A and B are binary vectors, it satisfies $ A ^2 = A $ by the element-wise product. \n",
        "\n",
        "- Futher, note that the dot product \"$\\cdot$\" satisfies that $ A \\cdot B = \\sum AB $."
      ]
    },
    {
      "cell_type": "markdown",
      "metadata": {
        "id": "BsFnKhd_UmCK"
      },
      "source": [
        "### 1. Dot Product Similarity\n",
        "\n",
        "$$ \\text{DotSim}(A, B) := A \\cdot B$$"
      ]
    },
    {
      "cell_type": "code",
      "metadata": {
        "id": "xOQ5o8yKGruw",
        "outputId": "75cc1afb-48c2-4fb5-cced-488d72b58974",
        "colab": {
          "base_uri": "https://localhost:8080/",
          "height": 67,
          "referenced_widgets": [
            "d8de4b720f82451a8a54f9d7db378322",
            "d5dafe5d4ac9486baa340ff296914ebd",
            "4a52abe6a1fc4d21b9578158cfe14859",
            "a5d31fdecf5d4773a7b2478a8bffcaf0",
            "3474ccd2e889480695a1766557a69421",
            "a28aced4f53f43d9a2140a1c5dda880c",
            "02ba2c4d4b404e319ed39782a3e11d29",
            "f7f37217e36b4045b670ef2e3f6ea8f1"
          ]
        }
      },
      "source": [
        "pred = model.predict(test_q)"
      ],
      "execution_count": 16,
      "outputs": [
        {
          "output_type": "display_data",
          "data": {
            "application/vnd.jupyter.widget-view+json": {
              "model_id": "d8de4b720f82451a8a54f9d7db378322",
              "version_minor": 0,
              "version_major": 2
            },
            "text/plain": [
              "HBox(children=(FloatProgress(value=0.0, max=6917.0), HTML(value='')))"
            ]
          },
          "metadata": {
            "tags": []
          }
        },
        {
          "output_type": "stream",
          "text": [
            "\n"
          ],
          "name": "stdout"
        }
      ]
    },
    {
      "cell_type": "code",
      "metadata": {
        "id": "oPdmwAXbHm7w",
        "outputId": "8e38c862-9834-4249-9cba-794de8e9527c",
        "colab": {
          "base_uri": "https://localhost:8080/",
          "height": 89
        }
      },
      "source": [
        "m_ndcg, m_recall, m_precision, map_k = evaluation(test_a, pred)\n",
        "print(f'nDCG: {m_ndcg:.5f}',\n",
        "      f'\\nRecall: {m_recall:.5f}',\n",
        "      f'\\nPrecision: {m_precision:.5f}',\n",
        "      f'\\nMAP: {map_k:.5f}')"
      ],
      "execution_count": 22,
      "outputs": [
        {
          "output_type": "stream",
          "text": [
            "nDCG: 0.41426 \n",
            "Recall: 0.19793 \n",
            "Precision: 0.10392 \n",
            "MAP: 0.10155\n"
          ],
          "name": "stdout"
        }
      ]
    },
    {
      "cell_type": "markdown",
      "metadata": {
        "id": "Eh53lKiMVMrd"
      },
      "source": [
        "### 2. Cosine Similarity\n",
        "\n",
        "$$ \\text{CosSim}(A, B) := \\cos(\\angle AB) = \\frac{A \\cdot B}{|A||B|} = \\frac{A \\cdot B}{\\sqrt{\\sum A}\\sqrt{\\sum B}}$$"
      ]
    },
    {
      "cell_type": "code",
      "metadata": {
        "id": "MSPft1UJV-c5",
        "outputId": "c99d36b9-9b13-4dcf-cf58-2639d0aaaaac",
        "colab": {
          "base_uri": "https://localhost:8080/",
          "height": 67,
          "referenced_widgets": [
            "56031c0971924a79a8a79d57f9af3c83",
            "6f06b7da5e3c43149fb338d37104c816",
            "2f365e5067e540db90b12213412e0dc7",
            "ced21e1e1c0742e1974dc009c332601f",
            "5061e941d31c4ede862e0ef7e6b3825f",
            "1dd0a60f48114da08f2dad829b7cd22b",
            "7e38be0f36954b63a0342bab2bb84857",
            "16124362f70e4668911e9805eac1e539"
          ]
        }
      },
      "source": [
        "pred = model.predict(test_q, similarity = 'cosine')"
      ],
      "execution_count": 23,
      "outputs": [
        {
          "output_type": "display_data",
          "data": {
            "application/vnd.jupyter.widget-view+json": {
              "model_id": "56031c0971924a79a8a79d57f9af3c83",
              "version_minor": 0,
              "version_major": 2
            },
            "text/plain": [
              "HBox(children=(FloatProgress(value=0.0, max=6917.0), HTML(value='')))"
            ]
          },
          "metadata": {
            "tags": []
          }
        },
        {
          "output_type": "stream",
          "text": [
            "\n"
          ],
          "name": "stdout"
        }
      ]
    },
    {
      "cell_type": "code",
      "metadata": {
        "id": "SlvUbMrUV-dD",
        "outputId": "ad774cdf-e56e-4fba-b163-f731f30f2377",
        "colab": {
          "base_uri": "https://localhost:8080/",
          "height": 89
        }
      },
      "source": [
        "m_ndcg, m_recall, m_precision, map_k = evaluation(test_a, pred)\n",
        "print(f'nDCG: {m_ndcg:.5f}',\n",
        "      f'\\nRecall: {m_recall:.5f}',\n",
        "      f'\\nPrecision: {m_precision:.5f}',\n",
        "      f'\\nMAP: {map_k:.5f}')"
      ],
      "execution_count": 25,
      "outputs": [
        {
          "output_type": "stream",
          "text": [
            "nDCG: 0.42104 \n",
            "Recall: 0.21662 \n",
            "Precision: 0.10852 \n",
            "MAP: 0.10816\n"
          ],
          "name": "stdout"
        }
      ]
    },
    {
      "cell_type": "markdown",
      "metadata": {
        "id": "AsNF4UJlUNPs"
      },
      "source": [
        "### 3. Jaccard Similarity\n",
        "\n",
        "$$ \\text{JacSim}(A, B) := \\frac{A \\cdot B}{\\sum A + \\sum B + A \\cdot B}$$"
      ]
    },
    {
      "cell_type": "code",
      "metadata": {
        "id": "6au2wATdTMxC",
        "outputId": "4bc50a33-54fb-4e76-f6f5-57644390c8e0",
        "colab": {
          "base_uri": "https://localhost:8080/",
          "height": 67,
          "referenced_widgets": [
            "6dd1289259de465e95db27d0ecb05979",
            "ea695b610efa465285882b1403eb3694",
            "95badf79c7ab4dc89c57a4df40169e64",
            "abcdfaa68e0c443d910c9d6d001f0769",
            "9f56c222978d41fe9120f5c6714ebde2",
            "6366b6b875304ebf955a0153b94ea835",
            "6cbcf02bc4a44cf2ae086fe691bd3458",
            "0b57405115004810bf7d01522264cfce"
          ]
        }
      },
      "source": [
        "pred = model.predict(test_q, similarity = 'jaccard')"
      ],
      "execution_count": 26,
      "outputs": [
        {
          "output_type": "display_data",
          "data": {
            "application/vnd.jupyter.widget-view+json": {
              "model_id": "6dd1289259de465e95db27d0ecb05979",
              "version_minor": 0,
              "version_major": 2
            },
            "text/plain": [
              "HBox(children=(FloatProgress(value=0.0, max=6917.0), HTML(value='')))"
            ]
          },
          "metadata": {
            "tags": []
          }
        },
        {
          "output_type": "stream",
          "text": [
            "\n"
          ],
          "name": "stdout"
        }
      ]
    },
    {
      "cell_type": "code",
      "metadata": {
        "id": "H1KvPzi3TPjx",
        "outputId": "3e2d6897-059d-4e77-9d44-1f187d080fab",
        "colab": {
          "base_uri": "https://localhost:8080/",
          "height": 89
        }
      },
      "source": [
        "m_ndcg, m_recall, m_precision, map_k = evaluation(test_a, pred)\n",
        "print(f'nDCG: {m_ndcg:.5f}',\n",
        "      f'\\nRecall: {m_recall:.5f}',\n",
        "      f'\\nPrecision: {m_precision:.5f}',\n",
        "      f'\\nMAP: {map_k:.5f}')"
      ],
      "execution_count": 27,
      "outputs": [
        {
          "output_type": "stream",
          "text": [
            "nDCG: 0.42903 \n",
            "Recall: 0.22766 \n",
            "Precision: 0.11146 \n",
            "MAP: 0.11431\n"
          ],
          "name": "stdout"
        }
      ]
    },
    {
      "cell_type": "markdown",
      "metadata": {
        "id": "VxBtIucRWCqW"
      },
      "source": [
        "### 4. Euclidean Distance\n",
        "\n",
        "$$\n",
        "\\begin{aligned}\n",
        "\\text{Dist}(A, B) &:= \\sqrt{\\sum(A - B)^2}\n",
        "\\\\ &= \\sqrt{\\sum (A^2 - 2AB + B^2)}\n",
        "\\\\ &= \\sqrt{\\sum (A + B - 2AB)}\n",
        "\\\\ &= \\sqrt{\\sum A + \\sum B - 2 A \\cdot B}\n",
        "\\end{aligned}\n",
        "$$"
      ]
    },
    {
      "cell_type": "code",
      "metadata": {
        "id": "3d00Qa03a_t6",
        "outputId": "4a6087dc-3b1a-4c64-e057-598e89c78be6",
        "colab": {
          "base_uri": "https://localhost:8080/",
          "height": 67,
          "referenced_widgets": [
            "9b689c6378ad417993649a01fe5f667d",
            "a845d1937079450bb71ba92358911b9b",
            "fe2c0ba10dbb432ea989eb303f698545",
            "0b4fe1183e6d4f84bfa761a6a2d61601",
            "450ff0c7b8e14825a232f6bf73f1b2d4",
            "a873783e10204b9a93e33bbb792077cc",
            "13a75eec7bf042fd91124cabbb110897",
            "b7bd75a34ff44efb9d869f5cd53e1931"
          ]
        }
      },
      "source": [
        "pred = model.predict(test_q, similarity = 'euclidean')"
      ],
      "execution_count": 28,
      "outputs": [
        {
          "output_type": "display_data",
          "data": {
            "application/vnd.jupyter.widget-view+json": {
              "model_id": "9b689c6378ad417993649a01fe5f667d",
              "version_minor": 0,
              "version_major": 2
            },
            "text/plain": [
              "HBox(children=(FloatProgress(value=0.0, max=6917.0), HTML(value='')))"
            ]
          },
          "metadata": {
            "tags": []
          }
        },
        {
          "output_type": "stream",
          "text": [
            "\n"
          ],
          "name": "stdout"
        }
      ]
    },
    {
      "cell_type": "code",
      "metadata": {
        "id": "8-bBxl3ga_uA",
        "outputId": "f8568648-d015-4dea-88b2-b84aa10b7811",
        "colab": {
          "base_uri": "https://localhost:8080/",
          "height": 89
        }
      },
      "source": [
        "m_ndcg, m_recall, m_precision, map_k = evaluation(test_a, pred)\n",
        "print(f'nDCG: {m_ndcg:.5f}',\n",
        "      f'\\nRecall: {m_recall:.5f}',\n",
        "      f'\\nPrecision: {m_precision:.5f}',\n",
        "      f'\\nMAP: {map_k:.5f}')"
      ],
      "execution_count": 29,
      "outputs": [
        {
          "output_type": "stream",
          "text": [
            "nDCG: 0.34237 \n",
            "Recall: 0.15273 \n",
            "Precision: 0.08366 \n",
            "MAP: 0.06639\n"
          ],
          "name": "stdout"
        }
      ]
    }
  ]
}