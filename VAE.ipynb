{
  "nbformat": 4,
  "nbformat_minor": 0,
  "metadata": {
    "colab": {
      "name": "VAE.ipynb",
      "provenance": [],
      "collapsed_sections": []
    },
    "kernelspec": {
      "name": "python3",
      "display_name": "Python 3"
    },
    "accelerator": "GPU"
  },
  "cells": [
    {
      "cell_type": "markdown",
      "metadata": {
        "id": "viikY8IQdVTY"
      },
      "source": [
        "# Mult-VAE\n",
        "\n",
        "- [Variational Autoencoders for Collaborative Filtering](https://arxiv.org/pdf/1802.05814.pdf)\n",
        "\n",
        "# CVAE\n",
        "\n",
        "- [Collaborative Variational Autoencoder for Recommender Systems\n",
        "](http://cseweb.ucsd.edu/classes/fa17/cse291-b/reading/p305-li.pdf)\n",
        "\n",
        "# RecVAE\n",
        "- [RecVAE: a New Variational Autoencoder for Top-N Recommendations with Implicit Feedback](https://arxiv.org/pdf/1912.11160.pdf)\n",
        "\n",
        "## Experiment"
      ]
    },
    {
      "cell_type": "code",
      "metadata": {
        "id": "M8FDcw4rVboe"
      },
      "source": [
        "import glob\n",
        "import numpy as np\n",
        "import pandas as pd\n",
        "from typing import Callable, Tuple\n",
        "\n",
        "import seaborn as sns\n",
        "import matplotlib.pyplot as plt\n",
        "%matplotlib inline\n",
        "plt.style.use('bmh')\n",
        "\n",
        "from sklearn.model_selection import train_test_split, KFold\n",
        "\n",
        "import tensorflow as tf\n",
        "import tensorflow.keras.backend as K\n",
        "from tensorflow.keras.layers import Layer, Input, Reshape, Dense, Dropout, Embedding, Flatten, concatenate\n",
        "from tensorflow.keras.models import Model, load_model\n",
        "from tensorflow.keras.callbacks import ModelCheckpoint, EarlyStopping\n",
        "from tensorflow.keras.optimizers import SGD, RMSprop, Adam\n",
        "from tensorflow.keras.optimizers.schedules import ExponentialDecay\n",
        "from tensorflow.keras.initializers import TruncatedNormal, RandomNormal\n",
        "from tensorflow.keras.regularizers import l2\n",
        "\n",
        "from tensorflow.keras.utils import get_file\n",
        "import zipfile"
      ],
      "execution_count": 2,
      "outputs": []
    },
    {
      "cell_type": "code",
      "metadata": {
        "id": "sdjqodyYVf9I"
      },
      "source": [
        "def load_data(data_size : str) -> pd.DataFrame:\n",
        "    ''' load Movie Lens data '''\n",
        "    if data_size == '100k':\n",
        "        file = get_file('ml-100k.zip', 'http://files.grouplens.org/datasets/movielens/ml-100k.zip')\n",
        "        file_name = 'ml-100k/*'\n",
        "    elif data_size == '1m':\n",
        "        file = get_file('ml-1m.zip', 'http://files.grouplens.org/datasets/movielens/ml-1m.zip')\n",
        "        file_name = 'ml-1m/ratings.dat'\n",
        "    elif data_size == '10m':\n",
        "        file = get_file('ml-10m.zip', 'http://files.grouplens.org/datasets/movielens/ml-10m.zip')\n",
        "        file_name = 'ml-10M100K/ratings.dat'\n",
        "    elif data_size == '20m':\n",
        "        file = get_file('ml-20m.zip', 'http://files.grouplens.org/datasets/movielens/ml-20m.zip')\n",
        "        file_name = 'ml-20m/ratings.csv'\n",
        "    zip_ref = zipfile.ZipFile(file, 'r')\n",
        "    zip_ref.extractall()\n",
        "\n",
        "    col_names = ['userId', 'movieId', 'rating', 'timestamp']\n",
        "    ratings = pd.read_csv(file_name, sep = '|', delimiter = '::', names = col_names, engine = 'python')\n",
        "    print(ratings.shape)\n",
        "    return ratings"
      ],
      "execution_count": 3,
      "outputs": []
    },
    {
      "cell_type": "code",
      "metadata": {
        "id": "RZf8Gzf0VhYV",
        "outputId": "08aea374-7091-4221-b1a2-9576e6b53af1",
        "colab": {
          "base_uri": "https://localhost:8080/",
          "height": 258
        }
      },
      "source": [
        "ratings = load_data('1m')\n",
        "ratings.head()"
      ],
      "execution_count": 4,
      "outputs": [
        {
          "output_type": "stream",
          "text": [
            "Downloading data from http://files.grouplens.org/datasets/movielens/ml-1m.zip\n",
            "5922816/5917549 [==============================] - 0s 0us/step\n",
            "(1000209, 4)\n"
          ],
          "name": "stdout"
        },
        {
          "output_type": "execute_result",
          "data": {
            "text/html": [
              "<div>\n",
              "<style scoped>\n",
              "    .dataframe tbody tr th:only-of-type {\n",
              "        vertical-align: middle;\n",
              "    }\n",
              "\n",
              "    .dataframe tbody tr th {\n",
              "        vertical-align: top;\n",
              "    }\n",
              "\n",
              "    .dataframe thead th {\n",
              "        text-align: right;\n",
              "    }\n",
              "</style>\n",
              "<table border=\"1\" class=\"dataframe\">\n",
              "  <thead>\n",
              "    <tr style=\"text-align: right;\">\n",
              "      <th></th>\n",
              "      <th>userId</th>\n",
              "      <th>movieId</th>\n",
              "      <th>rating</th>\n",
              "      <th>timestamp</th>\n",
              "    </tr>\n",
              "  </thead>\n",
              "  <tbody>\n",
              "    <tr>\n",
              "      <th>0</th>\n",
              "      <td>1</td>\n",
              "      <td>1193</td>\n",
              "      <td>5</td>\n",
              "      <td>978300760</td>\n",
              "    </tr>\n",
              "    <tr>\n",
              "      <th>1</th>\n",
              "      <td>1</td>\n",
              "      <td>661</td>\n",
              "      <td>3</td>\n",
              "      <td>978302109</td>\n",
              "    </tr>\n",
              "    <tr>\n",
              "      <th>2</th>\n",
              "      <td>1</td>\n",
              "      <td>914</td>\n",
              "      <td>3</td>\n",
              "      <td>978301968</td>\n",
              "    </tr>\n",
              "    <tr>\n",
              "      <th>3</th>\n",
              "      <td>1</td>\n",
              "      <td>3408</td>\n",
              "      <td>4</td>\n",
              "      <td>978300275</td>\n",
              "    </tr>\n",
              "    <tr>\n",
              "      <th>4</th>\n",
              "      <td>1</td>\n",
              "      <td>2355</td>\n",
              "      <td>5</td>\n",
              "      <td>978824291</td>\n",
              "    </tr>\n",
              "  </tbody>\n",
              "</table>\n",
              "</div>"
            ],
            "text/plain": [
              "   userId  movieId  rating  timestamp\n",
              "0       1     1193       5  978300760\n",
              "1       1      661       3  978302109\n",
              "2       1      914       3  978301968\n",
              "3       1     3408       4  978300275\n",
              "4       1     2355       5  978824291"
            ]
          },
          "metadata": {
            "tags": []
          },
          "execution_count": 4
        }
      ]
    },
    {
      "cell_type": "markdown",
      "metadata": {
        "id": "tGuhgUB67uKF"
      },
      "source": [
        "## 1. Data Preprocessing"
      ]
    },
    {
      "cell_type": "code",
      "metadata": {
        "id": "oU_B2Cc6MYyt"
      },
      "source": [
        "def preprocessing(df: pd.DataFrame, threshold = 3.5) -> pd.DataFrame:\n",
        "    df = df[df.rating > threshold]\n",
        "    more_than_4 = df.groupby('userId')['movieId'].nunique()\n",
        "    more_than_4 = more_than_4.index[more_than_4 > 4]\n",
        "    df = df[df.userId.isin(more_than_4)]\n",
        "    return df.reset_index(drop = True)"
      ],
      "execution_count": 5,
      "outputs": []
    },
    {
      "cell_type": "code",
      "metadata": {
        "id": "Q61otQWA3tFe",
        "outputId": "9a5a3be0-418c-4578-9882-bf1642911d4d",
        "colab": {
          "base_uri": "https://localhost:8080/",
          "height": 53
        }
      },
      "source": [
        "idx_user_map = ratings.userId.unique()\n",
        "user_idx_map = {e: i for i, e in enumerate(idx_user_map)}\n",
        "n_user = idx_user_map.shape[0]\n",
        "print(f'# of user = {n_user}')\n",
        "\n",
        "idx_item_map = ratings.movieId.unique()\n",
        "item_idx_map = {e: i for i, e in enumerate(idx_item_map)}\n",
        "n_item = idx_item_map.shape[0]\n",
        "print(f'# of item = {n_item}')"
      ],
      "execution_count": 6,
      "outputs": [
        {
          "output_type": "stream",
          "text": [
            "# of user = 6040\n",
            "# of item = 3706\n"
          ],
          "name": "stdout"
        }
      ]
    },
    {
      "cell_type": "code",
      "metadata": {
        "id": "QJvVnvKX3uNv"
      },
      "source": [
        "def Id2idx(df: pd.DataFrame) -> pd.DataFrame:\n",
        "    return df.assign(userId = lambda x: x.userId.map(user_idx_map), \n",
        "                     movieId = lambda x: x.movieId.map(item_idx_map))\n",
        "\n",
        "def idx2Id(df: pd.DataFrame) -> pd.DataFrame:\n",
        "    return df.assign(userId = lambda x: x.userId.apply(lambda x: idx_user_map[x]), \n",
        "                     movieId = lambda x: x.movieId.apply(lambda x: idx_item_map[x]))"
      ],
      "execution_count": 7,
      "outputs": []
    },
    {
      "cell_type": "code",
      "metadata": {
        "id": "bS1B1fPw3whx",
        "outputId": "e58f738b-fa98-4de6-dc7a-b4e84f0ffdf9",
        "colab": {
          "base_uri": "https://localhost:8080/",
          "height": 222
        }
      },
      "source": [
        "ratings = preprocessing(ratings)\n",
        "ratings = Id2idx(ratings)\n",
        "\n",
        "print(ratings.shape)\n",
        "ratings.head(5)"
      ],
      "execution_count": 8,
      "outputs": [
        {
          "output_type": "stream",
          "text": [
            "(575272, 4)\n"
          ],
          "name": "stdout"
        },
        {
          "output_type": "execute_result",
          "data": {
            "text/html": [
              "<div>\n",
              "<style scoped>\n",
              "    .dataframe tbody tr th:only-of-type {\n",
              "        vertical-align: middle;\n",
              "    }\n",
              "\n",
              "    .dataframe tbody tr th {\n",
              "        vertical-align: top;\n",
              "    }\n",
              "\n",
              "    .dataframe thead th {\n",
              "        text-align: right;\n",
              "    }\n",
              "</style>\n",
              "<table border=\"1\" class=\"dataframe\">\n",
              "  <thead>\n",
              "    <tr style=\"text-align: right;\">\n",
              "      <th></th>\n",
              "      <th>userId</th>\n",
              "      <th>movieId</th>\n",
              "      <th>rating</th>\n",
              "      <th>timestamp</th>\n",
              "    </tr>\n",
              "  </thead>\n",
              "  <tbody>\n",
              "    <tr>\n",
              "      <th>0</th>\n",
              "      <td>0</td>\n",
              "      <td>0</td>\n",
              "      <td>5</td>\n",
              "      <td>978300760</td>\n",
              "    </tr>\n",
              "    <tr>\n",
              "      <th>1</th>\n",
              "      <td>0</td>\n",
              "      <td>3</td>\n",
              "      <td>4</td>\n",
              "      <td>978300275</td>\n",
              "    </tr>\n",
              "    <tr>\n",
              "      <th>2</th>\n",
              "      <td>0</td>\n",
              "      <td>4</td>\n",
              "      <td>5</td>\n",
              "      <td>978824291</td>\n",
              "    </tr>\n",
              "    <tr>\n",
              "      <th>3</th>\n",
              "      <td>0</td>\n",
              "      <td>6</td>\n",
              "      <td>5</td>\n",
              "      <td>978302039</td>\n",
              "    </tr>\n",
              "    <tr>\n",
              "      <th>4</th>\n",
              "      <td>0</td>\n",
              "      <td>7</td>\n",
              "      <td>5</td>\n",
              "      <td>978300719</td>\n",
              "    </tr>\n",
              "  </tbody>\n",
              "</table>\n",
              "</div>"
            ],
            "text/plain": [
              "   userId  movieId  rating  timestamp\n",
              "0       0        0       5  978300760\n",
              "1       0        3       4  978300275\n",
              "2       0        4       5  978824291\n",
              "3       0        6       5  978302039\n",
              "4       0        7       5  978300719"
            ]
          },
          "metadata": {
            "tags": []
          },
          "execution_count": 8
        }
      ]
    },
    {
      "cell_type": "code",
      "metadata": {
        "id": "EO0a_3NEFstw"
      },
      "source": [
        "def make_interaction(df: pd.DataFrame) -> pd.DataFrame:\n",
        "    return df.groupby('userId', as_index = False)[['movieId', 'rating']].agg(list)\n",
        "\n",
        "def data_split(df: pd.DataFrame, test_size = 0.2) -> pd.DataFrame:\n",
        "    train_user, test_user = train_test_split(ratings.userId.unique(), test_size = test_size, random_state = 7777)\n",
        "    valid_user, test_user = train_test_split(test_user, test_size = 0.5, shuffle = False, random_state = 5555)\n",
        "\n",
        "    train, valid, test = map(lambda x: df[df.userId.isin(x)], (train_user, valid_user, test_user))\n",
        "    train, valid, test = map(lambda df: df.reset_index(drop = True), (train, valid, test))\n",
        "    return train, valid, test\n",
        "\n",
        "def make_evaluation(df: pd.DataFrame, eval_size = 0.2) -> pd.DataFrame:\n",
        "    query, answer = train_test_split(df, test_size = eval_size, stratify = df.userId, random_state = 7777)\n",
        "    query, answer = map(lambda df: df.reset_index(drop = True), (query, answer))\n",
        "    return query, answer"
      ],
      "execution_count": 31,
      "outputs": []
    },
    {
      "cell_type": "code",
      "metadata": {
        "id": "ZLAac2E-Bv1u"
      },
      "source": [
        "def make_generator(df: pd.DataFrame,\n",
        "                   n_item: int,\n",
        "                   batch_size: int,\n",
        "                   implicit = False,\n",
        "                   threshold = 3.5,\n",
        "                   user_specific = True,\n",
        "                   corruption = 0.4,\n",
        "                   negative_sampling = 5) -> Tuple[np.array, Tuple[np.array, np.array]]:\n",
        "\n",
        "    n_row = df.index.size\n",
        "    n_col = n_item\n",
        "\n",
        "    Ids = np.arange(n_row)\n",
        "    profile = df['movieId']\n",
        "    rating = df['rating'] if not implicit else df['rating'].apply(lambda x: [1 if r > threshold else 0 for r in x])\n",
        "\n",
        "    n_batch = int(np.ceil(n_row / batch_size))\n",
        "    while True:\n",
        "        np.random.shuffle(Ids)\n",
        "        \n",
        "        for batch_step in range(n_batch):\n",
        "            lower = batch_step * batch_size\n",
        "            upper = lower + batch_size\n",
        "            \n",
        "            batch_Id = Ids[lower: upper]\n",
        "            batch = np.zeros(shape = (batch_Id.size, n_col))\n",
        "            for i, idx in enumerate(batch_Id):\n",
        "                pos = np.array(profile[idx])\n",
        "                NS = len(pos) * negative_sampling\n",
        "                neg = np.random.choice(np.delete(np.arange(n_col), pos), NS)\n",
        "                p = np.random.uniform(0, 1, size = pos.shape)\n",
        "                corrupt = pos[p < corruption]\n",
        "\n",
        "                batch[i, pos] = rating[idx]\n",
        "                batch[i, corrupt] = 0\n",
        "                batch[i, neg] = np.finfo(float).eps\n",
        "            \n",
        "            if user_specific:\n",
        "                yield (batch, batch_Id), batch\n",
        "            else:\n",
        "                yield batch, batch"
      ],
      "execution_count": 21,
      "outputs": []
    },
    {
      "cell_type": "code",
      "metadata": {
        "id": "nNPv41eMBv1v"
      },
      "source": [
        "def masked_mae(y_true: np.array, y_pred: np.array, masked_value = 0) -> tf.Tensor:\n",
        "    mask_true = tf.cast(tf.not_equal(y_true, masked_value), dtype = 'float32')\n",
        "    masked_ae = K.abs(mask_true * (y_true - y_pred))\n",
        "    return K.sum(masked_ae, axis = -1) / K.sum(mask_true, axis = -1)\n",
        "\n",
        "def masked_rmse(y_true: np.array, y_pred: np.array, masked_value = 0) -> tf.Tensor:\n",
        "    mask_true = K.cast(K.not_equal(y_true, masked_value), dtype = 'float32')\n",
        "    masked_se = K.square(mask_true * (y_true - y_pred))\n",
        "    masked_mse = K.sum(masked_se, axis = -1) / K.sum(mask_true, axis = -1)\n",
        "    return K.sqrt(masked_mse)\n",
        "   \n",
        "def masked_cross_entropy(y_true: np.array, y_pred: np.array, masked_value = 0) -> tf.Tensor:\n",
        "    mask_true = K.cast(K.not_equal(y_true, masked_value), dtype = 'float32')\n",
        "    ce = y_true * K.log(y_pred + K.epsilon()) + (1 - y_true) * K.log(1 - y_pred + K.epsilon())\n",
        "    masked_ce = mask_true * ce\n",
        "    return -K.sum(masked_ce, axis = -1) / K.sum(mask_true, axis = -1)"
      ],
      "execution_count": 22,
      "outputs": []
    },
    {
      "cell_type": "code",
      "metadata": {
        "id": "e8nTDPrt5-qb"
      },
      "source": [
        "class Sampling(Layer):\n",
        "    def call(self, inputs):\n",
        "        z_mean, z_log_var = inputs\n",
        "        batch = tf.shape(z_mean)[0]\n",
        "        dim = tf.shape(z_mean)[1]\n",
        "        return z_mean + K.exp(0.5 * z_log_var) * K.random_normal(shape=(batch, dim))"
      ],
      "execution_count": 23,
      "outputs": []
    },
    {
      "cell_type": "code",
      "metadata": {
        "id": "itq0naTIVQ-n"
      },
      "source": [
        "def VAE(n_user: int,\n",
        "        n_item: int,\n",
        "        latent_dim = 50,\n",
        "        activation = 'selu',\n",
        "        optimizer = 'adam',\n",
        "        learning_rate = 0.001,\n",
        "        kernel_initializer = None,\n",
        "        kernel_regularizer = None) -> Callable:\n",
        "\n",
        "    if not kernel_initializer:\n",
        "        kernel_initializer = RandomNormal(mean = 0.0, stddev = 0.05, seed = None)\n",
        "    if not kernel_regularizer:\n",
        "        kernel_regularizer = l2(0.0001)\n",
        "    \n",
        "    inputs = x = Input(shape = (n_item, ), name = 'input')\n",
        "    z_mean = Dense(latent_dim, activation = activation, kernel_initializer = kernel_initializer, kernel_regularizer = kernel_regularizer, name = 'mean')(x)\n",
        "    z_log_var = Dense(latent_dim, activation = activation, kernel_initializer = kernel_initializer, kernel_regularizer = kernel_regularizer, name = 'log_var')(x)\n",
        "    z = Sampling()([z_mean, z_log_var])\n",
        "    outputs = Dense(n_item, activation = 'sigmoid')(z)\n",
        "\n",
        "    model = Model(inputs = inputs, outputs = outputs)\n",
        "    latent_loss = -0.5 * K.sum(1 + z_log_var - K.exp(z_log_var) - K.square(z_mean), axis = -1)\n",
        "    model.add_loss(K.mean(latent_loss) / n_item)\n",
        "    \n",
        "    model.compile(optimizer = optimizer, loss = masked_cross_entropy, metrics = [masked_cross_entropy, masked_rmse])\n",
        "    return model"
      ],
      "execution_count": 24,
      "outputs": []
    },
    {
      "cell_type": "code",
      "metadata": {
        "id": "l_iq0KOti83r"
      },
      "source": [
        "def make_predictor(df: pd.DataFrame, \n",
        "                   model: Callable, \n",
        "                   n_item: int, \n",
        "                   batch_size: int, \n",
        "                   implicit = True,\n",
        "                   threshold = 3.5,\n",
        "                   top_N = 20) -> float:\n",
        "\n",
        "    n_row = df.index.size\n",
        "    n_col = n_item\n",
        "\n",
        "    Ids = np.arange(n_row)\n",
        "    profile = df['movieId']\n",
        "    rating = df['rating'] if not implicit else df['rating'].apply(lambda x: [1 if r > threshold else 0 for r in x])\n",
        "\n",
        "    res = []\n",
        "    steps = int(np.ceil(n_row / batch_size))\n",
        "    for batch_step in range(steps):\n",
        "        lower = batch_step * batch_size\n",
        "        upper = lower + batch_size\n",
        "\n",
        "        batch_Id = Ids[lower: upper]\n",
        "        y_true = np.zeros(shape = (batch_Id.size, n_col))\n",
        "        for i, idx in enumerate(batch_Id):\n",
        "            y_true[i, profile[idx]] = rating[idx]\n",
        "\n",
        "        y_pred = model.predict(y_true, verbose = 0)\n",
        "        \n",
        "        pred = np.argsort(np.where(y_true == 1, 0, 1) * y_pred, axis = -1)[:, :-top_N-1:-1]\n",
        "        res.append(pred)\n",
        "    return np.concatenate(res)"
      ],
      "execution_count": 54,
      "outputs": []
    },
    {
      "cell_type": "code",
      "metadata": {
        "id": "u2quTiHQJlpg"
      },
      "source": [
        "def show_history(hist, loss: str, metric: str) -> None:\n",
        "    fig, (ax1, ax2) = plt.subplots(1, 2, figsize = (12, 4))\n",
        "\n",
        "    ax1.plot(hist.history[f'{loss}'])\n",
        "    ax1.plot(hist.history[f'val_{loss}'])\n",
        "    ax1.set_title('Loss', fontsize = 20)\n",
        "    ax1.set_ylabel('loss')\n",
        "    ax1.set_xlabel('epoch')\n",
        "    ax1.legend(['loss', 'val_loss'], loc = 'upper right')\n",
        "\n",
        "    ax2.plot(hist.history[f'{metric}'])\n",
        "    ax2.plot(hist.history[f'val_{metric}'])\n",
        "    ax2.set_title('Metric', fontsize = 20)\n",
        "    ax2.set_ylabel('metric')\n",
        "    ax2.set_xlabel('epoch')\n",
        "    ax2.legend(['masked_metric', 'val_masked_metric'], loc = 'upper right')\n",
        "    plt.show()"
      ],
      "execution_count": 26,
      "outputs": []
    },
    {
      "cell_type": "code",
      "metadata": {
        "id": "lziheZmDL6fQ"
      },
      "source": [
        "def ndcg(gt: , rec):\n",
        "    dcg, idcg = 0.0, 0.0\n",
        "    for i, r in enumerate(rec):\n",
        "        idcg += 1.0 / np.log(i + 2)\n",
        "        if r in gt:\n",
        "            dcg += 1.0 / np.log(i + 2)\n",
        "    return dcg / idcg\n",
        "\n",
        "def recall(gt, rec):\n",
        "    res = [r for r in rec if r in gt]\n",
        "    return len(res) / len(gt)\n",
        "\n",
        "def precision(gt, rec):\n",
        "    res = [r for r in rec if r in gt]\n",
        "    return len(res) / len(rec)\n",
        "\n",
        "def precision_k(gt, rec, k):\n",
        "    rec_k = rec[:k+1]\n",
        "    res = [r for r in rec_k if r in gt]\n",
        "    return len(res) / k\n",
        "\n",
        "def AP_k(gt, rec, k = 20):\n",
        "    res = 0\n",
        "    for i in range(k):\n",
        "        if rec[i] in gt:\n",
        "            res += precision_k(gt, rec, i+1)\n",
        "    return res / min(k, len(gt))"
      ],
      "execution_count": null,
      "outputs": []
    },
    {
      "cell_type": "markdown",
      "metadata": {
        "id": "lDZc_fV0DmRA"
      },
      "source": [
        "## 2. Mult-VAE"
      ]
    },
    {
      "cell_type": "code",
      "metadata": {
        "id": "tU4qJYMtZ2-w",
        "outputId": "8d0930f2-19c1-4188-e668-6b73f43b278c",
        "colab": {
          "base_uri": "https://localhost:8080/",
          "height": 755
        }
      },
      "source": [
        "optimizer = Adam(learning_rate = 0.001, decay = 1e-5)\n",
        "model = VAE(n_user, n_item, latent_dim = 512, optimizer = optimizer)\n",
        "model.summary()"
      ],
      "execution_count": 71,
      "outputs": [
        {
          "output_type": "stream",
          "text": [
            "Model: \"functional_3\"\n",
            "__________________________________________________________________________________________________\n",
            "Layer (type)                    Output Shape         Param #     Connected to                     \n",
            "==================================================================================================\n",
            "input (InputLayer)              [(None, 3706)]       0                                            \n",
            "__________________________________________________________________________________________________\n",
            "mean (Dense)                    (None, 512)          1897984     input[0][0]                      \n",
            "__________________________________________________________________________________________________\n",
            "log_var (Dense)                 (None, 512)          1897984     input[0][0]                      \n",
            "__________________________________________________________________________________________________\n",
            "sampling_1 (Sampling)           (None, 512)          0           mean[0][0]                       \n",
            "                                                                 log_var[0][0]                    \n",
            "__________________________________________________________________________________________________\n",
            "dense_1 (Dense)                 (None, 3706)         1901178     sampling_1[0][0]                 \n",
            "__________________________________________________________________________________________________\n",
            "tf_op_layer_AddV2_1 (TensorFlow [(None, 512)]        0           log_var[0][0]                    \n",
            "__________________________________________________________________________________________________\n",
            "tf_op_layer_Exp_1 (TensorFlowOp [(None, 512)]        0           log_var[0][0]                    \n",
            "__________________________________________________________________________________________________\n",
            "tf_op_layer_Sub_2 (TensorFlowOp [(None, 512)]        0           tf_op_layer_AddV2_1[0][0]        \n",
            "                                                                 tf_op_layer_Exp_1[0][0]          \n",
            "__________________________________________________________________________________________________\n",
            "tf_op_layer_Square_1 (TensorFlo [(None, 512)]        0           mean[0][0]                       \n",
            "__________________________________________________________________________________________________\n",
            "tf_op_layer_Sub_3 (TensorFlowOp [(None, 512)]        0           tf_op_layer_Sub_2[0][0]          \n",
            "                                                                 tf_op_layer_Square_1[0][0]       \n",
            "__________________________________________________________________________________________________\n",
            "tf_op_layer_Sum_1 (TensorFlowOp [(None,)]            0           tf_op_layer_Sub_3[0][0]          \n",
            "__________________________________________________________________________________________________\n",
            "tf_op_layer_Mul_1 (TensorFlowOp [(None,)]            0           tf_op_layer_Sum_1[0][0]          \n",
            "__________________________________________________________________________________________________\n",
            "tf_op_layer_Mean_1 (TensorFlowO [()]                 0           tf_op_layer_Mul_1[0][0]          \n",
            "__________________________________________________________________________________________________\n",
            "tf_op_layer_RealDiv_1 (TensorFl [()]                 0           tf_op_layer_Mean_1[0][0]         \n",
            "__________________________________________________________________________________________________\n",
            "add_loss_1 (AddLoss)            ()                   0           tf_op_layer_RealDiv_1[0][0]      \n",
            "==================================================================================================\n",
            "Total params: 5,697,146\n",
            "Trainable params: 5,697,146\n",
            "Non-trainable params: 0\n",
            "__________________________________________________________________________________________________\n"
          ],
          "name": "stdout"
        }
      ]
    },
    {
      "cell_type": "code",
      "metadata": {
        "id": "dsLI0HYXIzIz"
      },
      "source": [
        "epochs = 500\n",
        "batch_size = 128\n",
        "\n",
        "train, valid, test = data_split(ratings)\n",
        "valid_q, valid_a = make_evaluation(valid)\n",
        "test_q, test_a = make_evaluation(test)\n",
        "\n",
        "train, valid_q, valid_a, test_q, test_a = map(make_interaction, (train, valid_q, valid_a, test_q, test_a))\n",
        "train_gen, valid_gen = map(lambda x: make_generator(x, n_item, batch_size, implicit = True, user_specific = False), (train, valid_q))"
      ],
      "execution_count": 72,
      "outputs": []
    },
    {
      "cell_type": "code",
      "metadata": {
        "id": "3GI4n7pPYFPc"
      },
      "source": [
        "steps_per_epoch = train.index.size // batch_size + 1\n",
        "validation_steps = valid_q.index.size // batch_size + 1"
      ],
      "execution_count": 73,
      "outputs": []
    },
    {
      "cell_type": "code",
      "metadata": {
        "id": "T7lQYKnyXb3X",
        "outputId": "bfa67d26-fbe6-45c5-8a67-7aab7fcafb15",
        "colab": {
          "base_uri": "https://localhost:8080/",
          "height": 1000
        }
      },
      "source": [
        "%%time\n",
        "early_stopping = EarlyStopping(monitor = 'val_loss', mode = 'min', verbose = 1, patience = 50)\n",
        "model_checkpoint = ModelCheckpoint('VAE.h5', monitor = 'val_loss', mode = 'min', save_best_only = True)\n",
        "\n",
        "hist = model.fit(x = train_gen, validation_data = valid_gen, epochs = epochs,\n",
        "                 steps_per_epoch = steps_per_epoch, validation_steps = validation_steps, \n",
        "                 verbose = 1, callbacks = [early_stopping, model_checkpoint])"
      ],
      "execution_count": 74,
      "outputs": [
        {
          "output_type": "stream",
          "text": [
            "Epoch 1/500\n",
            "38/38 [==============================] - 1s 37ms/step - loss: 1.1101 - masked_cross_entropy: 0.4600 - masked_rmse: 0.3748 - val_loss: 0.6883 - val_masked_cross_entropy: 0.3122 - val_masked_rmse: 0.2983\n",
            "Epoch 2/500\n",
            "38/38 [==============================] - 2s 52ms/step - loss: 0.5304 - masked_cross_entropy: 0.2797 - masked_rmse: 0.2834 - val_loss: 0.4212 - val_masked_cross_entropy: 0.2760 - val_masked_rmse: 0.2818\n",
            "Epoch 3/500\n",
            "38/38 [==============================] - 2s 53ms/step - loss: 0.3599 - masked_cross_entropy: 0.2528 - masked_rmse: 0.2696 - val_loss: 0.3207 - val_masked_cross_entropy: 0.2519 - val_masked_rmse: 0.2683\n",
            "Epoch 4/500\n",
            "38/38 [==============================] - 1s 33ms/step - loss: 0.2934 - masked_cross_entropy: 0.2354 - masked_rmse: 0.2596 - val_loss: 0.2768 - val_masked_cross_entropy: 0.2349 - val_masked_rmse: 0.2586\n",
            "Epoch 5/500\n",
            "38/38 [==============================] - 2s 52ms/step - loss: 0.2637 - masked_cross_entropy: 0.2240 - masked_rmse: 0.2529 - val_loss: 0.2585 - val_masked_cross_entropy: 0.2266 - val_masked_rmse: 0.2546\n",
            "Epoch 6/500\n",
            "38/38 [==============================] - 1s 33ms/step - loss: 0.2465 - masked_cross_entropy: 0.2145 - masked_rmse: 0.2478 - val_loss: 0.2464 - val_masked_cross_entropy: 0.2200 - val_masked_rmse: 0.2507\n",
            "Epoch 7/500\n",
            "38/38 [==============================] - 1s 33ms/step - loss: 0.2399 - masked_cross_entropy: 0.2111 - masked_rmse: 0.2460 - val_loss: 0.2422 - val_masked_cross_entropy: 0.2160 - val_masked_rmse: 0.2481\n",
            "Epoch 8/500\n",
            "38/38 [==============================] - 2s 52ms/step - loss: 0.2374 - masked_cross_entropy: 0.2074 - masked_rmse: 0.2438 - val_loss: 0.2358 - val_masked_cross_entropy: 0.2091 - val_masked_rmse: 0.2446\n",
            "Epoch 9/500\n",
            "38/38 [==============================] - 2s 52ms/step - loss: 0.2306 - masked_cross_entropy: 0.2026 - masked_rmse: 0.2413 - val_loss: 0.2318 - val_masked_cross_entropy: 0.2081 - val_masked_rmse: 0.2448\n",
            "Epoch 10/500\n",
            "38/38 [==============================] - 1s 29ms/step - loss: 0.2263 - masked_cross_entropy: 0.2002 - masked_rmse: 0.2400 - val_loss: 0.2369 - val_masked_cross_entropy: 0.2111 - val_masked_rmse: 0.2453\n",
            "Epoch 11/500\n",
            "38/38 [==============================] - 1s 32ms/step - loss: 0.2282 - masked_cross_entropy: 0.1992 - masked_rmse: 0.2393 - val_loss: 0.2297 - val_masked_cross_entropy: 0.2041 - val_masked_rmse: 0.2423\n",
            "Epoch 12/500\n",
            "38/38 [==============================] - 1s 32ms/step - loss: 0.2250 - masked_cross_entropy: 0.1980 - masked_rmse: 0.2389 - val_loss: 0.2292 - val_masked_cross_entropy: 0.2046 - val_masked_rmse: 0.2423\n",
            "Epoch 13/500\n",
            "38/38 [==============================] - 1s 28ms/step - loss: 0.2237 - masked_cross_entropy: 0.1957 - masked_rmse: 0.2372 - val_loss: 0.2297 - val_masked_cross_entropy: 0.2043 - val_masked_rmse: 0.2420\n",
            "Epoch 14/500\n",
            "38/38 [==============================] - 1s 32ms/step - loss: 0.2230 - masked_cross_entropy: 0.1944 - masked_rmse: 0.2366 - val_loss: 0.2276 - val_masked_cross_entropy: 0.2015 - val_masked_rmse: 0.2406\n",
            "Epoch 15/500\n",
            "38/38 [==============================] - 1s 33ms/step - loss: 0.2217 - masked_cross_entropy: 0.1933 - masked_rmse: 0.2359 - val_loss: 0.2265 - val_masked_cross_entropy: 0.1995 - val_masked_rmse: 0.2393\n",
            "Epoch 16/500\n",
            "38/38 [==============================] - 1s 28ms/step - loss: 0.2222 - masked_cross_entropy: 0.1922 - masked_rmse: 0.2349 - val_loss: 0.2290 - val_masked_cross_entropy: 0.2005 - val_masked_rmse: 0.2399\n",
            "Epoch 17/500\n",
            "38/38 [==============================] - 1s 28ms/step - loss: 0.2194 - masked_cross_entropy: 0.1903 - masked_rmse: 0.2340 - val_loss: 0.2269 - val_masked_cross_entropy: 0.2011 - val_masked_rmse: 0.2404\n",
            "Epoch 18/500\n",
            "38/38 [==============================] - 1s 32ms/step - loss: 0.2159 - masked_cross_entropy: 0.1884 - masked_rmse: 0.2332 - val_loss: 0.2244 - val_masked_cross_entropy: 0.1992 - val_masked_rmse: 0.2391\n",
            "Epoch 19/500\n",
            "38/38 [==============================] - 2s 52ms/step - loss: 0.2175 - masked_cross_entropy: 0.1892 - masked_rmse: 0.2335 - val_loss: 0.2242 - val_masked_cross_entropy: 0.1971 - val_masked_rmse: 0.2378\n",
            "Epoch 20/500\n",
            "38/38 [==============================] - 1s 34ms/step - loss: 0.2178 - masked_cross_entropy: 0.1889 - masked_rmse: 0.2331 - val_loss: 0.2212 - val_masked_cross_entropy: 0.1954 - val_masked_rmse: 0.2373\n",
            "Epoch 21/500\n",
            "38/38 [==============================] - 1s 29ms/step - loss: 0.2174 - masked_cross_entropy: 0.1883 - masked_rmse: 0.2327 - val_loss: 0.2265 - val_masked_cross_entropy: 0.1973 - val_masked_rmse: 0.2374\n",
            "Epoch 22/500\n",
            "38/38 [==============================] - 1s 27ms/step - loss: 0.2207 - masked_cross_entropy: 0.1882 - masked_rmse: 0.2327 - val_loss: 0.2277 - val_masked_cross_entropy: 0.1982 - val_masked_rmse: 0.2384\n",
            "Epoch 23/500\n",
            "38/38 [==============================] - 1s 29ms/step - loss: 0.2186 - masked_cross_entropy: 0.1869 - masked_rmse: 0.2316 - val_loss: 0.2240 - val_masked_cross_entropy: 0.1957 - val_masked_rmse: 0.2371\n",
            "Epoch 24/500\n",
            "38/38 [==============================] - 1s 31ms/step - loss: 0.2146 - masked_cross_entropy: 0.1854 - masked_rmse: 0.2312 - val_loss: 0.2205 - val_masked_cross_entropy: 0.1942 - val_masked_rmse: 0.2364\n",
            "Epoch 25/500\n",
            "38/38 [==============================] - 1s 28ms/step - loss: 0.2132 - masked_cross_entropy: 0.1843 - masked_rmse: 0.2305 - val_loss: 0.2235 - val_masked_cross_entropy: 0.1961 - val_masked_rmse: 0.2373\n",
            "Epoch 26/500\n",
            "38/38 [==============================] - 1s 30ms/step - loss: 0.2164 - masked_cross_entropy: 0.1856 - masked_rmse: 0.2307 - val_loss: 0.2269 - val_masked_cross_entropy: 0.1969 - val_masked_rmse: 0.2376\n",
            "Epoch 27/500\n",
            "38/38 [==============================] - 1s 30ms/step - loss: 0.2147 - masked_cross_entropy: 0.1836 - masked_rmse: 0.2301 - val_loss: 0.2197 - val_masked_cross_entropy: 0.1916 - val_masked_rmse: 0.2348\n",
            "Epoch 28/500\n",
            "38/38 [==============================] - 1s 28ms/step - loss: 0.2139 - masked_cross_entropy: 0.1831 - masked_rmse: 0.2296 - val_loss: 0.2233 - val_masked_cross_entropy: 0.1945 - val_masked_rmse: 0.2361\n",
            "Epoch 29/500\n",
            "38/38 [==============================] - 1s 28ms/step - loss: 0.2137 - masked_cross_entropy: 0.1828 - masked_rmse: 0.2293 - val_loss: 0.2221 - val_masked_cross_entropy: 0.1941 - val_masked_rmse: 0.2356\n",
            "Epoch 30/500\n",
            "38/38 [==============================] - 1s 28ms/step - loss: 0.2115 - masked_cross_entropy: 0.1816 - masked_rmse: 0.2287 - val_loss: 0.2204 - val_masked_cross_entropy: 0.1921 - val_masked_rmse: 0.2345\n",
            "Epoch 31/500\n",
            "38/38 [==============================] - 1s 27ms/step - loss: 0.2122 - masked_cross_entropy: 0.1820 - masked_rmse: 0.2289 - val_loss: 0.2213 - val_masked_cross_entropy: 0.1937 - val_masked_rmse: 0.2361\n",
            "Epoch 32/500\n",
            "38/38 [==============================] - 1s 32ms/step - loss: 0.2102 - masked_cross_entropy: 0.1806 - masked_rmse: 0.2281 - val_loss: 0.2189 - val_masked_cross_entropy: 0.1917 - val_masked_rmse: 0.2339\n",
            "Epoch 33/500\n",
            "38/38 [==============================] - 1s 28ms/step - loss: 0.2113 - masked_cross_entropy: 0.1809 - masked_rmse: 0.2282 - val_loss: 0.2214 - val_masked_cross_entropy: 0.1933 - val_masked_rmse: 0.2348\n",
            "Epoch 34/500\n",
            "38/38 [==============================] - 1s 28ms/step - loss: 0.2103 - masked_cross_entropy: 0.1802 - masked_rmse: 0.2278 - val_loss: 0.2206 - val_masked_cross_entropy: 0.1924 - val_masked_rmse: 0.2349\n",
            "Epoch 35/500\n",
            "38/38 [==============================] - 1s 28ms/step - loss: 0.2140 - masked_cross_entropy: 0.1822 - masked_rmse: 0.2285 - val_loss: 0.2279 - val_masked_cross_entropy: 0.1945 - val_masked_rmse: 0.2363\n",
            "Epoch 36/500\n",
            "38/38 [==============================] - 1s 28ms/step - loss: 0.2150 - masked_cross_entropy: 0.1800 - masked_rmse: 0.2270 - val_loss: 0.2251 - val_masked_cross_entropy: 0.1941 - val_masked_rmse: 0.2353\n",
            "Epoch 37/500\n",
            "38/38 [==============================] - 1s 28ms/step - loss: 0.2122 - masked_cross_entropy: 0.1796 - masked_rmse: 0.2273 - val_loss: 0.2244 - val_masked_cross_entropy: 0.1939 - val_masked_rmse: 0.2353\n",
            "Epoch 38/500\n",
            "38/38 [==============================] - 1s 27ms/step - loss: 0.2107 - masked_cross_entropy: 0.1787 - masked_rmse: 0.2267 - val_loss: 0.2207 - val_masked_cross_entropy: 0.1912 - val_masked_rmse: 0.2340\n",
            "Epoch 39/500\n",
            "38/38 [==============================] - 1s 28ms/step - loss: 0.2108 - masked_cross_entropy: 0.1785 - masked_rmse: 0.2265 - val_loss: 0.2240 - val_masked_cross_entropy: 0.1934 - val_masked_rmse: 0.2342\n",
            "Epoch 40/500\n",
            "38/38 [==============================] - 1s 28ms/step - loss: 0.2110 - masked_cross_entropy: 0.1783 - masked_rmse: 0.2263 - val_loss: 0.2223 - val_masked_cross_entropy: 0.1931 - val_masked_rmse: 0.2352\n",
            "Epoch 41/500\n",
            "38/38 [==============================] - 1s 28ms/step - loss: 0.2098 - masked_cross_entropy: 0.1778 - masked_rmse: 0.2263 - val_loss: 0.2191 - val_masked_cross_entropy: 0.1894 - val_masked_rmse: 0.2327\n",
            "Epoch 42/500\n",
            "38/38 [==============================] - 1s 28ms/step - loss: 0.2094 - masked_cross_entropy: 0.1773 - masked_rmse: 0.2258 - val_loss: 0.2217 - val_masked_cross_entropy: 0.1912 - val_masked_rmse: 0.2335\n",
            "Epoch 43/500\n",
            "38/38 [==============================] - 1s 27ms/step - loss: 0.2124 - masked_cross_entropy: 0.1785 - masked_rmse: 0.2262 - val_loss: 0.2266 - val_masked_cross_entropy: 0.1942 - val_masked_rmse: 0.2350\n",
            "Epoch 44/500\n",
            "38/38 [==============================] - 1s 28ms/step - loss: 0.2178 - masked_cross_entropy: 0.1798 - masked_rmse: 0.2262 - val_loss: 0.2254 - val_masked_cross_entropy: 0.1906 - val_masked_rmse: 0.2326\n",
            "Epoch 45/500\n",
            "38/38 [==============================] - 1s 28ms/step - loss: 0.2121 - masked_cross_entropy: 0.1771 - masked_rmse: 0.2254 - val_loss: 0.2221 - val_masked_cross_entropy: 0.1912 - val_masked_rmse: 0.2336\n",
            "Epoch 46/500\n",
            "38/38 [==============================] - 1s 28ms/step - loss: 0.2077 - masked_cross_entropy: 0.1751 - masked_rmse: 0.2247 - val_loss: 0.2202 - val_masked_cross_entropy: 0.1900 - val_masked_rmse: 0.2333\n",
            "Epoch 47/500\n",
            "38/38 [==============================] - 1s 28ms/step - loss: 0.2120 - masked_cross_entropy: 0.1772 - masked_rmse: 0.2255 - val_loss: 0.2230 - val_masked_cross_entropy: 0.1882 - val_masked_rmse: 0.2316\n",
            "Epoch 48/500\n",
            "38/38 [==============================] - 1s 27ms/step - loss: 0.2108 - masked_cross_entropy: 0.1754 - masked_rmse: 0.2244 - val_loss: 0.2215 - val_masked_cross_entropy: 0.1898 - val_masked_rmse: 0.2327\n",
            "Epoch 49/500\n",
            "38/38 [==============================] - 1s 28ms/step - loss: 0.2083 - masked_cross_entropy: 0.1747 - masked_rmse: 0.2242 - val_loss: 0.2218 - val_masked_cross_entropy: 0.1908 - val_masked_rmse: 0.2334\n",
            "Epoch 50/500\n",
            "38/38 [==============================] - 1s 27ms/step - loss: 0.2059 - masked_cross_entropy: 0.1733 - masked_rmse: 0.2236 - val_loss: 0.2220 - val_masked_cross_entropy: 0.1914 - val_masked_rmse: 0.2334\n",
            "Epoch 51/500\n",
            "38/38 [==============================] - 1s 28ms/step - loss: 0.2082 - masked_cross_entropy: 0.1748 - masked_rmse: 0.2242 - val_loss: 0.2246 - val_masked_cross_entropy: 0.1912 - val_masked_rmse: 0.2336\n",
            "Epoch 52/500\n",
            "38/38 [==============================] - 1s 28ms/step - loss: 0.2104 - masked_cross_entropy: 0.1750 - masked_rmse: 0.2242 - val_loss: 0.2221 - val_masked_cross_entropy: 0.1886 - val_masked_rmse: 0.2317\n",
            "Epoch 53/500\n",
            "38/38 [==============================] - 1s 28ms/step - loss: 0.2088 - masked_cross_entropy: 0.1739 - masked_rmse: 0.2235 - val_loss: 0.2195 - val_masked_cross_entropy: 0.1876 - val_masked_rmse: 0.2301\n",
            "Epoch 54/500\n",
            "38/38 [==============================] - 1s 28ms/step - loss: 0.2091 - masked_cross_entropy: 0.1741 - masked_rmse: 0.2235 - val_loss: 0.2245 - val_masked_cross_entropy: 0.1913 - val_masked_rmse: 0.2327\n",
            "Epoch 55/500\n",
            "38/38 [==============================] - 1s 28ms/step - loss: 0.2087 - masked_cross_entropy: 0.1735 - masked_rmse: 0.2232 - val_loss: 0.2233 - val_masked_cross_entropy: 0.1908 - val_masked_rmse: 0.2334\n",
            "Epoch 56/500\n",
            "38/38 [==============================] - 1s 28ms/step - loss: 0.2068 - masked_cross_entropy: 0.1724 - masked_rmse: 0.2229 - val_loss: 0.2219 - val_masked_cross_entropy: 0.1900 - val_masked_rmse: 0.2325\n",
            "Epoch 57/500\n",
            "38/38 [==============================] - 1s 28ms/step - loss: 0.2083 - masked_cross_entropy: 0.1736 - masked_rmse: 0.2233 - val_loss: 0.2244 - val_masked_cross_entropy: 0.1900 - val_masked_rmse: 0.2321\n",
            "Epoch 58/500\n",
            "38/38 [==============================] - 1s 28ms/step - loss: 0.2091 - masked_cross_entropy: 0.1731 - masked_rmse: 0.2228 - val_loss: 0.2225 - val_masked_cross_entropy: 0.1892 - val_masked_rmse: 0.2310\n",
            "Epoch 59/500\n",
            "38/38 [==============================] - 1s 28ms/step - loss: 0.2125 - masked_cross_entropy: 0.1736 - masked_rmse: 0.2226 - val_loss: 0.2259 - val_masked_cross_entropy: 0.1901 - val_masked_rmse: 0.2321\n",
            "Epoch 60/500\n",
            "38/38 [==============================] - 1s 27ms/step - loss: 0.2092 - masked_cross_entropy: 0.1719 - masked_rmse: 0.2223 - val_loss: 0.2203 - val_masked_cross_entropy: 0.1869 - val_masked_rmse: 0.2315\n",
            "Epoch 61/500\n",
            "38/38 [==============================] - 1s 28ms/step - loss: 0.2066 - masked_cross_entropy: 0.1715 - masked_rmse: 0.2222 - val_loss: 0.2202 - val_masked_cross_entropy: 0.1873 - val_masked_rmse: 0.2306\n",
            "Epoch 62/500\n",
            "38/38 [==============================] - 1s 29ms/step - loss: 0.2050 - masked_cross_entropy: 0.1704 - masked_rmse: 0.2216 - val_loss: 0.2218 - val_masked_cross_entropy: 0.1894 - val_masked_rmse: 0.2307\n",
            "Epoch 63/500\n",
            "38/38 [==============================] - 1s 28ms/step - loss: 0.2063 - masked_cross_entropy: 0.1707 - masked_rmse: 0.2215 - val_loss: 0.2207 - val_masked_cross_entropy: 0.1873 - val_masked_rmse: 0.2314\n",
            "Epoch 64/500\n",
            "38/38 [==============================] - 1s 28ms/step - loss: 0.2076 - masked_cross_entropy: 0.1715 - masked_rmse: 0.2217 - val_loss: 0.2223 - val_masked_cross_entropy: 0.1882 - val_masked_rmse: 0.2313\n",
            "Epoch 65/500\n",
            "38/38 [==============================] - 1s 28ms/step - loss: 0.2063 - masked_cross_entropy: 0.1703 - masked_rmse: 0.2214 - val_loss: 0.2226 - val_masked_cross_entropy: 0.1891 - val_masked_rmse: 0.2312\n",
            "Epoch 66/500\n",
            "38/38 [==============================] - 1s 31ms/step - loss: 0.2048 - masked_cross_entropy: 0.1694 - masked_rmse: 0.2209 - val_loss: 0.2187 - val_masked_cross_entropy: 0.1853 - val_masked_rmse: 0.2297\n",
            "Epoch 67/500\n",
            "38/38 [==============================] - 1s 28ms/step - loss: 0.2041 - masked_cross_entropy: 0.1689 - masked_rmse: 0.2204 - val_loss: 0.2200 - val_masked_cross_entropy: 0.1872 - val_masked_rmse: 0.2308\n",
            "Epoch 68/500\n",
            "38/38 [==============================] - 1s 28ms/step - loss: 0.2049 - masked_cross_entropy: 0.1699 - masked_rmse: 0.2210 - val_loss: 0.2226 - val_masked_cross_entropy: 0.1880 - val_masked_rmse: 0.2300\n",
            "Epoch 69/500\n",
            "38/38 [==============================] - 1s 28ms/step - loss: 0.2083 - masked_cross_entropy: 0.1709 - masked_rmse: 0.2212 - val_loss: 0.2226 - val_masked_cross_entropy: 0.1876 - val_masked_rmse: 0.2304\n",
            "Epoch 70/500\n",
            "38/38 [==============================] - 1s 27ms/step - loss: 0.2062 - masked_cross_entropy: 0.1693 - masked_rmse: 0.2206 - val_loss: 0.2236 - val_masked_cross_entropy: 0.1884 - val_masked_rmse: 0.2312\n",
            "Epoch 71/500\n",
            "38/38 [==============================] - 1s 28ms/step - loss: 0.2061 - masked_cross_entropy: 0.1690 - masked_rmse: 0.2200 - val_loss: 0.2198 - val_masked_cross_entropy: 0.1846 - val_masked_rmse: 0.2290\n",
            "Epoch 72/500\n",
            "38/38 [==============================] - 1s 28ms/step - loss: 0.2068 - masked_cross_entropy: 0.1691 - masked_rmse: 0.2203 - val_loss: 0.2200 - val_masked_cross_entropy: 0.1856 - val_masked_rmse: 0.2296\n",
            "Epoch 73/500\n",
            "38/38 [==============================] - 1s 28ms/step - loss: 0.2044 - masked_cross_entropy: 0.1679 - masked_rmse: 0.2198 - val_loss: 0.2226 - val_masked_cross_entropy: 0.1870 - val_masked_rmse: 0.2298\n",
            "Epoch 74/500\n",
            "38/38 [==============================] - 1s 29ms/step - loss: 0.2072 - masked_cross_entropy: 0.1690 - masked_rmse: 0.2199 - val_loss: 0.2216 - val_masked_cross_entropy: 0.1863 - val_masked_rmse: 0.2300\n",
            "Epoch 75/500\n",
            "38/38 [==============================] - 1s 28ms/step - loss: 0.2045 - masked_cross_entropy: 0.1673 - masked_rmse: 0.2193 - val_loss: 0.2217 - val_masked_cross_entropy: 0.1871 - val_masked_rmse: 0.2303\n",
            "Epoch 76/500\n",
            "38/38 [==============================] - 1s 31ms/step - loss: 0.2034 - masked_cross_entropy: 0.1667 - masked_rmse: 0.2189 - val_loss: 0.2173 - val_masked_cross_entropy: 0.1829 - val_masked_rmse: 0.2278\n",
            "Epoch 77/500\n",
            "38/38 [==============================] - 1s 28ms/step - loss: 0.2049 - masked_cross_entropy: 0.1678 - masked_rmse: 0.2196 - val_loss: 0.2181 - val_masked_cross_entropy: 0.1829 - val_masked_rmse: 0.2272\n",
            "Epoch 78/500\n",
            "38/38 [==============================] - 1s 28ms/step - loss: 0.2035 - masked_cross_entropy: 0.1666 - masked_rmse: 0.2190 - val_loss: 0.2200 - val_masked_cross_entropy: 0.1847 - val_masked_rmse: 0.2281\n",
            "Epoch 79/500\n",
            "38/38 [==============================] - 1s 29ms/step - loss: 0.2050 - masked_cross_entropy: 0.1668 - masked_rmse: 0.2188 - val_loss: 0.2216 - val_masked_cross_entropy: 0.1856 - val_masked_rmse: 0.2288\n",
            "Epoch 80/500\n",
            "38/38 [==============================] - 1s 27ms/step - loss: 0.2042 - masked_cross_entropy: 0.1667 - masked_rmse: 0.2190 - val_loss: 0.2180 - val_masked_cross_entropy: 0.1830 - val_masked_rmse: 0.2279\n",
            "Epoch 81/500\n",
            "38/38 [==============================] - 1s 28ms/step - loss: 0.2034 - masked_cross_entropy: 0.1661 - masked_rmse: 0.2184 - val_loss: 0.2204 - val_masked_cross_entropy: 0.1853 - val_masked_rmse: 0.2293\n",
            "Epoch 82/500\n",
            "38/38 [==============================] - 1s 28ms/step - loss: 0.2070 - masked_cross_entropy: 0.1673 - masked_rmse: 0.2185 - val_loss: 0.2216 - val_masked_cross_entropy: 0.1847 - val_masked_rmse: 0.2275\n",
            "Epoch 83/500\n",
            "38/38 [==============================] - 1s 28ms/step - loss: 0.2038 - masked_cross_entropy: 0.1656 - masked_rmse: 0.2183 - val_loss: 0.2232 - val_masked_cross_entropy: 0.1878 - val_masked_rmse: 0.2310\n",
            "Epoch 84/500\n",
            "38/38 [==============================] - 1s 28ms/step - loss: 0.2024 - masked_cross_entropy: 0.1651 - masked_rmse: 0.2179 - val_loss: 0.2197 - val_masked_cross_entropy: 0.1848 - val_masked_rmse: 0.2294\n",
            "Epoch 85/500\n",
            "38/38 [==============================] - 1s 28ms/step - loss: 0.2022 - masked_cross_entropy: 0.1651 - masked_rmse: 0.2182 - val_loss: 0.2185 - val_masked_cross_entropy: 0.1832 - val_masked_rmse: 0.2281\n",
            "Epoch 86/500\n",
            "38/38 [==============================] - 1s 27ms/step - loss: 0.2037 - masked_cross_entropy: 0.1656 - masked_rmse: 0.2182 - val_loss: 0.2303 - val_masked_cross_entropy: 0.1930 - val_masked_rmse: 0.2313\n",
            "Epoch 87/500\n",
            "38/38 [==============================] - 1s 27ms/step - loss: 0.2089 - masked_cross_entropy: 0.1670 - masked_rmse: 0.2183 - val_loss: 0.2266 - val_masked_cross_entropy: 0.1870 - val_masked_rmse: 0.2294\n",
            "Epoch 88/500\n",
            "38/38 [==============================] - 1s 28ms/step - loss: 0.2050 - masked_cross_entropy: 0.1651 - masked_rmse: 0.2178 - val_loss: 0.2231 - val_masked_cross_entropy: 0.1862 - val_masked_rmse: 0.2295\n",
            "Epoch 89/500\n",
            "38/38 [==============================] - 1s 28ms/step - loss: 0.2028 - masked_cross_entropy: 0.1641 - masked_rmse: 0.2172 - val_loss: 0.2200 - val_masked_cross_entropy: 0.1839 - val_masked_rmse: 0.2283\n",
            "Epoch 90/500\n",
            "38/38 [==============================] - 1s 27ms/step - loss: 0.2018 - masked_cross_entropy: 0.1637 - masked_rmse: 0.2172 - val_loss: 0.2193 - val_masked_cross_entropy: 0.1835 - val_masked_rmse: 0.2275\n",
            "Epoch 91/500\n",
            "38/38 [==============================] - 1s 28ms/step - loss: 0.2017 - masked_cross_entropy: 0.1638 - masked_rmse: 0.2172 - val_loss: 0.2207 - val_masked_cross_entropy: 0.1844 - val_masked_rmse: 0.2276\n",
            "Epoch 92/500\n",
            "38/38 [==============================] - 1s 27ms/step - loss: 0.2039 - masked_cross_entropy: 0.1643 - masked_rmse: 0.2171 - val_loss: 0.2228 - val_masked_cross_entropy: 0.1850 - val_masked_rmse: 0.2287\n",
            "Epoch 93/500\n",
            "38/38 [==============================] - 1s 28ms/step - loss: 0.2018 - masked_cross_entropy: 0.1628 - masked_rmse: 0.2162 - val_loss: 0.2186 - val_masked_cross_entropy: 0.1820 - val_masked_rmse: 0.2269\n",
            "Epoch 94/500\n",
            "38/38 [==============================] - 1s 27ms/step - loss: 0.2029 - masked_cross_entropy: 0.1632 - masked_rmse: 0.2164 - val_loss: 0.2232 - val_masked_cross_entropy: 0.1850 - val_masked_rmse: 0.2281\n",
            "Epoch 95/500\n",
            "38/38 [==============================] - 1s 30ms/step - loss: 0.2027 - masked_cross_entropy: 0.1629 - masked_rmse: 0.2162 - val_loss: 0.2172 - val_masked_cross_entropy: 0.1803 - val_masked_rmse: 0.2256\n",
            "Epoch 96/500\n",
            "38/38 [==============================] - 1s 29ms/step - loss: 0.2015 - masked_cross_entropy: 0.1627 - masked_rmse: 0.2163 - val_loss: 0.2203 - val_masked_cross_entropy: 0.1832 - val_masked_rmse: 0.2267\n",
            "Epoch 97/500\n",
            "38/38 [==============================] - 1s 29ms/step - loss: 0.2015 - masked_cross_entropy: 0.1624 - masked_rmse: 0.2161 - val_loss: 0.2234 - val_masked_cross_entropy: 0.1868 - val_masked_rmse: 0.2299\n",
            "Epoch 98/500\n",
            "38/38 [==============================] - 1s 29ms/step - loss: 0.2021 - masked_cross_entropy: 0.1626 - masked_rmse: 0.2163 - val_loss: 0.2206 - val_masked_cross_entropy: 0.1834 - val_masked_rmse: 0.2278\n",
            "Epoch 99/500\n",
            "38/38 [==============================] - 1s 30ms/step - loss: 0.2006 - masked_cross_entropy: 0.1616 - masked_rmse: 0.2160 - val_loss: 0.2200 - val_masked_cross_entropy: 0.1832 - val_masked_rmse: 0.2276\n",
            "Epoch 100/500\n",
            "38/38 [==============================] - 1s 30ms/step - loss: 0.2002 - masked_cross_entropy: 0.1610 - masked_rmse: 0.2151 - val_loss: 0.2183 - val_masked_cross_entropy: 0.1815 - val_masked_rmse: 0.2264\n",
            "Epoch 101/500\n",
            "38/38 [==============================] - 1s 29ms/step - loss: 0.2013 - masked_cross_entropy: 0.1622 - masked_rmse: 0.2157 - val_loss: 0.2239 - val_masked_cross_entropy: 0.1860 - val_masked_rmse: 0.2279\n",
            "Epoch 102/500\n",
            "38/38 [==============================] - 1s 28ms/step - loss: 0.2041 - masked_cross_entropy: 0.1624 - masked_rmse: 0.2154 - val_loss: 0.2225 - val_masked_cross_entropy: 0.1836 - val_masked_rmse: 0.2279\n",
            "Epoch 103/500\n",
            "38/38 [==============================] - 1s 28ms/step - loss: 0.2020 - masked_cross_entropy: 0.1618 - masked_rmse: 0.2156 - val_loss: 0.2177 - val_masked_cross_entropy: 0.1796 - val_masked_rmse: 0.2238\n",
            "Epoch 104/500\n",
            "38/38 [==============================] - 1s 29ms/step - loss: 0.2004 - masked_cross_entropy: 0.1608 - masked_rmse: 0.2152 - val_loss: 0.2242 - val_masked_cross_entropy: 0.1861 - val_masked_rmse: 0.2290\n",
            "Epoch 105/500\n",
            "38/38 [==============================] - 1s 29ms/step - loss: 0.2047 - masked_cross_entropy: 0.1634 - masked_rmse: 0.2160 - val_loss: 0.2281 - val_masked_cross_entropy: 0.1856 - val_masked_rmse: 0.2271\n",
            "Epoch 106/500\n",
            "38/38 [==============================] - 1s 28ms/step - loss: 0.2053 - masked_cross_entropy: 0.1614 - masked_rmse: 0.2152 - val_loss: 0.2214 - val_masked_cross_entropy: 0.1813 - val_masked_rmse: 0.2248\n",
            "Epoch 107/500\n",
            "38/38 [==============================] - 1s 27ms/step - loss: 0.2017 - masked_cross_entropy: 0.1605 - masked_rmse: 0.2149 - val_loss: 0.2176 - val_masked_cross_entropy: 0.1794 - val_masked_rmse: 0.2246\n",
            "Epoch 108/500\n",
            "38/38 [==============================] - 1s 28ms/step - loss: 0.2003 - masked_cross_entropy: 0.1601 - masked_rmse: 0.2143 - val_loss: 0.2249 - val_masked_cross_entropy: 0.1859 - val_masked_rmse: 0.2271\n",
            "Epoch 109/500\n",
            "38/38 [==============================] - 1s 28ms/step - loss: 0.2025 - masked_cross_entropy: 0.1608 - masked_rmse: 0.2147 - val_loss: 0.2245 - val_masked_cross_entropy: 0.1847 - val_masked_rmse: 0.2277\n",
            "Epoch 110/500\n",
            "38/38 [==============================] - 1s 27ms/step - loss: 0.2017 - masked_cross_entropy: 0.1604 - masked_rmse: 0.2147 - val_loss: 0.2224 - val_masked_cross_entropy: 0.1828 - val_masked_rmse: 0.2271\n",
            "Epoch 111/500\n",
            "38/38 [==============================] - 1s 27ms/step - loss: 0.2023 - masked_cross_entropy: 0.1603 - masked_rmse: 0.2141 - val_loss: 0.2203 - val_masked_cross_entropy: 0.1806 - val_masked_rmse: 0.2256\n",
            "Epoch 112/500\n",
            "38/38 [==============================] - 1s 27ms/step - loss: 0.2009 - masked_cross_entropy: 0.1597 - masked_rmse: 0.2144 - val_loss: 0.2213 - val_masked_cross_entropy: 0.1827 - val_masked_rmse: 0.2265\n",
            "Epoch 113/500\n",
            "38/38 [==============================] - 1s 27ms/step - loss: 0.1992 - masked_cross_entropy: 0.1588 - masked_rmse: 0.2137 - val_loss: 0.2222 - val_masked_cross_entropy: 0.1842 - val_masked_rmse: 0.2279\n",
            "Epoch 114/500\n",
            "38/38 [==============================] - 1s 27ms/step - loss: 0.1986 - masked_cross_entropy: 0.1585 - masked_rmse: 0.2138 - val_loss: 0.2178 - val_masked_cross_entropy: 0.1798 - val_masked_rmse: 0.2249\n",
            "Epoch 115/500\n",
            "38/38 [==============================] - 1s 27ms/step - loss: 0.1987 - masked_cross_entropy: 0.1587 - masked_rmse: 0.2138 - val_loss: 0.2217 - val_masked_cross_entropy: 0.1829 - val_masked_rmse: 0.2251\n",
            "Epoch 116/500\n",
            "38/38 [==============================] - 1s 28ms/step - loss: 0.2010 - masked_cross_entropy: 0.1596 - masked_rmse: 0.2141 - val_loss: 0.2224 - val_masked_cross_entropy: 0.1830 - val_masked_rmse: 0.2265\n",
            "Epoch 117/500\n",
            "38/38 [==============================] - 1s 28ms/step - loss: 0.2005 - masked_cross_entropy: 0.1593 - masked_rmse: 0.2139 - val_loss: 0.2198 - val_masked_cross_entropy: 0.1809 - val_masked_rmse: 0.2258\n",
            "Epoch 118/500\n",
            "38/38 [==============================] - 1s 28ms/step - loss: 0.2038 - masked_cross_entropy: 0.1604 - masked_rmse: 0.2142 - val_loss: 0.2240 - val_masked_cross_entropy: 0.1824 - val_masked_rmse: 0.2251\n",
            "Epoch 119/500\n",
            "38/38 [==============================] - 1s 29ms/step - loss: 0.2019 - masked_cross_entropy: 0.1592 - masked_rmse: 0.2134 - val_loss: 0.2243 - val_masked_cross_entropy: 0.1839 - val_masked_rmse: 0.2264\n",
            "Epoch 120/500\n",
            "38/38 [==============================] - 1s 28ms/step - loss: 0.2014 - masked_cross_entropy: 0.1587 - masked_rmse: 0.2132 - val_loss: 0.2208 - val_masked_cross_entropy: 0.1806 - val_masked_rmse: 0.2250\n",
            "Epoch 121/500\n",
            "38/38 [==============================] - 1s 28ms/step - loss: 0.1992 - masked_cross_entropy: 0.1575 - masked_rmse: 0.2129 - val_loss: 0.2185 - val_masked_cross_entropy: 0.1791 - val_masked_rmse: 0.2237\n",
            "Epoch 122/500\n",
            "38/38 [==============================] - 1s 28ms/step - loss: 0.1987 - masked_cross_entropy: 0.1574 - masked_rmse: 0.2127 - val_loss: 0.2202 - val_masked_cross_entropy: 0.1810 - val_masked_rmse: 0.2264\n",
            "Epoch 123/500\n",
            "38/38 [==============================] - 1s 28ms/step - loss: 0.1995 - masked_cross_entropy: 0.1580 - masked_rmse: 0.2131 - val_loss: 0.2227 - val_masked_cross_entropy: 0.1827 - val_masked_rmse: 0.2248\n",
            "Epoch 124/500\n",
            "38/38 [==============================] - 1s 28ms/step - loss: 0.1996 - masked_cross_entropy: 0.1577 - masked_rmse: 0.2128 - val_loss: 0.2232 - val_masked_cross_entropy: 0.1835 - val_masked_rmse: 0.2271\n",
            "Epoch 125/500\n",
            "38/38 [==============================] - 1s 28ms/step - loss: 0.1989 - masked_cross_entropy: 0.1572 - masked_rmse: 0.2125 - val_loss: 0.2213 - val_masked_cross_entropy: 0.1802 - val_masked_rmse: 0.2242\n",
            "Epoch 126/500\n",
            "38/38 [==============================] - 1s 28ms/step - loss: 0.2017 - masked_cross_entropy: 0.1580 - masked_rmse: 0.2127 - val_loss: 0.2218 - val_masked_cross_entropy: 0.1811 - val_masked_rmse: 0.2248\n",
            "Epoch 127/500\n",
            "38/38 [==============================] - 1s 27ms/step - loss: 0.2011 - masked_cross_entropy: 0.1573 - masked_rmse: 0.2122 - val_loss: 0.2240 - val_masked_cross_entropy: 0.1816 - val_masked_rmse: 0.2250\n",
            "Epoch 128/500\n",
            "38/38 [==============================] - 1s 28ms/step - loss: 0.2005 - masked_cross_entropy: 0.1571 - masked_rmse: 0.2121 - val_loss: 0.2241 - val_masked_cross_entropy: 0.1831 - val_masked_rmse: 0.2257\n",
            "Epoch 129/500\n",
            "38/38 [==============================] - 1s 28ms/step - loss: 0.1987 - masked_cross_entropy: 0.1559 - masked_rmse: 0.2116 - val_loss: 0.2192 - val_masked_cross_entropy: 0.1790 - val_masked_rmse: 0.2241\n",
            "Epoch 130/500\n",
            "38/38 [==============================] - 1s 31ms/step - loss: 0.1983 - masked_cross_entropy: 0.1563 - masked_rmse: 0.2121 - val_loss: 0.2170 - val_masked_cross_entropy: 0.1770 - val_masked_rmse: 0.2222\n",
            "Epoch 131/500\n",
            "38/38 [==============================] - 1s 28ms/step - loss: 0.1995 - masked_cross_entropy: 0.1566 - masked_rmse: 0.2122 - val_loss: 0.2210 - val_masked_cross_entropy: 0.1800 - val_masked_rmse: 0.2250\n",
            "Epoch 132/500\n",
            "38/38 [==============================] - 1s 29ms/step - loss: 0.1988 - masked_cross_entropy: 0.1561 - masked_rmse: 0.2118 - val_loss: 0.2218 - val_masked_cross_entropy: 0.1809 - val_masked_rmse: 0.2239\n",
            "Epoch 133/500\n",
            "38/38 [==============================] - 1s 27ms/step - loss: 0.1995 - masked_cross_entropy: 0.1561 - masked_rmse: 0.2116 - val_loss: 0.2203 - val_masked_cross_entropy: 0.1794 - val_masked_rmse: 0.2234\n",
            "Epoch 134/500\n",
            "38/38 [==============================] - 1s 27ms/step - loss: 0.1990 - masked_cross_entropy: 0.1557 - masked_rmse: 0.2113 - val_loss: 0.2241 - val_masked_cross_entropy: 0.1829 - val_masked_rmse: 0.2259\n",
            "Epoch 135/500\n",
            "38/38 [==============================] - 1s 28ms/step - loss: 0.1978 - masked_cross_entropy: 0.1548 - masked_rmse: 0.2110 - val_loss: 0.2213 - val_masked_cross_entropy: 0.1805 - val_masked_rmse: 0.2240\n",
            "Epoch 136/500\n",
            "38/38 [==============================] - 1s 28ms/step - loss: 0.1982 - masked_cross_entropy: 0.1555 - masked_rmse: 0.2113 - val_loss: 0.2206 - val_masked_cross_entropy: 0.1793 - val_masked_rmse: 0.2235\n",
            "Epoch 137/500\n",
            "38/38 [==============================] - 1s 27ms/step - loss: 0.1984 - masked_cross_entropy: 0.1553 - masked_rmse: 0.2112 - val_loss: 0.2212 - val_masked_cross_entropy: 0.1802 - val_masked_rmse: 0.2245\n",
            "Epoch 138/500\n",
            "38/38 [==============================] - 1s 28ms/step - loss: 0.2005 - masked_cross_entropy: 0.1565 - masked_rmse: 0.2108 - val_loss: 0.2193 - val_masked_cross_entropy: 0.1783 - val_masked_rmse: 0.2237\n",
            "Epoch 139/500\n",
            "38/38 [==============================] - 1s 27ms/step - loss: 0.1986 - masked_cross_entropy: 0.1551 - masked_rmse: 0.2110 - val_loss: 0.2209 - val_masked_cross_entropy: 0.1791 - val_masked_rmse: 0.2239\n",
            "Epoch 140/500\n",
            "38/38 [==============================] - 1s 27ms/step - loss: 0.1991 - masked_cross_entropy: 0.1549 - masked_rmse: 0.2106 - val_loss: 0.2231 - val_masked_cross_entropy: 0.1804 - val_masked_rmse: 0.2244\n",
            "Epoch 141/500\n",
            "38/38 [==============================] - 1s 28ms/step - loss: 0.1981 - masked_cross_entropy: 0.1543 - masked_rmse: 0.2103 - val_loss: 0.2213 - val_masked_cross_entropy: 0.1798 - val_masked_rmse: 0.2240\n",
            "Epoch 142/500\n",
            "38/38 [==============================] - 1s 27ms/step - loss: 0.1973 - masked_cross_entropy: 0.1537 - masked_rmse: 0.2101 - val_loss: 0.2204 - val_masked_cross_entropy: 0.1793 - val_masked_rmse: 0.2236\n",
            "Epoch 143/500\n",
            "38/38 [==============================] - 1s 27ms/step - loss: 0.1973 - masked_cross_entropy: 0.1542 - masked_rmse: 0.2105 - val_loss: 0.2240 - val_masked_cross_entropy: 0.1827 - val_masked_rmse: 0.2254\n",
            "Epoch 144/500\n",
            "38/38 [==============================] - 1s 28ms/step - loss: 0.1967 - masked_cross_entropy: 0.1535 - masked_rmse: 0.2100 - val_loss: 0.2235 - val_masked_cross_entropy: 0.1818 - val_masked_rmse: 0.2249\n",
            "Epoch 145/500\n",
            "38/38 [==============================] - 1s 27ms/step - loss: 0.1979 - masked_cross_entropy: 0.1536 - masked_rmse: 0.2095 - val_loss: 0.2186 - val_masked_cross_entropy: 0.1765 - val_masked_rmse: 0.2220\n",
            "Epoch 146/500\n",
            "38/38 [==============================] - 1s 28ms/step - loss: 0.1975 - masked_cross_entropy: 0.1536 - masked_rmse: 0.2100 - val_loss: 0.2207 - val_masked_cross_entropy: 0.1782 - val_masked_rmse: 0.2235\n",
            "Epoch 147/500\n",
            "38/38 [==============================] - 1s 28ms/step - loss: 0.1981 - masked_cross_entropy: 0.1538 - masked_rmse: 0.2103 - val_loss: 0.2214 - val_masked_cross_entropy: 0.1793 - val_masked_rmse: 0.2242\n",
            "Epoch 148/500\n",
            "38/38 [==============================] - 1s 28ms/step - loss: 0.2010 - masked_cross_entropy: 0.1551 - masked_rmse: 0.2105 - val_loss: 0.2225 - val_masked_cross_entropy: 0.1786 - val_masked_rmse: 0.2233\n",
            "Epoch 149/500\n",
            "38/38 [==============================] - 1s 28ms/step - loss: 0.1996 - masked_cross_entropy: 0.1542 - masked_rmse: 0.2101 - val_loss: 0.2208 - val_masked_cross_entropy: 0.1781 - val_masked_rmse: 0.2241\n",
            "Epoch 150/500\n",
            "38/38 [==============================] - 1s 28ms/step - loss: 0.1976 - masked_cross_entropy: 0.1529 - masked_rmse: 0.2095 - val_loss: 0.2201 - val_masked_cross_entropy: 0.1778 - val_masked_rmse: 0.2225\n",
            "Epoch 151/500\n",
            "38/38 [==============================] - 1s 28ms/step - loss: 0.1977 - masked_cross_entropy: 0.1531 - masked_rmse: 0.2094 - val_loss: 0.2224 - val_masked_cross_entropy: 0.1795 - val_masked_rmse: 0.2237\n",
            "Epoch 152/500\n",
            "38/38 [==============================] - 1s 28ms/step - loss: 0.1987 - masked_cross_entropy: 0.1535 - masked_rmse: 0.2098 - val_loss: 0.2197 - val_masked_cross_entropy: 0.1759 - val_masked_rmse: 0.2217\n",
            "Epoch 153/500\n",
            "38/38 [==============================] - 1s 27ms/step - loss: 0.1970 - masked_cross_entropy: 0.1519 - masked_rmse: 0.2088 - val_loss: 0.2215 - val_masked_cross_entropy: 0.1790 - val_masked_rmse: 0.2242\n",
            "Epoch 154/500\n",
            "38/38 [==============================] - 1s 28ms/step - loss: 0.1968 - masked_cross_entropy: 0.1524 - masked_rmse: 0.2095 - val_loss: 0.2230 - val_masked_cross_entropy: 0.1802 - val_masked_rmse: 0.2238\n",
            "Epoch 155/500\n",
            "38/38 [==============================] - 1s 28ms/step - loss: 0.1962 - masked_cross_entropy: 0.1516 - masked_rmse: 0.2086 - val_loss: 0.2212 - val_masked_cross_entropy: 0.1782 - val_masked_rmse: 0.2235\n",
            "Epoch 156/500\n",
            "38/38 [==============================] - 1s 28ms/step - loss: 0.1963 - masked_cross_entropy: 0.1516 - masked_rmse: 0.2087 - val_loss: 0.2189 - val_masked_cross_entropy: 0.1765 - val_masked_rmse: 0.2223\n",
            "Epoch 157/500\n",
            "38/38 [==============================] - 1s 27ms/step - loss: 0.1963 - masked_cross_entropy: 0.1521 - masked_rmse: 0.2090 - val_loss: 0.2177 - val_masked_cross_entropy: 0.1754 - val_masked_rmse: 0.2207\n",
            "Epoch 158/500\n",
            "38/38 [==============================] - 1s 28ms/step - loss: 0.1965 - masked_cross_entropy: 0.1520 - masked_rmse: 0.2090 - val_loss: 0.2219 - val_masked_cross_entropy: 0.1790 - val_masked_rmse: 0.2237\n",
            "Epoch 159/500\n",
            "38/38 [==============================] - 1s 27ms/step - loss: 0.1976 - masked_cross_entropy: 0.1520 - masked_rmse: 0.2086 - val_loss: 0.2254 - val_masked_cross_entropy: 0.1810 - val_masked_rmse: 0.2239\n",
            "Epoch 160/500\n",
            "38/38 [==============================] - 1s 28ms/step - loss: 0.1995 - masked_cross_entropy: 0.1529 - masked_rmse: 0.2091 - val_loss: 0.2219 - val_masked_cross_entropy: 0.1766 - val_masked_rmse: 0.2221\n",
            "Epoch 161/500\n",
            "38/38 [==============================] - 1s 27ms/step - loss: 0.1978 - masked_cross_entropy: 0.1511 - masked_rmse: 0.2077 - val_loss: 0.2213 - val_masked_cross_entropy: 0.1778 - val_masked_rmse: 0.2227\n",
            "Epoch 162/500\n",
            "38/38 [==============================] - 1s 28ms/step - loss: 0.1964 - masked_cross_entropy: 0.1511 - masked_rmse: 0.2084 - val_loss: 0.2210 - val_masked_cross_entropy: 0.1776 - val_masked_rmse: 0.2224\n",
            "Epoch 163/500\n",
            "38/38 [==============================] - 1s 27ms/step - loss: 0.1960 - masked_cross_entropy: 0.1506 - masked_rmse: 0.2080 - val_loss: 0.2195 - val_masked_cross_entropy: 0.1759 - val_masked_rmse: 0.2209\n",
            "Epoch 164/500\n",
            "38/38 [==============================] - 1s 28ms/step - loss: 0.1967 - masked_cross_entropy: 0.1512 - masked_rmse: 0.2082 - val_loss: 0.2182 - val_masked_cross_entropy: 0.1752 - val_masked_rmse: 0.2218\n",
            "Epoch 165/500\n",
            "38/38 [==============================] - 1s 28ms/step - loss: 0.1952 - masked_cross_entropy: 0.1498 - masked_rmse: 0.2075 - val_loss: 0.2226 - val_masked_cross_entropy: 0.1792 - val_masked_rmse: 0.2226\n",
            "Epoch 166/500\n",
            "38/38 [==============================] - 1s 28ms/step - loss: 0.1974 - masked_cross_entropy: 0.1512 - masked_rmse: 0.2081 - val_loss: 0.2220 - val_masked_cross_entropy: 0.1766 - val_masked_rmse: 0.2222\n",
            "Epoch 167/500\n",
            "38/38 [==============================] - 1s 27ms/step - loss: 0.1985 - masked_cross_entropy: 0.1513 - masked_rmse: 0.2080 - val_loss: 0.2208 - val_masked_cross_entropy: 0.1767 - val_masked_rmse: 0.2221\n",
            "Epoch 168/500\n",
            "38/38 [==============================] - 1s 28ms/step - loss: 0.1950 - masked_cross_entropy: 0.1492 - masked_rmse: 0.2067 - val_loss: 0.2214 - val_masked_cross_entropy: 0.1778 - val_masked_rmse: 0.2218\n",
            "Epoch 169/500\n",
            "38/38 [==============================] - 1s 28ms/step - loss: 0.1955 - masked_cross_entropy: 0.1497 - masked_rmse: 0.2073 - val_loss: 0.2239 - val_masked_cross_entropy: 0.1802 - val_masked_rmse: 0.2240\n",
            "Epoch 170/500\n",
            "38/38 [==============================] - 1s 28ms/step - loss: 0.1951 - masked_cross_entropy: 0.1495 - masked_rmse: 0.2071 - val_loss: 0.2198 - val_masked_cross_entropy: 0.1761 - val_masked_rmse: 0.2219\n",
            "Epoch 171/500\n",
            "38/38 [==============================] - 1s 28ms/step - loss: 0.1954 - masked_cross_entropy: 0.1496 - masked_rmse: 0.2071 - val_loss: 0.2220 - val_masked_cross_entropy: 0.1780 - val_masked_rmse: 0.2227\n",
            "Epoch 172/500\n",
            "38/38 [==============================] - 1s 28ms/step - loss: 0.1981 - masked_cross_entropy: 0.1509 - masked_rmse: 0.2076 - val_loss: 0.2257 - val_masked_cross_entropy: 0.1791 - val_masked_rmse: 0.2221\n",
            "Epoch 173/500\n",
            "38/38 [==============================] - 1s 28ms/step - loss: 0.1977 - masked_cross_entropy: 0.1501 - masked_rmse: 0.2072 - val_loss: 0.2194 - val_masked_cross_entropy: 0.1743 - val_masked_rmse: 0.2200\n",
            "Epoch 174/500\n",
            "38/38 [==============================] - 1s 28ms/step - loss: 0.1960 - masked_cross_entropy: 0.1495 - masked_rmse: 0.2071 - val_loss: 0.2237 - val_masked_cross_entropy: 0.1793 - val_masked_rmse: 0.2232\n",
            "Epoch 175/500\n",
            "38/38 [==============================] - 1s 27ms/step - loss: 0.1959 - masked_cross_entropy: 0.1496 - masked_rmse: 0.2071 - val_loss: 0.2227 - val_masked_cross_entropy: 0.1782 - val_masked_rmse: 0.2216\n",
            "Epoch 176/500\n",
            "38/38 [==============================] - 1s 28ms/step - loss: 0.1964 - masked_cross_entropy: 0.1493 - masked_rmse: 0.2067 - val_loss: 0.2226 - val_masked_cross_entropy: 0.1772 - val_masked_rmse: 0.2231\n",
            "Epoch 177/500\n",
            "38/38 [==============================] - 1s 27ms/step - loss: 0.1979 - masked_cross_entropy: 0.1499 - masked_rmse: 0.2070 - val_loss: 0.2221 - val_masked_cross_entropy: 0.1754 - val_masked_rmse: 0.2201\n",
            "Epoch 178/500\n",
            "38/38 [==============================] - 1s 28ms/step - loss: 0.1968 - masked_cross_entropy: 0.1491 - masked_rmse: 0.2065 - val_loss: 0.2218 - val_masked_cross_entropy: 0.1772 - val_masked_rmse: 0.2224\n",
            "Epoch 179/500\n",
            "38/38 [==============================] - 1s 28ms/step - loss: 0.1946 - masked_cross_entropy: 0.1482 - masked_rmse: 0.2064 - val_loss: 0.2221 - val_masked_cross_entropy: 0.1776 - val_masked_rmse: 0.2221\n",
            "Epoch 180/500\n",
            "38/38 [==============================] - 1s 28ms/step - loss: 0.1937 - masked_cross_entropy: 0.1477 - masked_rmse: 0.2060 - val_loss: 0.2220 - val_masked_cross_entropy: 0.1779 - val_masked_rmse: 0.2221\n",
            "Epoch 00180: early stopping\n",
            "CPU times: user 3min 45s, sys: 13.1 s, total: 3min 58s\n",
            "Wall time: 3min 22s\n"
          ],
          "name": "stdout"
        }
      ]
    },
    {
      "cell_type": "code",
      "metadata": {
        "id": "25rNsyqNr1qi",
        "outputId": "53e84ce1-f6ad-4f8e-893a-8d86110417e6",
        "colab": {
          "base_uri": "https://localhost:8080/",
          "height": 300
        }
      },
      "source": [
        "show_history(hist, 'loss', 'masked_cross_entropy')"
      ],
      "execution_count": 75,
      "outputs": [
        {
          "output_type": "display_data",
          "data": {
            "image/png": "[encoded data removed]",
            "text/plain": [
              "<Figure size 864x288 with 2 Axes>"
            ]
          },
          "metadata": {
            "tags": [],
            "needs_background": "light"
          }
        }
      ]
    },
    {
      "cell_type": "code",
      "metadata": {
        "id": "DxDlcnTbkAvd"
      },
      "source": [
        "def ndcg(gt, rec):\n",
        "    dcg, idcg = 0.0, 0.0\n",
        "    for i, r in enumerate(rec):\n",
        "        idcg += 1.0 / np.log(i + 2)\n",
        "        if r in gt:\n",
        "            dcg += 1.0 / np.log(i + 2)\n",
        "    return dcg / idcg\n",
        "\n",
        "def recall(gt, rec):\n",
        "    res = [r for r in rec if r in gt]\n",
        "    return len(res) / len(gt)\n",
        "\n",
        "def precision(gt, rec):\n",
        "    res = [r for r in rec if r in gt]\n",
        "    return len(res) / len(rec)\n",
        "\n",
        "def precision_k(gt, rec, k):\n",
        "    rec_k = rec[:k+1]\n",
        "    res = [r for r in rec_k if r in gt]\n",
        "    return len(res) / k\n",
        "\n",
        "def AP_k(gt, rec, k = 20):\n",
        "    res = 0\n",
        "    for i in range(k):\n",
        "        if rec[i] in gt:\n",
        "            res += precision_k(gt, rec, i+1)\n",
        "    return res / min(k, len(gt))"
      ],
      "execution_count": 76,
      "outputs": []
    },
    {
      "cell_type": "code",
      "metadata": {
        "id": "S1D4m0ZRwo4K",
        "outputId": "01bc5b89-2218-41b9-8a3c-8c605c2bc4de",
        "colab": {
          "base_uri": "https://localhost:8080/",
          "height": 143
        }
      },
      "source": [
        "pred = make_predictor(test_q, model, n_item, batch_size)\n",
        "pred"
      ],
      "execution_count": 77,
      "outputs": [
        {
          "output_type": "execute_result",
          "data": {
            "text/plain": [
              "array([[ 531,    4,  109, ...,    0, 2064, 1879],\n",
              "       [  84,  547,  273, ...,  711, 1651,  741],\n",
              "       [ 726,  797,    9, ...,  159, 2041,   23],\n",
              "       ...,\n",
              "       [   4,   17,   44, ..., 1407,  656, 1115],\n",
              "       [ 151,  895,  217, ...,  521,  903,  788],\n",
              "       [ 743, 1531,  726, ...,   77,  600,  755]])"
            ]
          },
          "metadata": {
            "tags": []
          },
          "execution_count": 77
        }
      ]
    },
    {
      "cell_type": "code",
      "metadata": {
        "id": "EkuZfKLWmveg"
      },
      "source": [
        "m_ndcg = 0\n",
        "m_recall = 0\n",
        "m_precision = 0\n",
        "map_k = 0\n",
        "for i in range(len(pred)):\n",
        "    rec = pred[i]\n",
        "    gt = test_a.at[i, 'movieId']\n",
        "    m_ndcg += ndcg(gt, rec)\n",
        "    m_recall += recall(gt, rec)\n",
        "    m_precision += precision(gt, rec)\n",
        "    map_k += AP_k(gt, rec)\n",
        "m_ndcg /= len(pred)\n",
        "m_recall /= len(pred)\n",
        "m_precision /= len(pred)\n",
        "map_k /= len(pred)"
      ],
      "execution_count": 78,
      "outputs": []
    },
    {
      "cell_type": "code",
      "metadata": {
        "id": "RhE2AtXxjBmw",
        "outputId": "5aa368b9-06ed-479b-cd24-739f582cc895",
        "colab": {
          "base_uri": "https://localhost:8080/",
          "height": 35
        }
      },
      "source": [
        "m_ndcg"
      ],
      "execution_count": 79,
      "outputs": [
        {
          "output_type": "execute_result",
          "data": {
            "text/plain": [
              "0.19462234979238804"
            ]
          },
          "metadata": {
            "tags": []
          },
          "execution_count": 79
        }
      ]
    },
    {
      "cell_type": "code",
      "metadata": {
        "id": "Zv6Vbob2kdVL",
        "outputId": "716b8fc7-ea9b-45c5-ba18-ff608d5bcc13",
        "colab": {
          "base_uri": "https://localhost:8080/",
          "height": 35
        }
      },
      "source": [
        "m_recall"
      ],
      "execution_count": 80,
      "outputs": [
        {
          "output_type": "execute_result",
          "data": {
            "text/plain": [
              "0.2289248479640363"
            ]
          },
          "metadata": {
            "tags": []
          },
          "execution_count": 80
        }
      ]
    },
    {
      "cell_type": "code",
      "metadata": {
        "id": "093WkrbvjpmA",
        "outputId": "6fd832fd-f6ff-4915-b692-952944ec81d3",
        "colab": {
          "base_uri": "https://localhost:8080/",
          "height": 35
        }
      },
      "source": [
        "m_precision"
      ],
      "execution_count": 81,
      "outputs": [
        {
          "output_type": "execute_result",
          "data": {
            "text/plain": [
              "0.16986754966887396"
            ]
          },
          "metadata": {
            "tags": []
          },
          "execution_count": 81
        }
      ]
    },
    {
      "cell_type": "code",
      "metadata": {
        "id": "-BmdT9_pKwsV",
        "outputId": "188d24da-b189-42f5-ca51-14656c960309",
        "colab": {
          "base_uri": "https://localhost:8080/",
          "height": 35
        }
      },
      "source": [
        "map_k"
      ],
      "execution_count": 82,
      "outputs": [
        {
          "output_type": "execute_result",
          "data": {
            "text/plain": [
              "0.13412247063680025"
            ]
          },
          "metadata": {
            "tags": []
          },
          "execution_count": 82
        }
      ]
    }
  ]
}