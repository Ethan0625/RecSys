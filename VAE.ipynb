{
  "nbformat": 4,
  "nbformat_minor": 0,
  "metadata": {
    "colab": {
      "name": "VAE.ipynb",
      "provenance": [],
      "collapsed_sections": []
    },
    "kernelspec": {
      "name": "python3",
      "display_name": "Python 3"
    },
    "accelerator": "GPU"
  },
  "cells": [
    {
      "cell_type": "markdown",
      "metadata": {
        "id": "viikY8IQdVTY"
      },
      "source": [
        "# Mult-VAE\n",
        "\n",
        "- [Variational Autoencoders for Collaborative Filtering](https://arxiv.org/pdf/1802.05814.pdf)\n",
        "\n",
        "# CVAE\n",
        "\n",
        "- [Collaborative Variational Autoencoder for Recommender Systems\n",
        "](http://cseweb.ucsd.edu/classes/fa17/cse291-b/reading/p305-li.pdf)\n",
        "\n",
        "# RecVAE\n",
        "- [RecVAE: a New Variational Autoencoder for Top-N Recommendations with Implicit Feedback](https://arxiv.org/pdf/1912.11160.pdf)\n",
        "\n",
        "## Experiment"
      ]
    },
    {
      "cell_type": "code",
      "metadata": {
        "id": "M8FDcw4rVboe"
      },
      "source": [
        "import glob\n",
        "import numpy as np\n",
        "import pandas as pd\n",
        "from typing import Callable, Tuple\n",
        "\n",
        "import seaborn as sns\n",
        "import matplotlib.pyplot as plt\n",
        "%matplotlib inline\n",
        "plt.style.use('bmh')\n",
        "\n",
        "from sklearn.model_selection import train_test_split, KFold\n",
        "\n",
        "import tensorflow as tf\n",
        "import tensorflow.keras.backend as K\n",
        "from tensorflow.keras.layers import Layer, Input, Reshape, Dense, Dropout, Embedding, Flatten, concatenate\n",
        "from tensorflow.keras.models import Model, load_model\n",
        "from tensorflow.keras.callbacks import ModelCheckpoint, EarlyStopping\n",
        "from tensorflow.keras.optimizers import SGD, RMSprop, Adam\n",
        "from tensorflow.keras.optimizers.schedules import ExponentialDecay\n",
        "from tensorflow.keras.initializers import TruncatedNormal, RandomNormal\n",
        "from tensorflow.keras.regularizers import l2\n",
        "\n",
        "from tensorflow.keras.utils import get_file\n",
        "import zipfile"
      ],
      "execution_count": 1,
      "outputs": []
    },
    {
      "cell_type": "code",
      "metadata": {
        "id": "sdjqodyYVf9I"
      },
      "source": [
        "def load_data(data_size : str) -> pd.DataFrame:\n",
        "    ''' load Movie Lens data '''\n",
        "    if data_size == '100k':\n",
        "        file = get_file('ml-100k.zip', 'http://files.grouplens.org/datasets/movielens/ml-100k.zip')\n",
        "        file_name = 'ml-100k/*'\n",
        "    elif data_size == '1m':\n",
        "        file = get_file('ml-1m.zip', 'http://files.grouplens.org/datasets/movielens/ml-1m.zip')\n",
        "        file_name = 'ml-1m/ratings.dat'\n",
        "    elif data_size == '10m':\n",
        "        file = get_file('ml-10m.zip', 'http://files.grouplens.org/datasets/movielens/ml-10m.zip')\n",
        "        file_name = 'ml-10M100K/ratings.dat'\n",
        "    elif data_size == '20m':\n",
        "        file = get_file('ml-20m.zip', 'http://files.grouplens.org/datasets/movielens/ml-20m.zip')\n",
        "        file_name = 'ml-20m/ratings.csv'\n",
        "    zip_ref = zipfile.ZipFile(file, 'r')\n",
        "    zip_ref.extractall()\n",
        "\n",
        "    col_names = ['userId', 'movieId', 'rating', 'timestamp']\n",
        "    ratings = pd.read_csv(file_name, sep = '|', delimiter = '::', names = col_names, engine = 'python')\n",
        "    print(ratings.shape)\n",
        "    return ratings"
      ],
      "execution_count": 2,
      "outputs": []
    },
    {
      "cell_type": "code",
      "metadata": {
        "id": "RZf8Gzf0VhYV",
        "outputId": "43292a61-46f5-4dd3-a57d-3892f64d7b04",
        "colab": {
          "base_uri": "https://localhost:8080/",
          "height": 258
        }
      },
      "source": [
        "ratings = load_data('1m')\n",
        "ratings.head()"
      ],
      "execution_count": 3,
      "outputs": [
        {
          "output_type": "stream",
          "text": [
            "Downloading data from http://files.grouplens.org/datasets/movielens/ml-1m.zip\n",
            "5922816/5917549 [==============================] - 0s 0us/step\n",
            "(1000209, 4)\n"
          ],
          "name": "stdout"
        },
        {
          "output_type": "execute_result",
          "data": {
            "text/html": [
              "<div>\n",
              "<style scoped>\n",
              "    .dataframe tbody tr th:only-of-type {\n",
              "        vertical-align: middle;\n",
              "    }\n",
              "\n",
              "    .dataframe tbody tr th {\n",
              "        vertical-align: top;\n",
              "    }\n",
              "\n",
              "    .dataframe thead th {\n",
              "        text-align: right;\n",
              "    }\n",
              "</style>\n",
              "<table border=\"1\" class=\"dataframe\">\n",
              "  <thead>\n",
              "    <tr style=\"text-align: right;\">\n",
              "      <th></th>\n",
              "      <th>userId</th>\n",
              "      <th>movieId</th>\n",
              "      <th>rating</th>\n",
              "      <th>timestamp</th>\n",
              "    </tr>\n",
              "  </thead>\n",
              "  <tbody>\n",
              "    <tr>\n",
              "      <th>0</th>\n",
              "      <td>1</td>\n",
              "      <td>1193</td>\n",
              "      <td>5</td>\n",
              "      <td>978300760</td>\n",
              "    </tr>\n",
              "    <tr>\n",
              "      <th>1</th>\n",
              "      <td>1</td>\n",
              "      <td>661</td>\n",
              "      <td>3</td>\n",
              "      <td>978302109</td>\n",
              "    </tr>\n",
              "    <tr>\n",
              "      <th>2</th>\n",
              "      <td>1</td>\n",
              "      <td>914</td>\n",
              "      <td>3</td>\n",
              "      <td>978301968</td>\n",
              "    </tr>\n",
              "    <tr>\n",
              "      <th>3</th>\n",
              "      <td>1</td>\n",
              "      <td>3408</td>\n",
              "      <td>4</td>\n",
              "      <td>978300275</td>\n",
              "    </tr>\n",
              "    <tr>\n",
              "      <th>4</th>\n",
              "      <td>1</td>\n",
              "      <td>2355</td>\n",
              "      <td>5</td>\n",
              "      <td>978824291</td>\n",
              "    </tr>\n",
              "  </tbody>\n",
              "</table>\n",
              "</div>"
            ],
            "text/plain": [
              "   userId  movieId  rating  timestamp\n",
              "0       1     1193       5  978300760\n",
              "1       1      661       3  978302109\n",
              "2       1      914       3  978301968\n",
              "3       1     3408       4  978300275\n",
              "4       1     2355       5  978824291"
            ]
          },
          "metadata": {
            "tags": []
          },
          "execution_count": 3
        }
      ]
    },
    {
      "cell_type": "markdown",
      "metadata": {
        "id": "tGuhgUB67uKF"
      },
      "source": [
        "## 1. Data Preprocessing"
      ]
    },
    {
      "cell_type": "code",
      "metadata": {
        "id": "oU_B2Cc6MYyt"
      },
      "source": [
        "def preprocessing(df: pd.DataFrame, threshold = 3.5) -> pd.DataFrame:\n",
        "    df = df[df.rating > threshold]\n",
        "    more_than_4 = df.groupby('userId')['movieId'].nunique()\n",
        "    more_than_4 = more_than_4.index[more_than_4 > 4]\n",
        "    df = df[df.userId.isin(more_than_4)]\n",
        "    return df.reset_index(drop = True)"
      ],
      "execution_count": 4,
      "outputs": []
    },
    {
      "cell_type": "code",
      "metadata": {
        "id": "Q61otQWA3tFe",
        "outputId": "7c8ef072-cf96-4f79-fc37-3c91691040cb",
        "colab": {
          "base_uri": "https://localhost:8080/"
        }
      },
      "source": [
        "idx_user_map = ratings.userId.unique()\n",
        "user_idx_map = {e: i for i, e in enumerate(idx_user_map)}\n",
        "n_user = idx_user_map.shape[0]\n",
        "print(f'# of user = {n_user}')\n",
        "\n",
        "idx_item_map = ratings.movieId.unique()\n",
        "item_idx_map = {e: i for i, e in enumerate(idx_item_map)}\n",
        "n_item = idx_item_map.shape[0]\n",
        "print(f'# of item = {n_item}')"
      ],
      "execution_count": 5,
      "outputs": [
        {
          "output_type": "stream",
          "text": [
            "# of user = 6040\n",
            "# of item = 3706\n"
          ],
          "name": "stdout"
        }
      ]
    },
    {
      "cell_type": "code",
      "metadata": {
        "id": "QJvVnvKX3uNv"
      },
      "source": [
        "def Id2idx(df: pd.DataFrame) -> pd.DataFrame:\n",
        "    return df.assign(userId = lambda x: x.userId.map(user_idx_map), \n",
        "                     movieId = lambda x: x.movieId.map(item_idx_map))\n",
        "\n",
        "def idx2Id(df: pd.DataFrame) -> pd.DataFrame:\n",
        "    return df.assign(userId = lambda x: x.userId.apply(lambda x: idx_user_map[x]), \n",
        "                     movieId = lambda x: x.movieId.apply(lambda x: idx_item_map[x]))"
      ],
      "execution_count": 6,
      "outputs": []
    },
    {
      "cell_type": "code",
      "metadata": {
        "id": "bS1B1fPw3whx",
        "outputId": "0c0a89d9-5794-40ff-c975-daa5c02b6cb0",
        "colab": {
          "base_uri": "https://localhost:8080/",
          "height": 222
        }
      },
      "source": [
        "ratings = preprocessing(ratings)\n",
        "ratings = Id2idx(ratings)\n",
        "\n",
        "print(ratings.shape)\n",
        "ratings.head(5)"
      ],
      "execution_count": 7,
      "outputs": [
        {
          "output_type": "stream",
          "text": [
            "(575272, 4)\n"
          ],
          "name": "stdout"
        },
        {
          "output_type": "execute_result",
          "data": {
            "text/html": [
              "<div>\n",
              "<style scoped>\n",
              "    .dataframe tbody tr th:only-of-type {\n",
              "        vertical-align: middle;\n",
              "    }\n",
              "\n",
              "    .dataframe tbody tr th {\n",
              "        vertical-align: top;\n",
              "    }\n",
              "\n",
              "    .dataframe thead th {\n",
              "        text-align: right;\n",
              "    }\n",
              "</style>\n",
              "<table border=\"1\" class=\"dataframe\">\n",
              "  <thead>\n",
              "    <tr style=\"text-align: right;\">\n",
              "      <th></th>\n",
              "      <th>userId</th>\n",
              "      <th>movieId</th>\n",
              "      <th>rating</th>\n",
              "      <th>timestamp</th>\n",
              "    </tr>\n",
              "  </thead>\n",
              "  <tbody>\n",
              "    <tr>\n",
              "      <th>0</th>\n",
              "      <td>0</td>\n",
              "      <td>0</td>\n",
              "      <td>5</td>\n",
              "      <td>978300760</td>\n",
              "    </tr>\n",
              "    <tr>\n",
              "      <th>1</th>\n",
              "      <td>0</td>\n",
              "      <td>3</td>\n",
              "      <td>4</td>\n",
              "      <td>978300275</td>\n",
              "    </tr>\n",
              "    <tr>\n",
              "      <th>2</th>\n",
              "      <td>0</td>\n",
              "      <td>4</td>\n",
              "      <td>5</td>\n",
              "      <td>978824291</td>\n",
              "    </tr>\n",
              "    <tr>\n",
              "      <th>3</th>\n",
              "      <td>0</td>\n",
              "      <td>6</td>\n",
              "      <td>5</td>\n",
              "      <td>978302039</td>\n",
              "    </tr>\n",
              "    <tr>\n",
              "      <th>4</th>\n",
              "      <td>0</td>\n",
              "      <td>7</td>\n",
              "      <td>5</td>\n",
              "      <td>978300719</td>\n",
              "    </tr>\n",
              "  </tbody>\n",
              "</table>\n",
              "</div>"
            ],
            "text/plain": [
              "   userId  movieId  rating  timestamp\n",
              "0       0        0       5  978300760\n",
              "1       0        3       4  978300275\n",
              "2       0        4       5  978824291\n",
              "3       0        6       5  978302039\n",
              "4       0        7       5  978300719"
            ]
          },
          "metadata": {
            "tags": []
          },
          "execution_count": 7
        }
      ]
    },
    {
      "cell_type": "code",
      "metadata": {
        "id": "EO0a_3NEFstw"
      },
      "source": [
        "def make_interaction(df: pd.DataFrame) -> pd.DataFrame:\n",
        "    return df.groupby('userId', as_index = False)[['movieId', 'rating']].agg(list)\n",
        "\n",
        "def data_split(df: pd.DataFrame, test_size = 0.2) -> pd.DataFrame:\n",
        "    train_user, test_user = train_test_split(ratings.userId.unique(), test_size = test_size, random_state = 7777)\n",
        "    valid_user, test_user = train_test_split(test_user, test_size = 0.5, shuffle = False, random_state = 5555)\n",
        "\n",
        "    train, valid, test = map(lambda x: df[df.userId.isin(x)], (train_user, valid_user, test_user))\n",
        "    train, valid, test = map(lambda df: df.reset_index(drop = True), (train, valid, test))\n",
        "    return train, valid, test\n",
        "\n",
        "def make_evaluation(df: pd.DataFrame, eval_size = 0.2) -> pd.DataFrame:\n",
        "    query, answer = train_test_split(df, test_size = eval_size, stratify = df.userId, random_state = 7777)\n",
        "    query, answer = map(lambda df: df.reset_index(drop = True), (query, answer))\n",
        "    return query, answer"
      ],
      "execution_count": 8,
      "outputs": []
    },
    {
      "cell_type": "code",
      "metadata": {
        "id": "ZLAac2E-Bv1u"
      },
      "source": [
        "def make_generator(df: pd.DataFrame,\n",
        "                   n_item: int,\n",
        "                   batch_size: int,\n",
        "                   implicit = False,\n",
        "                   threshold = 3.5,\n",
        "                   user_specific = True,\n",
        "                   corruption = 0.5,\n",
        "                   negative_sampling = 5) -> Tuple[np.array, Tuple[np.array, np.array]]:\n",
        "\n",
        "    n_row = df.index.size\n",
        "    n_col = n_item\n",
        "\n",
        "    Ids = np.arange(n_row)\n",
        "    profile = df['movieId']\n",
        "    rating = df['rating'] if not implicit else df['rating'].apply(lambda x: [1 if r > threshold else 0 for r in x])\n",
        "\n",
        "    n_batch = int(np.ceil(n_row / batch_size))\n",
        "    while True:\n",
        "        np.random.shuffle(Ids)\n",
        "        \n",
        "        for batch_step in range(n_batch):\n",
        "            lower = batch_step * batch_size\n",
        "            upper = lower + batch_size\n",
        "            \n",
        "            batch_Id = Ids[lower: upper]\n",
        "            batch = np.zeros(shape = (batch_Id.size, n_col))\n",
        "            for i, idx in enumerate(batch_Id):\n",
        "                pos = np.array(profile[idx])\n",
        "                NS = len(pos) * negative_sampling\n",
        "                neg = np.random.choice(np.delete(np.arange(n_col), pos), NS)\n",
        "                p = np.random.uniform(0, 1, size = pos.shape)\n",
        "                corrupt = pos[p < corruption]\n",
        "\n",
        "                batch[i, pos] = rating[idx]\n",
        "                batch[i, corrupt] = 0\n",
        "                batch[i, neg] = np.finfo(float).eps\n",
        "            \n",
        "            yield batch, batch"
      ],
      "execution_count": 9,
      "outputs": []
    },
    {
      "cell_type": "code",
      "metadata": {
        "id": "nNPv41eMBv1v"
      },
      "source": [
        "def masked_mae(y_true: np.array, y_pred: np.array, masked_value = 0) -> tf.Tensor:\n",
        "    mask_true = tf.cast(tf.not_equal(y_true, masked_value), dtype = 'float32')\n",
        "    masked_ae = K.abs(mask_true * (y_true - y_pred))\n",
        "    return K.sum(masked_ae, axis = -1) / K.sum(mask_true, axis = -1)\n",
        "\n",
        "def masked_rmse(y_true: np.array, y_pred: np.array, masked_value = 0) -> tf.Tensor:\n",
        "    mask_true = K.cast(K.not_equal(y_true, masked_value), dtype = 'float32')\n",
        "    masked_se = K.square(mask_true * (y_true - y_pred))\n",
        "    masked_mse = K.sum(masked_se, axis = -1) / K.sum(mask_true, axis = -1)\n",
        "    return K.sqrt(masked_mse)\n",
        "   \n",
        "def masked_cross_entropy(y_true: np.array, y_pred: np.array, masked_value = 0) -> tf.Tensor:\n",
        "    mask_true = K.cast(K.not_equal(y_true, masked_value), dtype = 'float32')\n",
        "    ce = y_true * K.log(y_pred + K.epsilon()) + (1 - y_true) * K.log(1 - y_pred + K.epsilon())\n",
        "    masked_ce = mask_true * ce\n",
        "    return -K.sum(masked_ce, axis = -1) / K.sum(mask_true, axis = -1)"
      ],
      "execution_count": 10,
      "outputs": []
    },
    {
      "cell_type": "code",
      "metadata": {
        "id": "e8nTDPrt5-qb"
      },
      "source": [
        "class Sampling(Layer):\n",
        "    def call(self, inputs):\n",
        "        z_mean, z_log_var = inputs\n",
        "        batch = tf.shape(z_mean)[0]\n",
        "        dim = tf.shape(z_mean)[1]\n",
        "        return z_mean + K.exp(0.5 * z_log_var) * K.random_normal(shape=(batch, dim))"
      ],
      "execution_count": 11,
      "outputs": []
    },
    {
      "cell_type": "code",
      "metadata": {
        "id": "itq0naTIVQ-n"
      },
      "source": [
        "def VAE(n_user: int,\n",
        "        n_item: int,\n",
        "        latent_dim = 200,\n",
        "        activation = 'tanh',\n",
        "        optimizer = 'adam',\n",
        "        learning_rate = 0.001,\n",
        "        kernel_initializer = None,\n",
        "        kernel_regularizer = None) -> Callable:\n",
        "\n",
        "    if not kernel_initializer:\n",
        "        kernel_initializer = RandomNormal(mean = 0.0, stddev = 0.05, seed = None)\n",
        "    if not kernel_regularizer:\n",
        "        kernel_regularizer = l2(0.0001)\n",
        "    \n",
        "    inputs = x = Input(shape = (n_item, ), name = 'input')\n",
        "    #x = Dense(600, activation = activation, kernel_initializer = kernel_initializer, kernel_regularizer = kernel_regularizer, name = 'hidden_1')(x)\n",
        "    z_mean = Dense(latent_dim, activation = activation, kernel_initializer = kernel_initializer, kernel_regularizer = kernel_regularizer, name = 'mean')(x)\n",
        "    z_log_var = Dense(latent_dim, activation = activation, kernel_initializer = kernel_initializer, kernel_regularizer = kernel_regularizer, name = 'log_var')(x)\n",
        "    z = y = Sampling()([z_mean, z_log_var])\n",
        "    #y = Dense(600, activation = activation, kernel_initializer = kernel_initializer, kernel_regularizer = kernel_regularizer, name = 'hidden_2')(y)\n",
        "    outputs = Dense(n_item, activation = 'sigmoid')(y)\n",
        "\n",
        "    model = Model(inputs = inputs, outputs = outputs)\n",
        "    latent_loss = -0.5 * K.sum(1 + z_log_var - K.exp(z_log_var) - K.square(z_mean), axis = -1)\n",
        "    model.add_loss(K.mean(latent_loss) / n_item)\n",
        "    \n",
        "    model.compile(optimizer = optimizer, loss = masked_cross_entropy, metrics = [masked_cross_entropy, masked_rmse])\n",
        "    return model"
      ],
      "execution_count": 12,
      "outputs": []
    },
    {
      "cell_type": "code",
      "metadata": {
        "id": "l_iq0KOti83r"
      },
      "source": [
        "def make_predictor(df: pd.DataFrame, \n",
        "                   model: Callable, \n",
        "                   n_item: int, \n",
        "                   batch_size: int, \n",
        "                   implicit = True,\n",
        "                   threshold = 3.5,\n",
        "                   top_N = 20) -> float:\n",
        "\n",
        "    n_row = df.index.size\n",
        "    n_col = n_item\n",
        "\n",
        "    Ids = np.arange(n_row)\n",
        "    profile = df['movieId']\n",
        "    rating = df['rating'] if not implicit else df['rating'].apply(lambda x: [1 if r > threshold else 0 for r in x])\n",
        "\n",
        "    res = []\n",
        "    steps = int(np.ceil(n_row / batch_size))\n",
        "    for batch_step in range(steps):\n",
        "        lower = batch_step * batch_size\n",
        "        upper = lower + batch_size\n",
        "\n",
        "        batch_Id = Ids[lower: upper]\n",
        "        y_true = np.zeros(shape = (batch_Id.size, n_col))\n",
        "        for i, idx in enumerate(batch_Id):\n",
        "            y_true[i, profile[idx]] = rating[idx]\n",
        "\n",
        "        y_pred = model.predict(y_true, verbose = 0)\n",
        "        \n",
        "        pred = np.argsort(np.where(y_true == 1, 0, 1) * y_pred, axis = -1)[:, :-top_N-1:-1]\n",
        "        res.append(pred)\n",
        "    return np.concatenate(res)"
      ],
      "execution_count": 13,
      "outputs": []
    },
    {
      "cell_type": "code",
      "metadata": {
        "id": "u2quTiHQJlpg"
      },
      "source": [
        "def show_history(hist, loss: str, metric: str) -> None:\n",
        "    fig, (ax1, ax2) = plt.subplots(1, 2, figsize = (12, 4))\n",
        "\n",
        "    ax1.plot(hist.history[f'{loss}'])\n",
        "    ax1.plot(hist.history[f'val_{loss}'])\n",
        "    ax1.set_title('Loss', fontsize = 20)\n",
        "    ax1.set_ylabel('loss')\n",
        "    ax1.set_xlabel('epoch')\n",
        "    ax1.legend(['loss', 'val_loss'], loc = 'upper right')\n",
        "\n",
        "    ax2.plot(hist.history[f'{metric}'])\n",
        "    ax2.plot(hist.history[f'val_{metric}'])\n",
        "    ax2.set_title('Metric', fontsize = 20)\n",
        "    ax2.set_ylabel('metric')\n",
        "    ax2.set_xlabel('epoch')\n",
        "    ax2.legend(['masked_metric', 'val_masked_metric'], loc = 'upper right')\n",
        "    plt.show()"
      ],
      "execution_count": 14,
      "outputs": []
    },
    {
      "cell_type": "code",
      "metadata": {
        "id": "lziheZmDL6fQ"
      },
      "source": [
        "def ndcg(gt, rec):\n",
        "    dcg, idcg = 0.0, 0.0\n",
        "    for i, r in enumerate(rec):\n",
        "        idcg += 1.0 / np.log(i + 2)\n",
        "        if r in gt:\n",
        "            dcg += 1.0 / np.log(i + 2)\n",
        "    return dcg / idcg\n",
        "\n",
        "def recall(gt, rec):\n",
        "    res = [r for r in rec if r in gt]\n",
        "    return len(res) / len(gt)\n",
        "\n",
        "def precision(gt, rec):\n",
        "    res = [r for r in rec if r in gt]\n",
        "    return len(res) / len(rec)\n",
        "\n",
        "def precision_k(gt, rec, k):\n",
        "    rec_k = rec[:k+1]\n",
        "    res = [r for r in rec_k if r in gt]\n",
        "    return len(res) / k\n",
        "\n",
        "def AP_k(gt, rec, k = 20):\n",
        "    res = 0\n",
        "    for i in range(k):\n",
        "        if rec[i] in gt:\n",
        "            res += precision_k(gt, rec, i+1)\n",
        "    return res / min(k, len(gt))"
      ],
      "execution_count": 15,
      "outputs": []
    },
    {
      "cell_type": "markdown",
      "metadata": {
        "id": "lDZc_fV0DmRA"
      },
      "source": [
        "## 2. Mult-VAE"
      ]
    },
    {
      "cell_type": "code",
      "metadata": {
        "id": "tU4qJYMtZ2-w",
        "outputId": "9addb3db-53d3-4b93-904d-81f29ac424cf",
        "colab": {
          "base_uri": "https://localhost:8080/"
        }
      },
      "source": [
        "optimizer = Adam(learning_rate = 0.001, decay = 1e-5)\n",
        "model = VAE(n_user, n_item, latent_dim = 200, optimizer = optimizer)\n",
        "model.summary()"
      ],
      "execution_count": 16,
      "outputs": [
        {
          "output_type": "stream",
          "text": [
            "Model: \"functional_1\"\n",
            "__________________________________________________________________________________________________\n",
            "Layer (type)                    Output Shape         Param #     Connected to                     \n",
            "==================================================================================================\n",
            "input (InputLayer)              [(None, 3706)]       0                                            \n",
            "__________________________________________________________________________________________________\n",
            "mean (Dense)                    (None, 200)          741400      input[0][0]                      \n",
            "__________________________________________________________________________________________________\n",
            "log_var (Dense)                 (None, 200)          741400      input[0][0]                      \n",
            "__________________________________________________________________________________________________\n",
            "sampling (Sampling)             (None, 200)          0           mean[0][0]                       \n",
            "                                                                 log_var[0][0]                    \n",
            "__________________________________________________________________________________________________\n",
            "dense (Dense)                   (None, 3706)         744906      sampling[0][0]                   \n",
            "__________________________________________________________________________________________________\n",
            "tf_op_layer_AddV2 (TensorFlowOp [(None, 200)]        0           log_var[0][0]                    \n",
            "__________________________________________________________________________________________________\n",
            "tf_op_layer_Exp (TensorFlowOpLa [(None, 200)]        0           log_var[0][0]                    \n",
            "__________________________________________________________________________________________________\n",
            "tf_op_layer_Sub (TensorFlowOpLa [(None, 200)]        0           tf_op_layer_AddV2[0][0]          \n",
            "                                                                 tf_op_layer_Exp[0][0]            \n",
            "__________________________________________________________________________________________________\n",
            "tf_op_layer_Square (TensorFlowO [(None, 200)]        0           mean[0][0]                       \n",
            "__________________________________________________________________________________________________\n",
            "tf_op_layer_Sub_1 (TensorFlowOp [(None, 200)]        0           tf_op_layer_Sub[0][0]            \n",
            "                                                                 tf_op_layer_Square[0][0]         \n",
            "__________________________________________________________________________________________________\n",
            "tf_op_layer_Sum (TensorFlowOpLa [(None,)]            0           tf_op_layer_Sub_1[0][0]          \n",
            "__________________________________________________________________________________________________\n",
            "tf_op_layer_Mul (TensorFlowOpLa [(None,)]            0           tf_op_layer_Sum[0][0]            \n",
            "__________________________________________________________________________________________________\n",
            "tf_op_layer_Mean (TensorFlowOpL [()]                 0           tf_op_layer_Mul[0][0]            \n",
            "__________________________________________________________________________________________________\n",
            "tf_op_layer_RealDiv (TensorFlow [()]                 0           tf_op_layer_Mean[0][0]           \n",
            "__________________________________________________________________________________________________\n",
            "add_loss (AddLoss)              ()                   0           tf_op_layer_RealDiv[0][0]        \n",
            "==================================================================================================\n",
            "Total params: 2,227,706\n",
            "Trainable params: 2,227,706\n",
            "Non-trainable params: 0\n",
            "__________________________________________________________________________________________________\n"
          ],
          "name": "stdout"
        }
      ]
    },
    {
      "cell_type": "code",
      "metadata": {
        "id": "dsLI0HYXIzIz"
      },
      "source": [
        "epochs = 200\n",
        "batch_size = 256\n",
        "\n",
        "train, valid, test = data_split(ratings)\n",
        "valid_q, valid_a = make_evaluation(valid)\n",
        "test_q, test_a = make_evaluation(test)\n",
        "\n",
        "train, valid_q, valid_a, test_q, test_a = map(make_interaction, (train, valid_q, valid_a, test_q, test_a))\n",
        "train_gen, valid_gen = map(lambda x: make_generator(x, n_item, batch_size, implicit = True, user_specific = False), (train, valid_q))"
      ],
      "execution_count": 17,
      "outputs": []
    },
    {
      "cell_type": "code",
      "metadata": {
        "id": "3GI4n7pPYFPc"
      },
      "source": [
        "steps_per_epoch = train.index.size // batch_size + 1\n",
        "validation_steps = valid_q.index.size // batch_size + 1"
      ],
      "execution_count": 18,
      "outputs": []
    },
    {
      "cell_type": "code",
      "metadata": {
        "id": "T7lQYKnyXb3X",
        "outputId": "deadc171-814d-46e2-ba07-d1d1ba294625",
        "colab": {
          "base_uri": "https://localhost:8080/"
        }
      },
      "source": [
        "%%time\n",
        "early_stopping = EarlyStopping(monitor = 'val_loss', mode = 'min', verbose = 1, patience = 50)\n",
        "model_checkpoint = ModelCheckpoint('VAE.h5', monitor = 'val_loss', mode = 'min', save_best_only = True)\n",
        "\n",
        "hist = model.fit(x = train_gen, validation_data = valid_gen, epochs = epochs,\n",
        "                 steps_per_epoch = steps_per_epoch, validation_steps = validation_steps, \n",
        "                 verbose = 1, callbacks = [early_stopping, model_checkpoint])"
      ],
      "execution_count": 19,
      "outputs": [
        {
          "output_type": "stream",
          "text": [
            "Epoch 1/200\n",
            "19/19 [==============================] - 1s 64ms/step - loss: 0.9533 - masked_cross_entropy: 0.6530 - masked_rmse: 0.4790 - val_loss: 0.7842 - val_masked_cross_entropy: 0.5554 - val_masked_rmse: 0.4267\n",
            "Epoch 2/200\n",
            "19/19 [==============================] - 1s 56ms/step - loss: 0.5977 - masked_cross_entropy: 0.4061 - masked_rmse: 0.3441 - val_loss: 0.4815 - val_masked_cross_entropy: 0.3282 - val_masked_rmse: 0.3022\n",
            "Epoch 3/200\n",
            "19/19 [==============================] - 1s 56ms/step - loss: 0.4129 - masked_cross_entropy: 0.2814 - masked_rmse: 0.2791 - val_loss: 0.3815 - val_masked_cross_entropy: 0.2767 - val_masked_rmse: 0.2766\n",
            "Epoch 4/200\n",
            "19/19 [==============================] - 1s 57ms/step - loss: 0.3483 - masked_cross_entropy: 0.2576 - masked_rmse: 0.2684 - val_loss: 0.3353 - val_masked_cross_entropy: 0.2628 - val_masked_rmse: 0.2712\n",
            "Epoch 5/200\n",
            "19/19 [==============================] - 1s 56ms/step - loss: 0.3150 - masked_cross_entropy: 0.2506 - masked_rmse: 0.2658 - val_loss: 0.3110 - val_masked_cross_entropy: 0.2588 - val_masked_rmse: 0.2695\n",
            "Epoch 6/200\n",
            "19/19 [==============================] - 1s 60ms/step - loss: 0.2960 - masked_cross_entropy: 0.2477 - masked_rmse: 0.2646 - val_loss: 0.2949 - val_masked_cross_entropy: 0.2544 - val_masked_rmse: 0.2676\n",
            "Epoch 7/200\n",
            "19/19 [==============================] - 1s 76ms/step - loss: 0.2832 - masked_cross_entropy: 0.2445 - masked_rmse: 0.2632 - val_loss: 0.2818 - val_masked_cross_entropy: 0.2486 - val_masked_rmse: 0.2650\n",
            "Epoch 8/200\n",
            "19/19 [==============================] - 1s 57ms/step - loss: 0.2739 - masked_cross_entropy: 0.2411 - masked_rmse: 0.2618 - val_loss: 0.2720 - val_masked_cross_entropy: 0.2435 - val_masked_rmse: 0.2626\n",
            "Epoch 9/200\n",
            "19/19 [==============================] - 1s 56ms/step - loss: 0.2667 - masked_cross_entropy: 0.2375 - masked_rmse: 0.2600 - val_loss: 0.2680 - val_masked_cross_entropy: 0.2421 - val_masked_rmse: 0.2617\n",
            "Epoch 10/200\n",
            "19/19 [==============================] - 1s 54ms/step - loss: 0.2602 - masked_cross_entropy: 0.2334 - masked_rmse: 0.2581 - val_loss: 0.2607 - val_masked_cross_entropy: 0.2368 - val_masked_rmse: 0.2587\n",
            "Epoch 11/200\n",
            "19/19 [==============================] - 1s 55ms/step - loss: 0.2557 - masked_cross_entropy: 0.2306 - masked_rmse: 0.2566 - val_loss: 0.2555 - val_masked_cross_entropy: 0.2329 - val_masked_rmse: 0.2572\n",
            "Epoch 12/200\n",
            "19/19 [==============================] - 1s 59ms/step - loss: 0.2501 - masked_cross_entropy: 0.2263 - masked_rmse: 0.2541 - val_loss: 0.2494 - val_masked_cross_entropy: 0.2277 - val_masked_rmse: 0.2538\n",
            "Epoch 13/200\n",
            "19/19 [==============================] - 1s 57ms/step - loss: 0.2438 - masked_cross_entropy: 0.2210 - masked_rmse: 0.2513 - val_loss: 0.2474 - val_masked_cross_entropy: 0.2268 - val_masked_rmse: 0.2529\n",
            "Epoch 14/200\n",
            "19/19 [==============================] - 1s 58ms/step - loss: 0.2410 - masked_cross_entropy: 0.2193 - masked_rmse: 0.2503 - val_loss: 0.2422 - val_masked_cross_entropy: 0.2226 - val_masked_rmse: 0.2512\n",
            "Epoch 15/200\n",
            "19/19 [==============================] - 1s 55ms/step - loss: 0.2375 - masked_cross_entropy: 0.2167 - masked_rmse: 0.2489 - val_loss: 0.2378 - val_masked_cross_entropy: 0.2189 - val_masked_rmse: 0.2489\n",
            "Epoch 16/200\n",
            "19/19 [==============================] - 1s 62ms/step - loss: 0.2340 - masked_cross_entropy: 0.2139 - masked_rmse: 0.2473 - val_loss: 0.2341 - val_masked_cross_entropy: 0.2160 - val_masked_rmse: 0.2471\n",
            "Epoch 17/200\n",
            "19/19 [==============================] - 1s 59ms/step - loss: 0.2306 - masked_cross_entropy: 0.2114 - masked_rmse: 0.2458 - val_loss: 0.2337 - val_masked_cross_entropy: 0.2164 - val_masked_rmse: 0.2477\n",
            "Epoch 18/200\n",
            "19/19 [==============================] - 1s 58ms/step - loss: 0.2285 - masked_cross_entropy: 0.2101 - masked_rmse: 0.2451 - val_loss: 0.2269 - val_masked_cross_entropy: 0.2103 - val_masked_rmse: 0.2440\n",
            "Epoch 19/200\n",
            "19/19 [==============================] - 1s 57ms/step - loss: 0.2248 - masked_cross_entropy: 0.2070 - masked_rmse: 0.2432 - val_loss: 0.2296 - val_masked_cross_entropy: 0.2135 - val_masked_rmse: 0.2458\n",
            "Epoch 20/200\n",
            "19/19 [==============================] - 1s 56ms/step - loss: 0.2232 - masked_cross_entropy: 0.2060 - masked_rmse: 0.2428 - val_loss: 0.2239 - val_masked_cross_entropy: 0.2082 - val_masked_rmse: 0.2435\n",
            "Epoch 21/200\n",
            "19/19 [==============================] - 1s 54ms/step - loss: 0.2214 - masked_cross_entropy: 0.2047 - masked_rmse: 0.2420 - val_loss: 0.2241 - val_masked_cross_entropy: 0.2089 - val_masked_rmse: 0.2440\n",
            "Epoch 22/200\n",
            "19/19 [==============================] - 1s 61ms/step - loss: 0.2196 - masked_cross_entropy: 0.2032 - masked_rmse: 0.2411 - val_loss: 0.2198 - val_masked_cross_entropy: 0.2048 - val_masked_rmse: 0.2416\n",
            "Epoch 23/200\n",
            "19/19 [==============================] - 1s 59ms/step - loss: 0.2177 - masked_cross_entropy: 0.2016 - masked_rmse: 0.2403 - val_loss: 0.2189 - val_masked_cross_entropy: 0.2043 - val_masked_rmse: 0.2414\n",
            "Epoch 24/200\n",
            "19/19 [==============================] - 1s 56ms/step - loss: 0.2158 - masked_cross_entropy: 0.2000 - masked_rmse: 0.2393 - val_loss: 0.2169 - val_masked_cross_entropy: 0.2024 - val_masked_rmse: 0.2400\n",
            "Epoch 25/200\n",
            "19/19 [==============================] - 1s 59ms/step - loss: 0.2145 - masked_cross_entropy: 0.1991 - masked_rmse: 0.2389 - val_loss: 0.2157 - val_masked_cross_entropy: 0.2015 - val_masked_rmse: 0.2393\n",
            "Epoch 26/200\n",
            "19/19 [==============================] - 1s 53ms/step - loss: 0.2126 - masked_cross_entropy: 0.1974 - masked_rmse: 0.2379 - val_loss: 0.2166 - val_masked_cross_entropy: 0.2025 - val_masked_rmse: 0.2404\n",
            "Epoch 27/200\n",
            "19/19 [==============================] - 1s 56ms/step - loss: 0.2121 - masked_cross_entropy: 0.1967 - masked_rmse: 0.2375 - val_loss: 0.2151 - val_masked_cross_entropy: 0.2007 - val_masked_rmse: 0.2393\n",
            "Epoch 28/200\n",
            "19/19 [==============================] - 1s 61ms/step - loss: 0.2110 - masked_cross_entropy: 0.1957 - masked_rmse: 0.2371 - val_loss: 0.2123 - val_masked_cross_entropy: 0.1983 - val_masked_rmse: 0.2381\n",
            "Epoch 29/200\n",
            "19/19 [==============================] - 1s 52ms/step - loss: 0.2097 - masked_cross_entropy: 0.1948 - masked_rmse: 0.2364 - val_loss: 0.2127 - val_masked_cross_entropy: 0.1990 - val_masked_rmse: 0.2382\n",
            "Epoch 30/200\n",
            "19/19 [==============================] - 1s 53ms/step - loss: 0.2094 - masked_cross_entropy: 0.1942 - masked_rmse: 0.2360 - val_loss: 0.2123 - val_masked_cross_entropy: 0.1978 - val_masked_rmse: 0.2381\n",
            "Epoch 31/200\n",
            "19/19 [==============================] - 1s 56ms/step - loss: 0.2081 - masked_cross_entropy: 0.1927 - masked_rmse: 0.2353 - val_loss: 0.2132 - val_masked_cross_entropy: 0.1988 - val_masked_rmse: 0.2390\n",
            "Epoch 32/200\n",
            "19/19 [==============================] - 1s 56ms/step - loss: 0.2079 - masked_cross_entropy: 0.1927 - masked_rmse: 0.2354 - val_loss: 0.2085 - val_masked_cross_entropy: 0.1946 - val_masked_rmse: 0.2365\n",
            "Epoch 33/200\n",
            "19/19 [==============================] - 1s 59ms/step - loss: 0.2069 - masked_cross_entropy: 0.1921 - masked_rmse: 0.2352 - val_loss: 0.2082 - val_masked_cross_entropy: 0.1945 - val_masked_rmse: 0.2361\n",
            "Epoch 34/200\n",
            "19/19 [==============================] - 1s 53ms/step - loss: 0.2055 - masked_cross_entropy: 0.1909 - masked_rmse: 0.2344 - val_loss: 0.2097 - val_masked_cross_entropy: 0.1956 - val_masked_rmse: 0.2366\n",
            "Epoch 35/200\n",
            "19/19 [==============================] - 1s 52ms/step - loss: 0.2059 - masked_cross_entropy: 0.1908 - masked_rmse: 0.2341 - val_loss: 0.2098 - val_masked_cross_entropy: 0.1957 - val_masked_rmse: 0.2368\n",
            "Epoch 36/200\n",
            "19/19 [==============================] - 1s 50ms/step - loss: 0.2051 - masked_cross_entropy: 0.1900 - masked_rmse: 0.2338 - val_loss: 0.2090 - val_masked_cross_entropy: 0.1947 - val_masked_rmse: 0.2361\n",
            "Epoch 37/200\n",
            "19/19 [==============================] - 1s 56ms/step - loss: 0.2054 - masked_cross_entropy: 0.1903 - masked_rmse: 0.2340 - val_loss: 0.2077 - val_masked_cross_entropy: 0.1936 - val_masked_rmse: 0.2354\n",
            "Epoch 38/200\n",
            "19/19 [==============================] - 1s 54ms/step - loss: 0.2041 - masked_cross_entropy: 0.1891 - masked_rmse: 0.2335 - val_loss: 0.2114 - val_masked_cross_entropy: 0.1973 - val_masked_rmse: 0.2384\n",
            "Epoch 39/200\n",
            "19/19 [==============================] - 1s 53ms/step - loss: 0.2039 - masked_cross_entropy: 0.1888 - masked_rmse: 0.2331 - val_loss: 0.2046 - val_masked_cross_entropy: 0.1904 - val_masked_rmse: 0.2338\n",
            "Epoch 40/200\n",
            "19/19 [==============================] - 1s 53ms/step - loss: 0.2038 - masked_cross_entropy: 0.1885 - masked_rmse: 0.2329 - val_loss: 0.2082 - val_masked_cross_entropy: 0.1933 - val_masked_rmse: 0.2357\n",
            "Epoch 41/200\n",
            "19/19 [==============================] - 1s 54ms/step - loss: 0.2044 - masked_cross_entropy: 0.1885 - masked_rmse: 0.2331 - val_loss: 0.2056 - val_masked_cross_entropy: 0.1908 - val_masked_rmse: 0.2341\n",
            "Epoch 42/200\n",
            "19/19 [==============================] - 1s 52ms/step - loss: 0.2028 - masked_cross_entropy: 0.1873 - masked_rmse: 0.2322 - val_loss: 0.2069 - val_masked_cross_entropy: 0.1922 - val_masked_rmse: 0.2341\n",
            "Epoch 43/200\n",
            "19/19 [==============================] - 1s 54ms/step - loss: 0.2034 - masked_cross_entropy: 0.1877 - masked_rmse: 0.2325 - val_loss: 0.2052 - val_masked_cross_entropy: 0.1905 - val_masked_rmse: 0.2337\n",
            "Epoch 44/200\n",
            "19/19 [==============================] - 1s 53ms/step - loss: 0.2022 - masked_cross_entropy: 0.1866 - masked_rmse: 0.2319 - val_loss: 0.2083 - val_masked_cross_entropy: 0.1932 - val_masked_rmse: 0.2367\n",
            "Epoch 45/200\n",
            "19/19 [==============================] - 1s 50ms/step - loss: 0.2023 - masked_cross_entropy: 0.1865 - masked_rmse: 0.2320 - val_loss: 0.2051 - val_masked_cross_entropy: 0.1901 - val_masked_rmse: 0.2336\n",
            "Epoch 46/200\n",
            "19/19 [==============================] - 1s 56ms/step - loss: 0.2025 - masked_cross_entropy: 0.1865 - masked_rmse: 0.2318 - val_loss: 0.2035 - val_masked_cross_entropy: 0.1883 - val_masked_rmse: 0.2325\n",
            "Epoch 47/200\n",
            "19/19 [==============================] - 1s 53ms/step - loss: 0.2018 - masked_cross_entropy: 0.1859 - masked_rmse: 0.2315 - val_loss: 0.2054 - val_masked_cross_entropy: 0.1903 - val_masked_rmse: 0.2333\n",
            "Epoch 48/200\n",
            "19/19 [==============================] - 1s 52ms/step - loss: 0.2014 - masked_cross_entropy: 0.1856 - masked_rmse: 0.2316 - val_loss: 0.2074 - val_masked_cross_entropy: 0.1925 - val_masked_rmse: 0.2356\n",
            "Epoch 49/200\n",
            "19/19 [==============================] - 1s 53ms/step - loss: 0.2002 - masked_cross_entropy: 0.1845 - masked_rmse: 0.2306 - val_loss: 0.2060 - val_masked_cross_entropy: 0.1911 - val_masked_rmse: 0.2342\n",
            "Epoch 50/200\n",
            "19/19 [==============================] - 1s 53ms/step - loss: 0.2009 - masked_cross_entropy: 0.1849 - masked_rmse: 0.2307 - val_loss: 0.2043 - val_masked_cross_entropy: 0.1889 - val_masked_rmse: 0.2333\n",
            "Epoch 51/200\n",
            "19/19 [==============================] - 1s 54ms/step - loss: 0.2013 - masked_cross_entropy: 0.1849 - masked_rmse: 0.2310 - val_loss: 0.2065 - val_masked_cross_entropy: 0.1905 - val_masked_rmse: 0.2331\n",
            "Epoch 52/200\n",
            "19/19 [==============================] - 1s 53ms/step - loss: 0.2013 - masked_cross_entropy: 0.1846 - masked_rmse: 0.2307 - val_loss: 0.2047 - val_masked_cross_entropy: 0.1887 - val_masked_rmse: 0.2330\n",
            "Epoch 53/200\n",
            "19/19 [==============================] - 1s 54ms/step - loss: 0.2004 - masked_cross_entropy: 0.1836 - masked_rmse: 0.2301 - val_loss: 0.2050 - val_masked_cross_entropy: 0.1892 - val_masked_rmse: 0.2326\n",
            "Epoch 54/200\n",
            "19/19 [==============================] - 1s 52ms/step - loss: 0.1999 - masked_cross_entropy: 0.1833 - masked_rmse: 0.2300 - val_loss: 0.2049 - val_masked_cross_entropy: 0.1894 - val_masked_rmse: 0.2331\n",
            "Epoch 55/200\n",
            "19/19 [==============================] - 1s 53ms/step - loss: 0.1998 - masked_cross_entropy: 0.1835 - masked_rmse: 0.2301 - val_loss: 0.2089 - val_masked_cross_entropy: 0.1929 - val_masked_rmse: 0.2352\n",
            "Epoch 56/200\n",
            "19/19 [==============================] - 1s 53ms/step - loss: 0.2001 - masked_cross_entropy: 0.1832 - masked_rmse: 0.2300 - val_loss: 0.2043 - val_masked_cross_entropy: 0.1884 - val_masked_rmse: 0.2330\n",
            "Epoch 57/200\n",
            "19/19 [==============================] - 1s 50ms/step - loss: 0.1992 - masked_cross_entropy: 0.1827 - masked_rmse: 0.2295 - val_loss: 0.2051 - val_masked_cross_entropy: 0.1895 - val_masked_rmse: 0.2332\n",
            "Epoch 58/200\n",
            "19/19 [==============================] - 1s 57ms/step - loss: 0.1985 - masked_cross_entropy: 0.1821 - masked_rmse: 0.2293 - val_loss: 0.2028 - val_masked_cross_entropy: 0.1871 - val_masked_rmse: 0.2317\n",
            "Epoch 59/200\n",
            "19/19 [==============================] - 1s 55ms/step - loss: 0.1987 - masked_cross_entropy: 0.1820 - masked_rmse: 0.2291 - val_loss: 0.2048 - val_masked_cross_entropy: 0.1888 - val_masked_rmse: 0.2330\n",
            "Epoch 60/200\n",
            "19/19 [==============================] - 1s 53ms/step - loss: 0.1990 - masked_cross_entropy: 0.1823 - masked_rmse: 0.2293 - val_loss: 0.2043 - val_masked_cross_entropy: 0.1885 - val_masked_rmse: 0.2330\n",
            "Epoch 61/200\n",
            "19/19 [==============================] - 1s 54ms/step - loss: 0.1992 - masked_cross_entropy: 0.1822 - masked_rmse: 0.2292 - val_loss: 0.2041 - val_masked_cross_entropy: 0.1875 - val_masked_rmse: 0.2313\n",
            "Epoch 62/200\n",
            "19/19 [==============================] - 1s 56ms/step - loss: 0.1986 - masked_cross_entropy: 0.1813 - masked_rmse: 0.2286 - val_loss: 0.2064 - val_masked_cross_entropy: 0.1900 - val_masked_rmse: 0.2332\n",
            "Epoch 63/200\n",
            "19/19 [==============================] - 1s 56ms/step - loss: 0.1984 - masked_cross_entropy: 0.1815 - masked_rmse: 0.2290 - val_loss: 0.2015 - val_masked_cross_entropy: 0.1855 - val_masked_rmse: 0.2307\n",
            "Epoch 64/200\n",
            "19/19 [==============================] - 1s 54ms/step - loss: 0.1983 - masked_cross_entropy: 0.1814 - masked_rmse: 0.2287 - val_loss: 0.2061 - val_masked_cross_entropy: 0.1899 - val_masked_rmse: 0.2331\n",
            "Epoch 65/200\n",
            "19/19 [==============================] - 1s 54ms/step - loss: 0.1978 - masked_cross_entropy: 0.1808 - masked_rmse: 0.2284 - val_loss: 0.2055 - val_masked_cross_entropy: 0.1894 - val_masked_rmse: 0.2330\n",
            "Epoch 66/200\n",
            "19/19 [==============================] - 1s 53ms/step - loss: 0.1984 - masked_cross_entropy: 0.1814 - masked_rmse: 0.2287 - val_loss: 0.2019 - val_masked_cross_entropy: 0.1853 - val_masked_rmse: 0.2308\n",
            "Epoch 67/200\n",
            "19/19 [==============================] - 1s 54ms/step - loss: 0.1979 - masked_cross_entropy: 0.1802 - masked_rmse: 0.2278 - val_loss: 0.2027 - val_masked_cross_entropy: 0.1858 - val_masked_rmse: 0.2307\n",
            "Epoch 68/200\n",
            "19/19 [==============================] - 1s 57ms/step - loss: 0.1972 - masked_cross_entropy: 0.1798 - masked_rmse: 0.2277 - val_loss: 0.2029 - val_masked_cross_entropy: 0.1864 - val_masked_rmse: 0.2315\n",
            "Epoch 69/200\n",
            "19/19 [==============================] - 1s 57ms/step - loss: 0.1969 - masked_cross_entropy: 0.1797 - masked_rmse: 0.2277 - val_loss: 0.2030 - val_masked_cross_entropy: 0.1867 - val_masked_rmse: 0.2314\n",
            "Epoch 70/200\n",
            "19/19 [==============================] - 1s 54ms/step - loss: 0.1991 - masked_cross_entropy: 0.1809 - masked_rmse: 0.2281 - val_loss: 0.2066 - val_masked_cross_entropy: 0.1885 - val_masked_rmse: 0.2326\n",
            "Epoch 71/200\n",
            "19/19 [==============================] - 1s 56ms/step - loss: 0.1978 - masked_cross_entropy: 0.1793 - masked_rmse: 0.2273 - val_loss: 0.2031 - val_masked_cross_entropy: 0.1860 - val_masked_rmse: 0.2309\n",
            "Epoch 72/200\n",
            "19/19 [==============================] - 1s 53ms/step - loss: 0.1977 - masked_cross_entropy: 0.1800 - masked_rmse: 0.2279 - val_loss: 0.2046 - val_masked_cross_entropy: 0.1880 - val_masked_rmse: 0.2321\n",
            "Epoch 73/200\n",
            "19/19 [==============================] - 1s 54ms/step - loss: 0.1966 - masked_cross_entropy: 0.1791 - masked_rmse: 0.2271 - val_loss: 0.2035 - val_masked_cross_entropy: 0.1868 - val_masked_rmse: 0.2316\n",
            "Epoch 74/200\n",
            "19/19 [==============================] - 1s 54ms/step - loss: 0.1964 - masked_cross_entropy: 0.1790 - masked_rmse: 0.2274 - val_loss: 0.2026 - val_masked_cross_entropy: 0.1860 - val_masked_rmse: 0.2305\n",
            "Epoch 75/200\n",
            "19/19 [==============================] - 1s 59ms/step - loss: 0.1966 - masked_cross_entropy: 0.1790 - masked_rmse: 0.2272 - val_loss: 0.1991 - val_masked_cross_entropy: 0.1819 - val_masked_rmse: 0.2282\n",
            "Epoch 76/200\n",
            "19/19 [==============================] - 1s 53ms/step - loss: 0.1979 - masked_cross_entropy: 0.1794 - masked_rmse: 0.2274 - val_loss: 0.2023 - val_masked_cross_entropy: 0.1846 - val_masked_rmse: 0.2303\n",
            "Epoch 77/200\n",
            "19/19 [==============================] - 1s 55ms/step - loss: 0.1962 - masked_cross_entropy: 0.1779 - masked_rmse: 0.2265 - val_loss: 0.2043 - val_masked_cross_entropy: 0.1871 - val_masked_rmse: 0.2312\n",
            "Epoch 78/200\n",
            "19/19 [==============================] - 1s 52ms/step - loss: 0.1958 - masked_cross_entropy: 0.1780 - masked_rmse: 0.2265 - val_loss: 0.2012 - val_masked_cross_entropy: 0.1843 - val_masked_rmse: 0.2296\n",
            "Epoch 79/200\n",
            "19/19 [==============================] - 1s 57ms/step - loss: 0.1956 - masked_cross_entropy: 0.1781 - masked_rmse: 0.2265 - val_loss: 0.2008 - val_masked_cross_entropy: 0.1841 - val_masked_rmse: 0.2294\n",
            "Epoch 80/200\n",
            "19/19 [==============================] - 1s 53ms/step - loss: 0.1954 - masked_cross_entropy: 0.1778 - masked_rmse: 0.2263 - val_loss: 0.2036 - val_masked_cross_entropy: 0.1866 - val_masked_rmse: 0.2310\n",
            "Epoch 81/200\n",
            "19/19 [==============================] - 1s 55ms/step - loss: 0.1961 - masked_cross_entropy: 0.1778 - masked_rmse: 0.2263 - val_loss: 0.2035 - val_masked_cross_entropy: 0.1858 - val_masked_rmse: 0.2308\n",
            "Epoch 82/200\n",
            "19/19 [==============================] - 1s 54ms/step - loss: 0.1961 - masked_cross_entropy: 0.1776 - masked_rmse: 0.2264 - val_loss: 0.2036 - val_masked_cross_entropy: 0.1860 - val_masked_rmse: 0.2306\n",
            "Epoch 83/200\n",
            "19/19 [==============================] - 1s 54ms/step - loss: 0.1957 - masked_cross_entropy: 0.1775 - masked_rmse: 0.2261 - val_loss: 0.2009 - val_masked_cross_entropy: 0.1837 - val_masked_rmse: 0.2291\n",
            "Epoch 84/200\n",
            "19/19 [==============================] - 1s 52ms/step - loss: 0.1956 - masked_cross_entropy: 0.1778 - masked_rmse: 0.2263 - val_loss: 0.2030 - val_masked_cross_entropy: 0.1856 - val_masked_rmse: 0.2302\n",
            "Epoch 85/200\n",
            "19/19 [==============================] - 1s 54ms/step - loss: 0.1954 - masked_cross_entropy: 0.1768 - masked_rmse: 0.2256 - val_loss: 0.2029 - val_masked_cross_entropy: 0.1851 - val_masked_rmse: 0.2309\n",
            "Epoch 86/200\n",
            "19/19 [==============================] - 1s 54ms/step - loss: 0.1948 - masked_cross_entropy: 0.1764 - masked_rmse: 0.2255 - val_loss: 0.2034 - val_masked_cross_entropy: 0.1862 - val_masked_rmse: 0.2308\n",
            "Epoch 87/200\n",
            "19/19 [==============================] - 1s 53ms/step - loss: 0.1959 - masked_cross_entropy: 0.1776 - masked_rmse: 0.2264 - val_loss: 0.2027 - val_masked_cross_entropy: 0.1850 - val_masked_rmse: 0.2299\n",
            "Epoch 88/200\n",
            "19/19 [==============================] - 1s 56ms/step - loss: 0.1954 - masked_cross_entropy: 0.1769 - masked_rmse: 0.2258 - val_loss: 0.2012 - val_masked_cross_entropy: 0.1836 - val_masked_rmse: 0.2294\n",
            "Epoch 89/200\n",
            "19/19 [==============================] - 1s 53ms/step - loss: 0.1946 - masked_cross_entropy: 0.1762 - masked_rmse: 0.2255 - val_loss: 0.2033 - val_masked_cross_entropy: 0.1858 - val_masked_rmse: 0.2296\n",
            "Epoch 90/200\n",
            "19/19 [==============================] - 1s 54ms/step - loss: 0.1948 - masked_cross_entropy: 0.1765 - masked_rmse: 0.2255 - val_loss: 0.2021 - val_masked_cross_entropy: 0.1849 - val_masked_rmse: 0.2295\n",
            "Epoch 91/200\n",
            "19/19 [==============================] - 1s 58ms/step - loss: 0.1937 - masked_cross_entropy: 0.1755 - masked_rmse: 0.2248 - val_loss: 0.2013 - val_masked_cross_entropy: 0.1836 - val_masked_rmse: 0.2292\n",
            "Epoch 92/200\n",
            "19/19 [==============================] - 1s 54ms/step - loss: 0.1946 - masked_cross_entropy: 0.1762 - masked_rmse: 0.2252 - val_loss: 0.2031 - val_masked_cross_entropy: 0.1852 - val_masked_rmse: 0.2303\n",
            "Epoch 93/200\n",
            "19/19 [==============================] - 1s 53ms/step - loss: 0.1940 - masked_cross_entropy: 0.1755 - masked_rmse: 0.2247 - val_loss: 0.2014 - val_masked_cross_entropy: 0.1836 - val_masked_rmse: 0.2294\n",
            "Epoch 94/200\n",
            "19/19 [==============================] - 1s 53ms/step - loss: 0.1943 - masked_cross_entropy: 0.1758 - masked_rmse: 0.2251 - val_loss: 0.2019 - val_masked_cross_entropy: 0.1840 - val_masked_rmse: 0.2288\n",
            "Epoch 95/200\n",
            "19/19 [==============================] - 1s 54ms/step - loss: 0.1943 - masked_cross_entropy: 0.1756 - masked_rmse: 0.2250 - val_loss: 0.2012 - val_masked_cross_entropy: 0.1834 - val_masked_rmse: 0.2289\n",
            "Epoch 96/200\n",
            "19/19 [==============================] - 1s 53ms/step - loss: 0.1943 - masked_cross_entropy: 0.1757 - masked_rmse: 0.2251 - val_loss: 0.1996 - val_masked_cross_entropy: 0.1816 - val_masked_rmse: 0.2283\n",
            "Epoch 97/200\n",
            "19/19 [==============================] - 1s 63ms/step - loss: 0.1931 - masked_cross_entropy: 0.1746 - masked_rmse: 0.2242 - val_loss: 0.2003 - val_masked_cross_entropy: 0.1826 - val_masked_rmse: 0.2289\n",
            "Epoch 98/200\n",
            "19/19 [==============================] - 1s 59ms/step - loss: 0.1944 - masked_cross_entropy: 0.1759 - masked_rmse: 0.2253 - val_loss: 0.1983 - val_masked_cross_entropy: 0.1804 - val_masked_rmse: 0.2268\n",
            "Epoch 99/200\n",
            "19/19 [==============================] - 1s 55ms/step - loss: 0.1943 - masked_cross_entropy: 0.1753 - masked_rmse: 0.2245 - val_loss: 0.2034 - val_masked_cross_entropy: 0.1845 - val_masked_rmse: 0.2299\n",
            "Epoch 100/200\n",
            "19/19 [==============================] - 1s 57ms/step - loss: 0.1958 - masked_cross_entropy: 0.1758 - masked_rmse: 0.2249 - val_loss: 0.2021 - val_masked_cross_entropy: 0.1833 - val_masked_rmse: 0.2288\n",
            "Epoch 101/200\n",
            "19/19 [==============================] - 1s 58ms/step - loss: 0.1943 - masked_cross_entropy: 0.1749 - masked_rmse: 0.2245 - val_loss: 0.1991 - val_masked_cross_entropy: 0.1809 - val_masked_rmse: 0.2278\n",
            "Epoch 102/200\n",
            "19/19 [==============================] - 1s 58ms/step - loss: 0.1946 - masked_cross_entropy: 0.1756 - masked_rmse: 0.2249 - val_loss: 0.2025 - val_masked_cross_entropy: 0.1842 - val_masked_rmse: 0.2300\n",
            "Epoch 103/200\n",
            "19/19 [==============================] - 1s 56ms/step - loss: 0.1941 - masked_cross_entropy: 0.1752 - masked_rmse: 0.2247 - val_loss: 0.1999 - val_masked_cross_entropy: 0.1818 - val_masked_rmse: 0.2279\n",
            "Epoch 104/200\n",
            "19/19 [==============================] - 1s 57ms/step - loss: 0.1932 - masked_cross_entropy: 0.1743 - masked_rmse: 0.2240 - val_loss: 0.2051 - val_masked_cross_entropy: 0.1868 - val_masked_rmse: 0.2317\n",
            "Epoch 105/200\n",
            "19/19 [==============================] - 1s 53ms/step - loss: 0.1933 - masked_cross_entropy: 0.1740 - masked_rmse: 0.2240 - val_loss: 0.2020 - val_masked_cross_entropy: 0.1837 - val_masked_rmse: 0.2294\n",
            "Epoch 106/200\n",
            "19/19 [==============================] - 1s 57ms/step - loss: 0.1937 - masked_cross_entropy: 0.1747 - masked_rmse: 0.2245 - val_loss: 0.2020 - val_masked_cross_entropy: 0.1838 - val_masked_rmse: 0.2295\n",
            "Epoch 107/200\n",
            "19/19 [==============================] - 1s 56ms/step - loss: 0.1930 - masked_cross_entropy: 0.1740 - masked_rmse: 0.2238 - val_loss: 0.1990 - val_masked_cross_entropy: 0.1809 - val_masked_rmse: 0.2274\n",
            "Epoch 108/200\n",
            "19/19 [==============================] - 1s 53ms/step - loss: 0.1930 - masked_cross_entropy: 0.1741 - masked_rmse: 0.2237 - val_loss: 0.2005 - val_masked_cross_entropy: 0.1819 - val_masked_rmse: 0.2276\n",
            "Epoch 109/200\n",
            "19/19 [==============================] - 1s 58ms/step - loss: 0.1940 - masked_cross_entropy: 0.1738 - masked_rmse: 0.2235 - val_loss: 0.2007 - val_masked_cross_entropy: 0.1810 - val_masked_rmse: 0.2270\n",
            "Epoch 110/200\n",
            "19/19 [==============================] - 1s 55ms/step - loss: 0.1933 - masked_cross_entropy: 0.1732 - masked_rmse: 0.2235 - val_loss: 0.2009 - val_masked_cross_entropy: 0.1820 - val_masked_rmse: 0.2287\n",
            "Epoch 111/200\n",
            "19/19 [==============================] - 1s 53ms/step - loss: 0.1934 - masked_cross_entropy: 0.1740 - masked_rmse: 0.2239 - val_loss: 0.2014 - val_masked_cross_entropy: 0.1829 - val_masked_rmse: 0.2288\n",
            "Epoch 112/200\n",
            "19/19 [==============================] - 1s 54ms/step - loss: 0.1931 - masked_cross_entropy: 0.1739 - masked_rmse: 0.2240 - val_loss: 0.2018 - val_masked_cross_entropy: 0.1834 - val_masked_rmse: 0.2295\n",
            "Epoch 113/200\n",
            "19/19 [==============================] - 1s 53ms/step - loss: 0.1926 - masked_cross_entropy: 0.1735 - masked_rmse: 0.2235 - val_loss: 0.2002 - val_masked_cross_entropy: 0.1818 - val_masked_rmse: 0.2280\n",
            "Epoch 114/200\n",
            "19/19 [==============================] - 1s 54ms/step - loss: 0.1932 - masked_cross_entropy: 0.1739 - masked_rmse: 0.2240 - val_loss: 0.2017 - val_masked_cross_entropy: 0.1830 - val_masked_rmse: 0.2289\n",
            "Epoch 115/200\n",
            "19/19 [==============================] - 1s 55ms/step - loss: 0.1932 - masked_cross_entropy: 0.1736 - masked_rmse: 0.2236 - val_loss: 0.2020 - val_masked_cross_entropy: 0.1833 - val_masked_rmse: 0.2294\n",
            "Epoch 116/200\n",
            "19/19 [==============================] - 1s 53ms/step - loss: 0.1933 - masked_cross_entropy: 0.1739 - masked_rmse: 0.2238 - val_loss: 0.2004 - val_masked_cross_entropy: 0.1817 - val_masked_rmse: 0.2284\n",
            "Epoch 117/200\n",
            "19/19 [==============================] - 1s 56ms/step - loss: 0.1924 - masked_cross_entropy: 0.1729 - masked_rmse: 0.2230 - val_loss: 0.1982 - val_masked_cross_entropy: 0.1796 - val_masked_rmse: 0.2264\n",
            "Epoch 118/200\n",
            "19/19 [==============================] - 1s 53ms/step - loss: 0.1924 - masked_cross_entropy: 0.1728 - masked_rmse: 0.2231 - val_loss: 0.2025 - val_masked_cross_entropy: 0.1836 - val_masked_rmse: 0.2288\n",
            "Epoch 119/200\n",
            "19/19 [==============================] - 1s 61ms/step - loss: 0.1924 - masked_cross_entropy: 0.1727 - masked_rmse: 0.2231 - val_loss: 0.1981 - val_masked_cross_entropy: 0.1793 - val_masked_rmse: 0.2265\n",
            "Epoch 120/200\n",
            "19/19 [==============================] - 1s 55ms/step - loss: 0.1928 - masked_cross_entropy: 0.1731 - masked_rmse: 0.2233 - val_loss: 0.2022 - val_masked_cross_entropy: 0.1834 - val_masked_rmse: 0.2289\n",
            "Epoch 121/200\n",
            "19/19 [==============================] - 1s 54ms/step - loss: 0.1925 - masked_cross_entropy: 0.1729 - masked_rmse: 0.2231 - val_loss: 0.2003 - val_masked_cross_entropy: 0.1816 - val_masked_rmse: 0.2278\n",
            "Epoch 122/200\n",
            "19/19 [==============================] - 1s 56ms/step - loss: 0.1926 - masked_cross_entropy: 0.1730 - masked_rmse: 0.2233 - val_loss: 0.2018 - val_masked_cross_entropy: 0.1829 - val_masked_rmse: 0.2283\n",
            "Epoch 123/200\n",
            "19/19 [==============================] - 1s 54ms/step - loss: 0.1923 - masked_cross_entropy: 0.1727 - masked_rmse: 0.2230 - val_loss: 0.2020 - val_masked_cross_entropy: 0.1832 - val_masked_rmse: 0.2290\n",
            "Epoch 124/200\n",
            "19/19 [==============================] - 1s 55ms/step - loss: 0.1916 - masked_cross_entropy: 0.1721 - masked_rmse: 0.2226 - val_loss: 0.1997 - val_masked_cross_entropy: 0.1809 - val_masked_rmse: 0.2274\n",
            "Epoch 125/200\n",
            "19/19 [==============================] - 1s 59ms/step - loss: 0.1921 - masked_cross_entropy: 0.1725 - masked_rmse: 0.2227 - val_loss: 0.1996 - val_masked_cross_entropy: 0.1805 - val_masked_rmse: 0.2273\n",
            "Epoch 126/200\n",
            "19/19 [==============================] - 1s 51ms/step - loss: 0.1925 - masked_cross_entropy: 0.1726 - masked_rmse: 0.2229 - val_loss: 0.2014 - val_masked_cross_entropy: 0.1822 - val_masked_rmse: 0.2286\n",
            "Epoch 127/200\n",
            "19/19 [==============================] - 1s 54ms/step - loss: 0.1927 - masked_cross_entropy: 0.1727 - masked_rmse: 0.2231 - val_loss: 0.2021 - val_masked_cross_entropy: 0.1826 - val_masked_rmse: 0.2276\n",
            "Epoch 128/200\n",
            "19/19 [==============================] - 1s 54ms/step - loss: 0.1930 - masked_cross_entropy: 0.1725 - masked_rmse: 0.2229 - val_loss: 0.1999 - val_masked_cross_entropy: 0.1803 - val_masked_rmse: 0.2261\n",
            "Epoch 129/200\n",
            "19/19 [==============================] - 1s 52ms/step - loss: 0.1925 - masked_cross_entropy: 0.1721 - masked_rmse: 0.2226 - val_loss: 0.2038 - val_masked_cross_entropy: 0.1843 - val_masked_rmse: 0.2292\n",
            "Epoch 130/200\n",
            "19/19 [==============================] - 1s 56ms/step - loss: 0.1923 - masked_cross_entropy: 0.1719 - masked_rmse: 0.2225 - val_loss: 0.2016 - val_masked_cross_entropy: 0.1821 - val_masked_rmse: 0.2278\n",
            "Epoch 131/200\n",
            "19/19 [==============================] - 1s 54ms/step - loss: 0.1919 - masked_cross_entropy: 0.1718 - masked_rmse: 0.2224 - val_loss: 0.2000 - val_masked_cross_entropy: 0.1808 - val_masked_rmse: 0.2275\n",
            "Epoch 132/200\n",
            "19/19 [==============================] - 1s 54ms/step - loss: 0.1917 - masked_cross_entropy: 0.1718 - masked_rmse: 0.2226 - val_loss: 0.2010 - val_masked_cross_entropy: 0.1818 - val_masked_rmse: 0.2282\n",
            "Epoch 133/200\n",
            "19/19 [==============================] - 1s 54ms/step - loss: 0.1919 - masked_cross_entropy: 0.1718 - masked_rmse: 0.2225 - val_loss: 0.2017 - val_masked_cross_entropy: 0.1824 - val_masked_rmse: 0.2284\n",
            "Epoch 134/200\n",
            "19/19 [==============================] - 1s 54ms/step - loss: 0.1920 - masked_cross_entropy: 0.1719 - masked_rmse: 0.2226 - val_loss: 0.1983 - val_masked_cross_entropy: 0.1792 - val_masked_rmse: 0.2262\n",
            "Epoch 135/200\n",
            "19/19 [==============================] - 1s 54ms/step - loss: 0.1915 - masked_cross_entropy: 0.1715 - masked_rmse: 0.2223 - val_loss: 0.2003 - val_masked_cross_entropy: 0.1810 - val_masked_rmse: 0.2273\n",
            "Epoch 136/200\n",
            "19/19 [==============================] - 1s 54ms/step - loss: 0.1915 - masked_cross_entropy: 0.1714 - masked_rmse: 0.2221 - val_loss: 0.2022 - val_masked_cross_entropy: 0.1827 - val_masked_rmse: 0.2287\n",
            "Epoch 137/200\n",
            "19/19 [==============================] - 1s 56ms/step - loss: 0.1916 - masked_cross_entropy: 0.1714 - masked_rmse: 0.2222 - val_loss: 0.1993 - val_masked_cross_entropy: 0.1801 - val_masked_rmse: 0.2262\n",
            "Epoch 138/200\n",
            "19/19 [==============================] - 1s 54ms/step - loss: 0.1915 - masked_cross_entropy: 0.1712 - masked_rmse: 0.2221 - val_loss: 0.1992 - val_masked_cross_entropy: 0.1797 - val_masked_rmse: 0.2267\n",
            "Epoch 139/200\n",
            "19/19 [==============================] - 1s 57ms/step - loss: 0.1920 - masked_cross_entropy: 0.1718 - masked_rmse: 0.2223 - val_loss: 0.1991 - val_masked_cross_entropy: 0.1793 - val_masked_rmse: 0.2262\n",
            "Epoch 140/200\n",
            "19/19 [==============================] - 1s 60ms/step - loss: 0.1923 - masked_cross_entropy: 0.1718 - masked_rmse: 0.2224 - val_loss: 0.1980 - val_masked_cross_entropy: 0.1783 - val_masked_rmse: 0.2256\n",
            "Epoch 141/200\n",
            "19/19 [==============================] - 1s 58ms/step - loss: 0.1911 - masked_cross_entropy: 0.1709 - masked_rmse: 0.2219 - val_loss: 0.1970 - val_masked_cross_entropy: 0.1776 - val_masked_rmse: 0.2253\n",
            "Epoch 142/200\n",
            "19/19 [==============================] - 1s 57ms/step - loss: 0.1914 - masked_cross_entropy: 0.1712 - masked_rmse: 0.2220 - val_loss: 0.1989 - val_masked_cross_entropy: 0.1796 - val_masked_rmse: 0.2264\n",
            "Epoch 143/200\n",
            "19/19 [==============================] - 1s 55ms/step - loss: 0.1913 - masked_cross_entropy: 0.1711 - masked_rmse: 0.2221 - val_loss: 0.1980 - val_masked_cross_entropy: 0.1786 - val_masked_rmse: 0.2256\n",
            "Epoch 144/200\n",
            "19/19 [==============================] - 1s 54ms/step - loss: 0.1911 - masked_cross_entropy: 0.1708 - masked_rmse: 0.2220 - val_loss: 0.2008 - val_masked_cross_entropy: 0.1811 - val_masked_rmse: 0.2274\n",
            "Epoch 145/200\n",
            "19/19 [==============================] - 1s 56ms/step - loss: 0.1916 - masked_cross_entropy: 0.1712 - masked_rmse: 0.2219 - val_loss: 0.1984 - val_masked_cross_entropy: 0.1787 - val_masked_rmse: 0.2263\n",
            "Epoch 146/200\n",
            "19/19 [==============================] - 1s 55ms/step - loss: 0.1918 - masked_cross_entropy: 0.1713 - masked_rmse: 0.2221 - val_loss: 0.2003 - val_masked_cross_entropy: 0.1804 - val_masked_rmse: 0.2265\n",
            "Epoch 147/200\n",
            "19/19 [==============================] - 1s 53ms/step - loss: 0.1910 - masked_cross_entropy: 0.1705 - masked_rmse: 0.2214 - val_loss: 0.1983 - val_masked_cross_entropy: 0.1786 - val_masked_rmse: 0.2263\n",
            "Epoch 148/200\n",
            "19/19 [==============================] - 1s 57ms/step - loss: 0.1912 - masked_cross_entropy: 0.1705 - masked_rmse: 0.2217 - val_loss: 0.2023 - val_masked_cross_entropy: 0.1821 - val_masked_rmse: 0.2280\n",
            "Epoch 149/200\n",
            "19/19 [==============================] - 1s 60ms/step - loss: 0.1924 - masked_cross_entropy: 0.1715 - masked_rmse: 0.2222 - val_loss: 0.1998 - val_masked_cross_entropy: 0.1797 - val_masked_rmse: 0.2264\n",
            "Epoch 150/200\n",
            "19/19 [==============================] - 1s 52ms/step - loss: 0.1918 - masked_cross_entropy: 0.1712 - masked_rmse: 0.2221 - val_loss: 0.1984 - val_masked_cross_entropy: 0.1786 - val_masked_rmse: 0.2255\n",
            "Epoch 151/200\n",
            "19/19 [==============================] - 1s 54ms/step - loss: 0.1907 - masked_cross_entropy: 0.1703 - masked_rmse: 0.2213 - val_loss: 0.1994 - val_masked_cross_entropy: 0.1796 - val_masked_rmse: 0.2258\n",
            "Epoch 152/200\n",
            "19/19 [==============================] - 1s 58ms/step - loss: 0.1906 - masked_cross_entropy: 0.1696 - masked_rmse: 0.2209 - val_loss: 0.1986 - val_masked_cross_entropy: 0.1782 - val_masked_rmse: 0.2248\n",
            "Epoch 153/200\n",
            "19/19 [==============================] - 1s 53ms/step - loss: 0.1914 - masked_cross_entropy: 0.1705 - masked_rmse: 0.2217 - val_loss: 0.1980 - val_masked_cross_entropy: 0.1780 - val_masked_rmse: 0.2257\n",
            "Epoch 154/200\n",
            "19/19 [==============================] - 1s 56ms/step - loss: 0.1904 - masked_cross_entropy: 0.1696 - masked_rmse: 0.2210 - val_loss: 0.2013 - val_masked_cross_entropy: 0.1814 - val_masked_rmse: 0.2271\n",
            "Epoch 155/200\n",
            "19/19 [==============================] - 1s 55ms/step - loss: 0.1913 - masked_cross_entropy: 0.1707 - masked_rmse: 0.2218 - val_loss: 0.2002 - val_masked_cross_entropy: 0.1803 - val_masked_rmse: 0.2272\n",
            "Epoch 156/200\n",
            "19/19 [==============================] - 1s 54ms/step - loss: 0.1906 - masked_cross_entropy: 0.1699 - masked_rmse: 0.2212 - val_loss: 0.1985 - val_masked_cross_entropy: 0.1785 - val_masked_rmse: 0.2259\n",
            "Epoch 157/200\n",
            "19/19 [==============================] - 1s 54ms/step - loss: 0.1909 - masked_cross_entropy: 0.1701 - masked_rmse: 0.2213 - val_loss: 0.2004 - val_masked_cross_entropy: 0.1802 - val_masked_rmse: 0.2269\n",
            "Epoch 158/200\n",
            "19/19 [==============================] - 1s 55ms/step - loss: 0.1902 - masked_cross_entropy: 0.1691 - masked_rmse: 0.2205 - val_loss: 0.2021 - val_masked_cross_entropy: 0.1815 - val_masked_rmse: 0.2273\n",
            "Epoch 159/200\n",
            "19/19 [==============================] - 1s 54ms/step - loss: 0.1908 - masked_cross_entropy: 0.1694 - masked_rmse: 0.2207 - val_loss: 0.1992 - val_masked_cross_entropy: 0.1787 - val_masked_rmse: 0.2260\n",
            "Epoch 160/200\n",
            "19/19 [==============================] - 1s 55ms/step - loss: 0.1909 - masked_cross_entropy: 0.1696 - masked_rmse: 0.2209 - val_loss: 0.2009 - val_masked_cross_entropy: 0.1804 - val_masked_rmse: 0.2271\n",
            "Epoch 161/200\n",
            "19/19 [==============================] - 1s 54ms/step - loss: 0.1904 - masked_cross_entropy: 0.1695 - masked_rmse: 0.2208 - val_loss: 0.2001 - val_masked_cross_entropy: 0.1803 - val_masked_rmse: 0.2272\n",
            "Epoch 162/200\n",
            "19/19 [==============================] - 1s 55ms/step - loss: 0.1908 - masked_cross_entropy: 0.1700 - masked_rmse: 0.2214 - val_loss: 0.2000 - val_masked_cross_entropy: 0.1798 - val_masked_rmse: 0.2257\n",
            "Epoch 163/200\n",
            "19/19 [==============================] - 1s 53ms/step - loss: 0.1908 - masked_cross_entropy: 0.1697 - masked_rmse: 0.2210 - val_loss: 0.1986 - val_masked_cross_entropy: 0.1783 - val_masked_rmse: 0.2259\n",
            "Epoch 164/200\n",
            "19/19 [==============================] - 1s 56ms/step - loss: 0.1908 - masked_cross_entropy: 0.1696 - masked_rmse: 0.2210 - val_loss: 0.1979 - val_masked_cross_entropy: 0.1775 - val_masked_rmse: 0.2247\n",
            "Epoch 165/200\n",
            "19/19 [==============================] - 1s 53ms/step - loss: 0.1909 - masked_cross_entropy: 0.1698 - masked_rmse: 0.2211 - val_loss: 0.1987 - val_masked_cross_entropy: 0.1782 - val_masked_rmse: 0.2254\n",
            "Epoch 166/200\n",
            "19/19 [==============================] - 1s 54ms/step - loss: 0.1903 - masked_cross_entropy: 0.1691 - masked_rmse: 0.2208 - val_loss: 0.1991 - val_masked_cross_entropy: 0.1787 - val_masked_rmse: 0.2260\n",
            "Epoch 167/200\n",
            "19/19 [==============================] - 1s 54ms/step - loss: 0.1906 - masked_cross_entropy: 0.1697 - masked_rmse: 0.2211 - val_loss: 0.2006 - val_masked_cross_entropy: 0.1805 - val_masked_rmse: 0.2267\n",
            "Epoch 168/200\n",
            "19/19 [==============================] - 1s 53ms/step - loss: 0.1905 - masked_cross_entropy: 0.1696 - masked_rmse: 0.2209 - val_loss: 0.1983 - val_masked_cross_entropy: 0.1778 - val_masked_rmse: 0.2248\n",
            "Epoch 169/200\n",
            "19/19 [==============================] - 1s 61ms/step - loss: 0.1907 - masked_cross_entropy: 0.1695 - masked_rmse: 0.2208 - val_loss: 0.1990 - val_masked_cross_entropy: 0.1786 - val_masked_rmse: 0.2250\n",
            "Epoch 170/200\n",
            "19/19 [==============================] - 1s 57ms/step - loss: 0.1900 - masked_cross_entropy: 0.1689 - masked_rmse: 0.2206 - val_loss: 0.2008 - val_masked_cross_entropy: 0.1804 - val_masked_rmse: 0.2262\n",
            "Epoch 171/200\n",
            "19/19 [==============================] - 1s 54ms/step - loss: 0.1902 - masked_cross_entropy: 0.1691 - masked_rmse: 0.2205 - val_loss: 0.1982 - val_masked_cross_entropy: 0.1778 - val_masked_rmse: 0.2252\n",
            "Epoch 172/200\n",
            "19/19 [==============================] - 1s 56ms/step - loss: 0.1907 - masked_cross_entropy: 0.1694 - masked_rmse: 0.2207 - val_loss: 0.2004 - val_masked_cross_entropy: 0.1798 - val_masked_rmse: 0.2264\n",
            "Epoch 173/200\n",
            "19/19 [==============================] - 1s 55ms/step - loss: 0.1907 - masked_cross_entropy: 0.1694 - masked_rmse: 0.2207 - val_loss: 0.1995 - val_masked_cross_entropy: 0.1788 - val_masked_rmse: 0.2257\n",
            "Epoch 174/200\n",
            "19/19 [==============================] - 1s 55ms/step - loss: 0.1906 - masked_cross_entropy: 0.1691 - masked_rmse: 0.2206 - val_loss: 0.1987 - val_masked_cross_entropy: 0.1781 - val_masked_rmse: 0.2256\n",
            "Epoch 175/200\n",
            "19/19 [==============================] - 1s 59ms/step - loss: 0.1900 - masked_cross_entropy: 0.1688 - masked_rmse: 0.2205 - val_loss: 0.1995 - val_masked_cross_entropy: 0.1791 - val_masked_rmse: 0.2262\n",
            "Epoch 176/200\n",
            "19/19 [==============================] - 1s 54ms/step - loss: 0.1902 - masked_cross_entropy: 0.1691 - masked_rmse: 0.2208 - val_loss: 0.1995 - val_masked_cross_entropy: 0.1791 - val_masked_rmse: 0.2264\n",
            "Epoch 177/200\n",
            "19/19 [==============================] - 1s 54ms/step - loss: 0.1898 - masked_cross_entropy: 0.1685 - masked_rmse: 0.2202 - val_loss: 0.1999 - val_masked_cross_entropy: 0.1793 - val_masked_rmse: 0.2262\n",
            "Epoch 178/200\n",
            "19/19 [==============================] - 1s 56ms/step - loss: 0.1900 - masked_cross_entropy: 0.1685 - masked_rmse: 0.2202 - val_loss: 0.1991 - val_masked_cross_entropy: 0.1783 - val_masked_rmse: 0.2253\n",
            "Epoch 179/200\n",
            "19/19 [==============================] - 1s 56ms/step - loss: 0.1899 - masked_cross_entropy: 0.1685 - masked_rmse: 0.2201 - val_loss: 0.2012 - val_masked_cross_entropy: 0.1805 - val_masked_rmse: 0.2268\n",
            "Epoch 180/200\n",
            "19/19 [==============================] - 1s 55ms/step - loss: 0.1892 - masked_cross_entropy: 0.1678 - masked_rmse: 0.2198 - val_loss: 0.1987 - val_masked_cross_entropy: 0.1782 - val_masked_rmse: 0.2245\n",
            "Epoch 181/200\n",
            "19/19 [==============================] - 1s 55ms/step - loss: 0.1905 - masked_cross_entropy: 0.1692 - masked_rmse: 0.2207 - val_loss: 0.1975 - val_masked_cross_entropy: 0.1768 - val_masked_rmse: 0.2245\n",
            "Epoch 182/200\n",
            "19/19 [==============================] - 1s 56ms/step - loss: 0.1905 - masked_cross_entropy: 0.1689 - masked_rmse: 0.2203 - val_loss: 0.1977 - val_masked_cross_entropy: 0.1765 - val_masked_rmse: 0.2249\n",
            "Epoch 183/200\n",
            "19/19 [==============================] - 1s 53ms/step - loss: 0.1902 - masked_cross_entropy: 0.1680 - masked_rmse: 0.2200 - val_loss: 0.2000 - val_masked_cross_entropy: 0.1786 - val_masked_rmse: 0.2252\n",
            "Epoch 184/200\n",
            "19/19 [==============================] - 1s 55ms/step - loss: 0.1905 - masked_cross_entropy: 0.1685 - masked_rmse: 0.2203 - val_loss: 0.1989 - val_masked_cross_entropy: 0.1779 - val_masked_rmse: 0.2254\n",
            "Epoch 185/200\n",
            "19/19 [==============================] - 1s 54ms/step - loss: 0.1900 - masked_cross_entropy: 0.1682 - masked_rmse: 0.2200 - val_loss: 0.1999 - val_masked_cross_entropy: 0.1790 - val_masked_rmse: 0.2259\n",
            "Epoch 186/200\n",
            "19/19 [==============================] - 1s 54ms/step - loss: 0.1894 - masked_cross_entropy: 0.1678 - masked_rmse: 0.2199 - val_loss: 0.2008 - val_masked_cross_entropy: 0.1801 - val_masked_rmse: 0.2264\n",
            "Epoch 187/200\n",
            "19/19 [==============================] - 1s 55ms/step - loss: 0.1894 - masked_cross_entropy: 0.1678 - masked_rmse: 0.2200 - val_loss: 0.1979 - val_masked_cross_entropy: 0.1772 - val_masked_rmse: 0.2249\n",
            "Epoch 188/200\n",
            "19/19 [==============================] - 1s 56ms/step - loss: 0.1901 - masked_cross_entropy: 0.1686 - masked_rmse: 0.2205 - val_loss: 0.2006 - val_masked_cross_entropy: 0.1797 - val_masked_rmse: 0.2259\n",
            "Epoch 189/200\n",
            "19/19 [==============================] - 1s 56ms/step - loss: 0.1898 - masked_cross_entropy: 0.1680 - masked_rmse: 0.2200 - val_loss: 0.1999 - val_masked_cross_entropy: 0.1790 - val_masked_rmse: 0.2262\n",
            "Epoch 190/200\n",
            "19/19 [==============================] - 1s 56ms/step - loss: 0.1897 - masked_cross_entropy: 0.1682 - masked_rmse: 0.2199 - val_loss: 0.1993 - val_masked_cross_entropy: 0.1786 - val_masked_rmse: 0.2260\n",
            "Epoch 191/200\n",
            "19/19 [==============================] - 1s 57ms/step - loss: 0.1905 - masked_cross_entropy: 0.1689 - masked_rmse: 0.2207 - val_loss: 0.2000 - val_masked_cross_entropy: 0.1790 - val_masked_rmse: 0.2256\n",
            "Epoch 00191: early stopping\n",
            "CPU times: user 3min 43s, sys: 10.7 s, total: 3min 53s\n",
            "Wall time: 3min 26s\n"
          ],
          "name": "stdout"
        }
      ]
    },
    {
      "cell_type": "code",
      "metadata": {
        "id": "25rNsyqNr1qi",
        "outputId": "3809812f-f34b-4720-e5d8-80df26157a3e",
        "colab": {
          "base_uri": "https://localhost:8080/",
          "height": 300
        }
      },
      "source": [
        "show_history(hist, 'loss', 'masked_cross_entropy')"
      ],
      "execution_count": 20,
      "outputs": [
        {
          "output_type": "display_data",
          "data": {
            "image/png": "[encoded data removed]",
            "text/plain": [
              "<Figure size 864x288 with 2 Axes>"
            ]
          },
          "metadata": {
            "tags": [],
            "needs_background": "light"
          }
        }
      ]
    },
    {
      "cell_type": "code",
      "metadata": {
        "id": "S1D4m0ZRwo4K",
        "outputId": "5ee3f16f-75f4-46b1-8a1c-412c838476b2",
        "colab": {
          "base_uri": "https://localhost:8080/"
        }
      },
      "source": [
        "pred = make_predictor(test_q, model, n_item, batch_size)\n",
        "pred"
      ],
      "execution_count": 21,
      "outputs": [
        {
          "output_type": "execute_result",
          "data": {
            "text/plain": [
              "array([[ 171,  547,  729, ...,  109, 1613,  116],\n",
              "       [  84,  547,  124, ...,  642,  206,  134],\n",
              "       [ 960,  585,  766, ...,  199,  184,  124],\n",
              "       ...,\n",
              "       [ 426,   22,  385, ...,  264,  642,  566],\n",
              "       [  64,   92,   97, ...,  213,  139,  216],\n",
              "       [  77,  743, 1008, ...,  431, 1195, 1004]])"
            ]
          },
          "metadata": {
            "tags": []
          },
          "execution_count": 21
        }
      ]
    },
    {
      "cell_type": "code",
      "metadata": {
        "id": "yWiJRGXgSJPo"
      },
      "source": [
        "def evaluator(true: pd.DataFrame, pred):\n",
        "    m_ndcg = 0\n",
        "    m_recall = 0\n",
        "    m_precision = 0\n",
        "    map_k = 0\n",
        "    for i in range(len(pred)):\n",
        "        rec = pred[i]\n",
        "        gt = true.at[i, 'movieId']\n",
        "        m_ndcg += ndcg(gt, rec)\n",
        "        m_recall += recall(gt, rec)\n",
        "        m_precision += precision(gt, rec)\n",
        "        map_k += AP_k(gt, rec)\n",
        "    m_ndcg /= len(pred)\n",
        "    m_recall /= len(pred)\n",
        "    m_precision /= len(pred)\n",
        "    map_k /= len(pred)\n",
        "    return m_ndcg, m_recall, m_precision, map_k"
      ],
      "execution_count": 26,
      "outputs": []
    },
    {
      "cell_type": "code",
      "metadata": {
        "id": "oPdmwAXbHm7w",
        "outputId": "5d169a61-29c3-4d26-baf2-70d9d230b665",
        "colab": {
          "base_uri": "https://localhost:8080/"
        }
      },
      "source": [
        "m_ndcg, m_recall, m_precision, map_k = evaluator(test_a, pred)\n",
        "print(f'nDCG: {m_ndcg:.5f}',\n",
        "      f'\\nRecall: {m_recall:.5f}',\n",
        "      f'\\nPrecision: {m_precision:.5f}',\n",
        "      f'\\nMAP: {map_k:.5f}')"
      ],
      "execution_count": 27,
      "outputs": [
        {
          "output_type": "stream",
          "text": [
            "nDCG: 0.20652 \n",
            "Recall: 0.23211 \n",
            "Precision: 0.17889 \n",
            "MAP: 0.14838\n"
          ],
          "name": "stdout"
        }
      ]
    }
  ]
}