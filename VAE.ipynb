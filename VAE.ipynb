{
  "nbformat": 4,
  "nbformat_minor": 0,
  "metadata": {
    "colab": {
      "name": "VAE.ipynb",
      "provenance": [],
      "collapsed_sections": []
    },
    "kernelspec": {
      "name": "python3",
      "display_name": "Python 3"
    },
    "accelerator": "GPU"
  },
  "cells": [
    {
      "cell_type": "markdown",
      "metadata": {
        "id": "viikY8IQdVTY"
      },
      "source": [
        "# Mult-VAE\n",
        "\n",
        "- [Variational Autoencoders for Collaborative Filtering](https://arxiv.org/pdf/1802.05814.pdf)\n",
        "\n",
        "# CVAE\n",
        "\n",
        "- [Collaborative Variational Autoencoder for Recommender Systems\n",
        "](http://cseweb.ucsd.edu/classes/fa17/cse291-b/reading/p305-li.pdf)\n",
        "\n",
        "# RecVAE\n",
        "- [RecVAE: a New Variational Autoencoder for Top-N Recommendations with Implicit Feedback](https://arxiv.org/pdf/1912.11160.pdf)\n",
        "\n",
        "## Experiment"
      ]
    },
    {
      "cell_type": "code",
      "metadata": {
        "id": "M8FDcw4rVboe"
      },
      "source": [
        "import glob\n",
        "import numpy as np\n",
        "import pandas as pd\n",
        "from typing import Callable, Tuple\n",
        "\n",
        "import seaborn as sns\n",
        "import matplotlib.pyplot as plt\n",
        "%matplotlib inline\n",
        "plt.style.use('bmh')\n",
        "\n",
        "from sklearn.model_selection import train_test_split, KFold\n",
        "\n",
        "import tensorflow as tf\n",
        "import tensorflow.keras.backend as K\n",
        "from tensorflow.keras.layers import Layer, Input, Reshape, Dense, Dropout, Embedding, Flatten, concatenate\n",
        "from tensorflow.keras.models import Model, load_model\n",
        "from tensorflow.keras.callbacks import ModelCheckpoint, EarlyStopping\n",
        "from tensorflow.keras.optimizers import SGD, RMSprop, Adam\n",
        "from tensorflow.keras.optimizers.schedules import ExponentialDecay\n",
        "from tensorflow.keras.initializers import TruncatedNormal, RandomNormal\n",
        "from tensorflow.keras.regularizers import l2\n",
        "\n",
        "from tensorflow.keras.utils import get_file\n",
        "import zipfile"
      ],
      "execution_count": 83,
      "outputs": []
    },
    {
      "cell_type": "code",
      "metadata": {
        "id": "sdjqodyYVf9I"
      },
      "source": [
        "def load_data(data_size : str) -> pd.DataFrame:\n",
        "    ''' load Movie Lens data '''\n",
        "    if data_size == '100k':\n",
        "        file = get_file('ml-100k.zip', 'http://files.grouplens.org/datasets/movielens/ml-100k.zip')\n",
        "        file_name = 'ml-100k/*'\n",
        "    elif data_size == '1m':\n",
        "        file = get_file('ml-1m.zip', 'http://files.grouplens.org/datasets/movielens/ml-1m.zip')\n",
        "        file_name = 'ml-1m/ratings.dat'\n",
        "    elif data_size == '10m':\n",
        "        file = get_file('ml-10m.zip', 'http://files.grouplens.org/datasets/movielens/ml-10m.zip')\n",
        "        file_name = 'ml-10M100K/ratings.dat'\n",
        "    elif data_size == '20m':\n",
        "        file = get_file('ml-20m.zip', 'http://files.grouplens.org/datasets/movielens/ml-20m.zip')\n",
        "        file_name = 'ml-20m/ratings.csv'\n",
        "    zip_ref = zipfile.ZipFile(file, 'r')\n",
        "    zip_ref.extractall()\n",
        "\n",
        "    col_names = ['userId', 'movieId', 'rating', 'timestamp']\n",
        "    ratings = pd.read_csv(file_name, sep = '|', delimiter = '::', names = col_names, engine = 'python')\n",
        "    print(ratings.shape)\n",
        "    return ratings"
      ],
      "execution_count": 84,
      "outputs": []
    },
    {
      "cell_type": "code",
      "metadata": {
        "id": "RZf8Gzf0VhYV",
        "outputId": "2257969c-1eda-4b43-8ae5-85e2f8789654",
        "colab": {
          "base_uri": "https://localhost:8080/",
          "height": 222
        }
      },
      "source": [
        "ratings = load_data('1m')\n",
        "ratings.head()"
      ],
      "execution_count": 85,
      "outputs": [
        {
          "output_type": "stream",
          "text": [
            "(1000209, 4)\n"
          ],
          "name": "stdout"
        },
        {
          "output_type": "execute_result",
          "data": {
            "text/html": [
              "<div>\n",
              "<style scoped>\n",
              "    .dataframe tbody tr th:only-of-type {\n",
              "        vertical-align: middle;\n",
              "    }\n",
              "\n",
              "    .dataframe tbody tr th {\n",
              "        vertical-align: top;\n",
              "    }\n",
              "\n",
              "    .dataframe thead th {\n",
              "        text-align: right;\n",
              "    }\n",
              "</style>\n",
              "<table border=\"1\" class=\"dataframe\">\n",
              "  <thead>\n",
              "    <tr style=\"text-align: right;\">\n",
              "      <th></th>\n",
              "      <th>userId</th>\n",
              "      <th>movieId</th>\n",
              "      <th>rating</th>\n",
              "      <th>timestamp</th>\n",
              "    </tr>\n",
              "  </thead>\n",
              "  <tbody>\n",
              "    <tr>\n",
              "      <th>0</th>\n",
              "      <td>1</td>\n",
              "      <td>1193</td>\n",
              "      <td>5</td>\n",
              "      <td>978300760</td>\n",
              "    </tr>\n",
              "    <tr>\n",
              "      <th>1</th>\n",
              "      <td>1</td>\n",
              "      <td>661</td>\n",
              "      <td>3</td>\n",
              "      <td>978302109</td>\n",
              "    </tr>\n",
              "    <tr>\n",
              "      <th>2</th>\n",
              "      <td>1</td>\n",
              "      <td>914</td>\n",
              "      <td>3</td>\n",
              "      <td>978301968</td>\n",
              "    </tr>\n",
              "    <tr>\n",
              "      <th>3</th>\n",
              "      <td>1</td>\n",
              "      <td>3408</td>\n",
              "      <td>4</td>\n",
              "      <td>978300275</td>\n",
              "    </tr>\n",
              "    <tr>\n",
              "      <th>4</th>\n",
              "      <td>1</td>\n",
              "      <td>2355</td>\n",
              "      <td>5</td>\n",
              "      <td>978824291</td>\n",
              "    </tr>\n",
              "  </tbody>\n",
              "</table>\n",
              "</div>"
            ],
            "text/plain": [
              "   userId  movieId  rating  timestamp\n",
              "0       1     1193       5  978300760\n",
              "1       1      661       3  978302109\n",
              "2       1      914       3  978301968\n",
              "3       1     3408       4  978300275\n",
              "4       1     2355       5  978824291"
            ]
          },
          "metadata": {
            "tags": []
          },
          "execution_count": 85
        }
      ]
    },
    {
      "cell_type": "markdown",
      "metadata": {
        "id": "tGuhgUB67uKF"
      },
      "source": [
        "## 1. Data Preprocessing"
      ]
    },
    {
      "cell_type": "code",
      "metadata": {
        "id": "oU_B2Cc6MYyt"
      },
      "source": [
        "def preprocessing(df: pd.DataFrame, threshold = 3.5) -> pd.DataFrame:\n",
        "    df = df[df.rating > threshold]\n",
        "    more_than_4 = df.groupby('userId')['movieId'].nunique()\n",
        "    more_than_4 = more_than_4.index[more_than_4 > 4]\n",
        "    df = df[df.userId.isin(more_than_4)]\n",
        "    return df.reset_index(drop = True)"
      ],
      "execution_count": 86,
      "outputs": []
    },
    {
      "cell_type": "code",
      "metadata": {
        "id": "Q61otQWA3tFe",
        "outputId": "16b4cf1a-16d4-4121-86da-5a51bb3c0d44",
        "colab": {
          "base_uri": "https://localhost:8080/",
          "height": 53
        }
      },
      "source": [
        "idx_user_map = ratings.userId.unique()\n",
        "user_idx_map = {e: i for i, e in enumerate(idx_user_map)}\n",
        "n_user = idx_user_map.shape[0]\n",
        "print(f'# of user = {n_user}')\n",
        "\n",
        "idx_item_map = ratings.movieId.unique()\n",
        "item_idx_map = {e: i for i, e in enumerate(idx_item_map)}\n",
        "n_item = idx_item_map.shape[0]\n",
        "print(f'# of item = {n_item}')"
      ],
      "execution_count": 87,
      "outputs": [
        {
          "output_type": "stream",
          "text": [
            "# of user = 6040\n",
            "# of item = 3706\n"
          ],
          "name": "stdout"
        }
      ]
    },
    {
      "cell_type": "code",
      "metadata": {
        "id": "QJvVnvKX3uNv"
      },
      "source": [
        "def Id2idx(df: pd.DataFrame) -> pd.DataFrame:\n",
        "    return df.assign(userId = lambda x: x.userId.map(user_idx_map), \n",
        "                     movieId = lambda x: x.movieId.map(item_idx_map))\n",
        "\n",
        "def idx2Id(df: pd.DataFrame) -> pd.DataFrame:\n",
        "    return df.assign(userId = lambda x: x.userId.apply(lambda x: idx_user_map[x]), \n",
        "                     movieId = lambda x: x.movieId.apply(lambda x: idx_item_map[x]))"
      ],
      "execution_count": 88,
      "outputs": []
    },
    {
      "cell_type": "code",
      "metadata": {
        "id": "bS1B1fPw3whx",
        "outputId": "0ed0dc76-a131-45cb-e84a-d6816d12aeb7",
        "colab": {
          "base_uri": "https://localhost:8080/",
          "height": 222
        }
      },
      "source": [
        "ratings = preprocessing(ratings)\n",
        "ratings = Id2idx(ratings)\n",
        "\n",
        "print(ratings.shape)\n",
        "ratings.head(5)"
      ],
      "execution_count": 89,
      "outputs": [
        {
          "output_type": "stream",
          "text": [
            "(575272, 4)\n"
          ],
          "name": "stdout"
        },
        {
          "output_type": "execute_result",
          "data": {
            "text/html": [
              "<div>\n",
              "<style scoped>\n",
              "    .dataframe tbody tr th:only-of-type {\n",
              "        vertical-align: middle;\n",
              "    }\n",
              "\n",
              "    .dataframe tbody tr th {\n",
              "        vertical-align: top;\n",
              "    }\n",
              "\n",
              "    .dataframe thead th {\n",
              "        text-align: right;\n",
              "    }\n",
              "</style>\n",
              "<table border=\"1\" class=\"dataframe\">\n",
              "  <thead>\n",
              "    <tr style=\"text-align: right;\">\n",
              "      <th></th>\n",
              "      <th>userId</th>\n",
              "      <th>movieId</th>\n",
              "      <th>rating</th>\n",
              "      <th>timestamp</th>\n",
              "    </tr>\n",
              "  </thead>\n",
              "  <tbody>\n",
              "    <tr>\n",
              "      <th>0</th>\n",
              "      <td>0</td>\n",
              "      <td>0</td>\n",
              "      <td>5</td>\n",
              "      <td>978300760</td>\n",
              "    </tr>\n",
              "    <tr>\n",
              "      <th>1</th>\n",
              "      <td>0</td>\n",
              "      <td>3</td>\n",
              "      <td>4</td>\n",
              "      <td>978300275</td>\n",
              "    </tr>\n",
              "    <tr>\n",
              "      <th>2</th>\n",
              "      <td>0</td>\n",
              "      <td>4</td>\n",
              "      <td>5</td>\n",
              "      <td>978824291</td>\n",
              "    </tr>\n",
              "    <tr>\n",
              "      <th>3</th>\n",
              "      <td>0</td>\n",
              "      <td>6</td>\n",
              "      <td>5</td>\n",
              "      <td>978302039</td>\n",
              "    </tr>\n",
              "    <tr>\n",
              "      <th>4</th>\n",
              "      <td>0</td>\n",
              "      <td>7</td>\n",
              "      <td>5</td>\n",
              "      <td>978300719</td>\n",
              "    </tr>\n",
              "  </tbody>\n",
              "</table>\n",
              "</div>"
            ],
            "text/plain": [
              "   userId  movieId  rating  timestamp\n",
              "0       0        0       5  978300760\n",
              "1       0        3       4  978300275\n",
              "2       0        4       5  978824291\n",
              "3       0        6       5  978302039\n",
              "4       0        7       5  978300719"
            ]
          },
          "metadata": {
            "tags": []
          },
          "execution_count": 89
        }
      ]
    },
    {
      "cell_type": "code",
      "metadata": {
        "id": "EO0a_3NEFstw"
      },
      "source": [
        "def make_interaction(df: pd.DataFrame) -> pd.DataFrame:\n",
        "    return df.groupby('userId', as_index = False)[['movieId', 'rating']].agg(list)\n",
        "\n",
        "def data_split(df: pd.DataFrame, test_size = 0.2) -> pd.DataFrame:\n",
        "    train_user, test_user = train_test_split(ratings.userId.unique(), test_size = test_size, random_state = 7777)\n",
        "    valid_user, test_user = train_test_split(test_user, test_size = 0.5, shuffle = False, random_state = 5555)\n",
        "\n",
        "    train, valid, test = map(lambda x: df[df.userId.isin(x)], (train_user, valid_user, test_user))\n",
        "    train, valid, test = map(lambda df: df.reset_index(drop = True), (train, valid, test))\n",
        "    return train, valid, test\n",
        "\n",
        "def make_evaluation(df: pd.DataFrame, eval_size = 0.2) -> pd.DataFrame:\n",
        "    query, answer = train_test_split(df, test_size = eval_size, stratify = df.userId, random_state = 7777)\n",
        "    query, answer = map(lambda df: df.reset_index(drop = True), (query, answer))\n",
        "    return query, answer"
      ],
      "execution_count": 90,
      "outputs": []
    },
    {
      "cell_type": "code",
      "metadata": {
        "id": "ZLAac2E-Bv1u"
      },
      "source": [
        "def make_generator(df: pd.DataFrame,\n",
        "                   n_item: int,\n",
        "                   batch_size: int,\n",
        "                   implicit = False,\n",
        "                   threshold = 3.5,\n",
        "                   user_specific = True,\n",
        "                   corruption = 0.4,\n",
        "                   negative_sampling = 5) -> Tuple[np.array, Tuple[np.array, np.array]]:\n",
        "\n",
        "    n_row = df.index.size\n",
        "    n_col = n_item\n",
        "\n",
        "    Ids = np.arange(n_row)\n",
        "    profile = df['movieId']\n",
        "    rating = df['rating'] if not implicit else df['rating'].apply(lambda x: [1 if r > threshold else 0 for r in x])\n",
        "\n",
        "    n_batch = int(np.ceil(n_row / batch_size))\n",
        "    while True:\n",
        "        np.random.shuffle(Ids)\n",
        "        \n",
        "        for batch_step in range(n_batch):\n",
        "            lower = batch_step * batch_size\n",
        "            upper = lower + batch_size\n",
        "            \n",
        "            batch_Id = Ids[lower: upper]\n",
        "            batch = np.zeros(shape = (batch_Id.size, n_col))\n",
        "            for i, idx in enumerate(batch_Id):\n",
        "                pos = np.array(profile[idx])\n",
        "                NS = len(pos) * negative_sampling\n",
        "                neg = np.random.choice(np.delete(np.arange(n_col), pos), NS)\n",
        "\n",
        "                batch[i, pos] = rating[idx]\n",
        "                batch[i, neg] = np.finfo(float).eps\n",
        "            \n",
        "            yield batch, batch"
      ],
      "execution_count": 92,
      "outputs": []
    },
    {
      "cell_type": "code",
      "metadata": {
        "id": "nNPv41eMBv1v"
      },
      "source": [
        "def masked_mae(y_true: np.array, y_pred: np.array, masked_value = 0) -> tf.Tensor:\n",
        "    mask_true = tf.cast(tf.not_equal(y_true, masked_value), dtype = 'float32')\n",
        "    masked_ae = K.abs(mask_true * (y_true - y_pred))\n",
        "    return K.sum(masked_ae, axis = -1) / K.sum(mask_true, axis = -1)\n",
        "\n",
        "def masked_rmse(y_true: np.array, y_pred: np.array, masked_value = 0) -> tf.Tensor:\n",
        "    mask_true = K.cast(K.not_equal(y_true, masked_value), dtype = 'float32')\n",
        "    masked_se = K.square(mask_true * (y_true - y_pred))\n",
        "    masked_mse = K.sum(masked_se, axis = -1) / K.sum(mask_true, axis = -1)\n",
        "    return K.sqrt(masked_mse)\n",
        "   \n",
        "def masked_cross_entropy(y_true: np.array, y_pred: np.array, masked_value = 0) -> tf.Tensor:\n",
        "    mask_true = K.cast(K.not_equal(y_true, masked_value), dtype = 'float32')\n",
        "    ce = y_true * K.log(y_pred + K.epsilon()) + (1 - y_true) * K.log(1 - y_pred + K.epsilon())\n",
        "    masked_ce = mask_true * ce\n",
        "    return -K.sum(masked_ce, axis = -1) / K.sum(mask_true, axis = -1)"
      ],
      "execution_count": 93,
      "outputs": []
    },
    {
      "cell_type": "code",
      "metadata": {
        "id": "e8nTDPrt5-qb"
      },
      "source": [
        "class Sampling(Layer):\n",
        "    def call(self, inputs):\n",
        "        z_mean, z_log_var = inputs\n",
        "        batch = tf.shape(z_mean)[0]\n",
        "        dim = tf.shape(z_mean)[1]\n",
        "        return z_mean + K.exp(0.5 * z_log_var) * K.random_normal(shape=(batch, dim))"
      ],
      "execution_count": 94,
      "outputs": []
    },
    {
      "cell_type": "code",
      "metadata": {
        "id": "itq0naTIVQ-n"
      },
      "source": [
        "def VAE(n_user: int,\n",
        "        n_item: int,\n",
        "        latent_dim = 200,\n",
        "        activation = 'selu',\n",
        "        optimizer = 'adam',\n",
        "        learning_rate = 0.001,\n",
        "        kernel_initializer = None,\n",
        "        kernel_regularizer = None) -> Callable:\n",
        "\n",
        "    if not kernel_initializer:\n",
        "        kernel_initializer = RandomNormal(mean = 0.0, stddev = 0.05, seed = None)\n",
        "    if not kernel_regularizer:\n",
        "        kernel_regularizer = l2(0.0001)\n",
        "    \n",
        "    inputs = x = Input(shape = (n_item, ), name = 'input')\n",
        "    x = Dense(600, activation = activation, kernel_initializer = kernel_initializer, kernel_regularizer = kernel_regularizer, name = 'hidden_1')(x)\n",
        "    z_mean = Dense(latent_dim, activation = activation, kernel_initializer = kernel_initializer, kernel_regularizer = kernel_regularizer, name = 'mean')(x)\n",
        "    z_log_var = Dense(latent_dim, activation = activation, kernel_initializer = kernel_initializer, kernel_regularizer = kernel_regularizer, name = 'log_var')(x)\n",
        "    z = y = Sampling()([z_mean, z_log_var])\n",
        "    y = Dense(600, activation = activation, kernel_initializer = kernel_initializer, kernel_regularizer = kernel_regularizer, name = 'hidden_2')(y)\n",
        "    outputs = Dense(n_item, activation = 'sigmoid')(y)\n",
        "\n",
        "    model = Model(inputs = inputs, outputs = outputs)\n",
        "    latent_loss = -0.5 * K.sum(1 + z_log_var - K.exp(z_log_var) - K.square(z_mean), axis = -1)\n",
        "    model.add_loss(K.mean(latent_loss) / n_item)\n",
        "    \n",
        "    model.compile(optimizer = optimizer, loss = masked_cross_entropy, metrics = [masked_cross_entropy, masked_rmse])\n",
        "    return model"
      ],
      "execution_count": 110,
      "outputs": []
    },
    {
      "cell_type": "code",
      "metadata": {
        "id": "l_iq0KOti83r"
      },
      "source": [
        "def make_predictor(df: pd.DataFrame, \n",
        "                   model: Callable, \n",
        "                   n_item: int, \n",
        "                   batch_size: int, \n",
        "                   implicit = True,\n",
        "                   threshold = 3.5,\n",
        "                   top_N = 20) -> float:\n",
        "\n",
        "    n_row = df.index.size\n",
        "    n_col = n_item\n",
        "\n",
        "    Ids = np.arange(n_row)\n",
        "    profile = df['movieId']\n",
        "    rating = df['rating'] if not implicit else df['rating'].apply(lambda x: [1 if r > threshold else 0 for r in x])\n",
        "\n",
        "    res = []\n",
        "    steps = int(np.ceil(n_row / batch_size))\n",
        "    for batch_step in range(steps):\n",
        "        lower = batch_step * batch_size\n",
        "        upper = lower + batch_size\n",
        "\n",
        "        batch_Id = Ids[lower: upper]\n",
        "        y_true = np.zeros(shape = (batch_Id.size, n_col))\n",
        "        for i, idx in enumerate(batch_Id):\n",
        "            y_true[i, profile[idx]] = rating[idx]\n",
        "\n",
        "        y_pred = model.predict(y_true, verbose = 0)\n",
        "        \n",
        "        pred = np.argsort(np.where(y_true == 1, 0, 1) * y_pred, axis = -1)[:, :-top_N-1:-1]\n",
        "        res.append(pred)\n",
        "    return np.concatenate(res)"
      ],
      "execution_count": 111,
      "outputs": []
    },
    {
      "cell_type": "code",
      "metadata": {
        "id": "u2quTiHQJlpg"
      },
      "source": [
        "def show_history(hist, loss: str, metric: str) -> None:\n",
        "    fig, (ax1, ax2) = plt.subplots(1, 2, figsize = (12, 4))\n",
        "\n",
        "    ax1.plot(hist.history[f'{loss}'])\n",
        "    ax1.plot(hist.history[f'val_{loss}'])\n",
        "    ax1.set_title('Loss', fontsize = 20)\n",
        "    ax1.set_ylabel('loss')\n",
        "    ax1.set_xlabel('epoch')\n",
        "    ax1.legend(['loss', 'val_loss'], loc = 'upper right')\n",
        "\n",
        "    ax2.plot(hist.history[f'{metric}'])\n",
        "    ax2.plot(hist.history[f'val_{metric}'])\n",
        "    ax2.set_title('Metric', fontsize = 20)\n",
        "    ax2.set_ylabel('metric')\n",
        "    ax2.set_xlabel('epoch')\n",
        "    ax2.legend(['masked_metric', 'val_masked_metric'], loc = 'upper right')\n",
        "    plt.show()"
      ],
      "execution_count": 112,
      "outputs": []
    },
    {
      "cell_type": "code",
      "metadata": {
        "id": "lziheZmDL6fQ"
      },
      "source": [
        "def ndcg(gt, rec):\n",
        "    dcg, idcg = 0.0, 0.0\n",
        "    for i, r in enumerate(rec):\n",
        "        idcg += 1.0 / np.log(i + 2)\n",
        "        if r in gt:\n",
        "            dcg += 1.0 / np.log(i + 2)\n",
        "    return dcg / idcg\n",
        "\n",
        "def recall(gt, rec):\n",
        "    res = [r for r in rec if r in gt]\n",
        "    return len(res) / len(gt)\n",
        "\n",
        "def precision(gt, rec):\n",
        "    res = [r for r in rec if r in gt]\n",
        "    return len(res) / len(rec)\n",
        "\n",
        "def precision_k(gt, rec, k):\n",
        "    rec_k = rec[:k+1]\n",
        "    res = [r for r in rec_k if r in gt]\n",
        "    return len(res) / k\n",
        "\n",
        "def AP_k(gt, rec, k = 20):\n",
        "    res = 0\n",
        "    for i in range(k):\n",
        "        if rec[i] in gt:\n",
        "            res += precision_k(gt, rec, i+1)\n",
        "    return res / min(k, len(gt))"
      ],
      "execution_count": 113,
      "outputs": []
    },
    {
      "cell_type": "markdown",
      "metadata": {
        "id": "lDZc_fV0DmRA"
      },
      "source": [
        "## 2. Mult-VAE"
      ]
    },
    {
      "cell_type": "code",
      "metadata": {
        "id": "tU4qJYMtZ2-w",
        "outputId": "f048d479-a636-413b-aa2f-8eb16a73dc91",
        "colab": {
          "base_uri": "https://localhost:8080/",
          "height": 827
        }
      },
      "source": [
        "optimizer = Adam(learning_rate = 0.001, decay = 1e-5)\n",
        "model = VAE(n_user, n_item, latent_dim = 200, optimizer = optimizer)\n",
        "model.summary()"
      ],
      "execution_count": 114,
      "outputs": [
        {
          "output_type": "stream",
          "text": [
            "Model: \"functional_5\"\n",
            "__________________________________________________________________________________________________\n",
            "Layer (type)                    Output Shape         Param #     Connected to                     \n",
            "==================================================================================================\n",
            "input (InputLayer)              [(None, 3706)]       0                                            \n",
            "__________________________________________________________________________________________________\n",
            "hidden_1 (Dense)                (None, 600)          2224200     input[0][0]                      \n",
            "__________________________________________________________________________________________________\n",
            "mean (Dense)                    (None, 200)          120200      hidden_1[0][0]                   \n",
            "__________________________________________________________________________________________________\n",
            "log_var (Dense)                 (None, 200)          120200      hidden_1[0][0]                   \n",
            "__________________________________________________________________________________________________\n",
            "sampling_2 (Sampling)           (None, 200)          0           mean[0][0]                       \n",
            "                                                                 log_var[0][0]                    \n",
            "__________________________________________________________________________________________________\n",
            "hidden_2 (Dense)                (None, 600)          120600      sampling_2[0][0]                 \n",
            "__________________________________________________________________________________________________\n",
            "dense_2 (Dense)                 (None, 3706)         2227306     hidden_2[0][0]                   \n",
            "__________________________________________________________________________________________________\n",
            "tf_op_layer_AddV2_2 (TensorFlow [(None, 200)]        0           log_var[0][0]                    \n",
            "__________________________________________________________________________________________________\n",
            "tf_op_layer_Exp_2 (TensorFlowOp [(None, 200)]        0           log_var[0][0]                    \n",
            "__________________________________________________________________________________________________\n",
            "tf_op_layer_Sub_4 (TensorFlowOp [(None, 200)]        0           tf_op_layer_AddV2_2[0][0]        \n",
            "                                                                 tf_op_layer_Exp_2[0][0]          \n",
            "__________________________________________________________________________________________________\n",
            "tf_op_layer_Square_2 (TensorFlo [(None, 200)]        0           mean[0][0]                       \n",
            "__________________________________________________________________________________________________\n",
            "tf_op_layer_Sub_5 (TensorFlowOp [(None, 200)]        0           tf_op_layer_Sub_4[0][0]          \n",
            "                                                                 tf_op_layer_Square_2[0][0]       \n",
            "__________________________________________________________________________________________________\n",
            "tf_op_layer_Sum_2 (TensorFlowOp [(None,)]            0           tf_op_layer_Sub_5[0][0]          \n",
            "__________________________________________________________________________________________________\n",
            "tf_op_layer_Mul_2 (TensorFlowOp [(None,)]            0           tf_op_layer_Sum_2[0][0]          \n",
            "__________________________________________________________________________________________________\n",
            "tf_op_layer_Mean_2 (TensorFlowO [()]                 0           tf_op_layer_Mul_2[0][0]          \n",
            "__________________________________________________________________________________________________\n",
            "tf_op_layer_RealDiv_2 (TensorFl [()]                 0           tf_op_layer_Mean_2[0][0]         \n",
            "__________________________________________________________________________________________________\n",
            "add_loss_2 (AddLoss)            ()                   0           tf_op_layer_RealDiv_2[0][0]      \n",
            "==================================================================================================\n",
            "Total params: 4,812,506\n",
            "Trainable params: 4,812,506\n",
            "Non-trainable params: 0\n",
            "__________________________________________________________________________________________________\n"
          ],
          "name": "stdout"
        }
      ]
    },
    {
      "cell_type": "code",
      "metadata": {
        "id": "dsLI0HYXIzIz"
      },
      "source": [
        "epochs = 500\n",
        "batch_size = 128\n",
        "\n",
        "train, valid, test = data_split(ratings)\n",
        "valid_q, valid_a = make_evaluation(valid)\n",
        "test_q, test_a = make_evaluation(test)\n",
        "\n",
        "train, valid_q, valid_a, test_q, test_a = map(make_interaction, (train, valid_q, valid_a, test_q, test_a))\n",
        "train_gen, valid_gen = map(lambda x: make_generator(x, n_item, batch_size, implicit = True, user_specific = False), (train, valid_q))"
      ],
      "execution_count": 115,
      "outputs": []
    },
    {
      "cell_type": "code",
      "metadata": {
        "id": "3GI4n7pPYFPc"
      },
      "source": [
        "steps_per_epoch = train.index.size // batch_size + 1\n",
        "validation_steps = valid_q.index.size // batch_size + 1"
      ],
      "execution_count": 116,
      "outputs": []
    },
    {
      "cell_type": "code",
      "metadata": {
        "id": "T7lQYKnyXb3X",
        "outputId": "976cb87b-a4eb-44c8-d1eb-299e7a8ea75e",
        "colab": {
          "base_uri": "https://localhost:8080/",
          "height": 1000
        }
      },
      "source": [
        "%%time\n",
        "early_stopping = EarlyStopping(monitor = 'val_loss', mode = 'min', verbose = 1, patience = 50)\n",
        "model_checkpoint = ModelCheckpoint('VAE.h5', monitor = 'val_loss', mode = 'min', save_best_only = True)\n",
        "\n",
        "hist = model.fit(x = train_gen, validation_data = valid_gen, epochs = epochs,\n",
        "                 steps_per_epoch = steps_per_epoch, validation_steps = validation_steps, \n",
        "                 verbose = 1, callbacks = [early_stopping, model_checkpoint])"
      ],
      "execution_count": 117,
      "outputs": [
        {
          "output_type": "stream",
          "text": [
            "Epoch 1/500\n",
            "38/38 [==============================] - 1s 34ms/step - loss: 0.8691 - masked_cross_entropy: 0.3743 - masked_rmse: 0.3387 - val_loss: 0.6236 - val_masked_cross_entropy: 0.2937 - val_masked_rmse: 0.2998\n",
            "Epoch 2/500\n",
            "38/38 [==============================] - 2s 42ms/step - loss: 0.5227 - masked_cross_entropy: 0.2687 - masked_rmse: 0.2847 - val_loss: 0.4433 - val_masked_cross_entropy: 0.2579 - val_masked_rmse: 0.2773\n",
            "Epoch 3/500\n",
            "38/38 [==============================] - 1s 30ms/step - loss: 0.3962 - masked_cross_entropy: 0.2425 - masked_rmse: 0.2694 - val_loss: 0.3648 - val_masked_cross_entropy: 0.2452 - val_masked_rmse: 0.2699\n",
            "Epoch 4/500\n",
            "38/38 [==============================] - 2s 43ms/step - loss: 0.3332 - masked_cross_entropy: 0.2291 - masked_rmse: 0.2617 - val_loss: 0.3215 - val_masked_cross_entropy: 0.2366 - val_masked_rmse: 0.2654\n",
            "Epoch 5/500\n",
            "38/38 [==============================] - 1s 30ms/step - loss: 0.3004 - masked_cross_entropy: 0.2222 - masked_rmse: 0.2575 - val_loss: 0.2963 - val_masked_cross_entropy: 0.2302 - val_masked_rmse: 0.2607\n",
            "Epoch 6/500\n",
            "38/38 [==============================] - 2s 42ms/step - loss: 0.2786 - masked_cross_entropy: 0.2155 - masked_rmse: 0.2535 - val_loss: 0.2845 - val_masked_cross_entropy: 0.2299 - val_masked_rmse: 0.2613\n",
            "Epoch 7/500\n",
            "38/38 [==============================] - 1s 29ms/step - loss: 0.2649 - masked_cross_entropy: 0.2111 - masked_rmse: 0.2510 - val_loss: 0.2749 - val_masked_cross_entropy: 0.2273 - val_masked_rmse: 0.2598\n",
            "Epoch 8/500\n",
            "38/38 [==============================] - 2s 42ms/step - loss: 0.2553 - masked_cross_entropy: 0.2074 - masked_rmse: 0.2488 - val_loss: 0.2683 - val_masked_cross_entropy: 0.2252 - val_masked_rmse: 0.2586\n",
            "Epoch 9/500\n",
            "38/38 [==============================] - 1s 28ms/step - loss: 0.2488 - masked_cross_entropy: 0.2044 - masked_rmse: 0.2469 - val_loss: 0.2599 - val_masked_cross_entropy: 0.2195 - val_masked_rmse: 0.2544\n",
            "Epoch 10/500\n",
            "38/38 [==============================] - 1s 31ms/step - loss: 0.2434 - masked_cross_entropy: 0.2016 - masked_rmse: 0.2453 - val_loss: 0.2570 - val_masked_cross_entropy: 0.2194 - val_masked_rmse: 0.2541\n",
            "Epoch 11/500\n",
            "38/38 [==============================] - 2s 42ms/step - loss: 0.2388 - masked_cross_entropy: 0.1991 - masked_rmse: 0.2436 - val_loss: 0.2549 - val_masked_cross_entropy: 0.2186 - val_masked_rmse: 0.2537\n",
            "Epoch 12/500\n",
            "38/38 [==============================] - 1s 30ms/step - loss: 0.2354 - masked_cross_entropy: 0.1971 - masked_rmse: 0.2424 - val_loss: 0.2500 - val_masked_cross_entropy: 0.2151 - val_masked_rmse: 0.2520\n",
            "Epoch 13/500\n",
            "38/38 [==============================] - 1s 27ms/step - loss: 0.2330 - masked_cross_entropy: 0.1956 - masked_rmse: 0.2414 - val_loss: 0.2520 - val_masked_cross_entropy: 0.2174 - val_masked_rmse: 0.2532\n",
            "Epoch 14/500\n",
            "38/38 [==============================] - 1s 26ms/step - loss: 0.2305 - masked_cross_entropy: 0.1941 - masked_rmse: 0.2406 - val_loss: 0.2506 - val_masked_cross_entropy: 0.2171 - val_masked_rmse: 0.2528\n",
            "Epoch 15/500\n",
            "38/38 [==============================] - 1s 29ms/step - loss: 0.2284 - masked_cross_entropy: 0.1927 - masked_rmse: 0.2397 - val_loss: 0.2470 - val_masked_cross_entropy: 0.2138 - val_masked_rmse: 0.2504\n",
            "Epoch 16/500\n",
            "38/38 [==============================] - 1s 25ms/step - loss: 0.2269 - masked_cross_entropy: 0.1916 - masked_rmse: 0.2392 - val_loss: 0.2488 - val_masked_cross_entropy: 0.2163 - val_masked_rmse: 0.2520\n",
            "Epoch 17/500\n",
            "38/38 [==============================] - 1s 25ms/step - loss: 0.2251 - masked_cross_entropy: 0.1903 - masked_rmse: 0.2381 - val_loss: 0.2482 - val_masked_cross_entropy: 0.2159 - val_masked_rmse: 0.2519\n",
            "Epoch 18/500\n",
            "38/38 [==============================] - 1s 27ms/step - loss: 0.2237 - masked_cross_entropy: 0.1889 - masked_rmse: 0.2373 - val_loss: 0.2477 - val_masked_cross_entropy: 0.2153 - val_masked_rmse: 0.2516\n",
            "Epoch 19/500\n",
            "38/38 [==============================] - 1s 28ms/step - loss: 0.2223 - masked_cross_entropy: 0.1878 - masked_rmse: 0.2364 - val_loss: 0.2456 - val_masked_cross_entropy: 0.2137 - val_masked_rmse: 0.2499\n",
            "Epoch 20/500\n",
            "38/38 [==============================] - 2s 42ms/step - loss: 0.2215 - masked_cross_entropy: 0.1876 - masked_rmse: 0.2366 - val_loss: 0.2446 - val_masked_cross_entropy: 0.2130 - val_masked_rmse: 0.2495\n",
            "Epoch 21/500\n",
            "38/38 [==============================] - 2s 41ms/step - loss: 0.2203 - masked_cross_entropy: 0.1866 - masked_rmse: 0.2358 - val_loss: 0.2437 - val_masked_cross_entropy: 0.2127 - val_masked_rmse: 0.2496\n",
            "Epoch 22/500\n",
            "38/38 [==============================] - 1s 26ms/step - loss: 0.2189 - masked_cross_entropy: 0.1856 - masked_rmse: 0.2350 - val_loss: 0.2449 - val_masked_cross_entropy: 0.2134 - val_masked_rmse: 0.2501\n",
            "Epoch 23/500\n",
            "38/38 [==============================] - 1s 26ms/step - loss: 0.2182 - masked_cross_entropy: 0.1849 - masked_rmse: 0.2347 - val_loss: 0.2456 - val_masked_cross_entropy: 0.2148 - val_masked_rmse: 0.2500\n",
            "Epoch 24/500\n",
            "38/38 [==============================] - 1s 26ms/step - loss: 0.2181 - masked_cross_entropy: 0.1851 - masked_rmse: 0.2347 - val_loss: 0.2451 - val_masked_cross_entropy: 0.2143 - val_masked_rmse: 0.2506\n",
            "Epoch 25/500\n",
            "38/38 [==============================] - 1s 25ms/step - loss: 0.2169 - masked_cross_entropy: 0.1843 - masked_rmse: 0.2344 - val_loss: 0.2445 - val_masked_cross_entropy: 0.2141 - val_masked_rmse: 0.2494\n",
            "Epoch 26/500\n",
            "38/38 [==============================] - 1s 29ms/step - loss: 0.2164 - masked_cross_entropy: 0.1836 - masked_rmse: 0.2339 - val_loss: 0.2425 - val_masked_cross_entropy: 0.2121 - val_masked_rmse: 0.2491\n",
            "Epoch 27/500\n",
            "38/38 [==============================] - 2s 42ms/step - loss: 0.2148 - masked_cross_entropy: 0.1825 - masked_rmse: 0.2330 - val_loss: 0.2402 - val_masked_cross_entropy: 0.2102 - val_masked_rmse: 0.2475\n",
            "Epoch 28/500\n",
            "38/38 [==============================] - 1s 27ms/step - loss: 0.2142 - masked_cross_entropy: 0.1820 - masked_rmse: 0.2327 - val_loss: 0.2429 - val_masked_cross_entropy: 0.2131 - val_masked_rmse: 0.2490\n",
            "Epoch 29/500\n",
            "38/38 [==============================] - 1s 25ms/step - loss: 0.2140 - masked_cross_entropy: 0.1822 - masked_rmse: 0.2330 - val_loss: 0.2405 - val_masked_cross_entropy: 0.2106 - val_masked_rmse: 0.2481\n",
            "Epoch 30/500\n",
            "38/38 [==============================] - 1s 25ms/step - loss: 0.2133 - masked_cross_entropy: 0.1813 - masked_rmse: 0.2322 - val_loss: 0.2404 - val_masked_cross_entropy: 0.2104 - val_masked_rmse: 0.2475\n",
            "Epoch 31/500\n",
            "38/38 [==============================] - 1s 25ms/step - loss: 0.2122 - masked_cross_entropy: 0.1804 - masked_rmse: 0.2317 - val_loss: 0.2425 - val_masked_cross_entropy: 0.2128 - val_masked_rmse: 0.2494\n",
            "Epoch 32/500\n",
            "38/38 [==============================] - 1s 25ms/step - loss: 0.2121 - masked_cross_entropy: 0.1805 - masked_rmse: 0.2318 - val_loss: 0.2416 - val_masked_cross_entropy: 0.2118 - val_masked_rmse: 0.2483\n",
            "Epoch 33/500\n",
            "38/38 [==============================] - 1s 25ms/step - loss: 0.2110 - masked_cross_entropy: 0.1793 - masked_rmse: 0.2310 - val_loss: 0.2427 - val_masked_cross_entropy: 0.2130 - val_masked_rmse: 0.2493\n",
            "Epoch 34/500\n",
            "38/38 [==============================] - 1s 25ms/step - loss: 0.2112 - masked_cross_entropy: 0.1797 - masked_rmse: 0.2314 - val_loss: 0.2424 - val_masked_cross_entropy: 0.2125 - val_masked_rmse: 0.2490\n",
            "Epoch 35/500\n",
            "38/38 [==============================] - 1s 24ms/step - loss: 0.2104 - masked_cross_entropy: 0.1786 - masked_rmse: 0.2306 - val_loss: 0.2413 - val_masked_cross_entropy: 0.2113 - val_masked_rmse: 0.2476\n",
            "Epoch 36/500\n",
            "38/38 [==============================] - 1s 25ms/step - loss: 0.2096 - masked_cross_entropy: 0.1780 - masked_rmse: 0.2302 - val_loss: 0.2409 - val_masked_cross_entropy: 0.2109 - val_masked_rmse: 0.2476\n",
            "Epoch 37/500\n",
            "38/38 [==============================] - 1s 25ms/step - loss: 0.2091 - masked_cross_entropy: 0.1773 - masked_rmse: 0.2296 - val_loss: 0.2423 - val_masked_cross_entropy: 0.2123 - val_masked_rmse: 0.2480\n",
            "Epoch 38/500\n",
            "38/38 [==============================] - 1s 25ms/step - loss: 0.2084 - masked_cross_entropy: 0.1766 - masked_rmse: 0.2292 - val_loss: 0.2419 - val_masked_cross_entropy: 0.2120 - val_masked_rmse: 0.2471\n",
            "Epoch 39/500\n",
            "38/38 [==============================] - 1s 25ms/step - loss: 0.2082 - masked_cross_entropy: 0.1764 - masked_rmse: 0.2291 - val_loss: 0.2406 - val_masked_cross_entropy: 0.2106 - val_masked_rmse: 0.2471\n",
            "Epoch 40/500\n",
            "38/38 [==============================] - 1s 24ms/step - loss: 0.2082 - masked_cross_entropy: 0.1763 - masked_rmse: 0.2291 - val_loss: 0.2405 - val_masked_cross_entropy: 0.2104 - val_masked_rmse: 0.2472\n",
            "Epoch 41/500\n",
            "38/38 [==============================] - 1s 26ms/step - loss: 0.2079 - masked_cross_entropy: 0.1760 - masked_rmse: 0.2288 - val_loss: 0.2426 - val_masked_cross_entropy: 0.2126 - val_masked_rmse: 0.2480\n",
            "Epoch 42/500\n",
            "38/38 [==============================] - 1s 25ms/step - loss: 0.2073 - masked_cross_entropy: 0.1755 - masked_rmse: 0.2284 - val_loss: 0.2426 - val_masked_cross_entropy: 0.2123 - val_masked_rmse: 0.2475\n",
            "Epoch 43/500\n",
            "38/38 [==============================] - 1s 25ms/step - loss: 0.2073 - masked_cross_entropy: 0.1753 - masked_rmse: 0.2283 - val_loss: 0.2417 - val_masked_cross_entropy: 0.2115 - val_masked_rmse: 0.2467\n",
            "Epoch 44/500\n",
            "38/38 [==============================] - 1s 25ms/step - loss: 0.2061 - masked_cross_entropy: 0.1741 - masked_rmse: 0.2274 - val_loss: 0.2442 - val_masked_cross_entropy: 0.2139 - val_masked_rmse: 0.2492\n",
            "Epoch 45/500\n",
            "38/38 [==============================] - 1s 28ms/step - loss: 0.2060 - masked_cross_entropy: 0.1741 - masked_rmse: 0.2275 - val_loss: 0.2397 - val_masked_cross_entropy: 0.2095 - val_masked_rmse: 0.2466\n",
            "Epoch 46/500\n",
            "38/38 [==============================] - 1s 25ms/step - loss: 0.2061 - masked_cross_entropy: 0.1742 - masked_rmse: 0.2277 - val_loss: 0.2417 - val_masked_cross_entropy: 0.2115 - val_masked_rmse: 0.2468\n",
            "Epoch 47/500\n",
            "38/38 [==============================] - 1s 25ms/step - loss: 0.2057 - masked_cross_entropy: 0.1736 - masked_rmse: 0.2271 - val_loss: 0.2445 - val_masked_cross_entropy: 0.2140 - val_masked_rmse: 0.2487\n",
            "Epoch 48/500\n",
            "38/38 [==============================] - 1s 25ms/step - loss: 0.2057 - masked_cross_entropy: 0.1735 - masked_rmse: 0.2271 - val_loss: 0.2423 - val_masked_cross_entropy: 0.2118 - val_masked_rmse: 0.2477\n",
            "Epoch 49/500\n",
            "38/38 [==============================] - 1s 28ms/step - loss: 0.2047 - masked_cross_entropy: 0.1726 - masked_rmse: 0.2264 - val_loss: 0.2391 - val_masked_cross_entropy: 0.2088 - val_masked_rmse: 0.2453\n",
            "Epoch 50/500\n",
            "38/38 [==============================] - 1s 25ms/step - loss: 0.2047 - masked_cross_entropy: 0.1726 - masked_rmse: 0.2263 - val_loss: 0.2428 - val_masked_cross_entropy: 0.2123 - val_masked_rmse: 0.2472\n",
            "Epoch 51/500\n",
            "38/38 [==============================] - 1s 25ms/step - loss: 0.2046 - masked_cross_entropy: 0.1726 - masked_rmse: 0.2264 - val_loss: 0.2421 - val_masked_cross_entropy: 0.2118 - val_masked_rmse: 0.2475\n",
            "Epoch 52/500\n",
            "38/38 [==============================] - 1s 26ms/step - loss: 0.2042 - masked_cross_entropy: 0.1721 - masked_rmse: 0.2262 - val_loss: 0.2415 - val_masked_cross_entropy: 0.2108 - val_masked_rmse: 0.2463\n",
            "Epoch 53/500\n",
            "38/38 [==============================] - 1s 28ms/step - loss: 0.2041 - masked_cross_entropy: 0.1720 - masked_rmse: 0.2259 - val_loss: 0.2386 - val_masked_cross_entropy: 0.2080 - val_masked_rmse: 0.2450\n",
            "Epoch 54/500\n",
            "38/38 [==============================] - 1s 25ms/step - loss: 0.2034 - masked_cross_entropy: 0.1711 - masked_rmse: 0.2253 - val_loss: 0.2417 - val_masked_cross_entropy: 0.2112 - val_masked_rmse: 0.2467\n",
            "Epoch 55/500\n",
            "38/38 [==============================] - 1s 26ms/step - loss: 0.2031 - masked_cross_entropy: 0.1709 - masked_rmse: 0.2251 - val_loss: 0.2432 - val_masked_cross_entropy: 0.2125 - val_masked_rmse: 0.2473\n",
            "Epoch 56/500\n",
            "38/38 [==============================] - 1s 24ms/step - loss: 0.2032 - masked_cross_entropy: 0.1709 - masked_rmse: 0.2252 - val_loss: 0.2437 - val_masked_cross_entropy: 0.2130 - val_masked_rmse: 0.2477\n",
            "Epoch 57/500\n",
            "38/38 [==============================] - 1s 25ms/step - loss: 0.2028 - masked_cross_entropy: 0.1706 - masked_rmse: 0.2252 - val_loss: 0.2427 - val_masked_cross_entropy: 0.2119 - val_masked_rmse: 0.2467\n",
            "Epoch 58/500\n",
            "38/38 [==============================] - 1s 25ms/step - loss: 0.2026 - masked_cross_entropy: 0.1701 - masked_rmse: 0.2247 - val_loss: 0.2410 - val_masked_cross_entropy: 0.2103 - val_masked_rmse: 0.2453\n",
            "Epoch 59/500\n",
            "38/38 [==============================] - 1s 25ms/step - loss: 0.2027 - masked_cross_entropy: 0.1703 - masked_rmse: 0.2248 - val_loss: 0.2440 - val_masked_cross_entropy: 0.2129 - val_masked_rmse: 0.2478\n",
            "Epoch 60/500\n",
            "38/38 [==============================] - 1s 28ms/step - loss: 0.2020 - masked_cross_entropy: 0.1696 - masked_rmse: 0.2243 - val_loss: 0.2381 - val_masked_cross_entropy: 0.2074 - val_masked_rmse: 0.2434\n",
            "Epoch 61/500\n",
            "38/38 [==============================] - 1s 25ms/step - loss: 0.2018 - masked_cross_entropy: 0.1694 - masked_rmse: 0.2241 - val_loss: 0.2408 - val_masked_cross_entropy: 0.2100 - val_masked_rmse: 0.2448\n",
            "Epoch 62/500\n",
            "38/38 [==============================] - 1s 25ms/step - loss: 0.2018 - masked_cross_entropy: 0.1694 - masked_rmse: 0.2241 - val_loss: 0.2410 - val_masked_cross_entropy: 0.2101 - val_masked_rmse: 0.2451\n",
            "Epoch 63/500\n",
            "38/38 [==============================] - 1s 24ms/step - loss: 0.2022 - masked_cross_entropy: 0.1697 - masked_rmse: 0.2244 - val_loss: 0.2426 - val_masked_cross_entropy: 0.2115 - val_masked_rmse: 0.2468\n",
            "Epoch 64/500\n",
            "38/38 [==============================] - 1s 24ms/step - loss: 0.2017 - masked_cross_entropy: 0.1691 - masked_rmse: 0.2241 - val_loss: 0.2434 - val_masked_cross_entropy: 0.2122 - val_masked_rmse: 0.2469\n",
            "Epoch 65/500\n",
            "38/38 [==============================] - 1s 24ms/step - loss: 0.2008 - masked_cross_entropy: 0.1681 - masked_rmse: 0.2231 - val_loss: 0.2437 - val_masked_cross_entropy: 0.2126 - val_masked_rmse: 0.2469\n",
            "Epoch 66/500\n",
            "38/38 [==============================] - 1s 26ms/step - loss: 0.2015 - masked_cross_entropy: 0.1689 - masked_rmse: 0.2240 - val_loss: 0.2444 - val_masked_cross_entropy: 0.2133 - val_masked_rmse: 0.2464\n",
            "Epoch 67/500\n",
            "38/38 [==============================] - 1s 25ms/step - loss: 0.2011 - masked_cross_entropy: 0.1684 - masked_rmse: 0.2235 - val_loss: 0.2460 - val_masked_cross_entropy: 0.2149 - val_masked_rmse: 0.2473\n",
            "Epoch 68/500\n",
            "38/38 [==============================] - 1s 26ms/step - loss: 0.2009 - masked_cross_entropy: 0.1681 - masked_rmse: 0.2235 - val_loss: 0.2408 - val_masked_cross_entropy: 0.2097 - val_masked_rmse: 0.2449\n",
            "Epoch 69/500\n",
            "38/38 [==============================] - 1s 25ms/step - loss: 0.2004 - masked_cross_entropy: 0.1677 - masked_rmse: 0.2231 - val_loss: 0.2454 - val_masked_cross_entropy: 0.2140 - val_masked_rmse: 0.2474\n",
            "Epoch 70/500\n",
            "38/38 [==============================] - 1s 27ms/step - loss: 0.2002 - masked_cross_entropy: 0.1673 - masked_rmse: 0.2226 - val_loss: 0.2399 - val_masked_cross_entropy: 0.2085 - val_masked_rmse: 0.2445\n",
            "Epoch 71/500\n",
            "38/38 [==============================] - 1s 26ms/step - loss: 0.2004 - masked_cross_entropy: 0.1673 - masked_rmse: 0.2229 - val_loss: 0.2437 - val_masked_cross_entropy: 0.2122 - val_masked_rmse: 0.2462\n",
            "Epoch 72/500\n",
            "38/38 [==============================] - 1s 26ms/step - loss: 0.1996 - masked_cross_entropy: 0.1668 - masked_rmse: 0.2224 - val_loss: 0.2427 - val_masked_cross_entropy: 0.2114 - val_masked_rmse: 0.2462\n",
            "Epoch 73/500\n",
            "38/38 [==============================] - 1s 26ms/step - loss: 0.1993 - masked_cross_entropy: 0.1664 - masked_rmse: 0.2220 - val_loss: 0.2429 - val_masked_cross_entropy: 0.2115 - val_masked_rmse: 0.2457\n",
            "Epoch 74/500\n",
            "38/38 [==============================] - 1s 26ms/step - loss: 0.1993 - masked_cross_entropy: 0.1663 - masked_rmse: 0.2220 - val_loss: 0.2436 - val_masked_cross_entropy: 0.2122 - val_masked_rmse: 0.2469\n",
            "Epoch 75/500\n",
            "38/38 [==============================] - 1s 26ms/step - loss: 0.1991 - masked_cross_entropy: 0.1661 - masked_rmse: 0.2219 - val_loss: 0.2418 - val_masked_cross_entropy: 0.2104 - val_masked_rmse: 0.2445\n",
            "Epoch 76/500\n",
            "38/38 [==============================] - 1s 25ms/step - loss: 0.1996 - masked_cross_entropy: 0.1665 - masked_rmse: 0.2222 - val_loss: 0.2450 - val_masked_cross_entropy: 0.2134 - val_masked_rmse: 0.2466\n",
            "Epoch 77/500\n",
            "38/38 [==============================] - 1s 26ms/step - loss: 0.1987 - masked_cross_entropy: 0.1656 - masked_rmse: 0.2216 - val_loss: 0.2430 - val_masked_cross_entropy: 0.2113 - val_masked_rmse: 0.2453\n",
            "Epoch 78/500\n",
            "38/38 [==============================] - 1s 26ms/step - loss: 0.1990 - masked_cross_entropy: 0.1659 - masked_rmse: 0.2218 - val_loss: 0.2441 - val_masked_cross_entropy: 0.2124 - val_masked_rmse: 0.2461\n",
            "Epoch 79/500\n",
            "38/38 [==============================] - 1s 27ms/step - loss: 0.1987 - masked_cross_entropy: 0.1655 - masked_rmse: 0.2216 - val_loss: 0.2409 - val_masked_cross_entropy: 0.2093 - val_masked_rmse: 0.2444\n",
            "Epoch 80/500\n",
            "38/38 [==============================] - 1s 26ms/step - loss: 0.1980 - masked_cross_entropy: 0.1647 - masked_rmse: 0.2208 - val_loss: 0.2463 - val_masked_cross_entropy: 0.2143 - val_masked_rmse: 0.2476\n",
            "Epoch 81/500\n",
            "38/38 [==============================] - 1s 25ms/step - loss: 0.1983 - masked_cross_entropy: 0.1647 - masked_rmse: 0.2207 - val_loss: 0.2460 - val_masked_cross_entropy: 0.2141 - val_masked_rmse: 0.2464\n",
            "Epoch 82/500\n",
            "38/38 [==============================] - 1s 25ms/step - loss: 0.1985 - masked_cross_entropy: 0.1651 - masked_rmse: 0.2213 - val_loss: 0.2463 - val_masked_cross_entropy: 0.2146 - val_masked_rmse: 0.2460\n",
            "Epoch 83/500\n",
            "38/38 [==============================] - 1s 24ms/step - loss: 0.1979 - masked_cross_entropy: 0.1646 - masked_rmse: 0.2208 - val_loss: 0.2426 - val_masked_cross_entropy: 0.2109 - val_masked_rmse: 0.2447\n",
            "Epoch 84/500\n",
            "38/38 [==============================] - 1s 25ms/step - loss: 0.1975 - masked_cross_entropy: 0.1640 - masked_rmse: 0.2204 - val_loss: 0.2437 - val_masked_cross_entropy: 0.2117 - val_masked_rmse: 0.2453\n",
            "Epoch 85/500\n",
            "38/38 [==============================] - 1s 25ms/step - loss: 0.1975 - masked_cross_entropy: 0.1640 - masked_rmse: 0.2202 - val_loss: 0.2455 - val_masked_cross_entropy: 0.2136 - val_masked_rmse: 0.2465\n",
            "Epoch 86/500\n",
            "38/38 [==============================] - 1s 24ms/step - loss: 0.1970 - masked_cross_entropy: 0.1634 - masked_rmse: 0.2199 - val_loss: 0.2455 - val_masked_cross_entropy: 0.2136 - val_masked_rmse: 0.2456\n",
            "Epoch 87/500\n",
            "38/38 [==============================] - 1s 25ms/step - loss: 0.1973 - masked_cross_entropy: 0.1637 - masked_rmse: 0.2202 - val_loss: 0.2471 - val_masked_cross_entropy: 0.2149 - val_masked_rmse: 0.2477\n",
            "Epoch 88/500\n",
            "38/38 [==============================] - 1s 25ms/step - loss: 0.1970 - masked_cross_entropy: 0.1633 - masked_rmse: 0.2198 - val_loss: 0.2449 - val_masked_cross_entropy: 0.2128 - val_masked_rmse: 0.2455\n",
            "Epoch 89/500\n",
            "38/38 [==============================] - 1s 25ms/step - loss: 0.1966 - masked_cross_entropy: 0.1628 - masked_rmse: 0.2195 - val_loss: 0.2499 - val_masked_cross_entropy: 0.2177 - val_masked_rmse: 0.2485\n",
            "Epoch 90/500\n",
            "38/38 [==============================] - 1s 25ms/step - loss: 0.1962 - masked_cross_entropy: 0.1626 - masked_rmse: 0.2191 - val_loss: 0.2437 - val_masked_cross_entropy: 0.2118 - val_masked_rmse: 0.2452\n",
            "Epoch 91/500\n",
            "38/38 [==============================] - 1s 25ms/step - loss: 0.1968 - masked_cross_entropy: 0.1631 - masked_rmse: 0.2197 - val_loss: 0.2454 - val_masked_cross_entropy: 0.2132 - val_masked_rmse: 0.2455\n",
            "Epoch 92/500\n",
            "38/38 [==============================] - 1s 25ms/step - loss: 0.1966 - masked_cross_entropy: 0.1629 - masked_rmse: 0.2195 - val_loss: 0.2460 - val_masked_cross_entropy: 0.2136 - val_masked_rmse: 0.2459\n",
            "Epoch 93/500\n",
            "38/38 [==============================] - 1s 25ms/step - loss: 0.1962 - masked_cross_entropy: 0.1623 - masked_rmse: 0.2190 - val_loss: 0.2447 - val_masked_cross_entropy: 0.2125 - val_masked_rmse: 0.2444\n",
            "Epoch 94/500\n",
            "38/38 [==============================] - 1s 25ms/step - loss: 0.1960 - masked_cross_entropy: 0.1621 - masked_rmse: 0.2189 - val_loss: 0.2509 - val_masked_cross_entropy: 0.2185 - val_masked_rmse: 0.2485\n",
            "Epoch 95/500\n",
            "38/38 [==============================] - 1s 25ms/step - loss: 0.1958 - masked_cross_entropy: 0.1619 - masked_rmse: 0.2189 - val_loss: 0.2463 - val_masked_cross_entropy: 0.2139 - val_masked_rmse: 0.2458\n",
            "Epoch 96/500\n",
            "38/38 [==============================] - 1s 25ms/step - loss: 0.1960 - masked_cross_entropy: 0.1620 - masked_rmse: 0.2188 - val_loss: 0.2448 - val_masked_cross_entropy: 0.2123 - val_masked_rmse: 0.2452\n",
            "Epoch 97/500\n",
            "38/38 [==============================] - 1s 25ms/step - loss: 0.1955 - masked_cross_entropy: 0.1614 - masked_rmse: 0.2183 - val_loss: 0.2459 - val_masked_cross_entropy: 0.2134 - val_masked_rmse: 0.2453\n",
            "Epoch 98/500\n",
            "38/38 [==============================] - 1s 25ms/step - loss: 0.1953 - masked_cross_entropy: 0.1611 - masked_rmse: 0.2183 - val_loss: 0.2452 - val_masked_cross_entropy: 0.2127 - val_masked_rmse: 0.2456\n",
            "Epoch 99/500\n",
            "38/38 [==============================] - 1s 25ms/step - loss: 0.1953 - masked_cross_entropy: 0.1612 - masked_rmse: 0.2184 - val_loss: 0.2454 - val_masked_cross_entropy: 0.2128 - val_masked_rmse: 0.2444\n",
            "Epoch 100/500\n",
            "38/38 [==============================] - 1s 25ms/step - loss: 0.1949 - masked_cross_entropy: 0.1606 - masked_rmse: 0.2178 - val_loss: 0.2437 - val_masked_cross_entropy: 0.2110 - val_masked_rmse: 0.2442\n",
            "Epoch 101/500\n",
            "38/38 [==============================] - 1s 25ms/step - loss: 0.1952 - masked_cross_entropy: 0.1609 - masked_rmse: 0.2181 - val_loss: 0.2469 - val_masked_cross_entropy: 0.2142 - val_masked_rmse: 0.2456\n",
            "Epoch 102/500\n",
            "38/38 [==============================] - 1s 24ms/step - loss: 0.1952 - masked_cross_entropy: 0.1609 - masked_rmse: 0.2180 - val_loss: 0.2461 - val_masked_cross_entropy: 0.2135 - val_masked_rmse: 0.2458\n",
            "Epoch 103/500\n",
            "38/38 [==============================] - 1s 25ms/step - loss: 0.1945 - masked_cross_entropy: 0.1601 - masked_rmse: 0.2176 - val_loss: 0.2447 - val_masked_cross_entropy: 0.2120 - val_masked_rmse: 0.2451\n",
            "Epoch 104/500\n",
            "38/38 [==============================] - 1s 25ms/step - loss: 0.1940 - masked_cross_entropy: 0.1596 - masked_rmse: 0.2171 - val_loss: 0.2468 - val_masked_cross_entropy: 0.2139 - val_masked_rmse: 0.2455\n",
            "Epoch 105/500\n",
            "38/38 [==============================] - 1s 24ms/step - loss: 0.1943 - masked_cross_entropy: 0.1599 - masked_rmse: 0.2172 - val_loss: 0.2487 - val_masked_cross_entropy: 0.2159 - val_masked_rmse: 0.2459\n",
            "Epoch 106/500\n",
            "38/38 [==============================] - 1s 25ms/step - loss: 0.1941 - masked_cross_entropy: 0.1597 - masked_rmse: 0.2172 - val_loss: 0.2461 - val_masked_cross_entropy: 0.2133 - val_masked_rmse: 0.2447\n",
            "Epoch 107/500\n",
            "38/38 [==============================] - 1s 25ms/step - loss: 0.1940 - masked_cross_entropy: 0.1595 - masked_rmse: 0.2171 - val_loss: 0.2424 - val_masked_cross_entropy: 0.2096 - val_masked_rmse: 0.2430\n",
            "Epoch 108/500\n",
            "38/38 [==============================] - 1s 25ms/step - loss: 0.1941 - masked_cross_entropy: 0.1595 - masked_rmse: 0.2171 - val_loss: 0.2449 - val_masked_cross_entropy: 0.2119 - val_masked_rmse: 0.2438\n",
            "Epoch 109/500\n",
            "38/38 [==============================] - 1s 24ms/step - loss: 0.1940 - masked_cross_entropy: 0.1594 - masked_rmse: 0.2169 - val_loss: 0.2471 - val_masked_cross_entropy: 0.2140 - val_masked_rmse: 0.2453\n",
            "Epoch 110/500\n",
            "38/38 [==============================] - 1s 25ms/step - loss: 0.1926 - masked_cross_entropy: 0.1580 - masked_rmse: 0.2158 - val_loss: 0.2439 - val_masked_cross_entropy: 0.2109 - val_masked_rmse: 0.2438\n",
            "Epoch 00110: early stopping\n",
            "CPU times: user 2min 8s, sys: 7.55 s, total: 2min 16s\n",
            "Wall time: 1min 54s\n"
          ],
          "name": "stdout"
        }
      ]
    },
    {
      "cell_type": "code",
      "metadata": {
        "id": "25rNsyqNr1qi",
        "outputId": "3c5d6b9e-e1b9-4727-db95-c5a71cf5b830",
        "colab": {
          "base_uri": "https://localhost:8080/",
          "height": 300
        }
      },
      "source": [
        "show_history(hist, 'loss', 'masked_cross_entropy')"
      ],
      "execution_count": 118,
      "outputs": [
        {
          "output_type": "display_data",
          "data": {
            "image/png": "[encoded data removed]",
            "text/plain": [
              "<Figure size 864x288 with 2 Axes>"
            ]
          },
          "metadata": {
            "tags": [],
            "needs_background": "light"
          }
        }
      ]
    },
    {
      "cell_type": "code",
      "metadata": {
        "id": "S1D4m0ZRwo4K",
        "outputId": "0ed9b1f3-752b-48e7-919b-233bcd42ece1",
        "colab": {
          "base_uri": "https://localhost:8080/",
          "height": 143
        }
      },
      "source": [
        "pred = make_predictor(test_q, model, n_item, batch_size)\n",
        "pred"
      ],
      "execution_count": 119,
      "outputs": [
        {
          "output_type": "execute_result",
          "data": {
            "text/plain": [
              "array([[  37,  880,  608, ...,   34,  703,  612],\n",
              "       [ 547,  134,  171, ...,  435,  414,   26],\n",
              "       [1253, 1237,  611, ...,  985,  101,  486],\n",
              "       ...,\n",
              "       [  14,   44,    9, ...,  586,  195,   15],\n",
              "       [  97,   64,  151, ...,  120,  128,  432],\n",
              "       [ 726, 1531,  132, ...,   37,  206, 1466]])"
            ]
          },
          "metadata": {
            "tags": []
          },
          "execution_count": 119
        }
      ]
    },
    {
      "cell_type": "code",
      "metadata": {
        "id": "EkuZfKLWmveg"
      },
      "source": [
        "m_ndcg = 0\n",
        "m_recall = 0\n",
        "m_precision = 0\n",
        "map_k = 0\n",
        "for i in range(len(pred)):\n",
        "    rec = pred[i]\n",
        "    gt = test_a.at[i, 'movieId']\n",
        "    m_ndcg += ndcg(gt, rec)\n",
        "    m_recall += recall(gt, rec)\n",
        "    m_precision += precision(gt, rec)\n",
        "    map_k += AP_k(gt, rec)\n",
        "m_ndcg /= len(pred)\n",
        "m_recall /= len(pred)\n",
        "m_precision /= len(pred)\n",
        "map_k /= len(pred)"
      ],
      "execution_count": 120,
      "outputs": []
    },
    {
      "cell_type": "code",
      "metadata": {
        "id": "RhE2AtXxjBmw",
        "outputId": "18ee3fc8-a9f1-4fc1-972f-fbbee3beec6a",
        "colab": {
          "base_uri": "https://localhost:8080/",
          "height": 35
        }
      },
      "source": [
        "m_ndcg"
      ],
      "execution_count": 121,
      "outputs": [
        {
          "output_type": "execute_result",
          "data": {
            "text/plain": [
              "0.19953306565202317"
            ]
          },
          "metadata": {
            "tags": []
          },
          "execution_count": 121
        }
      ]
    },
    {
      "cell_type": "code",
      "metadata": {
        "id": "Zv6Vbob2kdVL",
        "outputId": "26e05e5d-fc56-47fb-fa42-54a5cda87996",
        "colab": {
          "base_uri": "https://localhost:8080/",
          "height": 35
        }
      },
      "source": [
        "m_recall"
      ],
      "execution_count": 122,
      "outputs": [
        {
          "output_type": "execute_result",
          "data": {
            "text/plain": [
              "0.2364242215706336"
            ]
          },
          "metadata": {
            "tags": []
          },
          "execution_count": 122
        }
      ]
    },
    {
      "cell_type": "code",
      "metadata": {
        "id": "093WkrbvjpmA",
        "outputId": "31ae243b-b824-4816-ecd1-b88326f5361f",
        "colab": {
          "base_uri": "https://localhost:8080/",
          "height": 35
        }
      },
      "source": [
        "m_precision"
      ],
      "execution_count": 123,
      "outputs": [
        {
          "output_type": "execute_result",
          "data": {
            "text/plain": [
              "0.17508278145695344"
            ]
          },
          "metadata": {
            "tags": []
          },
          "execution_count": 123
        }
      ]
    },
    {
      "cell_type": "code",
      "metadata": {
        "id": "-BmdT9_pKwsV",
        "outputId": "658f0742-a67f-44cf-a8f2-b6635cd744ab",
        "colab": {
          "base_uri": "https://localhost:8080/",
          "height": 35
        }
      },
      "source": [
        "map_k"
      ],
      "execution_count": 124,
      "outputs": [
        {
          "output_type": "execute_result",
          "data": {
            "text/plain": [
              "0.14121136391460998"
            ]
          },
          "metadata": {
            "tags": []
          },
          "execution_count": 124
        }
      ]
    }
  ]
}