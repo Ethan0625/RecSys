{
  "nbformat": 4,
  "nbformat_minor": 0,
  "metadata": {
    "colab": {
      "name": "8_CDAE.ipynb",
      "provenance": [],
      "collapsed_sections": [],
      "authorship_tag": "ABX9TyNt8gL/1sWqXbJbrYCwByMm",
      "include_colab_link": true
    },
    "kernelspec": {
      "name": "python3",
      "display_name": "Python 3"
    },
    "accelerator": "GPU",
    "widgets": {
      "application/vnd.jupyter.widget-state+json": {
        "dadbd5fe9c0b4dff8941fedb33d635db": {
          "model_module": "@jupyter-widgets/controls",
          "model_name": "HBoxModel",
          "state": {
            "_view_name": "HBoxView",
            "_dom_classes": [],
            "_model_name": "HBoxModel",
            "_view_module": "@jupyter-widgets/controls",
            "_model_module_version": "1.5.0",
            "_view_count": null,
            "_view_module_version": "1.5.0",
            "box_style": "",
            "layout": "IPY_MODEL_f54207c913374817bb0cf263d5debde5",
            "_model_module": "@jupyter-widgets/controls",
            "children": [
              "IPY_MODEL_97616305e3e64579b7ad0f26225cde5e",
              "IPY_MODEL_73873a221c3e4abd877b6b9eaa837922"
            ]
          }
        },
        "f54207c913374817bb0cf263d5debde5": {
          "model_module": "@jupyter-widgets/base",
          "model_name": "LayoutModel",
          "state": {
            "_view_name": "LayoutView",
            "grid_template_rows": null,
            "right": null,
            "justify_content": null,
            "_view_module": "@jupyter-widgets/base",
            "overflow": null,
            "_model_module_version": "1.2.0",
            "_view_count": null,
            "flex_flow": null,
            "width": null,
            "min_width": null,
            "border": null,
            "align_items": null,
            "bottom": null,
            "_model_module": "@jupyter-widgets/base",
            "top": null,
            "grid_column": null,
            "overflow_y": null,
            "overflow_x": null,
            "grid_auto_flow": null,
            "grid_area": null,
            "grid_template_columns": null,
            "flex": null,
            "_model_name": "LayoutModel",
            "justify_items": null,
            "grid_row": null,
            "max_height": null,
            "align_content": null,
            "visibility": null,
            "align_self": null,
            "height": null,
            "min_height": null,
            "padding": null,
            "grid_auto_rows": null,
            "grid_gap": null,
            "max_width": null,
            "order": null,
            "_view_module_version": "1.2.0",
            "grid_template_areas": null,
            "object_position": null,
            "object_fit": null,
            "grid_auto_columns": null,
            "margin": null,
            "display": null,
            "left": null
          }
        },
        "97616305e3e64579b7ad0f26225cde5e": {
          "model_module": "@jupyter-widgets/controls",
          "model_name": "FloatProgressModel",
          "state": {
            "_view_name": "ProgressView",
            "style": "IPY_MODEL_5f4b4396153344ce88578ba71d1a200a",
            "_dom_classes": [],
            "description": "100%",
            "_model_name": "FloatProgressModel",
            "bar_style": "success",
            "max": 604,
            "_view_module": "@jupyter-widgets/controls",
            "_model_module_version": "1.5.0",
            "value": 604,
            "_view_count": null,
            "_view_module_version": "1.5.0",
            "orientation": "horizontal",
            "min": 0,
            "description_tooltip": null,
            "_model_module": "@jupyter-widgets/controls",
            "layout": "IPY_MODEL_016f93f1bf0742b1965e4bce883e52b0"
          }
        },
        "73873a221c3e4abd877b6b9eaa837922": {
          "model_module": "@jupyter-widgets/controls",
          "model_name": "HTMLModel",
          "state": {
            "_view_name": "HTMLView",
            "style": "IPY_MODEL_366df5abd92f483ab9dff36c4a1e8faa",
            "_dom_classes": [],
            "description": "",
            "_model_name": "HTMLModel",
            "placeholder": "​",
            "_view_module": "@jupyter-widgets/controls",
            "_model_module_version": "1.5.0",
            "value": " 604/604 [00:02&lt;00:00, 293.49it/s]",
            "_view_count": null,
            "_view_module_version": "1.5.0",
            "description_tooltip": null,
            "_model_module": "@jupyter-widgets/controls",
            "layout": "IPY_MODEL_f009643e91124475bdd99756c667dbfb"
          }
        },
        "5f4b4396153344ce88578ba71d1a200a": {
          "model_module": "@jupyter-widgets/controls",
          "model_name": "ProgressStyleModel",
          "state": {
            "_view_name": "StyleView",
            "_model_name": "ProgressStyleModel",
            "description_width": "initial",
            "_view_module": "@jupyter-widgets/base",
            "_model_module_version": "1.5.0",
            "_view_count": null,
            "_view_module_version": "1.2.0",
            "bar_color": null,
            "_model_module": "@jupyter-widgets/controls"
          }
        },
        "016f93f1bf0742b1965e4bce883e52b0": {
          "model_module": "@jupyter-widgets/base",
          "model_name": "LayoutModel",
          "state": {
            "_view_name": "LayoutView",
            "grid_template_rows": null,
            "right": null,
            "justify_content": null,
            "_view_module": "@jupyter-widgets/base",
            "overflow": null,
            "_model_module_version": "1.2.0",
            "_view_count": null,
            "flex_flow": null,
            "width": null,
            "min_width": null,
            "border": null,
            "align_items": null,
            "bottom": null,
            "_model_module": "@jupyter-widgets/base",
            "top": null,
            "grid_column": null,
            "overflow_y": null,
            "overflow_x": null,
            "grid_auto_flow": null,
            "grid_area": null,
            "grid_template_columns": null,
            "flex": null,
            "_model_name": "LayoutModel",
            "justify_items": null,
            "grid_row": null,
            "max_height": null,
            "align_content": null,
            "visibility": null,
            "align_self": null,
            "height": null,
            "min_height": null,
            "padding": null,
            "grid_auto_rows": null,
            "grid_gap": null,
            "max_width": null,
            "order": null,
            "_view_module_version": "1.2.0",
            "grid_template_areas": null,
            "object_position": null,
            "object_fit": null,
            "grid_auto_columns": null,
            "margin": null,
            "display": null,
            "left": null
          }
        },
        "366df5abd92f483ab9dff36c4a1e8faa": {
          "model_module": "@jupyter-widgets/controls",
          "model_name": "DescriptionStyleModel",
          "state": {
            "_view_name": "StyleView",
            "_model_name": "DescriptionStyleModel",
            "description_width": "",
            "_view_module": "@jupyter-widgets/base",
            "_model_module_version": "1.5.0",
            "_view_count": null,
            "_view_module_version": "1.2.0",
            "_model_module": "@jupyter-widgets/controls"
          }
        },
        "f009643e91124475bdd99756c667dbfb": {
          "model_module": "@jupyter-widgets/base",
          "model_name": "LayoutModel",
          "state": {
            "_view_name": "LayoutView",
            "grid_template_rows": null,
            "right": null,
            "justify_content": null,
            "_view_module": "@jupyter-widgets/base",
            "overflow": null,
            "_model_module_version": "1.2.0",
            "_view_count": null,
            "flex_flow": null,
            "width": null,
            "min_width": null,
            "border": null,
            "align_items": null,
            "bottom": null,
            "_model_module": "@jupyter-widgets/base",
            "top": null,
            "grid_column": null,
            "overflow_y": null,
            "overflow_x": null,
            "grid_auto_flow": null,
            "grid_area": null,
            "grid_template_columns": null,
            "flex": null,
            "_model_name": "LayoutModel",
            "justify_items": null,
            "grid_row": null,
            "max_height": null,
            "align_content": null,
            "visibility": null,
            "align_self": null,
            "height": null,
            "min_height": null,
            "padding": null,
            "grid_auto_rows": null,
            "grid_gap": null,
            "max_width": null,
            "order": null,
            "_view_module_version": "1.2.0",
            "grid_template_areas": null,
            "object_position": null,
            "object_fit": null,
            "grid_auto_columns": null,
            "margin": null,
            "display": null,
            "left": null
          }
        },
        "e846966c624c4682b0f79363ac8479c9": {
          "model_module": "@jupyter-widgets/controls",
          "model_name": "HBoxModel",
          "state": {
            "_view_name": "HBoxView",
            "_dom_classes": [],
            "_model_name": "HBoxModel",
            "_view_module": "@jupyter-widgets/controls",
            "_model_module_version": "1.5.0",
            "_view_count": null,
            "_view_module_version": "1.5.0",
            "box_style": "",
            "layout": "IPY_MODEL_6fd2afa2419142fc8d8ef438b635f3c2",
            "_model_module": "@jupyter-widgets/controls",
            "children": [
              "IPY_MODEL_5f5d832d1e0a4afe9f8942fba2f52377",
              "IPY_MODEL_eccf7aaa739f42c19029ac2e767edf7f"
            ]
          }
        },
        "6fd2afa2419142fc8d8ef438b635f3c2": {
          "model_module": "@jupyter-widgets/base",
          "model_name": "LayoutModel",
          "state": {
            "_view_name": "LayoutView",
            "grid_template_rows": null,
            "right": null,
            "justify_content": null,
            "_view_module": "@jupyter-widgets/base",
            "overflow": null,
            "_model_module_version": "1.2.0",
            "_view_count": null,
            "flex_flow": null,
            "width": null,
            "min_width": null,
            "border": null,
            "align_items": null,
            "bottom": null,
            "_model_module": "@jupyter-widgets/base",
            "top": null,
            "grid_column": null,
            "overflow_y": null,
            "overflow_x": null,
            "grid_auto_flow": null,
            "grid_area": null,
            "grid_template_columns": null,
            "flex": null,
            "_model_name": "LayoutModel",
            "justify_items": null,
            "grid_row": null,
            "max_height": null,
            "align_content": null,
            "visibility": null,
            "align_self": null,
            "height": null,
            "min_height": null,
            "padding": null,
            "grid_auto_rows": null,
            "grid_gap": null,
            "max_width": null,
            "order": null,
            "_view_module_version": "1.2.0",
            "grid_template_areas": null,
            "object_position": null,
            "object_fit": null,
            "grid_auto_columns": null,
            "margin": null,
            "display": null,
            "left": null
          }
        },
        "5f5d832d1e0a4afe9f8942fba2f52377": {
          "model_module": "@jupyter-widgets/controls",
          "model_name": "FloatProgressModel",
          "state": {
            "_view_name": "ProgressView",
            "style": "IPY_MODEL_9e22efc51ee74aad92c80cb38fd7dc39",
            "_dom_classes": [],
            "description": "100%",
            "_model_name": "FloatProgressModel",
            "bar_style": "success",
            "max": 604,
            "_view_module": "@jupyter-widgets/controls",
            "_model_module_version": "1.5.0",
            "value": 604,
            "_view_count": null,
            "_view_module_version": "1.5.0",
            "orientation": "horizontal",
            "min": 0,
            "description_tooltip": null,
            "_model_module": "@jupyter-widgets/controls",
            "layout": "IPY_MODEL_df73889712a340d88ecb41cb76a008c2"
          }
        },
        "eccf7aaa739f42c19029ac2e767edf7f": {
          "model_module": "@jupyter-widgets/controls",
          "model_name": "HTMLModel",
          "state": {
            "_view_name": "HTMLView",
            "style": "IPY_MODEL_16fab20433094fc78aa462d4c2a47eba",
            "_dom_classes": [],
            "description": "",
            "_model_name": "HTMLModel",
            "placeholder": "​",
            "_view_module": "@jupyter-widgets/controls",
            "_model_module_version": "1.5.0",
            "value": " 604/604 [00:01&lt;00:00, 351.48it/s]",
            "_view_count": null,
            "_view_module_version": "1.5.0",
            "description_tooltip": null,
            "_model_module": "@jupyter-widgets/controls",
            "layout": "IPY_MODEL_54ba2f8216864e069ca7fec652ba900f"
          }
        },
        "9e22efc51ee74aad92c80cb38fd7dc39": {
          "model_module": "@jupyter-widgets/controls",
          "model_name": "ProgressStyleModel",
          "state": {
            "_view_name": "StyleView",
            "_model_name": "ProgressStyleModel",
            "description_width": "initial",
            "_view_module": "@jupyter-widgets/base",
            "_model_module_version": "1.5.0",
            "_view_count": null,
            "_view_module_version": "1.2.0",
            "bar_color": null,
            "_model_module": "@jupyter-widgets/controls"
          }
        },
        "df73889712a340d88ecb41cb76a008c2": {
          "model_module": "@jupyter-widgets/base",
          "model_name": "LayoutModel",
          "state": {
            "_view_name": "LayoutView",
            "grid_template_rows": null,
            "right": null,
            "justify_content": null,
            "_view_module": "@jupyter-widgets/base",
            "overflow": null,
            "_model_module_version": "1.2.0",
            "_view_count": null,
            "flex_flow": null,
            "width": null,
            "min_width": null,
            "border": null,
            "align_items": null,
            "bottom": null,
            "_model_module": "@jupyter-widgets/base",
            "top": null,
            "grid_column": null,
            "overflow_y": null,
            "overflow_x": null,
            "grid_auto_flow": null,
            "grid_area": null,
            "grid_template_columns": null,
            "flex": null,
            "_model_name": "LayoutModel",
            "justify_items": null,
            "grid_row": null,
            "max_height": null,
            "align_content": null,
            "visibility": null,
            "align_self": null,
            "height": null,
            "min_height": null,
            "padding": null,
            "grid_auto_rows": null,
            "grid_gap": null,
            "max_width": null,
            "order": null,
            "_view_module_version": "1.2.0",
            "grid_template_areas": null,
            "object_position": null,
            "object_fit": null,
            "grid_auto_columns": null,
            "margin": null,
            "display": null,
            "left": null
          }
        },
        "16fab20433094fc78aa462d4c2a47eba": {
          "model_module": "@jupyter-widgets/controls",
          "model_name": "DescriptionStyleModel",
          "state": {
            "_view_name": "StyleView",
            "_model_name": "DescriptionStyleModel",
            "description_width": "",
            "_view_module": "@jupyter-widgets/base",
            "_model_module_version": "1.5.0",
            "_view_count": null,
            "_view_module_version": "1.2.0",
            "_model_module": "@jupyter-widgets/controls"
          }
        },
        "54ba2f8216864e069ca7fec652ba900f": {
          "model_module": "@jupyter-widgets/base",
          "model_name": "LayoutModel",
          "state": {
            "_view_name": "LayoutView",
            "grid_template_rows": null,
            "right": null,
            "justify_content": null,
            "_view_module": "@jupyter-widgets/base",
            "overflow": null,
            "_model_module_version": "1.2.0",
            "_view_count": null,
            "flex_flow": null,
            "width": null,
            "min_width": null,
            "border": null,
            "align_items": null,
            "bottom": null,
            "_model_module": "@jupyter-widgets/base",
            "top": null,
            "grid_column": null,
            "overflow_y": null,
            "overflow_x": null,
            "grid_auto_flow": null,
            "grid_area": null,
            "grid_template_columns": null,
            "flex": null,
            "_model_name": "LayoutModel",
            "justify_items": null,
            "grid_row": null,
            "max_height": null,
            "align_content": null,
            "visibility": null,
            "align_self": null,
            "height": null,
            "min_height": null,
            "padding": null,
            "grid_auto_rows": null,
            "grid_gap": null,
            "max_width": null,
            "order": null,
            "_view_module_version": "1.2.0",
            "grid_template_areas": null,
            "object_position": null,
            "object_fit": null,
            "grid_auto_columns": null,
            "margin": null,
            "display": null,
            "left": null
          }
        }
      }
    }
  },
  "cells": [
    {
      "cell_type": "markdown",
      "metadata": {
        "id": "view-in-github",
        "colab_type": "text"
      },
      "source": [
        "<a href=\"https://colab.research.google.com/github/ivoryRabbit/RecSys/blob/master/8_CDAE.ipynb\" target=\"_parent\"><img src=\"https://colab.research.google.com/assets/colab-badge.svg\" alt=\"Open In Colab\"/></a>"
      ]
    },
    {
      "cell_type": "markdown",
      "metadata": {
        "id": "viikY8IQdVTY"
      },
      "source": [
        "# CDAE\n",
        "\n",
        "- [Collaborative Denoising Auto-Encoders for Top-N Recommender Systems](https://alicezheng.org/papers/wsdm16-cdae.pdf)\n",
        "\n",
        "## Experiment"
      ]
    },
    {
      "cell_type": "code",
      "metadata": {
        "id": "M8FDcw4rVboe"
      },
      "source": [
        "import glob\n",
        "import numpy as np\n",
        "import pandas as pd\n",
        "from typing import Callable, Tuple, List\n",
        "from tqdm.notebook import tqdm\n",
        "\n",
        "import matplotlib.pyplot as plt\n",
        "%matplotlib inline\n",
        "plt.style.use('ggplot')\n",
        "\n",
        "from sklearn.model_selection import train_test_split\n",
        "\n",
        "import tensorflow as tf\n",
        "import tensorflow.keras.backend as K\n",
        "\n",
        "from tensorflow.keras.layers import Input, Dense\n",
        "from tensorflow.keras.models import Model, load_model\n",
        "from tensorflow.keras.callbacks import ModelCheckpoint, EarlyStopping\n",
        "from tensorflow.keras.optimizers import Adam\n",
        "from tensorflow.keras.regularizers import l2\n",
        "\n",
        "from tensorflow.keras.utils import get_file\n",
        "import zipfile\n",
        "\n",
        "np.random.seed(777)\n",
        "tf.random.set_seed(777)"
      ],
      "execution_count": 1,
      "outputs": []
    },
    {
      "cell_type": "code",
      "metadata": {
        "id": "sdjqodyYVf9I"
      },
      "source": [
        "def load_data(data_size : str) -> pd.DataFrame:\n",
        "    ''' load Movie Lens data '''\n",
        "\n",
        "    if data_size == '1m':\n",
        "        fname = 'ml-1m.zip'\n",
        "        data = 'ml-1m/ratings.dat'\n",
        "    elif data_size == '10m':\n",
        "        fname = 'ml-10m.zip'\n",
        "        data = 'ml-10M100K/ratings.dat'\n",
        "    elif data_size == '20m':\n",
        "        fname = 'ml-20m.zip'\n",
        "        data = 'ml-20m/ratings.csv'\n",
        "    elif data_size == '25m':\n",
        "        fname = 'ml-25m.zip'\n",
        "        data = 'ml-25m/ratings.csv'\n",
        "    if not glob.glob(data):\n",
        "        origin = f'http://files.grouplens.org/datasets/movielens/{fname}'\n",
        "        file = get_file(fname, origin)\n",
        "        zip_ref = zipfile.ZipFile(file, 'r')\n",
        "        zip_ref.extractall()\n",
        "\n",
        "    col_names = ['user_id', 'movie_id', 'rating', 'timestamp']\n",
        "    if data_size in ['20m', '25m']:\n",
        "        ratings = pd.read_csv(data, names = col_names, engine = 'python')\n",
        "    else:\n",
        "        ratings = pd.read_csv(data, sep = '|', delimiter = '::', names = col_names, engine = 'python')\n",
        "    print(ratings.shape)\n",
        "    return ratings"
      ],
      "execution_count": 2,
      "outputs": []
    },
    {
      "cell_type": "code",
      "metadata": {
        "id": "RZf8Gzf0VhYV",
        "colab": {
          "base_uri": "https://localhost:8080/",
          "height": 248
        },
        "outputId": "5100f5bc-03fe-43bc-c0bd-d4bfdf1e1730"
      },
      "source": [
        "ratings = load_data('1m')\n",
        "ratings.head()"
      ],
      "execution_count": 3,
      "outputs": [
        {
          "output_type": "stream",
          "text": [
            "Downloading data from http://files.grouplens.org/datasets/movielens/ml-1m.zip\n",
            "5922816/5917549 [==============================] - 0s 0us/step\n",
            "(1000209, 4)\n"
          ],
          "name": "stdout"
        },
        {
          "output_type": "execute_result",
          "data": {
            "text/html": [
              "<div>\n",
              "<style scoped>\n",
              "    .dataframe tbody tr th:only-of-type {\n",
              "        vertical-align: middle;\n",
              "    }\n",
              "\n",
              "    .dataframe tbody tr th {\n",
              "        vertical-align: top;\n",
              "    }\n",
              "\n",
              "    .dataframe thead th {\n",
              "        text-align: right;\n",
              "    }\n",
              "</style>\n",
              "<table border=\"1\" class=\"dataframe\">\n",
              "  <thead>\n",
              "    <tr style=\"text-align: right;\">\n",
              "      <th></th>\n",
              "      <th>user_id</th>\n",
              "      <th>movie_id</th>\n",
              "      <th>rating</th>\n",
              "      <th>timestamp</th>\n",
              "    </tr>\n",
              "  </thead>\n",
              "  <tbody>\n",
              "    <tr>\n",
              "      <th>0</th>\n",
              "      <td>1</td>\n",
              "      <td>1193</td>\n",
              "      <td>5</td>\n",
              "      <td>978300760</td>\n",
              "    </tr>\n",
              "    <tr>\n",
              "      <th>1</th>\n",
              "      <td>1</td>\n",
              "      <td>661</td>\n",
              "      <td>3</td>\n",
              "      <td>978302109</td>\n",
              "    </tr>\n",
              "    <tr>\n",
              "      <th>2</th>\n",
              "      <td>1</td>\n",
              "      <td>914</td>\n",
              "      <td>3</td>\n",
              "      <td>978301968</td>\n",
              "    </tr>\n",
              "    <tr>\n",
              "      <th>3</th>\n",
              "      <td>1</td>\n",
              "      <td>3408</td>\n",
              "      <td>4</td>\n",
              "      <td>978300275</td>\n",
              "    </tr>\n",
              "    <tr>\n",
              "      <th>4</th>\n",
              "      <td>1</td>\n",
              "      <td>2355</td>\n",
              "      <td>5</td>\n",
              "      <td>978824291</td>\n",
              "    </tr>\n",
              "  </tbody>\n",
              "</table>\n",
              "</div>"
            ],
            "text/plain": [
              "   user_id  movie_id  rating  timestamp\n",
              "0        1      1193       5  978300760\n",
              "1        1       661       3  978302109\n",
              "2        1       914       3  978301968\n",
              "3        1      3408       4  978300275\n",
              "4        1      2355       5  978824291"
            ]
          },
          "metadata": {
            "tags": []
          },
          "execution_count": 3
        }
      ]
    },
    {
      "cell_type": "code",
      "metadata": {
        "id": "i4swbW8rQ8IY",
        "colab": {
          "base_uri": "https://localhost:8080/"
        },
        "outputId": "db6b685e-41df-4bff-fdef-fed1b98aa675"
      },
      "source": [
        "user_list = ratings.user_id.unique()\n",
        "user_idx_map = {e: i for i, e in enumerate(user_list)}\n",
        "n_user = len(user_list)\n",
        "print(f'# of user = {n_user}')\n",
        "\n",
        "item_list = ratings.movie_id.unique()\n",
        "item_idx_map = {e: i for i, e in enumerate(item_list)}\n",
        "n_item = len(item_list)\n",
        "print(f'# of item = {n_item}')"
      ],
      "execution_count": 4,
      "outputs": [
        {
          "output_type": "stream",
          "text": [
            "# of user = 6040\n",
            "# of item = 3706\n"
          ],
          "name": "stdout"
        }
      ]
    },
    {
      "cell_type": "code",
      "metadata": {
        "colab": {
          "base_uri": "https://localhost:8080/",
          "height": 195
        },
        "id": "r2QLtUIHbVta",
        "outputId": "3ff99422-e3cd-468f-9189-54699fb8708c"
      },
      "source": [
        "ratings = ratings.assign(\r\n",
        "    user_id = ratings.user_id.map(user_idx_map),\r\n",
        "    movie_id = ratings.movie_id.map(item_idx_map)\r\n",
        ")\r\n",
        "ratings.head()"
      ],
      "execution_count": 5,
      "outputs": [
        {
          "output_type": "execute_result",
          "data": {
            "text/html": [
              "<div>\n",
              "<style scoped>\n",
              "    .dataframe tbody tr th:only-of-type {\n",
              "        vertical-align: middle;\n",
              "    }\n",
              "\n",
              "    .dataframe tbody tr th {\n",
              "        vertical-align: top;\n",
              "    }\n",
              "\n",
              "    .dataframe thead th {\n",
              "        text-align: right;\n",
              "    }\n",
              "</style>\n",
              "<table border=\"1\" class=\"dataframe\">\n",
              "  <thead>\n",
              "    <tr style=\"text-align: right;\">\n",
              "      <th></th>\n",
              "      <th>user_id</th>\n",
              "      <th>movie_id</th>\n",
              "      <th>rating</th>\n",
              "      <th>timestamp</th>\n",
              "    </tr>\n",
              "  </thead>\n",
              "  <tbody>\n",
              "    <tr>\n",
              "      <th>0</th>\n",
              "      <td>0</td>\n",
              "      <td>0</td>\n",
              "      <td>5</td>\n",
              "      <td>978300760</td>\n",
              "    </tr>\n",
              "    <tr>\n",
              "      <th>1</th>\n",
              "      <td>0</td>\n",
              "      <td>1</td>\n",
              "      <td>3</td>\n",
              "      <td>978302109</td>\n",
              "    </tr>\n",
              "    <tr>\n",
              "      <th>2</th>\n",
              "      <td>0</td>\n",
              "      <td>2</td>\n",
              "      <td>3</td>\n",
              "      <td>978301968</td>\n",
              "    </tr>\n",
              "    <tr>\n",
              "      <th>3</th>\n",
              "      <td>0</td>\n",
              "      <td>3</td>\n",
              "      <td>4</td>\n",
              "      <td>978300275</td>\n",
              "    </tr>\n",
              "    <tr>\n",
              "      <th>4</th>\n",
              "      <td>0</td>\n",
              "      <td>4</td>\n",
              "      <td>5</td>\n",
              "      <td>978824291</td>\n",
              "    </tr>\n",
              "  </tbody>\n",
              "</table>\n",
              "</div>"
            ],
            "text/plain": [
              "   user_id  movie_id  rating  timestamp\n",
              "0        0         0       5  978300760\n",
              "1        0         1       3  978302109\n",
              "2        0         2       3  978301968\n",
              "3        0         3       4  978300275\n",
              "4        0         4       5  978824291"
            ]
          },
          "metadata": {
            "tags": []
          },
          "execution_count": 5
        }
      ]
    },
    {
      "cell_type": "code",
      "metadata": {
        "id": "4k_gvGBUbfQU"
      },
      "source": [
        "def binarizer(df: pd.DataFrame, threshold = 4) -> pd.DataFrame:\n",
        "    df = df.assign(rating = np.where(df.rating >= threshold, 1, 0))\n",
        "    return df[df.rating > 0.0].reset_index(drop = True)\n",
        "\n",
        "def make_warm(df: pd.DataFrame, threshold = 5) -> pd.DataFrame: # remove cold starters\n",
        "    positive = df.groupby('user_id')['movie_id'].count()\n",
        "    positive = positive.index[positive >= threshold]\n",
        "    return df[df.user_id.isin(positive)].reset_index(drop = True)\n",
        "\n",
        "def train_valid_test_split(df: pd.DataFrame, size: float) -> pd.DataFrame:\n",
        "    train_user, test_user = train_test_split(df.user_id.unique(), test_size = 2 * size, random_state = 777)\n",
        "    valid_user, test_user = train_test_split(test_user, test_size = 0.5, random_state = 777)\n",
        "    train, valid, test = map(lambda x: df[df.user_id.isin(x)], (train_user, valid_user, test_user))\n",
        "    train, valid, test = map(lambda df: df.reset_index(drop = True), (train, valid, test))\n",
        "    return train, valid, test\n",
        "\n",
        "def query_relev_split(df: pd.DataFrame, size: float) -> pd.DataFrame:\n",
        "    timeorder = df.groupby('user_id')['timestamp'].rank(method = 'first', ascending = True)\n",
        "    seen_cnts = df.groupby('user_id')['movie_id'].transform('count')\n",
        "    df = df.assign(seen_cnts = seen_cnts, timeorder = timeorder)\n",
        "    query = df[df.timeorder < df.seen_cnts * (1-size)]\n",
        "    relev = df[df.timeorder >= df.seen_cnts * (1-size)]\n",
        "    relev = relev[relev.user_id.isin(query.user_id.unique())]\n",
        "    query, relev = map(lambda df: df.drop(columns = ['timeorder', 'seen_cnts']), (query, relev))\n",
        "    query, relev = map(lambda df: df.reset_index(drop = True), (query, relev))\n",
        "    return query, relev\n",
        "\n",
        "def list_agg(df: pd.DataFrame) -> pd.DataFrame:\n",
        "    return df.groupby('user_id', as_index = False)[['movie_id']].agg(list)"
      ],
      "execution_count": 6,
      "outputs": []
    },
    {
      "cell_type": "code",
      "metadata": {
        "colab": {
          "base_uri": "https://localhost:8080/",
          "height": 195
        },
        "id": "PAMuwTZjbfQU",
        "outputId": "b45e160c-375d-434c-f358-85f37df4e777"
      },
      "source": [
        "data = binarizer(ratings)\r\n",
        "data = make_warm(data)\r\n",
        "data.head()"
      ],
      "execution_count": 7,
      "outputs": [
        {
          "output_type": "execute_result",
          "data": {
            "text/html": [
              "<div>\n",
              "<style scoped>\n",
              "    .dataframe tbody tr th:only-of-type {\n",
              "        vertical-align: middle;\n",
              "    }\n",
              "\n",
              "    .dataframe tbody tr th {\n",
              "        vertical-align: top;\n",
              "    }\n",
              "\n",
              "    .dataframe thead th {\n",
              "        text-align: right;\n",
              "    }\n",
              "</style>\n",
              "<table border=\"1\" class=\"dataframe\">\n",
              "  <thead>\n",
              "    <tr style=\"text-align: right;\">\n",
              "      <th></th>\n",
              "      <th>user_id</th>\n",
              "      <th>movie_id</th>\n",
              "      <th>rating</th>\n",
              "      <th>timestamp</th>\n",
              "    </tr>\n",
              "  </thead>\n",
              "  <tbody>\n",
              "    <tr>\n",
              "      <th>0</th>\n",
              "      <td>0</td>\n",
              "      <td>0</td>\n",
              "      <td>1</td>\n",
              "      <td>978300760</td>\n",
              "    </tr>\n",
              "    <tr>\n",
              "      <th>1</th>\n",
              "      <td>0</td>\n",
              "      <td>3</td>\n",
              "      <td>1</td>\n",
              "      <td>978300275</td>\n",
              "    </tr>\n",
              "    <tr>\n",
              "      <th>2</th>\n",
              "      <td>0</td>\n",
              "      <td>4</td>\n",
              "      <td>1</td>\n",
              "      <td>978824291</td>\n",
              "    </tr>\n",
              "    <tr>\n",
              "      <th>3</th>\n",
              "      <td>0</td>\n",
              "      <td>6</td>\n",
              "      <td>1</td>\n",
              "      <td>978302039</td>\n",
              "    </tr>\n",
              "    <tr>\n",
              "      <th>4</th>\n",
              "      <td>0</td>\n",
              "      <td>7</td>\n",
              "      <td>1</td>\n",
              "      <td>978300719</td>\n",
              "    </tr>\n",
              "  </tbody>\n",
              "</table>\n",
              "</div>"
            ],
            "text/plain": [
              "   user_id  movie_id  rating  timestamp\n",
              "0        0         0       1  978300760\n",
              "1        0         3       1  978300275\n",
              "2        0         4       1  978824291\n",
              "3        0         6       1  978302039\n",
              "4        0         7       1  978300719"
            ]
          },
          "metadata": {
            "tags": []
          },
          "execution_count": 7
        }
      ]
    },
    {
      "cell_type": "code",
      "metadata": {
        "id": "QgUejgddbfQV"
      },
      "source": [
        "train, valid, test = train_valid_test_split(data, size = 0.1)\r\n",
        "valid_q, valid_r = query_relev_split(valid, size = 0.2)\r\n",
        "test_q, test_r = query_relev_split(test, size = 0.2)"
      ],
      "execution_count": 8,
      "outputs": []
    },
    {
      "cell_type": "code",
      "metadata": {
        "id": "Sf7jGLD1bpQT"
      },
      "source": [
        "def train_generator(train: pd.DataFrame, \r\n",
        "                    n_item: int,\r\n",
        "                    batch_size: int,\r\n",
        "                    n_neg = 5,\r\n",
        "                    corruption = 0.3) -> np.ndarray:\r\n",
        "\r\n",
        "    train = list_agg(train)\r\n",
        "    \r\n",
        "    n_data = train.index.size\r\n",
        "    ids = np.arange(n_data)\r\n",
        "    profile = train['movie_id']\r\n",
        "\r\n",
        "    n_batch = int(np.ceil(n_data / batch_size))\r\n",
        "    while True:\r\n",
        "        np.random.shuffle(ids)\r\n",
        "        for batch_step in range(n_batch):     \r\n",
        "            lower = batch_size * batch_step\r\n",
        "            upper = batch_size + lower\r\n",
        "            \r\n",
        "            batch_id = ids[lower: upper]\r\n",
        "            batch = np.zeros(shape = (batch_id.size, n_item), dtype = np.float32)\r\n",
        "            for i, idx in enumerate(batch_id):\r\n",
        "                pos = np.array(profile[idx])\r\n",
        "                neg = np.delete(np.arange(n_item), pos)\r\n",
        "                neg = np.random.choice(neg, n_neg * len(pos))\r\n",
        "                p = np.random.uniform(0, 1, size = len(pos))\r\n",
        "                cor = pos[p < corruption]\r\n",
        "\r\n",
        "                batch[i, pos] = 1.0\r\n",
        "                batch[i, neg] = K.epsilon() #np.finfo(float).eps\r\n",
        "                batch[i, cor] = 0.0\r\n",
        "            \r\n",
        "            yield batch"
      ],
      "execution_count": 9,
      "outputs": []
    },
    {
      "cell_type": "code",
      "metadata": {
        "id": "Us8c86FLTv93"
      },
      "source": [
        "def valid_generator(query: pd.DataFrame,\n",
        "                    relev: pd.DataFrame,\n",
        "                    n_item: int,\n",
        "                    batch_size: int) -> Tuple[np.ndarray]:\n",
        "\n",
        "    query = list_agg(query)\n",
        "    relev = list_agg(relev)\n",
        "\n",
        "    n_data = query.index.size\n",
        "    ids = np.arange(n_data)\n",
        "    profile_q = query['movie_id']\n",
        "    profile_r = relev['movie_id']\n",
        "\n",
        "    n_batch = int(np.ceil(n_data / batch_size))\n",
        "    while True:\n",
        "        np.random.shuffle(ids)\n",
        "        for batch_step in range(n_batch):\n",
        "            lower = batch_size * batch_step\n",
        "            upper = batch_size + lower\n",
        "            \n",
        "            batch_id = ids[lower: upper]\n",
        "            batch_q = np.zeros(shape = (batch_id.size, n_item), dtype = np.float32)\n",
        "            batch_r = np.zeros(shape = (batch_id.size, n_item), dtype = np.float32)\n",
        "            for i, idx in enumerate(batch_id):\n",
        "                batch_q[i, profile_q[idx]] = 1.0 # seen\n",
        "                batch_r[i, profile_r[idx]] = 1.0 # unseen\n",
        "\n",
        "            yield batch_q, batch_r"
      ],
      "execution_count": 10,
      "outputs": []
    },
    {
      "cell_type": "code",
      "metadata": {
        "id": "nNPv41eMBv1v"
      },
      "source": [
        "def masked_binary_cross_entropy(true: tf.Tensor, pred: tf.Tensor, masked_value = 0.0) -> tf.Tensor:\n",
        "    mask_true = K.cast(K.not_equal(true, masked_value), dtype = 'float32')\n",
        "    ce = mask_true * K.binary_crossentropy(true, pred)\n",
        "    return tf.reduce_mean(tf.reduce_sum(ce, axis = 1), axis = 0)\n",
        "\n",
        "def batch_ndcg(query: tf.Tensor, \n",
        "               relev: tf.Tensor,\n",
        "               pred: tf.Tensor, \n",
        "               weight: tf.Tensor,\n",
        "               k = 100) -> tf.Tensor: # only for validation\n",
        "\n",
        "    rec = tf.where(query == 1.0, -1.0, pred) # leave only unseen-data\n",
        "    rec = tf.argsort(rec, axis = 1, direction = 'DESCENDING')[:, :k]\n",
        "    shape = tf.shape(rec)\n",
        "\n",
        "    row = tf.repeat(tf.range(shape[0]), shape[1])\n",
        "    row = tf.expand_dims(row, axis = 1)\n",
        "    col = tf.reshape(rec, shape = [-1])\n",
        "    col = tf.expand_dims(col, axis = 1)\n",
        "    loc = tf.concat([row, col], axis = 1)\n",
        "\n",
        "    top_k = tf.reshape(tf.gather_nd(relev, loc), shape = shape)\n",
        "    ideal = tf.sort(relev, axis = 1, direction = 'DESCENDING')[:, :k]\n",
        "    weight = weight[:shape[1]]\n",
        "\n",
        "    dcg = tf.reduce_sum(top_k * weight, axis = 1)\n",
        "    idcg = tf.reduce_sum(ideal * weight, axis = 1)\n",
        "    return tf.reduce_mean(dcg / idcg, axis = 0)"
      ],
      "execution_count": 11,
      "outputs": []
    },
    {
      "cell_type": "code",
      "metadata": {
        "id": "ksDapaZueR7G"
      },
      "source": [
        "class CDAE(tf.keras.models.Model):\r\n",
        "    def __init__(self, input_dim, latent_dim):\r\n",
        "        super(CDAE, self).__init__()\r\n",
        "        self.input_dim = input_dim\r\n",
        "        self.latent_dim = latent_dim\r\n",
        "\r\n",
        "        self.encoder = Dense(self.latent_dim, \r\n",
        "                             activation = 'linear',\r\n",
        "                             kernel_initializer = 'glorot_uniform',\r\n",
        "                             bias_initializer = 'zeros',\r\n",
        "                             kernel_regularizer = l2(1e-3),\r\n",
        "                             name = 'encoder')\r\n",
        "        self.decoder = Dense(self.input_dim,\r\n",
        "                             activation = 'sigmoid',\r\n",
        "                             kernel_initializer = 'glorot_uniform',\r\n",
        "                             bias_initializer = 'zeros',\r\n",
        "                             kernel_regularizer = l2(1e-3),\r\n",
        "                             name = 'decoder')\r\n",
        "        \r\n",
        "        _ = self.call(Input(shape = (self.input_dim, )))\r\n",
        "        self.build(input_shape = (None, self.input_dim))\r\n",
        "\r\n",
        "    def call(self, inputs):\r\n",
        "        h = self.encoder(inputs)\r\n",
        "        return self.decoder(h)\r\n",
        "\r\n",
        "    def train_step(self, inputs):\r\n",
        "        with tf.GradientTape() as tape:\r\n",
        "            outputs = self(inputs)\r\n",
        "            loss = self.loss(inputs, outputs)\r\n",
        "        grads = tape.gradient(loss, self.trainable_variables)\r\n",
        "        self.optimizer.apply_gradients(zip(grads, self.trainable_variables))\r\n",
        "        return {'loss': loss}\r\n",
        "\r\n",
        "    def test_step(self, data):\r\n",
        "        query, relev = data\r\n",
        "        pred = self(query)\r\n",
        "\r\n",
        "        weight = tf.range(2, self.input_dim, dtype = 'float32')\r\n",
        "        weight = tf.math.reciprocal(tf.math.log(weight))\r\n",
        "        ndcg = batch_ndcg(query, relev, pred, weight)\r\n",
        "        return {'ndcg': ndcg}"
      ],
      "execution_count": 12,
      "outputs": []
    },
    {
      "cell_type": "code",
      "metadata": {
        "id": "Vc70c_-V0PfB"
      },
      "source": [
        "def show_history(hist, loss: str, metric: str) -> None:\r\n",
        "    fig, (ax1, ax2) = plt.subplots(2, 1, figsize = (8, 6))\r\n",
        "\r\n",
        "    ax1.plot(hist.history[f'{loss}'])\r\n",
        "    ax1.set_title(loss, fontsize = 20)\r\n",
        "    ax1.set_ylabel(loss)\r\n",
        "    ax1.set_xlabel('epoch')\r\n",
        "\r\n",
        "    ax2.plot(hist.history[f'val_{metric}'])\r\n",
        "    ax2.set_title(metric, fontsize = 20)\r\n",
        "    ax2.set_ylabel(metric)\r\n",
        "    ax2.set_xlabel('epoch')\r\n",
        "    plt.tight_layout()"
      ],
      "execution_count": 13,
      "outputs": []
    },
    {
      "cell_type": "code",
      "metadata": {
        "id": "NHoctUBox1Z4"
      },
      "source": [
        "def test_predictor(query: pd.DataFrame, \n",
        "                   model: Callable,\n",
        "                   n_item: int, \n",
        "                   batch_size: int, \n",
        "                   N = 100) -> float:\n",
        "\n",
        "    query = list_agg(query)\n",
        "\n",
        "    n_data = query.index.size\n",
        "    ids = np.arange(n_data)\n",
        "    profile = query['movie_id']\n",
        "\n",
        "    pred = []\n",
        "    n_batch = int(np.ceil(n_data / batch_size))\n",
        "    for batch_step in range(n_batch):\n",
        "        lower = batch_size * batch_step\n",
        "        upper = batch_size + lower\n",
        "\n",
        "        batch_id = ids[lower: upper]\n",
        "        batch = np.zeros(shape = (batch_id.size, n_item))\n",
        "        for i, idx in enumerate(batch_id):\n",
        "            batch[i, profile[idx]] = 1.0\n",
        "\n",
        "        pred_batch = model.predict(batch, verbose = 0)\n",
        "        \n",
        "        rec = np.argsort(np.where(batch == 1.0, -1.0, pred_batch), axis = 1)[:, :-N-1:-1]\n",
        "        pred.append(rec)\n",
        "    pred = np.concatenate(pred)\n",
        "    pred = [{'user_id': query.at[i, 'user_id'], 'movie_id': pred[i]} for i in range(n_data)]\n",
        "    return pd.DataFrame(pred)"
      ],
      "execution_count": 14,
      "outputs": []
    },
    {
      "cell_type": "code",
      "metadata": {
        "id": "G05LGp9eAfE0"
      },
      "source": [
        "class evaluate:\n",
        "    def __init__(self, true: pd.DataFrame, pred: pd.DataFrame):\n",
        "        self.true = true\n",
        "        self.pred = pred\n",
        "        self.max_K = 10000\n",
        "        self.idcg = np.cumsum([1.0 / np.log(i+2) for i in range(self.max_K)])\n",
        "\n",
        "    def _recall(self, gt: List, rec: List, K = None) -> float:\n",
        "        K = K if K else self.max_K\n",
        "        res = [r for r in rec[:K] if r in gt]\n",
        "        return len(res) / np.min([K, len(gt)])\n",
        "    \n",
        "    def _precision(self, gt: List, rec: List, K = None) -> float:\n",
        "        K = K if K else self.max_K\n",
        "        res = [r for r in rec[:K] if r in gt]\n",
        "        return len(res) / len(rec[:K])\n",
        "\n",
        "    def _AP(self, gt: List, rec: List, K = None) -> float: # Average Precision\n",
        "        K = K if K else self.max_K\n",
        "        res = 0.0\n",
        "        for i, r in enumerate(rec[:K]):\n",
        "            if r in gt:\n",
        "                res += self._precision(gt, rec[:K], i+1)\n",
        "        return res / np.min([K, len(gt)])\n",
        "\n",
        "    def _RR(self, gt: List, rec: List, K = None) -> float: # Reciprocal Rank\n",
        "        K = K if K else self.max_K\n",
        "        for i, r in enumerate(rec[:K]):\n",
        "            if r in gt:\n",
        "                return  1.0 / (i+1)\n",
        "        return 0\n",
        "\n",
        "    def _nDCG(self, gt: List, rec: List, K = None) -> float: # normalized Discounted Cumulative Gain\n",
        "        K = K if K else self.max_K\n",
        "        dcg = 0.0\n",
        "        for i, r in enumerate(rec[:K]):\n",
        "            if r in gt:\n",
        "                dcg += 1.0 / np.log(i+2)\n",
        "        idcg = self.idcg[min([len(gt), K])-1]\n",
        "        return dcg / idcg\n",
        "    \n",
        "    def __call__(self, K = None):\n",
        "        self.K = K\n",
        "        self.recall = 0\n",
        "        self.precision = 0\n",
        "        self.MAP = 0\n",
        "        self.MRR = 0\n",
        "        self.nDCG = 0\n",
        "        n = self.true.index.size\n",
        "        for gt, rec in zip(tqdm(self.true.movie_id), self.pred.movie_id):\n",
        "            self.recall += self._recall(gt, rec, K) / n\n",
        "            self.precision += self._precision(gt, rec, K) / n\n",
        "            self.MAP += self._AP(gt, rec, K) / n\n",
        "            self.MRR += self._RR(gt, rec, K) / n\n",
        "            self.nDCG += self._nDCG(gt, rec, K) / n\n",
        "\n",
        "    def print_all(self):\n",
        "        K = '@' + str(self.K) if self.K else ''\n",
        "        print(f'{\"Recall\":>12}{K} : {self.recall:.5f}',\n",
        "              f'\\n{\"Precision\":>12}{K} : {self.precision:.5f}',\n",
        "              f'\\n{\"MAP\":>12}{K} : {self.MAP:.5f}',\n",
        "              f'\\n{\"MRR\":>12}{K} : {self.MRR:.5f}',\n",
        "              f'\\n{\"nDCG\":>12}{K} : {self.nDCG:.5f}')"
      ],
      "execution_count": 15,
      "outputs": []
    },
    {
      "cell_type": "code",
      "metadata": {
        "id": "FqV0G-jz0HbN"
      },
      "source": [
        "epochs = 100\r\n",
        "batch_size = 128\r\n",
        "\r\n",
        "train_gen = train_generator(train, n_item, batch_size)\r\n",
        "valid_gen = valid_generator(valid_q, valid_r, n_item, batch_size)\r\n",
        "\r\n",
        "steps_per_epoch = train.user_id.nunique() // batch_size + 1\r\n",
        "validation_steps = valid.user_id.nunique() // batch_size + 1"
      ],
      "execution_count": 16,
      "outputs": []
    },
    {
      "cell_type": "code",
      "metadata": {
        "colab": {
          "base_uri": "https://localhost:8080/"
        },
        "id": "EfDSYBod6ZuU",
        "outputId": "3ed0e14f-234b-4ae3-f9d6-0a84a126fb18"
      },
      "source": [
        "model = CDAE(n_item, 256)\r\n",
        "model.compile(optimizer = Adam(lr = 1e-3), loss = masked_binary_cross_entropy)\r\n",
        "\r\n",
        "model.summary()"
      ],
      "execution_count": 17,
      "outputs": [
        {
          "output_type": "stream",
          "text": [
            "Model: \"cdae\"\n",
            "_________________________________________________________________\n",
            "Layer (type)                 Output Shape              Param #   \n",
            "=================================================================\n",
            "encoder (Dense)              (None, 256)               948992    \n",
            "_________________________________________________________________\n",
            "decoder (Dense)              (None, 3706)              952442    \n",
            "=================================================================\n",
            "Total params: 1,901,434\n",
            "Trainable params: 1,901,434\n",
            "Non-trainable params: 0\n",
            "_________________________________________________________________\n"
          ],
          "name": "stdout"
        }
      ]
    },
    {
      "cell_type": "code",
      "metadata": {
        "colab": {
          "base_uri": "https://localhost:8080/",
          "height": 1000
        },
        "id": "aOSh_Etb0Ldx",
        "outputId": "115b5e8b-d0d9-4dc6-f065-4554260fb7ce"
      },
      "source": [
        "%%time\r\n",
        "early_stopping = EarlyStopping(monitor = 'val_ndcg', mode = 'max', verbose = 1, patience = epochs // 5)\r\n",
        "model_checkpoint = ModelCheckpoint('CDAE.h5', monitor = 'val_ndcg', mode = 'max', save_best_only = True)\r\n",
        "\r\n",
        "hist = model.fit(x = train_gen, validation_data = valid_gen, epochs = epochs,\r\n",
        "                 steps_per_epoch = steps_per_epoch, validation_steps = validation_steps, \r\n",
        "                 verbose = 1, callbacks = [early_stopping, model_checkpoint])\r\n",
        "show_history(hist, 'loss', 'ndcg')"
      ],
      "execution_count": 18,
      "outputs": [
        {
          "output_type": "stream",
          "text": [
            "Epoch 1/100\n",
            "38/38 [==============================] - 3s 32ms/step - loss: 208.5770 - val_ndcg: 0.1543\n",
            "Epoch 2/100\n",
            "38/38 [==============================] - 1s 19ms/step - loss: 149.9780 - val_ndcg: 0.1685\n",
            "Epoch 3/100\n",
            "38/38 [==============================] - 1s 19ms/step - loss: 135.3889 - val_ndcg: 0.2032\n",
            "Epoch 4/100\n",
            "38/38 [==============================] - 1s 19ms/step - loss: 124.9517 - val_ndcg: 0.1969\n",
            "Epoch 5/100\n",
            "38/38 [==============================] - 1s 19ms/step - loss: 117.9963 - val_ndcg: 0.1989\n",
            "Epoch 6/100\n",
            "38/38 [==============================] - 1s 19ms/step - loss: 113.1876 - val_ndcg: 0.1971\n",
            "Epoch 7/100\n",
            "38/38 [==============================] - 1s 19ms/step - loss: 108.9551 - val_ndcg: 0.2139\n",
            "Epoch 8/100\n",
            "38/38 [==============================] - 1s 20ms/step - loss: 105.9449 - val_ndcg: 0.1957\n",
            "Epoch 9/100\n",
            "38/38 [==============================] - 1s 19ms/step - loss: 102.3983 - val_ndcg: 0.2160\n",
            "Epoch 10/100\n",
            "38/38 [==============================] - 1s 19ms/step - loss: 100.2072 - val_ndcg: 0.1903\n",
            "Epoch 11/100\n",
            "38/38 [==============================] - 1s 19ms/step - loss: 99.3186 - val_ndcg: 0.2096\n",
            "Epoch 12/100\n",
            "38/38 [==============================] - 1s 20ms/step - loss: 97.1446 - val_ndcg: 0.2179\n",
            "Epoch 13/100\n",
            "38/38 [==============================] - 1s 19ms/step - loss: 93.2603 - val_ndcg: 0.2287\n",
            "Epoch 14/100\n",
            "38/38 [==============================] - 1s 19ms/step - loss: 91.5599 - val_ndcg: 0.2057\n",
            "Epoch 15/100\n",
            "38/38 [==============================] - 1s 19ms/step - loss: 87.8517 - val_ndcg: 0.2054\n",
            "Epoch 16/100\n",
            "38/38 [==============================] - 1s 19ms/step - loss: 86.0323 - val_ndcg: 0.1993\n",
            "Epoch 17/100\n",
            "38/38 [==============================] - 1s 19ms/step - loss: 82.9082 - val_ndcg: 0.2249\n",
            "Epoch 18/100\n",
            "38/38 [==============================] - 1s 19ms/step - loss: 80.6807 - val_ndcg: 0.2085\n",
            "Epoch 19/100\n",
            "38/38 [==============================] - 1s 19ms/step - loss: 77.9304 - val_ndcg: 0.2202\n",
            "Epoch 20/100\n",
            "38/38 [==============================] - 1s 19ms/step - loss: 75.3276 - val_ndcg: 0.2233\n",
            "Epoch 21/100\n",
            "38/38 [==============================] - 1s 19ms/step - loss: 73.6036 - val_ndcg: 0.2346\n",
            "Epoch 22/100\n",
            "38/38 [==============================] - 1s 19ms/step - loss: 71.7989 - val_ndcg: 0.2144\n",
            "Epoch 23/100\n",
            "38/38 [==============================] - 1s 19ms/step - loss: 69.2702 - val_ndcg: 0.2028\n",
            "Epoch 24/100\n",
            "38/38 [==============================] - 1s 18ms/step - loss: 66.9875 - val_ndcg: 0.2043\n",
            "Epoch 25/100\n",
            "38/38 [==============================] - 1s 19ms/step - loss: 64.7183 - val_ndcg: 0.2000\n",
            "Epoch 26/100\n",
            "38/38 [==============================] - 1s 19ms/step - loss: 62.5964 - val_ndcg: 0.2261\n",
            "Epoch 27/100\n",
            "38/38 [==============================] - 1s 18ms/step - loss: 60.5953 - val_ndcg: 0.1954\n",
            "Epoch 28/100\n",
            "38/38 [==============================] - 1s 19ms/step - loss: 58.4034 - val_ndcg: 0.2204\n",
            "Epoch 29/100\n",
            "38/38 [==============================] - 1s 19ms/step - loss: 56.5949 - val_ndcg: 0.2182\n",
            "Epoch 30/100\n",
            "38/38 [==============================] - 1s 18ms/step - loss: 55.1459 - val_ndcg: 0.2030\n",
            "Epoch 31/100\n",
            "38/38 [==============================] - 1s 19ms/step - loss: 53.0630 - val_ndcg: 0.2124\n",
            "Epoch 32/100\n",
            "38/38 [==============================] - 1s 19ms/step - loss: 51.0702 - val_ndcg: 0.2072\n",
            "Epoch 33/100\n",
            "38/38 [==============================] - 1s 19ms/step - loss: 49.4300 - val_ndcg: 0.2048\n",
            "Epoch 34/100\n",
            "38/38 [==============================] - 1s 19ms/step - loss: 47.8774 - val_ndcg: 0.2122\n",
            "Epoch 35/100\n",
            "38/38 [==============================] - 1s 19ms/step - loss: 46.3600 - val_ndcg: 0.2222\n",
            "Epoch 36/100\n",
            "38/38 [==============================] - 1s 19ms/step - loss: 44.7628 - val_ndcg: 0.2218\n",
            "Epoch 37/100\n",
            "38/38 [==============================] - 1s 19ms/step - loss: 43.4769 - val_ndcg: 0.2236\n",
            "Epoch 38/100\n",
            "38/38 [==============================] - 1s 19ms/step - loss: 41.8874 - val_ndcg: 0.2176\n",
            "Epoch 39/100\n",
            "38/38 [==============================] - 1s 19ms/step - loss: 40.5426 - val_ndcg: 0.2035\n",
            "Epoch 40/100\n",
            "38/38 [==============================] - 1s 19ms/step - loss: 39.3065 - val_ndcg: 0.2127\n",
            "Epoch 41/100\n",
            "38/38 [==============================] - 1s 19ms/step - loss: 38.1707 - val_ndcg: 0.2311\n",
            "Epoch 00041: early stopping\n",
            "CPU times: user 34.7 s, sys: 1.8 s, total: 36.5 s\n",
            "Wall time: 32.2 s\n"
          ],
          "name": "stdout"
        },
        {
          "output_type": "display_data",
          "data": {
            "image/png": "[encoded data removed]",
            "text/plain": [
              "<Figure size 576x432 with 2 Axes>"
            ]
          },
          "metadata": {
            "tags": [],
            "needs_background": "light"
          }
        }
      ]
    },
    {
      "cell_type": "code",
      "metadata": {
        "colab": {
          "base_uri": "https://localhost:8080/",
          "height": 195
        },
        "id": "-4tP0-a-zSxv",
        "outputId": "a488f531-203c-4f11-c24c-affc68d93b7c"
      },
      "source": [
        "true = list_agg(test_r)\r\n",
        "true.head(5)"
      ],
      "execution_count": 19,
      "outputs": [
        {
          "output_type": "execute_result",
          "data": {
            "text/html": [
              "<div>\n",
              "<style scoped>\n",
              "    .dataframe tbody tr th:only-of-type {\n",
              "        vertical-align: middle;\n",
              "    }\n",
              "\n",
              "    .dataframe tbody tr th {\n",
              "        vertical-align: top;\n",
              "    }\n",
              "\n",
              "    .dataframe thead th {\n",
              "        text-align: right;\n",
              "    }\n",
              "</style>\n",
              "<table border=\"1\" class=\"dataframe\">\n",
              "  <thead>\n",
              "    <tr style=\"text-align: right;\">\n",
              "      <th></th>\n",
              "      <th>user_id</th>\n",
              "      <th>movie_id</th>\n",
              "    </tr>\n",
              "  </thead>\n",
              "  <tbody>\n",
              "    <tr>\n",
              "      <th>0</th>\n",
              "      <td>2</td>\n",
              "      <td>[177, 179, 183, 84, 4, 198, 199, 207]</td>\n",
              "    </tr>\n",
              "    <tr>\n",
              "      <th>1</th>\n",
              "      <td>8</td>\n",
              "      <td>[59, 438, 93, 123, 463, 525, 30, 288, 534, 322...</td>\n",
              "    </tr>\n",
              "    <tr>\n",
              "      <th>2</th>\n",
              "      <td>41</td>\n",
              "      <td>[175, 182, 563, 184, 1176, 116, 128, 1037, 104...</td>\n",
              "    </tr>\n",
              "    <tr>\n",
              "      <th>3</th>\n",
              "      <td>78</td>\n",
              "      <td>[1258, 305, 500, 2230]</td>\n",
              "    </tr>\n",
              "    <tr>\n",
              "      <th>4</th>\n",
              "      <td>91</td>\n",
              "      <td>[558, 1176, 195, 587, 592, 74, 1904, 186, 647,...</td>\n",
              "    </tr>\n",
              "  </tbody>\n",
              "</table>\n",
              "</div>"
            ],
            "text/plain": [
              "   user_id                                           movie_id\n",
              "0        2              [177, 179, 183, 84, 4, 198, 199, 207]\n",
              "1        8  [59, 438, 93, 123, 463, 525, 30, 288, 534, 322...\n",
              "2       41  [175, 182, 563, 184, 1176, 116, 128, 1037, 104...\n",
              "3       78                             [1258, 305, 500, 2230]\n",
              "4       91  [558, 1176, 195, 587, 592, 74, 1904, 186, 647,..."
            ]
          },
          "metadata": {
            "tags": []
          },
          "execution_count": 19
        }
      ]
    },
    {
      "cell_type": "code",
      "metadata": {
        "id": "fgw83iYFysnj",
        "colab": {
          "base_uri": "https://localhost:8080/",
          "height": 195
        },
        "outputId": "8cac9550-3ee7-4b0f-8419-b1060bb68eb3"
      },
      "source": [
        "pred = test_predictor(test_q, model, n_item, batch_size, N = 100)\n",
        "pred.head(5)"
      ],
      "execution_count": 20,
      "outputs": [
        {
          "output_type": "execute_result",
          "data": {
            "text/html": [
              "<div>\n",
              "<style scoped>\n",
              "    .dataframe tbody tr th:only-of-type {\n",
              "        vertical-align: middle;\n",
              "    }\n",
              "\n",
              "    .dataframe tbody tr th {\n",
              "        vertical-align: top;\n",
              "    }\n",
              "\n",
              "    .dataframe thead th {\n",
              "        text-align: right;\n",
              "    }\n",
              "</style>\n",
              "<table border=\"1\" class=\"dataframe\">\n",
              "  <thead>\n",
              "    <tr style=\"text-align: right;\">\n",
              "      <th></th>\n",
              "      <th>user_id</th>\n",
              "      <th>movie_id</th>\n",
              "    </tr>\n",
              "  </thead>\n",
              "  <tbody>\n",
              "    <tr>\n",
              "      <th>0</th>\n",
              "      <td>2</td>\n",
              "      <td>[22, 678, 84, 9, 150, 60, 916, 218, 600, 13, 1...</td>\n",
              "    </tr>\n",
              "    <tr>\n",
              "      <th>1</th>\n",
              "      <td>8</td>\n",
              "      <td>[244, 184, 376, 171, 68, 506, 44, 59, 437, 124...</td>\n",
              "    </tr>\n",
              "    <tr>\n",
              "      <th>2</th>\n",
              "      <td>41</td>\n",
              "      <td>[132, 160, 856, 758, 139, 155, 62, 980, 189, 1...</td>\n",
              "    </tr>\n",
              "    <tr>\n",
              "      <th>3</th>\n",
              "      <td>78</td>\n",
              "      <td>[104, 68, 531, 259, 1613, 499, 733, 853, 381, ...</td>\n",
              "    </tr>\n",
              "    <tr>\n",
              "      <th>4</th>\n",
              "      <td>91</td>\n",
              "      <td>[8, 46, 9, 13, 35, 612, 596, 1523, 64, 741, 68...</td>\n",
              "    </tr>\n",
              "  </tbody>\n",
              "</table>\n",
              "</div>"
            ],
            "text/plain": [
              "   user_id                                           movie_id\n",
              "0        2  [22, 678, 84, 9, 150, 60, 916, 218, 600, 13, 1...\n",
              "1        8  [244, 184, 376, 171, 68, 506, 44, 59, 437, 124...\n",
              "2       41  [132, 160, 856, 758, 139, 155, 62, 980, 189, 1...\n",
              "3       78  [104, 68, 531, 259, 1613, 499, 733, 853, 381, ...\n",
              "4       91  [8, 46, 9, 13, 35, 612, 596, 1523, 64, 741, 68..."
            ]
          },
          "metadata": {
            "tags": []
          },
          "execution_count": 20
        }
      ]
    },
    {
      "cell_type": "code",
      "metadata": {
        "id": "jKQgNhpY0Bjl",
        "colab": {
          "base_uri": "https://localhost:8080/",
          "height": 292,
          "referenced_widgets": [
            "dadbd5fe9c0b4dff8941fedb33d635db",
            "f54207c913374817bb0cf263d5debde5",
            "97616305e3e64579b7ad0f26225cde5e",
            "73873a221c3e4abd877b6b9eaa837922",
            "5f4b4396153344ce88578ba71d1a200a",
            "016f93f1bf0742b1965e4bce883e52b0",
            "366df5abd92f483ab9dff36c4a1e8faa",
            "f009643e91124475bdd99756c667dbfb",
            "e846966c624c4682b0f79363ac8479c9",
            "6fd2afa2419142fc8d8ef438b635f3c2",
            "5f5d832d1e0a4afe9f8942fba2f52377",
            "eccf7aaa739f42c19029ac2e767edf7f",
            "9e22efc51ee74aad92c80cb38fd7dc39",
            "df73889712a340d88ecb41cb76a008c2",
            "16fab20433094fc78aa462d4c2a47eba",
            "54ba2f8216864e069ca7fec652ba900f"
          ]
        },
        "outputId": "456e7a2d-c52d-43df-8ce5-e6b03a9beab3"
      },
      "source": [
        "scores = evaluate(true, pred)\n",
        "\n",
        "scores(K = 20)\n",
        "scores.print_all()\n",
        "\n",
        "scores(K = 100)\n",
        "scores.print_all()"
      ],
      "execution_count": 21,
      "outputs": [
        {
          "output_type": "display_data",
          "data": {
            "application/vnd.jupyter.widget-view+json": {
              "model_id": "dadbd5fe9c0b4dff8941fedb33d635db",
              "version_minor": 0,
              "version_major": 2
            },
            "text/plain": [
              "HBox(children=(FloatProgress(value=0.0, max=604.0), HTML(value='')))"
            ]
          },
          "metadata": {
            "tags": []
          }
        },
        {
          "output_type": "stream",
          "text": [
            "\n",
            "      Recall@20 : 0.14391 \n",
            "   Precision@20 : 0.07765 \n",
            "         MAP@20 : 0.04410 \n",
            "         MRR@20 : 0.22720 \n",
            "        nDCG@20 : 0.11801\n"
          ],
          "name": "stdout"
        },
        {
          "output_type": "display_data",
          "data": {
            "application/vnd.jupyter.widget-view+json": {
              "model_id": "e846966c624c4682b0f79363ac8479c9",
              "version_minor": 0,
              "version_major": 2
            },
            "text/plain": [
              "HBox(children=(FloatProgress(value=0.0, max=604.0), HTML(value='')))"
            ]
          },
          "metadata": {
            "tags": []
          }
        },
        {
          "output_type": "stream",
          "text": [
            "\n",
            "      Recall@100 : 0.39061 \n",
            "   Precision@100 : 0.05341 \n",
            "         MAP@100 : 0.05862 \n",
            "         MRR@100 : 0.23531 \n",
            "        nDCG@100 : 0.21145\n"
          ],
          "name": "stdout"
        }
      ]
    }
  ]
}