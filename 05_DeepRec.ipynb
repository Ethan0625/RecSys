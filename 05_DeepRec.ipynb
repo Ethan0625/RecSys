{
  "nbformat": 4,
  "nbformat_minor": 0,
  "metadata": {
    "colab": {
      "name": "05_DeepRec.ipynb",
      "provenance": [],
      "collapsed_sections": [],
      "authorship_tag": "ABX9TyM+077plPX2r8kUx0ta7WdU",
      "include_colab_link": true
    },
    "kernelspec": {
      "name": "python3",
      "display_name": "Python 3"
    },
    "accelerator": "GPU",
    "widgets": {
      "application/vnd.jupyter.widget-state+json": {
        "66b55a63ac15406aaf169dc9b9b1ee2b": {
          "model_module": "@jupyter-widgets/controls",
          "model_name": "HBoxModel",
          "state": {
            "_view_name": "HBoxView",
            "_dom_classes": [],
            "_model_name": "HBoxModel",
            "_view_module": "@jupyter-widgets/controls",
            "_model_module_version": "1.5.0",
            "_view_count": null,
            "_view_module_version": "1.5.0",
            "box_style": "",
            "layout": "IPY_MODEL_1ff42e98f6d840f19cea7d0b38cad261",
            "_model_module": "@jupyter-widgets/controls",
            "children": [
              "IPY_MODEL_63212713d3d1472db7dcf503d5d19139",
              "IPY_MODEL_88d080f6722b4287b1f1c050ec461321"
            ]
          }
        },
        "1ff42e98f6d840f19cea7d0b38cad261": {
          "model_module": "@jupyter-widgets/base",
          "model_name": "LayoutModel",
          "state": {
            "_view_name": "LayoutView",
            "grid_template_rows": null,
            "right": null,
            "justify_content": null,
            "_view_module": "@jupyter-widgets/base",
            "overflow": null,
            "_model_module_version": "1.2.0",
            "_view_count": null,
            "flex_flow": null,
            "width": null,
            "min_width": null,
            "border": null,
            "align_items": null,
            "bottom": null,
            "_model_module": "@jupyter-widgets/base",
            "top": null,
            "grid_column": null,
            "overflow_y": null,
            "overflow_x": null,
            "grid_auto_flow": null,
            "grid_area": null,
            "grid_template_columns": null,
            "flex": null,
            "_model_name": "LayoutModel",
            "justify_items": null,
            "grid_row": null,
            "max_height": null,
            "align_content": null,
            "visibility": null,
            "align_self": null,
            "height": null,
            "min_height": null,
            "padding": null,
            "grid_auto_rows": null,
            "grid_gap": null,
            "max_width": null,
            "order": null,
            "_view_module_version": "1.2.0",
            "grid_template_areas": null,
            "object_position": null,
            "object_fit": null,
            "grid_auto_columns": null,
            "margin": null,
            "display": null,
            "left": null
          }
        },
        "63212713d3d1472db7dcf503d5d19139": {
          "model_module": "@jupyter-widgets/controls",
          "model_name": "FloatProgressModel",
          "state": {
            "_view_name": "ProgressView",
            "style": "IPY_MODEL_0d15c85dbc5342df9b84406bb189835f",
            "_dom_classes": [],
            "description": "100%",
            "_model_name": "FloatProgressModel",
            "bar_style": "success",
            "max": 604,
            "_view_module": "@jupyter-widgets/controls",
            "_model_module_version": "1.5.0",
            "value": 604,
            "_view_count": null,
            "_view_module_version": "1.5.0",
            "orientation": "horizontal",
            "min": 0,
            "description_tooltip": null,
            "_model_module": "@jupyter-widgets/controls",
            "layout": "IPY_MODEL_40d1409640c44755ae23d3e12238fa18"
          }
        },
        "88d080f6722b4287b1f1c050ec461321": {
          "model_module": "@jupyter-widgets/controls",
          "model_name": "HTMLModel",
          "state": {
            "_view_name": "HTMLView",
            "style": "IPY_MODEL_f52aeec90c934337bcb6cb4f19147464",
            "_dom_classes": [],
            "description": "",
            "_model_name": "HTMLModel",
            "placeholder": "​",
            "_view_module": "@jupyter-widgets/controls",
            "_model_module_version": "1.5.0",
            "value": " 604/604 [00:00&lt;00:00, 618.57it/s]",
            "_view_count": null,
            "_view_module_version": "1.5.0",
            "description_tooltip": null,
            "_model_module": "@jupyter-widgets/controls",
            "layout": "IPY_MODEL_54577f2c1b034e5fa1719a158ee73d19"
          }
        },
        "0d15c85dbc5342df9b84406bb189835f": {
          "model_module": "@jupyter-widgets/controls",
          "model_name": "ProgressStyleModel",
          "state": {
            "_view_name": "StyleView",
            "_model_name": "ProgressStyleModel",
            "description_width": "initial",
            "_view_module": "@jupyter-widgets/base",
            "_model_module_version": "1.5.0",
            "_view_count": null,
            "_view_module_version": "1.2.0",
            "bar_color": null,
            "_model_module": "@jupyter-widgets/controls"
          }
        },
        "40d1409640c44755ae23d3e12238fa18": {
          "model_module": "@jupyter-widgets/base",
          "model_name": "LayoutModel",
          "state": {
            "_view_name": "LayoutView",
            "grid_template_rows": null,
            "right": null,
            "justify_content": null,
            "_view_module": "@jupyter-widgets/base",
            "overflow": null,
            "_model_module_version": "1.2.0",
            "_view_count": null,
            "flex_flow": null,
            "width": null,
            "min_width": null,
            "border": null,
            "align_items": null,
            "bottom": null,
            "_model_module": "@jupyter-widgets/base",
            "top": null,
            "grid_column": null,
            "overflow_y": null,
            "overflow_x": null,
            "grid_auto_flow": null,
            "grid_area": null,
            "grid_template_columns": null,
            "flex": null,
            "_model_name": "LayoutModel",
            "justify_items": null,
            "grid_row": null,
            "max_height": null,
            "align_content": null,
            "visibility": null,
            "align_self": null,
            "height": null,
            "min_height": null,
            "padding": null,
            "grid_auto_rows": null,
            "grid_gap": null,
            "max_width": null,
            "order": null,
            "_view_module_version": "1.2.0",
            "grid_template_areas": null,
            "object_position": null,
            "object_fit": null,
            "grid_auto_columns": null,
            "margin": null,
            "display": null,
            "left": null
          }
        },
        "f52aeec90c934337bcb6cb4f19147464": {
          "model_module": "@jupyter-widgets/controls",
          "model_name": "DescriptionStyleModel",
          "state": {
            "_view_name": "StyleView",
            "_model_name": "DescriptionStyleModel",
            "description_width": "",
            "_view_module": "@jupyter-widgets/base",
            "_model_module_version": "1.5.0",
            "_view_count": null,
            "_view_module_version": "1.2.0",
            "_model_module": "@jupyter-widgets/controls"
          }
        },
        "54577f2c1b034e5fa1719a158ee73d19": {
          "model_module": "@jupyter-widgets/base",
          "model_name": "LayoutModel",
          "state": {
            "_view_name": "LayoutView",
            "grid_template_rows": null,
            "right": null,
            "justify_content": null,
            "_view_module": "@jupyter-widgets/base",
            "overflow": null,
            "_model_module_version": "1.2.0",
            "_view_count": null,
            "flex_flow": null,
            "width": null,
            "min_width": null,
            "border": null,
            "align_items": null,
            "bottom": null,
            "_model_module": "@jupyter-widgets/base",
            "top": null,
            "grid_column": null,
            "overflow_y": null,
            "overflow_x": null,
            "grid_auto_flow": null,
            "grid_area": null,
            "grid_template_columns": null,
            "flex": null,
            "_model_name": "LayoutModel",
            "justify_items": null,
            "grid_row": null,
            "max_height": null,
            "align_content": null,
            "visibility": null,
            "align_self": null,
            "height": null,
            "min_height": null,
            "padding": null,
            "grid_auto_rows": null,
            "grid_gap": null,
            "max_width": null,
            "order": null,
            "_view_module_version": "1.2.0",
            "grid_template_areas": null,
            "object_position": null,
            "object_fit": null,
            "grid_auto_columns": null,
            "margin": null,
            "display": null,
            "left": null
          }
        },
        "bc1bedc87fea42188b263e5c56950d41": {
          "model_module": "@jupyter-widgets/controls",
          "model_name": "HBoxModel",
          "state": {
            "_view_name": "HBoxView",
            "_dom_classes": [],
            "_model_name": "HBoxModel",
            "_view_module": "@jupyter-widgets/controls",
            "_model_module_version": "1.5.0",
            "_view_count": null,
            "_view_module_version": "1.5.0",
            "box_style": "",
            "layout": "IPY_MODEL_641bcaf5a13d42c88ad4c90a45b54bd7",
            "_model_module": "@jupyter-widgets/controls",
            "children": [
              "IPY_MODEL_bfa8b8495475498dae2c6b2d0d433a8d",
              "IPY_MODEL_6d105b4b3f0e4d8f8a49862a5ac225b6"
            ]
          }
        },
        "641bcaf5a13d42c88ad4c90a45b54bd7": {
          "model_module": "@jupyter-widgets/base",
          "model_name": "LayoutModel",
          "state": {
            "_view_name": "LayoutView",
            "grid_template_rows": null,
            "right": null,
            "justify_content": null,
            "_view_module": "@jupyter-widgets/base",
            "overflow": null,
            "_model_module_version": "1.2.0",
            "_view_count": null,
            "flex_flow": null,
            "width": null,
            "min_width": null,
            "border": null,
            "align_items": null,
            "bottom": null,
            "_model_module": "@jupyter-widgets/base",
            "top": null,
            "grid_column": null,
            "overflow_y": null,
            "overflow_x": null,
            "grid_auto_flow": null,
            "grid_area": null,
            "grid_template_columns": null,
            "flex": null,
            "_model_name": "LayoutModel",
            "justify_items": null,
            "grid_row": null,
            "max_height": null,
            "align_content": null,
            "visibility": null,
            "align_self": null,
            "height": null,
            "min_height": null,
            "padding": null,
            "grid_auto_rows": null,
            "grid_gap": null,
            "max_width": null,
            "order": null,
            "_view_module_version": "1.2.0",
            "grid_template_areas": null,
            "object_position": null,
            "object_fit": null,
            "grid_auto_columns": null,
            "margin": null,
            "display": null,
            "left": null
          }
        },
        "bfa8b8495475498dae2c6b2d0d433a8d": {
          "model_module": "@jupyter-widgets/controls",
          "model_name": "FloatProgressModel",
          "state": {
            "_view_name": "ProgressView",
            "style": "IPY_MODEL_b2c247386a694c76968ab1f4a1529ef4",
            "_dom_classes": [],
            "description": "100%",
            "_model_name": "FloatProgressModel",
            "bar_style": "success",
            "max": 604,
            "_view_module": "@jupyter-widgets/controls",
            "_model_module_version": "1.5.0",
            "value": 604,
            "_view_count": null,
            "_view_module_version": "1.5.0",
            "orientation": "horizontal",
            "min": 0,
            "description_tooltip": null,
            "_model_module": "@jupyter-widgets/controls",
            "layout": "IPY_MODEL_eabe397afa304c39b8a92c945c84f80e"
          }
        },
        "6d105b4b3f0e4d8f8a49862a5ac225b6": {
          "model_module": "@jupyter-widgets/controls",
          "model_name": "HTMLModel",
          "state": {
            "_view_name": "HTMLView",
            "style": "IPY_MODEL_acc463a692384e7e8c6a2e6a6b97b35b",
            "_dom_classes": [],
            "description": "",
            "_model_name": "HTMLModel",
            "placeholder": "​",
            "_view_module": "@jupyter-widgets/controls",
            "_model_module_version": "1.5.0",
            "value": " 604/604 [00:01&lt;00:00, 388.00it/s]",
            "_view_count": null,
            "_view_module_version": "1.5.0",
            "description_tooltip": null,
            "_model_module": "@jupyter-widgets/controls",
            "layout": "IPY_MODEL_1b08ca3be5084509a5b28a0f86b5d85d"
          }
        },
        "b2c247386a694c76968ab1f4a1529ef4": {
          "model_module": "@jupyter-widgets/controls",
          "model_name": "ProgressStyleModel",
          "state": {
            "_view_name": "StyleView",
            "_model_name": "ProgressStyleModel",
            "description_width": "initial",
            "_view_module": "@jupyter-widgets/base",
            "_model_module_version": "1.5.0",
            "_view_count": null,
            "_view_module_version": "1.2.0",
            "bar_color": null,
            "_model_module": "@jupyter-widgets/controls"
          }
        },
        "eabe397afa304c39b8a92c945c84f80e": {
          "model_module": "@jupyter-widgets/base",
          "model_name": "LayoutModel",
          "state": {
            "_view_name": "LayoutView",
            "grid_template_rows": null,
            "right": null,
            "justify_content": null,
            "_view_module": "@jupyter-widgets/base",
            "overflow": null,
            "_model_module_version": "1.2.0",
            "_view_count": null,
            "flex_flow": null,
            "width": null,
            "min_width": null,
            "border": null,
            "align_items": null,
            "bottom": null,
            "_model_module": "@jupyter-widgets/base",
            "top": null,
            "grid_column": null,
            "overflow_y": null,
            "overflow_x": null,
            "grid_auto_flow": null,
            "grid_area": null,
            "grid_template_columns": null,
            "flex": null,
            "_model_name": "LayoutModel",
            "justify_items": null,
            "grid_row": null,
            "max_height": null,
            "align_content": null,
            "visibility": null,
            "align_self": null,
            "height": null,
            "min_height": null,
            "padding": null,
            "grid_auto_rows": null,
            "grid_gap": null,
            "max_width": null,
            "order": null,
            "_view_module_version": "1.2.0",
            "grid_template_areas": null,
            "object_position": null,
            "object_fit": null,
            "grid_auto_columns": null,
            "margin": null,
            "display": null,
            "left": null
          }
        },
        "acc463a692384e7e8c6a2e6a6b97b35b": {
          "model_module": "@jupyter-widgets/controls",
          "model_name": "DescriptionStyleModel",
          "state": {
            "_view_name": "StyleView",
            "_model_name": "DescriptionStyleModel",
            "description_width": "",
            "_view_module": "@jupyter-widgets/base",
            "_model_module_version": "1.5.0",
            "_view_count": null,
            "_view_module_version": "1.2.0",
            "_model_module": "@jupyter-widgets/controls"
          }
        },
        "1b08ca3be5084509a5b28a0f86b5d85d": {
          "model_module": "@jupyter-widgets/base",
          "model_name": "LayoutModel",
          "state": {
            "_view_name": "LayoutView",
            "grid_template_rows": null,
            "right": null,
            "justify_content": null,
            "_view_module": "@jupyter-widgets/base",
            "overflow": null,
            "_model_module_version": "1.2.0",
            "_view_count": null,
            "flex_flow": null,
            "width": null,
            "min_width": null,
            "border": null,
            "align_items": null,
            "bottom": null,
            "_model_module": "@jupyter-widgets/base",
            "top": null,
            "grid_column": null,
            "overflow_y": null,
            "overflow_x": null,
            "grid_auto_flow": null,
            "grid_area": null,
            "grid_template_columns": null,
            "flex": null,
            "_model_name": "LayoutModel",
            "justify_items": null,
            "grid_row": null,
            "max_height": null,
            "align_content": null,
            "visibility": null,
            "align_self": null,
            "height": null,
            "min_height": null,
            "padding": null,
            "grid_auto_rows": null,
            "grid_gap": null,
            "max_width": null,
            "order": null,
            "_view_module_version": "1.2.0",
            "grid_template_areas": null,
            "object_position": null,
            "object_fit": null,
            "grid_auto_columns": null,
            "margin": null,
            "display": null,
            "left": null
          }
        }
      }
    }
  },
  "cells": [
    {
      "cell_type": "markdown",
      "metadata": {
        "id": "view-in-github",
        "colab_type": "text"
      },
      "source": [
        "<a href=\"https://colab.research.google.com/github/ivoryRabbit/RecSys/blob/master/05_DeepRec.ipynb\" target=\"_parent\"><img src=\"https://colab.research.google.com/assets/colab-badge.svg\" alt=\"Open In Colab\"/></a>"
      ]
    },
    {
      "cell_type": "markdown",
      "metadata": {
        "id": "viikY8IQdVTY"
      },
      "source": [
        "# DeepAutoRec\n",
        "\n",
        "- [Training Deep AutoEncoders for Collaborative Filtering](https://arxiv.org/pdf/1708.01715.pdf)\n",
        "\n",
        "## Experiment"
      ]
    },
    {
      "cell_type": "code",
      "metadata": {
        "id": "M8FDcw4rVboe"
      },
      "source": [
        "import glob\n",
        "import numpy as np\n",
        "import pandas as pd\n",
        "from typing import Callable, Tuple, List\n",
        "from tqdm.notebook import tqdm\n",
        "\n",
        "import matplotlib.pyplot as plt\n",
        "%matplotlib inline\n",
        "plt.style.use('ggplot')\n",
        "\n",
        "from sklearn.model_selection import train_test_split\n",
        "\n",
        "import tensorflow as tf\n",
        "import tensorflow.keras.backend as K\n",
        "\n",
        "from tensorflow.keras.layers import Input, Dense\n",
        "from tensorflow.keras.models import Model, load_model\n",
        "from tensorflow.keras.callbacks import ModelCheckpoint, EarlyStopping\n",
        "from tensorflow.keras.optimizers import Adam\n",
        "from tensorflow.keras.regularizers import l2\n",
        "\n",
        "from tensorflow.keras.utils import get_file\n",
        "import zipfile\n",
        "\n",
        "np.random.seed(777)\n",
        "tf.random.set_seed(777)"
      ],
      "execution_count": 1,
      "outputs": []
    },
    {
      "cell_type": "code",
      "metadata": {
        "id": "sdjqodyYVf9I"
      },
      "source": [
        "def load_data(data_size : str) -> pd.DataFrame:\n",
        "    ''' load Movie Lens data '''\n",
        "\n",
        "    if data_size == '1m':\n",
        "        fname = 'ml-1m.zip'\n",
        "        data = 'ml-1m/ratings.dat'\n",
        "    elif data_size == '10m':\n",
        "        fname = 'ml-10m.zip'\n",
        "        data = 'ml-10M100K/ratings.dat'\n",
        "    elif data_size == '20m':\n",
        "        fname = 'ml-20m.zip'\n",
        "        data = 'ml-20m/ratings.csv'\n",
        "    elif data_size == '25m':\n",
        "        fname = 'ml-25m.zip'\n",
        "        data = 'ml-25m/ratings.csv'\n",
        "    if not glob.glob(data):\n",
        "        origin = f'http://files.grouplens.org/datasets/movielens/{fname}'\n",
        "        file = get_file(fname, origin)\n",
        "        zip_ref = zipfile.ZipFile(file, 'r')\n",
        "        zip_ref.extractall()\n",
        "\n",
        "    col_names = ['user_id', 'movie_id', 'rating', 'timestamp']\n",
        "    if data_size in ['20m', '25m']:\n",
        "        ratings = pd.read_csv(data, names = col_names, engine = 'python')\n",
        "    else:\n",
        "        ratings = pd.read_csv(data, sep = '|', delimiter = '::', names = col_names, engine = 'python')\n",
        "    print(ratings.shape)\n",
        "    return ratings"
      ],
      "execution_count": 2,
      "outputs": []
    },
    {
      "cell_type": "code",
      "metadata": {
        "id": "RZf8Gzf0VhYV",
        "colab": {
          "base_uri": "https://localhost:8080/",
          "height": 213
        },
        "outputId": "6626af39-c295-4c62-f9b8-f0c6131e640f"
      },
      "source": [
        "ratings = load_data('1m')\n",
        "ratings.head()"
      ],
      "execution_count": 3,
      "outputs": [
        {
          "output_type": "stream",
          "text": [
            "(1000209, 4)\n"
          ],
          "name": "stdout"
        },
        {
          "output_type": "execute_result",
          "data": {
            "text/html": [
              "<div>\n",
              "<style scoped>\n",
              "    .dataframe tbody tr th:only-of-type {\n",
              "        vertical-align: middle;\n",
              "    }\n",
              "\n",
              "    .dataframe tbody tr th {\n",
              "        vertical-align: top;\n",
              "    }\n",
              "\n",
              "    .dataframe thead th {\n",
              "        text-align: right;\n",
              "    }\n",
              "</style>\n",
              "<table border=\"1\" class=\"dataframe\">\n",
              "  <thead>\n",
              "    <tr style=\"text-align: right;\">\n",
              "      <th></th>\n",
              "      <th>user_id</th>\n",
              "      <th>movie_id</th>\n",
              "      <th>rating</th>\n",
              "      <th>timestamp</th>\n",
              "    </tr>\n",
              "  </thead>\n",
              "  <tbody>\n",
              "    <tr>\n",
              "      <th>0</th>\n",
              "      <td>1</td>\n",
              "      <td>1193</td>\n",
              "      <td>5</td>\n",
              "      <td>978300760</td>\n",
              "    </tr>\n",
              "    <tr>\n",
              "      <th>1</th>\n",
              "      <td>1</td>\n",
              "      <td>661</td>\n",
              "      <td>3</td>\n",
              "      <td>978302109</td>\n",
              "    </tr>\n",
              "    <tr>\n",
              "      <th>2</th>\n",
              "      <td>1</td>\n",
              "      <td>914</td>\n",
              "      <td>3</td>\n",
              "      <td>978301968</td>\n",
              "    </tr>\n",
              "    <tr>\n",
              "      <th>3</th>\n",
              "      <td>1</td>\n",
              "      <td>3408</td>\n",
              "      <td>4</td>\n",
              "      <td>978300275</td>\n",
              "    </tr>\n",
              "    <tr>\n",
              "      <th>4</th>\n",
              "      <td>1</td>\n",
              "      <td>2355</td>\n",
              "      <td>5</td>\n",
              "      <td>978824291</td>\n",
              "    </tr>\n",
              "  </tbody>\n",
              "</table>\n",
              "</div>"
            ],
            "text/plain": [
              "   user_id  movie_id  rating  timestamp\n",
              "0        1      1193       5  978300760\n",
              "1        1       661       3  978302109\n",
              "2        1       914       3  978301968\n",
              "3        1      3408       4  978300275\n",
              "4        1      2355       5  978824291"
            ]
          },
          "metadata": {
            "tags": []
          },
          "execution_count": 3
        }
      ]
    },
    {
      "cell_type": "markdown",
      "metadata": {
        "id": "tGuhgUB67uKF"
      },
      "source": [
        "## 1. Data Preprocessing"
      ]
    },
    {
      "cell_type": "code",
      "metadata": {
        "id": "Q61otQWA3tFe",
        "colab": {
          "base_uri": "https://localhost:8080/"
        },
        "outputId": "2b5e21a7-4820-448b-f007-3bc6bfd3cb10"
      },
      "source": [
        "user_list = ratings.user_id.unique()\n",
        "user_idx_map = {e: i for i, e in enumerate(user_list)}\n",
        "n_user = len(user_list)\n",
        "print(f'# of users = {n_user}')\n",
        "\n",
        "item_list = ratings.movie_id.unique()\n",
        "item_idx_map = {e: i for i, e in enumerate(item_list)}\n",
        "n_item = len(item_list)\n",
        "print(f'# of items = {n_item}')"
      ],
      "execution_count": 23,
      "outputs": [
        {
          "output_type": "stream",
          "text": [
            "# of users = 6040\n",
            "# of items = 3706\n"
          ],
          "name": "stdout"
        }
      ]
    },
    {
      "cell_type": "code",
      "metadata": {
        "id": "bS1B1fPw3whx"
      },
      "source": [
        "def binarizer(df: pd.DataFrame, threshold = 4) -> pd.DataFrame:\n",
        "    df = df.assign(rating = np.where(df.rating >= threshold, 1, 0))\n",
        "    return df[df.rating > 0.0].reset_index(drop = True)\n",
        "\n",
        "def make_warm(df: pd.DataFrame, threshold = 5) -> pd.DataFrame: # remove cold starters\n",
        "    positive = df.groupby('user_id')['movie_id'].count()\n",
        "    positive = positive.index[positive >= threshold]\n",
        "    return df[df.user_id.isin(positive)].reset_index(drop = True)\n",
        "\n",
        "def train_valid_test_split(df: pd.DataFrame, size: float) -> pd.DataFrame:\n",
        "    train_user, test_user = train_test_split(df.user_id.unique(), test_size = 2 * size, random_state = 777)\n",
        "    valid_user, test_user = train_test_split(test_user, test_size = 0.5, random_state = 777)\n",
        "    train, valid, test = map(lambda x: df[df.user_id.isin(x)], (train_user, valid_user, test_user))\n",
        "    train, valid, test = map(lambda df: df.reset_index(drop = True), (train, valid, test))\n",
        "    return train, valid, test\n",
        "\n",
        "def query_relev_split(df: pd.DataFrame, size: float) -> pd.DataFrame:\n",
        "    timeorder = df.groupby('user_id')['timestamp'].rank(method = 'first', ascending = True)\n",
        "    seen_cnts = df.groupby('user_id')['movie_id'].transform('count')\n",
        "    df = df.assign(seen_cnts = seen_cnts, timeorder = timeorder)\n",
        "    query = df[df.timeorder < df.seen_cnts * (1-size)]\n",
        "    relev = df[df.timeorder >= df.seen_cnts * (1-size)]\n",
        "    relev = relev[relev.user_id.isin(query.user_id.unique())]\n",
        "    query, relev = map(lambda df: df.drop(columns = ['timeorder', 'seen_cnts']), (query, relev))\n",
        "    query, relev = map(lambda df: df.reset_index(drop = True), (query, relev))\n",
        "    return query, relev\n",
        "\n",
        "def list_agg(df: pd.DataFrame) -> pd.DataFrame:\n",
        "    return df.groupby('user_id', as_index = False)[['movie_id']].agg(list)"
      ],
      "execution_count": 5,
      "outputs": []
    },
    {
      "cell_type": "code",
      "metadata": {
        "colab": {
          "base_uri": "https://localhost:8080/",
          "height": 195
        },
        "id": "aUvDrKnUa_PJ",
        "outputId": "2165f919-b0fc-4aa9-c763-cf762f6c6608"
      },
      "source": [
        "data = ratings.assign(user_id = lambda df : df.user_id.map(user_idx_map),\r\n",
        "                      movie_id = lambda df: df.movie_id.map(item_idx_map))\r\n",
        "data = binarizer(data)\r\n",
        "data = make_warm(data)\r\n",
        "data.head()"
      ],
      "execution_count": 6,
      "outputs": [
        {
          "output_type": "execute_result",
          "data": {
            "text/html": [
              "<div>\n",
              "<style scoped>\n",
              "    .dataframe tbody tr th:only-of-type {\n",
              "        vertical-align: middle;\n",
              "    }\n",
              "\n",
              "    .dataframe tbody tr th {\n",
              "        vertical-align: top;\n",
              "    }\n",
              "\n",
              "    .dataframe thead th {\n",
              "        text-align: right;\n",
              "    }\n",
              "</style>\n",
              "<table border=\"1\" class=\"dataframe\">\n",
              "  <thead>\n",
              "    <tr style=\"text-align: right;\">\n",
              "      <th></th>\n",
              "      <th>user_id</th>\n",
              "      <th>movie_id</th>\n",
              "      <th>rating</th>\n",
              "      <th>timestamp</th>\n",
              "    </tr>\n",
              "  </thead>\n",
              "  <tbody>\n",
              "    <tr>\n",
              "      <th>0</th>\n",
              "      <td>0</td>\n",
              "      <td>0</td>\n",
              "      <td>1</td>\n",
              "      <td>978300760</td>\n",
              "    </tr>\n",
              "    <tr>\n",
              "      <th>1</th>\n",
              "      <td>0</td>\n",
              "      <td>3</td>\n",
              "      <td>1</td>\n",
              "      <td>978300275</td>\n",
              "    </tr>\n",
              "    <tr>\n",
              "      <th>2</th>\n",
              "      <td>0</td>\n",
              "      <td>4</td>\n",
              "      <td>1</td>\n",
              "      <td>978824291</td>\n",
              "    </tr>\n",
              "    <tr>\n",
              "      <th>3</th>\n",
              "      <td>0</td>\n",
              "      <td>6</td>\n",
              "      <td>1</td>\n",
              "      <td>978302039</td>\n",
              "    </tr>\n",
              "    <tr>\n",
              "      <th>4</th>\n",
              "      <td>0</td>\n",
              "      <td>7</td>\n",
              "      <td>1</td>\n",
              "      <td>978300719</td>\n",
              "    </tr>\n",
              "  </tbody>\n",
              "</table>\n",
              "</div>"
            ],
            "text/plain": [
              "   user_id  movie_id  rating  timestamp\n",
              "0        0         0       1  978300760\n",
              "1        0         3       1  978300275\n",
              "2        0         4       1  978824291\n",
              "3        0         6       1  978302039\n",
              "4        0         7       1  978300719"
            ]
          },
          "metadata": {
            "tags": []
          },
          "execution_count": 6
        }
      ]
    },
    {
      "cell_type": "code",
      "metadata": {
        "id": "yM_1GI3Na_et"
      },
      "source": [
        "train, valid, test = train_valid_test_split(data, size = 0.1)\r\n",
        "valid_q, valid_r = query_relev_split(valid, size = 0.2)\r\n",
        "test_q, test_r = query_relev_split(test, size = 0.2)"
      ],
      "execution_count": 7,
      "outputs": []
    },
    {
      "cell_type": "code",
      "metadata": {
        "id": "ZLAac2E-Bv1u"
      },
      "source": [
        "def train_generator(train: pd.DataFrame, \n",
        "                    n_item: int, \n",
        "                    batch_size: int) -> np.ndarray:\n",
        "\n",
        "    train = list_agg(train)\n",
        "    \n",
        "    n_data = train.index.size\n",
        "    ids = np.arange(n_data)\n",
        "    profile = train['movie_id']\n",
        "\n",
        "    n_batch = int(np.ceil(n_data / batch_size))\n",
        "    while True:\n",
        "        np.random.shuffle(ids)\n",
        "        for batch_step in range(n_batch):     \n",
        "            lower = batch_size * batch_step\n",
        "            upper = batch_size + lower\n",
        "            \n",
        "            batch_id = ids[lower: upper]\n",
        "            batch = np.zeros(shape = (batch_id.size, n_item), dtype = np.float32)\n",
        "            for i, idx in enumerate(batch_id):\n",
        "                batch[i, profile[idx]] = 1.0\n",
        "            \n",
        "            yield batch"
      ],
      "execution_count": 8,
      "outputs": []
    },
    {
      "cell_type": "code",
      "metadata": {
        "id": "vvtoBx7xcUju"
      },
      "source": [
        "def valid_generator(query: pd.DataFrame,\r\n",
        "                    relev: pd.DataFrame,\r\n",
        "                    n_item: int,\r\n",
        "                    batch_size: int) -> Tuple[np.ndarray]:\r\n",
        "\r\n",
        "    query = list_agg(query)\r\n",
        "    relev = list_agg(relev)\r\n",
        "\r\n",
        "    n_data = query.index.size\r\n",
        "    ids = np.arange(n_data)\r\n",
        "    profile_q = query['movie_id']\r\n",
        "    profile_r = relev['movie_id']\r\n",
        "\r\n",
        "    n_batch = int(np.ceil(n_data / batch_size))\r\n",
        "    while True:\r\n",
        "        np.random.shuffle(ids)\r\n",
        "        for batch_step in range(n_batch):\r\n",
        "            lower = batch_size * batch_step\r\n",
        "            upper = batch_size + lower\r\n",
        "            \r\n",
        "            batch_id = ids[lower: upper]\r\n",
        "            batch_q = np.zeros(shape = (batch_id.size, n_item), dtype = np.float32)\r\n",
        "            batch_r = np.zeros(shape = (batch_id.size, n_item), dtype = np.float32)\r\n",
        "            for i, idx in enumerate(batch_id):\r\n",
        "                batch_q[i, profile_q[idx]] = 1.0 # seen\r\n",
        "                batch_r[i, profile_r[idx]] = 1.0 # unseen\r\n",
        "\r\n",
        "            yield batch_q, batch_r"
      ],
      "execution_count": 9,
      "outputs": []
    },
    {
      "cell_type": "code",
      "metadata": {
        "id": "nNPv41eMBv1v"
      },
      "source": [
        "def binary_cross_entropy(true: tf.Tensor, pred: tf.Tensor) -> tf.Tensor:\n",
        "    ce = tf.math.reduce_sum(K.binary_crossentropy(true, pred), axis = 1)\n",
        "    return tf.math.reduce_mean(ce, axis = 0)\n",
        "\n",
        "def multinomial(true: tf.Tensor, pred: tf.Tensor) -> tf.Tensor:\n",
        "    ll = tf.math.reduce_sum(true * K.log(pred), axis = 1)\n",
        "    return -tf.math.reduce_mean(ll, axis = 0)\n",
        "\n",
        "def batch_ndcg(query: tf.Tensor, \n",
        "               relev: tf.Tensor,\n",
        "               pred: tf.Tensor, \n",
        "               weight: tf.Tensor,\n",
        "               k = 100) -> tf.Tensor: # only for validation\n",
        "\n",
        "    rec = tf.where(query == 1.0, -1.0, pred) # leave only unseen-data\n",
        "    rec = tf.argsort(rec, axis = 1, direction = 'DESCENDING')[:, :k]\n",
        "    shape = tf.shape(rec)\n",
        "\n",
        "    row = tf.repeat(tf.range(shape[0]), shape[1])\n",
        "    row = tf.expand_dims(row, axis = 1)\n",
        "    col = tf.reshape(rec, shape = [-1])\n",
        "    col = tf.expand_dims(col, axis = 1)\n",
        "    loc = tf.concat([row, col], axis = 1)\n",
        "\n",
        "    top_k = tf.reshape(tf.gather_nd(relev, loc), shape = shape)\n",
        "    ideal = tf.sort(relev, axis = 1, direction = 'DESCENDING')[:, :k]\n",
        "    weight = weight[:shape[1]]\n",
        "\n",
        "    dcg = tf.reduce_sum(top_k * weight, axis = 1)\n",
        "    idcg = tf.reduce_sum(ideal * weight, axis = 1)\n",
        "    return tf.reduce_mean(dcg / idcg, axis = 0)"
      ],
      "execution_count": 10,
      "outputs": []
    },
    {
      "cell_type": "code",
      "metadata": {
        "id": "kvAoDLgujC9I"
      },
      "source": [
        "class Encoder(tf.keras.layers.Layer):\r\n",
        "    def __init__(self, units, n_layer):\r\n",
        "        super(Encoder, self).__init__()\r\n",
        "        self.units = units\r\n",
        "        self.n_layer = n_layer\r\n",
        "        self.encoders = []\r\n",
        "\r\n",
        "    def build(self, input_shape):\r\n",
        "        for i in range(self.n_layer-1):\r\n",
        "            self.encoders.append(\r\n",
        "                Dense(self.units * 2,\r\n",
        "                      activation = 'selu',\r\n",
        "                      kernel_initializer = 'glorot_uniform',\r\n",
        "                      bias_initializer = 'zeros',\r\n",
        "                      kernel_regularizer = l2(1e-3),\r\n",
        "                      name = f'encoder_{i+1}')\r\n",
        "            )\r\n",
        "        self.encoders.append(\r\n",
        "            Dense(self.units,\r\n",
        "                  activation = 'selu',\r\n",
        "                  kernel_initializer = 'glorot_uniform',\r\n",
        "                  bias_initializer = 'zeros',\r\n",
        "                  kernel_regularizer = l2(1e-3),\r\n",
        "                  name = f'encoder_{i+2}')\r\n",
        "        )\r\n",
        "\r\n",
        "    def call(self, inputs):\r\n",
        "        outputs = inputs\r\n",
        "        for i in range(self.n_layer):\r\n",
        "            outputs = self.encoders[i](outputs)\r\n",
        "        return outputs"
      ],
      "execution_count": 11,
      "outputs": []
    },
    {
      "cell_type": "code",
      "metadata": {
        "id": "RlWpQrsxlvNs"
      },
      "source": [
        "class Decoder(tf.keras.layers.Layer):\r\n",
        "    def __init__(self, units, n_layer):\r\n",
        "        super(Decoder, self).__init__()\r\n",
        "        self.units = units\r\n",
        "        self.n_layer = n_layer\r\n",
        "        self.decoders = []\r\n",
        "\r\n",
        "    def build(self, input_shape):\r\n",
        "        for i in range(self.n_layer-1):\r\n",
        "            self.decoders.append(\r\n",
        "                Dense(input_shape[1] * 2,\r\n",
        "                      activation = 'selu',\r\n",
        "                      kernel_initializer = 'glorot_uniform',\r\n",
        "                      bias_initializer = 'zeros',\r\n",
        "                      kernel_regularizer = l2(1e-3),\r\n",
        "                      name = f'decoder_{i+1}')\r\n",
        "            )\r\n",
        "        self.decoders.append(\r\n",
        "            Dense(self.units,\r\n",
        "                  activation = 'sigmoid',\r\n",
        "                  kernel_initializer = 'glorot_uniform',\r\n",
        "                  bias_initializer = 'zeros',\r\n",
        "                  kernel_regularizer = l2(1e-3),\r\n",
        "                  name = f'decoder_{i+2}')\r\n",
        "        )\r\n",
        "        \r\n",
        "    def call(self, inputs):\r\n",
        "        outputs = inputs\r\n",
        "        for i in range(self.n_layer):\r\n",
        "            outputs = self.decoders[i](outputs)\r\n",
        "        return outputs"
      ],
      "execution_count": 12,
      "outputs": []
    },
    {
      "cell_type": "code",
      "metadata": {
        "id": "wtKFgCZgnbQT"
      },
      "source": [
        "class DeepRec(tf.keras.models.Model):\r\n",
        "    def __init__(self, input_dim, latent_dim, n_layer, gamma):\r\n",
        "        super(DeepRec, self).__init__()\r\n",
        "        self.input_dim = input_dim\r\n",
        "        self.latent_dim = latent_dim\r\n",
        "        self.n_layer = n_layer\r\n",
        "        self.gamma = gamma\r\n",
        "\r\n",
        "        self.encoder = Encoder(self.latent_dim, self.n_layer)\r\n",
        "        self.decoder = Decoder(self.input_dim, self.n_layer)\r\n",
        "\r\n",
        "        _ = self.call(Input(shape = (self.input_dim, )))\r\n",
        "        self.build(input_shape = (None, self.input_dim))\r\n",
        "\r\n",
        "    def call(self, inputs):\r\n",
        "        h = self.encoder(inputs)\r\n",
        "        return self.decoder(h)\r\n",
        "\r\n",
        "    def train_step(self, inputs):\r\n",
        "        with tf.GradientTape() as tape:\r\n",
        "            outputs = self(inputs)\r\n",
        "            loss = self.loss(inputs, outputs)\r\n",
        "        grad = tape.gradient(loss, self.trainable_variables)\r\n",
        "        self.optimizer.apply_gradients(zip(grad, self.trainable_variables))\r\n",
        "\r\n",
        "        with tf.GradientTape() as tape_ref:\r\n",
        "            refeeds = self(outputs)\r\n",
        "            loss_ref = self.gamma * self.loss(outputs, refeeds)\r\n",
        "        grad_ref = tape_ref.gradient(loss_ref, self.trainable_variables)\r\n",
        "        self.optimizer.apply_gradients(zip(grad_ref, self.trainable_variables))\r\n",
        "        return {'loss': loss}\r\n",
        "\r\n",
        "    def test_step(self, data):\r\n",
        "        query, relev = data\r\n",
        "        pred = self(query)\r\n",
        "\r\n",
        "        weight = tf.range(2, self.input_dim, dtype = 'float32')\r\n",
        "        weight = tf.math.reciprocal(tf.math.log(weight))\r\n",
        "        ndcg = batch_ndcg(query, relev, pred, weight)\r\n",
        "        return {'ndcg': ndcg}"
      ],
      "execution_count": 13,
      "outputs": []
    },
    {
      "cell_type": "code",
      "metadata": {
        "id": "eS0AMdGzpg_n"
      },
      "source": [
        "def show_history(hist, loss: str, metric: str) -> None:\r\n",
        "    fig, (ax1, ax2) = plt.subplots(2, 1, figsize = (8, 6))\r\n",
        "\r\n",
        "    ax1.plot(hist.history[f'{loss}'])\r\n",
        "    ax1.set_title(loss, fontsize = 20)\r\n",
        "    ax1.set_ylabel(loss)\r\n",
        "    ax1.set_xlabel('epoch')\r\n",
        "\r\n",
        "    ax2.plot(hist.history[f'val_{metric}'])\r\n",
        "    ax2.set_title(metric, fontsize = 20)\r\n",
        "    ax2.set_ylabel(metric)\r\n",
        "    ax2.set_xlabel('epoch')\r\n",
        "    plt.tight_layout()"
      ],
      "execution_count": 14,
      "outputs": []
    },
    {
      "cell_type": "code",
      "metadata": {
        "id": "SwvA4hA0Ja34"
      },
      "source": [
        "def test_predictor(query: pd.DataFrame, \n",
        "                   model: Callable,\n",
        "                   n_item: int, \n",
        "                   batch_size: int, \n",
        "                   N = 100) -> float:\n",
        "\n",
        "    query = list_agg(query)\n",
        "\n",
        "    n_data = query.index.size\n",
        "    ids = np.arange(n_data)\n",
        "    profile = query['movie_id']\n",
        "\n",
        "    pred = []\n",
        "    n_batch = int(np.ceil(n_data / batch_size))\n",
        "    for batch_step in range(n_batch):\n",
        "        lower = batch_size * batch_step\n",
        "        upper = batch_size + lower\n",
        "\n",
        "        batch_id = ids[lower: upper]\n",
        "        batch = np.zeros(shape = (batch_id.size, n_item))\n",
        "        for i, idx in enumerate(batch_id):\n",
        "            batch[i, profile[idx]] = 1.0\n",
        "\n",
        "        pred_batch = model.predict(batch, verbose = 0)\n",
        "        \n",
        "        rec = np.argsort(np.where(batch == 1.0, -1.0, pred_batch), axis = 1)[:, :-N-1:-1]\n",
        "        pred.append(rec)\n",
        "    pred = np.concatenate(pred)\n",
        "    pred = [{'user_id': query.at[i, 'user_id'], 'movie_id': pred[i]} for i in range(n_data)]\n",
        "    return pd.DataFrame(pred)"
      ],
      "execution_count": 15,
      "outputs": []
    },
    {
      "cell_type": "code",
      "metadata": {
        "id": "G05LGp9eAfE0"
      },
      "source": [
        "class evaluate:\n",
        "    def __init__(self, true: pd.DataFrame, pred: pd.DataFrame):\n",
        "        self.true = true\n",
        "        self.pred = pred\n",
        "        self.max_K = 10000\n",
        "        self.idcg = np.cumsum([1.0 / np.log2(i+2) for i in range(self.max_K)])\n",
        "\n",
        "    def _recall(self, gt: List, rec: List, K = None) -> float: # Recall\n",
        "        res = [r for r in rec[:K] if r in gt]\n",
        "        return len(res) / np.min([K, len(gt)])\n",
        "    \n",
        "    def _precision(self, gt: List, rec: List, K = None) -> float: # Precision\n",
        "        res = [r for r in rec[:K] if r in gt]\n",
        "        return len(res) / len(rec[:K])\n",
        "\n",
        "    def _AP(self, gt: List, rec: List, K = None) -> float: # Average Precision\n",
        "        res = 0.0\n",
        "        for i, r in enumerate(rec[:K]):\n",
        "            if r in gt:\n",
        "                res += self._precision(gt, rec[:K], i+1)\n",
        "        return res / np.min([K, len(gt)])\n",
        "\n",
        "    def _HR(self, gt: List, rec: List, K = None) -> float: # Hit Rate\n",
        "        for i, r in enumerate(rec[:K]):\n",
        "            if r in gt:\n",
        "                return  1.0\n",
        "        return 0\n",
        "\n",
        "    def _RR(self, gt: List, rec: List, K = None) -> float: # Reciprocal Rank\n",
        "        for i, r in enumerate(rec[:K]):\n",
        "            if r in gt:\n",
        "                return  1.0 / (i+1)\n",
        "        return 0\n",
        "\n",
        "    def _nDCG(self, gt: List, rec: List, K = None) -> float: # normalized Discounted Cumulative Gain\n",
        "        dcg = 0.0\n",
        "        for i, r in enumerate(rec[:K]):\n",
        "            if r in gt:\n",
        "                dcg += 1.0 / np.log2(i+2)\n",
        "        idcg = self.idcg[min([len(gt), K])-1]\n",
        "        return dcg / idcg\n",
        "\n",
        "    def _get_item(self, rec: List, K = None) -> float:\n",
        "        for r in rec[:K]:\n",
        "            self.uniq_item[r] = self.uniq_item.get(r, 0) + 1\n",
        "\n",
        "    def __call__(self, K = None):\n",
        "        self.K = K if K else self.max_K\n",
        "        self.recall = 0.0\n",
        "        self.precision = 0.0\n",
        "        self.MAP = 0.0\n",
        "        self.HR = 0.0\n",
        "        self.MRR = 0.0\n",
        "        self.nDCG = 0.0\n",
        "        self.uniq_item = {}\n",
        "        n = self.true.index.size\n",
        "        for gt, rec in zip(tqdm(self.true.movie_id), self.pred.movie_id):\n",
        "            self.recall += self._recall(gt, rec, K) / n\n",
        "            self.precision += self._precision(gt, rec, K) / n\n",
        "            self.MAP += self._AP(gt, rec, K) / n\n",
        "            self.HR += self._HR(gt, rec, K) / n\n",
        "            self.MRR += self._RR(gt, rec, K) / n\n",
        "            self.nDCG += self._nDCG(gt, rec, K) / n\n",
        "            self._get_item(rec, K)\n",
        "        self.CO = len(self.uniq_item) / (n*K) # Coverage\n",
        "        self.ED = -np.sum([self.uniq_item[i] * np.log(self.uniq_item[i] / (n*K)) for i in self.uniq_item]) / (n*K) # Entropy-Diversity\n",
        "\n",
        "    def print_all(self):\n",
        "        K = '@' + str(self.K) if self.K else ''\n",
        "        print(f'{\"Recall\":>12}{K} : {self.recall:.5f}',\n",
        "              f'\\n{\"Precision\":>12}{K} : {self.precision:.5f}',\n",
        "              f'\\n{\"MAP\":>12}{K} : {self.MAP:.5f}',\n",
        "              f'\\n{\"HR\":>12}{K} : {self.HR:.5f}', \n",
        "              f'\\n{\"MRR\":>12}{K} : {self.MRR:.5f}',\n",
        "              f'\\n{\"nDCG\":>12}{K} : {self.nDCG:.5f}',\n",
        "              f'\\n{\"CO\":>12}{K} : {self.CO:.5f}',\n",
        "              f'\\n{\"ED\":>12}{K} : {self.ED:.5f}')"
      ],
      "execution_count": 16,
      "outputs": []
    },
    {
      "cell_type": "code",
      "metadata": {
        "id": "b9ZR34fPpotj"
      },
      "source": [
        "epochs = 100\r\n",
        "batch_size = 128\r\n",
        "\r\n",
        "train_gen = train_generator(train, n_item, batch_size)\r\n",
        "valid_gen = valid_generator(valid_q, valid_r, n_item, batch_size)\r\n",
        "\r\n",
        "steps_per_epoch = train.user_id.nunique() // batch_size + 1\r\n",
        "validation_steps = valid.user_id.nunique() // batch_size + 1"
      ],
      "execution_count": 17,
      "outputs": []
    },
    {
      "cell_type": "code",
      "metadata": {
        "colab": {
          "base_uri": "https://localhost:8080/"
        },
        "id": "WYRpl6dWpomN",
        "outputId": "6783fe4c-2565-4a3f-8c41-a8b308a13d98"
      },
      "source": [
        "model = DeepRec(n_item, latent_dim = 256, n_layer = 3, gamma = 0.1)\r\n",
        "model.compile(optimizer = Adam(lr = 1e-4), loss = binary_cross_entropy)\r\n",
        "\r\n",
        "model.summary()"
      ],
      "execution_count": 18,
      "outputs": [
        {
          "output_type": "stream",
          "text": [
            "Model: \"deep_rec\"\n",
            "_________________________________________________________________\n",
            "Layer (type)                 Output Shape              Param #   \n",
            "=================================================================\n",
            "encoder (Encoder)            (None, 256)               2291968   \n",
            "_________________________________________________________________\n",
            "decoder (Decoder)            (None, 3706)              2295418   \n",
            "=================================================================\n",
            "Total params: 4,587,386\n",
            "Trainable params: 4,587,386\n",
            "Non-trainable params: 0\n",
            "_________________________________________________________________\n"
          ],
          "name": "stdout"
        }
      ]
    },
    {
      "cell_type": "code",
      "metadata": {
        "colab": {
          "base_uri": "https://localhost:8080/",
          "height": 1000
        },
        "id": "0qTbbr-9pofh",
        "outputId": "6afde6ec-75af-41ef-dd0b-17589892a6ad"
      },
      "source": [
        "%%time\r\n",
        "early_stopping = EarlyStopping(monitor = 'val_ndcg', mode = 'max', verbose = 1, patience = epochs // 5)\r\n",
        "model_checkpoint = ModelCheckpoint('DeepRec.h5', monitor = 'val_ndcg', mode = 'max', save_best_only = True)\r\n",
        "\r\n",
        "hist = model.fit(x = train_gen, validation_data = valid_gen, epochs = epochs,\r\n",
        "                 steps_per_epoch = steps_per_epoch, validation_steps = validation_steps, \r\n",
        "                 verbose = 1, callbacks = [early_stopping, model_checkpoint])\r\n",
        "show_history(hist, 'loss', 'ndcg')"
      ],
      "execution_count": 19,
      "outputs": [
        {
          "output_type": "stream",
          "text": [
            "Epoch 1/100\n",
            "38/38 [==============================] - 2s 22ms/step - loss: 1077.0182 - val_ndcg: 0.1205\n",
            "Epoch 2/100\n",
            "38/38 [==============================] - 0s 10ms/step - loss: 324.7210 - val_ndcg: 0.1485\n",
            "Epoch 3/100\n",
            "38/38 [==============================] - 0s 9ms/step - loss: 301.8613 - val_ndcg: 0.1518\n",
            "Epoch 4/100\n",
            "38/38 [==============================] - 0s 9ms/step - loss: 297.0963 - val_ndcg: 0.1487\n",
            "Epoch 5/100\n",
            "38/38 [==============================] - 0s 9ms/step - loss: 295.9234 - val_ndcg: 0.1510\n",
            "Epoch 6/100\n",
            "38/38 [==============================] - 0s 10ms/step - loss: 292.5942 - val_ndcg: 0.1606\n",
            "Epoch 7/100\n",
            "38/38 [==============================] - 0s 9ms/step - loss: 292.5317 - val_ndcg: 0.1373\n",
            "Epoch 8/100\n",
            "38/38 [==============================] - 0s 9ms/step - loss: 289.2088 - val_ndcg: 0.1676\n",
            "Epoch 9/100\n",
            "38/38 [==============================] - 0s 9ms/step - loss: 282.9258 - val_ndcg: 0.1590\n",
            "Epoch 10/100\n",
            "38/38 [==============================] - 0s 9ms/step - loss: 277.4461 - val_ndcg: 0.1664\n",
            "Epoch 11/100\n",
            "38/38 [==============================] - 0s 9ms/step - loss: 274.3501 - val_ndcg: 0.1781\n",
            "Epoch 12/100\n",
            "38/38 [==============================] - 0s 9ms/step - loss: 267.3522 - val_ndcg: 0.1877\n",
            "Epoch 13/100\n",
            "38/38 [==============================] - 0s 9ms/step - loss: 261.9476 - val_ndcg: 0.1805\n",
            "Epoch 14/100\n",
            "38/38 [==============================] - 0s 10ms/step - loss: 258.7849 - val_ndcg: 0.1760\n",
            "Epoch 15/100\n",
            "38/38 [==============================] - 0s 10ms/step - loss: 254.5922 - val_ndcg: 0.1844\n",
            "Epoch 16/100\n",
            "38/38 [==============================] - 0s 9ms/step - loss: 249.8328 - val_ndcg: 0.2063\n",
            "Epoch 17/100\n",
            "38/38 [==============================] - 0s 10ms/step - loss: 245.3089 - val_ndcg: 0.1684\n",
            "Epoch 18/100\n",
            "38/38 [==============================] - 0s 9ms/step - loss: 243.4547 - val_ndcg: 0.2178\n",
            "Epoch 19/100\n",
            "38/38 [==============================] - 0s 10ms/step - loss: 240.0829 - val_ndcg: 0.1904\n",
            "Epoch 20/100\n",
            "38/38 [==============================] - 0s 9ms/step - loss: 238.4359 - val_ndcg: 0.2105\n",
            "Epoch 21/100\n",
            "38/38 [==============================] - 0s 9ms/step - loss: 237.6056 - val_ndcg: 0.1924\n",
            "Epoch 22/100\n",
            "38/38 [==============================] - 0s 9ms/step - loss: 235.5438 - val_ndcg: 0.2226\n",
            "Epoch 23/100\n",
            "38/38 [==============================] - 0s 9ms/step - loss: 234.3769 - val_ndcg: 0.1825\n",
            "Epoch 24/100\n",
            "38/38 [==============================] - 0s 10ms/step - loss: 233.1267 - val_ndcg: 0.2240\n",
            "Epoch 25/100\n",
            "38/38 [==============================] - 0s 9ms/step - loss: 230.4462 - val_ndcg: 0.2265\n",
            "Epoch 26/100\n",
            "38/38 [==============================] - 0s 10ms/step - loss: 228.8425 - val_ndcg: 0.2306\n",
            "Epoch 27/100\n",
            "38/38 [==============================] - 0s 10ms/step - loss: 227.1399 - val_ndcg: 0.2146\n",
            "Epoch 28/100\n",
            "38/38 [==============================] - 0s 9ms/step - loss: 226.3192 - val_ndcg: 0.2202\n",
            "Epoch 29/100\n",
            "38/38 [==============================] - 0s 9ms/step - loss: 223.8788 - val_ndcg: 0.1842\n",
            "Epoch 30/100\n",
            "38/38 [==============================] - 0s 9ms/step - loss: 222.9244 - val_ndcg: 0.2333\n",
            "Epoch 31/100\n",
            "38/38 [==============================] - 0s 10ms/step - loss: 221.9306 - val_ndcg: 0.2439\n",
            "Epoch 32/100\n",
            "38/38 [==============================] - 0s 10ms/step - loss: 220.2775 - val_ndcg: 0.2063\n",
            "Epoch 33/100\n",
            "38/38 [==============================] - 0s 10ms/step - loss: 218.1696 - val_ndcg: 0.2141\n",
            "Epoch 34/100\n",
            "38/38 [==============================] - 0s 9ms/step - loss: 216.6324 - val_ndcg: 0.2207\n",
            "Epoch 35/100\n",
            "38/38 [==============================] - 0s 9ms/step - loss: 215.1202 - val_ndcg: 0.2125\n",
            "Epoch 36/100\n",
            "38/38 [==============================] - 0s 9ms/step - loss: 214.1560 - val_ndcg: 0.2047\n",
            "Epoch 37/100\n",
            "38/38 [==============================] - 0s 9ms/step - loss: 212.5655 - val_ndcg: 0.2166\n",
            "Epoch 38/100\n",
            "38/38 [==============================] - 0s 9ms/step - loss: 210.7981 - val_ndcg: 0.2124\n",
            "Epoch 39/100\n",
            "38/38 [==============================] - 0s 9ms/step - loss: 210.1752 - val_ndcg: 0.2102\n",
            "Epoch 40/100\n",
            "38/38 [==============================] - 0s 10ms/step - loss: 207.9656 - val_ndcg: 0.1974\n",
            "Epoch 41/100\n",
            "38/38 [==============================] - 0s 9ms/step - loss: 207.3151 - val_ndcg: 0.2144\n",
            "Epoch 42/100\n",
            "38/38 [==============================] - 0s 9ms/step - loss: 205.4018 - val_ndcg: 0.2190\n",
            "Epoch 43/100\n",
            "38/38 [==============================] - 0s 9ms/step - loss: 204.0787 - val_ndcg: 0.2179\n",
            "Epoch 44/100\n",
            "38/38 [==============================] - 0s 10ms/step - loss: 202.2821 - val_ndcg: 0.2076\n",
            "Epoch 45/100\n",
            "38/38 [==============================] - 0s 10ms/step - loss: 201.4976 - val_ndcg: 0.2132\n",
            "Epoch 46/100\n",
            "38/38 [==============================] - 0s 9ms/step - loss: 200.5688 - val_ndcg: 0.2086\n",
            "Epoch 47/100\n",
            "38/38 [==============================] - 0s 9ms/step - loss: 199.3517 - val_ndcg: 0.2229\n",
            "Epoch 48/100\n",
            "38/38 [==============================] - 0s 9ms/step - loss: 196.5674 - val_ndcg: 0.2245\n",
            "Epoch 49/100\n",
            "38/38 [==============================] - 0s 10ms/step - loss: 194.6302 - val_ndcg: 0.2223\n",
            "Epoch 50/100\n",
            "38/38 [==============================] - 0s 9ms/step - loss: 193.3895 - val_ndcg: 0.2046\n",
            "Epoch 51/100\n",
            "38/38 [==============================] - 0s 9ms/step - loss: 191.3236 - val_ndcg: 0.1931\n",
            "Epoch 00051: early stopping\n",
            "CPU times: user 24.7 s, sys: 2.26 s, total: 26.9 s\n",
            "Wall time: 21.2 s\n"
          ],
          "name": "stdout"
        },
        {
          "output_type": "display_data",
          "data": {
            "image/png": "[encoded data removed]",
            "text/plain": [
              "<Figure size 576x432 with 2 Axes>"
            ]
          },
          "metadata": {
            "tags": [],
            "needs_background": "light"
          }
        }
      ]
    },
    {
      "cell_type": "code",
      "metadata": {
        "colab": {
          "base_uri": "https://localhost:8080/",
          "height": 195
        },
        "id": "-4tP0-a-zSxv",
        "outputId": "fcd45407-d37c-4469-e37c-69008b84baec"
      },
      "source": [
        "true = list_agg(test_r)\r\n",
        "true.head(5)"
      ],
      "execution_count": 20,
      "outputs": [
        {
          "output_type": "execute_result",
          "data": {
            "text/html": [
              "<div>\n",
              "<style scoped>\n",
              "    .dataframe tbody tr th:only-of-type {\n",
              "        vertical-align: middle;\n",
              "    }\n",
              "\n",
              "    .dataframe tbody tr th {\n",
              "        vertical-align: top;\n",
              "    }\n",
              "\n",
              "    .dataframe thead th {\n",
              "        text-align: right;\n",
              "    }\n",
              "</style>\n",
              "<table border=\"1\" class=\"dataframe\">\n",
              "  <thead>\n",
              "    <tr style=\"text-align: right;\">\n",
              "      <th></th>\n",
              "      <th>user_id</th>\n",
              "      <th>movie_id</th>\n",
              "    </tr>\n",
              "  </thead>\n",
              "  <tbody>\n",
              "    <tr>\n",
              "      <th>0</th>\n",
              "      <td>2</td>\n",
              "      <td>[177, 179, 183, 84, 4, 198, 199, 207]</td>\n",
              "    </tr>\n",
              "    <tr>\n",
              "      <th>1</th>\n",
              "      <td>8</td>\n",
              "      <td>[59, 438, 93, 123, 463, 525, 30, 288, 534, 322...</td>\n",
              "    </tr>\n",
              "    <tr>\n",
              "      <th>2</th>\n",
              "      <td>41</td>\n",
              "      <td>[175, 182, 563, 184, 1176, 116, 128, 1037, 104...</td>\n",
              "    </tr>\n",
              "    <tr>\n",
              "      <th>3</th>\n",
              "      <td>78</td>\n",
              "      <td>[1258, 305, 500, 2230]</td>\n",
              "    </tr>\n",
              "    <tr>\n",
              "      <th>4</th>\n",
              "      <td>91</td>\n",
              "      <td>[558, 1176, 195, 587, 592, 74, 1904, 186, 647,...</td>\n",
              "    </tr>\n",
              "  </tbody>\n",
              "</table>\n",
              "</div>"
            ],
            "text/plain": [
              "   user_id                                           movie_id\n",
              "0        2              [177, 179, 183, 84, 4, 198, 199, 207]\n",
              "1        8  [59, 438, 93, 123, 463, 525, 30, 288, 534, 322...\n",
              "2       41  [175, 182, 563, 184, 1176, 116, 128, 1037, 104...\n",
              "3       78                             [1258, 305, 500, 2230]\n",
              "4       91  [558, 1176, 195, 587, 592, 74, 1904, 186, 647,..."
            ]
          },
          "metadata": {
            "tags": []
          },
          "execution_count": 20
        }
      ]
    },
    {
      "cell_type": "code",
      "metadata": {
        "id": "fgw83iYFysnj",
        "colab": {
          "base_uri": "https://localhost:8080/",
          "height": 195
        },
        "outputId": "9eff98a1-6060-4ba7-d389-fae346ab87ed"
      },
      "source": [
        "pred = test_predictor(test_q, model, n_item, batch_size, N = 100)\n",
        "pred.head(5)"
      ],
      "execution_count": 21,
      "outputs": [
        {
          "output_type": "execute_result",
          "data": {
            "text/html": [
              "<div>\n",
              "<style scoped>\n",
              "    .dataframe tbody tr th:only-of-type {\n",
              "        vertical-align: middle;\n",
              "    }\n",
              "\n",
              "    .dataframe tbody tr th {\n",
              "        vertical-align: top;\n",
              "    }\n",
              "\n",
              "    .dataframe thead th {\n",
              "        text-align: right;\n",
              "    }\n",
              "</style>\n",
              "<table border=\"1\" class=\"dataframe\">\n",
              "  <thead>\n",
              "    <tr style=\"text-align: right;\">\n",
              "      <th></th>\n",
              "      <th>user_id</th>\n",
              "      <th>movie_id</th>\n",
              "    </tr>\n",
              "  </thead>\n",
              "  <tbody>\n",
              "    <tr>\n",
              "      <th>0</th>\n",
              "      <td>2</td>\n",
              "      <td>[92, 60, 678, 587, 48, 1109, 385, 792, 717, 11...</td>\n",
              "    </tr>\n",
              "    <tr>\n",
              "      <th>1</th>\n",
              "      <td>8</td>\n",
              "      <td>[244, 134, 184, 171, 68, 256, 383, 176, 149, 9...</td>\n",
              "    </tr>\n",
              "    <tr>\n",
              "      <th>2</th>\n",
              "      <td>41</td>\n",
              "      <td>[132, 856, 62, 112, 724, 994, 160, 967, 189, 2...</td>\n",
              "    </tr>\n",
              "    <tr>\n",
              "      <th>3</th>\n",
              "      <td>78</td>\n",
              "      <td>[531, 831, 533, 68, 3, 1244, 517, 173, 956, 23...</td>\n",
              "    </tr>\n",
              "    <tr>\n",
              "      <th>4</th>\n",
              "      <td>91</td>\n",
              "      <td>[9, 8, 612, 596, 44, 237, 741, 1523, 798, 124,...</td>\n",
              "    </tr>\n",
              "  </tbody>\n",
              "</table>\n",
              "</div>"
            ],
            "text/plain": [
              "   user_id                                           movie_id\n",
              "0        2  [92, 60, 678, 587, 48, 1109, 385, 792, 717, 11...\n",
              "1        8  [244, 134, 184, 171, 68, 256, 383, 176, 149, 9...\n",
              "2       41  [132, 856, 62, 112, 724, 994, 160, 967, 189, 2...\n",
              "3       78  [531, 831, 533, 68, 3, 1244, 517, 173, 956, 23...\n",
              "4       91  [9, 8, 612, 596, 44, 237, 741, 1523, 798, 124,..."
            ]
          },
          "metadata": {
            "tags": []
          },
          "execution_count": 21
        }
      ]
    },
    {
      "cell_type": "code",
      "metadata": {
        "id": "jKQgNhpY0Bjl",
        "colab": {
          "base_uri": "https://localhost:8080/",
          "height": 398,
          "referenced_widgets": [
            "66b55a63ac15406aaf169dc9b9b1ee2b",
            "1ff42e98f6d840f19cea7d0b38cad261",
            "63212713d3d1472db7dcf503d5d19139",
            "88d080f6722b4287b1f1c050ec461321",
            "0d15c85dbc5342df9b84406bb189835f",
            "40d1409640c44755ae23d3e12238fa18",
            "f52aeec90c934337bcb6cb4f19147464",
            "54577f2c1b034e5fa1719a158ee73d19",
            "bc1bedc87fea42188b263e5c56950d41",
            "641bcaf5a13d42c88ad4c90a45b54bd7",
            "bfa8b8495475498dae2c6b2d0d433a8d",
            "6d105b4b3f0e4d8f8a49862a5ac225b6",
            "b2c247386a694c76968ab1f4a1529ef4",
            "eabe397afa304c39b8a92c945c84f80e",
            "acc463a692384e7e8c6a2e6a6b97b35b",
            "1b08ca3be5084509a5b28a0f86b5d85d"
          ]
        },
        "outputId": "c20e4b58-0845-4dc0-8b24-5995e7ade7e9"
      },
      "source": [
        "scores = evaluate(true, pred)\n",
        "\n",
        "scores(K = 10)\n",
        "scores.print_all()\n",
        "\n",
        "scores(K = 100)\n",
        "scores.print_all()"
      ],
      "execution_count": 22,
      "outputs": [
        {
          "output_type": "display_data",
          "data": {
            "application/vnd.jupyter.widget-view+json": {
              "model_id": "66b55a63ac15406aaf169dc9b9b1ee2b",
              "version_minor": 0,
              "version_major": 2
            },
            "text/plain": [
              "HBox(children=(FloatProgress(value=0.0, max=604.0), HTML(value='')))"
            ]
          },
          "metadata": {
            "tags": []
          }
        },
        {
          "output_type": "stream",
          "text": [
            "\n",
            "      Recall@10 : 0.11448 \n",
            "   Precision@10 : 0.09007 \n",
            "         MAP@10 : 0.04979 \n",
            "          HR@10 : 0.51159 \n",
            "         MRR@10 : 0.21671 \n",
            "        nDCG@10 : 0.10892 \n",
            "          CO@10 : 0.13560 \n",
            "          ED@10 : 5.95729\n"
          ],
          "name": "stdout"
        },
        {
          "output_type": "display_data",
          "data": {
            "application/vnd.jupyter.widget-view+json": {
              "model_id": "bc1bedc87fea42188b263e5c56950d41",
              "version_minor": 0,
              "version_major": 2
            },
            "text/plain": [
              "HBox(children=(FloatProgress(value=0.0, max=604.0), HTML(value='')))"
            ]
          },
          "metadata": {
            "tags": []
          }
        },
        {
          "output_type": "stream",
          "text": [
            "\n",
            "      Recall@100 : 0.40865 \n",
            "   Precision@100 : 0.05695 \n",
            "         MAP@100 : 0.06319 \n",
            "          HR@100 : 0.96523 \n",
            "         MRR@100 : 0.23730 \n",
            "        nDCG@100 : 0.22210 \n",
            "          CO@100 : 0.03485 \n",
            "          ED@100 : 6.84942\n"
          ],
          "name": "stdout"
        }
      ]
    }
  ]
}