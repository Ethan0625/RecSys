{
  "nbformat": 4,
  "nbformat_minor": 0,
  "metadata": {
    "colab": {
      "name": "6_NADE.ipynb",
      "provenance": [],
      "collapsed_sections": [],
      "authorship_tag": "ABX9TyNM4/h7EPNvOCiTVQZWBCWc",
      "include_colab_link": true
    },
    "kernelspec": {
      "name": "python3",
      "display_name": "Python 3"
    },
    "accelerator": "GPU",
    "widgets": {
      "application/vnd.jupyter.widget-state+json": {
        "bf73a23c93814cf9bdab32f342cc15ac": {
          "model_module": "@jupyter-widgets/controls",
          "model_name": "HBoxModel",
          "state": {
            "_view_name": "HBoxView",
            "_dom_classes": [],
            "_model_name": "HBoxModel",
            "_view_module": "@jupyter-widgets/controls",
            "_model_module_version": "1.5.0",
            "_view_count": null,
            "_view_module_version": "1.5.0",
            "box_style": "",
            "layout": "IPY_MODEL_78e826c0e6b54043a48673e5ea639a1d",
            "_model_module": "@jupyter-widgets/controls",
            "children": [
              "IPY_MODEL_b8ef762ce2304c57b2150a5527077b91",
              "IPY_MODEL_5b95800d960b43a288b4347e1bb3c3df"
            ]
          }
        },
        "78e826c0e6b54043a48673e5ea639a1d": {
          "model_module": "@jupyter-widgets/base",
          "model_name": "LayoutModel",
          "state": {
            "_view_name": "LayoutView",
            "grid_template_rows": null,
            "right": null,
            "justify_content": null,
            "_view_module": "@jupyter-widgets/base",
            "overflow": null,
            "_model_module_version": "1.2.0",
            "_view_count": null,
            "flex_flow": null,
            "width": null,
            "min_width": null,
            "border": null,
            "align_items": null,
            "bottom": null,
            "_model_module": "@jupyter-widgets/base",
            "top": null,
            "grid_column": null,
            "overflow_y": null,
            "overflow_x": null,
            "grid_auto_flow": null,
            "grid_area": null,
            "grid_template_columns": null,
            "flex": null,
            "_model_name": "LayoutModel",
            "justify_items": null,
            "grid_row": null,
            "max_height": null,
            "align_content": null,
            "visibility": null,
            "align_self": null,
            "height": null,
            "min_height": null,
            "padding": null,
            "grid_auto_rows": null,
            "grid_gap": null,
            "max_width": null,
            "order": null,
            "_view_module_version": "1.2.0",
            "grid_template_areas": null,
            "object_position": null,
            "object_fit": null,
            "grid_auto_columns": null,
            "margin": null,
            "display": null,
            "left": null
          }
        },
        "b8ef762ce2304c57b2150a5527077b91": {
          "model_module": "@jupyter-widgets/controls",
          "model_name": "FloatProgressModel",
          "state": {
            "_view_name": "ProgressView",
            "style": "IPY_MODEL_e1508a31f7a64825a9726b1f43f117a4",
            "_dom_classes": [],
            "description": "100%",
            "_model_name": "FloatProgressModel",
            "bar_style": "success",
            "max": 604,
            "_view_module": "@jupyter-widgets/controls",
            "_model_module_version": "1.5.0",
            "value": 604,
            "_view_count": null,
            "_view_module_version": "1.5.0",
            "orientation": "horizontal",
            "min": 0,
            "description_tooltip": null,
            "_model_module": "@jupyter-widgets/controls",
            "layout": "IPY_MODEL_974813fc84b1447d97e5d2ebc952a679"
          }
        },
        "5b95800d960b43a288b4347e1bb3c3df": {
          "model_module": "@jupyter-widgets/controls",
          "model_name": "HTMLModel",
          "state": {
            "_view_name": "HTMLView",
            "style": "IPY_MODEL_ad85d94543dd42749672021741a32748",
            "_dom_classes": [],
            "description": "",
            "_model_name": "HTMLModel",
            "placeholder": "​",
            "_view_module": "@jupyter-widgets/controls",
            "_model_module_version": "1.5.0",
            "value": " 604/604 [00:01&lt;00:00, 589.21it/s]",
            "_view_count": null,
            "_view_module_version": "1.5.0",
            "description_tooltip": null,
            "_model_module": "@jupyter-widgets/controls",
            "layout": "IPY_MODEL_aecfa54c93ad4c5ebdf7a34b9ccdcffb"
          }
        },
        "e1508a31f7a64825a9726b1f43f117a4": {
          "model_module": "@jupyter-widgets/controls",
          "model_name": "ProgressStyleModel",
          "state": {
            "_view_name": "StyleView",
            "_model_name": "ProgressStyleModel",
            "description_width": "initial",
            "_view_module": "@jupyter-widgets/base",
            "_model_module_version": "1.5.0",
            "_view_count": null,
            "_view_module_version": "1.2.0",
            "bar_color": null,
            "_model_module": "@jupyter-widgets/controls"
          }
        },
        "974813fc84b1447d97e5d2ebc952a679": {
          "model_module": "@jupyter-widgets/base",
          "model_name": "LayoutModel",
          "state": {
            "_view_name": "LayoutView",
            "grid_template_rows": null,
            "right": null,
            "justify_content": null,
            "_view_module": "@jupyter-widgets/base",
            "overflow": null,
            "_model_module_version": "1.2.0",
            "_view_count": null,
            "flex_flow": null,
            "width": null,
            "min_width": null,
            "border": null,
            "align_items": null,
            "bottom": null,
            "_model_module": "@jupyter-widgets/base",
            "top": null,
            "grid_column": null,
            "overflow_y": null,
            "overflow_x": null,
            "grid_auto_flow": null,
            "grid_area": null,
            "grid_template_columns": null,
            "flex": null,
            "_model_name": "LayoutModel",
            "justify_items": null,
            "grid_row": null,
            "max_height": null,
            "align_content": null,
            "visibility": null,
            "align_self": null,
            "height": null,
            "min_height": null,
            "padding": null,
            "grid_auto_rows": null,
            "grid_gap": null,
            "max_width": null,
            "order": null,
            "_view_module_version": "1.2.0",
            "grid_template_areas": null,
            "object_position": null,
            "object_fit": null,
            "grid_auto_columns": null,
            "margin": null,
            "display": null,
            "left": null
          }
        },
        "ad85d94543dd42749672021741a32748": {
          "model_module": "@jupyter-widgets/controls",
          "model_name": "DescriptionStyleModel",
          "state": {
            "_view_name": "StyleView",
            "_model_name": "DescriptionStyleModel",
            "description_width": "",
            "_view_module": "@jupyter-widgets/base",
            "_model_module_version": "1.5.0",
            "_view_count": null,
            "_view_module_version": "1.2.0",
            "_model_module": "@jupyter-widgets/controls"
          }
        },
        "aecfa54c93ad4c5ebdf7a34b9ccdcffb": {
          "model_module": "@jupyter-widgets/base",
          "model_name": "LayoutModel",
          "state": {
            "_view_name": "LayoutView",
            "grid_template_rows": null,
            "right": null,
            "justify_content": null,
            "_view_module": "@jupyter-widgets/base",
            "overflow": null,
            "_model_module_version": "1.2.0",
            "_view_count": null,
            "flex_flow": null,
            "width": null,
            "min_width": null,
            "border": null,
            "align_items": null,
            "bottom": null,
            "_model_module": "@jupyter-widgets/base",
            "top": null,
            "grid_column": null,
            "overflow_y": null,
            "overflow_x": null,
            "grid_auto_flow": null,
            "grid_area": null,
            "grid_template_columns": null,
            "flex": null,
            "_model_name": "LayoutModel",
            "justify_items": null,
            "grid_row": null,
            "max_height": null,
            "align_content": null,
            "visibility": null,
            "align_self": null,
            "height": null,
            "min_height": null,
            "padding": null,
            "grid_auto_rows": null,
            "grid_gap": null,
            "max_width": null,
            "order": null,
            "_view_module_version": "1.2.0",
            "grid_template_areas": null,
            "object_position": null,
            "object_fit": null,
            "grid_auto_columns": null,
            "margin": null,
            "display": null,
            "left": null
          }
        },
        "9155d350c326400cb4fa648841bdf963": {
          "model_module": "@jupyter-widgets/controls",
          "model_name": "HBoxModel",
          "state": {
            "_view_name": "HBoxView",
            "_dom_classes": [],
            "_model_name": "HBoxModel",
            "_view_module": "@jupyter-widgets/controls",
            "_model_module_version": "1.5.0",
            "_view_count": null,
            "_view_module_version": "1.5.0",
            "box_style": "",
            "layout": "IPY_MODEL_1da8a1fa0a04404d805d340cb9860839",
            "_model_module": "@jupyter-widgets/controls",
            "children": [
              "IPY_MODEL_747407f848f0452ea124ebf4b24460fb",
              "IPY_MODEL_4c4d82e7e65947409f125bc83cdba56a"
            ]
          }
        },
        "1da8a1fa0a04404d805d340cb9860839": {
          "model_module": "@jupyter-widgets/base",
          "model_name": "LayoutModel",
          "state": {
            "_view_name": "LayoutView",
            "grid_template_rows": null,
            "right": null,
            "justify_content": null,
            "_view_module": "@jupyter-widgets/base",
            "overflow": null,
            "_model_module_version": "1.2.0",
            "_view_count": null,
            "flex_flow": null,
            "width": null,
            "min_width": null,
            "border": null,
            "align_items": null,
            "bottom": null,
            "_model_module": "@jupyter-widgets/base",
            "top": null,
            "grid_column": null,
            "overflow_y": null,
            "overflow_x": null,
            "grid_auto_flow": null,
            "grid_area": null,
            "grid_template_columns": null,
            "flex": null,
            "_model_name": "LayoutModel",
            "justify_items": null,
            "grid_row": null,
            "max_height": null,
            "align_content": null,
            "visibility": null,
            "align_self": null,
            "height": null,
            "min_height": null,
            "padding": null,
            "grid_auto_rows": null,
            "grid_gap": null,
            "max_width": null,
            "order": null,
            "_view_module_version": "1.2.0",
            "grid_template_areas": null,
            "object_position": null,
            "object_fit": null,
            "grid_auto_columns": null,
            "margin": null,
            "display": null,
            "left": null
          }
        },
        "747407f848f0452ea124ebf4b24460fb": {
          "model_module": "@jupyter-widgets/controls",
          "model_name": "FloatProgressModel",
          "state": {
            "_view_name": "ProgressView",
            "style": "IPY_MODEL_291f4dd2a02c43d9a3dc7374356712ac",
            "_dom_classes": [],
            "description": "100%",
            "_model_name": "FloatProgressModel",
            "bar_style": "success",
            "max": 604,
            "_view_module": "@jupyter-widgets/controls",
            "_model_module_version": "1.5.0",
            "value": 604,
            "_view_count": null,
            "_view_module_version": "1.5.0",
            "orientation": "horizontal",
            "min": 0,
            "description_tooltip": null,
            "_model_module": "@jupyter-widgets/controls",
            "layout": "IPY_MODEL_d750157f4eda4d64a3a3de728756e452"
          }
        },
        "4c4d82e7e65947409f125bc83cdba56a": {
          "model_module": "@jupyter-widgets/controls",
          "model_name": "HTMLModel",
          "state": {
            "_view_name": "HTMLView",
            "style": "IPY_MODEL_250c435c53bb4264ab148bb32ed1959c",
            "_dom_classes": [],
            "description": "",
            "_model_name": "HTMLModel",
            "placeholder": "​",
            "_view_module": "@jupyter-widgets/controls",
            "_model_module_version": "1.5.0",
            "value": " 604/604 [00:01&lt;00:00, 393.04it/s]",
            "_view_count": null,
            "_view_module_version": "1.5.0",
            "description_tooltip": null,
            "_model_module": "@jupyter-widgets/controls",
            "layout": "IPY_MODEL_9c2baabb2e3c40979f74ffa8d053e7c3"
          }
        },
        "291f4dd2a02c43d9a3dc7374356712ac": {
          "model_module": "@jupyter-widgets/controls",
          "model_name": "ProgressStyleModel",
          "state": {
            "_view_name": "StyleView",
            "_model_name": "ProgressStyleModel",
            "description_width": "initial",
            "_view_module": "@jupyter-widgets/base",
            "_model_module_version": "1.5.0",
            "_view_count": null,
            "_view_module_version": "1.2.0",
            "bar_color": null,
            "_model_module": "@jupyter-widgets/controls"
          }
        },
        "d750157f4eda4d64a3a3de728756e452": {
          "model_module": "@jupyter-widgets/base",
          "model_name": "LayoutModel",
          "state": {
            "_view_name": "LayoutView",
            "grid_template_rows": null,
            "right": null,
            "justify_content": null,
            "_view_module": "@jupyter-widgets/base",
            "overflow": null,
            "_model_module_version": "1.2.0",
            "_view_count": null,
            "flex_flow": null,
            "width": null,
            "min_width": null,
            "border": null,
            "align_items": null,
            "bottom": null,
            "_model_module": "@jupyter-widgets/base",
            "top": null,
            "grid_column": null,
            "overflow_y": null,
            "overflow_x": null,
            "grid_auto_flow": null,
            "grid_area": null,
            "grid_template_columns": null,
            "flex": null,
            "_model_name": "LayoutModel",
            "justify_items": null,
            "grid_row": null,
            "max_height": null,
            "align_content": null,
            "visibility": null,
            "align_self": null,
            "height": null,
            "min_height": null,
            "padding": null,
            "grid_auto_rows": null,
            "grid_gap": null,
            "max_width": null,
            "order": null,
            "_view_module_version": "1.2.0",
            "grid_template_areas": null,
            "object_position": null,
            "object_fit": null,
            "grid_auto_columns": null,
            "margin": null,
            "display": null,
            "left": null
          }
        },
        "250c435c53bb4264ab148bb32ed1959c": {
          "model_module": "@jupyter-widgets/controls",
          "model_name": "DescriptionStyleModel",
          "state": {
            "_view_name": "StyleView",
            "_model_name": "DescriptionStyleModel",
            "description_width": "",
            "_view_module": "@jupyter-widgets/base",
            "_model_module_version": "1.5.0",
            "_view_count": null,
            "_view_module_version": "1.2.0",
            "_model_module": "@jupyter-widgets/controls"
          }
        },
        "9c2baabb2e3c40979f74ffa8d053e7c3": {
          "model_module": "@jupyter-widgets/base",
          "model_name": "LayoutModel",
          "state": {
            "_view_name": "LayoutView",
            "grid_template_rows": null,
            "right": null,
            "justify_content": null,
            "_view_module": "@jupyter-widgets/base",
            "overflow": null,
            "_model_module_version": "1.2.0",
            "_view_count": null,
            "flex_flow": null,
            "width": null,
            "min_width": null,
            "border": null,
            "align_items": null,
            "bottom": null,
            "_model_module": "@jupyter-widgets/base",
            "top": null,
            "grid_column": null,
            "overflow_y": null,
            "overflow_x": null,
            "grid_auto_flow": null,
            "grid_area": null,
            "grid_template_columns": null,
            "flex": null,
            "_model_name": "LayoutModel",
            "justify_items": null,
            "grid_row": null,
            "max_height": null,
            "align_content": null,
            "visibility": null,
            "align_self": null,
            "height": null,
            "min_height": null,
            "padding": null,
            "grid_auto_rows": null,
            "grid_gap": null,
            "max_width": null,
            "order": null,
            "_view_module_version": "1.2.0",
            "grid_template_areas": null,
            "object_position": null,
            "object_fit": null,
            "grid_auto_columns": null,
            "margin": null,
            "display": null,
            "left": null
          }
        }
      }
    }
  },
  "cells": [
    {
      "cell_type": "markdown",
      "metadata": {
        "id": "view-in-github",
        "colab_type": "text"
      },
      "source": [
        "<a href=\"https://colab.research.google.com/github/ivoryRabbit/RecSys/blob/master/6_NADE.ipynb\" target=\"_parent\"><img src=\"https://colab.research.google.com/assets/colab-badge.svg\" alt=\"Open In Colab\"/></a>"
      ]
    },
    {
      "cell_type": "markdown",
      "metadata": {
        "id": "IgX4n-LEi8Dk"
      },
      "source": [
        "# NADE\r\n",
        "\r\n",
        "- [A Neural Autoregressive Approach to Collaborative Filtering](https://arxiv.org/pdf/1605.09477.pdf)\r\n",
        "- [Neural Autoregressive Collaborative Filtering for Implicit Feedback](https://arxiv.org/pdf/1606.07674.pdf)\r\n",
        "\r\n",
        "## Experiment\r\n"
      ]
    },
    {
      "cell_type": "code",
      "metadata": {
        "id": "qHa-HURmijB4"
      },
      "source": [
        "import glob\r\n",
        "import numpy as np\r\n",
        "import pandas as pd\r\n",
        "from typing import Callable, Tuple, List\r\n",
        "from tqdm.notebook import tqdm\r\n",
        "\r\n",
        "import seaborn as sns\r\n",
        "import matplotlib.pyplot as plt\r\n",
        "%matplotlib inline\r\n",
        "plt.style.use('bmh')\r\n",
        "\r\n",
        "from sklearn.model_selection import train_test_split\r\n",
        "\r\n",
        "import tensorflow as tf\r\n",
        "import tensorflow.keras.backend as K\r\n",
        "\r\n",
        "from tensorflow.keras.layers import Input, Dense\r\n",
        "from tensorflow.keras.models import Model, load_model\r\n",
        "from tensorflow.keras.callbacks import ModelCheckpoint, EarlyStopping\r\n",
        "from tensorflow.keras.optimizers import Adam\r\n",
        "from tensorflow.keras.initializers import TruncatedNormal\r\n",
        "from tensorflow.keras.regularizers import l2\r\n",
        "\r\n",
        "from tensorflow.keras.utils import get_file\r\n",
        "import zipfile\r\n",
        "\r\n",
        "np.random.seed(777)\r\n",
        "tf.random.set_seed(777)"
      ],
      "execution_count": 1,
      "outputs": []
    },
    {
      "cell_type": "code",
      "metadata": {
        "id": "r7-Ipa5Limcz"
      },
      "source": [
        "def load_data(data_size : str) -> pd.DataFrame:\r\n",
        "    ''' load Movie Lens data '''\r\n",
        "\r\n",
        "    if data_size == '1m':\r\n",
        "        fname = 'ml-1m.zip'\r\n",
        "        data = 'ml-1m/ratings.dat'\r\n",
        "    elif data_size == '10m':\r\n",
        "        fname = 'ml-10m.zip'\r\n",
        "        data = 'ml-10M100K/ratings.dat'\r\n",
        "    elif data_size == '20m':\r\n",
        "        fname = 'ml-20m.zip'\r\n",
        "        data = 'ml-20m/ratings.csv'\r\n",
        "    elif data_size == '25m':\r\n",
        "        fname = 'ml-25m.zip'\r\n",
        "        data = 'ml-25m/ratings.csv'\r\n",
        "    if not glob.glob(data):\r\n",
        "        origin = f'http://files.grouplens.org/datasets/movielens/{fname}'\r\n",
        "        file = get_file(fname, origin)\r\n",
        "        zip_ref = zipfile.ZipFile(file, 'r')\r\n",
        "        zip_ref.extractall()\r\n",
        "\r\n",
        "    col_names = ['user_id', 'movie_id', 'rating', 'timestamp']\r\n",
        "    if data_size in ['20m', '25m']:\r\n",
        "        ratings = pd.read_csv(data, engine = 'python')\r\n",
        "    else:\r\n",
        "        ratings = pd.read_csv(data, sep = '|', delimiter = '::', names = col_names, engine = 'python')\r\n",
        "    print(ratings.shape)\r\n",
        "    return ratings"
      ],
      "execution_count": 2,
      "outputs": []
    },
    {
      "cell_type": "code",
      "metadata": {
        "id": "5ir_ByEOimUs",
        "colab": {
          "base_uri": "https://localhost:8080/",
          "height": 213
        },
        "outputId": "9b19ceee-ee29-4c7e-aef9-19af94b447b3"
      },
      "source": [
        "ratings = load_data('1m')\r\n",
        "ratings.head()"
      ],
      "execution_count": 3,
      "outputs": [
        {
          "output_type": "stream",
          "text": [
            "(1000209, 4)\n"
          ],
          "name": "stdout"
        },
        {
          "output_type": "execute_result",
          "data": {
            "text/html": [
              "<div>\n",
              "<style scoped>\n",
              "    .dataframe tbody tr th:only-of-type {\n",
              "        vertical-align: middle;\n",
              "    }\n",
              "\n",
              "    .dataframe tbody tr th {\n",
              "        vertical-align: top;\n",
              "    }\n",
              "\n",
              "    .dataframe thead th {\n",
              "        text-align: right;\n",
              "    }\n",
              "</style>\n",
              "<table border=\"1\" class=\"dataframe\">\n",
              "  <thead>\n",
              "    <tr style=\"text-align: right;\">\n",
              "      <th></th>\n",
              "      <th>user_id</th>\n",
              "      <th>movie_id</th>\n",
              "      <th>rating</th>\n",
              "      <th>timestamp</th>\n",
              "    </tr>\n",
              "  </thead>\n",
              "  <tbody>\n",
              "    <tr>\n",
              "      <th>0</th>\n",
              "      <td>1</td>\n",
              "      <td>1193</td>\n",
              "      <td>5</td>\n",
              "      <td>978300760</td>\n",
              "    </tr>\n",
              "    <tr>\n",
              "      <th>1</th>\n",
              "      <td>1</td>\n",
              "      <td>661</td>\n",
              "      <td>3</td>\n",
              "      <td>978302109</td>\n",
              "    </tr>\n",
              "    <tr>\n",
              "      <th>2</th>\n",
              "      <td>1</td>\n",
              "      <td>914</td>\n",
              "      <td>3</td>\n",
              "      <td>978301968</td>\n",
              "    </tr>\n",
              "    <tr>\n",
              "      <th>3</th>\n",
              "      <td>1</td>\n",
              "      <td>3408</td>\n",
              "      <td>4</td>\n",
              "      <td>978300275</td>\n",
              "    </tr>\n",
              "    <tr>\n",
              "      <th>4</th>\n",
              "      <td>1</td>\n",
              "      <td>2355</td>\n",
              "      <td>5</td>\n",
              "      <td>978824291</td>\n",
              "    </tr>\n",
              "  </tbody>\n",
              "</table>\n",
              "</div>"
            ],
            "text/plain": [
              "   user_id  movie_id  rating  timestamp\n",
              "0        1      1193       5  978300760\n",
              "1        1       661       3  978302109\n",
              "2        1       914       3  978301968\n",
              "3        1      3408       4  978300275\n",
              "4        1      2355       5  978824291"
            ]
          },
          "metadata": {
            "tags": []
          },
          "execution_count": 3
        }
      ]
    },
    {
      "cell_type": "code",
      "metadata": {
        "id": "Q7NxLKRuimOY",
        "colab": {
          "base_uri": "https://localhost:8080/"
        },
        "outputId": "221aef97-1aa2-4121-81e5-1b019805301b"
      },
      "source": [
        "user_list = ratings.user_id.unique()\r\n",
        "user_idx_map = {e: i for i, e in enumerate(user_list)}\r\n",
        "n_user = len(user_list)\r\n",
        "print(f'# of user = {n_user}')\r\n",
        "\r\n",
        "item_list = ratings.movie_id.unique()\r\n",
        "item_idx_map = {e: i for i, e in enumerate(item_list)}\r\n",
        "n_item = len(item_list)\r\n",
        "print(f'# of item = {n_item}')"
      ],
      "execution_count": 4,
      "outputs": [
        {
          "output_type": "stream",
          "text": [
            "# of user = 6040\n",
            "# of item = 3706\n"
          ],
          "name": "stdout"
        }
      ]
    },
    {
      "cell_type": "code",
      "metadata": {
        "id": "Y6rAHnLQipAk",
        "colab": {
          "base_uri": "https://localhost:8080/",
          "height": 195
        },
        "outputId": "09468590-a7ce-4c4b-d2b8-6e312388de08"
      },
      "source": [
        "ratings = ratings.assign(\r\n",
        "    user_id = ratings.user_id.map(user_idx_map),\r\n",
        "    movie_id = ratings.movie_id.map(item_idx_map)\r\n",
        ")\r\n",
        "ratings.head()"
      ],
      "execution_count": 5,
      "outputs": [
        {
          "output_type": "execute_result",
          "data": {
            "text/html": [
              "<div>\n",
              "<style scoped>\n",
              "    .dataframe tbody tr th:only-of-type {\n",
              "        vertical-align: middle;\n",
              "    }\n",
              "\n",
              "    .dataframe tbody tr th {\n",
              "        vertical-align: top;\n",
              "    }\n",
              "\n",
              "    .dataframe thead th {\n",
              "        text-align: right;\n",
              "    }\n",
              "</style>\n",
              "<table border=\"1\" class=\"dataframe\">\n",
              "  <thead>\n",
              "    <tr style=\"text-align: right;\">\n",
              "      <th></th>\n",
              "      <th>user_id</th>\n",
              "      <th>movie_id</th>\n",
              "      <th>rating</th>\n",
              "      <th>timestamp</th>\n",
              "    </tr>\n",
              "  </thead>\n",
              "  <tbody>\n",
              "    <tr>\n",
              "      <th>0</th>\n",
              "      <td>0</td>\n",
              "      <td>0</td>\n",
              "      <td>5</td>\n",
              "      <td>978300760</td>\n",
              "    </tr>\n",
              "    <tr>\n",
              "      <th>1</th>\n",
              "      <td>0</td>\n",
              "      <td>1</td>\n",
              "      <td>3</td>\n",
              "      <td>978302109</td>\n",
              "    </tr>\n",
              "    <tr>\n",
              "      <th>2</th>\n",
              "      <td>0</td>\n",
              "      <td>2</td>\n",
              "      <td>3</td>\n",
              "      <td>978301968</td>\n",
              "    </tr>\n",
              "    <tr>\n",
              "      <th>3</th>\n",
              "      <td>0</td>\n",
              "      <td>3</td>\n",
              "      <td>4</td>\n",
              "      <td>978300275</td>\n",
              "    </tr>\n",
              "    <tr>\n",
              "      <th>4</th>\n",
              "      <td>0</td>\n",
              "      <td>4</td>\n",
              "      <td>5</td>\n",
              "      <td>978824291</td>\n",
              "    </tr>\n",
              "  </tbody>\n",
              "</table>\n",
              "</div>"
            ],
            "text/plain": [
              "   user_id  movie_id  rating  timestamp\n",
              "0        0         0       5  978300760\n",
              "1        0         1       3  978302109\n",
              "2        0         2       3  978301968\n",
              "3        0         3       4  978300275\n",
              "4        0         4       5  978824291"
            ]
          },
          "metadata": {
            "tags": []
          },
          "execution_count": 5
        }
      ]
    },
    {
      "cell_type": "code",
      "metadata": {
        "id": "b5i143z_3sw8"
      },
      "source": [
        "def binarizer(df: pd.DataFrame, threshold = 4) -> pd.DataFrame:\r\n",
        "    df = df.assign(rating = np.where(df.rating >= threshold, 1, 0))\r\n",
        "    return df[df.rating > 0.0].reset_index(drop = True)\r\n",
        "\r\n",
        "def make_warm(df: pd.DataFrame, threshold = 5) -> pd.DataFrame: # remove cold starters\r\n",
        "    positive = df.groupby('user_id')['movie_id'].count()\r\n",
        "    positive = positive.index[positive >= threshold]\r\n",
        "    return df[df.user_id.isin(positive)].reset_index(drop = True)\r\n",
        "\r\n",
        "def train_valid_test_split(df: pd.DataFrame, size: float) -> pd.DataFrame:\r\n",
        "    train_user, test_user = train_test_split(df.user_id.unique(), test_size = 2 * size, random_state = 777)\r\n",
        "    valid_user, test_user = train_test_split(test_user, test_size = 0.5, random_state = 777)\r\n",
        "    train, valid, test = map(lambda x: df[df.user_id.isin(x)], (train_user, valid_user, test_user))\r\n",
        "    train, valid, test = map(lambda df: df.reset_index(drop = True), (train, valid, test))\r\n",
        "    return train, valid, test\r\n",
        "\r\n",
        "def query_relev_split(df: pd.DataFrame, size: float) -> pd.DataFrame:\r\n",
        "    timeorder = df.groupby('user_id')['timestamp'].rank(method = 'first', ascending = True)\r\n",
        "    seen_cnts = df.groupby('user_id')['movie_id'].transform('count')\r\n",
        "    df = df.assign(seen_cnts = seen_cnts, timeorder = timeorder)\r\n",
        "    query = df[df.timeorder < df.seen_cnts * (1-size)]\r\n",
        "    relev = df[df.timeorder >= df.seen_cnts * (1-size)]\r\n",
        "    relev = relev[relev.user_id.isin(query.user_id.unique())]\r\n",
        "    query, relev = map(lambda df: df.drop(columns = ['timeorder', 'seen_cnts']), (query, relev))\r\n",
        "    query, relev = map(lambda df: df.reset_index(drop = True), (query, relev))\r\n",
        "    return query, relev\r\n",
        "\r\n",
        "def list_agg(df: pd.DataFrame) -> pd.DataFrame:\r\n",
        "    return df.groupby('user_id', as_index = False)[['movie_id']].agg(list)"
      ],
      "execution_count": 6,
      "outputs": []
    },
    {
      "cell_type": "code",
      "metadata": {
        "id": "3tFezRJKitQ_",
        "colab": {
          "base_uri": "https://localhost:8080/",
          "height": 195
        },
        "outputId": "56f3efb4-fc21-4119-aa6b-3e58c7b6e857"
      },
      "source": [
        "data = binarizer(ratings)\r\n",
        "data = make_warm(data)\r\n",
        "data.head()"
      ],
      "execution_count": 7,
      "outputs": [
        {
          "output_type": "execute_result",
          "data": {
            "text/html": [
              "<div>\n",
              "<style scoped>\n",
              "    .dataframe tbody tr th:only-of-type {\n",
              "        vertical-align: middle;\n",
              "    }\n",
              "\n",
              "    .dataframe tbody tr th {\n",
              "        vertical-align: top;\n",
              "    }\n",
              "\n",
              "    .dataframe thead th {\n",
              "        text-align: right;\n",
              "    }\n",
              "</style>\n",
              "<table border=\"1\" class=\"dataframe\">\n",
              "  <thead>\n",
              "    <tr style=\"text-align: right;\">\n",
              "      <th></th>\n",
              "      <th>user_id</th>\n",
              "      <th>movie_id</th>\n",
              "      <th>rating</th>\n",
              "      <th>timestamp</th>\n",
              "    </tr>\n",
              "  </thead>\n",
              "  <tbody>\n",
              "    <tr>\n",
              "      <th>0</th>\n",
              "      <td>0</td>\n",
              "      <td>0</td>\n",
              "      <td>1</td>\n",
              "      <td>978300760</td>\n",
              "    </tr>\n",
              "    <tr>\n",
              "      <th>1</th>\n",
              "      <td>0</td>\n",
              "      <td>3</td>\n",
              "      <td>1</td>\n",
              "      <td>978300275</td>\n",
              "    </tr>\n",
              "    <tr>\n",
              "      <th>2</th>\n",
              "      <td>0</td>\n",
              "      <td>4</td>\n",
              "      <td>1</td>\n",
              "      <td>978824291</td>\n",
              "    </tr>\n",
              "    <tr>\n",
              "      <th>3</th>\n",
              "      <td>0</td>\n",
              "      <td>6</td>\n",
              "      <td>1</td>\n",
              "      <td>978302039</td>\n",
              "    </tr>\n",
              "    <tr>\n",
              "      <th>4</th>\n",
              "      <td>0</td>\n",
              "      <td>7</td>\n",
              "      <td>1</td>\n",
              "      <td>978300719</td>\n",
              "    </tr>\n",
              "  </tbody>\n",
              "</table>\n",
              "</div>"
            ],
            "text/plain": [
              "   user_id  movie_id  rating  timestamp\n",
              "0        0         0       1  978300760\n",
              "1        0         3       1  978300275\n",
              "2        0         4       1  978824291\n",
              "3        0         6       1  978302039\n",
              "4        0         7       1  978300719"
            ]
          },
          "metadata": {
            "tags": []
          },
          "execution_count": 7
        }
      ]
    },
    {
      "cell_type": "code",
      "metadata": {
        "id": "sA9gEBFmvoCW"
      },
      "source": [
        "train, valid, test = train_valid_test_split(data, size = 0.1)\r\n",
        "valid_q, valid_r = query_relev_split(valid, size = 0.2)\r\n",
        "test_q, test_r = query_relev_split(test, size = 0.2)"
      ],
      "execution_count": 8,
      "outputs": []
    },
    {
      "cell_type": "code",
      "metadata": {
        "id": "1sKFhqmivs9U"
      },
      "source": [
        "def train_generator(train: pd.DataFrame, \r\n",
        "                    n_item: int, \r\n",
        "                    batch_size: int) -> np.ndarray:\r\n",
        "\r\n",
        "    train = list_agg(train)\r\n",
        "    \r\n",
        "    n_data = train.index.size\r\n",
        "    ids = np.arange(n_data)\r\n",
        "    profile = train['movie_id']\r\n",
        "\r\n",
        "    n_batch = int(np.ceil(n_data / batch_size))\r\n",
        "    while True:\r\n",
        "        np.random.shuffle(ids)\r\n",
        "        for batch_step in range(n_batch):     \r\n",
        "            lower = batch_size * batch_step\r\n",
        "            upper = batch_size + lower\r\n",
        "            \r\n",
        "            batch_id = ids[lower: upper]\r\n",
        "            batch = np.zeros(shape = (batch_id.size, n_item), dtype = np.float32)\r\n",
        "            for i, idx in enumerate(batch_id):\r\n",
        "                batch[i, profile[idx]] = 1.0\r\n",
        "            \r\n",
        "            yield batch"
      ],
      "execution_count": 9,
      "outputs": []
    },
    {
      "cell_type": "code",
      "metadata": {
        "id": "raJ3gC-5vujr"
      },
      "source": [
        "def valid_generator(query: pd.DataFrame,\r\n",
        "                    relev: pd.DataFrame,\r\n",
        "                    n_item: int,\r\n",
        "                    batch_size: int) -> Tuple[np.ndarray]:\r\n",
        "\r\n",
        "    query = list_agg(query)\r\n",
        "    relev = list_agg(relev)\r\n",
        "\r\n",
        "    n_data = query.index.size\r\n",
        "    ids = np.arange(n_data)\r\n",
        "    profile_q = query['movie_id']\r\n",
        "    profile_r = relev['movie_id']\r\n",
        "\r\n",
        "    n_batch = int(np.ceil(n_data / batch_size))\r\n",
        "    while True:\r\n",
        "        np.random.shuffle(ids)\r\n",
        "        for batch_step in range(n_batch):\r\n",
        "            lower = batch_size * batch_step\r\n",
        "            upper = batch_size + lower\r\n",
        "            \r\n",
        "            batch_id = ids[lower: upper]\r\n",
        "            batch_q = np.zeros(shape = (batch_id.size, n_item), dtype = np.float32)\r\n",
        "            batch_r = np.zeros(shape = (batch_id.size, n_item), dtype = np.float32)\r\n",
        "            for i, idx in enumerate(batch_id):\r\n",
        "                batch_q[i, profile_q[idx]] = 1.0 # seen\r\n",
        "                batch_r[i, profile_r[idx]] = 1.0 # unseen\r\n",
        "\r\n",
        "            yield batch_q, batch_r"
      ],
      "execution_count": 10,
      "outputs": []
    },
    {
      "cell_type": "code",
      "metadata": {
        "id": "0eD6RLN7vwmE"
      },
      "source": [
        "def binary_cross_entropy(true: tf.Tensor, pred: tf.Tensor) -> tf.Tensor:\r\n",
        "    ce = tf.math.reduce_sum(K.binary_crossentropy(true, pred), axis = 1)\r\n",
        "    return tf.math.reduce_mean(ce, axis = 0)\r\n",
        "\r\n",
        "def multinomial(true: tf.Tensor, pred: tf.Tensor) -> tf.Tensor:\r\n",
        "    ll = tf.math.reduce_sum(true * K.log(pred), axis = 1)\r\n",
        "    return -tf.math.reduce_mean(ll, axis = 0)\r\n",
        "\r\n",
        "def batch_ndcg(query: tf.Tensor, \r\n",
        "               relev: tf.Tensor,\r\n",
        "               pred: tf.Tensor, \r\n",
        "               weight: tf.Tensor,\r\n",
        "               k = 100) -> tf.Tensor: # only for validation\r\n",
        "\r\n",
        "    rec = tf.where(query == 1.0, -1.0, pred) # leave only unseen-data\r\n",
        "    rec = tf.argsort(rec, axis = 1, direction = 'DESCENDING')[:, :k]\r\n",
        "    shape = tf.shape(rec)\r\n",
        "\r\n",
        "    row = tf.repeat(tf.range(shape[0]), shape[1])\r\n",
        "    row = tf.expand_dims(row, axis = 1)\r\n",
        "    col = tf.reshape(rec, shape = [-1])\r\n",
        "    col = tf.expand_dims(col, axis = 1)\r\n",
        "    loc = tf.concat([row, col], axis = 1)\r\n",
        "\r\n",
        "    top_k = tf.reshape(tf.gather_nd(relev, loc), shape = shape)\r\n",
        "    ideal = tf.sort(relev, axis = 1, direction = 'DESCENDING')[:, :k]\r\n",
        "    weight = weight[:shape[1]]\r\n",
        "\r\n",
        "    dcg = tf.reduce_sum(top_k * weight, axis = 1)\r\n",
        "    idcg = tf.reduce_sum(ideal * weight, axis = 1)\r\n",
        "    return tf.reduce_mean(dcg / idcg, axis = 0)"
      ],
      "execution_count": 11,
      "outputs": []
    },
    {
      "cell_type": "code",
      "metadata": {
        "id": "HWWJlFN3wepv"
      },
      "source": [
        "class Encoder(tf.keras.layers.Layer):\r\n",
        "    def __init__(self, units):\r\n",
        "        super(Encoder, self).__init__()\r\n",
        "        self.units = units\r\n",
        "\r\n",
        "    def build(self, input_shape):\r\n",
        "        self.W = self.add_weight(\r\n",
        "            shape = (input_shape[-1], self.units),\r\n",
        "            initializer = 'glorot_uniform',\r\n",
        "            regularizer = 'l2',\r\n",
        "            trainable = True,\r\n",
        "            name = 'W'\r\n",
        "        )\r\n",
        "        self.b = self.add_weight(\r\n",
        "            shape = (1, self.units),\r\n",
        "            initializer = 'zeros',\r\n",
        "            trainable = True,\r\n",
        "            name = 'b'\r\n",
        "        )\r\n",
        "    def call(self, inputs):\r\n",
        "        r = tf.einsum('nm,mh->nmh', inputs, self.W)\r\n",
        "        logit_h = tf.math.cumsum(r, axis = 1, exclusive = True) + self.b\r\n",
        "        return tf.nn.sigmoid(logit_h)"
      ],
      "execution_count": 12,
      "outputs": []
    },
    {
      "cell_type": "code",
      "metadata": {
        "id": "bmHxbKBZxebb"
      },
      "source": [
        "class Decoder(tf.keras.layers.Layer):\r\n",
        "    def __init__(self, units):\r\n",
        "        super(Decoder, self).__init__()\r\n",
        "        self.units = units\r\n",
        "\r\n",
        "    def build(self, input_shape):\r\n",
        "        self.V = self.add_weight(\r\n",
        "            shape = (input_shape[-1], self.units),\r\n",
        "            initializer = 'glorot_uniform',\r\n",
        "            regularizer = 'l2',\r\n",
        "            trainable = True,\r\n",
        "            name = 'V'\r\n",
        "        )\r\n",
        "        self.c = self.add_weight(\r\n",
        "            shape = (1, self.units),\r\n",
        "            initializer = 'zeros',\r\n",
        "            trainable = True,\r\n",
        "            name = 'c'\r\n",
        "        )\r\n",
        "    def call(self, inputs):\r\n",
        "        logit_o = tf.einsum('nmh,hm->nm', inputs, self.V) + self.c\r\n",
        "        return tf.nn.sigmoid(logit_o)"
      ],
      "execution_count": 13,
      "outputs": []
    },
    {
      "cell_type": "code",
      "metadata": {
        "id": "7zK_FFNtyKAE"
      },
      "source": [
        "class NADE(tf.keras.models.Model):\r\n",
        "    def __init__(self, input_dim, latent_dim):\r\n",
        "        super(NADE, self).__init__()\r\n",
        "\r\n",
        "        self.input_dim = input_dim\r\n",
        "        self.latent_dim = latent_dim\r\n",
        "        self.beta = 0.01\r\n",
        "\r\n",
        "        self.encoder = Encoder(self.latent_dim)\r\n",
        "        self.decoder = Decoder(self.input_dim)\r\n",
        "\r\n",
        "        _ = self.call(Input(shape = (self.input_dim, )))\r\n",
        "        self.build(input_shape = (None, self.input_dim))\r\n",
        "\r\n",
        "    def call(self, inputs):\r\n",
        "        h = self.encoder(inputs)\r\n",
        "        return self.decoder(h)\r\n",
        "\r\n",
        "    def train_step(self, inputs):\r\n",
        "        with tf.GradientTape() as tape:\r\n",
        "            outputs = self(inputs)\r\n",
        "            loss_ce = self.loss(inputs, outputs)\r\n",
        "            reg = tf.nn.l2_loss(self.encoder.W) + tf.nn.l2_loss(self.decoder.V)\r\n",
        "            loss = loss_ce + self.beta * reg\r\n",
        "        gradients = tape.gradient(loss, self.trainable_variables)\r\n",
        "        self.optimizer.apply_gradients(zip(gradients, self.trainable_variables))\r\n",
        "        return {'loss': loss}\r\n",
        "\r\n",
        "    def test_step(self, data):\r\n",
        "        query, relev = data\r\n",
        "        pred = self(query)\r\n",
        "\r\n",
        "        weight = tf.range(2, self.input_dim, dtype = 'float32')\r\n",
        "        weight = tf.math.reciprocal(tf.math.log(weight))\r\n",
        "        ndcg = batch_ndcg(query, relev, pred, weight)\r\n",
        "        return {'ndcg': ndcg}"
      ],
      "execution_count": 14,
      "outputs": []
    },
    {
      "cell_type": "code",
      "metadata": {
        "id": "ATaH4QrqMEIo"
      },
      "source": [
        "def show_history(hist, loss: str, metric: str) -> None:\r\n",
        "    fig, (ax1, ax2) = plt.subplots(2, 1, figsize = (8, 6))\r\n",
        "\r\n",
        "    ax1.plot(hist.history[f'{loss}'])\r\n",
        "    ax1.set_title(loss, fontsize = 20)\r\n",
        "    ax1.set_ylabel(loss)\r\n",
        "    ax1.set_xlabel('epoch')\r\n",
        "\r\n",
        "    ax2.plot(hist.history[f'val_{metric}'])\r\n",
        "    ax2.set_title(metric, fontsize = 20)\r\n",
        "    ax2.set_ylabel(metric)\r\n",
        "    ax2.set_xlabel('epoch')\r\n",
        "    plt.tight_layout()"
      ],
      "execution_count": 15,
      "outputs": []
    },
    {
      "cell_type": "code",
      "metadata": {
        "id": "mV7QWG3L0la9"
      },
      "source": [
        "epochs = 100\r\n",
        "batch_size = 128\r\n",
        "\r\n",
        "train_gen = train_generator(train, n_item, batch_size)\r\n",
        "valid_gen = valid_generator(valid_q, valid_r, n_item, batch_size)\r\n",
        "\r\n",
        "steps_per_epoch = train.user_id.nunique() // batch_size + 1\r\n",
        "validation_steps = valid.user_id.nunique() // batch_size + 1"
      ],
      "execution_count": 16,
      "outputs": []
    },
    {
      "cell_type": "code",
      "metadata": {
        "colab": {
          "base_uri": "https://localhost:8080/"
        },
        "id": "u1Ob-gxj0M_-",
        "outputId": "7914bfa8-2f88-493d-8159-21d90efd265f"
      },
      "source": [
        "model = NADE(n_item, 500)\r\n",
        "model.compile(optimizer = 'adam', loss = binary_cross_entropy)\r\n",
        "\r\n",
        "model.summary()"
      ],
      "execution_count": 17,
      "outputs": [
        {
          "output_type": "stream",
          "text": [
            "Model: \"nade\"\n",
            "_________________________________________________________________\n",
            "Layer (type)                 Output Shape              Param #   \n",
            "=================================================================\n",
            "encoder (Encoder)            (None, 3706, 500)         1853500   \n",
            "_________________________________________________________________\n",
            "decoder (Decoder)            (None, 3706)              1856706   \n",
            "=================================================================\n",
            "Total params: 3,710,206\n",
            "Trainable params: 3,710,206\n",
            "Non-trainable params: 0\n",
            "_________________________________________________________________\n"
          ],
          "name": "stdout"
        }
      ]
    },
    {
      "cell_type": "code",
      "metadata": {
        "colab": {
          "base_uri": "https://localhost:8080/",
          "height": 1000
        },
        "id": "rSOFDHkR0ZYT",
        "outputId": "176508ba-c4a4-4e79-fb6a-55030116d407"
      },
      "source": [
        "%%time\r\n",
        "early_stopping = EarlyStopping(monitor = 'val_ndcg', mode = 'max', verbose = 1, patience = epochs // 10)\r\n",
        "model_checkpoint = ModelCheckpoint('NADE-CF.h5', monitor = 'val_ndcg', mode = 'max', save_best_only = True)\r\n",
        "\r\n",
        "hist = model.fit(x = train_gen, validation_data = valid_gen, epochs = epochs,\r\n",
        "                 steps_per_epoch = steps_per_epoch, validation_steps = validation_steps, \r\n",
        "                 verbose = 1, callbacks = [early_stopping, model_checkpoint])\r\n",
        "show_history(hist, 'loss', 'ndcg')"
      ],
      "execution_count": 18,
      "outputs": [
        {
          "output_type": "stream",
          "text": [
            "Epoch 1/100\n",
            "38/38 [==============================] - 9s 222ms/step - loss: 665.2218 - val_ndcg: 0.1169\n",
            "Epoch 2/100\n",
            "38/38 [==============================] - 8s 214ms/step - loss: 370.6157 - val_ndcg: 0.1533\n",
            "Epoch 3/100\n",
            "38/38 [==============================] - 8s 217ms/step - loss: 334.7385 - val_ndcg: 0.1405\n",
            "Epoch 4/100\n",
            "38/38 [==============================] - 8s 220ms/step - loss: 320.6558 - val_ndcg: 0.1417\n",
            "Epoch 5/100\n",
            "38/38 [==============================] - 8s 216ms/step - loss: 315.5285 - val_ndcg: 0.1486\n",
            "Epoch 6/100\n",
            "38/38 [==============================] - 8s 215ms/step - loss: 309.6456 - val_ndcg: 0.1481\n",
            "Epoch 7/100\n",
            "38/38 [==============================] - 8s 212ms/step - loss: 307.5167 - val_ndcg: 0.1330\n",
            "Epoch 8/100\n",
            "38/38 [==============================] - 8s 211ms/step - loss: 302.8085 - val_ndcg: 0.1686\n",
            "Epoch 9/100\n",
            "38/38 [==============================] - 8s 211ms/step - loss: 297.7598 - val_ndcg: 0.1576\n",
            "Epoch 10/100\n",
            "38/38 [==============================] - 8s 211ms/step - loss: 294.2983 - val_ndcg: 0.1663\n",
            "Epoch 11/100\n",
            "38/38 [==============================] - 8s 213ms/step - loss: 292.1550 - val_ndcg: 0.1702\n",
            "Epoch 12/100\n",
            "38/38 [==============================] - 8s 214ms/step - loss: 287.5880 - val_ndcg: 0.1753\n",
            "Epoch 13/100\n",
            "38/38 [==============================] - 8s 214ms/step - loss: 284.6359 - val_ndcg: 0.1585\n",
            "Epoch 14/100\n",
            "38/38 [==============================] - 8s 214ms/step - loss: 283.2062 - val_ndcg: 0.1604\n",
            "Epoch 15/100\n",
            "38/38 [==============================] - 8s 214ms/step - loss: 281.1859 - val_ndcg: 0.1731\n",
            "Epoch 16/100\n",
            "38/38 [==============================] - 8s 214ms/step - loss: 279.0538 - val_ndcg: 0.1816\n",
            "Epoch 17/100\n",
            "38/38 [==============================] - 8s 214ms/step - loss: 276.5630 - val_ndcg: 0.1558\n",
            "Epoch 18/100\n",
            "38/38 [==============================] - 8s 212ms/step - loss: 276.1823 - val_ndcg: 0.1856\n",
            "Epoch 19/100\n",
            "38/38 [==============================] - 8s 214ms/step - loss: 273.9573 - val_ndcg: 0.1701\n",
            "Epoch 20/100\n",
            "38/38 [==============================] - 8s 213ms/step - loss: 273.3020 - val_ndcg: 0.1796\n",
            "Epoch 21/100\n",
            "38/38 [==============================] - 8s 213ms/step - loss: 273.1556 - val_ndcg: 0.1645\n",
            "Epoch 22/100\n",
            "38/38 [==============================] - 8s 214ms/step - loss: 271.7969 - val_ndcg: 0.2059\n",
            "Epoch 23/100\n",
            "38/38 [==============================] - 8s 214ms/step - loss: 271.2857 - val_ndcg: 0.1615\n",
            "Epoch 24/100\n",
            "38/38 [==============================] - 8s 214ms/step - loss: 270.7878 - val_ndcg: 0.1979\n",
            "Epoch 25/100\n",
            "38/38 [==============================] - 8s 214ms/step - loss: 269.0722 - val_ndcg: 0.1851\n",
            "Epoch 26/100\n",
            "38/38 [==============================] - 8s 214ms/step - loss: 268.3404 - val_ndcg: 0.2007\n",
            "Epoch 27/100\n",
            "38/38 [==============================] - 8s 214ms/step - loss: 267.5432 - val_ndcg: 0.1844\n",
            "Epoch 28/100\n",
            "38/38 [==============================] - 8s 214ms/step - loss: 267.6211 - val_ndcg: 0.2005\n",
            "Epoch 29/100\n",
            "38/38 [==============================] - 8s 214ms/step - loss: 266.0941 - val_ndcg: 0.1710\n",
            "Epoch 30/100\n",
            "38/38 [==============================] - 8s 213ms/step - loss: 266.1185 - val_ndcg: 0.1982\n",
            "Epoch 31/100\n",
            "38/38 [==============================] - 8s 213ms/step - loss: 266.3377 - val_ndcg: 0.1896\n",
            "Epoch 32/100\n",
            "38/38 [==============================] - 8s 213ms/step - loss: 265.6447 - val_ndcg: 0.1779\n",
            "Epoch 00032: early stopping\n",
            "CPU times: user 1min 34s, sys: 1min 2s, total: 2min 37s\n",
            "Wall time: 4min 20s\n"
          ],
          "name": "stdout"
        },
        {
          "output_type": "display_data",
          "data": {
            "image/png": "[encoded data removed]",
            "text/plain": [
              "<Figure size 576x432 with 2 Axes>"
            ]
          },
          "metadata": {
            "tags": [],
            "needs_background": "light"
          }
        }
      ]
    },
    {
      "cell_type": "code",
      "metadata": {
        "id": "bqGhj7lOwPNE"
      },
      "source": [
        "def test_predictor(query: pd.DataFrame, \r\n",
        "                   model: Callable,\r\n",
        "                   n_item: int, \r\n",
        "                   batch_size: int, \r\n",
        "                   N = 100) -> float:\r\n",
        "\r\n",
        "    query = list_agg(query)\r\n",
        "\r\n",
        "    n_data = query.index.size\r\n",
        "    ids = np.arange(n_data)\r\n",
        "    profile = query['movie_id']\r\n",
        "\r\n",
        "    pred = []\r\n",
        "    n_batch = int(np.ceil(n_data / batch_size))\r\n",
        "    for batch_step in range(n_batch):\r\n",
        "        lower = batch_size * batch_step\r\n",
        "        upper = batch_size + lower\r\n",
        "\r\n",
        "        batch_id = ids[lower: upper]\r\n",
        "        batch = np.zeros(shape = (batch_id.size, n_item))\r\n",
        "        for i, idx in enumerate(batch_id):\r\n",
        "            batch[i, profile[idx]] = 1.0\r\n",
        "\r\n",
        "        pred_batch = model.predict(batch, verbose = 0)\r\n",
        "        \r\n",
        "        rec = np.argsort(np.where(batch == 1.0, -1.0, pred_batch), axis = 1)[:, :-N-1:-1]\r\n",
        "        pred.append(rec)\r\n",
        "    pred = np.concatenate(pred)\r\n",
        "    pred = [{'user_id': query.at[i, 'user_id'], 'movie_id': pred[i]} for i in range(n_data)]\r\n",
        "    return pd.DataFrame(pred)"
      ],
      "execution_count": 19,
      "outputs": []
    },
    {
      "cell_type": "code",
      "metadata": {
        "id": "fLM1CfikCjiu"
      },
      "source": [
        "class evaluate:\r\n",
        "    def __init__(self, true: pd.DataFrame, pred: pd.DataFrame):\r\n",
        "        self.true = true\r\n",
        "        self.pred = pred\r\n",
        "        self.max_K = 10000\r\n",
        "        self.idcg = np.cumsum([1.0 / np.log(i+2) for i in range(self.max_K)])\r\n",
        "\r\n",
        "    def _recall(self, gt: List, rec: List, K = None) -> float:\r\n",
        "        K = K if K else self.max_K\r\n",
        "        res = [r for r in rec[:K] if r in gt]\r\n",
        "        return len(res) / np.min([K, len(gt)])\r\n",
        "    \r\n",
        "    def _precision(self, gt: List, rec: List, K = None) -> float:\r\n",
        "        K = K if K else self.max_K\r\n",
        "        res = [r for r in rec[:K] if r in gt]\r\n",
        "        return len(res) / len(rec[:K])\r\n",
        "\r\n",
        "    def _AP(self, gt: List, rec: List, K = None) -> float: # Average Precision\r\n",
        "        K = K if K else self.max_K\r\n",
        "        res = 0.0\r\n",
        "        for i, r in enumerate(rec[:K]):\r\n",
        "            if r in gt:\r\n",
        "                res += self._precision(gt, rec[:K], i+1)\r\n",
        "        return res / np.min([K, len(gt)])\r\n",
        "\r\n",
        "    def _RR(self, gt: List, rec: List, K = None) -> float: # Reciprocal Rank\r\n",
        "        K = K if K else self.max_K\r\n",
        "        for i, r in enumerate(rec[:K]):\r\n",
        "            if r in gt:\r\n",
        "                return  1.0 / (i+1)\r\n",
        "        return 0\r\n",
        "\r\n",
        "    def _nDCG(self, gt: List, rec: List, K = None) -> float: # normalized Discounted Cumulative Gain\r\n",
        "        K = K if K else self.max_K\r\n",
        "        dcg = 0.0\r\n",
        "        for i, r in enumerate(rec[:K]):\r\n",
        "            if r in gt:\r\n",
        "                dcg += 1.0 / np.log(i+2)\r\n",
        "        idcg = self.idcg[min([len(gt), K])-1]\r\n",
        "        return dcg / idcg\r\n",
        "    \r\n",
        "    def __call__(self, K = None):\r\n",
        "        self.K = K\r\n",
        "        self.recall = 0\r\n",
        "        self.precision = 0\r\n",
        "        self.MAP = 0\r\n",
        "        self.MRR = 0\r\n",
        "        self.nDCG = 0\r\n",
        "        n = self.true.index.size\r\n",
        "        for gt, rec in zip(tqdm(self.true.movie_id), self.pred.movie_id):\r\n",
        "            self.recall += self._recall(gt, rec, K) / n\r\n",
        "            self.precision += self._precision(gt, rec, K) / n\r\n",
        "            self.MAP += self._AP(gt, rec, K) / n\r\n",
        "            self.MRR += self._RR(gt, rec, K) / n\r\n",
        "            self.nDCG += self._nDCG(gt, rec, K) / n\r\n",
        "\r\n",
        "    def print_all(self):\r\n",
        "        K = '@' + str(self.K) if self.K else ''\r\n",
        "        print(f'{\"Recall\":>12}{K} : {self.recall:.5f}',\r\n",
        "              f'\\n{\"Precision\":>12}{K} : {self.precision:.5f}',\r\n",
        "              f'\\n{\"MAP\":>12}{K} : {self.MAP:.5f}',\r\n",
        "              f'\\n{\"MRR\":>12}{K} : {self.MRR:.5f}',\r\n",
        "              f'\\n{\"nDCG\":>12}{K} : {self.nDCG:.5f}')"
      ],
      "execution_count": 20,
      "outputs": []
    },
    {
      "cell_type": "code",
      "metadata": {
        "colab": {
          "base_uri": "https://localhost:8080/",
          "height": 195
        },
        "id": "mvyvxj-ECqvg",
        "outputId": "b1ac1924-c1ef-4dac-9151-5eb532a32adc"
      },
      "source": [
        "true = list_agg(test_r)\r\n",
        "true.head(5)"
      ],
      "execution_count": 21,
      "outputs": [
        {
          "output_type": "execute_result",
          "data": {
            "text/html": [
              "<div>\n",
              "<style scoped>\n",
              "    .dataframe tbody tr th:only-of-type {\n",
              "        vertical-align: middle;\n",
              "    }\n",
              "\n",
              "    .dataframe tbody tr th {\n",
              "        vertical-align: top;\n",
              "    }\n",
              "\n",
              "    .dataframe thead th {\n",
              "        text-align: right;\n",
              "    }\n",
              "</style>\n",
              "<table border=\"1\" class=\"dataframe\">\n",
              "  <thead>\n",
              "    <tr style=\"text-align: right;\">\n",
              "      <th></th>\n",
              "      <th>user_id</th>\n",
              "      <th>movie_id</th>\n",
              "    </tr>\n",
              "  </thead>\n",
              "  <tbody>\n",
              "    <tr>\n",
              "      <th>0</th>\n",
              "      <td>2</td>\n",
              "      <td>[177, 179, 183, 84, 4, 198, 199, 207]</td>\n",
              "    </tr>\n",
              "    <tr>\n",
              "      <th>1</th>\n",
              "      <td>8</td>\n",
              "      <td>[59, 438, 93, 123, 463, 525, 30, 288, 534, 322...</td>\n",
              "    </tr>\n",
              "    <tr>\n",
              "      <th>2</th>\n",
              "      <td>41</td>\n",
              "      <td>[175, 182, 563, 184, 1176, 116, 128, 1037, 104...</td>\n",
              "    </tr>\n",
              "    <tr>\n",
              "      <th>3</th>\n",
              "      <td>78</td>\n",
              "      <td>[1258, 305, 500, 2230]</td>\n",
              "    </tr>\n",
              "    <tr>\n",
              "      <th>4</th>\n",
              "      <td>91</td>\n",
              "      <td>[558, 1176, 195, 587, 592, 74, 1904, 186, 647,...</td>\n",
              "    </tr>\n",
              "  </tbody>\n",
              "</table>\n",
              "</div>"
            ],
            "text/plain": [
              "   user_id                                           movie_id\n",
              "0        2              [177, 179, 183, 84, 4, 198, 199, 207]\n",
              "1        8  [59, 438, 93, 123, 463, 525, 30, 288, 534, 322...\n",
              "2       41  [175, 182, 563, 184, 1176, 116, 128, 1037, 104...\n",
              "3       78                             [1258, 305, 500, 2230]\n",
              "4       91  [558, 1176, 195, 587, 592, 74, 1904, 186, 647,..."
            ]
          },
          "metadata": {
            "tags": []
          },
          "execution_count": 21
        }
      ]
    },
    {
      "cell_type": "code",
      "metadata": {
        "id": "9FKhv5m328J2",
        "colab": {
          "base_uri": "https://localhost:8080/",
          "height": 195
        },
        "outputId": "b425813e-d953-4100-ad4b-60fd1b269425"
      },
      "source": [
        "pred = test_predictor(test_q, model, n_item, batch_size, N = 100)\r\n",
        "pred.head(5)"
      ],
      "execution_count": 22,
      "outputs": [
        {
          "output_type": "execute_result",
          "data": {
            "text/html": [
              "<div>\n",
              "<style scoped>\n",
              "    .dataframe tbody tr th:only-of-type {\n",
              "        vertical-align: middle;\n",
              "    }\n",
              "\n",
              "    .dataframe tbody tr th {\n",
              "        vertical-align: top;\n",
              "    }\n",
              "\n",
              "    .dataframe thead th {\n",
              "        text-align: right;\n",
              "    }\n",
              "</style>\n",
              "<table border=\"1\" class=\"dataframe\">\n",
              "  <thead>\n",
              "    <tr style=\"text-align: right;\">\n",
              "      <th></th>\n",
              "      <th>user_id</th>\n",
              "      <th>movie_id</th>\n",
              "    </tr>\n",
              "  </thead>\n",
              "  <tbody>\n",
              "    <tr>\n",
              "      <th>0</th>\n",
              "      <td>2</td>\n",
              "      <td>[210, 209, 217, 273, 48, 711, 213, 38, 23, 189...</td>\n",
              "    </tr>\n",
              "    <tr>\n",
              "      <th>1</th>\n",
              "      <td>8</td>\n",
              "      <td>[244, 184, 134, 68, 315, 92, 381, 243, 5, 350,...</td>\n",
              "    </tr>\n",
              "    <tr>\n",
              "      <th>2</th>\n",
              "      <td>41</td>\n",
              "      <td>[132, 189, 160, 856, 155, 92, 758, 711, 62, 77...</td>\n",
              "    </tr>\n",
              "    <tr>\n",
              "      <th>3</th>\n",
              "      <td>78</td>\n",
              "      <td>[104, 5, 4, 38, 23, 0, 48, 44, 3, 22, 134, 64,...</td>\n",
              "    </tr>\n",
              "    <tr>\n",
              "      <th>4</th>\n",
              "      <td>91</td>\n",
              "      <td>[44, 39, 23, 9, 596, 64, 741, 381, 682, 116, 6...</td>\n",
              "    </tr>\n",
              "  </tbody>\n",
              "</table>\n",
              "</div>"
            ],
            "text/plain": [
              "   user_id                                           movie_id\n",
              "0        2  [210, 209, 217, 273, 48, 711, 213, 38, 23, 189...\n",
              "1        8  [244, 184, 134, 68, 315, 92, 381, 243, 5, 350,...\n",
              "2       41  [132, 189, 160, 856, 155, 92, 758, 711, 62, 77...\n",
              "3       78  [104, 5, 4, 38, 23, 0, 48, 44, 3, 22, 134, 64,...\n",
              "4       91  [44, 39, 23, 9, 596, 64, 741, 381, 682, 116, 6..."
            ]
          },
          "metadata": {
            "tags": []
          },
          "execution_count": 22
        }
      ]
    },
    {
      "cell_type": "code",
      "metadata": {
        "id": "MwxqO7y728C_",
        "colab": {
          "base_uri": "https://localhost:8080/",
          "height": 292,
          "referenced_widgets": [
            "bf73a23c93814cf9bdab32f342cc15ac",
            "78e826c0e6b54043a48673e5ea639a1d",
            "b8ef762ce2304c57b2150a5527077b91",
            "5b95800d960b43a288b4347e1bb3c3df",
            "e1508a31f7a64825a9726b1f43f117a4",
            "974813fc84b1447d97e5d2ebc952a679",
            "ad85d94543dd42749672021741a32748",
            "aecfa54c93ad4c5ebdf7a34b9ccdcffb",
            "9155d350c326400cb4fa648841bdf963",
            "1da8a1fa0a04404d805d340cb9860839",
            "747407f848f0452ea124ebf4b24460fb",
            "4c4d82e7e65947409f125bc83cdba56a",
            "291f4dd2a02c43d9a3dc7374356712ac",
            "d750157f4eda4d64a3a3de728756e452",
            "250c435c53bb4264ab148bb32ed1959c",
            "9c2baabb2e3c40979f74ffa8d053e7c3"
          ]
        },
        "outputId": "20f7b836-7a40-4b49-ac41-774556c1122e"
      },
      "source": [
        "scores = evaluate(true, pred)\r\n",
        "\r\n",
        "scores(K = 20)\r\n",
        "scores.print_all()\r\n",
        "\r\n",
        "scores(K = 100)\r\n",
        "scores.print_all()"
      ],
      "execution_count": 23,
      "outputs": [
        {
          "output_type": "display_data",
          "data": {
            "application/vnd.jupyter.widget-view+json": {
              "model_id": "bf73a23c93814cf9bdab32f342cc15ac",
              "version_minor": 0,
              "version_major": 2
            },
            "text/plain": [
              "HBox(children=(FloatProgress(value=0.0, max=604.0), HTML(value='')))"
            ]
          },
          "metadata": {
            "tags": []
          }
        },
        {
          "output_type": "stream",
          "text": [
            "\n",
            "      Recall@20 : 0.12154 \n",
            "   Precision@20 : 0.07632 \n",
            "         MAP@20 : 0.03753 \n",
            "         MRR@20 : 0.21177 \n",
            "        nDCG@20 : 0.10502\n"
          ],
          "name": "stdout"
        },
        {
          "output_type": "display_data",
          "data": {
            "application/vnd.jupyter.widget-view+json": {
              "model_id": "9155d350c326400cb4fa648841bdf963",
              "version_minor": 0,
              "version_major": 2
            },
            "text/plain": [
              "HBox(children=(FloatProgress(value=0.0, max=604.0), HTML(value='')))"
            ]
          },
          "metadata": {
            "tags": []
          }
        },
        {
          "output_type": "stream",
          "text": [
            "\n",
            "      Recall@100 : 0.33495 \n",
            "   Precision@100 : 0.05351 \n",
            "         MAP@100 : 0.04931 \n",
            "         MRR@100 : 0.21903 \n",
            "        nDCG@100 : 0.18826\n"
          ],
          "name": "stdout"
        }
      ]
    }
  ]
}