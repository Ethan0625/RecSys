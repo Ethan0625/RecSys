{
  "nbformat": 4,
  "nbformat_minor": 0,
  "metadata": {
    "colab": {
      "name": "6_NADE.ipynb",
      "provenance": [],
      "collapsed_sections": [],
      "authorship_tag": "ABX9TyPBMmVvoQ8UHFBNehVrDnye",
      "include_colab_link": true
    },
    "kernelspec": {
      "name": "python3",
      "display_name": "Python 3"
    },
    "accelerator": "GPU",
    "widgets": {
      "application/vnd.jupyter.widget-state+json": {
        "3efc4429624e4e548043200553137d7f": {
          "model_module": "@jupyter-widgets/controls",
          "model_name": "HBoxModel",
          "state": {
            "_view_name": "HBoxView",
            "_dom_classes": [],
            "_model_name": "HBoxModel",
            "_view_module": "@jupyter-widgets/controls",
            "_model_module_version": "1.5.0",
            "_view_count": null,
            "_view_module_version": "1.5.0",
            "box_style": "",
            "layout": "IPY_MODEL_5324ddb815c344b4857ca01902aad850",
            "_model_module": "@jupyter-widgets/controls",
            "children": [
              "IPY_MODEL_e99cf95340854c3a84339c095f4855a1",
              "IPY_MODEL_6844001699054fdb8c5853a5e56a3b54"
            ]
          }
        },
        "5324ddb815c344b4857ca01902aad850": {
          "model_module": "@jupyter-widgets/base",
          "model_name": "LayoutModel",
          "state": {
            "_view_name": "LayoutView",
            "grid_template_rows": null,
            "right": null,
            "justify_content": null,
            "_view_module": "@jupyter-widgets/base",
            "overflow": null,
            "_model_module_version": "1.2.0",
            "_view_count": null,
            "flex_flow": null,
            "width": null,
            "min_width": null,
            "border": null,
            "align_items": null,
            "bottom": null,
            "_model_module": "@jupyter-widgets/base",
            "top": null,
            "grid_column": null,
            "overflow_y": null,
            "overflow_x": null,
            "grid_auto_flow": null,
            "grid_area": null,
            "grid_template_columns": null,
            "flex": null,
            "_model_name": "LayoutModel",
            "justify_items": null,
            "grid_row": null,
            "max_height": null,
            "align_content": null,
            "visibility": null,
            "align_self": null,
            "height": null,
            "min_height": null,
            "padding": null,
            "grid_auto_rows": null,
            "grid_gap": null,
            "max_width": null,
            "order": null,
            "_view_module_version": "1.2.0",
            "grid_template_areas": null,
            "object_position": null,
            "object_fit": null,
            "grid_auto_columns": null,
            "margin": null,
            "display": null,
            "left": null
          }
        },
        "e99cf95340854c3a84339c095f4855a1": {
          "model_module": "@jupyter-widgets/controls",
          "model_name": "FloatProgressModel",
          "state": {
            "_view_name": "ProgressView",
            "style": "IPY_MODEL_3b872e24bac54e77b0f591ab2cd5a4f8",
            "_dom_classes": [],
            "description": "100%",
            "_model_name": "FloatProgressModel",
            "bar_style": "success",
            "max": 604,
            "_view_module": "@jupyter-widgets/controls",
            "_model_module_version": "1.5.0",
            "value": 604,
            "_view_count": null,
            "_view_module_version": "1.5.0",
            "orientation": "horizontal",
            "min": 0,
            "description_tooltip": null,
            "_model_module": "@jupyter-widgets/controls",
            "layout": "IPY_MODEL_4d692c5776964aa2883a894b9c8558b8"
          }
        },
        "6844001699054fdb8c5853a5e56a3b54": {
          "model_module": "@jupyter-widgets/controls",
          "model_name": "HTMLModel",
          "state": {
            "_view_name": "HTMLView",
            "style": "IPY_MODEL_8bc37c90870345d8982856b7660be656",
            "_dom_classes": [],
            "description": "",
            "_model_name": "HTMLModel",
            "placeholder": "​",
            "_view_module": "@jupyter-widgets/controls",
            "_model_module_version": "1.5.0",
            "value": " 604/604 [00:01&lt;00:00, 507.40it/s]",
            "_view_count": null,
            "_view_module_version": "1.5.0",
            "description_tooltip": null,
            "_model_module": "@jupyter-widgets/controls",
            "layout": "IPY_MODEL_5c3043de6bb7403ba16ee3d5c2adf692"
          }
        },
        "3b872e24bac54e77b0f591ab2cd5a4f8": {
          "model_module": "@jupyter-widgets/controls",
          "model_name": "ProgressStyleModel",
          "state": {
            "_view_name": "StyleView",
            "_model_name": "ProgressStyleModel",
            "description_width": "initial",
            "_view_module": "@jupyter-widgets/base",
            "_model_module_version": "1.5.0",
            "_view_count": null,
            "_view_module_version": "1.2.0",
            "bar_color": null,
            "_model_module": "@jupyter-widgets/controls"
          }
        },
        "4d692c5776964aa2883a894b9c8558b8": {
          "model_module": "@jupyter-widgets/base",
          "model_name": "LayoutModel",
          "state": {
            "_view_name": "LayoutView",
            "grid_template_rows": null,
            "right": null,
            "justify_content": null,
            "_view_module": "@jupyter-widgets/base",
            "overflow": null,
            "_model_module_version": "1.2.0",
            "_view_count": null,
            "flex_flow": null,
            "width": null,
            "min_width": null,
            "border": null,
            "align_items": null,
            "bottom": null,
            "_model_module": "@jupyter-widgets/base",
            "top": null,
            "grid_column": null,
            "overflow_y": null,
            "overflow_x": null,
            "grid_auto_flow": null,
            "grid_area": null,
            "grid_template_columns": null,
            "flex": null,
            "_model_name": "LayoutModel",
            "justify_items": null,
            "grid_row": null,
            "max_height": null,
            "align_content": null,
            "visibility": null,
            "align_self": null,
            "height": null,
            "min_height": null,
            "padding": null,
            "grid_auto_rows": null,
            "grid_gap": null,
            "max_width": null,
            "order": null,
            "_view_module_version": "1.2.0",
            "grid_template_areas": null,
            "object_position": null,
            "object_fit": null,
            "grid_auto_columns": null,
            "margin": null,
            "display": null,
            "left": null
          }
        },
        "8bc37c90870345d8982856b7660be656": {
          "model_module": "@jupyter-widgets/controls",
          "model_name": "DescriptionStyleModel",
          "state": {
            "_view_name": "StyleView",
            "_model_name": "DescriptionStyleModel",
            "description_width": "",
            "_view_module": "@jupyter-widgets/base",
            "_model_module_version": "1.5.0",
            "_view_count": null,
            "_view_module_version": "1.2.0",
            "_model_module": "@jupyter-widgets/controls"
          }
        },
        "5c3043de6bb7403ba16ee3d5c2adf692": {
          "model_module": "@jupyter-widgets/base",
          "model_name": "LayoutModel",
          "state": {
            "_view_name": "LayoutView",
            "grid_template_rows": null,
            "right": null,
            "justify_content": null,
            "_view_module": "@jupyter-widgets/base",
            "overflow": null,
            "_model_module_version": "1.2.0",
            "_view_count": null,
            "flex_flow": null,
            "width": null,
            "min_width": null,
            "border": null,
            "align_items": null,
            "bottom": null,
            "_model_module": "@jupyter-widgets/base",
            "top": null,
            "grid_column": null,
            "overflow_y": null,
            "overflow_x": null,
            "grid_auto_flow": null,
            "grid_area": null,
            "grid_template_columns": null,
            "flex": null,
            "_model_name": "LayoutModel",
            "justify_items": null,
            "grid_row": null,
            "max_height": null,
            "align_content": null,
            "visibility": null,
            "align_self": null,
            "height": null,
            "min_height": null,
            "padding": null,
            "grid_auto_rows": null,
            "grid_gap": null,
            "max_width": null,
            "order": null,
            "_view_module_version": "1.2.0",
            "grid_template_areas": null,
            "object_position": null,
            "object_fit": null,
            "grid_auto_columns": null,
            "margin": null,
            "display": null,
            "left": null
          }
        },
        "b61479f290a049faa674483c76f684f3": {
          "model_module": "@jupyter-widgets/controls",
          "model_name": "HBoxModel",
          "state": {
            "_view_name": "HBoxView",
            "_dom_classes": [],
            "_model_name": "HBoxModel",
            "_view_module": "@jupyter-widgets/controls",
            "_model_module_version": "1.5.0",
            "_view_count": null,
            "_view_module_version": "1.5.0",
            "box_style": "",
            "layout": "IPY_MODEL_6be805aab3784fde8432828c977a7f72",
            "_model_module": "@jupyter-widgets/controls",
            "children": [
              "IPY_MODEL_202a7e9bd8ae44499bf8a91b35dea242",
              "IPY_MODEL_0972ada94ec34c6dabf6ba29425152aa"
            ]
          }
        },
        "6be805aab3784fde8432828c977a7f72": {
          "model_module": "@jupyter-widgets/base",
          "model_name": "LayoutModel",
          "state": {
            "_view_name": "LayoutView",
            "grid_template_rows": null,
            "right": null,
            "justify_content": null,
            "_view_module": "@jupyter-widgets/base",
            "overflow": null,
            "_model_module_version": "1.2.0",
            "_view_count": null,
            "flex_flow": null,
            "width": null,
            "min_width": null,
            "border": null,
            "align_items": null,
            "bottom": null,
            "_model_module": "@jupyter-widgets/base",
            "top": null,
            "grid_column": null,
            "overflow_y": null,
            "overflow_x": null,
            "grid_auto_flow": null,
            "grid_area": null,
            "grid_template_columns": null,
            "flex": null,
            "_model_name": "LayoutModel",
            "justify_items": null,
            "grid_row": null,
            "max_height": null,
            "align_content": null,
            "visibility": null,
            "align_self": null,
            "height": null,
            "min_height": null,
            "padding": null,
            "grid_auto_rows": null,
            "grid_gap": null,
            "max_width": null,
            "order": null,
            "_view_module_version": "1.2.0",
            "grid_template_areas": null,
            "object_position": null,
            "object_fit": null,
            "grid_auto_columns": null,
            "margin": null,
            "display": null,
            "left": null
          }
        },
        "202a7e9bd8ae44499bf8a91b35dea242": {
          "model_module": "@jupyter-widgets/controls",
          "model_name": "FloatProgressModel",
          "state": {
            "_view_name": "ProgressView",
            "style": "IPY_MODEL_376df4048f354958a7655dd195502409",
            "_dom_classes": [],
            "description": "100%",
            "_model_name": "FloatProgressModel",
            "bar_style": "success",
            "max": 604,
            "_view_module": "@jupyter-widgets/controls",
            "_model_module_version": "1.5.0",
            "value": 604,
            "_view_count": null,
            "_view_module_version": "1.5.0",
            "orientation": "horizontal",
            "min": 0,
            "description_tooltip": null,
            "_model_module": "@jupyter-widgets/controls",
            "layout": "IPY_MODEL_43bd5ef5a1cd49d9b88f0e1624352980"
          }
        },
        "0972ada94ec34c6dabf6ba29425152aa": {
          "model_module": "@jupyter-widgets/controls",
          "model_name": "HTMLModel",
          "state": {
            "_view_name": "HTMLView",
            "style": "IPY_MODEL_03ea6eca0a0b46278ebc026afbed1d9f",
            "_dom_classes": [],
            "description": "",
            "_model_name": "HTMLModel",
            "placeholder": "​",
            "_view_module": "@jupyter-widgets/controls",
            "_model_module_version": "1.5.0",
            "value": " 604/604 [00:07&lt;00:00, 79.81it/s]",
            "_view_count": null,
            "_view_module_version": "1.5.0",
            "description_tooltip": null,
            "_model_module": "@jupyter-widgets/controls",
            "layout": "IPY_MODEL_999dfb73ba0d4735ae69158e8ded4b08"
          }
        },
        "376df4048f354958a7655dd195502409": {
          "model_module": "@jupyter-widgets/controls",
          "model_name": "ProgressStyleModel",
          "state": {
            "_view_name": "StyleView",
            "_model_name": "ProgressStyleModel",
            "description_width": "initial",
            "_view_module": "@jupyter-widgets/base",
            "_model_module_version": "1.5.0",
            "_view_count": null,
            "_view_module_version": "1.2.0",
            "bar_color": null,
            "_model_module": "@jupyter-widgets/controls"
          }
        },
        "43bd5ef5a1cd49d9b88f0e1624352980": {
          "model_module": "@jupyter-widgets/base",
          "model_name": "LayoutModel",
          "state": {
            "_view_name": "LayoutView",
            "grid_template_rows": null,
            "right": null,
            "justify_content": null,
            "_view_module": "@jupyter-widgets/base",
            "overflow": null,
            "_model_module_version": "1.2.0",
            "_view_count": null,
            "flex_flow": null,
            "width": null,
            "min_width": null,
            "border": null,
            "align_items": null,
            "bottom": null,
            "_model_module": "@jupyter-widgets/base",
            "top": null,
            "grid_column": null,
            "overflow_y": null,
            "overflow_x": null,
            "grid_auto_flow": null,
            "grid_area": null,
            "grid_template_columns": null,
            "flex": null,
            "_model_name": "LayoutModel",
            "justify_items": null,
            "grid_row": null,
            "max_height": null,
            "align_content": null,
            "visibility": null,
            "align_self": null,
            "height": null,
            "min_height": null,
            "padding": null,
            "grid_auto_rows": null,
            "grid_gap": null,
            "max_width": null,
            "order": null,
            "_view_module_version": "1.2.0",
            "grid_template_areas": null,
            "object_position": null,
            "object_fit": null,
            "grid_auto_columns": null,
            "margin": null,
            "display": null,
            "left": null
          }
        },
        "03ea6eca0a0b46278ebc026afbed1d9f": {
          "model_module": "@jupyter-widgets/controls",
          "model_name": "DescriptionStyleModel",
          "state": {
            "_view_name": "StyleView",
            "_model_name": "DescriptionStyleModel",
            "description_width": "",
            "_view_module": "@jupyter-widgets/base",
            "_model_module_version": "1.5.0",
            "_view_count": null,
            "_view_module_version": "1.2.0",
            "_model_module": "@jupyter-widgets/controls"
          }
        },
        "999dfb73ba0d4735ae69158e8ded4b08": {
          "model_module": "@jupyter-widgets/base",
          "model_name": "LayoutModel",
          "state": {
            "_view_name": "LayoutView",
            "grid_template_rows": null,
            "right": null,
            "justify_content": null,
            "_view_module": "@jupyter-widgets/base",
            "overflow": null,
            "_model_module_version": "1.2.0",
            "_view_count": null,
            "flex_flow": null,
            "width": null,
            "min_width": null,
            "border": null,
            "align_items": null,
            "bottom": null,
            "_model_module": "@jupyter-widgets/base",
            "top": null,
            "grid_column": null,
            "overflow_y": null,
            "overflow_x": null,
            "grid_auto_flow": null,
            "grid_area": null,
            "grid_template_columns": null,
            "flex": null,
            "_model_name": "LayoutModel",
            "justify_items": null,
            "grid_row": null,
            "max_height": null,
            "align_content": null,
            "visibility": null,
            "align_self": null,
            "height": null,
            "min_height": null,
            "padding": null,
            "grid_auto_rows": null,
            "grid_gap": null,
            "max_width": null,
            "order": null,
            "_view_module_version": "1.2.0",
            "grid_template_areas": null,
            "object_position": null,
            "object_fit": null,
            "grid_auto_columns": null,
            "margin": null,
            "display": null,
            "left": null
          }
        },
        "fd340d732ed84668bb944f1848b31757": {
          "model_module": "@jupyter-widgets/controls",
          "model_name": "HBoxModel",
          "state": {
            "_view_name": "HBoxView",
            "_dom_classes": [],
            "_model_name": "HBoxModel",
            "_view_module": "@jupyter-widgets/controls",
            "_model_module_version": "1.5.0",
            "_view_count": null,
            "_view_module_version": "1.5.0",
            "box_style": "",
            "layout": "IPY_MODEL_7df5dbd3d1864097986989f05cc82d91",
            "_model_module": "@jupyter-widgets/controls",
            "children": [
              "IPY_MODEL_70b2f3d760af4c47ba20d024117323f9",
              "IPY_MODEL_fee9f1735bb946ce8b653cba8bd740e9"
            ]
          }
        },
        "7df5dbd3d1864097986989f05cc82d91": {
          "model_module": "@jupyter-widgets/base",
          "model_name": "LayoutModel",
          "state": {
            "_view_name": "LayoutView",
            "grid_template_rows": null,
            "right": null,
            "justify_content": null,
            "_view_module": "@jupyter-widgets/base",
            "overflow": null,
            "_model_module_version": "1.2.0",
            "_view_count": null,
            "flex_flow": null,
            "width": null,
            "min_width": null,
            "border": null,
            "align_items": null,
            "bottom": null,
            "_model_module": "@jupyter-widgets/base",
            "top": null,
            "grid_column": null,
            "overflow_y": null,
            "overflow_x": null,
            "grid_auto_flow": null,
            "grid_area": null,
            "grid_template_columns": null,
            "flex": null,
            "_model_name": "LayoutModel",
            "justify_items": null,
            "grid_row": null,
            "max_height": null,
            "align_content": null,
            "visibility": null,
            "align_self": null,
            "height": null,
            "min_height": null,
            "padding": null,
            "grid_auto_rows": null,
            "grid_gap": null,
            "max_width": null,
            "order": null,
            "_view_module_version": "1.2.0",
            "grid_template_areas": null,
            "object_position": null,
            "object_fit": null,
            "grid_auto_columns": null,
            "margin": null,
            "display": null,
            "left": null
          }
        },
        "70b2f3d760af4c47ba20d024117323f9": {
          "model_module": "@jupyter-widgets/controls",
          "model_name": "FloatProgressModel",
          "state": {
            "_view_name": "ProgressView",
            "style": "IPY_MODEL_2a5f577ffe86423a8488deb3b5c9e868",
            "_dom_classes": [],
            "description": "100%",
            "_model_name": "FloatProgressModel",
            "bar_style": "success",
            "max": 604,
            "_view_module": "@jupyter-widgets/controls",
            "_model_module_version": "1.5.0",
            "value": 604,
            "_view_count": null,
            "_view_module_version": "1.5.0",
            "orientation": "horizontal",
            "min": 0,
            "description_tooltip": null,
            "_model_module": "@jupyter-widgets/controls",
            "layout": "IPY_MODEL_9e5cd1d3ac824385a5d07363601b2849"
          }
        },
        "fee9f1735bb946ce8b653cba8bd740e9": {
          "model_module": "@jupyter-widgets/controls",
          "model_name": "HTMLModel",
          "state": {
            "_view_name": "HTMLView",
            "style": "IPY_MODEL_7605a6d895374669ab5e4fe29ec21974",
            "_dom_classes": [],
            "description": "",
            "_model_name": "HTMLModel",
            "placeholder": "​",
            "_view_module": "@jupyter-widgets/controls",
            "_model_module_version": "1.5.0",
            "value": " 604/604 [00:02&lt;00:00, 258.44it/s]",
            "_view_count": null,
            "_view_module_version": "1.5.0",
            "description_tooltip": null,
            "_model_module": "@jupyter-widgets/controls",
            "layout": "IPY_MODEL_d077c35753d145be8848d6f9da93e1ec"
          }
        },
        "2a5f577ffe86423a8488deb3b5c9e868": {
          "model_module": "@jupyter-widgets/controls",
          "model_name": "ProgressStyleModel",
          "state": {
            "_view_name": "StyleView",
            "_model_name": "ProgressStyleModel",
            "description_width": "initial",
            "_view_module": "@jupyter-widgets/base",
            "_model_module_version": "1.5.0",
            "_view_count": null,
            "_view_module_version": "1.2.0",
            "bar_color": null,
            "_model_module": "@jupyter-widgets/controls"
          }
        },
        "9e5cd1d3ac824385a5d07363601b2849": {
          "model_module": "@jupyter-widgets/base",
          "model_name": "LayoutModel",
          "state": {
            "_view_name": "LayoutView",
            "grid_template_rows": null,
            "right": null,
            "justify_content": null,
            "_view_module": "@jupyter-widgets/base",
            "overflow": null,
            "_model_module_version": "1.2.0",
            "_view_count": null,
            "flex_flow": null,
            "width": null,
            "min_width": null,
            "border": null,
            "align_items": null,
            "bottom": null,
            "_model_module": "@jupyter-widgets/base",
            "top": null,
            "grid_column": null,
            "overflow_y": null,
            "overflow_x": null,
            "grid_auto_flow": null,
            "grid_area": null,
            "grid_template_columns": null,
            "flex": null,
            "_model_name": "LayoutModel",
            "justify_items": null,
            "grid_row": null,
            "max_height": null,
            "align_content": null,
            "visibility": null,
            "align_self": null,
            "height": null,
            "min_height": null,
            "padding": null,
            "grid_auto_rows": null,
            "grid_gap": null,
            "max_width": null,
            "order": null,
            "_view_module_version": "1.2.0",
            "grid_template_areas": null,
            "object_position": null,
            "object_fit": null,
            "grid_auto_columns": null,
            "margin": null,
            "display": null,
            "left": null
          }
        },
        "7605a6d895374669ab5e4fe29ec21974": {
          "model_module": "@jupyter-widgets/controls",
          "model_name": "DescriptionStyleModel",
          "state": {
            "_view_name": "StyleView",
            "_model_name": "DescriptionStyleModel",
            "description_width": "",
            "_view_module": "@jupyter-widgets/base",
            "_model_module_version": "1.5.0",
            "_view_count": null,
            "_view_module_version": "1.2.0",
            "_model_module": "@jupyter-widgets/controls"
          }
        },
        "d077c35753d145be8848d6f9da93e1ec": {
          "model_module": "@jupyter-widgets/base",
          "model_name": "LayoutModel",
          "state": {
            "_view_name": "LayoutView",
            "grid_template_rows": null,
            "right": null,
            "justify_content": null,
            "_view_module": "@jupyter-widgets/base",
            "overflow": null,
            "_model_module_version": "1.2.0",
            "_view_count": null,
            "flex_flow": null,
            "width": null,
            "min_width": null,
            "border": null,
            "align_items": null,
            "bottom": null,
            "_model_module": "@jupyter-widgets/base",
            "top": null,
            "grid_column": null,
            "overflow_y": null,
            "overflow_x": null,
            "grid_auto_flow": null,
            "grid_area": null,
            "grid_template_columns": null,
            "flex": null,
            "_model_name": "LayoutModel",
            "justify_items": null,
            "grid_row": null,
            "max_height": null,
            "align_content": null,
            "visibility": null,
            "align_self": null,
            "height": null,
            "min_height": null,
            "padding": null,
            "grid_auto_rows": null,
            "grid_gap": null,
            "max_width": null,
            "order": null,
            "_view_module_version": "1.2.0",
            "grid_template_areas": null,
            "object_position": null,
            "object_fit": null,
            "grid_auto_columns": null,
            "margin": null,
            "display": null,
            "left": null
          }
        },
        "51800ce0ac6b46a09c995855f6a2e6de": {
          "model_module": "@jupyter-widgets/controls",
          "model_name": "HBoxModel",
          "state": {
            "_view_name": "HBoxView",
            "_dom_classes": [],
            "_model_name": "HBoxModel",
            "_view_module": "@jupyter-widgets/controls",
            "_model_module_version": "1.5.0",
            "_view_count": null,
            "_view_module_version": "1.5.0",
            "box_style": "",
            "layout": "IPY_MODEL_cdca461493c445c58cc39231260b7a68",
            "_model_module": "@jupyter-widgets/controls",
            "children": [
              "IPY_MODEL_ad3cb395f4a44a87aef8519f6599cde3",
              "IPY_MODEL_df3564ff460348e4aad6ca9bf923acc0"
            ]
          }
        },
        "cdca461493c445c58cc39231260b7a68": {
          "model_module": "@jupyter-widgets/base",
          "model_name": "LayoutModel",
          "state": {
            "_view_name": "LayoutView",
            "grid_template_rows": null,
            "right": null,
            "justify_content": null,
            "_view_module": "@jupyter-widgets/base",
            "overflow": null,
            "_model_module_version": "1.2.0",
            "_view_count": null,
            "flex_flow": null,
            "width": null,
            "min_width": null,
            "border": null,
            "align_items": null,
            "bottom": null,
            "_model_module": "@jupyter-widgets/base",
            "top": null,
            "grid_column": null,
            "overflow_y": null,
            "overflow_x": null,
            "grid_auto_flow": null,
            "grid_area": null,
            "grid_template_columns": null,
            "flex": null,
            "_model_name": "LayoutModel",
            "justify_items": null,
            "grid_row": null,
            "max_height": null,
            "align_content": null,
            "visibility": null,
            "align_self": null,
            "height": null,
            "min_height": null,
            "padding": null,
            "grid_auto_rows": null,
            "grid_gap": null,
            "max_width": null,
            "order": null,
            "_view_module_version": "1.2.0",
            "grid_template_areas": null,
            "object_position": null,
            "object_fit": null,
            "grid_auto_columns": null,
            "margin": null,
            "display": null,
            "left": null
          }
        },
        "ad3cb395f4a44a87aef8519f6599cde3": {
          "model_module": "@jupyter-widgets/controls",
          "model_name": "FloatProgressModel",
          "state": {
            "_view_name": "ProgressView",
            "style": "IPY_MODEL_cc82a5f73315495ea054696ca2c5a7f2",
            "_dom_classes": [],
            "description": "100%",
            "_model_name": "FloatProgressModel",
            "bar_style": "success",
            "max": 604,
            "_view_module": "@jupyter-widgets/controls",
            "_model_module_version": "1.5.0",
            "value": 604,
            "_view_count": null,
            "_view_module_version": "1.5.0",
            "orientation": "horizontal",
            "min": 0,
            "description_tooltip": null,
            "_model_module": "@jupyter-widgets/controls",
            "layout": "IPY_MODEL_0d2d4a39afc7437c8f56d30196cfd436"
          }
        },
        "df3564ff460348e4aad6ca9bf923acc0": {
          "model_module": "@jupyter-widgets/controls",
          "model_name": "HTMLModel",
          "state": {
            "_view_name": "HTMLView",
            "style": "IPY_MODEL_2efe70ac611e455eb401ee8fe111425a",
            "_dom_classes": [],
            "description": "",
            "_model_name": "HTMLModel",
            "placeholder": "​",
            "_view_module": "@jupyter-widgets/controls",
            "_model_module_version": "1.5.0",
            "value": " 604/604 [00:01&lt;00:00, 308.14it/s]",
            "_view_count": null,
            "_view_module_version": "1.5.0",
            "description_tooltip": null,
            "_model_module": "@jupyter-widgets/controls",
            "layout": "IPY_MODEL_4b556b31c30f4520b2b9013d44e0b89f"
          }
        },
        "cc82a5f73315495ea054696ca2c5a7f2": {
          "model_module": "@jupyter-widgets/controls",
          "model_name": "ProgressStyleModel",
          "state": {
            "_view_name": "StyleView",
            "_model_name": "ProgressStyleModel",
            "description_width": "initial",
            "_view_module": "@jupyter-widgets/base",
            "_model_module_version": "1.5.0",
            "_view_count": null,
            "_view_module_version": "1.2.0",
            "bar_color": null,
            "_model_module": "@jupyter-widgets/controls"
          }
        },
        "0d2d4a39afc7437c8f56d30196cfd436": {
          "model_module": "@jupyter-widgets/base",
          "model_name": "LayoutModel",
          "state": {
            "_view_name": "LayoutView",
            "grid_template_rows": null,
            "right": null,
            "justify_content": null,
            "_view_module": "@jupyter-widgets/base",
            "overflow": null,
            "_model_module_version": "1.2.0",
            "_view_count": null,
            "flex_flow": null,
            "width": null,
            "min_width": null,
            "border": null,
            "align_items": null,
            "bottom": null,
            "_model_module": "@jupyter-widgets/base",
            "top": null,
            "grid_column": null,
            "overflow_y": null,
            "overflow_x": null,
            "grid_auto_flow": null,
            "grid_area": null,
            "grid_template_columns": null,
            "flex": null,
            "_model_name": "LayoutModel",
            "justify_items": null,
            "grid_row": null,
            "max_height": null,
            "align_content": null,
            "visibility": null,
            "align_self": null,
            "height": null,
            "min_height": null,
            "padding": null,
            "grid_auto_rows": null,
            "grid_gap": null,
            "max_width": null,
            "order": null,
            "_view_module_version": "1.2.0",
            "grid_template_areas": null,
            "object_position": null,
            "object_fit": null,
            "grid_auto_columns": null,
            "margin": null,
            "display": null,
            "left": null
          }
        },
        "2efe70ac611e455eb401ee8fe111425a": {
          "model_module": "@jupyter-widgets/controls",
          "model_name": "DescriptionStyleModel",
          "state": {
            "_view_name": "StyleView",
            "_model_name": "DescriptionStyleModel",
            "description_width": "",
            "_view_module": "@jupyter-widgets/base",
            "_model_module_version": "1.5.0",
            "_view_count": null,
            "_view_module_version": "1.2.0",
            "_model_module": "@jupyter-widgets/controls"
          }
        },
        "4b556b31c30f4520b2b9013d44e0b89f": {
          "model_module": "@jupyter-widgets/base",
          "model_name": "LayoutModel",
          "state": {
            "_view_name": "LayoutView",
            "grid_template_rows": null,
            "right": null,
            "justify_content": null,
            "_view_module": "@jupyter-widgets/base",
            "overflow": null,
            "_model_module_version": "1.2.0",
            "_view_count": null,
            "flex_flow": null,
            "width": null,
            "min_width": null,
            "border": null,
            "align_items": null,
            "bottom": null,
            "_model_module": "@jupyter-widgets/base",
            "top": null,
            "grid_column": null,
            "overflow_y": null,
            "overflow_x": null,
            "grid_auto_flow": null,
            "grid_area": null,
            "grid_template_columns": null,
            "flex": null,
            "_model_name": "LayoutModel",
            "justify_items": null,
            "grid_row": null,
            "max_height": null,
            "align_content": null,
            "visibility": null,
            "align_self": null,
            "height": null,
            "min_height": null,
            "padding": null,
            "grid_auto_rows": null,
            "grid_gap": null,
            "max_width": null,
            "order": null,
            "_view_module_version": "1.2.0",
            "grid_template_areas": null,
            "object_position": null,
            "object_fit": null,
            "grid_auto_columns": null,
            "margin": null,
            "display": null,
            "left": null
          }
        }
      }
    }
  },
  "cells": [
    {
      "cell_type": "markdown",
      "metadata": {
        "id": "view-in-github",
        "colab_type": "text"
      },
      "source": [
        "<a href=\"https://colab.research.google.com/github/ivoryRabbit/RecSys/blob/master/6_NADE.ipynb\" target=\"_parent\"><img src=\"https://colab.research.google.com/assets/colab-badge.svg\" alt=\"Open In Colab\"/></a>"
      ]
    },
    {
      "cell_type": "markdown",
      "metadata": {
        "id": "IgX4n-LEi8Dk"
      },
      "source": [
        "# NADE\r\n",
        "\r\n",
        "- [A Neural Autoregressive Approach to Collaborative Filtering](https://arxiv.org/pdf/1605.09477.pdf)\r\n",
        "- [Neural Autoregressive Collaborative Filtering for Implicit Feedback](https://arxiv.org/pdf/1606.07674.pdf)\r\n",
        "\r\n",
        "## Experiment\r\n"
      ]
    },
    {
      "cell_type": "code",
      "metadata": {
        "id": "qHa-HURmijB4"
      },
      "source": [
        "import glob\r\n",
        "import numpy as np\r\n",
        "import pandas as pd\r\n",
        "from typing import Callable, Tuple, List\r\n",
        "from tqdm.notebook import tqdm\r\n",
        "\r\n",
        "import matplotlib.pyplot as plt\r\n",
        "%matplotlib inline\r\n",
        "plt.style.use('ggplot')\r\n",
        "\r\n",
        "from sklearn.model_selection import train_test_split\r\n",
        "\r\n",
        "import tensorflow as tf\r\n",
        "import tensorflow.keras.backend as K\r\n",
        "\r\n",
        "from tensorflow.keras.layers import Input, Dense\r\n",
        "from tensorflow.keras.models import Model, load_model\r\n",
        "from tensorflow.keras.callbacks import ModelCheckpoint, EarlyStopping\r\n",
        "from tensorflow.keras.optimizers import Adam\r\n",
        "from tensorflow.keras.regularizers import l2\r\n",
        "\r\n",
        "from tensorflow.keras.utils import get_file\r\n",
        "import zipfile\r\n",
        "\r\n",
        "np.random.seed(777)\r\n",
        "tf.random.set_seed(777)"
      ],
      "execution_count": 1,
      "outputs": []
    },
    {
      "cell_type": "code",
      "metadata": {
        "id": "r7-Ipa5Limcz"
      },
      "source": [
        "def load_data(data_size : str) -> pd.DataFrame:\r\n",
        "    ''' load Movie Lens data '''\r\n",
        "\r\n",
        "    if data_size == '1m':\r\n",
        "        fname = 'ml-1m.zip'\r\n",
        "        data = 'ml-1m/ratings.dat'\r\n",
        "    elif data_size == '10m':\r\n",
        "        fname = 'ml-10m.zip'\r\n",
        "        data = 'ml-10M100K/ratings.dat'\r\n",
        "    elif data_size == '20m':\r\n",
        "        fname = 'ml-20m.zip'\r\n",
        "        data = 'ml-20m/ratings.csv'\r\n",
        "    elif data_size == '25m':\r\n",
        "        fname = 'ml-25m.zip'\r\n",
        "        data = 'ml-25m/ratings.csv'\r\n",
        "    if not glob.glob(data):\r\n",
        "        origin = f'http://files.grouplens.org/datasets/movielens/{fname}'\r\n",
        "        file = get_file(fname, origin)\r\n",
        "        zip_ref = zipfile.ZipFile(file, 'r')\r\n",
        "        zip_ref.extractall()\r\n",
        "\r\n",
        "    col_names = ['user_id', 'movie_id', 'rating', 'timestamp']\r\n",
        "    if data_size in ['20m', '25m']:\r\n",
        "        ratings = pd.read_csv(data, names = col_names, engine = 'python')\r\n",
        "    else:\r\n",
        "        ratings = pd.read_csv(data, sep = '|', delimiter = '::', names = col_names, engine = 'python')\r\n",
        "    print(ratings.shape)\r\n",
        "    return ratings"
      ],
      "execution_count": 2,
      "outputs": []
    },
    {
      "cell_type": "code",
      "metadata": {
        "id": "5ir_ByEOimUs",
        "colab": {
          "base_uri": "https://localhost:8080/",
          "height": 213
        },
        "outputId": "5a2b3df0-d517-4b5f-b89c-f4678d8accd9"
      },
      "source": [
        "ratings = load_data('1m')\r\n",
        "ratings.head()"
      ],
      "execution_count": 3,
      "outputs": [
        {
          "output_type": "stream",
          "text": [
            "(1000209, 4)\n"
          ],
          "name": "stdout"
        },
        {
          "output_type": "execute_result",
          "data": {
            "text/html": [
              "<div>\n",
              "<style scoped>\n",
              "    .dataframe tbody tr th:only-of-type {\n",
              "        vertical-align: middle;\n",
              "    }\n",
              "\n",
              "    .dataframe tbody tr th {\n",
              "        vertical-align: top;\n",
              "    }\n",
              "\n",
              "    .dataframe thead th {\n",
              "        text-align: right;\n",
              "    }\n",
              "</style>\n",
              "<table border=\"1\" class=\"dataframe\">\n",
              "  <thead>\n",
              "    <tr style=\"text-align: right;\">\n",
              "      <th></th>\n",
              "      <th>user_id</th>\n",
              "      <th>movie_id</th>\n",
              "      <th>rating</th>\n",
              "      <th>timestamp</th>\n",
              "    </tr>\n",
              "  </thead>\n",
              "  <tbody>\n",
              "    <tr>\n",
              "      <th>0</th>\n",
              "      <td>1</td>\n",
              "      <td>1193</td>\n",
              "      <td>5</td>\n",
              "      <td>978300760</td>\n",
              "    </tr>\n",
              "    <tr>\n",
              "      <th>1</th>\n",
              "      <td>1</td>\n",
              "      <td>661</td>\n",
              "      <td>3</td>\n",
              "      <td>978302109</td>\n",
              "    </tr>\n",
              "    <tr>\n",
              "      <th>2</th>\n",
              "      <td>1</td>\n",
              "      <td>914</td>\n",
              "      <td>3</td>\n",
              "      <td>978301968</td>\n",
              "    </tr>\n",
              "    <tr>\n",
              "      <th>3</th>\n",
              "      <td>1</td>\n",
              "      <td>3408</td>\n",
              "      <td>4</td>\n",
              "      <td>978300275</td>\n",
              "    </tr>\n",
              "    <tr>\n",
              "      <th>4</th>\n",
              "      <td>1</td>\n",
              "      <td>2355</td>\n",
              "      <td>5</td>\n",
              "      <td>978824291</td>\n",
              "    </tr>\n",
              "  </tbody>\n",
              "</table>\n",
              "</div>"
            ],
            "text/plain": [
              "   user_id  movie_id  rating  timestamp\n",
              "0        1      1193       5  978300760\n",
              "1        1       661       3  978302109\n",
              "2        1       914       3  978301968\n",
              "3        1      3408       4  978300275\n",
              "4        1      2355       5  978824291"
            ]
          },
          "metadata": {
            "tags": []
          },
          "execution_count": 3
        }
      ]
    },
    {
      "cell_type": "code",
      "metadata": {
        "id": "Q7NxLKRuimOY",
        "colab": {
          "base_uri": "https://localhost:8080/"
        },
        "outputId": "8b041fbe-eb0f-412e-cb31-5a71b534aaab"
      },
      "source": [
        "user_list = ratings.user_id.unique()\r\n",
        "user_idx_map = {e: i for i, e in enumerate(user_list)}\r\n",
        "n_user = len(user_list)\r\n",
        "print(f'# of user = {n_user}')\r\n",
        "\r\n",
        "item_list = ratings.movie_id.unique()\r\n",
        "item_idx_map = {e: i for i, e in enumerate(item_list)}\r\n",
        "n_item = len(item_list)\r\n",
        "print(f'# of item = {n_item}')"
      ],
      "execution_count": 4,
      "outputs": [
        {
          "output_type": "stream",
          "text": [
            "# of user = 6040\n",
            "# of item = 3706\n"
          ],
          "name": "stdout"
        }
      ]
    },
    {
      "cell_type": "code",
      "metadata": {
        "id": "Y6rAHnLQipAk",
        "colab": {
          "base_uri": "https://localhost:8080/",
          "height": 195
        },
        "outputId": "a4bb4764-6a02-4642-cbdc-91a26138184a"
      },
      "source": [
        "ratings = ratings.assign(\r\n",
        "    user_id = ratings.user_id.map(user_idx_map),\r\n",
        "    movie_id = ratings.movie_id.map(item_idx_map)\r\n",
        ")\r\n",
        "ratings.head()"
      ],
      "execution_count": 5,
      "outputs": [
        {
          "output_type": "execute_result",
          "data": {
            "text/html": [
              "<div>\n",
              "<style scoped>\n",
              "    .dataframe tbody tr th:only-of-type {\n",
              "        vertical-align: middle;\n",
              "    }\n",
              "\n",
              "    .dataframe tbody tr th {\n",
              "        vertical-align: top;\n",
              "    }\n",
              "\n",
              "    .dataframe thead th {\n",
              "        text-align: right;\n",
              "    }\n",
              "</style>\n",
              "<table border=\"1\" class=\"dataframe\">\n",
              "  <thead>\n",
              "    <tr style=\"text-align: right;\">\n",
              "      <th></th>\n",
              "      <th>user_id</th>\n",
              "      <th>movie_id</th>\n",
              "      <th>rating</th>\n",
              "      <th>timestamp</th>\n",
              "    </tr>\n",
              "  </thead>\n",
              "  <tbody>\n",
              "    <tr>\n",
              "      <th>0</th>\n",
              "      <td>0</td>\n",
              "      <td>0</td>\n",
              "      <td>5</td>\n",
              "      <td>978300760</td>\n",
              "    </tr>\n",
              "    <tr>\n",
              "      <th>1</th>\n",
              "      <td>0</td>\n",
              "      <td>1</td>\n",
              "      <td>3</td>\n",
              "      <td>978302109</td>\n",
              "    </tr>\n",
              "    <tr>\n",
              "      <th>2</th>\n",
              "      <td>0</td>\n",
              "      <td>2</td>\n",
              "      <td>3</td>\n",
              "      <td>978301968</td>\n",
              "    </tr>\n",
              "    <tr>\n",
              "      <th>3</th>\n",
              "      <td>0</td>\n",
              "      <td>3</td>\n",
              "      <td>4</td>\n",
              "      <td>978300275</td>\n",
              "    </tr>\n",
              "    <tr>\n",
              "      <th>4</th>\n",
              "      <td>0</td>\n",
              "      <td>4</td>\n",
              "      <td>5</td>\n",
              "      <td>978824291</td>\n",
              "    </tr>\n",
              "  </tbody>\n",
              "</table>\n",
              "</div>"
            ],
            "text/plain": [
              "   user_id  movie_id  rating  timestamp\n",
              "0        0         0       5  978300760\n",
              "1        0         1       3  978302109\n",
              "2        0         2       3  978301968\n",
              "3        0         3       4  978300275\n",
              "4        0         4       5  978824291"
            ]
          },
          "metadata": {
            "tags": []
          },
          "execution_count": 5
        }
      ]
    },
    {
      "cell_type": "code",
      "metadata": {
        "id": "b5i143z_3sw8"
      },
      "source": [
        "def binarizer(df: pd.DataFrame, threshold = 4) -> pd.DataFrame:\r\n",
        "    df = df.assign(rating = np.where(df.rating >= threshold, 1, 0))\r\n",
        "    return df[df.rating > 0.0].reset_index(drop = True)\r\n",
        "\r\n",
        "def make_warm(df: pd.DataFrame, threshold = 5) -> pd.DataFrame: # remove cold starters\r\n",
        "    positive = df.groupby('user_id')['movie_id'].count()\r\n",
        "    positive = positive.index[positive >= threshold]\r\n",
        "    return df[df.user_id.isin(positive)].reset_index(drop = True)\r\n",
        "\r\n",
        "def train_valid_test_split(df: pd.DataFrame, size: float) -> pd.DataFrame:\r\n",
        "    train_user, test_user = train_test_split(df.user_id.unique(), test_size = 2 * size, random_state = 777)\r\n",
        "    valid_user, test_user = train_test_split(test_user, test_size = 0.5, random_state = 777)\r\n",
        "    train, valid, test = map(lambda x: df[df.user_id.isin(x)], (train_user, valid_user, test_user))\r\n",
        "    train, valid, test = map(lambda df: df.reset_index(drop = True), (train, valid, test))\r\n",
        "    return train, valid, test\r\n",
        "\r\n",
        "def query_relev_split(df: pd.DataFrame, size: float) -> pd.DataFrame:\r\n",
        "    timeorder = df.groupby('user_id')['timestamp'].rank(method = 'first', ascending = True)\r\n",
        "    seen_cnts = df.groupby('user_id')['movie_id'].transform('count')\r\n",
        "    df = df.assign(seen_cnts = seen_cnts, timeorder = timeorder)\r\n",
        "    query = df[df.timeorder < df.seen_cnts * (1-size)]\r\n",
        "    relev = df[df.timeorder >= df.seen_cnts * (1-size)]\r\n",
        "    relev = relev[relev.user_id.isin(query.user_id.unique())]\r\n",
        "    query, relev = map(lambda df: df.drop(columns = ['timeorder', 'seen_cnts']), (query, relev))\r\n",
        "    query, relev = map(lambda df: df.reset_index(drop = True), (query, relev))\r\n",
        "    return query, relev\r\n",
        "\r\n",
        "def list_agg(df: pd.DataFrame) -> pd.DataFrame:\r\n",
        "    return df.groupby('user_id', as_index = False)[['movie_id']].agg(list)"
      ],
      "execution_count": 6,
      "outputs": []
    },
    {
      "cell_type": "code",
      "metadata": {
        "id": "3tFezRJKitQ_",
        "colab": {
          "base_uri": "https://localhost:8080/",
          "height": 195
        },
        "outputId": "aecfa5f7-7080-40bd-e4a6-85b26a255e7c"
      },
      "source": [
        "data = binarizer(ratings)\r\n",
        "data = make_warm(data)\r\n",
        "data.head()"
      ],
      "execution_count": 7,
      "outputs": [
        {
          "output_type": "execute_result",
          "data": {
            "text/html": [
              "<div>\n",
              "<style scoped>\n",
              "    .dataframe tbody tr th:only-of-type {\n",
              "        vertical-align: middle;\n",
              "    }\n",
              "\n",
              "    .dataframe tbody tr th {\n",
              "        vertical-align: top;\n",
              "    }\n",
              "\n",
              "    .dataframe thead th {\n",
              "        text-align: right;\n",
              "    }\n",
              "</style>\n",
              "<table border=\"1\" class=\"dataframe\">\n",
              "  <thead>\n",
              "    <tr style=\"text-align: right;\">\n",
              "      <th></th>\n",
              "      <th>user_id</th>\n",
              "      <th>movie_id</th>\n",
              "      <th>rating</th>\n",
              "      <th>timestamp</th>\n",
              "    </tr>\n",
              "  </thead>\n",
              "  <tbody>\n",
              "    <tr>\n",
              "      <th>0</th>\n",
              "      <td>0</td>\n",
              "      <td>0</td>\n",
              "      <td>1</td>\n",
              "      <td>978300760</td>\n",
              "    </tr>\n",
              "    <tr>\n",
              "      <th>1</th>\n",
              "      <td>0</td>\n",
              "      <td>3</td>\n",
              "      <td>1</td>\n",
              "      <td>978300275</td>\n",
              "    </tr>\n",
              "    <tr>\n",
              "      <th>2</th>\n",
              "      <td>0</td>\n",
              "      <td>4</td>\n",
              "      <td>1</td>\n",
              "      <td>978824291</td>\n",
              "    </tr>\n",
              "    <tr>\n",
              "      <th>3</th>\n",
              "      <td>0</td>\n",
              "      <td>6</td>\n",
              "      <td>1</td>\n",
              "      <td>978302039</td>\n",
              "    </tr>\n",
              "    <tr>\n",
              "      <th>4</th>\n",
              "      <td>0</td>\n",
              "      <td>7</td>\n",
              "      <td>1</td>\n",
              "      <td>978300719</td>\n",
              "    </tr>\n",
              "  </tbody>\n",
              "</table>\n",
              "</div>"
            ],
            "text/plain": [
              "   user_id  movie_id  rating  timestamp\n",
              "0        0         0       1  978300760\n",
              "1        0         3       1  978300275\n",
              "2        0         4       1  978824291\n",
              "3        0         6       1  978302039\n",
              "4        0         7       1  978300719"
            ]
          },
          "metadata": {
            "tags": []
          },
          "execution_count": 7
        }
      ]
    },
    {
      "cell_type": "code",
      "metadata": {
        "id": "sA9gEBFmvoCW"
      },
      "source": [
        "train, valid, test = train_valid_test_split(data, size = 0.1)\r\n",
        "valid_q, valid_r = query_relev_split(valid, size = 0.2)\r\n",
        "test_q, test_r = query_relev_split(test, size = 0.2)"
      ],
      "execution_count": 8,
      "outputs": []
    },
    {
      "cell_type": "code",
      "metadata": {
        "id": "1sKFhqmivs9U"
      },
      "source": [
        "def train_generator(train: pd.DataFrame, \r\n",
        "                    n_item: int, \r\n",
        "                    batch_size: int) -> np.ndarray:\r\n",
        "\r\n",
        "    train = list_agg(train)\r\n",
        "    \r\n",
        "    n_data = train.index.size\r\n",
        "    ids = np.arange(n_data)\r\n",
        "    profile = train['movie_id']\r\n",
        "\r\n",
        "    n_batch = int(np.ceil(n_data / batch_size))\r\n",
        "    while True:\r\n",
        "        np.random.shuffle(ids)\r\n",
        "        for batch_step in range(n_batch):     \r\n",
        "            lower = batch_size * batch_step\r\n",
        "            upper = batch_size + lower\r\n",
        "            \r\n",
        "            batch_id = ids[lower: upper]\r\n",
        "            batch = np.zeros(shape = (batch_id.size, n_item), dtype = np.float32)\r\n",
        "            for i, idx in enumerate(batch_id):\r\n",
        "                batch[i, profile[idx]] = 1.0\r\n",
        "            \r\n",
        "            yield batch"
      ],
      "execution_count": 9,
      "outputs": []
    },
    {
      "cell_type": "code",
      "metadata": {
        "id": "raJ3gC-5vujr"
      },
      "source": [
        "def valid_generator(query: pd.DataFrame,\r\n",
        "                    relev: pd.DataFrame,\r\n",
        "                    n_item: int,\r\n",
        "                    batch_size: int) -> Tuple[np.ndarray]:\r\n",
        "\r\n",
        "    query = list_agg(query)\r\n",
        "    relev = list_agg(relev)\r\n",
        "\r\n",
        "    n_data = query.index.size\r\n",
        "    ids = np.arange(n_data)\r\n",
        "    profile_q = query['movie_id']\r\n",
        "    profile_r = relev['movie_id']\r\n",
        "\r\n",
        "    n_batch = int(np.ceil(n_data / batch_size))\r\n",
        "    while True:\r\n",
        "        np.random.shuffle(ids)\r\n",
        "        for batch_step in range(n_batch):\r\n",
        "            lower = batch_size * batch_step\r\n",
        "            upper = batch_size + lower\r\n",
        "            \r\n",
        "            batch_id = ids[lower: upper]\r\n",
        "            batch_q = np.zeros(shape = (batch_id.size, n_item), dtype = np.float32)\r\n",
        "            batch_r = np.zeros(shape = (batch_id.size, n_item), dtype = np.float32)\r\n",
        "            for i, idx in enumerate(batch_id):\r\n",
        "                batch_q[i, profile_q[idx]] = 1.0 # seen\r\n",
        "                batch_r[i, profile_r[idx]] = 1.0 # unseen\r\n",
        "\r\n",
        "            yield batch_q, batch_r"
      ],
      "execution_count": 10,
      "outputs": []
    },
    {
      "cell_type": "code",
      "metadata": {
        "id": "0eD6RLN7vwmE"
      },
      "source": [
        "def binary_cross_entropy(true: tf.Tensor, pred: tf.Tensor) -> tf.Tensor:\r\n",
        "    ce = K.sum(K.binary_crossentropy(true, pred), axis = 1)\r\n",
        "    return K.mean(ce, axis = 0)\r\n",
        "\r\n",
        "def multinomial(true: tf.Tensor, pred: tf.Tensor) -> tf.Tensor:\r\n",
        "    ll = -K.sum(true * K.log(pred), axis = 1) #K.categorical_crossentropy(true, pred) # -K.sum(true * K.log(pred), axis = 1)\r\n",
        "    return K.mean(ll, axis = 0)\r\n",
        "\r\n",
        "def batch_ndcg(query: tf.Tensor, \r\n",
        "               relev: tf.Tensor,\r\n",
        "               pred: tf.Tensor, \r\n",
        "               weight: tf.Tensor,\r\n",
        "               k = 100) -> tf.Tensor: # only for validation\r\n",
        "\r\n",
        "    rec = tf.where(query == 1.0, -1.0, pred) # leave only unseen-data\r\n",
        "    rec = tf.argsort(rec, axis = 1, direction = 'DESCENDING')[:, :k]\r\n",
        "    shape = tf.shape(rec)\r\n",
        "\r\n",
        "    row = tf.repeat(tf.range(shape[0]), shape[1])\r\n",
        "    row = tf.expand_dims(row, axis = 1)\r\n",
        "    col = tf.reshape(rec, shape = [-1])\r\n",
        "    col = tf.expand_dims(col, axis = 1)\r\n",
        "    loc = tf.concat([row, col], axis = 1)\r\n",
        "\r\n",
        "    top_k = tf.reshape(tf.gather_nd(relev, loc), shape = shape)\r\n",
        "    ideal = tf.sort(relev, axis = 1, direction = 'DESCENDING')[:, :k]\r\n",
        "    weight = weight[:shape[1]]\r\n",
        "\r\n",
        "    dcg = tf.reduce_sum(top_k * weight, axis = 1)\r\n",
        "    idcg = tf.reduce_sum(ideal * weight, axis = 1)\r\n",
        "    return tf.reduce_mean(dcg / idcg, axis = 0)"
      ],
      "execution_count": 11,
      "outputs": []
    },
    {
      "cell_type": "code",
      "metadata": {
        "id": "HWWJlFN3wepv"
      },
      "source": [
        "class Encoder(tf.keras.layers.Layer):\r\n",
        "    def __init__(self, units):\r\n",
        "        super(Encoder, self).__init__()\r\n",
        "        self.units = units\r\n",
        "\r\n",
        "    def build(self, input_shape):\r\n",
        "        self.W = self.add_weight(\r\n",
        "            shape = (input_shape[-1], self.units),\r\n",
        "            initializer = 'glorot_uniform',\r\n",
        "            regularizer = l2(1e-3),\r\n",
        "            trainable = True,\r\n",
        "            name = 'W'\r\n",
        "        )\r\n",
        "\r\n",
        "    def call(self, inputs):\r\n",
        "        r = tf.einsum('nm,mh->nmh', inputs, self.W)\r\n",
        "        logit_h = tf.math.cumsum(r, axis = 1, exclusive = True)\r\n",
        "        return tf.nn.sigmoid(logit_h)"
      ],
      "execution_count": 12,
      "outputs": []
    },
    {
      "cell_type": "code",
      "metadata": {
        "id": "bmHxbKBZxebb"
      },
      "source": [
        "class Decoder(tf.keras.layers.Layer):\r\n",
        "    def __init__(self, units, likelihood):\r\n",
        "        super(Decoder, self).__init__()\r\n",
        "        self.units = units\r\n",
        "        self.likelihood = likelihood\r\n",
        "\r\n",
        "    def build(self, input_shape):\r\n",
        "        self.V = self.add_weight(\r\n",
        "            shape = (input_shape[-1], self.units),\r\n",
        "            initializer = 'glorot_uniform',\r\n",
        "            regularizer = l2(1e-3),\r\n",
        "            trainable = True,\r\n",
        "            name = 'V'\r\n",
        "        )\r\n",
        "        self.c = self.add_weight(\r\n",
        "            shape = (1, self.units),\r\n",
        "            initializer = 'zeros',\r\n",
        "            trainable = True,\r\n",
        "            name = 'c'\r\n",
        "        )\r\n",
        "    def call(self, inputs):\r\n",
        "        logit_o = tf.einsum('nmh,hm->nm', inputs, self.V) + self.c\r\n",
        "        if self.likelihood == 'multinomial':\r\n",
        "            return tf.nn.softmax(logit_o)\r\n",
        "        return tf.nn.sigmoid(logit_o)"
      ],
      "execution_count": 13,
      "outputs": []
    },
    {
      "cell_type": "code",
      "metadata": {
        "id": "7zK_FFNtyKAE"
      },
      "source": [
        "class NADE(tf.keras.models.Model):\r\n",
        "    def __init__(self, input_dim, latent_dim, likelihood = 'logistic'):\r\n",
        "        super(NADE, self).__init__()\r\n",
        "\r\n",
        "        self.input_dim = input_dim\r\n",
        "        self.latent_dim = latent_dim\r\n",
        "        self.likelihood = likelihood\r\n",
        "\r\n",
        "        self.encoder = Encoder(self.latent_dim)\r\n",
        "        self.decoder = Decoder(self.input_dim, self.likelihood)\r\n",
        "\r\n",
        "        _ = self.call(Input(shape = (self.input_dim, )))\r\n",
        "        self.build(input_shape = (None, self.input_dim))\r\n",
        "\r\n",
        "    def call(self, inputs):\r\n",
        "        h = self.encoder(inputs)\r\n",
        "        return self.decoder(h)\r\n",
        "\r\n",
        "    def train_step(self, inputs):\r\n",
        "        with tf.GradientTape() as tape:\r\n",
        "            outputs = self(inputs)\r\n",
        "            loss = self.loss(inputs, outputs)\r\n",
        "        grad = tape.gradient(loss, self.trainable_variables)\r\n",
        "        self.optimizer.apply_gradients(zip(grad, self.trainable_variables))\r\n",
        "        return {'loss': loss}\r\n",
        "\r\n",
        "    def test_step(self, data):\r\n",
        "        query, relev = data\r\n",
        "        pred = self(query)\r\n",
        "\r\n",
        "        weight = tf.range(2, self.input_dim, dtype = 'float32')\r\n",
        "        weight = tf.math.reciprocal(tf.math.log(weight))\r\n",
        "        ndcg = batch_ndcg(query, relev, pred, weight)\r\n",
        "        return {'ndcg': ndcg}"
      ],
      "execution_count": 14,
      "outputs": []
    },
    {
      "cell_type": "code",
      "metadata": {
        "id": "ATaH4QrqMEIo"
      },
      "source": [
        "def show_history(hist, loss: str, metric: str) -> None:\r\n",
        "    fig, (ax1, ax2) = plt.subplots(2, 1, figsize = (8, 6))\r\n",
        "\r\n",
        "    ax1.plot(hist.history[f'{loss}'])\r\n",
        "    ax1.set_title(loss, fontsize = 20)\r\n",
        "    ax1.set_ylabel(loss)\r\n",
        "    ax1.set_xlabel('epoch')\r\n",
        "\r\n",
        "    ax2.plot(hist.history[f'val_{metric}'])\r\n",
        "    ax2.set_title(metric, fontsize = 20)\r\n",
        "    ax2.set_ylabel(metric)\r\n",
        "    ax2.set_xlabel('epoch')\r\n",
        "    plt.tight_layout()"
      ],
      "execution_count": 15,
      "outputs": []
    },
    {
      "cell_type": "code",
      "metadata": {
        "id": "bqGhj7lOwPNE"
      },
      "source": [
        "def test_predictor(query: pd.DataFrame, \r\n",
        "                   model: Callable,\r\n",
        "                   n_item: int, \r\n",
        "                   batch_size: int, \r\n",
        "                   N = 100) -> float:\r\n",
        "\r\n",
        "    query = list_agg(query)\r\n",
        "\r\n",
        "    n_data = query.index.size\r\n",
        "    ids = np.arange(n_data)\r\n",
        "    profile = query['movie_id']\r\n",
        "\r\n",
        "    pred = []\r\n",
        "    n_batch = int(np.ceil(n_data / batch_size))\r\n",
        "    for batch_step in range(n_batch):\r\n",
        "        lower = batch_size * batch_step\r\n",
        "        upper = batch_size + lower\r\n",
        "\r\n",
        "        batch_id = ids[lower: upper]\r\n",
        "        batch = np.zeros(shape = (batch_id.size, n_item))\r\n",
        "        for i, idx in enumerate(batch_id):\r\n",
        "            batch[i, profile[idx]] = 1.0\r\n",
        "\r\n",
        "        pred_batch = model.predict(batch, verbose = 0)\r\n",
        "        \r\n",
        "        rec = np.argsort(np.where(batch == 1.0, -1.0, pred_batch), axis = 1)[:, :-N-1:-1]\r\n",
        "        pred.append(rec)\r\n",
        "    pred = np.concatenate(pred)\r\n",
        "    pred = [{'user_id': query.at[i, 'user_id'], 'movie_id': pred[i]} for i in range(n_data)]\r\n",
        "    return pd.DataFrame(pred)"
      ],
      "execution_count": 16,
      "outputs": []
    },
    {
      "cell_type": "code",
      "metadata": {
        "id": "fLM1CfikCjiu"
      },
      "source": [
        "class evaluate:\r\n",
        "    def __init__(self, true: pd.DataFrame, pred: pd.DataFrame):\r\n",
        "        self.true = true\r\n",
        "        self.pred = pred\r\n",
        "        self.max_K = 10000\r\n",
        "        self.idcg = np.cumsum([1.0 / np.log(i+2) for i in range(self.max_K)])\r\n",
        "\r\n",
        "    def _recall(self, gt: List, rec: List, K = None) -> float:\r\n",
        "        K = K if K else self.max_K\r\n",
        "        res = [r for r in rec[:K] if r in gt]\r\n",
        "        return len(res) / np.min([K, len(gt)])\r\n",
        "    \r\n",
        "    def _precision(self, gt: List, rec: List, K = None) -> float:\r\n",
        "        K = K if K else self.max_K\r\n",
        "        res = [r for r in rec[:K] if r in gt]\r\n",
        "        return len(res) / len(rec[:K])\r\n",
        "\r\n",
        "    def _AP(self, gt: List, rec: List, K = None) -> float: # Average Precision\r\n",
        "        K = K if K else self.max_K\r\n",
        "        res = 0.0\r\n",
        "        for i, r in enumerate(rec[:K]):\r\n",
        "            if r in gt:\r\n",
        "                res += self._precision(gt, rec[:K], i+1)\r\n",
        "        return res / np.min([K, len(gt)])\r\n",
        "\r\n",
        "    def _RR(self, gt: List, rec: List, K = None) -> float: # Reciprocal Rank\r\n",
        "        K = K if K else self.max_K\r\n",
        "        for i, r in enumerate(rec[:K]):\r\n",
        "            if r in gt:\r\n",
        "                return  1.0 / (i+1)\r\n",
        "        return 0\r\n",
        "\r\n",
        "    def _nDCG(self, gt: List, rec: List, K = None) -> float: # normalized Discounted Cumulative Gain\r\n",
        "        K = K if K else self.max_K\r\n",
        "        dcg = 0.0\r\n",
        "        for i, r in enumerate(rec[:K]):\r\n",
        "            if r in gt:\r\n",
        "                dcg += 1.0 / np.log(i+2)\r\n",
        "        idcg = self.idcg[min([len(gt), K])-1]\r\n",
        "        return dcg / idcg\r\n",
        "    \r\n",
        "    def __call__(self, K = None):\r\n",
        "        self.K = K\r\n",
        "        self.recall = 0\r\n",
        "        self.precision = 0\r\n",
        "        self.MAP = 0\r\n",
        "        self.MRR = 0\r\n",
        "        self.nDCG = 0\r\n",
        "        n = self.true.index.size\r\n",
        "        for gt, rec in zip(tqdm(self.true.movie_id), self.pred.movie_id):\r\n",
        "            self.recall += self._recall(gt, rec, K) / n\r\n",
        "            self.precision += self._precision(gt, rec, K) / n\r\n",
        "            self.MAP += self._AP(gt, rec, K) / n\r\n",
        "            self.MRR += self._RR(gt, rec, K) / n\r\n",
        "            self.nDCG += self._nDCG(gt, rec, K) / n\r\n",
        "\r\n",
        "    def print_all(self):\r\n",
        "        K = '@' + str(self.K) if self.K else ''\r\n",
        "        print(f'{\"Recall\":>12}{K} : {self.recall:.5f}',\r\n",
        "              f'\\n{\"Precision\":>12}{K} : {self.precision:.5f}',\r\n",
        "              f'\\n{\"MAP\":>12}{K} : {self.MAP:.5f}',\r\n",
        "              f'\\n{\"MRR\":>12}{K} : {self.MRR:.5f}',\r\n",
        "              f'\\n{\"nDCG\":>12}{K} : {self.nDCG:.5f}')"
      ],
      "execution_count": 17,
      "outputs": []
    },
    {
      "cell_type": "code",
      "metadata": {
        "id": "mV7QWG3L0la9"
      },
      "source": [
        "epochs = 100\r\n",
        "batch_size = 128\r\n",
        "\r\n",
        "train_gen = train_generator(train, n_item, batch_size)\r\n",
        "valid_gen = valid_generator(valid_q, valid_r, n_item, batch_size)\r\n",
        "\r\n",
        "steps_per_epoch = train.user_id.nunique() // batch_size + 1\r\n",
        "validation_steps = valid.user_id.nunique() // batch_size + 1"
      ],
      "execution_count": 18,
      "outputs": []
    },
    {
      "cell_type": "markdown",
      "metadata": {
        "id": "WpOEoTiNr0I5"
      },
      "source": [
        "## 1. Bernoulli"
      ]
    },
    {
      "cell_type": "code",
      "metadata": {
        "colab": {
          "base_uri": "https://localhost:8080/"
        },
        "id": "u1Ob-gxj0M_-",
        "outputId": "7f37d4f6-fea6-414b-bfad-109bcdc58e9c"
      },
      "source": [
        "model = NADE(n_item, 256)\r\n",
        "model.compile(optimizer = Adam(lr = 1e-3), loss = binary_cross_entropy)\r\n",
        "\r\n",
        "model.summary()"
      ],
      "execution_count": 19,
      "outputs": [
        {
          "output_type": "stream",
          "text": [
            "Model: \"nade\"\n",
            "_________________________________________________________________\n",
            "Layer (type)                 Output Shape              Param #   \n",
            "=================================================================\n",
            "encoder (Encoder)            (None, 3706, 256)         948736    \n",
            "_________________________________________________________________\n",
            "decoder (Decoder)            (None, 3706)              952442    \n",
            "=================================================================\n",
            "Total params: 1,901,178\n",
            "Trainable params: 1,901,178\n",
            "Non-trainable params: 0\n",
            "_________________________________________________________________\n"
          ],
          "name": "stdout"
        }
      ]
    },
    {
      "cell_type": "code",
      "metadata": {
        "colab": {
          "base_uri": "https://localhost:8080/",
          "height": 1000
        },
        "id": "rSOFDHkR0ZYT",
        "outputId": "90732353-d34c-49ff-937e-8a9ee1781f48"
      },
      "source": [
        "%%time\r\n",
        "early_stopping = EarlyStopping(monitor = 'val_ndcg', mode = 'max', verbose = 1, patience = epochs // 5)\r\n",
        "model_checkpoint = ModelCheckpoint('NADE-CF.h5', monitor = 'val_ndcg', mode = 'max', save_best_only = True)\r\n",
        "\r\n",
        "hist = model.fit(x = train_gen, validation_data = valid_gen, epochs = epochs,\r\n",
        "                 steps_per_epoch = steps_per_epoch, validation_steps = validation_steps, \r\n",
        "                 verbose = 1, callbacks = [early_stopping, model_checkpoint])\r\n",
        "show_history(hist, 'loss', 'ndcg')"
      ],
      "execution_count": 20,
      "outputs": [
        {
          "output_type": "stream",
          "text": [
            "Epoch 1/100\n",
            "38/38 [==============================] - 7s 166ms/step - loss: 822.7874 - val_ndcg: 0.1232\n",
            "Epoch 2/100\n",
            "38/38 [==============================] - 6s 155ms/step - loss: 404.8673 - val_ndcg: 0.1485\n",
            "Epoch 3/100\n",
            "38/38 [==============================] - 6s 155ms/step - loss: 397.0951 - val_ndcg: 0.1463\n",
            "Epoch 4/100\n",
            "38/38 [==============================] - 6s 154ms/step - loss: 388.5630 - val_ndcg: 0.1473\n",
            "Epoch 5/100\n",
            "38/38 [==============================] - 6s 154ms/step - loss: 375.8088 - val_ndcg: 0.1505\n",
            "Epoch 6/100\n",
            "38/38 [==============================] - 6s 155ms/step - loss: 356.2937 - val_ndcg: 0.1499\n",
            "Epoch 7/100\n",
            "38/38 [==============================] - 6s 155ms/step - loss: 342.5567 - val_ndcg: 0.1274\n",
            "Epoch 8/100\n",
            "38/38 [==============================] - 6s 155ms/step - loss: 329.4057 - val_ndcg: 0.1581\n",
            "Epoch 9/100\n",
            "38/38 [==============================] - 6s 155ms/step - loss: 320.4754 - val_ndcg: 0.1404\n",
            "Epoch 10/100\n",
            "38/38 [==============================] - 6s 154ms/step - loss: 315.4363 - val_ndcg: 0.1544\n",
            "Epoch 11/100\n",
            "38/38 [==============================] - 6s 154ms/step - loss: 312.9611 - val_ndcg: 0.1526\n",
            "Epoch 12/100\n",
            "38/38 [==============================] - 6s 154ms/step - loss: 307.7131 - val_ndcg: 0.1564\n",
            "Epoch 13/100\n",
            "38/38 [==============================] - 6s 155ms/step - loss: 304.0927 - val_ndcg: 0.1406\n",
            "Epoch 14/100\n",
            "38/38 [==============================] - 6s 153ms/step - loss: 301.6692 - val_ndcg: 0.1493\n",
            "Epoch 15/100\n",
            "38/38 [==============================] - 6s 154ms/step - loss: 298.1800 - val_ndcg: 0.1556\n",
            "Epoch 16/100\n",
            "38/38 [==============================] - 6s 154ms/step - loss: 294.2759 - val_ndcg: 0.1621\n",
            "Epoch 17/100\n",
            "38/38 [==============================] - 6s 154ms/step - loss: 290.1502 - val_ndcg: 0.1431\n",
            "Epoch 18/100\n",
            "38/38 [==============================] - 6s 154ms/step - loss: 288.0469 - val_ndcg: 0.1705\n",
            "Epoch 19/100\n",
            "38/38 [==============================] - 6s 155ms/step - loss: 284.3662 - val_ndcg: 0.1609\n",
            "Epoch 20/100\n",
            "38/38 [==============================] - 6s 155ms/step - loss: 282.1423 - val_ndcg: 0.1584\n",
            "Epoch 21/100\n",
            "38/38 [==============================] - 6s 155ms/step - loss: 280.6033 - val_ndcg: 0.1458\n",
            "Epoch 22/100\n",
            "38/38 [==============================] - 6s 154ms/step - loss: 277.9857 - val_ndcg: 0.1972\n",
            "Epoch 23/100\n",
            "38/38 [==============================] - 6s 155ms/step - loss: 276.2709 - val_ndcg: 0.1541\n",
            "Epoch 24/100\n",
            "38/38 [==============================] - 6s 155ms/step - loss: 274.5542 - val_ndcg: 0.1880\n",
            "Epoch 25/100\n",
            "38/38 [==============================] - 6s 155ms/step - loss: 271.5531 - val_ndcg: 0.1825\n",
            "Epoch 26/100\n",
            "38/38 [==============================] - 6s 154ms/step - loss: 269.7580 - val_ndcg: 0.1955\n",
            "Epoch 27/100\n",
            "38/38 [==============================] - 6s 156ms/step - loss: 267.6841 - val_ndcg: 0.1824\n",
            "Epoch 28/100\n",
            "38/38 [==============================] - 6s 154ms/step - loss: 266.8851 - val_ndcg: 0.2003\n",
            "Epoch 29/100\n",
            "38/38 [==============================] - 6s 154ms/step - loss: 264.1829 - val_ndcg: 0.1676\n",
            "Epoch 30/100\n",
            "38/38 [==============================] - 6s 155ms/step - loss: 263.3634 - val_ndcg: 0.1984\n",
            "Epoch 31/100\n",
            "38/38 [==============================] - 6s 155ms/step - loss: 262.6982 - val_ndcg: 0.1872\n",
            "Epoch 32/100\n",
            "38/38 [==============================] - 6s 154ms/step - loss: 261.0434 - val_ndcg: 0.1837\n",
            "Epoch 33/100\n",
            "38/38 [==============================] - 6s 154ms/step - loss: 258.8518 - val_ndcg: 0.1792\n",
            "Epoch 34/100\n",
            "38/38 [==============================] - 6s 155ms/step - loss: 257.5662 - val_ndcg: 0.1781\n",
            "Epoch 35/100\n",
            "38/38 [==============================] - 6s 154ms/step - loss: 256.2377 - val_ndcg: 0.1885\n",
            "Epoch 36/100\n",
            "38/38 [==============================] - 6s 154ms/step - loss: 255.7482 - val_ndcg: 0.1671\n",
            "Epoch 37/100\n",
            "38/38 [==============================] - 6s 154ms/step - loss: 254.2704 - val_ndcg: 0.1952\n",
            "Epoch 38/100\n",
            "38/38 [==============================] - 6s 155ms/step - loss: 252.9704 - val_ndcg: 0.1956\n",
            "Epoch 39/100\n",
            "38/38 [==============================] - 6s 154ms/step - loss: 252.4469 - val_ndcg: 0.1943\n",
            "Epoch 40/100\n",
            "38/38 [==============================] - 6s 155ms/step - loss: 250.6049 - val_ndcg: 0.1722\n",
            "Epoch 41/100\n",
            "38/38 [==============================] - 6s 154ms/step - loss: 250.6052 - val_ndcg: 0.1805\n",
            "Epoch 42/100\n",
            "38/38 [==============================] - 6s 153ms/step - loss: 249.6136 - val_ndcg: 0.1927\n",
            "Epoch 43/100\n",
            "38/38 [==============================] - 6s 154ms/step - loss: 248.3698 - val_ndcg: 0.1919\n",
            "Epoch 44/100\n",
            "38/38 [==============================] - 6s 154ms/step - loss: 247.2648 - val_ndcg: 0.1874\n",
            "Epoch 45/100\n",
            "38/38 [==============================] - 6s 155ms/step - loss: 246.8781 - val_ndcg: 0.1981\n",
            "Epoch 46/100\n",
            "38/38 [==============================] - 6s 154ms/step - loss: 246.6306 - val_ndcg: 0.1954\n",
            "Epoch 47/100\n",
            "38/38 [==============================] - 6s 154ms/step - loss: 246.0485 - val_ndcg: 0.1959\n",
            "Epoch 48/100\n",
            "38/38 [==============================] - 6s 154ms/step - loss: 243.9130 - val_ndcg: 0.1881\n",
            "Epoch 00048: early stopping\n",
            "CPU times: user 1min 57s, sys: 58.9 s, total: 2min 56s\n",
            "Wall time: 4min 42s\n"
          ],
          "name": "stdout"
        },
        {
          "output_type": "display_data",
          "data": {
            "image/png": "[encoded data removed]",
            "text/plain": [
              "<Figure size 576x432 with 2 Axes>"
            ]
          },
          "metadata": {
            "tags": [],
            "needs_background": "light"
          }
        }
      ]
    },
    {
      "cell_type": "code",
      "metadata": {
        "colab": {
          "base_uri": "https://localhost:8080/",
          "height": 195
        },
        "id": "mvyvxj-ECqvg",
        "outputId": "b05484ea-bc69-45a1-d302-36744e0aaa58"
      },
      "source": [
        "true = list_agg(test_r)\r\n",
        "true.head(5)"
      ],
      "execution_count": 21,
      "outputs": [
        {
          "output_type": "execute_result",
          "data": {
            "text/html": [
              "<div>\n",
              "<style scoped>\n",
              "    .dataframe tbody tr th:only-of-type {\n",
              "        vertical-align: middle;\n",
              "    }\n",
              "\n",
              "    .dataframe tbody tr th {\n",
              "        vertical-align: top;\n",
              "    }\n",
              "\n",
              "    .dataframe thead th {\n",
              "        text-align: right;\n",
              "    }\n",
              "</style>\n",
              "<table border=\"1\" class=\"dataframe\">\n",
              "  <thead>\n",
              "    <tr style=\"text-align: right;\">\n",
              "      <th></th>\n",
              "      <th>user_id</th>\n",
              "      <th>movie_id</th>\n",
              "    </tr>\n",
              "  </thead>\n",
              "  <tbody>\n",
              "    <tr>\n",
              "      <th>0</th>\n",
              "      <td>2</td>\n",
              "      <td>[177, 179, 183, 84, 4, 198, 199, 207]</td>\n",
              "    </tr>\n",
              "    <tr>\n",
              "      <th>1</th>\n",
              "      <td>8</td>\n",
              "      <td>[59, 438, 93, 123, 463, 525, 30, 288, 534, 322...</td>\n",
              "    </tr>\n",
              "    <tr>\n",
              "      <th>2</th>\n",
              "      <td>41</td>\n",
              "      <td>[175, 182, 563, 184, 1176, 116, 128, 1037, 104...</td>\n",
              "    </tr>\n",
              "    <tr>\n",
              "      <th>3</th>\n",
              "      <td>78</td>\n",
              "      <td>[1258, 305, 500, 2230]</td>\n",
              "    </tr>\n",
              "    <tr>\n",
              "      <th>4</th>\n",
              "      <td>91</td>\n",
              "      <td>[558, 1176, 195, 587, 592, 74, 1904, 186, 647,...</td>\n",
              "    </tr>\n",
              "  </tbody>\n",
              "</table>\n",
              "</div>"
            ],
            "text/plain": [
              "   user_id                                           movie_id\n",
              "0        2              [177, 179, 183, 84, 4, 198, 199, 207]\n",
              "1        8  [59, 438, 93, 123, 463, 525, 30, 288, 534, 322...\n",
              "2       41  [175, 182, 563, 184, 1176, 116, 128, 1037, 104...\n",
              "3       78                             [1258, 305, 500, 2230]\n",
              "4       91  [558, 1176, 195, 587, 592, 74, 1904, 186, 647,..."
            ]
          },
          "metadata": {
            "tags": []
          },
          "execution_count": 21
        }
      ]
    },
    {
      "cell_type": "code",
      "metadata": {
        "id": "9FKhv5m328J2",
        "colab": {
          "base_uri": "https://localhost:8080/",
          "height": 195
        },
        "outputId": "8fa0c11d-1200-4ba0-b62c-e9bb902f6287"
      },
      "source": [
        "pred = test_predictor(test_q, model, n_item, batch_size, N = 100)\r\n",
        "pred.head(5)"
      ],
      "execution_count": 22,
      "outputs": [
        {
          "output_type": "execute_result",
          "data": {
            "text/html": [
              "<div>\n",
              "<style scoped>\n",
              "    .dataframe tbody tr th:only-of-type {\n",
              "        vertical-align: middle;\n",
              "    }\n",
              "\n",
              "    .dataframe tbody tr th {\n",
              "        vertical-align: top;\n",
              "    }\n",
              "\n",
              "    .dataframe thead th {\n",
              "        text-align: right;\n",
              "    }\n",
              "</style>\n",
              "<table border=\"1\" class=\"dataframe\">\n",
              "  <thead>\n",
              "    <tr style=\"text-align: right;\">\n",
              "      <th></th>\n",
              "      <th>user_id</th>\n",
              "      <th>movie_id</th>\n",
              "    </tr>\n",
              "  </thead>\n",
              "  <tbody>\n",
              "    <tr>\n",
              "      <th>0</th>\n",
              "      <td>2</td>\n",
              "      <td>[210, 273, 711, 209, 213, 217, 385, 189, 214, ...</td>\n",
              "    </tr>\n",
              "    <tr>\n",
              "      <th>1</th>\n",
              "      <td>8</td>\n",
              "      <td>[244, 184, 134, 68, 5, 315, 92, 44, 243, 256, ...</td>\n",
              "    </tr>\n",
              "    <tr>\n",
              "      <th>2</th>\n",
              "      <td>41</td>\n",
              "      <td>[132, 189, 160, 62, 775, 155, 92, 711, 758, 85...</td>\n",
              "    </tr>\n",
              "    <tr>\n",
              "      <th>3</th>\n",
              "      <td>78</td>\n",
              "      <td>[5, 0, 104, 23, 44, 38, 4, 48, 524, 3, 669, 51...</td>\n",
              "    </tr>\n",
              "    <tr>\n",
              "      <th>4</th>\n",
              "      <td>91</td>\n",
              "      <td>[44, 9, 596, 23, 396, 13, 116, 64, 381, 39, 60...</td>\n",
              "    </tr>\n",
              "  </tbody>\n",
              "</table>\n",
              "</div>"
            ],
            "text/plain": [
              "   user_id                                           movie_id\n",
              "0        2  [210, 273, 711, 209, 213, 217, 385, 189, 214, ...\n",
              "1        8  [244, 184, 134, 68, 5, 315, 92, 44, 243, 256, ...\n",
              "2       41  [132, 189, 160, 62, 775, 155, 92, 711, 758, 85...\n",
              "3       78  [5, 0, 104, 23, 44, 38, 4, 48, 524, 3, 669, 51...\n",
              "4       91  [44, 9, 596, 23, 396, 13, 116, 64, 381, 39, 60..."
            ]
          },
          "metadata": {
            "tags": []
          },
          "execution_count": 22
        }
      ]
    },
    {
      "cell_type": "code",
      "metadata": {
        "id": "MwxqO7y728C_",
        "colab": {
          "base_uri": "https://localhost:8080/",
          "height": 292,
          "referenced_widgets": [
            "3efc4429624e4e548043200553137d7f",
            "5324ddb815c344b4857ca01902aad850",
            "e99cf95340854c3a84339c095f4855a1",
            "6844001699054fdb8c5853a5e56a3b54",
            "3b872e24bac54e77b0f591ab2cd5a4f8",
            "4d692c5776964aa2883a894b9c8558b8",
            "8bc37c90870345d8982856b7660be656",
            "5c3043de6bb7403ba16ee3d5c2adf692",
            "b61479f290a049faa674483c76f684f3",
            "6be805aab3784fde8432828c977a7f72",
            "202a7e9bd8ae44499bf8a91b35dea242",
            "0972ada94ec34c6dabf6ba29425152aa",
            "376df4048f354958a7655dd195502409",
            "43bd5ef5a1cd49d9b88f0e1624352980",
            "03ea6eca0a0b46278ebc026afbed1d9f",
            "999dfb73ba0d4735ae69158e8ded4b08"
          ]
        },
        "outputId": "a65c2106-6a8c-4bd9-9189-a2c6b3afab9e"
      },
      "source": [
        "scores = evaluate(true, pred)\r\n",
        "\r\n",
        "scores(K = 20)\r\n",
        "scores.print_all()\r\n",
        "\r\n",
        "scores(K = 100)\r\n",
        "scores.print_all()"
      ],
      "execution_count": 23,
      "outputs": [
        {
          "output_type": "display_data",
          "data": {
            "application/vnd.jupyter.widget-view+json": {
              "model_id": "3efc4429624e4e548043200553137d7f",
              "version_minor": 0,
              "version_major": 2
            },
            "text/plain": [
              "HBox(children=(FloatProgress(value=0.0, max=604.0), HTML(value='')))"
            ]
          },
          "metadata": {
            "tags": []
          }
        },
        {
          "output_type": "stream",
          "text": [
            "\n",
            "      Recall@20 : 0.12512 \n",
            "   Precision@20 : 0.07699 \n",
            "         MAP@20 : 0.03709 \n",
            "         MRR@20 : 0.21072 \n",
            "        nDCG@20 : 0.10524\n"
          ],
          "name": "stdout"
        },
        {
          "output_type": "display_data",
          "data": {
            "application/vnd.jupyter.widget-view+json": {
              "model_id": "b61479f290a049faa674483c76f684f3",
              "version_minor": 0,
              "version_major": 2
            },
            "text/plain": [
              "HBox(children=(FloatProgress(value=0.0, max=604.0), HTML(value='')))"
            ]
          },
          "metadata": {
            "tags": []
          }
        },
        {
          "output_type": "stream",
          "text": [
            "\n",
            "      Recall@100 : 0.35006 \n",
            "   Precision@100 : 0.05394 \n",
            "         MAP@100 : 0.04932 \n",
            "         MRR@100 : 0.21889 \n",
            "        nDCG@100 : 0.19187\n"
          ],
          "name": "stdout"
        }
      ]
    },
    {
      "cell_type": "markdown",
      "metadata": {
        "id": "0bB91ASHrnHY"
      },
      "source": [
        "## 2. Multinomial"
      ]
    },
    {
      "cell_type": "code",
      "metadata": {
        "colab": {
          "base_uri": "https://localhost:8080/"
        },
        "id": "XMU7a_AjrnOv",
        "outputId": "25874ef3-b1d2-432a-add0-7126f61eb0b6"
      },
      "source": [
        "model = NADE(n_item, latent_dim = 256, likelihood = 'multinomial')\r\n",
        "model.compile(optimizer = Adam(lr = 1e-4), loss = multinomial)\r\n",
        "\r\n",
        "model.summary()"
      ],
      "execution_count": 24,
      "outputs": [
        {
          "output_type": "stream",
          "text": [
            "Model: \"nade_1\"\n",
            "_________________________________________________________________\n",
            "Layer (type)                 Output Shape              Param #   \n",
            "=================================================================\n",
            "encoder_1 (Encoder)          (None, 3706, 256)         948736    \n",
            "_________________________________________________________________\n",
            "decoder_1 (Decoder)          (None, 3706)              952442    \n",
            "=================================================================\n",
            "Total params: 1,901,178\n",
            "Trainable params: 1,901,178\n",
            "Non-trainable params: 0\n",
            "_________________________________________________________________\n"
          ],
          "name": "stdout"
        }
      ]
    },
    {
      "cell_type": "code",
      "metadata": {
        "colab": {
          "base_uri": "https://localhost:8080/",
          "height": 1000
        },
        "id": "wVZQCkVcrnOz",
        "outputId": "49a66610-429f-4c32-887f-c886aaf6b63b"
      },
      "source": [
        "%%time\r\n",
        "early_stopping = EarlyStopping(monitor = 'val_ndcg', mode = 'max', verbose = 1, patience = epochs // 5)\r\n",
        "model_checkpoint = ModelCheckpoint('mult-NADE-CF.h5', monitor = 'val_ndcg', mode = 'max', save_best_only = True)\r\n",
        "\r\n",
        "hist = model.fit(x = train_gen, validation_data = valid_gen, epochs = epochs,\r\n",
        "                 steps_per_epoch = steps_per_epoch, validation_steps = validation_steps, \r\n",
        "                 verbose = 1, callbacks = [early_stopping, model_checkpoint])\r\n",
        "show_history(hist, 'loss', 'ndcg')"
      ],
      "execution_count": 25,
      "outputs": [
        {
          "output_type": "stream",
          "text": [
            "Epoch 1/100\n",
            "38/38 [==============================] - 6s 157ms/step - loss: 768.0152 - val_ndcg: 0.0900\n",
            "Epoch 2/100\n",
            "38/38 [==============================] - 6s 154ms/step - loss: 730.5489 - val_ndcg: 0.1139\n",
            "Epoch 3/100\n",
            "38/38 [==============================] - 6s 154ms/step - loss: 710.6059 - val_ndcg: 0.1290\n",
            "Epoch 4/100\n",
            "38/38 [==============================] - 6s 154ms/step - loss: 697.8722 - val_ndcg: 0.1340\n",
            "Epoch 5/100\n",
            "38/38 [==============================] - 6s 154ms/step - loss: 703.5203 - val_ndcg: 0.1350\n",
            "Epoch 6/100\n",
            "38/38 [==============================] - 6s 154ms/step - loss: 688.8900 - val_ndcg: 0.1610\n",
            "Epoch 7/100\n",
            "38/38 [==============================] - 6s 157ms/step - loss: 693.5176 - val_ndcg: 0.1546\n",
            "Epoch 8/100\n",
            "38/38 [==============================] - 6s 154ms/step - loss: 700.5817 - val_ndcg: 0.1531\n",
            "Epoch 9/100\n",
            "38/38 [==============================] - 6s 155ms/step - loss: 697.7477 - val_ndcg: 0.1482\n",
            "Epoch 10/100\n",
            "38/38 [==============================] - 6s 154ms/step - loss: 696.0366 - val_ndcg: 0.1417\n",
            "Epoch 11/100\n",
            "38/38 [==============================] - 6s 154ms/step - loss: 697.3469 - val_ndcg: 0.1537\n",
            "Epoch 12/100\n",
            "38/38 [==============================] - 6s 154ms/step - loss: 693.7525 - val_ndcg: 0.1475\n",
            "Epoch 13/100\n",
            "38/38 [==============================] - 6s 154ms/step - loss: 696.5686 - val_ndcg: 0.1359\n",
            "Epoch 14/100\n",
            "38/38 [==============================] - 6s 154ms/step - loss: 700.3203 - val_ndcg: 0.1331\n",
            "Epoch 15/100\n",
            "38/38 [==============================] - 6s 153ms/step - loss: 690.8731 - val_ndcg: 0.1517\n",
            "Epoch 16/100\n",
            "38/38 [==============================] - 6s 154ms/step - loss: 686.8125 - val_ndcg: 0.1406\n",
            "Epoch 17/100\n",
            "38/38 [==============================] - 6s 155ms/step - loss: 685.6095 - val_ndcg: 0.1636\n",
            "Epoch 18/100\n",
            "38/38 [==============================] - 6s 154ms/step - loss: 689.9434 - val_ndcg: 0.1418\n",
            "Epoch 19/100\n",
            "38/38 [==============================] - 6s 154ms/step - loss: 693.2881 - val_ndcg: 0.1628\n",
            "Epoch 20/100\n",
            "38/38 [==============================] - 6s 155ms/step - loss: 684.2415 - val_ndcg: 0.1487\n",
            "Epoch 21/100\n",
            "38/38 [==============================] - 6s 154ms/step - loss: 688.6358 - val_ndcg: 0.1492\n",
            "Epoch 22/100\n",
            "38/38 [==============================] - 6s 154ms/step - loss: 687.7422 - val_ndcg: 0.1546\n",
            "Epoch 23/100\n",
            "38/38 [==============================] - 6s 154ms/step - loss: 684.9156 - val_ndcg: 0.1601\n",
            "Epoch 24/100\n",
            "38/38 [==============================] - 6s 154ms/step - loss: 680.2334 - val_ndcg: 0.1589\n",
            "Epoch 25/100\n",
            "38/38 [==============================] - 6s 157ms/step - loss: 684.4926 - val_ndcg: 0.1645\n",
            "Epoch 26/100\n",
            "38/38 [==============================] - 6s 154ms/step - loss: 678.1012 - val_ndcg: 0.1580\n",
            "Epoch 27/100\n",
            "38/38 [==============================] - 6s 154ms/step - loss: 681.4152 - val_ndcg: 0.1651\n",
            "Epoch 28/100\n",
            "38/38 [==============================] - 6s 154ms/step - loss: 676.6204 - val_ndcg: 0.1385\n",
            "Epoch 29/100\n",
            "38/38 [==============================] - 6s 153ms/step - loss: 678.8749 - val_ndcg: 0.1478\n",
            "Epoch 30/100\n",
            "38/38 [==============================] - 6s 154ms/step - loss: 674.6748 - val_ndcg: 0.1633\n",
            "Epoch 31/100\n",
            "38/38 [==============================] - 6s 154ms/step - loss: 676.3364 - val_ndcg: 0.1730\n",
            "Epoch 32/100\n",
            "38/38 [==============================] - 6s 154ms/step - loss: 671.6476 - val_ndcg: 0.1346\n",
            "Epoch 33/100\n",
            "38/38 [==============================] - 6s 154ms/step - loss: 673.8775 - val_ndcg: 0.1491\n",
            "Epoch 34/100\n",
            "38/38 [==============================] - 6s 155ms/step - loss: 675.1299 - val_ndcg: 0.1775\n",
            "Epoch 35/100\n",
            "38/38 [==============================] - 6s 154ms/step - loss: 670.9230 - val_ndcg: 0.1748\n",
            "Epoch 36/100\n",
            "38/38 [==============================] - 6s 154ms/step - loss: 675.4945 - val_ndcg: 0.1632\n",
            "Epoch 37/100\n",
            "38/38 [==============================] - 6s 155ms/step - loss: 668.6983 - val_ndcg: 0.1625\n",
            "Epoch 38/100\n",
            "38/38 [==============================] - 6s 154ms/step - loss: 677.6058 - val_ndcg: 0.1768\n",
            "Epoch 39/100\n",
            "38/38 [==============================] - 6s 153ms/step - loss: 662.8358 - val_ndcg: 0.1775\n",
            "Epoch 40/100\n",
            "38/38 [==============================] - 6s 154ms/step - loss: 682.0251 - val_ndcg: 0.1656\n",
            "Epoch 41/100\n",
            "38/38 [==============================] - 6s 154ms/step - loss: 665.9118 - val_ndcg: 0.1791\n",
            "Epoch 42/100\n",
            "38/38 [==============================] - 6s 154ms/step - loss: 669.8043 - val_ndcg: 0.1616\n",
            "Epoch 43/100\n",
            "38/38 [==============================] - 6s 155ms/step - loss: 669.2010 - val_ndcg: 0.1731\n",
            "Epoch 44/100\n",
            "38/38 [==============================] - 6s 157ms/step - loss: 662.2617 - val_ndcg: 0.1655\n",
            "Epoch 45/100\n",
            "38/38 [==============================] - 6s 154ms/step - loss: 663.4209 - val_ndcg: 0.1631\n",
            "Epoch 46/100\n",
            "38/38 [==============================] - 6s 154ms/step - loss: 674.2023 - val_ndcg: 0.1771\n",
            "Epoch 47/100\n",
            "38/38 [==============================] - 6s 154ms/step - loss: 662.6279 - val_ndcg: 0.1763\n",
            "Epoch 48/100\n",
            "38/38 [==============================] - 6s 154ms/step - loss: 665.1552 - val_ndcg: 0.1670\n",
            "Epoch 49/100\n",
            "38/38 [==============================] - 6s 155ms/step - loss: 659.4077 - val_ndcg: 0.1537\n",
            "Epoch 50/100\n",
            "38/38 [==============================] - 6s 155ms/step - loss: 661.7720 - val_ndcg: 0.1441\n",
            "Epoch 51/100\n",
            "38/38 [==============================] - 6s 154ms/step - loss: 660.8852 - val_ndcg: 0.1619\n",
            "Epoch 52/100\n",
            "38/38 [==============================] - 6s 155ms/step - loss: 662.8141 - val_ndcg: 0.1912\n",
            "Epoch 53/100\n",
            "38/38 [==============================] - 6s 154ms/step - loss: 665.3347 - val_ndcg: 0.1675\n",
            "Epoch 54/100\n",
            "38/38 [==============================] - 6s 154ms/step - loss: 659.0980 - val_ndcg: 0.1781\n",
            "Epoch 55/100\n",
            "38/38 [==============================] - 6s 154ms/step - loss: 659.8811 - val_ndcg: 0.1947\n",
            "Epoch 56/100\n",
            "38/38 [==============================] - 6s 154ms/step - loss: 667.2930 - val_ndcg: 0.1529\n",
            "Epoch 57/100\n",
            "38/38 [==============================] - 6s 154ms/step - loss: 660.4504 - val_ndcg: 0.1743\n",
            "Epoch 58/100\n",
            "38/38 [==============================] - 6s 154ms/step - loss: 658.4382 - val_ndcg: 0.1741\n",
            "Epoch 59/100\n",
            "38/38 [==============================] - 6s 155ms/step - loss: 657.6028 - val_ndcg: 0.1633\n",
            "Epoch 60/100\n",
            "38/38 [==============================] - 6s 154ms/step - loss: 659.5257 - val_ndcg: 0.1810\n",
            "Epoch 61/100\n",
            "38/38 [==============================] - 6s 155ms/step - loss: 659.2927 - val_ndcg: 0.1795\n",
            "Epoch 62/100\n",
            "38/38 [==============================] - 6s 155ms/step - loss: 656.3065 - val_ndcg: 0.1757\n",
            "Epoch 63/100\n",
            "38/38 [==============================] - 6s 158ms/step - loss: 666.4012 - val_ndcg: 0.1712\n",
            "Epoch 64/100\n",
            "38/38 [==============================] - 6s 155ms/step - loss: 653.0677 - val_ndcg: 0.1850\n",
            "Epoch 65/100\n",
            "38/38 [==============================] - 6s 155ms/step - loss: 654.3431 - val_ndcg: 0.1744\n",
            "Epoch 66/100\n",
            "38/38 [==============================] - 6s 156ms/step - loss: 657.1117 - val_ndcg: 0.1767\n",
            "Epoch 67/100\n",
            "38/38 [==============================] - 6s 155ms/step - loss: 653.2043 - val_ndcg: 0.1749\n",
            "Epoch 68/100\n",
            "38/38 [==============================] - 6s 155ms/step - loss: 659.3682 - val_ndcg: 0.1784\n",
            "Epoch 69/100\n",
            "38/38 [==============================] - 6s 154ms/step - loss: 653.3728 - val_ndcg: 0.1801\n",
            "Epoch 70/100\n",
            "38/38 [==============================] - 6s 155ms/step - loss: 653.0872 - val_ndcg: 0.1815\n",
            "Epoch 71/100\n",
            "38/38 [==============================] - 6s 154ms/step - loss: 653.3841 - val_ndcg: 0.1825\n",
            "Epoch 72/100\n",
            "38/38 [==============================] - 6s 155ms/step - loss: 664.1051 - val_ndcg: 0.1789\n",
            "Epoch 73/100\n",
            "38/38 [==============================] - 6s 154ms/step - loss: 655.7795 - val_ndcg: 0.1847\n",
            "Epoch 74/100\n",
            "38/38 [==============================] - 6s 155ms/step - loss: 648.0564 - val_ndcg: 0.1744\n",
            "Epoch 75/100\n",
            "38/38 [==============================] - 6s 155ms/step - loss: 658.4414 - val_ndcg: 0.1892\n",
            "Epoch 00075: early stopping\n",
            "CPU times: user 3min 2s, sys: 1min 31s, total: 4min 33s\n",
            "Wall time: 7min 20s\n"
          ],
          "name": "stdout"
        },
        {
          "output_type": "display_data",
          "data": {
            "image/png": "[encoded data removed]",
            "text/plain": [
              "<Figure size 576x432 with 2 Axes>"
            ]
          },
          "metadata": {
            "tags": [],
            "needs_background": "light"
          }
        }
      ]
    },
    {
      "cell_type": "code",
      "metadata": {
        "colab": {
          "base_uri": "https://localhost:8080/",
          "height": 195
        },
        "id": "RD78EWrXrnO1",
        "outputId": "0dbd84a2-3bd2-4cad-df48-f5244507b7ae"
      },
      "source": [
        "true = list_agg(test_r)\r\n",
        "true.head(5)"
      ],
      "execution_count": 26,
      "outputs": [
        {
          "output_type": "execute_result",
          "data": {
            "text/html": [
              "<div>\n",
              "<style scoped>\n",
              "    .dataframe tbody tr th:only-of-type {\n",
              "        vertical-align: middle;\n",
              "    }\n",
              "\n",
              "    .dataframe tbody tr th {\n",
              "        vertical-align: top;\n",
              "    }\n",
              "\n",
              "    .dataframe thead th {\n",
              "        text-align: right;\n",
              "    }\n",
              "</style>\n",
              "<table border=\"1\" class=\"dataframe\">\n",
              "  <thead>\n",
              "    <tr style=\"text-align: right;\">\n",
              "      <th></th>\n",
              "      <th>user_id</th>\n",
              "      <th>movie_id</th>\n",
              "    </tr>\n",
              "  </thead>\n",
              "  <tbody>\n",
              "    <tr>\n",
              "      <th>0</th>\n",
              "      <td>2</td>\n",
              "      <td>[177, 179, 183, 84, 4, 198, 199, 207]</td>\n",
              "    </tr>\n",
              "    <tr>\n",
              "      <th>1</th>\n",
              "      <td>8</td>\n",
              "      <td>[59, 438, 93, 123, 463, 525, 30, 288, 534, 322...</td>\n",
              "    </tr>\n",
              "    <tr>\n",
              "      <th>2</th>\n",
              "      <td>41</td>\n",
              "      <td>[175, 182, 563, 184, 1176, 116, 128, 1037, 104...</td>\n",
              "    </tr>\n",
              "    <tr>\n",
              "      <th>3</th>\n",
              "      <td>78</td>\n",
              "      <td>[1258, 305, 500, 2230]</td>\n",
              "    </tr>\n",
              "    <tr>\n",
              "      <th>4</th>\n",
              "      <td>91</td>\n",
              "      <td>[558, 1176, 195, 587, 592, 74, 1904, 186, 647,...</td>\n",
              "    </tr>\n",
              "  </tbody>\n",
              "</table>\n",
              "</div>"
            ],
            "text/plain": [
              "   user_id                                           movie_id\n",
              "0        2              [177, 179, 183, 84, 4, 198, 199, 207]\n",
              "1        8  [59, 438, 93, 123, 463, 525, 30, 288, 534, 322...\n",
              "2       41  [175, 182, 563, 184, 1176, 116, 128, 1037, 104...\n",
              "3       78                             [1258, 305, 500, 2230]\n",
              "4       91  [558, 1176, 195, 587, 592, 74, 1904, 186, 647,..."
            ]
          },
          "metadata": {
            "tags": []
          },
          "execution_count": 26
        }
      ]
    },
    {
      "cell_type": "code",
      "metadata": {
        "colab": {
          "base_uri": "https://localhost:8080/",
          "height": 195
        },
        "id": "hQfVqNQ0rnO2",
        "outputId": "61bb030c-2b2c-41db-a08a-cdf1d3139893"
      },
      "source": [
        "pred = test_predictor(test_q, model, n_item, batch_size, N = 100)\r\n",
        "pred.head(5)"
      ],
      "execution_count": 27,
      "outputs": [
        {
          "output_type": "execute_result",
          "data": {
            "text/html": [
              "<div>\n",
              "<style scoped>\n",
              "    .dataframe tbody tr th:only-of-type {\n",
              "        vertical-align: middle;\n",
              "    }\n",
              "\n",
              "    .dataframe tbody tr th {\n",
              "        vertical-align: top;\n",
              "    }\n",
              "\n",
              "    .dataframe thead th {\n",
              "        text-align: right;\n",
              "    }\n",
              "</style>\n",
              "<table border=\"1\" class=\"dataframe\">\n",
              "  <thead>\n",
              "    <tr style=\"text-align: right;\">\n",
              "      <th></th>\n",
              "      <th>user_id</th>\n",
              "      <th>movie_id</th>\n",
              "    </tr>\n",
              "  </thead>\n",
              "  <tbody>\n",
              "    <tr>\n",
              "      <th>0</th>\n",
              "      <td>2</td>\n",
              "      <td>[132, 48, 38, 97, 128, 92, 23, 51, 134, 189, 2...</td>\n",
              "    </tr>\n",
              "    <tr>\n",
              "      <th>1</th>\n",
              "      <td>8</td>\n",
              "      <td>[184, 134, 244, 315, 524, 499, 788, 831, 171, ...</td>\n",
              "    </tr>\n",
              "    <tr>\n",
              "      <th>2</th>\n",
              "      <td>41</td>\n",
              "      <td>[132, 189, 856, 160, 92, 48, 775, 155, 38, 216...</td>\n",
              "    </tr>\n",
              "    <tr>\n",
              "      <th>3</th>\n",
              "      <td>78</td>\n",
              "      <td>[104, 44, 48, 38, 124, 23, 128, 64, 51, 184, 9...</td>\n",
              "    </tr>\n",
              "    <tr>\n",
              "      <th>4</th>\n",
              "      <td>91</td>\n",
              "      <td>[124, 733, 396, 381, 127, 596, 741, 44, 189, 1...</td>\n",
              "    </tr>\n",
              "  </tbody>\n",
              "</table>\n",
              "</div>"
            ],
            "text/plain": [
              "   user_id                                           movie_id\n",
              "0        2  [132, 48, 38, 97, 128, 92, 23, 51, 134, 189, 2...\n",
              "1        8  [184, 134, 244, 315, 524, 499, 788, 831, 171, ...\n",
              "2       41  [132, 189, 856, 160, 92, 48, 775, 155, 38, 216...\n",
              "3       78  [104, 44, 48, 38, 124, 23, 128, 64, 51, 184, 9...\n",
              "4       91  [124, 733, 396, 381, 127, 596, 741, 44, 189, 1..."
            ]
          },
          "metadata": {
            "tags": []
          },
          "execution_count": 27
        }
      ]
    },
    {
      "cell_type": "code",
      "metadata": {
        "colab": {
          "base_uri": "https://localhost:8080/",
          "height": 292,
          "referenced_widgets": [
            "fd340d732ed84668bb944f1848b31757",
            "7df5dbd3d1864097986989f05cc82d91",
            "70b2f3d760af4c47ba20d024117323f9",
            "fee9f1735bb946ce8b653cba8bd740e9",
            "2a5f577ffe86423a8488deb3b5c9e868",
            "9e5cd1d3ac824385a5d07363601b2849",
            "7605a6d895374669ab5e4fe29ec21974",
            "d077c35753d145be8848d6f9da93e1ec",
            "51800ce0ac6b46a09c995855f6a2e6de",
            "cdca461493c445c58cc39231260b7a68",
            "ad3cb395f4a44a87aef8519f6599cde3",
            "df3564ff460348e4aad6ca9bf923acc0",
            "cc82a5f73315495ea054696ca2c5a7f2",
            "0d2d4a39afc7437c8f56d30196cfd436",
            "2efe70ac611e455eb401ee8fe111425a",
            "4b556b31c30f4520b2b9013d44e0b89f"
          ]
        },
        "id": "OhkjVW6grnO2",
        "outputId": "0718c4c4-0e28-4fe9-a9be-03663c41c06e"
      },
      "source": [
        "scores = evaluate(true, pred)\r\n",
        "\r\n",
        "scores(K = 20)\r\n",
        "scores.print_all()\r\n",
        "\r\n",
        "scores(K = 100)\r\n",
        "scores.print_all()"
      ],
      "execution_count": 28,
      "outputs": [
        {
          "output_type": "display_data",
          "data": {
            "application/vnd.jupyter.widget-view+json": {
              "model_id": "fd340d732ed84668bb944f1848b31757",
              "version_minor": 0,
              "version_major": 2
            },
            "text/plain": [
              "HBox(children=(FloatProgress(value=0.0, max=604.0), HTML(value='')))"
            ]
          },
          "metadata": {
            "tags": []
          }
        },
        {
          "output_type": "stream",
          "text": [
            "\n",
            "      Recall@20 : 0.11552 \n",
            "   Precision@20 : 0.07343 \n",
            "         MAP@20 : 0.03498 \n",
            "         MRR@20 : 0.20242 \n",
            "        nDCG@20 : 0.09919\n"
          ],
          "name": "stdout"
        },
        {
          "output_type": "display_data",
          "data": {
            "application/vnd.jupyter.widget-view+json": {
              "model_id": "51800ce0ac6b46a09c995855f6a2e6de",
              "version_minor": 0,
              "version_major": 2
            },
            "text/plain": [
              "HBox(children=(FloatProgress(value=0.0, max=604.0), HTML(value='')))"
            ]
          },
          "metadata": {
            "tags": []
          }
        },
        {
          "output_type": "stream",
          "text": [
            "\n",
            "      Recall@100 : 0.32731 \n",
            "   Precision@100 : 0.05232 \n",
            "         MAP@100 : 0.04605 \n",
            "         MRR@100 : 0.21031 \n",
            "        nDCG@100 : 0.18106\n"
          ],
          "name": "stdout"
        }
      ]
    }
  ]
}